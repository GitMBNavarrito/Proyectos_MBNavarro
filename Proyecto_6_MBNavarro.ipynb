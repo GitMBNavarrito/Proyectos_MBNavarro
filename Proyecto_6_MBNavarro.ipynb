{
 "cells": [
  {
   "cell_type": "markdown",
   "metadata": {},
   "source": [
    "\n",
    "# Hola María Belén! <a class=\"tocSkip\"></a>\n",
    "\n",
    "Mi nombre es Oscar Flores y tengo el gusto de revisar tu proyecto. Si tienes algún comentario que quieras agregar en tus respuestas te puedes referir a mi como Oscar, no hay problema que me trates de tú.\n",
    "\n",
    "Si veo un error en la primera revisión solamente lo señalaré y dejaré que tú encuentres de qué se trata y cómo arreglarlo. Debo prepararte para que te desempeñes como especialista en Data, en un trabajo real, el responsable a cargo tuyo hará lo mismo. Si aún tienes dificultades para resolver esta tarea, te daré indicaciones más precisas en una siguiente iteración.\n",
    "\n",
    "Te dejaré mis comentarios más abajo - **por favor, no los muevas, modifiques o borres**\n",
    "\n",
    "Comenzaré mis comentarios con un resumen de los puntos que están bien, aquellos que debes corregir y aquellos que puedes mejorar. Luego deberás revisar todo el notebook para leer mis comentarios, los cuales estarán en rectángulos de color verde, amarillo o rojo como siguen:\n",
    "\n",
    "<div class=\"alert alert-block alert-success\">\n",
    "<b>Comentario de Reviewer</b> <a class=\"tocSkip\"></a>\n",
    "    \n",
    "Muy bien! Toda la respuesta fue lograda satisfactoriamente.\n",
    "</div>\n",
    "\n",
    "<div class=\"alert alert-block alert-warning\">\n",
    "<b>Comentario de Reviewer</b> <a class=\"tocSkip\"></a>\n",
    "\n",
    "Existen detalles a mejorar. Existen recomendaciones.\n",
    "</div>\n",
    "\n",
    "<div class=\"alert alert-block alert-danger\">\n",
    "\n",
    "<b>Comentario de Reviewer</b> <a class=\"tocSkip\"></a>\n",
    "\n",
    "Se necesitan correcciones en el bloque. El trabajo no puede ser aceptado con comentarios en rojo sin solucionar.\n",
    "</div>\n",
    "\n",
    "Cualquier comentario que quieras agregar entre iteraciones de revisión lo puedes hacer de la siguiente manera:\n",
    "\n",
    "<div class=\"alert alert-block alert-info\">\n",
    "<b>Respuesta estudiante.</b> <a class=\"tocSkip\"></a>\n",
    "</div>\n",
    "\n",
    "Mucho éxito en el proyecto!"
   ]
  },
  {
   "cell_type": "markdown",
   "metadata": {},
   "source": [
    "## Resumen de la revisión 1 <a class=\"tocSkip\"></a>"
   ]
  },
  {
   "cell_type": "markdown",
   "metadata": {},
   "source": [
    "<div class=\"alert alert-block alert-danger\">\n",
    "<b>Comentario de Revisor</b> <a class=\"tocSkip\"></a>\n",
    "\n",
    "Buen trabajo María Belén. En general tu notebook está correcto, pero hay algunas modificaciones y correcciones que debes hacer antes de tener el notebook completo y sin errores. Te dejé indicaciones de cómo corregirlos, revísalas y realiza las modificaciones necesarias.\n",
    "    \n",
    "Saludos!    \n",
    "\n",
    "</div>"
   ]
  },
  {
   "cell_type": "markdown",
   "metadata": {},
   "source": [
    "## Resumen de la revisión 2 <a class=\"tocSkip\"></a>"
   ]
  },
  {
   "cell_type": "markdown",
   "metadata": {},
   "source": [
    "<div class=\"alert alert-block alert-danger\">\n",
    "<b>Comentario de Revisor v2</b> <a class=\"tocSkip\"></a>\n",
    "\n",
    "Bien hecho María Belén, se atendieron los comentarios que dejé en la iteración anterior. El filtro de años que realizaste (solo usar data de 2013 en adelante) está bien, pero lo aplicas a un dataframe que ya tiene la información agrupada. En realidad, debes aplicarlo a la data completa, con ello reliza los análisis requeridos con la data por juego o agrupada según el nivel que se necesite. Te dejé comentarios con rojo (Comentario de Revisor v2) para que corrijas esas partes.\n",
    "    \n",
    "Saludos!    \n",
    "\n",
    "</div>"
   ]
  },
  {
   "cell_type": "markdown",
   "metadata": {},
   "source": [
    "## Resumen de la revisión 3 <a class=\"tocSkip\"></a>"
   ]
  },
  {
   "cell_type": "markdown",
   "metadata": {},
   "source": [
    "<div class=\"alert alert-block alert-danger\">\n",
    "<b>Comentario de Revisor v3</b> <a class=\"tocSkip\"></a>\n",
    "\n",
    "Muy bien María Belén, veo que se corrigió el uso de la data para la mayor parte de los puntos que señalé en la revisión anterior. Sin embargo, aún hay varias celdas que no compilan y que requieren revisión. Revisa mis comentarios.\n",
    "    \n",
    "Saludos!    \n",
    "\n",
    "</div>"
   ]
  },
  {
   "cell_type": "markdown",
   "metadata": {},
   "source": [
    "## Resumen de la revisión 4 <a class=\"tocSkip\"></a>"
   ]
  },
  {
   "cell_type": "markdown",
   "metadata": {},
   "source": [
    "<div class=\"alert alert-block alert-success\">\n",
    "<b>Comentario de Revisor v</b> <a class=\"tocSkip\"></a>\n",
    "\n",
    "Bien hecho María Belén, has completado correctamente todo lo necesario del notebook. No tengo comentarios de corrección adicionales, está aprobado.\n",
    "\n",
    "Saludos!\n",
    "\n",
    "</div>"
   ]
  },
  {
   "cell_type": "markdown",
   "metadata": {},
   "source": [
    "---"
   ]
  },
  {
   "cell_type": "markdown",
   "metadata": {
    "tags": [
     "e5c1f0c2-db9f-43a0-99b9-4875c52427e8"
    ]
   },
   "source": [
    "# Proyecto Video Juegos - Ma. Belén Navarro"
   ]
  },
  {
   "cell_type": "markdown",
   "metadata": {},
   "source": [
    "# Contenido \n",
    "\n",
    "* [Análisis de la Estructura de la Data Proporcionada](#analisis-de-la-estructura-de-la-data-proporcionada)\n",
    "* [Preparación de los Datos](#preparacion-de-los-datos)\n",
    "    * [Nombres de las Columnas](#nombres-de-las-columnas)\n",
    "    * [Tipos de Datos Necesarios](#tipos-de-datos-necesarios)\n",
    "    * [Valores Ausentes](#valores-ausentes)\n",
    "* [Análisis de la Información que Proporcionan los Datos](#analisis-de-la-informacion-que-proporcionan-los-datos)\n",
    "    * [Ventas Totales](#ventas-totales)\n",
    "    * [Juegos Por Año](#juegos-por-ano)\n",
    "    * [Ventas por Plataforma](#ventas-por-plataforma)\n",
    "    * [Forecasting 2017](#forecasting-2017)\n",
    "    * [Plataformas Líderes de Ventas](#plataformas-lideres-de-ventas)\n",
    "    * [Comportamiento de las Ventas](#comportamiento-de-las-ventas)\n",
    "    * [Correlación entre Variables](#correlacion-entre-variables)\n",
    "    * [Análisis por Género](#analisis-por-genero)\n",
    "* [Buyer Persona](#buyer-persona)\n",
    "    * [Perfil del Cliente Ideal](#perfil-del-cliente-ideal)\n",
    "    * [Plataformas Ideales](#plataformas-ideales)\n",
    "    * [Géneros Ideales](#generos-ideales)\n",
    "    * [Clasificación ESRB y su Afectación](#clasificacion-esrb-y-su-afectacion)\n",
    "* [Probar Hipótesis](#probar-hipotesis)\n",
    "    * [Calificación por Plataforma](#calificacion-por-plataforma)\n",
    "    * [Calificación por Género](#calificacion-por-genero)\n",
    "    * [Hipótesis Nula y Alternativa](#hipotesis-nula-y-alternativa)\n",
    "* [Conclusión General](#conclusion-general)"
   ]
  },
  {
   "cell_type": "markdown",
   "metadata": {},
   "source": [
    "Realizaremos un **análisis de la estructura** de los datos, para conocer, los nombres de la columnas, sus cantidades y que tipos de datos contienen. Posteriormente **prepararemos** los datos, limpiando la calidad de los mismos, así como requeriremos conocer, si existen datos ausente y solucionar los problemas de la data detectados. Una vez con la información lista, procederemos a realizar distintos **análisis**, sean estos utilizados agrupaciones o gráficas, que nos permitan tener insigth de la situación de la información proporcionada. Construiremos un Buyer Persona, el **perfil del cliente ideal**, de esta empresa y sus principlaes insigths. Finalmente analizaremos 2 **hipótesis** determinando el test que corresponda."
   ]
  },
  {
   "cell_type": "markdown",
   "metadata": {},
   "source": [
    "## Análisis de la Estructura de la Data Proporcionada"
   ]
  },
  {
   "cell_type": "code",
   "execution_count": 1,
   "metadata": {
    "trusted": false
   },
   "outputs": [],
   "source": [
    "import pandas as pd\n",
    "import numpy as np\n",
    "import matplotlib.pyplot as plt\n",
    "import seaborn as sns\n",
    "from scipy import stats as st"
   ]
  },
  {
   "cell_type": "code",
   "execution_count": 2,
   "metadata": {
    "trusted": false
   },
   "outputs": [],
   "source": [
    "video_juegos = pd.read_csv('/datasets/games.csv')"
   ]
  },
  {
   "cell_type": "code",
   "execution_count": 3,
   "metadata": {
    "trusted": false
   },
   "outputs": [
    {
     "name": "stdout",
     "output_type": "stream",
     "text": [
      "<class 'pandas.core.frame.DataFrame'>\n",
      "RangeIndex: 16715 entries, 0 to 16714\n",
      "Data columns (total 11 columns):\n",
      " #   Column           Non-Null Count  Dtype  \n",
      "---  ------           --------------  -----  \n",
      " 0   Name             16713 non-null  object \n",
      " 1   Platform         16715 non-null  object \n",
      " 2   Year_of_Release  16446 non-null  float64\n",
      " 3   Genre            16713 non-null  object \n",
      " 4   NA_sales         16715 non-null  float64\n",
      " 5   EU_sales         16715 non-null  float64\n",
      " 6   JP_sales         16715 non-null  float64\n",
      " 7   Other_sales      16715 non-null  float64\n",
      " 8   Critic_Score     8137 non-null   float64\n",
      " 9   User_Score       10014 non-null  object \n",
      " 10  Rating           9949 non-null   object \n",
      "dtypes: float64(6), object(5)\n",
      "memory usage: 1.4+ MB\n"
     ]
    }
   ],
   "source": [
    "video_juegos.info()"
   ]
  },
  {
   "cell_type": "code",
   "execution_count": 4,
   "metadata": {
    "trusted": false
   },
   "outputs": [
    {
     "data": {
      "text/html": [
       "<div>\n",
       "<style scoped>\n",
       "    .dataframe tbody tr th:only-of-type {\n",
       "        vertical-align: middle;\n",
       "    }\n",
       "\n",
       "    .dataframe tbody tr th {\n",
       "        vertical-align: top;\n",
       "    }\n",
       "\n",
       "    .dataframe thead th {\n",
       "        text-align: right;\n",
       "    }\n",
       "</style>\n",
       "<table border=\"1\" class=\"dataframe\">\n",
       "  <thead>\n",
       "    <tr style=\"text-align: right;\">\n",
       "      <th></th>\n",
       "      <th>Name</th>\n",
       "      <th>Platform</th>\n",
       "      <th>Year_of_Release</th>\n",
       "      <th>Genre</th>\n",
       "      <th>NA_sales</th>\n",
       "      <th>EU_sales</th>\n",
       "      <th>JP_sales</th>\n",
       "      <th>Other_sales</th>\n",
       "      <th>Critic_Score</th>\n",
       "      <th>User_Score</th>\n",
       "      <th>Rating</th>\n",
       "    </tr>\n",
       "  </thead>\n",
       "  <tbody>\n",
       "    <tr>\n",
       "      <th>3346</th>\n",
       "      <td>Half-Life</td>\n",
       "      <td>PS2</td>\n",
       "      <td>2001.0</td>\n",
       "      <td>Shooter</td>\n",
       "      <td>0.29</td>\n",
       "      <td>0.23</td>\n",
       "      <td>0.00</td>\n",
       "      <td>0.08</td>\n",
       "      <td>87.0</td>\n",
       "      <td>8.6</td>\n",
       "      <td>M</td>\n",
       "    </tr>\n",
       "    <tr>\n",
       "      <th>10709</th>\n",
       "      <td>Real Bout Garou Densetsu</td>\n",
       "      <td>SAT</td>\n",
       "      <td>1996.0</td>\n",
       "      <td>Fighting</td>\n",
       "      <td>0.00</td>\n",
       "      <td>0.00</td>\n",
       "      <td>0.10</td>\n",
       "      <td>0.00</td>\n",
       "      <td>NaN</td>\n",
       "      <td>NaN</td>\n",
       "      <td>NaN</td>\n",
       "    </tr>\n",
       "    <tr>\n",
       "      <th>2850</th>\n",
       "      <td>Super Monkey Ball Jr.</td>\n",
       "      <td>GBA</td>\n",
       "      <td>2002.0</td>\n",
       "      <td>Puzzle</td>\n",
       "      <td>0.51</td>\n",
       "      <td>0.19</td>\n",
       "      <td>0.00</td>\n",
       "      <td>0.01</td>\n",
       "      <td>82.0</td>\n",
       "      <td>8.6</td>\n",
       "      <td>E</td>\n",
       "    </tr>\n",
       "    <tr>\n",
       "      <th>1202</th>\n",
       "      <td>Tom Clancy's Rainbow Six 3</td>\n",
       "      <td>XB</td>\n",
       "      <td>2003.0</td>\n",
       "      <td>Shooter</td>\n",
       "      <td>0.91</td>\n",
       "      <td>0.57</td>\n",
       "      <td>0.00</td>\n",
       "      <td>0.07</td>\n",
       "      <td>86.0</td>\n",
       "      <td>8.5</td>\n",
       "      <td>M</td>\n",
       "    </tr>\n",
       "    <tr>\n",
       "      <th>4307</th>\n",
       "      <td>iCarly</td>\n",
       "      <td>Wii</td>\n",
       "      <td>2009.0</td>\n",
       "      <td>Adventure</td>\n",
       "      <td>0.42</td>\n",
       "      <td>0.00</td>\n",
       "      <td>0.00</td>\n",
       "      <td>0.03</td>\n",
       "      <td>NaN</td>\n",
       "      <td>tbd</td>\n",
       "      <td>E</td>\n",
       "    </tr>\n",
       "    <tr>\n",
       "      <th>5392</th>\n",
       "      <td>Off Road Challenge</td>\n",
       "      <td>N64</td>\n",
       "      <td>1998.0</td>\n",
       "      <td>Racing</td>\n",
       "      <td>0.27</td>\n",
       "      <td>0.06</td>\n",
       "      <td>0.00</td>\n",
       "      <td>0.00</td>\n",
       "      <td>NaN</td>\n",
       "      <td>NaN</td>\n",
       "      <td>NaN</td>\n",
       "    </tr>\n",
       "    <tr>\n",
       "      <th>10887</th>\n",
       "      <td>Devil May Cry 4</td>\n",
       "      <td>PS4</td>\n",
       "      <td>2015.0</td>\n",
       "      <td>Action</td>\n",
       "      <td>0.01</td>\n",
       "      <td>0.00</td>\n",
       "      <td>0.08</td>\n",
       "      <td>0.00</td>\n",
       "      <td>NaN</td>\n",
       "      <td>NaN</td>\n",
       "      <td>NaN</td>\n",
       "    </tr>\n",
       "    <tr>\n",
       "      <th>3401</th>\n",
       "      <td>WWE 2K16</td>\n",
       "      <td>XOne</td>\n",
       "      <td>2015.0</td>\n",
       "      <td>Sports</td>\n",
       "      <td>0.32</td>\n",
       "      <td>0.22</td>\n",
       "      <td>0.00</td>\n",
       "      <td>0.05</td>\n",
       "      <td>72.0</td>\n",
       "      <td>5.7</td>\n",
       "      <td>T</td>\n",
       "    </tr>\n",
       "    <tr>\n",
       "      <th>12536</th>\n",
       "      <td>Neon Genesis Evangelion</td>\n",
       "      <td>N64</td>\n",
       "      <td>1999.0</td>\n",
       "      <td>Adventure</td>\n",
       "      <td>0.00</td>\n",
       "      <td>0.00</td>\n",
       "      <td>0.06</td>\n",
       "      <td>0.00</td>\n",
       "      <td>NaN</td>\n",
       "      <td>NaN</td>\n",
       "      <td>NaN</td>\n",
       "    </tr>\n",
       "    <tr>\n",
       "      <th>16411</th>\n",
       "      <td>Conflict: Denied Ops</td>\n",
       "      <td>PC</td>\n",
       "      <td>2008.0</td>\n",
       "      <td>Shooter</td>\n",
       "      <td>0.00</td>\n",
       "      <td>0.01</td>\n",
       "      <td>0.00</td>\n",
       "      <td>0.00</td>\n",
       "      <td>58.0</td>\n",
       "      <td>4.8</td>\n",
       "      <td>M</td>\n",
       "    </tr>\n",
       "  </tbody>\n",
       "</table>\n",
       "</div>"
      ],
      "text/plain": [
       "                             Name Platform  Year_of_Release      Genre  \\\n",
       "3346                    Half-Life      PS2           2001.0    Shooter   \n",
       "10709    Real Bout Garou Densetsu      SAT           1996.0   Fighting   \n",
       "2850        Super Monkey Ball Jr.      GBA           2002.0     Puzzle   \n",
       "1202   Tom Clancy's Rainbow Six 3       XB           2003.0    Shooter   \n",
       "4307                       iCarly      Wii           2009.0  Adventure   \n",
       "5392           Off Road Challenge      N64           1998.0     Racing   \n",
       "10887             Devil May Cry 4      PS4           2015.0     Action   \n",
       "3401                     WWE 2K16     XOne           2015.0     Sports   \n",
       "12536     Neon Genesis Evangelion      N64           1999.0  Adventure   \n",
       "16411        Conflict: Denied Ops       PC           2008.0    Shooter   \n",
       "\n",
       "       NA_sales  EU_sales  JP_sales  Other_sales  Critic_Score User_Score  \\\n",
       "3346       0.29      0.23      0.00         0.08          87.0        8.6   \n",
       "10709      0.00      0.00      0.10         0.00           NaN        NaN   \n",
       "2850       0.51      0.19      0.00         0.01          82.0        8.6   \n",
       "1202       0.91      0.57      0.00         0.07          86.0        8.5   \n",
       "4307       0.42      0.00      0.00         0.03           NaN        tbd   \n",
       "5392       0.27      0.06      0.00         0.00           NaN        NaN   \n",
       "10887      0.01      0.00      0.08         0.00           NaN        NaN   \n",
       "3401       0.32      0.22      0.00         0.05          72.0        5.7   \n",
       "12536      0.00      0.00      0.06         0.00           NaN        NaN   \n",
       "16411      0.00      0.01      0.00         0.00          58.0        4.8   \n",
       "\n",
       "      Rating  \n",
       "3346       M  \n",
       "10709    NaN  \n",
       "2850       E  \n",
       "1202       M  \n",
       "4307       E  \n",
       "5392     NaN  \n",
       "10887    NaN  \n",
       "3401       T  \n",
       "12536    NaN  \n",
       "16411      M  "
      ]
     },
     "execution_count": 4,
     "metadata": {},
     "output_type": "execute_result"
    }
   ],
   "source": [
    "video_juegos.sample(10)"
   ]
  },
  {
   "cell_type": "code",
   "execution_count": 5,
   "metadata": {
    "trusted": false
   },
   "outputs": [
    {
     "data": {
      "text/plain": [
       "Name                  2\n",
       "Platform              0\n",
       "Year_of_Release     269\n",
       "Genre                 2\n",
       "NA_sales              0\n",
       "EU_sales              0\n",
       "JP_sales              0\n",
       "Other_sales           0\n",
       "Critic_Score       8578\n",
       "User_Score         6701\n",
       "Rating             6766\n",
       "dtype: int64"
      ]
     },
     "execution_count": 5,
     "metadata": {},
     "output_type": "execute_result"
    }
   ],
   "source": [
    "video_juegos.isna().sum()"
   ]
  },
  {
   "cell_type": "code",
   "execution_count": 6,
   "metadata": {
    "trusted": false
   },
   "outputs": [
    {
     "name": "stdout",
     "output_type": "stream",
     "text": [
      "0\n"
     ]
    }
   ],
   "source": [
    "print(video_juegos.duplicated().sum())"
   ]
  },
  {
   "cell_type": "markdown",
   "metadata": {},
   "source": [
    "Una vez cargada las librerías que utilizaremos, procedimos a cargar los datos que se encontraban en **formato CSV**, así analizamos la estructura de los datos con el métoto **(.info)**, donde encontramos que existe un formato de los nombres de las columnas no estandarizado, pues unos llevan mayúsculas y otros no. Vemos la calidad de los datos utilizando una muestra aleatoria con el método **(.sample)** donde podemos ver que datos son los que debemos trabajar como enteros, que están flotantes; así como datos que los vamos a necesitar como números, están como object. Así también podemos conocer la catalogación que se ha hecho al campo (rating). Utilizando los métodod **(.isna)** y **(.duplicated)** para conocer los campos que tienen datos ausentes y si existen datos duplicados explícitos."
   ]
  },
  {
   "cell_type": "markdown",
   "metadata": {},
   "source": [
    "<div class=\"alert alert-block alert-success\">\n",
    "<b>Comentario de Revisor</b> <a class=\"tocSkip\"></a>\n",
    "\n",
    "Ok, correcta la revisión inicial de la data\n",
    "\n",
    "</div>"
   ]
  },
  {
   "cell_type": "markdown",
   "metadata": {},
   "source": [
    "## Preparación de los Datos"
   ]
  },
  {
   "cell_type": "markdown",
   "metadata": {},
   "source": [
    "### Nombres de las Columnas"
   ]
  },
  {
   "cell_type": "code",
   "execution_count": 7,
   "metadata": {
    "trusted": false
   },
   "outputs": [
    {
     "data": {
      "text/plain": [
       "Index(['Name', 'Platform', 'Year_of_Release', 'Genre', 'NA_sales', 'EU_sales',\n",
       "       'JP_sales', 'Other_sales', 'Critic_Score', 'User_Score', 'Rating'],\n",
       "      dtype='object')"
      ]
     },
     "execution_count": 7,
     "metadata": {},
     "output_type": "execute_result"
    }
   ],
   "source": [
    "video_juegos.columns"
   ]
  },
  {
   "cell_type": "code",
   "execution_count": 8,
   "metadata": {
    "trusted": false
   },
   "outputs": [
    {
     "data": {
      "text/plain": [
       "Index(['name', 'platform', 'year_of_release', 'genre', 'na_sales', 'eu_sales',\n",
       "       'jp_sales', 'other_sales', 'critic_score', 'user_score', 'rating'],\n",
       "      dtype='object')"
      ]
     },
     "execution_count": 8,
     "metadata": {},
     "output_type": "execute_result"
    }
   ],
   "source": [
    "new_columns = []\n",
    "for columns in video_juegos.columns:\n",
    "  new_columns.append(columns.lower())\n",
    "video_juegos.columns = new_columns\n",
    "video_juegos.columns"
   ]
  },
  {
   "cell_type": "markdown",
   "metadata": {},
   "source": [
    "Procedimos a extraer los nombres de las columnas, utilizando el método **(.columns)**. Al encontrar que los formatos de los títulos de las columnas no estaban estadarizados, procedimos a transformar todos los nombres de las columnas a textos con minúsculas, utilizando el metodo **(.lower)** dentro de un bucle **for**, para poder reemplazar los nombres, se utilizó una nueva **lista vacía**, que se llena con los datos cambiados dentro del bucle for. De la misma manera con el método **(.column)** procedimos a confirmar que los cambios se hayan realizado."
   ]
  },
  {
   "cell_type": "markdown",
   "metadata": {},
   "source": [
    "<div class=\"alert alert-block alert-success\">\n",
    "<b>Comentario de Revisor</b> <a class=\"tocSkip\"></a>\n",
    "\n",
    "Bien, se aprecia el uso de snakecase\n",
    "\n",
    "</div>"
   ]
  },
  {
   "cell_type": "markdown",
   "metadata": {},
   "source": [
    "### Tipos de Datos Necesarios"
   ]
  },
  {
   "cell_type": "code",
   "execution_count": 9,
   "metadata": {
    "trusted": false
   },
   "outputs": [
    {
     "name": "stdout",
     "output_type": "stream",
     "text": [
      "<class 'pandas.core.frame.DataFrame'>\n",
      "RangeIndex: 16715 entries, 0 to 16714\n",
      "Data columns (total 11 columns):\n",
      " #   Column           Non-Null Count  Dtype  \n",
      "---  ------           --------------  -----  \n",
      " 0   name             16713 non-null  object \n",
      " 1   platform         16715 non-null  object \n",
      " 2   year_of_release  16446 non-null  Int64  \n",
      " 3   genre            16713 non-null  object \n",
      " 4   na_sales         16715 non-null  float64\n",
      " 5   eu_sales         16715 non-null  float64\n",
      " 6   jp_sales         16715 non-null  float64\n",
      " 7   other_sales      16715 non-null  float64\n",
      " 8   critic_score     8137 non-null   float64\n",
      " 9   user_score       7590 non-null   float64\n",
      " 10  rating           9949 non-null   object \n",
      "dtypes: Int64(1), float64(6), object(4)\n",
      "memory usage: 1.4+ MB\n"
     ]
    }
   ],
   "source": [
    "video_juegos['year_of_release'] = pd.to_datetime(video_juegos['year_of_release'], format='%Y', errors='coerce')\n",
    "video_juegos['year_of_release'] = video_juegos['year_of_release'].dt.year.astype('Int64')\n",
    "video_juegos['user_score'] = pd.to_numeric(video_juegos['user_score'], errors='coerce')\n",
    "video_juegos.info()"
   ]
  },
  {
   "cell_type": "code",
   "execution_count": 10,
   "metadata": {
    "trusted": false
   },
   "outputs": [
    {
     "data": {
      "text/html": [
       "<div>\n",
       "<style scoped>\n",
       "    .dataframe tbody tr th:only-of-type {\n",
       "        vertical-align: middle;\n",
       "    }\n",
       "\n",
       "    .dataframe tbody tr th {\n",
       "        vertical-align: top;\n",
       "    }\n",
       "\n",
       "    .dataframe thead th {\n",
       "        text-align: right;\n",
       "    }\n",
       "</style>\n",
       "<table border=\"1\" class=\"dataframe\">\n",
       "  <thead>\n",
       "    <tr style=\"text-align: right;\">\n",
       "      <th></th>\n",
       "      <th>name</th>\n",
       "      <th>platform</th>\n",
       "      <th>year_of_release</th>\n",
       "      <th>genre</th>\n",
       "      <th>na_sales</th>\n",
       "      <th>eu_sales</th>\n",
       "      <th>jp_sales</th>\n",
       "      <th>other_sales</th>\n",
       "      <th>critic_score</th>\n",
       "      <th>user_score</th>\n",
       "      <th>rating</th>\n",
       "    </tr>\n",
       "  </thead>\n",
       "  <tbody>\n",
       "    <tr>\n",
       "      <th>2265</th>\n",
       "      <td>Kung Fu Panda</td>\n",
       "      <td>Wii</td>\n",
       "      <td>2008</td>\n",
       "      <td>Action</td>\n",
       "      <td>0.50</td>\n",
       "      <td>0.32</td>\n",
       "      <td>0.00</td>\n",
       "      <td>0.09</td>\n",
       "      <td>70.0</td>\n",
       "      <td>6.7</td>\n",
       "      <td>E10+</td>\n",
       "    </tr>\n",
       "    <tr>\n",
       "      <th>2441</th>\n",
       "      <td>Ninja Gaiden Sigma 2</td>\n",
       "      <td>PS3</td>\n",
       "      <td>2009</td>\n",
       "      <td>Action</td>\n",
       "      <td>0.52</td>\n",
       "      <td>0.16</td>\n",
       "      <td>0.08</td>\n",
       "      <td>0.10</td>\n",
       "      <td>83.0</td>\n",
       "      <td>7.7</td>\n",
       "      <td>M</td>\n",
       "    </tr>\n",
       "    <tr>\n",
       "      <th>4732</th>\n",
       "      <td>Up</td>\n",
       "      <td>PSP</td>\n",
       "      <td>2009</td>\n",
       "      <td>Action</td>\n",
       "      <td>0.24</td>\n",
       "      <td>0.09</td>\n",
       "      <td>0.00</td>\n",
       "      <td>0.07</td>\n",
       "      <td>NaN</td>\n",
       "      <td>NaN</td>\n",
       "      <td>E</td>\n",
       "    </tr>\n",
       "    <tr>\n",
       "      <th>733</th>\n",
       "      <td>Tom Clancy's Rainbow Six: Siege</td>\n",
       "      <td>PS4</td>\n",
       "      <td>2015</td>\n",
       "      <td>Shooter</td>\n",
       "      <td>0.55</td>\n",
       "      <td>1.19</td>\n",
       "      <td>0.14</td>\n",
       "      <td>0.33</td>\n",
       "      <td>73.0</td>\n",
       "      <td>7.3</td>\n",
       "      <td>M</td>\n",
       "    </tr>\n",
       "    <tr>\n",
       "      <th>2528</th>\n",
       "      <td>Tales of Destiny II</td>\n",
       "      <td>PS</td>\n",
       "      <td>2000</td>\n",
       "      <td>Role-Playing</td>\n",
       "      <td>0.06</td>\n",
       "      <td>0.04</td>\n",
       "      <td>0.66</td>\n",
       "      <td>0.05</td>\n",
       "      <td>78.0</td>\n",
       "      <td>8.7</td>\n",
       "      <td>T</td>\n",
       "    </tr>\n",
       "    <tr>\n",
       "      <th>4</th>\n",
       "      <td>Pokemon Red/Pokemon Blue</td>\n",
       "      <td>GB</td>\n",
       "      <td>1996</td>\n",
       "      <td>Role-Playing</td>\n",
       "      <td>11.27</td>\n",
       "      <td>8.89</td>\n",
       "      <td>10.22</td>\n",
       "      <td>1.00</td>\n",
       "      <td>NaN</td>\n",
       "      <td>NaN</td>\n",
       "      <td>NaN</td>\n",
       "    </tr>\n",
       "    <tr>\n",
       "      <th>9767</th>\n",
       "      <td>Megamind: Ultimate Showdown</td>\n",
       "      <td>X360</td>\n",
       "      <td>2010</td>\n",
       "      <td>Action</td>\n",
       "      <td>0.07</td>\n",
       "      <td>0.04</td>\n",
       "      <td>0.00</td>\n",
       "      <td>0.01</td>\n",
       "      <td>33.0</td>\n",
       "      <td>4.3</td>\n",
       "      <td>E10+</td>\n",
       "    </tr>\n",
       "    <tr>\n",
       "      <th>9521</th>\n",
       "      <td>Margot's Word Brain</td>\n",
       "      <td>Wii</td>\n",
       "      <td>2008</td>\n",
       "      <td>Puzzle</td>\n",
       "      <td>0.12</td>\n",
       "      <td>0.00</td>\n",
       "      <td>0.00</td>\n",
       "      <td>0.01</td>\n",
       "      <td>NaN</td>\n",
       "      <td>NaN</td>\n",
       "      <td>E10+</td>\n",
       "    </tr>\n",
       "    <tr>\n",
       "      <th>2950</th>\n",
       "      <td>Mappy</td>\n",
       "      <td>NES</td>\n",
       "      <td>1984</td>\n",
       "      <td>Platform</td>\n",
       "      <td>0.00</td>\n",
       "      <td>0.00</td>\n",
       "      <td>0.69</td>\n",
       "      <td>0.00</td>\n",
       "      <td>NaN</td>\n",
       "      <td>NaN</td>\n",
       "      <td>NaN</td>\n",
       "    </tr>\n",
       "    <tr>\n",
       "      <th>14481</th>\n",
       "      <td>Suggoi! Arcana Heart 2</td>\n",
       "      <td>PS2</td>\n",
       "      <td>2009</td>\n",
       "      <td>Fighting</td>\n",
       "      <td>0.00</td>\n",
       "      <td>0.00</td>\n",
       "      <td>0.03</td>\n",
       "      <td>0.00</td>\n",
       "      <td>NaN</td>\n",
       "      <td>NaN</td>\n",
       "      <td>NaN</td>\n",
       "    </tr>\n",
       "  </tbody>\n",
       "</table>\n",
       "</div>"
      ],
      "text/plain": [
       "                                  name platform  year_of_release  \\\n",
       "2265                     Kung Fu Panda      Wii             2008   \n",
       "2441              Ninja Gaiden Sigma 2      PS3             2009   \n",
       "4732                                Up      PSP             2009   \n",
       "733    Tom Clancy's Rainbow Six: Siege      PS4             2015   \n",
       "2528               Tales of Destiny II       PS             2000   \n",
       "4             Pokemon Red/Pokemon Blue       GB             1996   \n",
       "9767       Megamind: Ultimate Showdown     X360             2010   \n",
       "9521               Margot's Word Brain      Wii             2008   \n",
       "2950                             Mappy      NES             1984   \n",
       "14481           Suggoi! Arcana Heart 2      PS2             2009   \n",
       "\n",
       "              genre  na_sales  eu_sales  jp_sales  other_sales  critic_score  \\\n",
       "2265         Action      0.50      0.32      0.00         0.09          70.0   \n",
       "2441         Action      0.52      0.16      0.08         0.10          83.0   \n",
       "4732         Action      0.24      0.09      0.00         0.07           NaN   \n",
       "733         Shooter      0.55      1.19      0.14         0.33          73.0   \n",
       "2528   Role-Playing      0.06      0.04      0.66         0.05          78.0   \n",
       "4      Role-Playing     11.27      8.89     10.22         1.00           NaN   \n",
       "9767         Action      0.07      0.04      0.00         0.01          33.0   \n",
       "9521         Puzzle      0.12      0.00      0.00         0.01           NaN   \n",
       "2950       Platform      0.00      0.00      0.69         0.00           NaN   \n",
       "14481      Fighting      0.00      0.00      0.03         0.00           NaN   \n",
       "\n",
       "       user_score rating  \n",
       "2265          6.7   E10+  \n",
       "2441          7.7      M  \n",
       "4732          NaN      E  \n",
       "733           7.3      M  \n",
       "2528          8.7      T  \n",
       "4             NaN    NaN  \n",
       "9767          4.3   E10+  \n",
       "9521          NaN   E10+  \n",
       "2950          NaN    NaN  \n",
       "14481         NaN    NaN  "
      ]
     },
     "execution_count": 10,
     "metadata": {},
     "output_type": "execute_result"
    }
   ],
   "source": [
    "video_juegos.sample(10)"
   ]
  },
  {
   "cell_type": "markdown",
   "metadata": {},
   "source": [
    "Encontramos 2 tipos de datos que se requería transformar; los de la columna **year_of_release** de flotante a entero, ya que es un año, dato que posteriormente se podría necesitar para hacer operaciones, por lo que se utilizó el método **(.to_datetime)** se utilizó el parámetro **(errors=coerce)** para mayor seguridad, ya que como vimos anteriormente hay campos vacíos, por lo que si encuentra valores inválidos, los reemplazará con NAN, al obtener nuevamente la info de la tabla, vemos que se ha mantenido el mismo número de datos no nulos, por lo que no hubo dato adicional que este método los transformó. Sin embargo se requiere que solo visualice el año, y no en formato de fecha, por lo que convertimos el campo a un número entero con el método **(.dt.year.astype('Int64')**\n",
    "El otro campo fue **user_score** de objet a flotante, se utilizó el método **(.to_numeric)** para convertir de strings a números, ya que contamos con campos vacíos, al utilizar el parámetro **(errors=coerce)** los datos inválidos los reemplaza con NaN. Vemos el la info de la tabla, que los campos no nulos disminuyeron, por lo que podemos concluir que existen campos no numéricos que los tranformó a valores ausentes, observando el dato vemos que son los datos **tbd** que se muestra en la tabla."
   ]
  },
  {
   "cell_type": "markdown",
   "metadata": {},
   "source": [
    "### Valores Ausentes"
   ]
  },
  {
   "cell_type": "code",
   "execution_count": 11,
   "metadata": {
    "trusted": false
   },
   "outputs": [
    {
     "data": {
      "text/plain": [
       "name                  2\n",
       "platform              0\n",
       "year_of_release     269\n",
       "genre                 2\n",
       "na_sales              0\n",
       "eu_sales              0\n",
       "jp_sales              0\n",
       "other_sales           0\n",
       "critic_score       8578\n",
       "user_score         9125\n",
       "rating             6766\n",
       "dtype: int64"
      ]
     },
     "execution_count": 11,
     "metadata": {},
     "output_type": "execute_result"
    }
   ],
   "source": [
    "video_juegos.isna().sum()"
   ]
  },
  {
   "cell_type": "code",
   "execution_count": 12,
   "metadata": {
    "trusted": false
   },
   "outputs": [
    {
     "data": {
      "text/html": [
       "<div>\n",
       "<style scoped>\n",
       "    .dataframe tbody tr th:only-of-type {\n",
       "        vertical-align: middle;\n",
       "    }\n",
       "\n",
       "    .dataframe tbody tr th {\n",
       "        vertical-align: top;\n",
       "    }\n",
       "\n",
       "    .dataframe thead th {\n",
       "        text-align: right;\n",
       "    }\n",
       "</style>\n",
       "<table border=\"1\" class=\"dataframe\">\n",
       "  <thead>\n",
       "    <tr style=\"text-align: right;\">\n",
       "      <th></th>\n",
       "      <th>name</th>\n",
       "      <th>platform</th>\n",
       "      <th>year_of_release</th>\n",
       "      <th>genre</th>\n",
       "      <th>na_sales</th>\n",
       "      <th>eu_sales</th>\n",
       "      <th>jp_sales</th>\n",
       "      <th>other_sales</th>\n",
       "      <th>critic_score</th>\n",
       "      <th>user_score</th>\n",
       "      <th>rating</th>\n",
       "    </tr>\n",
       "  </thead>\n",
       "  <tbody>\n",
       "    <tr>\n",
       "      <th>659</th>\n",
       "      <td>NaN</td>\n",
       "      <td>GEN</td>\n",
       "      <td>1993</td>\n",
       "      <td>NaN</td>\n",
       "      <td>1.78</td>\n",
       "      <td>0.53</td>\n",
       "      <td>0.00</td>\n",
       "      <td>0.08</td>\n",
       "      <td>NaN</td>\n",
       "      <td>NaN</td>\n",
       "      <td>NaN</td>\n",
       "    </tr>\n",
       "    <tr>\n",
       "      <th>14244</th>\n",
       "      <td>NaN</td>\n",
       "      <td>GEN</td>\n",
       "      <td>1993</td>\n",
       "      <td>NaN</td>\n",
       "      <td>0.00</td>\n",
       "      <td>0.00</td>\n",
       "      <td>0.03</td>\n",
       "      <td>0.00</td>\n",
       "      <td>NaN</td>\n",
       "      <td>NaN</td>\n",
       "      <td>NaN</td>\n",
       "    </tr>\n",
       "  </tbody>\n",
       "</table>\n",
       "</div>"
      ],
      "text/plain": [
       "      name platform  year_of_release genre  na_sales  eu_sales  jp_sales  \\\n",
       "659    NaN      GEN             1993   NaN      1.78      0.53      0.00   \n",
       "14244  NaN      GEN             1993   NaN      0.00      0.00      0.03   \n",
       "\n",
       "       other_sales  critic_score  user_score rating  \n",
       "659           0.08           NaN         NaN    NaN  \n",
       "14244         0.00           NaN         NaN    NaN  "
      ]
     },
     "execution_count": 12,
     "metadata": {},
     "output_type": "execute_result"
    }
   ],
   "source": [
    "name_nan = video_juegos['name']\n",
    "check_nan = name_nan.isna()  \n",
    "name_df_nan = video_juegos[check_nan]\n",
    "name_df_nan"
   ]
  },
  {
   "cell_type": "code",
   "execution_count": 13,
   "metadata": {
    "trusted": false
   },
   "outputs": [
    {
     "data": {
      "text/html": [
       "<div>\n",
       "<style scoped>\n",
       "    .dataframe tbody tr th:only-of-type {\n",
       "        vertical-align: middle;\n",
       "    }\n",
       "\n",
       "    .dataframe tbody tr th {\n",
       "        vertical-align: top;\n",
       "    }\n",
       "\n",
       "    .dataframe thead th {\n",
       "        text-align: right;\n",
       "    }\n",
       "</style>\n",
       "<table border=\"1\" class=\"dataframe\">\n",
       "  <thead>\n",
       "    <tr style=\"text-align: right;\">\n",
       "      <th></th>\n",
       "      <th>name</th>\n",
       "      <th>platform</th>\n",
       "      <th>year_of_release</th>\n",
       "      <th>genre</th>\n",
       "      <th>na_sales</th>\n",
       "      <th>eu_sales</th>\n",
       "      <th>jp_sales</th>\n",
       "      <th>other_sales</th>\n",
       "      <th>critic_score</th>\n",
       "      <th>user_score</th>\n",
       "      <th>rating</th>\n",
       "    </tr>\n",
       "  </thead>\n",
       "  <tbody>\n",
       "    <tr>\n",
       "      <th>183</th>\n",
       "      <td>Madden NFL 2004</td>\n",
       "      <td>PS2</td>\n",
       "      <td>&lt;NA&gt;</td>\n",
       "      <td>Sports</td>\n",
       "      <td>4.26</td>\n",
       "      <td>0.26</td>\n",
       "      <td>0.01</td>\n",
       "      <td>0.71</td>\n",
       "      <td>94.0</td>\n",
       "      <td>8.5</td>\n",
       "      <td>E</td>\n",
       "    </tr>\n",
       "    <tr>\n",
       "      <th>377</th>\n",
       "      <td>FIFA Soccer 2004</td>\n",
       "      <td>PS2</td>\n",
       "      <td>&lt;NA&gt;</td>\n",
       "      <td>Sports</td>\n",
       "      <td>0.59</td>\n",
       "      <td>2.36</td>\n",
       "      <td>0.04</td>\n",
       "      <td>0.51</td>\n",
       "      <td>84.0</td>\n",
       "      <td>6.4</td>\n",
       "      <td>E</td>\n",
       "    </tr>\n",
       "    <tr>\n",
       "      <th>456</th>\n",
       "      <td>LEGO Batman: The Videogame</td>\n",
       "      <td>Wii</td>\n",
       "      <td>&lt;NA&gt;</td>\n",
       "      <td>Action</td>\n",
       "      <td>1.80</td>\n",
       "      <td>0.97</td>\n",
       "      <td>0.00</td>\n",
       "      <td>0.29</td>\n",
       "      <td>74.0</td>\n",
       "      <td>7.9</td>\n",
       "      <td>E10+</td>\n",
       "    </tr>\n",
       "    <tr>\n",
       "      <th>475</th>\n",
       "      <td>wwe Smackdown vs. Raw 2006</td>\n",
       "      <td>PS2</td>\n",
       "      <td>&lt;NA&gt;</td>\n",
       "      <td>Fighting</td>\n",
       "      <td>1.57</td>\n",
       "      <td>1.02</td>\n",
       "      <td>0.00</td>\n",
       "      <td>0.41</td>\n",
       "      <td>NaN</td>\n",
       "      <td>NaN</td>\n",
       "      <td>NaN</td>\n",
       "    </tr>\n",
       "    <tr>\n",
       "      <th>609</th>\n",
       "      <td>Space Invaders</td>\n",
       "      <td>2600</td>\n",
       "      <td>&lt;NA&gt;</td>\n",
       "      <td>Shooter</td>\n",
       "      <td>2.36</td>\n",
       "      <td>0.14</td>\n",
       "      <td>0.00</td>\n",
       "      <td>0.03</td>\n",
       "      <td>NaN</td>\n",
       "      <td>NaN</td>\n",
       "      <td>NaN</td>\n",
       "    </tr>\n",
       "    <tr>\n",
       "      <th>...</th>\n",
       "      <td>...</td>\n",
       "      <td>...</td>\n",
       "      <td>...</td>\n",
       "      <td>...</td>\n",
       "      <td>...</td>\n",
       "      <td>...</td>\n",
       "      <td>...</td>\n",
       "      <td>...</td>\n",
       "      <td>...</td>\n",
       "      <td>...</td>\n",
       "      <td>...</td>\n",
       "    </tr>\n",
       "    <tr>\n",
       "      <th>16373</th>\n",
       "      <td>PDC World Championship Darts 2008</td>\n",
       "      <td>PSP</td>\n",
       "      <td>&lt;NA&gt;</td>\n",
       "      <td>Sports</td>\n",
       "      <td>0.01</td>\n",
       "      <td>0.00</td>\n",
       "      <td>0.00</td>\n",
       "      <td>0.00</td>\n",
       "      <td>43.0</td>\n",
       "      <td>NaN</td>\n",
       "      <td>E10+</td>\n",
       "    </tr>\n",
       "    <tr>\n",
       "      <th>16405</th>\n",
       "      <td>Freaky Flyers</td>\n",
       "      <td>GC</td>\n",
       "      <td>&lt;NA&gt;</td>\n",
       "      <td>Racing</td>\n",
       "      <td>0.01</td>\n",
       "      <td>0.00</td>\n",
       "      <td>0.00</td>\n",
       "      <td>0.00</td>\n",
       "      <td>69.0</td>\n",
       "      <td>6.5</td>\n",
       "      <td>T</td>\n",
       "    </tr>\n",
       "    <tr>\n",
       "      <th>16448</th>\n",
       "      <td>Inversion</td>\n",
       "      <td>PC</td>\n",
       "      <td>&lt;NA&gt;</td>\n",
       "      <td>Shooter</td>\n",
       "      <td>0.01</td>\n",
       "      <td>0.00</td>\n",
       "      <td>0.00</td>\n",
       "      <td>0.00</td>\n",
       "      <td>59.0</td>\n",
       "      <td>6.7</td>\n",
       "      <td>M</td>\n",
       "    </tr>\n",
       "    <tr>\n",
       "      <th>16458</th>\n",
       "      <td>Hakuouki: Shinsengumi Kitan</td>\n",
       "      <td>PS3</td>\n",
       "      <td>&lt;NA&gt;</td>\n",
       "      <td>Adventure</td>\n",
       "      <td>0.01</td>\n",
       "      <td>0.00</td>\n",
       "      <td>0.00</td>\n",
       "      <td>0.00</td>\n",
       "      <td>NaN</td>\n",
       "      <td>NaN</td>\n",
       "      <td>NaN</td>\n",
       "    </tr>\n",
       "    <tr>\n",
       "      <th>16522</th>\n",
       "      <td>Virtua Quest</td>\n",
       "      <td>GC</td>\n",
       "      <td>&lt;NA&gt;</td>\n",
       "      <td>Role-Playing</td>\n",
       "      <td>0.01</td>\n",
       "      <td>0.00</td>\n",
       "      <td>0.00</td>\n",
       "      <td>0.00</td>\n",
       "      <td>55.0</td>\n",
       "      <td>5.5</td>\n",
       "      <td>T</td>\n",
       "    </tr>\n",
       "  </tbody>\n",
       "</table>\n",
       "<p>269 rows × 11 columns</p>\n",
       "</div>"
      ],
      "text/plain": [
       "                                    name platform  year_of_release  \\\n",
       "183                      Madden NFL 2004      PS2             <NA>   \n",
       "377                     FIFA Soccer 2004      PS2             <NA>   \n",
       "456           LEGO Batman: The Videogame      Wii             <NA>   \n",
       "475           wwe Smackdown vs. Raw 2006      PS2             <NA>   \n",
       "609                       Space Invaders     2600             <NA>   \n",
       "...                                  ...      ...              ...   \n",
       "16373  PDC World Championship Darts 2008      PSP             <NA>   \n",
       "16405                      Freaky Flyers       GC             <NA>   \n",
       "16448                          Inversion       PC             <NA>   \n",
       "16458        Hakuouki: Shinsengumi Kitan      PS3             <NA>   \n",
       "16522                       Virtua Quest       GC             <NA>   \n",
       "\n",
       "              genre  na_sales  eu_sales  jp_sales  other_sales  critic_score  \\\n",
       "183          Sports      4.26      0.26      0.01         0.71          94.0   \n",
       "377          Sports      0.59      2.36      0.04         0.51          84.0   \n",
       "456          Action      1.80      0.97      0.00         0.29          74.0   \n",
       "475        Fighting      1.57      1.02      0.00         0.41           NaN   \n",
       "609         Shooter      2.36      0.14      0.00         0.03           NaN   \n",
       "...             ...       ...       ...       ...          ...           ...   \n",
       "16373        Sports      0.01      0.00      0.00         0.00          43.0   \n",
       "16405        Racing      0.01      0.00      0.00         0.00          69.0   \n",
       "16448       Shooter      0.01      0.00      0.00         0.00          59.0   \n",
       "16458     Adventure      0.01      0.00      0.00         0.00           NaN   \n",
       "16522  Role-Playing      0.01      0.00      0.00         0.00          55.0   \n",
       "\n",
       "       user_score rating  \n",
       "183           8.5      E  \n",
       "377           6.4      E  \n",
       "456           7.9   E10+  \n",
       "475           NaN    NaN  \n",
       "609           NaN    NaN  \n",
       "...           ...    ...  \n",
       "16373         NaN   E10+  \n",
       "16405         6.5      T  \n",
       "16448         6.7      M  \n",
       "16458         NaN    NaN  \n",
       "16522         5.5      T  \n",
       "\n",
       "[269 rows x 11 columns]"
      ]
     },
     "execution_count": 13,
     "metadata": {},
     "output_type": "execute_result"
    }
   ],
   "source": [
    "year_nan = video_juegos['year_of_release']\n",
    "check_year = year_nan.isna()  \n",
    "year_df_nan = video_juegos[check_year]\n",
    "year_df_nan"
   ]
  },
  {
   "cell_type": "code",
   "execution_count": 14,
   "metadata": {
    "trusted": false
   },
   "outputs": [
    {
     "data": {
      "text/html": [
       "<div>\n",
       "<style scoped>\n",
       "    .dataframe tbody tr th:only-of-type {\n",
       "        vertical-align: middle;\n",
       "    }\n",
       "\n",
       "    .dataframe tbody tr th {\n",
       "        vertical-align: top;\n",
       "    }\n",
       "\n",
       "    .dataframe thead th {\n",
       "        text-align: right;\n",
       "    }\n",
       "</style>\n",
       "<table border=\"1\" class=\"dataframe\">\n",
       "  <thead>\n",
       "    <tr style=\"text-align: right;\">\n",
       "      <th></th>\n",
       "      <th>name</th>\n",
       "      <th>platform</th>\n",
       "      <th>year_of_release</th>\n",
       "      <th>genre</th>\n",
       "      <th>na_sales</th>\n",
       "      <th>eu_sales</th>\n",
       "      <th>jp_sales</th>\n",
       "      <th>other_sales</th>\n",
       "      <th>critic_score</th>\n",
       "      <th>user_score</th>\n",
       "      <th>rating</th>\n",
       "    </tr>\n",
       "  </thead>\n",
       "  <tbody>\n",
       "    <tr>\n",
       "      <th>659</th>\n",
       "      <td>NaN</td>\n",
       "      <td>GEN</td>\n",
       "      <td>1993</td>\n",
       "      <td>NaN</td>\n",
       "      <td>1.78</td>\n",
       "      <td>0.53</td>\n",
       "      <td>0.00</td>\n",
       "      <td>0.08</td>\n",
       "      <td>NaN</td>\n",
       "      <td>NaN</td>\n",
       "      <td>NaN</td>\n",
       "    </tr>\n",
       "    <tr>\n",
       "      <th>14244</th>\n",
       "      <td>NaN</td>\n",
       "      <td>GEN</td>\n",
       "      <td>1993</td>\n",
       "      <td>NaN</td>\n",
       "      <td>0.00</td>\n",
       "      <td>0.00</td>\n",
       "      <td>0.03</td>\n",
       "      <td>0.00</td>\n",
       "      <td>NaN</td>\n",
       "      <td>NaN</td>\n",
       "      <td>NaN</td>\n",
       "    </tr>\n",
       "  </tbody>\n",
       "</table>\n",
       "</div>"
      ],
      "text/plain": [
       "      name platform  year_of_release genre  na_sales  eu_sales  jp_sales  \\\n",
       "659    NaN      GEN             1993   NaN      1.78      0.53      0.00   \n",
       "14244  NaN      GEN             1993   NaN      0.00      0.00      0.03   \n",
       "\n",
       "       other_sales  critic_score  user_score rating  \n",
       "659           0.08           NaN         NaN    NaN  \n",
       "14244         0.00           NaN         NaN    NaN  "
      ]
     },
     "execution_count": 14,
     "metadata": {},
     "output_type": "execute_result"
    }
   ],
   "source": [
    "genre_nan = video_juegos['genre']\n",
    "check_genre = genre_nan.isna()  \n",
    "genre_df_nan = video_juegos[check_genre]\n",
    "genre_df_nan"
   ]
  },
  {
   "cell_type": "code",
   "execution_count": 15,
   "metadata": {
    "trusted": false
   },
   "outputs": [
    {
     "data": {
      "text/html": [
       "<div>\n",
       "<style scoped>\n",
       "    .dataframe tbody tr th:only-of-type {\n",
       "        vertical-align: middle;\n",
       "    }\n",
       "\n",
       "    .dataframe tbody tr th {\n",
       "        vertical-align: top;\n",
       "    }\n",
       "\n",
       "    .dataframe thead th {\n",
       "        text-align: right;\n",
       "    }\n",
       "</style>\n",
       "<table border=\"1\" class=\"dataframe\">\n",
       "  <thead>\n",
       "    <tr style=\"text-align: right;\">\n",
       "      <th></th>\n",
       "      <th>name</th>\n",
       "      <th>platform</th>\n",
       "      <th>year_of_release</th>\n",
       "      <th>genre</th>\n",
       "      <th>na_sales</th>\n",
       "      <th>eu_sales</th>\n",
       "      <th>jp_sales</th>\n",
       "      <th>other_sales</th>\n",
       "      <th>critic_score</th>\n",
       "      <th>user_score</th>\n",
       "      <th>rating</th>\n",
       "    </tr>\n",
       "  </thead>\n",
       "  <tbody>\n",
       "    <tr>\n",
       "      <th>1</th>\n",
       "      <td>Super Mario Bros.</td>\n",
       "      <td>NES</td>\n",
       "      <td>1985</td>\n",
       "      <td>Platform</td>\n",
       "      <td>29.08</td>\n",
       "      <td>3.58</td>\n",
       "      <td>6.81</td>\n",
       "      <td>0.77</td>\n",
       "      <td>NaN</td>\n",
       "      <td>NaN</td>\n",
       "      <td>NaN</td>\n",
       "    </tr>\n",
       "    <tr>\n",
       "      <th>4</th>\n",
       "      <td>Pokemon Red/Pokemon Blue</td>\n",
       "      <td>GB</td>\n",
       "      <td>1996</td>\n",
       "      <td>Role-Playing</td>\n",
       "      <td>11.27</td>\n",
       "      <td>8.89</td>\n",
       "      <td>10.22</td>\n",
       "      <td>1.00</td>\n",
       "      <td>NaN</td>\n",
       "      <td>NaN</td>\n",
       "      <td>NaN</td>\n",
       "    </tr>\n",
       "    <tr>\n",
       "      <th>5</th>\n",
       "      <td>Tetris</td>\n",
       "      <td>GB</td>\n",
       "      <td>1989</td>\n",
       "      <td>Puzzle</td>\n",
       "      <td>23.20</td>\n",
       "      <td>2.26</td>\n",
       "      <td>4.22</td>\n",
       "      <td>0.58</td>\n",
       "      <td>NaN</td>\n",
       "      <td>NaN</td>\n",
       "      <td>NaN</td>\n",
       "    </tr>\n",
       "    <tr>\n",
       "      <th>9</th>\n",
       "      <td>Duck Hunt</td>\n",
       "      <td>NES</td>\n",
       "      <td>1984</td>\n",
       "      <td>Shooter</td>\n",
       "      <td>26.93</td>\n",
       "      <td>0.63</td>\n",
       "      <td>0.28</td>\n",
       "      <td>0.47</td>\n",
       "      <td>NaN</td>\n",
       "      <td>NaN</td>\n",
       "      <td>NaN</td>\n",
       "    </tr>\n",
       "    <tr>\n",
       "      <th>10</th>\n",
       "      <td>Nintendogs</td>\n",
       "      <td>DS</td>\n",
       "      <td>2005</td>\n",
       "      <td>Simulation</td>\n",
       "      <td>9.05</td>\n",
       "      <td>10.95</td>\n",
       "      <td>1.93</td>\n",
       "      <td>2.74</td>\n",
       "      <td>NaN</td>\n",
       "      <td>NaN</td>\n",
       "      <td>NaN</td>\n",
       "    </tr>\n",
       "    <tr>\n",
       "      <th>...</th>\n",
       "      <td>...</td>\n",
       "      <td>...</td>\n",
       "      <td>...</td>\n",
       "      <td>...</td>\n",
       "      <td>...</td>\n",
       "      <td>...</td>\n",
       "      <td>...</td>\n",
       "      <td>...</td>\n",
       "      <td>...</td>\n",
       "      <td>...</td>\n",
       "      <td>...</td>\n",
       "    </tr>\n",
       "    <tr>\n",
       "      <th>16710</th>\n",
       "      <td>Samurai Warriors: Sanada Maru</td>\n",
       "      <td>PS3</td>\n",
       "      <td>2016</td>\n",
       "      <td>Action</td>\n",
       "      <td>0.00</td>\n",
       "      <td>0.00</td>\n",
       "      <td>0.01</td>\n",
       "      <td>0.00</td>\n",
       "      <td>NaN</td>\n",
       "      <td>NaN</td>\n",
       "      <td>NaN</td>\n",
       "    </tr>\n",
       "    <tr>\n",
       "      <th>16711</th>\n",
       "      <td>LMA Manager 2007</td>\n",
       "      <td>X360</td>\n",
       "      <td>2006</td>\n",
       "      <td>Sports</td>\n",
       "      <td>0.00</td>\n",
       "      <td>0.01</td>\n",
       "      <td>0.00</td>\n",
       "      <td>0.00</td>\n",
       "      <td>NaN</td>\n",
       "      <td>NaN</td>\n",
       "      <td>NaN</td>\n",
       "    </tr>\n",
       "    <tr>\n",
       "      <th>16712</th>\n",
       "      <td>Haitaka no Psychedelica</td>\n",
       "      <td>PSV</td>\n",
       "      <td>2016</td>\n",
       "      <td>Adventure</td>\n",
       "      <td>0.00</td>\n",
       "      <td>0.00</td>\n",
       "      <td>0.01</td>\n",
       "      <td>0.00</td>\n",
       "      <td>NaN</td>\n",
       "      <td>NaN</td>\n",
       "      <td>NaN</td>\n",
       "    </tr>\n",
       "    <tr>\n",
       "      <th>16713</th>\n",
       "      <td>Spirits &amp; Spells</td>\n",
       "      <td>GBA</td>\n",
       "      <td>2003</td>\n",
       "      <td>Platform</td>\n",
       "      <td>0.01</td>\n",
       "      <td>0.00</td>\n",
       "      <td>0.00</td>\n",
       "      <td>0.00</td>\n",
       "      <td>NaN</td>\n",
       "      <td>NaN</td>\n",
       "      <td>NaN</td>\n",
       "    </tr>\n",
       "    <tr>\n",
       "      <th>16714</th>\n",
       "      <td>Winning Post 8 2016</td>\n",
       "      <td>PSV</td>\n",
       "      <td>2016</td>\n",
       "      <td>Simulation</td>\n",
       "      <td>0.00</td>\n",
       "      <td>0.00</td>\n",
       "      <td>0.01</td>\n",
       "      <td>0.00</td>\n",
       "      <td>NaN</td>\n",
       "      <td>NaN</td>\n",
       "      <td>NaN</td>\n",
       "    </tr>\n",
       "  </tbody>\n",
       "</table>\n",
       "<p>8578 rows × 11 columns</p>\n",
       "</div>"
      ],
      "text/plain": [
       "                                name platform  year_of_release         genre  \\\n",
       "1                  Super Mario Bros.      NES             1985      Platform   \n",
       "4           Pokemon Red/Pokemon Blue       GB             1996  Role-Playing   \n",
       "5                             Tetris       GB             1989        Puzzle   \n",
       "9                          Duck Hunt      NES             1984       Shooter   \n",
       "10                        Nintendogs       DS             2005    Simulation   \n",
       "...                              ...      ...              ...           ...   \n",
       "16710  Samurai Warriors: Sanada Maru      PS3             2016        Action   \n",
       "16711               LMA Manager 2007     X360             2006        Sports   \n",
       "16712        Haitaka no Psychedelica      PSV             2016     Adventure   \n",
       "16713               Spirits & Spells      GBA             2003      Platform   \n",
       "16714            Winning Post 8 2016      PSV             2016    Simulation   \n",
       "\n",
       "       na_sales  eu_sales  jp_sales  other_sales  critic_score  user_score  \\\n",
       "1         29.08      3.58      6.81         0.77           NaN         NaN   \n",
       "4         11.27      8.89     10.22         1.00           NaN         NaN   \n",
       "5         23.20      2.26      4.22         0.58           NaN         NaN   \n",
       "9         26.93      0.63      0.28         0.47           NaN         NaN   \n",
       "10         9.05     10.95      1.93         2.74           NaN         NaN   \n",
       "...         ...       ...       ...          ...           ...         ...   \n",
       "16710      0.00      0.00      0.01         0.00           NaN         NaN   \n",
       "16711      0.00      0.01      0.00         0.00           NaN         NaN   \n",
       "16712      0.00      0.00      0.01         0.00           NaN         NaN   \n",
       "16713      0.01      0.00      0.00         0.00           NaN         NaN   \n",
       "16714      0.00      0.00      0.01         0.00           NaN         NaN   \n",
       "\n",
       "      rating  \n",
       "1        NaN  \n",
       "4        NaN  \n",
       "5        NaN  \n",
       "9        NaN  \n",
       "10       NaN  \n",
       "...      ...  \n",
       "16710    NaN  \n",
       "16711    NaN  \n",
       "16712    NaN  \n",
       "16713    NaN  \n",
       "16714    NaN  \n",
       "\n",
       "[8578 rows x 11 columns]"
      ]
     },
     "execution_count": 15,
     "metadata": {},
     "output_type": "execute_result"
    }
   ],
   "source": [
    "critic_nan = video_juegos['critic_score']\n",
    "check_critic = critic_nan.isna()  \n",
    "critic_df_nan = video_juegos[check_critic]\n",
    "critic_df_nan"
   ]
  },
  {
   "cell_type": "code",
   "execution_count": 16,
   "metadata": {
    "trusted": false
   },
   "outputs": [
    {
     "data": {
      "text/html": [
       "<div>\n",
       "<style scoped>\n",
       "    .dataframe tbody tr th:only-of-type {\n",
       "        vertical-align: middle;\n",
       "    }\n",
       "\n",
       "    .dataframe tbody tr th {\n",
       "        vertical-align: top;\n",
       "    }\n",
       "\n",
       "    .dataframe thead th {\n",
       "        text-align: right;\n",
       "    }\n",
       "</style>\n",
       "<table border=\"1\" class=\"dataframe\">\n",
       "  <thead>\n",
       "    <tr style=\"text-align: right;\">\n",
       "      <th></th>\n",
       "      <th>name</th>\n",
       "      <th>platform</th>\n",
       "      <th>year_of_release</th>\n",
       "      <th>genre</th>\n",
       "      <th>na_sales</th>\n",
       "      <th>eu_sales</th>\n",
       "      <th>jp_sales</th>\n",
       "      <th>other_sales</th>\n",
       "      <th>critic_score</th>\n",
       "      <th>user_score</th>\n",
       "      <th>rating</th>\n",
       "    </tr>\n",
       "  </thead>\n",
       "  <tbody>\n",
       "    <tr>\n",
       "      <th>1</th>\n",
       "      <td>Super Mario Bros.</td>\n",
       "      <td>NES</td>\n",
       "      <td>1985</td>\n",
       "      <td>Platform</td>\n",
       "      <td>29.08</td>\n",
       "      <td>3.58</td>\n",
       "      <td>6.81</td>\n",
       "      <td>0.77</td>\n",
       "      <td>NaN</td>\n",
       "      <td>NaN</td>\n",
       "      <td>NaN</td>\n",
       "    </tr>\n",
       "    <tr>\n",
       "      <th>4</th>\n",
       "      <td>Pokemon Red/Pokemon Blue</td>\n",
       "      <td>GB</td>\n",
       "      <td>1996</td>\n",
       "      <td>Role-Playing</td>\n",
       "      <td>11.27</td>\n",
       "      <td>8.89</td>\n",
       "      <td>10.22</td>\n",
       "      <td>1.00</td>\n",
       "      <td>NaN</td>\n",
       "      <td>NaN</td>\n",
       "      <td>NaN</td>\n",
       "    </tr>\n",
       "    <tr>\n",
       "      <th>5</th>\n",
       "      <td>Tetris</td>\n",
       "      <td>GB</td>\n",
       "      <td>1989</td>\n",
       "      <td>Puzzle</td>\n",
       "      <td>23.20</td>\n",
       "      <td>2.26</td>\n",
       "      <td>4.22</td>\n",
       "      <td>0.58</td>\n",
       "      <td>NaN</td>\n",
       "      <td>NaN</td>\n",
       "      <td>NaN</td>\n",
       "    </tr>\n",
       "    <tr>\n",
       "      <th>9</th>\n",
       "      <td>Duck Hunt</td>\n",
       "      <td>NES</td>\n",
       "      <td>1984</td>\n",
       "      <td>Shooter</td>\n",
       "      <td>26.93</td>\n",
       "      <td>0.63</td>\n",
       "      <td>0.28</td>\n",
       "      <td>0.47</td>\n",
       "      <td>NaN</td>\n",
       "      <td>NaN</td>\n",
       "      <td>NaN</td>\n",
       "    </tr>\n",
       "    <tr>\n",
       "      <th>10</th>\n",
       "      <td>Nintendogs</td>\n",
       "      <td>DS</td>\n",
       "      <td>2005</td>\n",
       "      <td>Simulation</td>\n",
       "      <td>9.05</td>\n",
       "      <td>10.95</td>\n",
       "      <td>1.93</td>\n",
       "      <td>2.74</td>\n",
       "      <td>NaN</td>\n",
       "      <td>NaN</td>\n",
       "      <td>NaN</td>\n",
       "    </tr>\n",
       "    <tr>\n",
       "      <th>...</th>\n",
       "      <td>...</td>\n",
       "      <td>...</td>\n",
       "      <td>...</td>\n",
       "      <td>...</td>\n",
       "      <td>...</td>\n",
       "      <td>...</td>\n",
       "      <td>...</td>\n",
       "      <td>...</td>\n",
       "      <td>...</td>\n",
       "      <td>...</td>\n",
       "      <td>...</td>\n",
       "    </tr>\n",
       "    <tr>\n",
       "      <th>16710</th>\n",
       "      <td>Samurai Warriors: Sanada Maru</td>\n",
       "      <td>PS3</td>\n",
       "      <td>2016</td>\n",
       "      <td>Action</td>\n",
       "      <td>0.00</td>\n",
       "      <td>0.00</td>\n",
       "      <td>0.01</td>\n",
       "      <td>0.00</td>\n",
       "      <td>NaN</td>\n",
       "      <td>NaN</td>\n",
       "      <td>NaN</td>\n",
       "    </tr>\n",
       "    <tr>\n",
       "      <th>16711</th>\n",
       "      <td>LMA Manager 2007</td>\n",
       "      <td>X360</td>\n",
       "      <td>2006</td>\n",
       "      <td>Sports</td>\n",
       "      <td>0.00</td>\n",
       "      <td>0.01</td>\n",
       "      <td>0.00</td>\n",
       "      <td>0.00</td>\n",
       "      <td>NaN</td>\n",
       "      <td>NaN</td>\n",
       "      <td>NaN</td>\n",
       "    </tr>\n",
       "    <tr>\n",
       "      <th>16712</th>\n",
       "      <td>Haitaka no Psychedelica</td>\n",
       "      <td>PSV</td>\n",
       "      <td>2016</td>\n",
       "      <td>Adventure</td>\n",
       "      <td>0.00</td>\n",
       "      <td>0.00</td>\n",
       "      <td>0.01</td>\n",
       "      <td>0.00</td>\n",
       "      <td>NaN</td>\n",
       "      <td>NaN</td>\n",
       "      <td>NaN</td>\n",
       "    </tr>\n",
       "    <tr>\n",
       "      <th>16713</th>\n",
       "      <td>Spirits &amp; Spells</td>\n",
       "      <td>GBA</td>\n",
       "      <td>2003</td>\n",
       "      <td>Platform</td>\n",
       "      <td>0.01</td>\n",
       "      <td>0.00</td>\n",
       "      <td>0.00</td>\n",
       "      <td>0.00</td>\n",
       "      <td>NaN</td>\n",
       "      <td>NaN</td>\n",
       "      <td>NaN</td>\n",
       "    </tr>\n",
       "    <tr>\n",
       "      <th>16714</th>\n",
       "      <td>Winning Post 8 2016</td>\n",
       "      <td>PSV</td>\n",
       "      <td>2016</td>\n",
       "      <td>Simulation</td>\n",
       "      <td>0.00</td>\n",
       "      <td>0.00</td>\n",
       "      <td>0.01</td>\n",
       "      <td>0.00</td>\n",
       "      <td>NaN</td>\n",
       "      <td>NaN</td>\n",
       "      <td>NaN</td>\n",
       "    </tr>\n",
       "  </tbody>\n",
       "</table>\n",
       "<p>9125 rows × 11 columns</p>\n",
       "</div>"
      ],
      "text/plain": [
       "                                name platform  year_of_release         genre  \\\n",
       "1                  Super Mario Bros.      NES             1985      Platform   \n",
       "4           Pokemon Red/Pokemon Blue       GB             1996  Role-Playing   \n",
       "5                             Tetris       GB             1989        Puzzle   \n",
       "9                          Duck Hunt      NES             1984       Shooter   \n",
       "10                        Nintendogs       DS             2005    Simulation   \n",
       "...                              ...      ...              ...           ...   \n",
       "16710  Samurai Warriors: Sanada Maru      PS3             2016        Action   \n",
       "16711               LMA Manager 2007     X360             2006        Sports   \n",
       "16712        Haitaka no Psychedelica      PSV             2016     Adventure   \n",
       "16713               Spirits & Spells      GBA             2003      Platform   \n",
       "16714            Winning Post 8 2016      PSV             2016    Simulation   \n",
       "\n",
       "       na_sales  eu_sales  jp_sales  other_sales  critic_score  user_score  \\\n",
       "1         29.08      3.58      6.81         0.77           NaN         NaN   \n",
       "4         11.27      8.89     10.22         1.00           NaN         NaN   \n",
       "5         23.20      2.26      4.22         0.58           NaN         NaN   \n",
       "9         26.93      0.63      0.28         0.47           NaN         NaN   \n",
       "10         9.05     10.95      1.93         2.74           NaN         NaN   \n",
       "...         ...       ...       ...          ...           ...         ...   \n",
       "16710      0.00      0.00      0.01         0.00           NaN         NaN   \n",
       "16711      0.00      0.01      0.00         0.00           NaN         NaN   \n",
       "16712      0.00      0.00      0.01         0.00           NaN         NaN   \n",
       "16713      0.01      0.00      0.00         0.00           NaN         NaN   \n",
       "16714      0.00      0.00      0.01         0.00           NaN         NaN   \n",
       "\n",
       "      rating  \n",
       "1        NaN  \n",
       "4        NaN  \n",
       "5        NaN  \n",
       "9        NaN  \n",
       "10       NaN  \n",
       "...      ...  \n",
       "16710    NaN  \n",
       "16711    NaN  \n",
       "16712    NaN  \n",
       "16713    NaN  \n",
       "16714    NaN  \n",
       "\n",
       "[9125 rows x 11 columns]"
      ]
     },
     "execution_count": 16,
     "metadata": {},
     "output_type": "execute_result"
    }
   ],
   "source": [
    "user_nan = video_juegos['user_score']\n",
    "check_user = user_nan.isna()  \n",
    "user_df_nan = video_juegos[check_user]\n",
    "user_df_nan"
   ]
  },
  {
   "cell_type": "code",
   "execution_count": 17,
   "metadata": {
    "trusted": false
   },
   "outputs": [
    {
     "data": {
      "text/html": [
       "<div>\n",
       "<style scoped>\n",
       "    .dataframe tbody tr th:only-of-type {\n",
       "        vertical-align: middle;\n",
       "    }\n",
       "\n",
       "    .dataframe tbody tr th {\n",
       "        vertical-align: top;\n",
       "    }\n",
       "\n",
       "    .dataframe thead th {\n",
       "        text-align: right;\n",
       "    }\n",
       "</style>\n",
       "<table border=\"1\" class=\"dataframe\">\n",
       "  <thead>\n",
       "    <tr style=\"text-align: right;\">\n",
       "      <th></th>\n",
       "      <th>name</th>\n",
       "      <th>platform</th>\n",
       "      <th>year_of_release</th>\n",
       "      <th>genre</th>\n",
       "      <th>na_sales</th>\n",
       "      <th>eu_sales</th>\n",
       "      <th>jp_sales</th>\n",
       "      <th>other_sales</th>\n",
       "      <th>critic_score</th>\n",
       "      <th>user_score</th>\n",
       "      <th>rating</th>\n",
       "    </tr>\n",
       "  </thead>\n",
       "  <tbody>\n",
       "    <tr>\n",
       "      <th>1</th>\n",
       "      <td>Super Mario Bros.</td>\n",
       "      <td>NES</td>\n",
       "      <td>1985</td>\n",
       "      <td>Platform</td>\n",
       "      <td>29.08</td>\n",
       "      <td>3.58</td>\n",
       "      <td>6.81</td>\n",
       "      <td>0.77</td>\n",
       "      <td>NaN</td>\n",
       "      <td>NaN</td>\n",
       "      <td>NaN</td>\n",
       "    </tr>\n",
       "    <tr>\n",
       "      <th>4</th>\n",
       "      <td>Pokemon Red/Pokemon Blue</td>\n",
       "      <td>GB</td>\n",
       "      <td>1996</td>\n",
       "      <td>Role-Playing</td>\n",
       "      <td>11.27</td>\n",
       "      <td>8.89</td>\n",
       "      <td>10.22</td>\n",
       "      <td>1.00</td>\n",
       "      <td>NaN</td>\n",
       "      <td>NaN</td>\n",
       "      <td>NaN</td>\n",
       "    </tr>\n",
       "    <tr>\n",
       "      <th>5</th>\n",
       "      <td>Tetris</td>\n",
       "      <td>GB</td>\n",
       "      <td>1989</td>\n",
       "      <td>Puzzle</td>\n",
       "      <td>23.20</td>\n",
       "      <td>2.26</td>\n",
       "      <td>4.22</td>\n",
       "      <td>0.58</td>\n",
       "      <td>NaN</td>\n",
       "      <td>NaN</td>\n",
       "      <td>NaN</td>\n",
       "    </tr>\n",
       "    <tr>\n",
       "      <th>9</th>\n",
       "      <td>Duck Hunt</td>\n",
       "      <td>NES</td>\n",
       "      <td>1984</td>\n",
       "      <td>Shooter</td>\n",
       "      <td>26.93</td>\n",
       "      <td>0.63</td>\n",
       "      <td>0.28</td>\n",
       "      <td>0.47</td>\n",
       "      <td>NaN</td>\n",
       "      <td>NaN</td>\n",
       "      <td>NaN</td>\n",
       "    </tr>\n",
       "    <tr>\n",
       "      <th>10</th>\n",
       "      <td>Nintendogs</td>\n",
       "      <td>DS</td>\n",
       "      <td>2005</td>\n",
       "      <td>Simulation</td>\n",
       "      <td>9.05</td>\n",
       "      <td>10.95</td>\n",
       "      <td>1.93</td>\n",
       "      <td>2.74</td>\n",
       "      <td>NaN</td>\n",
       "      <td>NaN</td>\n",
       "      <td>NaN</td>\n",
       "    </tr>\n",
       "    <tr>\n",
       "      <th>...</th>\n",
       "      <td>...</td>\n",
       "      <td>...</td>\n",
       "      <td>...</td>\n",
       "      <td>...</td>\n",
       "      <td>...</td>\n",
       "      <td>...</td>\n",
       "      <td>...</td>\n",
       "      <td>...</td>\n",
       "      <td>...</td>\n",
       "      <td>...</td>\n",
       "      <td>...</td>\n",
       "    </tr>\n",
       "    <tr>\n",
       "      <th>16710</th>\n",
       "      <td>Samurai Warriors: Sanada Maru</td>\n",
       "      <td>PS3</td>\n",
       "      <td>2016</td>\n",
       "      <td>Action</td>\n",
       "      <td>0.00</td>\n",
       "      <td>0.00</td>\n",
       "      <td>0.01</td>\n",
       "      <td>0.00</td>\n",
       "      <td>NaN</td>\n",
       "      <td>NaN</td>\n",
       "      <td>NaN</td>\n",
       "    </tr>\n",
       "    <tr>\n",
       "      <th>16711</th>\n",
       "      <td>LMA Manager 2007</td>\n",
       "      <td>X360</td>\n",
       "      <td>2006</td>\n",
       "      <td>Sports</td>\n",
       "      <td>0.00</td>\n",
       "      <td>0.01</td>\n",
       "      <td>0.00</td>\n",
       "      <td>0.00</td>\n",
       "      <td>NaN</td>\n",
       "      <td>NaN</td>\n",
       "      <td>NaN</td>\n",
       "    </tr>\n",
       "    <tr>\n",
       "      <th>16712</th>\n",
       "      <td>Haitaka no Psychedelica</td>\n",
       "      <td>PSV</td>\n",
       "      <td>2016</td>\n",
       "      <td>Adventure</td>\n",
       "      <td>0.00</td>\n",
       "      <td>0.00</td>\n",
       "      <td>0.01</td>\n",
       "      <td>0.00</td>\n",
       "      <td>NaN</td>\n",
       "      <td>NaN</td>\n",
       "      <td>NaN</td>\n",
       "    </tr>\n",
       "    <tr>\n",
       "      <th>16713</th>\n",
       "      <td>Spirits &amp; Spells</td>\n",
       "      <td>GBA</td>\n",
       "      <td>2003</td>\n",
       "      <td>Platform</td>\n",
       "      <td>0.01</td>\n",
       "      <td>0.00</td>\n",
       "      <td>0.00</td>\n",
       "      <td>0.00</td>\n",
       "      <td>NaN</td>\n",
       "      <td>NaN</td>\n",
       "      <td>NaN</td>\n",
       "    </tr>\n",
       "    <tr>\n",
       "      <th>16714</th>\n",
       "      <td>Winning Post 8 2016</td>\n",
       "      <td>PSV</td>\n",
       "      <td>2016</td>\n",
       "      <td>Simulation</td>\n",
       "      <td>0.00</td>\n",
       "      <td>0.00</td>\n",
       "      <td>0.01</td>\n",
       "      <td>0.00</td>\n",
       "      <td>NaN</td>\n",
       "      <td>NaN</td>\n",
       "      <td>NaN</td>\n",
       "    </tr>\n",
       "  </tbody>\n",
       "</table>\n",
       "<p>6766 rows × 11 columns</p>\n",
       "</div>"
      ],
      "text/plain": [
       "                                name platform  year_of_release         genre  \\\n",
       "1                  Super Mario Bros.      NES             1985      Platform   \n",
       "4           Pokemon Red/Pokemon Blue       GB             1996  Role-Playing   \n",
       "5                             Tetris       GB             1989        Puzzle   \n",
       "9                          Duck Hunt      NES             1984       Shooter   \n",
       "10                        Nintendogs       DS             2005    Simulation   \n",
       "...                              ...      ...              ...           ...   \n",
       "16710  Samurai Warriors: Sanada Maru      PS3             2016        Action   \n",
       "16711               LMA Manager 2007     X360             2006        Sports   \n",
       "16712        Haitaka no Psychedelica      PSV             2016     Adventure   \n",
       "16713               Spirits & Spells      GBA             2003      Platform   \n",
       "16714            Winning Post 8 2016      PSV             2016    Simulation   \n",
       "\n",
       "       na_sales  eu_sales  jp_sales  other_sales  critic_score  user_score  \\\n",
       "1         29.08      3.58      6.81         0.77           NaN         NaN   \n",
       "4         11.27      8.89     10.22         1.00           NaN         NaN   \n",
       "5         23.20      2.26      4.22         0.58           NaN         NaN   \n",
       "9         26.93      0.63      0.28         0.47           NaN         NaN   \n",
       "10         9.05     10.95      1.93         2.74           NaN         NaN   \n",
       "...         ...       ...       ...          ...           ...         ...   \n",
       "16710      0.00      0.00      0.01         0.00           NaN         NaN   \n",
       "16711      0.00      0.01      0.00         0.00           NaN         NaN   \n",
       "16712      0.00      0.00      0.01         0.00           NaN         NaN   \n",
       "16713      0.01      0.00      0.00         0.00           NaN         NaN   \n",
       "16714      0.00      0.00      0.01         0.00           NaN         NaN   \n",
       "\n",
       "      rating  \n",
       "1        NaN  \n",
       "4        NaN  \n",
       "5        NaN  \n",
       "9        NaN  \n",
       "10       NaN  \n",
       "...      ...  \n",
       "16710    NaN  \n",
       "16711    NaN  \n",
       "16712    NaN  \n",
       "16713    NaN  \n",
       "16714    NaN  \n",
       "\n",
       "[6766 rows x 11 columns]"
      ]
     },
     "execution_count": 17,
     "metadata": {},
     "output_type": "execute_result"
    }
   ],
   "source": [
    "rating_nan = video_juegos['rating']\n",
    "check_rating = rating_nan.isna()  \n",
    "rating_df_nan = video_juegos[check_rating]\n",
    "rating_df_nan"
   ]
  },
  {
   "cell_type": "markdown",
   "metadata": {},
   "source": [
    "En la tabla de valores ausentes vemos que hay que tomar una desición con respecto a los datos ausentes de las siguientes columnas: Name, Year_of_Release, Genre, Critic_Score, User_Score y Rating.\n",
    "\n",
    "**Name** no contamos con un nombre que identifique los datos de los juegos faltantes, por tal razón los valores se los deja ausentes.\n",
    "\n",
    "**Year_of_Release** no conocemos a que año pertenecen las ventas, por tal razón los valores se los deja ausentes.\n",
    "\n",
    "**Genre** no contamos con un nombre que identifique los datos a que género de los juegos corresponden los valores faltantes, por tal razón los valores se los deja ausentes.\n",
    "\n",
    "**Critic_Score, User_Score** no podemos rellenar los valores con la media de las calificaciones, por tal razón los valores se los deja ausentes.\n",
    "\n",
    "**rating** en el caso de esta columna, son clasificaciones utilizados en los videojuegos y otros programas de entretenimiento, por una entidad específica, por los que este campo **no puede ser** sustituido, lo dejamos con los valores ausentes, considerando este particular para lo futuros análisis. Asumimos que están vaciós por que no se registró ya que al ser algo importante dede ser un requisito para sacar un juego."
   ]
  },
  {
   "cell_type": "markdown",
   "metadata": {},
   "source": [
    "<div class=\"alert alert-block alert-danger\">\n",
    "<b>Comentario de Revisor</b> <a class=\"tocSkip\"></a>\n",
    "\n",
    "No estoy de acuerdo con las imputaciones. Primero, \"GEN\" parece ser el nombre de una consola, por lo que no estaría bien rellenar los nombres de juegos faltantes por GEN. Por otro lado, los nulos de `year_of_release` no necesariamente son del año 2016, o al menos no está justificado. Por último, para el resto de las imputaciones, no es buena idea rellenar todos los ausentes por la media o mediana de toda la data. Lo ideal es realizar una segmentación de los datos nulos y rellenar los nulos según al segmento que pertenece.\n",
    "    \n",
    "Para el análisis de este notebook puedes dejar los nulos tal como están o reemplazarlos por un valor que los identifique. En general, un trabajo de imputación requiere un poco más de análisis y no es el objetivo aquí.     \n",
    "\n",
    "</div>"
   ]
  },
  {
   "cell_type": "markdown",
   "metadata": {},
   "source": [
    "\n",
    "<div class=\"alert alert-block alert-info\">\n",
    "<b>Listo.</b> <a class=\"tocSkip\"></a>\n",
    "</div>"
   ]
  },
  {
   "cell_type": "markdown",
   "metadata": {},
   "source": [
    "<div class=\"alert alert-block alert-success\">\n",
    "<b>Comentario de Revisor v2</b> <a class=\"tocSkip\"></a>\n",
    "\n",
    "Ok, corregido\n",
    "\n",
    "</div>"
   ]
  },
  {
   "cell_type": "markdown",
   "metadata": {},
   "source": [
    "## Análisis de la Información que Proporcionan los Datos"
   ]
  },
  {
   "cell_type": "markdown",
   "metadata": {},
   "source": [
    "### Ventas Totales"
   ]
  },
  {
   "cell_type": "code",
   "execution_count": 18,
   "metadata": {
    "trusted": false
   },
   "outputs": [
    {
     "data": {
      "text/html": [
       "<div>\n",
       "<style scoped>\n",
       "    .dataframe tbody tr th:only-of-type {\n",
       "        vertical-align: middle;\n",
       "    }\n",
       "\n",
       "    .dataframe tbody tr th {\n",
       "        vertical-align: top;\n",
       "    }\n",
       "\n",
       "    .dataframe thead th {\n",
       "        text-align: right;\n",
       "    }\n",
       "</style>\n",
       "<table border=\"1\" class=\"dataframe\">\n",
       "  <thead>\n",
       "    <tr style=\"text-align: right;\">\n",
       "      <th></th>\n",
       "      <th>name</th>\n",
       "      <th>platform</th>\n",
       "      <th>year_of_release</th>\n",
       "      <th>genre</th>\n",
       "      <th>na_sales</th>\n",
       "      <th>eu_sales</th>\n",
       "      <th>jp_sales</th>\n",
       "      <th>other_sales</th>\n",
       "      <th>critic_score</th>\n",
       "      <th>user_score</th>\n",
       "      <th>rating</th>\n",
       "      <th>total_sales</th>\n",
       "    </tr>\n",
       "  </thead>\n",
       "  <tbody>\n",
       "    <tr>\n",
       "      <th>0</th>\n",
       "      <td>Wii Sports</td>\n",
       "      <td>Wii</td>\n",
       "      <td>2006</td>\n",
       "      <td>Sports</td>\n",
       "      <td>41.36</td>\n",
       "      <td>28.96</td>\n",
       "      <td>3.77</td>\n",
       "      <td>8.45</td>\n",
       "      <td>76.0</td>\n",
       "      <td>8.0</td>\n",
       "      <td>E</td>\n",
       "      <td>82.54</td>\n",
       "    </tr>\n",
       "    <tr>\n",
       "      <th>1</th>\n",
       "      <td>Super Mario Bros.</td>\n",
       "      <td>NES</td>\n",
       "      <td>1985</td>\n",
       "      <td>Platform</td>\n",
       "      <td>29.08</td>\n",
       "      <td>3.58</td>\n",
       "      <td>6.81</td>\n",
       "      <td>0.77</td>\n",
       "      <td>NaN</td>\n",
       "      <td>NaN</td>\n",
       "      <td>NaN</td>\n",
       "      <td>40.24</td>\n",
       "    </tr>\n",
       "    <tr>\n",
       "      <th>2</th>\n",
       "      <td>Mario Kart Wii</td>\n",
       "      <td>Wii</td>\n",
       "      <td>2008</td>\n",
       "      <td>Racing</td>\n",
       "      <td>15.68</td>\n",
       "      <td>12.76</td>\n",
       "      <td>3.79</td>\n",
       "      <td>3.29</td>\n",
       "      <td>82.0</td>\n",
       "      <td>8.3</td>\n",
       "      <td>E</td>\n",
       "      <td>35.52</td>\n",
       "    </tr>\n",
       "    <tr>\n",
       "      <th>3</th>\n",
       "      <td>Wii Sports Resort</td>\n",
       "      <td>Wii</td>\n",
       "      <td>2009</td>\n",
       "      <td>Sports</td>\n",
       "      <td>15.61</td>\n",
       "      <td>10.93</td>\n",
       "      <td>3.28</td>\n",
       "      <td>2.95</td>\n",
       "      <td>80.0</td>\n",
       "      <td>8.0</td>\n",
       "      <td>E</td>\n",
       "      <td>32.77</td>\n",
       "    </tr>\n",
       "    <tr>\n",
       "      <th>4</th>\n",
       "      <td>Pokemon Red/Pokemon Blue</td>\n",
       "      <td>GB</td>\n",
       "      <td>1996</td>\n",
       "      <td>Role-Playing</td>\n",
       "      <td>11.27</td>\n",
       "      <td>8.89</td>\n",
       "      <td>10.22</td>\n",
       "      <td>1.00</td>\n",
       "      <td>NaN</td>\n",
       "      <td>NaN</td>\n",
       "      <td>NaN</td>\n",
       "      <td>31.38</td>\n",
       "    </tr>\n",
       "  </tbody>\n",
       "</table>\n",
       "</div>"
      ],
      "text/plain": [
       "                       name platform  year_of_release         genre  na_sales  \\\n",
       "0                Wii Sports      Wii             2006        Sports     41.36   \n",
       "1         Super Mario Bros.      NES             1985      Platform     29.08   \n",
       "2            Mario Kart Wii      Wii             2008        Racing     15.68   \n",
       "3         Wii Sports Resort      Wii             2009        Sports     15.61   \n",
       "4  Pokemon Red/Pokemon Blue       GB             1996  Role-Playing     11.27   \n",
       "\n",
       "   eu_sales  jp_sales  other_sales  critic_score  user_score rating  \\\n",
       "0     28.96      3.77         8.45          76.0         8.0      E   \n",
       "1      3.58      6.81         0.77           NaN         NaN    NaN   \n",
       "2     12.76      3.79         3.29          82.0         8.3      E   \n",
       "3     10.93      3.28         2.95          80.0         8.0      E   \n",
       "4      8.89     10.22         1.00           NaN         NaN    NaN   \n",
       "\n",
       "   total_sales  \n",
       "0        82.54  \n",
       "1        40.24  \n",
       "2        35.52  \n",
       "3        32.77  \n",
       "4        31.38  "
      ]
     },
     "execution_count": 18,
     "metadata": {},
     "output_type": "execute_result"
    }
   ],
   "source": [
    "video_juegos['total_sales'] = video_juegos['eu_sales'] + video_juegos['jp_sales'] + video_juegos['na_sales'] + video_juegos['other_sales']\n",
    "video_juegos.head()"
   ]
  },
  {
   "cell_type": "markdown",
   "metadata": {},
   "source": [
    "<div class=\"alert alert-block alert-success\">\n",
    "<b>Comentario de Revisor</b> <a class=\"tocSkip\"></a>\n",
    "\n",
    "Muy bien, también podrías haber usado\n",
    "    \n",
    "    df[['na_sales','jp_sales','eu_sales','other_sales']].sum(axis=1)\n",
    "\n",
    "</div>"
   ]
  },
  {
   "cell_type": "code",
   "execution_count": 19,
   "metadata": {
    "trusted": false
   },
   "outputs": [
    {
     "data": {
      "text/html": [
       "<div>\n",
       "<style scoped>\n",
       "    .dataframe tbody tr th:only-of-type {\n",
       "        vertical-align: middle;\n",
       "    }\n",
       "\n",
       "    .dataframe tbody tr th {\n",
       "        vertical-align: top;\n",
       "    }\n",
       "\n",
       "    .dataframe thead th {\n",
       "        text-align: right;\n",
       "    }\n",
       "</style>\n",
       "<table border=\"1\" class=\"dataframe\">\n",
       "  <thead>\n",
       "    <tr style=\"text-align: right;\">\n",
       "      <th></th>\n",
       "      <th>platform</th>\n",
       "      <th>total_sales_value</th>\n",
       "    </tr>\n",
       "  </thead>\n",
       "  <tbody>\n",
       "    <tr>\n",
       "      <th>0</th>\n",
       "      <td>2600</td>\n",
       "      <td>96.98</td>\n",
       "    </tr>\n",
       "    <tr>\n",
       "      <th>1</th>\n",
       "      <td>3DO</td>\n",
       "      <td>0.10</td>\n",
       "    </tr>\n",
       "    <tr>\n",
       "      <th>2</th>\n",
       "      <td>3DS</td>\n",
       "      <td>259.00</td>\n",
       "    </tr>\n",
       "    <tr>\n",
       "      <th>3</th>\n",
       "      <td>DC</td>\n",
       "      <td>15.95</td>\n",
       "    </tr>\n",
       "    <tr>\n",
       "      <th>4</th>\n",
       "      <td>DS</td>\n",
       "      <td>806.12</td>\n",
       "    </tr>\n",
       "  </tbody>\n",
       "</table>\n",
       "</div>"
      ],
      "text/plain": [
       "  platform  total_sales_value\n",
       "0     2600              96.98\n",
       "1      3DO               0.10\n",
       "2      3DS             259.00\n",
       "3       DC              15.95\n",
       "4       DS             806.12"
      ]
     },
     "execution_count": 19,
     "metadata": {},
     "output_type": "execute_result"
    }
   ],
   "source": [
    "sales_by_platform = video_juegos.groupby('platform')['total_sales'].sum().reset_index(name='total_sales_value')\n",
    "sales_by_platform.head()"
   ]
  },
  {
   "cell_type": "code",
   "execution_count": 20,
   "metadata": {
    "trusted": false
   },
   "outputs": [
    {
     "data": {
      "text/html": [
       "<div>\n",
       "<style scoped>\n",
       "    .dataframe tbody tr th:only-of-type {\n",
       "        vertical-align: middle;\n",
       "    }\n",
       "\n",
       "    .dataframe tbody tr th {\n",
       "        vertical-align: top;\n",
       "    }\n",
       "\n",
       "    .dataframe thead th {\n",
       "        text-align: right;\n",
       "    }\n",
       "</style>\n",
       "<table border=\"1\" class=\"dataframe\">\n",
       "  <thead>\n",
       "    <tr style=\"text-align: right;\">\n",
       "      <th></th>\n",
       "      <th>platform</th>\n",
       "      <th>total_sales_value</th>\n",
       "      <th>peso_by_platform</th>\n",
       "    </tr>\n",
       "  </thead>\n",
       "  <tbody>\n",
       "    <tr>\n",
       "      <th>0</th>\n",
       "      <td>2600</td>\n",
       "      <td>96.98</td>\n",
       "      <td>1.087743</td>\n",
       "    </tr>\n",
       "    <tr>\n",
       "      <th>1</th>\n",
       "      <td>3DO</td>\n",
       "      <td>0.10</td>\n",
       "      <td>0.001122</td>\n",
       "    </tr>\n",
       "    <tr>\n",
       "      <th>2</th>\n",
       "      <td>3DS</td>\n",
       "      <td>259.00</td>\n",
       "      <td>2.904985</td>\n",
       "    </tr>\n",
       "    <tr>\n",
       "      <th>3</th>\n",
       "      <td>DC</td>\n",
       "      <td>15.95</td>\n",
       "      <td>0.178898</td>\n",
       "    </tr>\n",
       "    <tr>\n",
       "      <th>4</th>\n",
       "      <td>DS</td>\n",
       "      <td>806.12</td>\n",
       "      <td>9.041568</td>\n",
       "    </tr>\n",
       "  </tbody>\n",
       "</table>\n",
       "</div>"
      ],
      "text/plain": [
       "  platform  total_sales_value  peso_by_platform\n",
       "0     2600              96.98          1.087743\n",
       "1      3DO               0.10          0.001122\n",
       "2      3DS             259.00          2.904985\n",
       "3       DC              15.95          0.178898\n",
       "4       DS             806.12          9.041568"
      ]
     },
     "execution_count": 20,
     "metadata": {},
     "output_type": "execute_result"
    }
   ],
   "source": [
    "total_sales_by_platform = sales_by_platform['total_sales_value'].sum()\n",
    "sales_by_platform['peso_by_platform'] = sales_by_platform['total_sales_value'] / total_sales_by_platform * 100\n",
    "sales_by_platform.head()"
   ]
  },
  {
   "cell_type": "code",
   "execution_count": 21,
   "metadata": {
    "trusted": false
   },
   "outputs": [
    {
     "data": {
      "text/html": [
       "<div>\n",
       "<style scoped>\n",
       "    .dataframe tbody tr th:only-of-type {\n",
       "        vertical-align: middle;\n",
       "    }\n",
       "\n",
       "    .dataframe tbody tr th {\n",
       "        vertical-align: top;\n",
       "    }\n",
       "\n",
       "    .dataframe thead th {\n",
       "        text-align: right;\n",
       "    }\n",
       "</style>\n",
       "<table border=\"1\" class=\"dataframe\">\n",
       "  <thead>\n",
       "    <tr style=\"text-align: right;\">\n",
       "      <th></th>\n",
       "      <th>platform</th>\n",
       "      <th>total_sales_value</th>\n",
       "      <th>peso_by_platform</th>\n",
       "      <th>cumulative_percentage</th>\n",
       "    </tr>\n",
       "  </thead>\n",
       "  <tbody>\n",
       "    <tr>\n",
       "      <th>16</th>\n",
       "      <td>PS2</td>\n",
       "      <td>1255.77</td>\n",
       "      <td>14.084913</td>\n",
       "      <td>14.08</td>\n",
       "    </tr>\n",
       "    <tr>\n",
       "      <th>28</th>\n",
       "      <td>X360</td>\n",
       "      <td>971.42</td>\n",
       "      <td>10.895599</td>\n",
       "      <td>24.98</td>\n",
       "    </tr>\n",
       "    <tr>\n",
       "      <th>17</th>\n",
       "      <td>PS3</td>\n",
       "      <td>939.65</td>\n",
       "      <td>10.539262</td>\n",
       "      <td>35.52</td>\n",
       "    </tr>\n",
       "    <tr>\n",
       "      <th>26</th>\n",
       "      <td>Wii</td>\n",
       "      <td>907.51</td>\n",
       "      <td>10.178774</td>\n",
       "      <td>45.70</td>\n",
       "    </tr>\n",
       "    <tr>\n",
       "      <th>4</th>\n",
       "      <td>DS</td>\n",
       "      <td>806.12</td>\n",
       "      <td>9.041568</td>\n",
       "      <td>54.74</td>\n",
       "    </tr>\n",
       "  </tbody>\n",
       "</table>\n",
       "</div>"
      ],
      "text/plain": [
       "   platform  total_sales_value  peso_by_platform  cumulative_percentage\n",
       "16      PS2            1255.77         14.084913                  14.08\n",
       "28     X360             971.42         10.895599                  24.98\n",
       "17      PS3             939.65         10.539262                  35.52\n",
       "26      Wii             907.51         10.178774                  45.70\n",
       "4        DS             806.12          9.041568                  54.74"
      ]
     },
     "execution_count": 21,
     "metadata": {},
     "output_type": "execute_result"
    }
   ],
   "source": [
    "sort_platforms = sales_by_platform.sort_values(by='peso_by_platform', ascending=False)\n",
    "sort_platforms['cumulative_percentage'] = (sort_platforms['peso_by_platform'].cumsum()).round(2)\n",
    "sort_platforms.head()"
   ]
  },
  {
   "cell_type": "code",
   "execution_count": 22,
   "metadata": {
    "trusted": false
   },
   "outputs": [
    {
     "data": {
      "text/html": [
       "<div>\n",
       "<style scoped>\n",
       "    .dataframe tbody tr th:only-of-type {\n",
       "        vertical-align: middle;\n",
       "    }\n",
       "\n",
       "    .dataframe tbody tr th {\n",
       "        vertical-align: top;\n",
       "    }\n",
       "\n",
       "    .dataframe thead th {\n",
       "        text-align: right;\n",
       "    }\n",
       "</style>\n",
       "<table border=\"1\" class=\"dataframe\">\n",
       "  <thead>\n",
       "    <tr style=\"text-align: right;\">\n",
       "      <th></th>\n",
       "      <th>platform</th>\n",
       "      <th>total_sales_value</th>\n",
       "      <th>peso_by_platform</th>\n",
       "      <th>cumulative_percentage</th>\n",
       "    </tr>\n",
       "  </thead>\n",
       "  <tbody>\n",
       "    <tr>\n",
       "      <th>16</th>\n",
       "      <td>PS2</td>\n",
       "      <td>1255.77</td>\n",
       "      <td>14.084913</td>\n",
       "      <td>14.08</td>\n",
       "    </tr>\n",
       "    <tr>\n",
       "      <th>28</th>\n",
       "      <td>X360</td>\n",
       "      <td>971.42</td>\n",
       "      <td>10.895599</td>\n",
       "      <td>24.98</td>\n",
       "    </tr>\n",
       "    <tr>\n",
       "      <th>17</th>\n",
       "      <td>PS3</td>\n",
       "      <td>939.65</td>\n",
       "      <td>10.539262</td>\n",
       "      <td>35.52</td>\n",
       "    </tr>\n",
       "    <tr>\n",
       "      <th>26</th>\n",
       "      <td>Wii</td>\n",
       "      <td>907.51</td>\n",
       "      <td>10.178774</td>\n",
       "      <td>45.70</td>\n",
       "    </tr>\n",
       "    <tr>\n",
       "      <th>4</th>\n",
       "      <td>DS</td>\n",
       "      <td>806.12</td>\n",
       "      <td>9.041568</td>\n",
       "      <td>54.74</td>\n",
       "    </tr>\n",
       "    <tr>\n",
       "      <th>15</th>\n",
       "      <td>PS</td>\n",
       "      <td>730.86</td>\n",
       "      <td>8.197440</td>\n",
       "      <td>62.94</td>\n",
       "    </tr>\n",
       "    <tr>\n",
       "      <th>6</th>\n",
       "      <td>GBA</td>\n",
       "      <td>317.85</td>\n",
       "      <td>3.565055</td>\n",
       "      <td>66.50</td>\n",
       "    </tr>\n",
       "    <tr>\n",
       "      <th>18</th>\n",
       "      <td>PS4</td>\n",
       "      <td>314.14</td>\n",
       "      <td>3.523443</td>\n",
       "      <td>70.03</td>\n",
       "    </tr>\n",
       "    <tr>\n",
       "      <th>19</th>\n",
       "      <td>PSP</td>\n",
       "      <td>294.05</td>\n",
       "      <td>3.298111</td>\n",
       "      <td>73.32</td>\n",
       "    </tr>\n",
       "    <tr>\n",
       "      <th>13</th>\n",
       "      <td>PC</td>\n",
       "      <td>259.52</td>\n",
       "      <td>2.910817</td>\n",
       "      <td>76.23</td>\n",
       "    </tr>\n",
       "    <tr>\n",
       "      <th>2</th>\n",
       "      <td>3DS</td>\n",
       "      <td>259.00</td>\n",
       "      <td>2.904985</td>\n",
       "      <td>79.14</td>\n",
       "    </tr>\n",
       "  </tbody>\n",
       "</table>\n",
       "</div>"
      ],
      "text/plain": [
       "   platform  total_sales_value  peso_by_platform  cumulative_percentage\n",
       "16      PS2            1255.77         14.084913                  14.08\n",
       "28     X360             971.42         10.895599                  24.98\n",
       "17      PS3             939.65         10.539262                  35.52\n",
       "26      Wii             907.51         10.178774                  45.70\n",
       "4        DS             806.12          9.041568                  54.74\n",
       "15       PS             730.86          8.197440                  62.94\n",
       "6       GBA             317.85          3.565055                  66.50\n",
       "18      PS4             314.14          3.523443                  70.03\n",
       "19      PSP             294.05          3.298111                  73.32\n",
       "13       PC             259.52          2.910817                  76.23\n",
       "2       3DS             259.00          2.904985                  79.14"
      ]
     },
     "execution_count": 22,
     "metadata": {},
     "output_type": "execute_result"
    }
   ],
   "source": [
    "eighty_percent_platforms = sort_platforms[sort_platforms['cumulative_percentage'] <= 80]\n",
    "eighty_percent_platforms"
   ]
  },
  {
   "cell_type": "code",
   "execution_count": 23,
   "metadata": {
    "trusted": false
   },
   "outputs": [
    {
     "data": {
      "text/plain": [
       "'El 80% de las ventas está concentrado en: 11 plataformas de 31 plataformas totales'"
      ]
     },
     "execution_count": 23,
     "metadata": {},
     "output_type": "execute_result"
    }
   ],
   "source": [
    "f\"El 80% de las ventas está concentrado en: {eighty_percent_platforms['platform'].count()} plataformas de {sales_by_platform['platform'].count()} plataformas totales\"\n"
   ]
  },
  {
   "cell_type": "markdown",
   "metadata": {},
   "source": [
    "<div class=\"alert alert-block alert-success\">\n",
    "<b>Comentario de Revisor</b> <a class=\"tocSkip\"></a>\n",
    "\n",
    "Ok, muy bien con este dato, es importante saber dónde se acumulan las ventas y nos da una idea de las plataformas que podrían ser relevantes\n",
    "\n",
    "</div>"
   ]
  },
  {
   "cell_type": "markdown",
   "metadata": {},
   "source": [
    "Para inicializar un análisis procedimos a conocer las ventas totales, ya que contamos con data de las ventas por región, es importante a una primera vista conocer de nivel 1 como están concentradas las ventas, por lo que procedimos a aumentar una columna con el total de la ventas por juego, llamada **total_sales**, con esta nueva columna, utilizando el método **(.groupby)** agrupamos las ventas totales por plataforma, en esta nueva tabla, primero debíamos conocer la venta total, por lo que, con el método **(.sum)** de la columna de ventas totales, procedimos a calcular el peso de las ventas de cada plataforma, creando una nueva columna **peso_by_platform**, con el método **(.sort_value)** ordenamos la tabla de mayor a menor, considerando la columna **peso_by_platform**, y el parámetro **ascending=False**. \n",
    "\n",
    "Se requiere realizar un análisis con el principio de pareto, para conocer la concentración del 80% de las ventas, para lo que, era necesario conocer el % acumulado, con el método **(.cumsum)** creamos una nueva columna llamada **cumulative_percentage**, y realizamos un filtro de las plataformas que en esta columna estaban por debajo del 80%. \n",
    "\n",
    "Así obtuvimos que ***el 80% de las ventas esta concentrado en el 11 plataformas, que es el 35% de las plataformas***, con este primer análisis se puede concluir o tomar algun primer paso en las acciones."
   ]
  },
  {
   "cell_type": "markdown",
   "metadata": {},
   "source": [
    "### Juegos Por Año"
   ]
  },
  {
   "cell_type": "code",
   "execution_count": 24,
   "metadata": {
    "trusted": false
   },
   "outputs": [
    {
     "data": {
      "text/html": [
       "<div>\n",
       "<style scoped>\n",
       "    .dataframe tbody tr th:only-of-type {\n",
       "        vertical-align: middle;\n",
       "    }\n",
       "\n",
       "    .dataframe tbody tr th {\n",
       "        vertical-align: top;\n",
       "    }\n",
       "\n",
       "    .dataframe thead th {\n",
       "        text-align: right;\n",
       "    }\n",
       "</style>\n",
       "<table border=\"1\" class=\"dataframe\">\n",
       "  <thead>\n",
       "    <tr style=\"text-align: right;\">\n",
       "      <th></th>\n",
       "      <th>year_of_release</th>\n",
       "      <th>count_name</th>\n",
       "    </tr>\n",
       "  </thead>\n",
       "  <tbody>\n",
       "    <tr>\n",
       "      <th>count</th>\n",
       "      <td>37.000000</td>\n",
       "      <td>37.000000</td>\n",
       "    </tr>\n",
       "    <tr>\n",
       "      <th>mean</th>\n",
       "      <td>1998.000000</td>\n",
       "      <td>444.432432</td>\n",
       "    </tr>\n",
       "    <tr>\n",
       "      <th>std</th>\n",
       "      <td>10.824355</td>\n",
       "      <td>451.604334</td>\n",
       "    </tr>\n",
       "    <tr>\n",
       "      <th>min</th>\n",
       "      <td>1980.000000</td>\n",
       "      <td>9.000000</td>\n",
       "    </tr>\n",
       "    <tr>\n",
       "      <th>25%</th>\n",
       "      <td>1989.000000</td>\n",
       "      <td>36.000000</td>\n",
       "    </tr>\n",
       "    <tr>\n",
       "      <th>50%</th>\n",
       "      <td>1998.000000</td>\n",
       "      <td>338.000000</td>\n",
       "    </tr>\n",
       "    <tr>\n",
       "      <th>75%</th>\n",
       "      <td>2007.000000</td>\n",
       "      <td>762.000000</td>\n",
       "    </tr>\n",
       "    <tr>\n",
       "      <th>max</th>\n",
       "      <td>2016.000000</td>\n",
       "      <td>1427.000000</td>\n",
       "    </tr>\n",
       "  </tbody>\n",
       "</table>\n",
       "</div>"
      ],
      "text/plain": [
       "       year_of_release   count_name\n",
       "count        37.000000    37.000000\n",
       "mean       1998.000000   444.432432\n",
       "std          10.824355   451.604334\n",
       "min        1980.000000     9.000000\n",
       "25%        1989.000000    36.000000\n",
       "50%        1998.000000   338.000000\n",
       "75%        2007.000000   762.000000\n",
       "max        2016.000000  1427.000000"
      ]
     },
     "execution_count": 24,
     "metadata": {},
     "output_type": "execute_result"
    }
   ],
   "source": [
    "games_by_year = video_juegos.groupby('year_of_release')['name'].count().reset_index(name='count_name')\n",
    "games_by_year.describe()"
   ]
  },
  {
   "cell_type": "code",
   "execution_count": 25,
   "metadata": {
    "trusted": false
   },
   "outputs": [
    {
     "data": {
      "image/png": "[encoded data removed]",
      "text/plain": [
       "<Figure size 640x480 with 1 Axes>"
      ]
     },
     "metadata": {},
     "output_type": "display_data"
    }
   ],
   "source": [
    "games_by_year.plot(x='year_of_release', y='count_name')\n",
    "plt.title('Lanzamiento de Juegos por Año')\n",
    "plt.xlabel('Año')\n",
    "plt.ylabel('Cantidad de Juegos')\n",
    "plt.show()"
   ]
  },
  {
   "cell_type": "markdown",
   "metadata": {},
   "source": [
    "Realizamos un nuevo DF agrupando los datos por año de lanzamiento, utilizando el método **(.groupby)**, para conocer la relevancia de éstos, hiciemos 2 análisis:\n",
    "El primero urilizando el método **(.describe)**, en donde podemos concluir que hay *37 años* en el análisis, que el año mínimo es *1980* y el mayor es el *2016*, así tambien, por año se lanza un promedio  de *458 juegos*; la desviación estándar de *455 juegos* es bastante alta, incluso mayor que la media, esto sugiere una gran variabilidad en el lanzamiento de videojuegos de un año a otro, por esta razón se realizó el segundo análsis, en el que utilizamos la gráfica de líneas, con el método **(.plot)**, en esta gráfica vemos que efectivamente hay años entre el 2005 y el 2010 que son los años con mayor número de lanzamientos. \n",
    "Viendo el mínimo de *9 juegos* y el máximo de *1427 juegos* nos muestra más la variabilidad  de lanzamientos entre años. Viendo los cuartiles, encontramos que el 25% de los años tuvieron *36* o menos lanzamientos, el 50% de los años tuvieron *338* o menos lanzamientos, que nos indica que la distribución podría estar algo sesgada hacia la derecha, lo que vemos en la gráfico, donde al lado derecho de la media está la concentración de los datos y el 75% de los años tuvieron *771* o menos lanzamientos.\n",
    "\n",
    "Estos 2 análisis nos permite determinar ***que el número de videojuegos lanzados por año ha variado significativamente a lo largo del tiempo.***"
   ]
  },
  {
   "cell_type": "markdown",
   "metadata": {},
   "source": [
    "<div class=\"alert alert-block alert-success\">\n",
    "<b>Comentario de Revisor</b> <a class=\"tocSkip\"></a>\n",
    "\n",
    "Bien, correcto. El gráfico es claro, hubo un peak a fines de los 2000 y luego ha caido a niveles similares a los de inicios del 2000.\n",
    "\n",
    "</div>"
   ]
  },
  {
   "cell_type": "markdown",
   "metadata": {},
   "source": [
    "### Ventas por Plataforma"
   ]
  },
  {
   "cell_type": "code",
   "execution_count": 26,
   "metadata": {
    "trusted": false
   },
   "outputs": [
    {
     "data": {
      "image/png": "[encoded data removed]",
      "text/plain": [
       "<Figure size 640x480 with 1 Axes>"
      ]
     },
     "metadata": {},
     "output_type": "display_data"
    }
   ],
   "source": [
    "sales_by_platform.plot(x='platform', y='total_sales_value', kind='scatter', rot=90)\n",
    "plt.title('Ventas Totales por Plataforma')\n",
    "plt.xlabel('Plataforma')\n",
    "plt.ylabel('Ventas Totales')\n",
    "plt.show()"
   ]
  },
  {
   "cell_type": "code",
   "execution_count": 27,
   "metadata": {
    "trusted": false
   },
   "outputs": [
    {
     "data": {
      "text/html": [
       "<div>\n",
       "<style scoped>\n",
       "    .dataframe tbody tr th:only-of-type {\n",
       "        vertical-align: middle;\n",
       "    }\n",
       "\n",
       "    .dataframe tbody tr th {\n",
       "        vertical-align: top;\n",
       "    }\n",
       "\n",
       "    .dataframe thead th {\n",
       "        text-align: right;\n",
       "    }\n",
       "</style>\n",
       "<table border=\"1\" class=\"dataframe\">\n",
       "  <thead>\n",
       "    <tr style=\"text-align: right;\">\n",
       "      <th>platform</th>\n",
       "      <th>year_of_release</th>\n",
       "      <th>2600</th>\n",
       "      <th>3DO</th>\n",
       "      <th>3DS</th>\n",
       "      <th>DC</th>\n",
       "      <th>DS</th>\n",
       "      <th>GB</th>\n",
       "      <th>GBA</th>\n",
       "      <th>GC</th>\n",
       "      <th>GEN</th>\n",
       "      <th>...</th>\n",
       "      <th>SAT</th>\n",
       "      <th>SCD</th>\n",
       "      <th>SNES</th>\n",
       "      <th>TG16</th>\n",
       "      <th>WS</th>\n",
       "      <th>Wii</th>\n",
       "      <th>WiiU</th>\n",
       "      <th>X360</th>\n",
       "      <th>XB</th>\n",
       "      <th>XOne</th>\n",
       "    </tr>\n",
       "  </thead>\n",
       "  <tbody>\n",
       "    <tr>\n",
       "      <th>0</th>\n",
       "      <td>1980</td>\n",
       "      <td>11.38</td>\n",
       "      <td>NaN</td>\n",
       "      <td>NaN</td>\n",
       "      <td>NaN</td>\n",
       "      <td>NaN</td>\n",
       "      <td>NaN</td>\n",
       "      <td>NaN</td>\n",
       "      <td>NaN</td>\n",
       "      <td>NaN</td>\n",
       "      <td>...</td>\n",
       "      <td>NaN</td>\n",
       "      <td>NaN</td>\n",
       "      <td>NaN</td>\n",
       "      <td>NaN</td>\n",
       "      <td>NaN</td>\n",
       "      <td>NaN</td>\n",
       "      <td>NaN</td>\n",
       "      <td>NaN</td>\n",
       "      <td>NaN</td>\n",
       "      <td>NaN</td>\n",
       "    </tr>\n",
       "    <tr>\n",
       "      <th>1</th>\n",
       "      <td>1981</td>\n",
       "      <td>35.68</td>\n",
       "      <td>NaN</td>\n",
       "      <td>NaN</td>\n",
       "      <td>NaN</td>\n",
       "      <td>NaN</td>\n",
       "      <td>NaN</td>\n",
       "      <td>NaN</td>\n",
       "      <td>NaN</td>\n",
       "      <td>NaN</td>\n",
       "      <td>...</td>\n",
       "      <td>NaN</td>\n",
       "      <td>NaN</td>\n",
       "      <td>NaN</td>\n",
       "      <td>NaN</td>\n",
       "      <td>NaN</td>\n",
       "      <td>NaN</td>\n",
       "      <td>NaN</td>\n",
       "      <td>NaN</td>\n",
       "      <td>NaN</td>\n",
       "      <td>NaN</td>\n",
       "    </tr>\n",
       "    <tr>\n",
       "      <th>2</th>\n",
       "      <td>1982</td>\n",
       "      <td>28.88</td>\n",
       "      <td>NaN</td>\n",
       "      <td>NaN</td>\n",
       "      <td>NaN</td>\n",
       "      <td>NaN</td>\n",
       "      <td>NaN</td>\n",
       "      <td>NaN</td>\n",
       "      <td>NaN</td>\n",
       "      <td>NaN</td>\n",
       "      <td>...</td>\n",
       "      <td>NaN</td>\n",
       "      <td>NaN</td>\n",
       "      <td>NaN</td>\n",
       "      <td>NaN</td>\n",
       "      <td>NaN</td>\n",
       "      <td>NaN</td>\n",
       "      <td>NaN</td>\n",
       "      <td>NaN</td>\n",
       "      <td>NaN</td>\n",
       "      <td>NaN</td>\n",
       "    </tr>\n",
       "    <tr>\n",
       "      <th>3</th>\n",
       "      <td>1983</td>\n",
       "      <td>5.84</td>\n",
       "      <td>NaN</td>\n",
       "      <td>NaN</td>\n",
       "      <td>NaN</td>\n",
       "      <td>NaN</td>\n",
       "      <td>NaN</td>\n",
       "      <td>NaN</td>\n",
       "      <td>NaN</td>\n",
       "      <td>NaN</td>\n",
       "      <td>...</td>\n",
       "      <td>NaN</td>\n",
       "      <td>NaN</td>\n",
       "      <td>NaN</td>\n",
       "      <td>NaN</td>\n",
       "      <td>NaN</td>\n",
       "      <td>NaN</td>\n",
       "      <td>NaN</td>\n",
       "      <td>NaN</td>\n",
       "      <td>NaN</td>\n",
       "      <td>NaN</td>\n",
       "    </tr>\n",
       "    <tr>\n",
       "      <th>4</th>\n",
       "      <td>1984</td>\n",
       "      <td>0.27</td>\n",
       "      <td>NaN</td>\n",
       "      <td>NaN</td>\n",
       "      <td>NaN</td>\n",
       "      <td>NaN</td>\n",
       "      <td>NaN</td>\n",
       "      <td>NaN</td>\n",
       "      <td>NaN</td>\n",
       "      <td>NaN</td>\n",
       "      <td>...</td>\n",
       "      <td>NaN</td>\n",
       "      <td>NaN</td>\n",
       "      <td>NaN</td>\n",
       "      <td>NaN</td>\n",
       "      <td>NaN</td>\n",
       "      <td>NaN</td>\n",
       "      <td>NaN</td>\n",
       "      <td>NaN</td>\n",
       "      <td>NaN</td>\n",
       "      <td>NaN</td>\n",
       "    </tr>\n",
       "    <tr>\n",
       "      <th>5</th>\n",
       "      <td>1985</td>\n",
       "      <td>0.45</td>\n",
       "      <td>NaN</td>\n",
       "      <td>NaN</td>\n",
       "      <td>NaN</td>\n",
       "      <td>0.02</td>\n",
       "      <td>NaN</td>\n",
       "      <td>NaN</td>\n",
       "      <td>NaN</td>\n",
       "      <td>NaN</td>\n",
       "      <td>...</td>\n",
       "      <td>NaN</td>\n",
       "      <td>NaN</td>\n",
       "      <td>NaN</td>\n",
       "      <td>NaN</td>\n",
       "      <td>NaN</td>\n",
       "      <td>NaN</td>\n",
       "      <td>NaN</td>\n",
       "      <td>NaN</td>\n",
       "      <td>NaN</td>\n",
       "      <td>NaN</td>\n",
       "    </tr>\n",
       "    <tr>\n",
       "      <th>6</th>\n",
       "      <td>1986</td>\n",
       "      <td>0.67</td>\n",
       "      <td>NaN</td>\n",
       "      <td>NaN</td>\n",
       "      <td>NaN</td>\n",
       "      <td>NaN</td>\n",
       "      <td>NaN</td>\n",
       "      <td>NaN</td>\n",
       "      <td>NaN</td>\n",
       "      <td>NaN</td>\n",
       "      <td>...</td>\n",
       "      <td>NaN</td>\n",
       "      <td>NaN</td>\n",
       "      <td>NaN</td>\n",
       "      <td>NaN</td>\n",
       "      <td>NaN</td>\n",
       "      <td>NaN</td>\n",
       "      <td>NaN</td>\n",
       "      <td>NaN</td>\n",
       "      <td>NaN</td>\n",
       "      <td>NaN</td>\n",
       "    </tr>\n",
       "    <tr>\n",
       "      <th>7</th>\n",
       "      <td>1987</td>\n",
       "      <td>1.94</td>\n",
       "      <td>NaN</td>\n",
       "      <td>NaN</td>\n",
       "      <td>NaN</td>\n",
       "      <td>NaN</td>\n",
       "      <td>NaN</td>\n",
       "      <td>NaN</td>\n",
       "      <td>NaN</td>\n",
       "      <td>NaN</td>\n",
       "      <td>...</td>\n",
       "      <td>NaN</td>\n",
       "      <td>NaN</td>\n",
       "      <td>NaN</td>\n",
       "      <td>NaN</td>\n",
       "      <td>NaN</td>\n",
       "      <td>NaN</td>\n",
       "      <td>NaN</td>\n",
       "      <td>NaN</td>\n",
       "      <td>NaN</td>\n",
       "      <td>NaN</td>\n",
       "    </tr>\n",
       "    <tr>\n",
       "      <th>8</th>\n",
       "      <td>1988</td>\n",
       "      <td>0.74</td>\n",
       "      <td>NaN</td>\n",
       "      <td>NaN</td>\n",
       "      <td>NaN</td>\n",
       "      <td>NaN</td>\n",
       "      <td>1.43</td>\n",
       "      <td>NaN</td>\n",
       "      <td>NaN</td>\n",
       "      <td>NaN</td>\n",
       "      <td>...</td>\n",
       "      <td>NaN</td>\n",
       "      <td>NaN</td>\n",
       "      <td>NaN</td>\n",
       "      <td>NaN</td>\n",
       "      <td>NaN</td>\n",
       "      <td>NaN</td>\n",
       "      <td>NaN</td>\n",
       "      <td>NaN</td>\n",
       "      <td>NaN</td>\n",
       "      <td>NaN</td>\n",
       "    </tr>\n",
       "    <tr>\n",
       "      <th>9</th>\n",
       "      <td>1989</td>\n",
       "      <td>0.63</td>\n",
       "      <td>NaN</td>\n",
       "      <td>NaN</td>\n",
       "      <td>NaN</td>\n",
       "      <td>NaN</td>\n",
       "      <td>64.97</td>\n",
       "      <td>NaN</td>\n",
       "      <td>NaN</td>\n",
       "      <td>NaN</td>\n",
       "      <td>...</td>\n",
       "      <td>NaN</td>\n",
       "      <td>NaN</td>\n",
       "      <td>NaN</td>\n",
       "      <td>NaN</td>\n",
       "      <td>NaN</td>\n",
       "      <td>NaN</td>\n",
       "      <td>NaN</td>\n",
       "      <td>NaN</td>\n",
       "      <td>NaN</td>\n",
       "      <td>NaN</td>\n",
       "    </tr>\n",
       "    <tr>\n",
       "      <th>10</th>\n",
       "      <td>1990</td>\n",
       "      <td>NaN</td>\n",
       "      <td>NaN</td>\n",
       "      <td>NaN</td>\n",
       "      <td>NaN</td>\n",
       "      <td>NaN</td>\n",
       "      <td>4.89</td>\n",
       "      <td>NaN</td>\n",
       "      <td>NaN</td>\n",
       "      <td>2.60</td>\n",
       "      <td>...</td>\n",
       "      <td>NaN</td>\n",
       "      <td>NaN</td>\n",
       "      <td>26.15</td>\n",
       "      <td>NaN</td>\n",
       "      <td>NaN</td>\n",
       "      <td>NaN</td>\n",
       "      <td>NaN</td>\n",
       "      <td>NaN</td>\n",
       "      <td>NaN</td>\n",
       "      <td>NaN</td>\n",
       "    </tr>\n",
       "    <tr>\n",
       "      <th>11</th>\n",
       "      <td>1991</td>\n",
       "      <td>NaN</td>\n",
       "      <td>NaN</td>\n",
       "      <td>NaN</td>\n",
       "      <td>NaN</td>\n",
       "      <td>NaN</td>\n",
       "      <td>5.57</td>\n",
       "      <td>NaN</td>\n",
       "      <td>NaN</td>\n",
       "      <td>4.33</td>\n",
       "      <td>...</td>\n",
       "      <td>NaN</td>\n",
       "      <td>NaN</td>\n",
       "      <td>16.22</td>\n",
       "      <td>NaN</td>\n",
       "      <td>NaN</td>\n",
       "      <td>NaN</td>\n",
       "      <td>NaN</td>\n",
       "      <td>NaN</td>\n",
       "      <td>NaN</td>\n",
       "      <td>NaN</td>\n",
       "    </tr>\n",
       "    <tr>\n",
       "      <th>12</th>\n",
       "      <td>1992</td>\n",
       "      <td>NaN</td>\n",
       "      <td>NaN</td>\n",
       "      <td>NaN</td>\n",
       "      <td>NaN</td>\n",
       "      <td>NaN</td>\n",
       "      <td>25.49</td>\n",
       "      <td>NaN</td>\n",
       "      <td>NaN</td>\n",
       "      <td>12.64</td>\n",
       "      <td>...</td>\n",
       "      <td>NaN</td>\n",
       "      <td>NaN</td>\n",
       "      <td>32.98</td>\n",
       "      <td>NaN</td>\n",
       "      <td>NaN</td>\n",
       "      <td>NaN</td>\n",
       "      <td>NaN</td>\n",
       "      <td>NaN</td>\n",
       "      <td>NaN</td>\n",
       "      <td>NaN</td>\n",
       "    </tr>\n",
       "    <tr>\n",
       "      <th>13</th>\n",
       "      <td>1993</td>\n",
       "      <td>NaN</td>\n",
       "      <td>NaN</td>\n",
       "      <td>NaN</td>\n",
       "      <td>NaN</td>\n",
       "      <td>NaN</td>\n",
       "      <td>NaN</td>\n",
       "      <td>NaN</td>\n",
       "      <td>NaN</td>\n",
       "      <td>3.07</td>\n",
       "      <td>...</td>\n",
       "      <td>NaN</td>\n",
       "      <td>1.50</td>\n",
       "      <td>40.02</td>\n",
       "      <td>NaN</td>\n",
       "      <td>NaN</td>\n",
       "      <td>NaN</td>\n",
       "      <td>NaN</td>\n",
       "      <td>NaN</td>\n",
       "      <td>NaN</td>\n",
       "      <td>NaN</td>\n",
       "    </tr>\n",
       "    <tr>\n",
       "      <th>14</th>\n",
       "      <td>1994</td>\n",
       "      <td>NaN</td>\n",
       "      <td>0.02</td>\n",
       "      <td>NaN</td>\n",
       "      <td>NaN</td>\n",
       "      <td>NaN</td>\n",
       "      <td>12.18</td>\n",
       "      <td>NaN</td>\n",
       "      <td>NaN</td>\n",
       "      <td>8.13</td>\n",
       "      <td>...</td>\n",
       "      <td>3.65</td>\n",
       "      <td>0.36</td>\n",
       "      <td>35.08</td>\n",
       "      <td>NaN</td>\n",
       "      <td>NaN</td>\n",
       "      <td>NaN</td>\n",
       "      <td>NaN</td>\n",
       "      <td>NaN</td>\n",
       "      <td>NaN</td>\n",
       "      <td>NaN</td>\n",
       "    </tr>\n",
       "    <tr>\n",
       "      <th>15</th>\n",
       "      <td>1995</td>\n",
       "      <td>NaN</td>\n",
       "      <td>0.08</td>\n",
       "      <td>NaN</td>\n",
       "      <td>NaN</td>\n",
       "      <td>NaN</td>\n",
       "      <td>3.60</td>\n",
       "      <td>NaN</td>\n",
       "      <td>NaN</td>\n",
       "      <td>NaN</td>\n",
       "      <td>...</td>\n",
       "      <td>11.57</td>\n",
       "      <td>NaN</td>\n",
       "      <td>32.20</td>\n",
       "      <td>0.16</td>\n",
       "      <td>NaN</td>\n",
       "      <td>NaN</td>\n",
       "      <td>NaN</td>\n",
       "      <td>NaN</td>\n",
       "      <td>NaN</td>\n",
       "      <td>NaN</td>\n",
       "    </tr>\n",
       "    <tr>\n",
       "      <th>16</th>\n",
       "      <td>1996</td>\n",
       "      <td>NaN</td>\n",
       "      <td>NaN</td>\n",
       "      <td>NaN</td>\n",
       "      <td>NaN</td>\n",
       "      <td>NaN</td>\n",
       "      <td>36.03</td>\n",
       "      <td>NaN</td>\n",
       "      <td>NaN</td>\n",
       "      <td>NaN</td>\n",
       "      <td>...</td>\n",
       "      <td>7.69</td>\n",
       "      <td>NaN</td>\n",
       "      <td>15.92</td>\n",
       "      <td>NaN</td>\n",
       "      <td>NaN</td>\n",
       "      <td>NaN</td>\n",
       "      <td>NaN</td>\n",
       "      <td>NaN</td>\n",
       "      <td>NaN</td>\n",
       "      <td>NaN</td>\n",
       "    </tr>\n",
       "    <tr>\n",
       "      <th>17</th>\n",
       "      <td>1997</td>\n",
       "      <td>NaN</td>\n",
       "      <td>NaN</td>\n",
       "      <td>NaN</td>\n",
       "      <td>NaN</td>\n",
       "      <td>NaN</td>\n",
       "      <td>6.37</td>\n",
       "      <td>NaN</td>\n",
       "      <td>NaN</td>\n",
       "      <td>NaN</td>\n",
       "      <td>...</td>\n",
       "      <td>6.77</td>\n",
       "      <td>NaN</td>\n",
       "      <td>0.99</td>\n",
       "      <td>NaN</td>\n",
       "      <td>NaN</td>\n",
       "      <td>NaN</td>\n",
       "      <td>NaN</td>\n",
       "      <td>NaN</td>\n",
       "      <td>NaN</td>\n",
       "      <td>NaN</td>\n",
       "    </tr>\n",
       "    <tr>\n",
       "      <th>18</th>\n",
       "      <td>1998</td>\n",
       "      <td>NaN</td>\n",
       "      <td>NaN</td>\n",
       "      <td>NaN</td>\n",
       "      <td>3.38</td>\n",
       "      <td>NaN</td>\n",
       "      <td>26.90</td>\n",
       "      <td>NaN</td>\n",
       "      <td>NaN</td>\n",
       "      <td>NaN</td>\n",
       "      <td>...</td>\n",
       "      <td>3.82</td>\n",
       "      <td>NaN</td>\n",
       "      <td>0.22</td>\n",
       "      <td>NaN</td>\n",
       "      <td>NaN</td>\n",
       "      <td>NaN</td>\n",
       "      <td>NaN</td>\n",
       "      <td>NaN</td>\n",
       "      <td>NaN</td>\n",
       "      <td>NaN</td>\n",
       "    </tr>\n",
       "    <tr>\n",
       "      <th>19</th>\n",
       "      <td>1999</td>\n",
       "      <td>NaN</td>\n",
       "      <td>NaN</td>\n",
       "      <td>NaN</td>\n",
       "      <td>5.16</td>\n",
       "      <td>NaN</td>\n",
       "      <td>38.00</td>\n",
       "      <td>NaN</td>\n",
       "      <td>NaN</td>\n",
       "      <td>NaN</td>\n",
       "      <td>...</td>\n",
       "      <td>0.09</td>\n",
       "      <td>NaN</td>\n",
       "      <td>0.26</td>\n",
       "      <td>NaN</td>\n",
       "      <td>0.46</td>\n",
       "      <td>NaN</td>\n",
       "      <td>NaN</td>\n",
       "      <td>NaN</td>\n",
       "      <td>NaN</td>\n",
       "      <td>NaN</td>\n",
       "    </tr>\n",
       "    <tr>\n",
       "      <th>20</th>\n",
       "      <td>2000</td>\n",
       "      <td>NaN</td>\n",
       "      <td>NaN</td>\n",
       "      <td>NaN</td>\n",
       "      <td>5.99</td>\n",
       "      <td>NaN</td>\n",
       "      <td>19.76</td>\n",
       "      <td>0.07</td>\n",
       "      <td>NaN</td>\n",
       "      <td>NaN</td>\n",
       "      <td>...</td>\n",
       "      <td>NaN</td>\n",
       "      <td>NaN</td>\n",
       "      <td>NaN</td>\n",
       "      <td>NaN</td>\n",
       "      <td>0.68</td>\n",
       "      <td>NaN</td>\n",
       "      <td>NaN</td>\n",
       "      <td>NaN</td>\n",
       "      <td>0.99</td>\n",
       "      <td>NaN</td>\n",
       "    </tr>\n",
       "    <tr>\n",
       "      <th>21</th>\n",
       "      <td>2001</td>\n",
       "      <td>NaN</td>\n",
       "      <td>NaN</td>\n",
       "      <td>NaN</td>\n",
       "      <td>1.07</td>\n",
       "      <td>NaN</td>\n",
       "      <td>9.24</td>\n",
       "      <td>61.53</td>\n",
       "      <td>26.34</td>\n",
       "      <td>NaN</td>\n",
       "      <td>...</td>\n",
       "      <td>NaN</td>\n",
       "      <td>NaN</td>\n",
       "      <td>NaN</td>\n",
       "      <td>NaN</td>\n",
       "      <td>0.28</td>\n",
       "      <td>NaN</td>\n",
       "      <td>NaN</td>\n",
       "      <td>NaN</td>\n",
       "      <td>22.26</td>\n",
       "      <td>NaN</td>\n",
       "    </tr>\n",
       "    <tr>\n",
       "      <th>22</th>\n",
       "      <td>2002</td>\n",
       "      <td>NaN</td>\n",
       "      <td>NaN</td>\n",
       "      <td>NaN</td>\n",
       "      <td>0.29</td>\n",
       "      <td>NaN</td>\n",
       "      <td>NaN</td>\n",
       "      <td>74.16</td>\n",
       "      <td>51.81</td>\n",
       "      <td>NaN</td>\n",
       "      <td>...</td>\n",
       "      <td>NaN</td>\n",
       "      <td>NaN</td>\n",
       "      <td>NaN</td>\n",
       "      <td>NaN</td>\n",
       "      <td>NaN</td>\n",
       "      <td>NaN</td>\n",
       "      <td>NaN</td>\n",
       "      <td>NaN</td>\n",
       "      <td>48.01</td>\n",
       "      <td>NaN</td>\n",
       "    </tr>\n",
       "    <tr>\n",
       "      <th>23</th>\n",
       "      <td>2003</td>\n",
       "      <td>NaN</td>\n",
       "      <td>NaN</td>\n",
       "      <td>NaN</td>\n",
       "      <td>NaN</td>\n",
       "      <td>NaN</td>\n",
       "      <td>NaN</td>\n",
       "      <td>56.67</td>\n",
       "      <td>50.61</td>\n",
       "      <td>NaN</td>\n",
       "      <td>...</td>\n",
       "      <td>NaN</td>\n",
       "      <td>NaN</td>\n",
       "      <td>NaN</td>\n",
       "      <td>NaN</td>\n",
       "      <td>NaN</td>\n",
       "      <td>NaN</td>\n",
       "      <td>NaN</td>\n",
       "      <td>NaN</td>\n",
       "      <td>55.04</td>\n",
       "      <td>NaN</td>\n",
       "    </tr>\n",
       "    <tr>\n",
       "      <th>24</th>\n",
       "      <td>2004</td>\n",
       "      <td>NaN</td>\n",
       "      <td>NaN</td>\n",
       "      <td>NaN</td>\n",
       "      <td>NaN</td>\n",
       "      <td>17.27</td>\n",
       "      <td>NaN</td>\n",
       "      <td>77.91</td>\n",
       "      <td>28.82</td>\n",
       "      <td>NaN</td>\n",
       "      <td>...</td>\n",
       "      <td>NaN</td>\n",
       "      <td>NaN</td>\n",
       "      <td>NaN</td>\n",
       "      <td>NaN</td>\n",
       "      <td>NaN</td>\n",
       "      <td>NaN</td>\n",
       "      <td>NaN</td>\n",
       "      <td>NaN</td>\n",
       "      <td>65.42</td>\n",
       "      <td>NaN</td>\n",
       "    </tr>\n",
       "    <tr>\n",
       "      <th>25</th>\n",
       "      <td>2005</td>\n",
       "      <td>NaN</td>\n",
       "      <td>NaN</td>\n",
       "      <td>NaN</td>\n",
       "      <td>NaN</td>\n",
       "      <td>130.14</td>\n",
       "      <td>NaN</td>\n",
       "      <td>33.86</td>\n",
       "      <td>27.62</td>\n",
       "      <td>NaN</td>\n",
       "      <td>...</td>\n",
       "      <td>NaN</td>\n",
       "      <td>NaN</td>\n",
       "      <td>NaN</td>\n",
       "      <td>NaN</td>\n",
       "      <td>NaN</td>\n",
       "      <td>NaN</td>\n",
       "      <td>NaN</td>\n",
       "      <td>8.25</td>\n",
       "      <td>49.08</td>\n",
       "      <td>NaN</td>\n",
       "    </tr>\n",
       "    <tr>\n",
       "      <th>26</th>\n",
       "      <td>2006</td>\n",
       "      <td>NaN</td>\n",
       "      <td>NaN</td>\n",
       "      <td>NaN</td>\n",
       "      <td>NaN</td>\n",
       "      <td>119.81</td>\n",
       "      <td>NaN</td>\n",
       "      <td>5.28</td>\n",
       "      <td>11.26</td>\n",
       "      <td>NaN</td>\n",
       "      <td>...</td>\n",
       "      <td>NaN</td>\n",
       "      <td>NaN</td>\n",
       "      <td>NaN</td>\n",
       "      <td>NaN</td>\n",
       "      <td>NaN</td>\n",
       "      <td>137.15</td>\n",
       "      <td>NaN</td>\n",
       "      <td>51.62</td>\n",
       "      <td>10.04</td>\n",
       "      <td>NaN</td>\n",
       "    </tr>\n",
       "    <tr>\n",
       "      <th>27</th>\n",
       "      <td>2007</td>\n",
       "      <td>NaN</td>\n",
       "      <td>NaN</td>\n",
       "      <td>NaN</td>\n",
       "      <td>0.02</td>\n",
       "      <td>146.94</td>\n",
       "      <td>NaN</td>\n",
       "      <td>3.40</td>\n",
       "      <td>0.27</td>\n",
       "      <td>NaN</td>\n",
       "      <td>...</td>\n",
       "      <td>NaN</td>\n",
       "      <td>NaN</td>\n",
       "      <td>NaN</td>\n",
       "      <td>NaN</td>\n",
       "      <td>NaN</td>\n",
       "      <td>152.77</td>\n",
       "      <td>NaN</td>\n",
       "      <td>95.41</td>\n",
       "      <td>0.55</td>\n",
       "      <td>NaN</td>\n",
       "    </tr>\n",
       "    <tr>\n",
       "      <th>28</th>\n",
       "      <td>2008</td>\n",
       "      <td>NaN</td>\n",
       "      <td>NaN</td>\n",
       "      <td>NaN</td>\n",
       "      <td>0.04</td>\n",
       "      <td>145.31</td>\n",
       "      <td>NaN</td>\n",
       "      <td>NaN</td>\n",
       "      <td>NaN</td>\n",
       "      <td>NaN</td>\n",
       "      <td>...</td>\n",
       "      <td>NaN</td>\n",
       "      <td>NaN</td>\n",
       "      <td>NaN</td>\n",
       "      <td>NaN</td>\n",
       "      <td>NaN</td>\n",
       "      <td>171.32</td>\n",
       "      <td>NaN</td>\n",
       "      <td>135.26</td>\n",
       "      <td>0.18</td>\n",
       "      <td>NaN</td>\n",
       "    </tr>\n",
       "    <tr>\n",
       "      <th>29</th>\n",
       "      <td>2009</td>\n",
       "      <td>NaN</td>\n",
       "      <td>NaN</td>\n",
       "      <td>NaN</td>\n",
       "      <td>NaN</td>\n",
       "      <td>119.54</td>\n",
       "      <td>NaN</td>\n",
       "      <td>NaN</td>\n",
       "      <td>NaN</td>\n",
       "      <td>NaN</td>\n",
       "      <td>...</td>\n",
       "      <td>NaN</td>\n",
       "      <td>NaN</td>\n",
       "      <td>NaN</td>\n",
       "      <td>NaN</td>\n",
       "      <td>NaN</td>\n",
       "      <td>206.97</td>\n",
       "      <td>NaN</td>\n",
       "      <td>120.29</td>\n",
       "      <td>NaN</td>\n",
       "      <td>NaN</td>\n",
       "    </tr>\n",
       "    <tr>\n",
       "      <th>30</th>\n",
       "      <td>2010</td>\n",
       "      <td>NaN</td>\n",
       "      <td>NaN</td>\n",
       "      <td>NaN</td>\n",
       "      <td>NaN</td>\n",
       "      <td>85.02</td>\n",
       "      <td>NaN</td>\n",
       "      <td>NaN</td>\n",
       "      <td>NaN</td>\n",
       "      <td>NaN</td>\n",
       "      <td>...</td>\n",
       "      <td>NaN</td>\n",
       "      <td>NaN</td>\n",
       "      <td>NaN</td>\n",
       "      <td>NaN</td>\n",
       "      <td>NaN</td>\n",
       "      <td>127.95</td>\n",
       "      <td>NaN</td>\n",
       "      <td>170.03</td>\n",
       "      <td>NaN</td>\n",
       "      <td>NaN</td>\n",
       "    </tr>\n",
       "    <tr>\n",
       "      <th>31</th>\n",
       "      <td>2011</td>\n",
       "      <td>NaN</td>\n",
       "      <td>NaN</td>\n",
       "      <td>63.20</td>\n",
       "      <td>NaN</td>\n",
       "      <td>26.18</td>\n",
       "      <td>NaN</td>\n",
       "      <td>NaN</td>\n",
       "      <td>NaN</td>\n",
       "      <td>NaN</td>\n",
       "      <td>...</td>\n",
       "      <td>NaN</td>\n",
       "      <td>NaN</td>\n",
       "      <td>NaN</td>\n",
       "      <td>NaN</td>\n",
       "      <td>NaN</td>\n",
       "      <td>59.65</td>\n",
       "      <td>NaN</td>\n",
       "      <td>143.84</td>\n",
       "      <td>NaN</td>\n",
       "      <td>NaN</td>\n",
       "    </tr>\n",
       "    <tr>\n",
       "      <th>32</th>\n",
       "      <td>2012</td>\n",
       "      <td>NaN</td>\n",
       "      <td>NaN</td>\n",
       "      <td>51.36</td>\n",
       "      <td>NaN</td>\n",
       "      <td>11.01</td>\n",
       "      <td>NaN</td>\n",
       "      <td>NaN</td>\n",
       "      <td>NaN</td>\n",
       "      <td>NaN</td>\n",
       "      <td>...</td>\n",
       "      <td>NaN</td>\n",
       "      <td>NaN</td>\n",
       "      <td>NaN</td>\n",
       "      <td>NaN</td>\n",
       "      <td>NaN</td>\n",
       "      <td>21.71</td>\n",
       "      <td>17.56</td>\n",
       "      <td>99.74</td>\n",
       "      <td>NaN</td>\n",
       "      <td>NaN</td>\n",
       "    </tr>\n",
       "    <tr>\n",
       "      <th>33</th>\n",
       "      <td>2013</td>\n",
       "      <td>NaN</td>\n",
       "      <td>NaN</td>\n",
       "      <td>56.57</td>\n",
       "      <td>NaN</td>\n",
       "      <td>1.54</td>\n",
       "      <td>NaN</td>\n",
       "      <td>NaN</td>\n",
       "      <td>NaN</td>\n",
       "      <td>NaN</td>\n",
       "      <td>...</td>\n",
       "      <td>NaN</td>\n",
       "      <td>NaN</td>\n",
       "      <td>NaN</td>\n",
       "      <td>NaN</td>\n",
       "      <td>NaN</td>\n",
       "      <td>8.59</td>\n",
       "      <td>21.65</td>\n",
       "      <td>88.58</td>\n",
       "      <td>NaN</td>\n",
       "      <td>18.96</td>\n",
       "    </tr>\n",
       "    <tr>\n",
       "      <th>34</th>\n",
       "      <td>2014</td>\n",
       "      <td>NaN</td>\n",
       "      <td>NaN</td>\n",
       "      <td>43.76</td>\n",
       "      <td>NaN</td>\n",
       "      <td>NaN</td>\n",
       "      <td>NaN</td>\n",
       "      <td>NaN</td>\n",
       "      <td>NaN</td>\n",
       "      <td>NaN</td>\n",
       "      <td>...</td>\n",
       "      <td>NaN</td>\n",
       "      <td>NaN</td>\n",
       "      <td>NaN</td>\n",
       "      <td>NaN</td>\n",
       "      <td>NaN</td>\n",
       "      <td>3.75</td>\n",
       "      <td>22.03</td>\n",
       "      <td>34.74</td>\n",
       "      <td>NaN</td>\n",
       "      <td>54.07</td>\n",
       "    </tr>\n",
       "    <tr>\n",
       "      <th>35</th>\n",
       "      <td>2015</td>\n",
       "      <td>NaN</td>\n",
       "      <td>NaN</td>\n",
       "      <td>27.78</td>\n",
       "      <td>NaN</td>\n",
       "      <td>NaN</td>\n",
       "      <td>NaN</td>\n",
       "      <td>NaN</td>\n",
       "      <td>NaN</td>\n",
       "      <td>NaN</td>\n",
       "      <td>...</td>\n",
       "      <td>NaN</td>\n",
       "      <td>NaN</td>\n",
       "      <td>NaN</td>\n",
       "      <td>NaN</td>\n",
       "      <td>NaN</td>\n",
       "      <td>1.14</td>\n",
       "      <td>16.35</td>\n",
       "      <td>11.96</td>\n",
       "      <td>NaN</td>\n",
       "      <td>60.14</td>\n",
       "    </tr>\n",
       "    <tr>\n",
       "      <th>36</th>\n",
       "      <td>2016</td>\n",
       "      <td>NaN</td>\n",
       "      <td>NaN</td>\n",
       "      <td>15.14</td>\n",
       "      <td>NaN</td>\n",
       "      <td>NaN</td>\n",
       "      <td>NaN</td>\n",
       "      <td>NaN</td>\n",
       "      <td>NaN</td>\n",
       "      <td>NaN</td>\n",
       "      <td>...</td>\n",
       "      <td>NaN</td>\n",
       "      <td>NaN</td>\n",
       "      <td>NaN</td>\n",
       "      <td>NaN</td>\n",
       "      <td>NaN</td>\n",
       "      <td>0.18</td>\n",
       "      <td>4.60</td>\n",
       "      <td>1.52</td>\n",
       "      <td>NaN</td>\n",
       "      <td>26.15</td>\n",
       "    </tr>\n",
       "  </tbody>\n",
       "</table>\n",
       "<p>37 rows × 32 columns</p>\n",
       "</div>"
      ],
      "text/plain": [
       "platform  year_of_release   2600   3DO    3DS    DC      DS     GB    GBA  \\\n",
       "0                    1980  11.38   NaN    NaN   NaN     NaN    NaN    NaN   \n",
       "1                    1981  35.68   NaN    NaN   NaN     NaN    NaN    NaN   \n",
       "2                    1982  28.88   NaN    NaN   NaN     NaN    NaN    NaN   \n",
       "3                    1983   5.84   NaN    NaN   NaN     NaN    NaN    NaN   \n",
       "4                    1984   0.27   NaN    NaN   NaN     NaN    NaN    NaN   \n",
       "5                    1985   0.45   NaN    NaN   NaN    0.02    NaN    NaN   \n",
       "6                    1986   0.67   NaN    NaN   NaN     NaN    NaN    NaN   \n",
       "7                    1987   1.94   NaN    NaN   NaN     NaN    NaN    NaN   \n",
       "8                    1988   0.74   NaN    NaN   NaN     NaN   1.43    NaN   \n",
       "9                    1989   0.63   NaN    NaN   NaN     NaN  64.97    NaN   \n",
       "10                   1990    NaN   NaN    NaN   NaN     NaN   4.89    NaN   \n",
       "11                   1991    NaN   NaN    NaN   NaN     NaN   5.57    NaN   \n",
       "12                   1992    NaN   NaN    NaN   NaN     NaN  25.49    NaN   \n",
       "13                   1993    NaN   NaN    NaN   NaN     NaN    NaN    NaN   \n",
       "14                   1994    NaN  0.02    NaN   NaN     NaN  12.18    NaN   \n",
       "15                   1995    NaN  0.08    NaN   NaN     NaN   3.60    NaN   \n",
       "16                   1996    NaN   NaN    NaN   NaN     NaN  36.03    NaN   \n",
       "17                   1997    NaN   NaN    NaN   NaN     NaN   6.37    NaN   \n",
       "18                   1998    NaN   NaN    NaN  3.38     NaN  26.90    NaN   \n",
       "19                   1999    NaN   NaN    NaN  5.16     NaN  38.00    NaN   \n",
       "20                   2000    NaN   NaN    NaN  5.99     NaN  19.76   0.07   \n",
       "21                   2001    NaN   NaN    NaN  1.07     NaN   9.24  61.53   \n",
       "22                   2002    NaN   NaN    NaN  0.29     NaN    NaN  74.16   \n",
       "23                   2003    NaN   NaN    NaN   NaN     NaN    NaN  56.67   \n",
       "24                   2004    NaN   NaN    NaN   NaN   17.27    NaN  77.91   \n",
       "25                   2005    NaN   NaN    NaN   NaN  130.14    NaN  33.86   \n",
       "26                   2006    NaN   NaN    NaN   NaN  119.81    NaN   5.28   \n",
       "27                   2007    NaN   NaN    NaN  0.02  146.94    NaN   3.40   \n",
       "28                   2008    NaN   NaN    NaN  0.04  145.31    NaN    NaN   \n",
       "29                   2009    NaN   NaN    NaN   NaN  119.54    NaN    NaN   \n",
       "30                   2010    NaN   NaN    NaN   NaN   85.02    NaN    NaN   \n",
       "31                   2011    NaN   NaN  63.20   NaN   26.18    NaN    NaN   \n",
       "32                   2012    NaN   NaN  51.36   NaN   11.01    NaN    NaN   \n",
       "33                   2013    NaN   NaN  56.57   NaN    1.54    NaN    NaN   \n",
       "34                   2014    NaN   NaN  43.76   NaN     NaN    NaN    NaN   \n",
       "35                   2015    NaN   NaN  27.78   NaN     NaN    NaN    NaN   \n",
       "36                   2016    NaN   NaN  15.14   NaN     NaN    NaN    NaN   \n",
       "\n",
       "platform     GC    GEN  ...    SAT   SCD   SNES  TG16    WS     Wii   WiiU  \\\n",
       "0           NaN    NaN  ...    NaN   NaN    NaN   NaN   NaN     NaN    NaN   \n",
       "1           NaN    NaN  ...    NaN   NaN    NaN   NaN   NaN     NaN    NaN   \n",
       "2           NaN    NaN  ...    NaN   NaN    NaN   NaN   NaN     NaN    NaN   \n",
       "3           NaN    NaN  ...    NaN   NaN    NaN   NaN   NaN     NaN    NaN   \n",
       "4           NaN    NaN  ...    NaN   NaN    NaN   NaN   NaN     NaN    NaN   \n",
       "5           NaN    NaN  ...    NaN   NaN    NaN   NaN   NaN     NaN    NaN   \n",
       "6           NaN    NaN  ...    NaN   NaN    NaN   NaN   NaN     NaN    NaN   \n",
       "7           NaN    NaN  ...    NaN   NaN    NaN   NaN   NaN     NaN    NaN   \n",
       "8           NaN    NaN  ...    NaN   NaN    NaN   NaN   NaN     NaN    NaN   \n",
       "9           NaN    NaN  ...    NaN   NaN    NaN   NaN   NaN     NaN    NaN   \n",
       "10          NaN   2.60  ...    NaN   NaN  26.15   NaN   NaN     NaN    NaN   \n",
       "11          NaN   4.33  ...    NaN   NaN  16.22   NaN   NaN     NaN    NaN   \n",
       "12          NaN  12.64  ...    NaN   NaN  32.98   NaN   NaN     NaN    NaN   \n",
       "13          NaN   3.07  ...    NaN  1.50  40.02   NaN   NaN     NaN    NaN   \n",
       "14          NaN   8.13  ...   3.65  0.36  35.08   NaN   NaN     NaN    NaN   \n",
       "15          NaN    NaN  ...  11.57   NaN  32.20  0.16   NaN     NaN    NaN   \n",
       "16          NaN    NaN  ...   7.69   NaN  15.92   NaN   NaN     NaN    NaN   \n",
       "17          NaN    NaN  ...   6.77   NaN   0.99   NaN   NaN     NaN    NaN   \n",
       "18          NaN    NaN  ...   3.82   NaN   0.22   NaN   NaN     NaN    NaN   \n",
       "19          NaN    NaN  ...   0.09   NaN   0.26   NaN  0.46     NaN    NaN   \n",
       "20          NaN    NaN  ...    NaN   NaN    NaN   NaN  0.68     NaN    NaN   \n",
       "21        26.34    NaN  ...    NaN   NaN    NaN   NaN  0.28     NaN    NaN   \n",
       "22        51.81    NaN  ...    NaN   NaN    NaN   NaN   NaN     NaN    NaN   \n",
       "23        50.61    NaN  ...    NaN   NaN    NaN   NaN   NaN     NaN    NaN   \n",
       "24        28.82    NaN  ...    NaN   NaN    NaN   NaN   NaN     NaN    NaN   \n",
       "25        27.62    NaN  ...    NaN   NaN    NaN   NaN   NaN     NaN    NaN   \n",
       "26        11.26    NaN  ...    NaN   NaN    NaN   NaN   NaN  137.15    NaN   \n",
       "27         0.27    NaN  ...    NaN   NaN    NaN   NaN   NaN  152.77    NaN   \n",
       "28          NaN    NaN  ...    NaN   NaN    NaN   NaN   NaN  171.32    NaN   \n",
       "29          NaN    NaN  ...    NaN   NaN    NaN   NaN   NaN  206.97    NaN   \n",
       "30          NaN    NaN  ...    NaN   NaN    NaN   NaN   NaN  127.95    NaN   \n",
       "31          NaN    NaN  ...    NaN   NaN    NaN   NaN   NaN   59.65    NaN   \n",
       "32          NaN    NaN  ...    NaN   NaN    NaN   NaN   NaN   21.71  17.56   \n",
       "33          NaN    NaN  ...    NaN   NaN    NaN   NaN   NaN    8.59  21.65   \n",
       "34          NaN    NaN  ...    NaN   NaN    NaN   NaN   NaN    3.75  22.03   \n",
       "35          NaN    NaN  ...    NaN   NaN    NaN   NaN   NaN    1.14  16.35   \n",
       "36          NaN    NaN  ...    NaN   NaN    NaN   NaN   NaN    0.18   4.60   \n",
       "\n",
       "platform    X360     XB   XOne  \n",
       "0            NaN    NaN    NaN  \n",
       "1            NaN    NaN    NaN  \n",
       "2            NaN    NaN    NaN  \n",
       "3            NaN    NaN    NaN  \n",
       "4            NaN    NaN    NaN  \n",
       "5            NaN    NaN    NaN  \n",
       "6            NaN    NaN    NaN  \n",
       "7            NaN    NaN    NaN  \n",
       "8            NaN    NaN    NaN  \n",
       "9            NaN    NaN    NaN  \n",
       "10           NaN    NaN    NaN  \n",
       "11           NaN    NaN    NaN  \n",
       "12           NaN    NaN    NaN  \n",
       "13           NaN    NaN    NaN  \n",
       "14           NaN    NaN    NaN  \n",
       "15           NaN    NaN    NaN  \n",
       "16           NaN    NaN    NaN  \n",
       "17           NaN    NaN    NaN  \n",
       "18           NaN    NaN    NaN  \n",
       "19           NaN    NaN    NaN  \n",
       "20           NaN   0.99    NaN  \n",
       "21           NaN  22.26    NaN  \n",
       "22           NaN  48.01    NaN  \n",
       "23           NaN  55.04    NaN  \n",
       "24           NaN  65.42    NaN  \n",
       "25          8.25  49.08    NaN  \n",
       "26         51.62  10.04    NaN  \n",
       "27         95.41   0.55    NaN  \n",
       "28        135.26   0.18    NaN  \n",
       "29        120.29    NaN    NaN  \n",
       "30        170.03    NaN    NaN  \n",
       "31        143.84    NaN    NaN  \n",
       "32         99.74    NaN    NaN  \n",
       "33         88.58    NaN  18.96  \n",
       "34         34.74    NaN  54.07  \n",
       "35         11.96    NaN  60.14  \n",
       "36          1.52    NaN  26.15  \n",
       "\n",
       "[37 rows x 32 columns]"
      ]
     },
     "execution_count": 27,
     "metadata": {},
     "output_type": "execute_result"
    }
   ],
   "source": [
    "pivot_video_juegos = video_juegos.pivot_table(index='year_of_release', columns='platform', values='total_sales', aggfunc='sum').reset_index()\n",
    "pivot_video_juegos"
   ]
  },
  {
   "cell_type": "code",
   "execution_count": 28,
   "metadata": {
    "trusted": false
   },
   "outputs": [
    {
     "data": {
      "text/html": [
       "<div>\n",
       "<style scoped>\n",
       "    .dataframe tbody tr th:only-of-type {\n",
       "        vertical-align: middle;\n",
       "    }\n",
       "\n",
       "    .dataframe tbody tr th {\n",
       "        vertical-align: top;\n",
       "    }\n",
       "\n",
       "    .dataframe thead th {\n",
       "        text-align: right;\n",
       "    }\n",
       "</style>\n",
       "<table border=\"1\" class=\"dataframe\">\n",
       "  <thead>\n",
       "    <tr style=\"text-align: right;\">\n",
       "      <th>platform</th>\n",
       "      <th>PS2</th>\n",
       "      <th>X360</th>\n",
       "      <th>PS3</th>\n",
       "      <th>Wii</th>\n",
       "      <th>DS</th>\n",
       "      <th>PS</th>\n",
       "      <th>GBA</th>\n",
       "      <th>PS4</th>\n",
       "      <th>PSP</th>\n",
       "      <th>PC</th>\n",
       "      <th>3DS</th>\n",
       "    </tr>\n",
       "  </thead>\n",
       "  <tbody>\n",
       "    <tr>\n",
       "      <th>0</th>\n",
       "      <td>NaN</td>\n",
       "      <td>NaN</td>\n",
       "      <td>NaN</td>\n",
       "      <td>NaN</td>\n",
       "      <td>NaN</td>\n",
       "      <td>NaN</td>\n",
       "      <td>NaN</td>\n",
       "      <td>NaN</td>\n",
       "      <td>NaN</td>\n",
       "      <td>NaN</td>\n",
       "      <td>NaN</td>\n",
       "    </tr>\n",
       "    <tr>\n",
       "      <th>1</th>\n",
       "      <td>NaN</td>\n",
       "      <td>NaN</td>\n",
       "      <td>NaN</td>\n",
       "      <td>NaN</td>\n",
       "      <td>NaN</td>\n",
       "      <td>NaN</td>\n",
       "      <td>NaN</td>\n",
       "      <td>NaN</td>\n",
       "      <td>NaN</td>\n",
       "      <td>NaN</td>\n",
       "      <td>NaN</td>\n",
       "    </tr>\n",
       "    <tr>\n",
       "      <th>2</th>\n",
       "      <td>NaN</td>\n",
       "      <td>NaN</td>\n",
       "      <td>NaN</td>\n",
       "      <td>NaN</td>\n",
       "      <td>NaN</td>\n",
       "      <td>NaN</td>\n",
       "      <td>NaN</td>\n",
       "      <td>NaN</td>\n",
       "      <td>NaN</td>\n",
       "      <td>NaN</td>\n",
       "      <td>NaN</td>\n",
       "    </tr>\n",
       "    <tr>\n",
       "      <th>3</th>\n",
       "      <td>NaN</td>\n",
       "      <td>NaN</td>\n",
       "      <td>NaN</td>\n",
       "      <td>NaN</td>\n",
       "      <td>NaN</td>\n",
       "      <td>NaN</td>\n",
       "      <td>NaN</td>\n",
       "      <td>NaN</td>\n",
       "      <td>NaN</td>\n",
       "      <td>NaN</td>\n",
       "      <td>NaN</td>\n",
       "    </tr>\n",
       "    <tr>\n",
       "      <th>4</th>\n",
       "      <td>NaN</td>\n",
       "      <td>NaN</td>\n",
       "      <td>NaN</td>\n",
       "      <td>NaN</td>\n",
       "      <td>NaN</td>\n",
       "      <td>NaN</td>\n",
       "      <td>NaN</td>\n",
       "      <td>NaN</td>\n",
       "      <td>NaN</td>\n",
       "      <td>NaN</td>\n",
       "      <td>NaN</td>\n",
       "    </tr>\n",
       "    <tr>\n",
       "      <th>5</th>\n",
       "      <td>NaN</td>\n",
       "      <td>NaN</td>\n",
       "      <td>NaN</td>\n",
       "      <td>NaN</td>\n",
       "      <td>0.02</td>\n",
       "      <td>NaN</td>\n",
       "      <td>NaN</td>\n",
       "      <td>NaN</td>\n",
       "      <td>NaN</td>\n",
       "      <td>0.04</td>\n",
       "      <td>NaN</td>\n",
       "    </tr>\n",
       "    <tr>\n",
       "      <th>6</th>\n",
       "      <td>NaN</td>\n",
       "      <td>NaN</td>\n",
       "      <td>NaN</td>\n",
       "      <td>NaN</td>\n",
       "      <td>NaN</td>\n",
       "      <td>NaN</td>\n",
       "      <td>NaN</td>\n",
       "      <td>NaN</td>\n",
       "      <td>NaN</td>\n",
       "      <td>NaN</td>\n",
       "      <td>NaN</td>\n",
       "    </tr>\n",
       "    <tr>\n",
       "      <th>7</th>\n",
       "      <td>NaN</td>\n",
       "      <td>NaN</td>\n",
       "      <td>NaN</td>\n",
       "      <td>NaN</td>\n",
       "      <td>NaN</td>\n",
       "      <td>NaN</td>\n",
       "      <td>NaN</td>\n",
       "      <td>NaN</td>\n",
       "      <td>NaN</td>\n",
       "      <td>NaN</td>\n",
       "      <td>NaN</td>\n",
       "    </tr>\n",
       "    <tr>\n",
       "      <th>8</th>\n",
       "      <td>NaN</td>\n",
       "      <td>NaN</td>\n",
       "      <td>NaN</td>\n",
       "      <td>NaN</td>\n",
       "      <td>NaN</td>\n",
       "      <td>NaN</td>\n",
       "      <td>NaN</td>\n",
       "      <td>NaN</td>\n",
       "      <td>NaN</td>\n",
       "      <td>0.03</td>\n",
       "      <td>NaN</td>\n",
       "    </tr>\n",
       "    <tr>\n",
       "      <th>9</th>\n",
       "      <td>NaN</td>\n",
       "      <td>NaN</td>\n",
       "      <td>NaN</td>\n",
       "      <td>NaN</td>\n",
       "      <td>NaN</td>\n",
       "      <td>NaN</td>\n",
       "      <td>NaN</td>\n",
       "      <td>NaN</td>\n",
       "      <td>NaN</td>\n",
       "      <td>NaN</td>\n",
       "      <td>NaN</td>\n",
       "    </tr>\n",
       "    <tr>\n",
       "      <th>10</th>\n",
       "      <td>NaN</td>\n",
       "      <td>NaN</td>\n",
       "      <td>NaN</td>\n",
       "      <td>NaN</td>\n",
       "      <td>NaN</td>\n",
       "      <td>NaN</td>\n",
       "      <td>NaN</td>\n",
       "      <td>NaN</td>\n",
       "      <td>NaN</td>\n",
       "      <td>NaN</td>\n",
       "      <td>NaN</td>\n",
       "    </tr>\n",
       "    <tr>\n",
       "      <th>11</th>\n",
       "      <td>NaN</td>\n",
       "      <td>NaN</td>\n",
       "      <td>NaN</td>\n",
       "      <td>NaN</td>\n",
       "      <td>NaN</td>\n",
       "      <td>NaN</td>\n",
       "      <td>NaN</td>\n",
       "      <td>NaN</td>\n",
       "      <td>NaN</td>\n",
       "      <td>NaN</td>\n",
       "      <td>NaN</td>\n",
       "    </tr>\n",
       "    <tr>\n",
       "      <th>12</th>\n",
       "      <td>NaN</td>\n",
       "      <td>NaN</td>\n",
       "      <td>NaN</td>\n",
       "      <td>NaN</td>\n",
       "      <td>NaN</td>\n",
       "      <td>NaN</td>\n",
       "      <td>NaN</td>\n",
       "      <td>NaN</td>\n",
       "      <td>NaN</td>\n",
       "      <td>3.03</td>\n",
       "      <td>NaN</td>\n",
       "    </tr>\n",
       "    <tr>\n",
       "      <th>13</th>\n",
       "      <td>NaN</td>\n",
       "      <td>NaN</td>\n",
       "      <td>NaN</td>\n",
       "      <td>NaN</td>\n",
       "      <td>NaN</td>\n",
       "      <td>NaN</td>\n",
       "      <td>NaN</td>\n",
       "      <td>NaN</td>\n",
       "      <td>NaN</td>\n",
       "      <td>NaN</td>\n",
       "      <td>NaN</td>\n",
       "    </tr>\n",
       "    <tr>\n",
       "      <th>14</th>\n",
       "      <td>NaN</td>\n",
       "      <td>NaN</td>\n",
       "      <td>NaN</td>\n",
       "      <td>NaN</td>\n",
       "      <td>NaN</td>\n",
       "      <td>6.03</td>\n",
       "      <td>NaN</td>\n",
       "      <td>NaN</td>\n",
       "      <td>NaN</td>\n",
       "      <td>12.87</td>\n",
       "      <td>NaN</td>\n",
       "    </tr>\n",
       "    <tr>\n",
       "      <th>15</th>\n",
       "      <td>NaN</td>\n",
       "      <td>NaN</td>\n",
       "      <td>NaN</td>\n",
       "      <td>NaN</td>\n",
       "      <td>NaN</td>\n",
       "      <td>35.96</td>\n",
       "      <td>NaN</td>\n",
       "      <td>NaN</td>\n",
       "      <td>NaN</td>\n",
       "      <td>4.22</td>\n",
       "      <td>NaN</td>\n",
       "    </tr>\n",
       "    <tr>\n",
       "      <th>16</th>\n",
       "      <td>NaN</td>\n",
       "      <td>NaN</td>\n",
       "      <td>NaN</td>\n",
       "      <td>NaN</td>\n",
       "      <td>NaN</td>\n",
       "      <td>94.70</td>\n",
       "      <td>NaN</td>\n",
       "      <td>NaN</td>\n",
       "      <td>NaN</td>\n",
       "      <td>10.58</td>\n",
       "      <td>NaN</td>\n",
       "    </tr>\n",
       "    <tr>\n",
       "      <th>17</th>\n",
       "      <td>NaN</td>\n",
       "      <td>NaN</td>\n",
       "      <td>NaN</td>\n",
       "      <td>NaN</td>\n",
       "      <td>NaN</td>\n",
       "      <td>136.17</td>\n",
       "      <td>NaN</td>\n",
       "      <td>NaN</td>\n",
       "      <td>NaN</td>\n",
       "      <td>11.27</td>\n",
       "      <td>NaN</td>\n",
       "    </tr>\n",
       "    <tr>\n",
       "      <th>18</th>\n",
       "      <td>NaN</td>\n",
       "      <td>NaN</td>\n",
       "      <td>NaN</td>\n",
       "      <td>NaN</td>\n",
       "      <td>NaN</td>\n",
       "      <td>169.49</td>\n",
       "      <td>NaN</td>\n",
       "      <td>NaN</td>\n",
       "      <td>NaN</td>\n",
       "      <td>3.26</td>\n",
       "      <td>NaN</td>\n",
       "    </tr>\n",
       "    <tr>\n",
       "      <th>19</th>\n",
       "      <td>NaN</td>\n",
       "      <td>NaN</td>\n",
       "      <td>NaN</td>\n",
       "      <td>NaN</td>\n",
       "      <td>NaN</td>\n",
       "      <td>144.53</td>\n",
       "      <td>NaN</td>\n",
       "      <td>NaN</td>\n",
       "      <td>NaN</td>\n",
       "      <td>4.74</td>\n",
       "      <td>NaN</td>\n",
       "    </tr>\n",
       "    <tr>\n",
       "      <th>20</th>\n",
       "      <td>39.17</td>\n",
       "      <td>NaN</td>\n",
       "      <td>NaN</td>\n",
       "      <td>NaN</td>\n",
       "      <td>NaN</td>\n",
       "      <td>96.37</td>\n",
       "      <td>0.07</td>\n",
       "      <td>NaN</td>\n",
       "      <td>NaN</td>\n",
       "      <td>4.66</td>\n",
       "      <td>NaN</td>\n",
       "    </tr>\n",
       "    <tr>\n",
       "      <th>21</th>\n",
       "      <td>166.43</td>\n",
       "      <td>NaN</td>\n",
       "      <td>NaN</td>\n",
       "      <td>NaN</td>\n",
       "      <td>NaN</td>\n",
       "      <td>35.59</td>\n",
       "      <td>61.53</td>\n",
       "      <td>NaN</td>\n",
       "      <td>NaN</td>\n",
       "      <td>5.47</td>\n",
       "      <td>NaN</td>\n",
       "    </tr>\n",
       "    <tr>\n",
       "      <th>22</th>\n",
       "      <td>205.38</td>\n",
       "      <td>NaN</td>\n",
       "      <td>NaN</td>\n",
       "      <td>NaN</td>\n",
       "      <td>NaN</td>\n",
       "      <td>6.67</td>\n",
       "      <td>74.16</td>\n",
       "      <td>NaN</td>\n",
       "      <td>NaN</td>\n",
       "      <td>8.57</td>\n",
       "      <td>NaN</td>\n",
       "    </tr>\n",
       "    <tr>\n",
       "      <th>23</th>\n",
       "      <td>184.31</td>\n",
       "      <td>NaN</td>\n",
       "      <td>NaN</td>\n",
       "      <td>NaN</td>\n",
       "      <td>NaN</td>\n",
       "      <td>2.07</td>\n",
       "      <td>56.67</td>\n",
       "      <td>NaN</td>\n",
       "      <td>NaN</td>\n",
       "      <td>8.84</td>\n",
       "      <td>NaN</td>\n",
       "    </tr>\n",
       "    <tr>\n",
       "      <th>24</th>\n",
       "      <td>211.81</td>\n",
       "      <td>NaN</td>\n",
       "      <td>NaN</td>\n",
       "      <td>NaN</td>\n",
       "      <td>17.27</td>\n",
       "      <td>NaN</td>\n",
       "      <td>77.91</td>\n",
       "      <td>NaN</td>\n",
       "      <td>7.06</td>\n",
       "      <td>10.39</td>\n",
       "      <td>NaN</td>\n",
       "    </tr>\n",
       "    <tr>\n",
       "      <th>25</th>\n",
       "      <td>160.66</td>\n",
       "      <td>8.25</td>\n",
       "      <td>NaN</td>\n",
       "      <td>NaN</td>\n",
       "      <td>130.14</td>\n",
       "      <td>NaN</td>\n",
       "      <td>33.86</td>\n",
       "      <td>NaN</td>\n",
       "      <td>43.84</td>\n",
       "      <td>4.37</td>\n",
       "      <td>NaN</td>\n",
       "    </tr>\n",
       "    <tr>\n",
       "      <th>26</th>\n",
       "      <td>103.42</td>\n",
       "      <td>51.62</td>\n",
       "      <td>20.96</td>\n",
       "      <td>137.15</td>\n",
       "      <td>119.81</td>\n",
       "      <td>NaN</td>\n",
       "      <td>5.28</td>\n",
       "      <td>NaN</td>\n",
       "      <td>55.32</td>\n",
       "      <td>2.85</td>\n",
       "      <td>NaN</td>\n",
       "    </tr>\n",
       "    <tr>\n",
       "      <th>27</th>\n",
       "      <td>75.99</td>\n",
       "      <td>95.41</td>\n",
       "      <td>73.19</td>\n",
       "      <td>152.77</td>\n",
       "      <td>146.94</td>\n",
       "      <td>NaN</td>\n",
       "      <td>3.40</td>\n",
       "      <td>NaN</td>\n",
       "      <td>46.93</td>\n",
       "      <td>9.28</td>\n",
       "      <td>NaN</td>\n",
       "    </tr>\n",
       "    <tr>\n",
       "      <th>28</th>\n",
       "      <td>53.90</td>\n",
       "      <td>135.26</td>\n",
       "      <td>118.52</td>\n",
       "      <td>171.32</td>\n",
       "      <td>145.31</td>\n",
       "      <td>NaN</td>\n",
       "      <td>NaN</td>\n",
       "      <td>NaN</td>\n",
       "      <td>34.55</td>\n",
       "      <td>12.42</td>\n",
       "      <td>NaN</td>\n",
       "    </tr>\n",
       "    <tr>\n",
       "      <th>29</th>\n",
       "      <td>26.40</td>\n",
       "      <td>120.29</td>\n",
       "      <td>130.93</td>\n",
       "      <td>206.97</td>\n",
       "      <td>119.54</td>\n",
       "      <td>NaN</td>\n",
       "      <td>NaN</td>\n",
       "      <td>NaN</td>\n",
       "      <td>37.78</td>\n",
       "      <td>16.91</td>\n",
       "      <td>NaN</td>\n",
       "    </tr>\n",
       "    <tr>\n",
       "      <th>30</th>\n",
       "      <td>5.64</td>\n",
       "      <td>170.03</td>\n",
       "      <td>142.17</td>\n",
       "      <td>127.95</td>\n",
       "      <td>85.02</td>\n",
       "      <td>NaN</td>\n",
       "      <td>NaN</td>\n",
       "      <td>NaN</td>\n",
       "      <td>35.04</td>\n",
       "      <td>24.28</td>\n",
       "      <td>NaN</td>\n",
       "    </tr>\n",
       "    <tr>\n",
       "      <th>31</th>\n",
       "      <td>0.45</td>\n",
       "      <td>143.84</td>\n",
       "      <td>156.78</td>\n",
       "      <td>59.65</td>\n",
       "      <td>26.18</td>\n",
       "      <td>NaN</td>\n",
       "      <td>NaN</td>\n",
       "      <td>NaN</td>\n",
       "      <td>17.82</td>\n",
       "      <td>35.03</td>\n",
       "      <td>63.20</td>\n",
       "    </tr>\n",
       "    <tr>\n",
       "      <th>32</th>\n",
       "      <td>NaN</td>\n",
       "      <td>99.74</td>\n",
       "      <td>107.36</td>\n",
       "      <td>21.71</td>\n",
       "      <td>11.01</td>\n",
       "      <td>NaN</td>\n",
       "      <td>NaN</td>\n",
       "      <td>NaN</td>\n",
       "      <td>7.69</td>\n",
       "      <td>23.22</td>\n",
       "      <td>51.36</td>\n",
       "    </tr>\n",
       "    <tr>\n",
       "      <th>33</th>\n",
       "      <td>NaN</td>\n",
       "      <td>88.58</td>\n",
       "      <td>113.25</td>\n",
       "      <td>8.59</td>\n",
       "      <td>1.54</td>\n",
       "      <td>NaN</td>\n",
       "      <td>NaN</td>\n",
       "      <td>25.99</td>\n",
       "      <td>3.14</td>\n",
       "      <td>12.38</td>\n",
       "      <td>56.57</td>\n",
       "    </tr>\n",
       "    <tr>\n",
       "      <th>34</th>\n",
       "      <td>NaN</td>\n",
       "      <td>34.74</td>\n",
       "      <td>47.76</td>\n",
       "      <td>3.75</td>\n",
       "      <td>NaN</td>\n",
       "      <td>NaN</td>\n",
       "      <td>NaN</td>\n",
       "      <td>100.00</td>\n",
       "      <td>0.24</td>\n",
       "      <td>13.28</td>\n",
       "      <td>43.76</td>\n",
       "    </tr>\n",
       "    <tr>\n",
       "      <th>35</th>\n",
       "      <td>NaN</td>\n",
       "      <td>11.96</td>\n",
       "      <td>16.82</td>\n",
       "      <td>1.14</td>\n",
       "      <td>NaN</td>\n",
       "      <td>NaN</td>\n",
       "      <td>NaN</td>\n",
       "      <td>118.90</td>\n",
       "      <td>0.12</td>\n",
       "      <td>8.52</td>\n",
       "      <td>27.78</td>\n",
       "    </tr>\n",
       "    <tr>\n",
       "      <th>36</th>\n",
       "      <td>NaN</td>\n",
       "      <td>1.52</td>\n",
       "      <td>3.60</td>\n",
       "      <td>0.18</td>\n",
       "      <td>NaN</td>\n",
       "      <td>NaN</td>\n",
       "      <td>NaN</td>\n",
       "      <td>69.25</td>\n",
       "      <td>NaN</td>\n",
       "      <td>5.25</td>\n",
       "      <td>15.14</td>\n",
       "    </tr>\n",
       "  </tbody>\n",
       "</table>\n",
       "</div>"
      ],
      "text/plain": [
       "platform     PS2    X360     PS3     Wii      DS      PS    GBA     PS4  \\\n",
       "0            NaN     NaN     NaN     NaN     NaN     NaN    NaN     NaN   \n",
       "1            NaN     NaN     NaN     NaN     NaN     NaN    NaN     NaN   \n",
       "2            NaN     NaN     NaN     NaN     NaN     NaN    NaN     NaN   \n",
       "3            NaN     NaN     NaN     NaN     NaN     NaN    NaN     NaN   \n",
       "4            NaN     NaN     NaN     NaN     NaN     NaN    NaN     NaN   \n",
       "5            NaN     NaN     NaN     NaN    0.02     NaN    NaN     NaN   \n",
       "6            NaN     NaN     NaN     NaN     NaN     NaN    NaN     NaN   \n",
       "7            NaN     NaN     NaN     NaN     NaN     NaN    NaN     NaN   \n",
       "8            NaN     NaN     NaN     NaN     NaN     NaN    NaN     NaN   \n",
       "9            NaN     NaN     NaN     NaN     NaN     NaN    NaN     NaN   \n",
       "10           NaN     NaN     NaN     NaN     NaN     NaN    NaN     NaN   \n",
       "11           NaN     NaN     NaN     NaN     NaN     NaN    NaN     NaN   \n",
       "12           NaN     NaN     NaN     NaN     NaN     NaN    NaN     NaN   \n",
       "13           NaN     NaN     NaN     NaN     NaN     NaN    NaN     NaN   \n",
       "14           NaN     NaN     NaN     NaN     NaN    6.03    NaN     NaN   \n",
       "15           NaN     NaN     NaN     NaN     NaN   35.96    NaN     NaN   \n",
       "16           NaN     NaN     NaN     NaN     NaN   94.70    NaN     NaN   \n",
       "17           NaN     NaN     NaN     NaN     NaN  136.17    NaN     NaN   \n",
       "18           NaN     NaN     NaN     NaN     NaN  169.49    NaN     NaN   \n",
       "19           NaN     NaN     NaN     NaN     NaN  144.53    NaN     NaN   \n",
       "20         39.17     NaN     NaN     NaN     NaN   96.37   0.07     NaN   \n",
       "21        166.43     NaN     NaN     NaN     NaN   35.59  61.53     NaN   \n",
       "22        205.38     NaN     NaN     NaN     NaN    6.67  74.16     NaN   \n",
       "23        184.31     NaN     NaN     NaN     NaN    2.07  56.67     NaN   \n",
       "24        211.81     NaN     NaN     NaN   17.27     NaN  77.91     NaN   \n",
       "25        160.66    8.25     NaN     NaN  130.14     NaN  33.86     NaN   \n",
       "26        103.42   51.62   20.96  137.15  119.81     NaN   5.28     NaN   \n",
       "27         75.99   95.41   73.19  152.77  146.94     NaN   3.40     NaN   \n",
       "28         53.90  135.26  118.52  171.32  145.31     NaN    NaN     NaN   \n",
       "29         26.40  120.29  130.93  206.97  119.54     NaN    NaN     NaN   \n",
       "30          5.64  170.03  142.17  127.95   85.02     NaN    NaN     NaN   \n",
       "31          0.45  143.84  156.78   59.65   26.18     NaN    NaN     NaN   \n",
       "32           NaN   99.74  107.36   21.71   11.01     NaN    NaN     NaN   \n",
       "33           NaN   88.58  113.25    8.59    1.54     NaN    NaN   25.99   \n",
       "34           NaN   34.74   47.76    3.75     NaN     NaN    NaN  100.00   \n",
       "35           NaN   11.96   16.82    1.14     NaN     NaN    NaN  118.90   \n",
       "36           NaN    1.52    3.60    0.18     NaN     NaN    NaN   69.25   \n",
       "\n",
       "platform    PSP     PC    3DS  \n",
       "0           NaN    NaN    NaN  \n",
       "1           NaN    NaN    NaN  \n",
       "2           NaN    NaN    NaN  \n",
       "3           NaN    NaN    NaN  \n",
       "4           NaN    NaN    NaN  \n",
       "5           NaN   0.04    NaN  \n",
       "6           NaN    NaN    NaN  \n",
       "7           NaN    NaN    NaN  \n",
       "8           NaN   0.03    NaN  \n",
       "9           NaN    NaN    NaN  \n",
       "10          NaN    NaN    NaN  \n",
       "11          NaN    NaN    NaN  \n",
       "12          NaN   3.03    NaN  \n",
       "13          NaN    NaN    NaN  \n",
       "14          NaN  12.87    NaN  \n",
       "15          NaN   4.22    NaN  \n",
       "16          NaN  10.58    NaN  \n",
       "17          NaN  11.27    NaN  \n",
       "18          NaN   3.26    NaN  \n",
       "19          NaN   4.74    NaN  \n",
       "20          NaN   4.66    NaN  \n",
       "21          NaN   5.47    NaN  \n",
       "22          NaN   8.57    NaN  \n",
       "23          NaN   8.84    NaN  \n",
       "24         7.06  10.39    NaN  \n",
       "25        43.84   4.37    NaN  \n",
       "26        55.32   2.85    NaN  \n",
       "27        46.93   9.28    NaN  \n",
       "28        34.55  12.42    NaN  \n",
       "29        37.78  16.91    NaN  \n",
       "30        35.04  24.28    NaN  \n",
       "31        17.82  35.03  63.20  \n",
       "32         7.69  23.22  51.36  \n",
       "33         3.14  12.38  56.57  \n",
       "34         0.24  13.28  43.76  \n",
       "35         0.12   8.52  27.78  \n",
       "36          NaN   5.25  15.14  "
      ]
     },
     "execution_count": 28,
     "metadata": {},
     "output_type": "execute_result"
    }
   ],
   "source": [
    "plataformas_filtradas = eighty_percent_platforms['platform'].tolist()\n",
    "pivot_filtrado = pivot_video_juegos[plataformas_filtradas]\n",
    "pivot_filtrado"
   ]
  },
  {
   "cell_type": "code",
   "execution_count": 29,
   "metadata": {
    "trusted": false
   },
   "outputs": [
    {
     "data": {
      "image/png": "[encoded data removed]",
      "text/plain": [
       "<Figure size 640x480 with 1 Axes>"
      ]
     },
     "metadata": {},
     "output_type": "display_data"
    }
   ],
   "source": [
    "for plataforma in pivot_filtrado.columns:\n",
    "    sns.lineplot(x=pivot_filtrado.index, y=pivot_filtrado[plataforma], label=plataforma)\n",
    "\n",
    "plt.title('Evolución de Ventas Totales por Plataforma')\n",
    "plt.xlabel('Año de Lanzamiento')\n",
    "plt.ylabel('Ventas Totales (Ajusta la etiqueta según tus datos)')\n",
    "plt.legend(title='Plataforma')\n",
    "plt.grid(True)\n",
    "plt.xticks(rotation=0, ha='right')\n",
    "plt.tight_layout()\n",
    "plt.show()"
   ]
  },
  {
   "cell_type": "code",
   "execution_count": 30,
   "metadata": {
    "trusted": false
   },
   "outputs": [
    {
     "data": {
      "text/html": [
       "<div>\n",
       "<style scoped>\n",
       "    .dataframe tbody tr th:only-of-type {\n",
       "        vertical-align: middle;\n",
       "    }\n",
       "\n",
       "    .dataframe tbody tr th {\n",
       "        vertical-align: top;\n",
       "    }\n",
       "\n",
       "    .dataframe thead th {\n",
       "        text-align: right;\n",
       "    }\n",
       "</style>\n",
       "<table border=\"1\" class=\"dataframe\">\n",
       "  <thead>\n",
       "    <tr style=\"text-align: right;\">\n",
       "      <th></th>\n",
       "      <th>Primer Año de Venta</th>\n",
       "      <th>Último Año de Venta</th>\n",
       "      <th>Duración Promedio (Años)</th>\n",
       "    </tr>\n",
       "  </thead>\n",
       "  <tbody>\n",
       "    <tr>\n",
       "      <th>PS2</th>\n",
       "      <td>20</td>\n",
       "      <td>31</td>\n",
       "      <td>11</td>\n",
       "    </tr>\n",
       "    <tr>\n",
       "      <th>X360</th>\n",
       "      <td>25</td>\n",
       "      <td>36</td>\n",
       "      <td>11</td>\n",
       "    </tr>\n",
       "    <tr>\n",
       "      <th>PS3</th>\n",
       "      <td>26</td>\n",
       "      <td>36</td>\n",
       "      <td>10</td>\n",
       "    </tr>\n",
       "    <tr>\n",
       "      <th>Wii</th>\n",
       "      <td>26</td>\n",
       "      <td>36</td>\n",
       "      <td>10</td>\n",
       "    </tr>\n",
       "    <tr>\n",
       "      <th>DS</th>\n",
       "      <td>5</td>\n",
       "      <td>33</td>\n",
       "      <td>28</td>\n",
       "    </tr>\n",
       "    <tr>\n",
       "      <th>PS</th>\n",
       "      <td>14</td>\n",
       "      <td>23</td>\n",
       "      <td>9</td>\n",
       "    </tr>\n",
       "    <tr>\n",
       "      <th>GBA</th>\n",
       "      <td>20</td>\n",
       "      <td>27</td>\n",
       "      <td>7</td>\n",
       "    </tr>\n",
       "    <tr>\n",
       "      <th>PS4</th>\n",
       "      <td>33</td>\n",
       "      <td>36</td>\n",
       "      <td>3</td>\n",
       "    </tr>\n",
       "    <tr>\n",
       "      <th>PSP</th>\n",
       "      <td>24</td>\n",
       "      <td>35</td>\n",
       "      <td>11</td>\n",
       "    </tr>\n",
       "    <tr>\n",
       "      <th>PC</th>\n",
       "      <td>5</td>\n",
       "      <td>36</td>\n",
       "      <td>31</td>\n",
       "    </tr>\n",
       "    <tr>\n",
       "      <th>3DS</th>\n",
       "      <td>31</td>\n",
       "      <td>36</td>\n",
       "      <td>5</td>\n",
       "    </tr>\n",
       "  </tbody>\n",
       "</table>\n",
       "</div>"
      ],
      "text/plain": [
       "      Primer Año de Venta  Último Año de Venta  Duración Promedio (Años)\n",
       "PS2                    20                   31                        11\n",
       "X360                   25                   36                        11\n",
       "PS3                    26                   36                        10\n",
       "Wii                    26                   36                        10\n",
       "DS                      5                   33                        28\n",
       "PS                     14                   23                         9\n",
       "GBA                    20                   27                         7\n",
       "PS4                    33                   36                         3\n",
       "PSP                    24                   35                        11\n",
       "PC                      5                   36                        31\n",
       "3DS                    31                   36                         5"
      ]
     },
     "execution_count": 30,
     "metadata": {},
     "output_type": "execute_result"
    }
   ],
   "source": [
    "first_year = {}\n",
    "for col in pivot_filtrado.columns:\n",
    "    sales = pivot_filtrado[col].dropna()\n",
    "    if not sales.empty:\n",
    "        first_year[col] = sales.index.min()\n",
    "    else:\n",
    "        first_year[col] = None\n",
    "\n",
    "\n",
    "last_year = {}\n",
    "for col in pivot_filtrado.columns:\n",
    "    sales = pivot_filtrado[col].dropna()\n",
    "    if not sales.empty:\n",
    "        last_year[col] = sales.index.max()\n",
    "    else:\n",
    "        last_year[col] = None\n",
    "\n",
    "\n",
    "duracion_promedio = {}\n",
    "for col in pivot_filtrado.columns:\n",
    "    if first_year[col] is not None and last_year[col] is not None:\n",
    "        duracion_promedio[col] = last_year[col] - first_year[col]\n",
    "    else:\n",
    "        duracion_promedio[col] = None\n",
    "\n",
    "\n",
    "resumen_platform = pd.DataFrame({\n",
    "    'Primer Año de Venta': pd.Series(first_year),\n",
    "    'Último Año de Venta': pd.Series(last_year),\n",
    "    'Duración Promedio (Años)': pd.Series(duracion_promedio)\n",
    "})\n",
    "\n",
    "resumen_platform"
   ]
  },
  {
   "cell_type": "markdown",
   "metadata": {},
   "source": [
    "Vemos que la plataforma PC es la que se mantiene constantes durante todos estos años, la plataforma de 3DS y PS4 son plataformas nuevas que se han lanzado 2011 y 2013 respectivamente. Plataformas como Gba, PS han hecho lanzamientos los primeros años y luegos tiene saltos de años sin ingresos y retoman el mercado. Podemos encotrar que la plataforma que más años a durado en el mercado es PC."
   ]
  },
  {
   "cell_type": "markdown",
   "metadata": {},
   "source": [
    "<div class=\"alert alert-block alert-success\">\n",
    "<b>Comentario de Revisor</b> <a class=\"tocSkip\"></a>\n",
    "\n",
    "Ok, bien con el gráfico y la data, aunque la tabla no muestra tan bien los detalles como el gráfico. \n",
    "\n",
    "</div>"
   ]
  },
  {
   "cell_type": "markdown",
   "metadata": {},
   "source": [
    "<div class=\"alert alert-block alert-danger\">\n",
    "<b>Comentario de Revisor</b> <a class=\"tocSkip\"></a>\n",
    "\n",
    "Para esta parte, determina el periodo de vida de las plataformas, calcula el primer y último año de venta de cada una y estima la duración promedio de vida de cada una.\n",
    "\n",
    "</div>"
   ]
  },
  {
   "cell_type": "markdown",
   "metadata": {},
   "source": [
    "\n",
    "<div class=\"alert alert-block alert-info\">\n",
    "<b>Listo.</b> <a class=\"tocSkip\"></a>\n",
    "</div>"
   ]
  },
  {
   "cell_type": "markdown",
   "metadata": {},
   "source": [
    "<div class=\"alert alert-block alert-success\">\n",
    "<b>Comentario de Revisor v2</b> <a class=\"tocSkip\"></a>\n",
    "\n",
    "Muy bien, correcto! \n",
    "\n",
    "</div>"
   ]
  },
  {
   "cell_type": "markdown",
   "metadata": {},
   "source": [
    "### Forecasting 2017"
   ]
  },
  {
   "cell_type": "code",
   "execution_count": 31,
   "metadata": {
    "trusted": false
   },
   "outputs": [
    {
     "data": {
      "text/html": [
       "<div>\n",
       "<style scoped>\n",
       "    .dataframe tbody tr th:only-of-type {\n",
       "        vertical-align: middle;\n",
       "    }\n",
       "\n",
       "    .dataframe tbody tr th {\n",
       "        vertical-align: top;\n",
       "    }\n",
       "\n",
       "    .dataframe thead th {\n",
       "        text-align: right;\n",
       "    }\n",
       "</style>\n",
       "<table border=\"1\" class=\"dataframe\">\n",
       "  <thead>\n",
       "    <tr style=\"text-align: right;\">\n",
       "      <th></th>\n",
       "      <th>name</th>\n",
       "      <th>platform</th>\n",
       "      <th>year_of_release</th>\n",
       "      <th>genre</th>\n",
       "      <th>na_sales</th>\n",
       "      <th>eu_sales</th>\n",
       "      <th>jp_sales</th>\n",
       "      <th>other_sales</th>\n",
       "      <th>critic_score</th>\n",
       "      <th>user_score</th>\n",
       "      <th>rating</th>\n",
       "      <th>total_sales</th>\n",
       "    </tr>\n",
       "  </thead>\n",
       "  <tbody>\n",
       "    <tr>\n",
       "      <th>16</th>\n",
       "      <td>Grand Theft Auto V</td>\n",
       "      <td>PS3</td>\n",
       "      <td>2013</td>\n",
       "      <td>Action</td>\n",
       "      <td>7.02</td>\n",
       "      <td>9.09</td>\n",
       "      <td>0.98</td>\n",
       "      <td>3.96</td>\n",
       "      <td>97.0</td>\n",
       "      <td>8.2</td>\n",
       "      <td>M</td>\n",
       "      <td>21.05</td>\n",
       "    </tr>\n",
       "    <tr>\n",
       "      <th>23</th>\n",
       "      <td>Grand Theft Auto V</td>\n",
       "      <td>X360</td>\n",
       "      <td>2013</td>\n",
       "      <td>Action</td>\n",
       "      <td>9.66</td>\n",
       "      <td>5.14</td>\n",
       "      <td>0.06</td>\n",
       "      <td>1.41</td>\n",
       "      <td>97.0</td>\n",
       "      <td>8.1</td>\n",
       "      <td>M</td>\n",
       "      <td>16.27</td>\n",
       "    </tr>\n",
       "    <tr>\n",
       "      <th>31</th>\n",
       "      <td>Call of Duty: Black Ops 3</td>\n",
       "      <td>PS4</td>\n",
       "      <td>2015</td>\n",
       "      <td>Shooter</td>\n",
       "      <td>6.03</td>\n",
       "      <td>5.86</td>\n",
       "      <td>0.36</td>\n",
       "      <td>2.38</td>\n",
       "      <td>NaN</td>\n",
       "      <td>NaN</td>\n",
       "      <td>NaN</td>\n",
       "      <td>14.63</td>\n",
       "    </tr>\n",
       "    <tr>\n",
       "      <th>33</th>\n",
       "      <td>Pokemon X/Pokemon Y</td>\n",
       "      <td>3DS</td>\n",
       "      <td>2013</td>\n",
       "      <td>Role-Playing</td>\n",
       "      <td>5.28</td>\n",
       "      <td>4.19</td>\n",
       "      <td>4.35</td>\n",
       "      <td>0.78</td>\n",
       "      <td>NaN</td>\n",
       "      <td>NaN</td>\n",
       "      <td>NaN</td>\n",
       "      <td>14.60</td>\n",
       "    </tr>\n",
       "    <tr>\n",
       "      <th>42</th>\n",
       "      <td>Grand Theft Auto V</td>\n",
       "      <td>PS4</td>\n",
       "      <td>2014</td>\n",
       "      <td>Action</td>\n",
       "      <td>3.96</td>\n",
       "      <td>6.31</td>\n",
       "      <td>0.38</td>\n",
       "      <td>1.97</td>\n",
       "      <td>97.0</td>\n",
       "      <td>8.3</td>\n",
       "      <td>M</td>\n",
       "      <td>12.62</td>\n",
       "    </tr>\n",
       "    <tr>\n",
       "      <th>...</th>\n",
       "      <td>...</td>\n",
       "      <td>...</td>\n",
       "      <td>...</td>\n",
       "      <td>...</td>\n",
       "      <td>...</td>\n",
       "      <td>...</td>\n",
       "      <td>...</td>\n",
       "      <td>...</td>\n",
       "      <td>...</td>\n",
       "      <td>...</td>\n",
       "      <td>...</td>\n",
       "      <td>...</td>\n",
       "    </tr>\n",
       "    <tr>\n",
       "      <th>16703</th>\n",
       "      <td>Strawberry Nauts</td>\n",
       "      <td>PSV</td>\n",
       "      <td>2016</td>\n",
       "      <td>Adventure</td>\n",
       "      <td>0.00</td>\n",
       "      <td>0.00</td>\n",
       "      <td>0.01</td>\n",
       "      <td>0.00</td>\n",
       "      <td>NaN</td>\n",
       "      <td>NaN</td>\n",
       "      <td>NaN</td>\n",
       "      <td>0.01</td>\n",
       "    </tr>\n",
       "    <tr>\n",
       "      <th>16707</th>\n",
       "      <td>Aiyoku no Eustia</td>\n",
       "      <td>PSV</td>\n",
       "      <td>2014</td>\n",
       "      <td>Misc</td>\n",
       "      <td>0.00</td>\n",
       "      <td>0.00</td>\n",
       "      <td>0.01</td>\n",
       "      <td>0.00</td>\n",
       "      <td>NaN</td>\n",
       "      <td>NaN</td>\n",
       "      <td>NaN</td>\n",
       "      <td>0.01</td>\n",
       "    </tr>\n",
       "    <tr>\n",
       "      <th>16710</th>\n",
       "      <td>Samurai Warriors: Sanada Maru</td>\n",
       "      <td>PS3</td>\n",
       "      <td>2016</td>\n",
       "      <td>Action</td>\n",
       "      <td>0.00</td>\n",
       "      <td>0.00</td>\n",
       "      <td>0.01</td>\n",
       "      <td>0.00</td>\n",
       "      <td>NaN</td>\n",
       "      <td>NaN</td>\n",
       "      <td>NaN</td>\n",
       "      <td>0.01</td>\n",
       "    </tr>\n",
       "    <tr>\n",
       "      <th>16712</th>\n",
       "      <td>Haitaka no Psychedelica</td>\n",
       "      <td>PSV</td>\n",
       "      <td>2016</td>\n",
       "      <td>Adventure</td>\n",
       "      <td>0.00</td>\n",
       "      <td>0.00</td>\n",
       "      <td>0.01</td>\n",
       "      <td>0.00</td>\n",
       "      <td>NaN</td>\n",
       "      <td>NaN</td>\n",
       "      <td>NaN</td>\n",
       "      <td>0.01</td>\n",
       "    </tr>\n",
       "    <tr>\n",
       "      <th>16714</th>\n",
       "      <td>Winning Post 8 2016</td>\n",
       "      <td>PSV</td>\n",
       "      <td>2016</td>\n",
       "      <td>Simulation</td>\n",
       "      <td>0.00</td>\n",
       "      <td>0.00</td>\n",
       "      <td>0.01</td>\n",
       "      <td>0.00</td>\n",
       "      <td>NaN</td>\n",
       "      <td>NaN</td>\n",
       "      <td>NaN</td>\n",
       "      <td>0.01</td>\n",
       "    </tr>\n",
       "  </tbody>\n",
       "</table>\n",
       "<p>2233 rows × 12 columns</p>\n",
       "</div>"
      ],
      "text/plain": [
       "                                name platform  year_of_release         genre  \\\n",
       "16                Grand Theft Auto V      PS3             2013        Action   \n",
       "23                Grand Theft Auto V     X360             2013        Action   \n",
       "31         Call of Duty: Black Ops 3      PS4             2015       Shooter   \n",
       "33               Pokemon X/Pokemon Y      3DS             2013  Role-Playing   \n",
       "42                Grand Theft Auto V      PS4             2014        Action   \n",
       "...                              ...      ...              ...           ...   \n",
       "16703               Strawberry Nauts      PSV             2016     Adventure   \n",
       "16707               Aiyoku no Eustia      PSV             2014          Misc   \n",
       "16710  Samurai Warriors: Sanada Maru      PS3             2016        Action   \n",
       "16712        Haitaka no Psychedelica      PSV             2016     Adventure   \n",
       "16714            Winning Post 8 2016      PSV             2016    Simulation   \n",
       "\n",
       "       na_sales  eu_sales  jp_sales  other_sales  critic_score  user_score  \\\n",
       "16         7.02      9.09      0.98         3.96          97.0         8.2   \n",
       "23         9.66      5.14      0.06         1.41          97.0         8.1   \n",
       "31         6.03      5.86      0.36         2.38           NaN         NaN   \n",
       "33         5.28      4.19      4.35         0.78           NaN         NaN   \n",
       "42         3.96      6.31      0.38         1.97          97.0         8.3   \n",
       "...         ...       ...       ...          ...           ...         ...   \n",
       "16703      0.00      0.00      0.01         0.00           NaN         NaN   \n",
       "16707      0.00      0.00      0.01         0.00           NaN         NaN   \n",
       "16710      0.00      0.00      0.01         0.00           NaN         NaN   \n",
       "16712      0.00      0.00      0.01         0.00           NaN         NaN   \n",
       "16714      0.00      0.00      0.01         0.00           NaN         NaN   \n",
       "\n",
       "      rating  total_sales  \n",
       "16         M        21.05  \n",
       "23         M        16.27  \n",
       "31       NaN        14.63  \n",
       "33       NaN        14.60  \n",
       "42         M        12.62  \n",
       "...      ...          ...  \n",
       "16703    NaN         0.01  \n",
       "16707    NaN         0.01  \n",
       "16710    NaN         0.01  \n",
       "16712    NaN         0.01  \n",
       "16714    NaN         0.01  \n",
       "\n",
       "[2233 rows x 12 columns]"
      ]
     },
     "execution_count": 31,
     "metadata": {},
     "output_type": "execute_result"
    }
   ],
   "source": [
    "sales_over2013total = video_juegos[video_juegos['year_of_release'] >= 2013]\n",
    "sales_over2013total"
   ]
  },
  {
   "cell_type": "markdown",
   "metadata": {},
   "source": [
    "<div class=\"alert alert-block alert-success\">\n",
    "<b>Comentario de Revisor v3</b> <a class=\"tocSkip\"></a>\n",
    "\n",
    "Bien, correcta la creación de este dataframe\n",
    "\n",
    "</div>"
   ]
  },
  {
   "cell_type": "code",
   "execution_count": 32,
   "metadata": {
    "trusted": false
   },
   "outputs": [
    {
     "data": {
      "text/html": [
       "<div>\n",
       "<style scoped>\n",
       "    .dataframe tbody tr th:only-of-type {\n",
       "        vertical-align: middle;\n",
       "    }\n",
       "\n",
       "    .dataframe tbody tr th {\n",
       "        vertical-align: top;\n",
       "    }\n",
       "\n",
       "    .dataframe thead th {\n",
       "        text-align: right;\n",
       "    }\n",
       "</style>\n",
       "<table border=\"1\" class=\"dataframe\">\n",
       "  <thead>\n",
       "    <tr style=\"text-align: right;\">\n",
       "      <th></th>\n",
       "      <th>year_of_release</th>\n",
       "      <th>total_sales_by_year</th>\n",
       "    </tr>\n",
       "  </thead>\n",
       "  <tbody>\n",
       "    <tr>\n",
       "      <th>0</th>\n",
       "      <td>2013</td>\n",
       "      <td>361.24</td>\n",
       "    </tr>\n",
       "    <tr>\n",
       "      <th>1</th>\n",
       "      <td>2014</td>\n",
       "      <td>331.53</td>\n",
       "    </tr>\n",
       "    <tr>\n",
       "      <th>2</th>\n",
       "      <td>2015</td>\n",
       "      <td>267.98</td>\n",
       "    </tr>\n",
       "    <tr>\n",
       "      <th>3</th>\n",
       "      <td>2016</td>\n",
       "      <td>129.94</td>\n",
       "    </tr>\n",
       "  </tbody>\n",
       "</table>\n",
       "</div>"
      ],
      "text/plain": [
       "   year_of_release  total_sales_by_year\n",
       "0             2013               361.24\n",
       "1             2014               331.53\n",
       "2             2015               267.98\n",
       "3             2016               129.94"
      ]
     },
     "execution_count": 32,
     "metadata": {},
     "output_type": "execute_result"
    }
   ],
   "source": [
    "sales_by_year = sales_over2013total.groupby('year_of_release')['total_sales'].sum().reset_index(name='total_sales_by_year')\n",
    "sales_by_year"
   ]
  },
  {
   "cell_type": "code",
   "execution_count": 33,
   "metadata": {
    "trusted": false
   },
   "outputs": [
    {
     "data": {
      "image/png": "[encoded data removed]",
      "text/plain": [
       "<Figure size 640x480 with 1 Axes>"
      ]
     },
     "metadata": {},
     "output_type": "display_data"
    }
   ],
   "source": [
    "sales_by_year.plot(x='year_of_release', y='total_sales_by_year')\n",
    "plt.title('Ventas Totales por Año')\n",
    "plt.xlabel('Año')\n",
    "plt.ylabel('Ventas Totales')\n",
    "plt.show()"
   ]
  },
  {
   "cell_type": "code",
   "execution_count": 34,
   "metadata": {
    "trusted": false
   },
   "outputs": [
    {
     "data": {
      "text/html": [
       "<div>\n",
       "<style scoped>\n",
       "    .dataframe tbody tr th:only-of-type {\n",
       "        vertical-align: middle;\n",
       "    }\n",
       "\n",
       "    .dataframe tbody tr th {\n",
       "        vertical-align: top;\n",
       "    }\n",
       "\n",
       "    .dataframe thead th {\n",
       "        text-align: right;\n",
       "    }\n",
       "</style>\n",
       "<table border=\"1\" class=\"dataframe\">\n",
       "  <thead>\n",
       "    <tr style=\"text-align: right;\">\n",
       "      <th></th>\n",
       "      <th>year_of_release</th>\n",
       "      <th>total_sales</th>\n",
       "      <th>na_sales</th>\n",
       "      <th>eu_sales</th>\n",
       "      <th>jp_sales</th>\n",
       "      <th>other_sales</th>\n",
       "    </tr>\n",
       "  </thead>\n",
       "  <tbody>\n",
       "    <tr>\n",
       "      <th>0</th>\n",
       "      <td>2013</td>\n",
       "      <td>361.24</td>\n",
       "      <td>153.65</td>\n",
       "      <td>121.55</td>\n",
       "      <td>47.69</td>\n",
       "      <td>38.35</td>\n",
       "    </tr>\n",
       "    <tr>\n",
       "      <th>1</th>\n",
       "      <td>2014</td>\n",
       "      <td>331.53</td>\n",
       "      <td>132.27</td>\n",
       "      <td>122.74</td>\n",
       "      <td>39.69</td>\n",
       "      <td>36.83</td>\n",
       "    </tr>\n",
       "    <tr>\n",
       "      <th>2</th>\n",
       "      <td>2015</td>\n",
       "      <td>267.98</td>\n",
       "      <td>106.86</td>\n",
       "      <td>96.72</td>\n",
       "      <td>34.09</td>\n",
       "      <td>30.31</td>\n",
       "    </tr>\n",
       "    <tr>\n",
       "      <th>3</th>\n",
       "      <td>2016</td>\n",
       "      <td>129.94</td>\n",
       "      <td>44.93</td>\n",
       "      <td>51.22</td>\n",
       "      <td>19.31</td>\n",
       "      <td>14.48</td>\n",
       "    </tr>\n",
       "  </tbody>\n",
       "</table>\n",
       "</div>"
      ],
      "text/plain": [
       "   year_of_release  total_sales  na_sales  eu_sales  jp_sales  other_sales\n",
       "0             2013       361.24    153.65    121.55     47.69        38.35\n",
       "1             2014       331.53    132.27    122.74     39.69        36.83\n",
       "2             2015       267.98    106.86     96.72     34.09        30.31\n",
       "3             2016       129.94     44.93     51.22     19.31        14.48"
      ]
     },
     "execution_count": 34,
     "metadata": {},
     "output_type": "execute_result"
    }
   ],
   "source": [
    "sales_by_year_region = sales_over2013total.groupby('year_of_release')[['total_sales', 'na_sales',\t'eu_sales',\t'jp_sales', 'other_sales']].sum().reset_index()\n",
    "sales_by_year_region"
   ]
  },
  {
   "cell_type": "code",
   "execution_count": 35,
   "metadata": {
    "trusted": false
   },
   "outputs": [
    {
     "data": {
      "text/html": [
       "<div>\n",
       "<style scoped>\n",
       "    .dataframe tbody tr th:only-of-type {\n",
       "        vertical-align: middle;\n",
       "    }\n",
       "\n",
       "    .dataframe tbody tr th {\n",
       "        vertical-align: top;\n",
       "    }\n",
       "\n",
       "    .dataframe thead th {\n",
       "        text-align: right;\n",
       "    }\n",
       "</style>\n",
       "<table border=\"1\" class=\"dataframe\">\n",
       "  <thead>\n",
       "    <tr style=\"text-align: right;\">\n",
       "      <th></th>\n",
       "      <th>year_of_release</th>\n",
       "      <th>total_sales</th>\n",
       "      <th>na_sales</th>\n",
       "      <th>eu_sales</th>\n",
       "      <th>jp_sales</th>\n",
       "      <th>other_sales</th>\n",
       "    </tr>\n",
       "  </thead>\n",
       "  <tbody>\n",
       "    <tr>\n",
       "      <th>0</th>\n",
       "      <td>2013</td>\n",
       "      <td>361.24</td>\n",
       "      <td>153.65</td>\n",
       "      <td>121.55</td>\n",
       "      <td>47.69</td>\n",
       "      <td>38.35</td>\n",
       "    </tr>\n",
       "    <tr>\n",
       "      <th>1</th>\n",
       "      <td>2014</td>\n",
       "      <td>331.53</td>\n",
       "      <td>132.27</td>\n",
       "      <td>122.74</td>\n",
       "      <td>39.69</td>\n",
       "      <td>36.83</td>\n",
       "    </tr>\n",
       "    <tr>\n",
       "      <th>2</th>\n",
       "      <td>2015</td>\n",
       "      <td>267.98</td>\n",
       "      <td>106.86</td>\n",
       "      <td>96.72</td>\n",
       "      <td>34.09</td>\n",
       "      <td>30.31</td>\n",
       "    </tr>\n",
       "    <tr>\n",
       "      <th>3</th>\n",
       "      <td>2016</td>\n",
       "      <td>129.94</td>\n",
       "      <td>44.93</td>\n",
       "      <td>51.22</td>\n",
       "      <td>19.31</td>\n",
       "      <td>14.48</td>\n",
       "    </tr>\n",
       "  </tbody>\n",
       "</table>\n",
       "</div>"
      ],
      "text/plain": [
       "   year_of_release  total_sales  na_sales  eu_sales  jp_sales  other_sales\n",
       "0             2013       361.24    153.65    121.55     47.69        38.35\n",
       "1             2014       331.53    132.27    122.74     39.69        36.83\n",
       "2             2015       267.98    106.86     96.72     34.09        30.31\n",
       "3             2016       129.94     44.93     51.22     19.31        14.48"
      ]
     },
     "execution_count": 35,
     "metadata": {},
     "output_type": "execute_result"
    }
   ],
   "source": [
    "sales_over2013 = sales_by_year_region[sales_by_year_region['year_of_release'] >= 2013]\n",
    "sales_over2013"
   ]
  },
  {
   "cell_type": "markdown",
   "metadata": {},
   "source": [
    "<div class=\"alert alert-block alert-danger\">\n",
    "<b>Comentario de Revisor</b> <a class=\"tocSkip\"></a>\n",
    "\n",
    "El objetivo de la data a analizar posteriormente es que sea data que sirva para proyectar el 2017. En ese sentido, no se puede utilizar data muy antigua, ya que eso incluiría consolas que ya no existen y tendencias que ya no se repetirán para las consolas aún vigentes. En general, un mínimo de 2 años es suficiente y hasta 4 años puede ser útil. Tomar más años provocaría el problema que menciono.\n",
    "    \n",
    "Cambia el periodo de tiempo, reducelo a 3 o 4 años y revisa cómo cambian los análisis de las secciones siguientes. Continuaré la revisión corrigiendo solamente la metodología.  \n",
    "\n",
    "</div>"
   ]
  },
  {
   "cell_type": "markdown",
   "metadata": {},
   "source": [
    "\n",
    "<div class=\"alert alert-block alert-info\">\n",
    "<b>Listo.</b> <a class=\"tocSkip\"></a>\n",
    "</div>"
   ]
  },
  {
   "cell_type": "markdown",
   "metadata": {},
   "source": [
    "<div class=\"alert alert-block alert-danger\">\n",
    "<b>Comentario de Revisor v2</b> <a class=\"tocSkip\"></a>\n",
    "\n",
    "Bien hecho, la data desde el 2013 en adelante será útil. Sin embargo, veo que aquí te quedaste solamente con la data agrupada por año. En realidad, deberías tener la data por juego, eso será necesario para los análisis de secciones siguientes. Aplica este filtro de años sobre el dataframe `video_juegos` y usa ese para las siguientes secciones\n",
    "\n",
    "</div>"
   ]
  },
  {
   "cell_type": "markdown",
   "metadata": {},
   "source": [
    "<div class=\"alert alert-block alert-danger\">\n",
    "<b>Comentario de Revisor v3</b> <a class=\"tocSkip\"></a>\n",
    "\n",
    "La celda anterior no compila porque se intenta usar un índice incorrecto sobre video_juegos. El código `video_juegos['year_of_release'].sum()` tiene como resultado 32998646, por lo tanto, esta línea\n",
    "    \n",
    "    filtro_by_year = video_juegos[video_juegos['year_of_release'].sum()]\n",
    "    \n",
    "es equivalente a \n",
    "    \n",
    "    filtro_by_year = video_juegos[32998646]\n",
    "    \n",
    "es decir, se intenta seleccionar una sola línea, que por lo demás, no existe.    \n",
    "</div>"
   ]
  },
  {
   "cell_type": "markdown",
   "metadata": {},
   "source": [
    "<div class=\"alert alert-block alert-success\">\n",
    "<b>Comentario de Revisor v4</b> <a class=\"tocSkip\"></a>\n",
    "\n",
    "Bien, corregido\n",
    "\n",
    "</div>"
   ]
  },
  {
   "cell_type": "markdown",
   "metadata": {},
   "source": [
    "<div class=\"alert alert-block alert-info\">\n",
    "<b>Listo V02.</b> <a class=\"tocSkip\"></a>\n",
    "</div>"
   ]
  },
  {
   "cell_type": "code",
   "execution_count": 36,
   "metadata": {
    "trusted": false
   },
   "outputs": [
    {
     "data": {
      "text/plain": [
       "name\n",
       " Beyblade Burst                 0.03\n",
       " Fire Emblem Fates              1.67\n",
       " Frozen: Olaf's Quest           1.10\n",
       " Haikyu!! Cross Team Match!     0.04\n",
       " Tales of Xillia 2              0.84\n",
       "                                ... \n",
       "thinkSMART: Chess for Kids      0.01\n",
       "uDraw Studio                    2.42\n",
       "uDraw Studio: Instant Artist    0.19\n",
       "wwe Smackdown vs. Raw 2006      3.00\n",
       "¡Shin Chan Flipa en colores!    0.14\n",
       "Name: total_sales, Length: 11559, dtype: float64"
      ]
     },
     "execution_count": 36,
     "metadata": {},
     "output_type": "execute_result"
    }
   ],
   "source": [
    "video_juegos.groupby('name')['total_sales'].sum()"
   ]
  },
  {
   "cell_type": "code",
   "execution_count": 37,
   "metadata": {
    "trusted": false
   },
   "outputs": [
    {
     "data": {
      "text/html": [
       "<div>\n",
       "<style scoped>\n",
       "    .dataframe tbody tr th:only-of-type {\n",
       "        vertical-align: middle;\n",
       "    }\n",
       "\n",
       "    .dataframe tbody tr th {\n",
       "        vertical-align: top;\n",
       "    }\n",
       "\n",
       "    .dataframe thead th {\n",
       "        text-align: right;\n",
       "    }\n",
       "</style>\n",
       "<table border=\"1\" class=\"dataframe\">\n",
       "  <thead>\n",
       "    <tr style=\"text-align: right;\">\n",
       "      <th></th>\n",
       "      <th>year_of_release</th>\n",
       "      <th>total_sales</th>\n",
       "      <th>na_sales</th>\n",
       "      <th>eu_sales</th>\n",
       "      <th>jp_sales</th>\n",
       "      <th>other_sales</th>\n",
       "    </tr>\n",
       "  </thead>\n",
       "  <tbody>\n",
       "    <tr>\n",
       "      <th>count</th>\n",
       "      <td>4.000000</td>\n",
       "      <td>4.000000</td>\n",
       "      <td>4.000000</td>\n",
       "      <td>4.000000</td>\n",
       "      <td>4.000000</td>\n",
       "      <td>4.00000</td>\n",
       "    </tr>\n",
       "    <tr>\n",
       "      <th>mean</th>\n",
       "      <td>2014.500000</td>\n",
       "      <td>272.672500</td>\n",
       "      <td>109.427500</td>\n",
       "      <td>98.057500</td>\n",
       "      <td>35.195000</td>\n",
       "      <td>29.99250</td>\n",
       "    </tr>\n",
       "    <tr>\n",
       "      <th>std</th>\n",
       "      <td>1.290994</td>\n",
       "      <td>102.799146</td>\n",
       "      <td>47.059993</td>\n",
       "      <td>33.449782</td>\n",
       "      <td>11.970579</td>\n",
       "      <td>10.91387</td>\n",
       "    </tr>\n",
       "    <tr>\n",
       "      <th>min</th>\n",
       "      <td>2013.000000</td>\n",
       "      <td>129.940000</td>\n",
       "      <td>44.930000</td>\n",
       "      <td>51.220000</td>\n",
       "      <td>19.310000</td>\n",
       "      <td>14.48000</td>\n",
       "    </tr>\n",
       "    <tr>\n",
       "      <th>25%</th>\n",
       "      <td>2013.750000</td>\n",
       "      <td>233.470000</td>\n",
       "      <td>91.377500</td>\n",
       "      <td>85.345000</td>\n",
       "      <td>30.395000</td>\n",
       "      <td>26.35250</td>\n",
       "    </tr>\n",
       "    <tr>\n",
       "      <th>50%</th>\n",
       "      <td>2014.500000</td>\n",
       "      <td>299.755000</td>\n",
       "      <td>119.565000</td>\n",
       "      <td>109.135000</td>\n",
       "      <td>36.890000</td>\n",
       "      <td>33.57000</td>\n",
       "    </tr>\n",
       "    <tr>\n",
       "      <th>75%</th>\n",
       "      <td>2015.250000</td>\n",
       "      <td>338.957500</td>\n",
       "      <td>137.615000</td>\n",
       "      <td>121.847500</td>\n",
       "      <td>41.690000</td>\n",
       "      <td>37.21000</td>\n",
       "    </tr>\n",
       "    <tr>\n",
       "      <th>max</th>\n",
       "      <td>2016.000000</td>\n",
       "      <td>361.240000</td>\n",
       "      <td>153.650000</td>\n",
       "      <td>122.740000</td>\n",
       "      <td>47.690000</td>\n",
       "      <td>38.35000</td>\n",
       "    </tr>\n",
       "  </tbody>\n",
       "</table>\n",
       "</div>"
      ],
      "text/plain": [
       "       year_of_release  total_sales    na_sales    eu_sales   jp_sales  \\\n",
       "count         4.000000     4.000000    4.000000    4.000000   4.000000   \n",
       "mean       2014.500000   272.672500  109.427500   98.057500  35.195000   \n",
       "std           1.290994   102.799146   47.059993   33.449782  11.970579   \n",
       "min        2013.000000   129.940000   44.930000   51.220000  19.310000   \n",
       "25%        2013.750000   233.470000   91.377500   85.345000  30.395000   \n",
       "50%        2014.500000   299.755000  119.565000  109.135000  36.890000   \n",
       "75%        2015.250000   338.957500  137.615000  121.847500  41.690000   \n",
       "max        2016.000000   361.240000  153.650000  122.740000  47.690000   \n",
       "\n",
       "       other_sales  \n",
       "count      4.00000  \n",
       "mean      29.99250  \n",
       "std       10.91387  \n",
       "min       14.48000  \n",
       "25%       26.35250  \n",
       "50%       33.57000  \n",
       "75%       37.21000  \n",
       "max       38.35000  "
      ]
     },
     "execution_count": 37,
     "metadata": {},
     "output_type": "execute_result"
    }
   ],
   "source": [
    "sales_over2013.describe()"
   ]
  },
  {
   "cell_type": "code",
   "execution_count": 38,
   "metadata": {
    "trusted": false
   },
   "outputs": [
    {
     "name": "stdout",
     "output_type": "stream",
     "text": [
      "Forecast 2017 de Ventas, es un crecimiento del 20% del promedio de los ultimos 4 años\n",
      "na_salesforecast2017: 131.31\n",
      "eu_salesforecast2017: 117.67\n",
      "jp_salesforecast2017: 42.23\n",
      "other_salesforecast2017: 35.99\n"
     ]
    }
   ],
   "source": [
    "sales_over2013_desc = sales_over2013.describe()\n",
    "mean_ventas = sales_over2013_desc.loc['mean']\n",
    "forecast2017 = {}\n",
    "column_sales = ['na_sales', 'eu_sales', 'jp_sales', 'other_sales']\n",
    "for columna in column_sales:\n",
    "   forecast2017[columna + 'forecast2017'] = mean_ventas[columna]*1.20\n",
    "\n",
    "print(\"Forecast 2017 de Ventas, es un crecimiento del 20% del promedio de los ultimos 4 años\")\n",
    "for clave, valor in forecast2017.items():\n",
    "    print(f\"{clave}: {valor:.2f}\")"
   ]
  },
  {
   "cell_type": "markdown",
   "metadata": {},
   "source": [
    "Para realizar un Forecast de las ventas para el 2017, con los datos proporcionados, agrupamos las ventas por cada año utilizando el método **(.groupby)** al realizar el gráfico de línea tendencia de estos datos, utilizando el método **(.plot)** podemos ver que existe una caida los ultimos años en ventas que se debe recuper, para tomar en cuenta para proyectar el año 2017 consideraremos desde el año 2013. De este nuevo DF realizamos el análisis con el método **(.describe)** donde vemos que durante el período comprendido entre el año 2013 y 2016, las ventas totales anuales de videojuegos mostraron una variabilidad considerable hacia la baja, con un promedio de alrededor de 273 millones, sería ***recuperarse con al menos un incremento del 20% del promedio de estos 4 años*** lo óptimo para empresas en crecimiento en mercados dinámicos, como son los videojuegos."
   ]
  },
  {
   "cell_type": "markdown",
   "metadata": {},
   "source": [
    "### Plataformas Líderes de Ventas"
   ]
  },
  {
   "cell_type": "markdown",
   "metadata": {},
   "source": [
    "### Comportamiento de las Ventas"
   ]
  },
  {
   "cell_type": "code",
   "execution_count": 39,
   "metadata": {
    "trusted": false
   },
   "outputs": [
    {
     "data": {
      "text/html": [
       "<div>\n",
       "<style scoped>\n",
       "    .dataframe tbody tr th:only-of-type {\n",
       "        vertical-align: middle;\n",
       "    }\n",
       "\n",
       "    .dataframe tbody tr th {\n",
       "        vertical-align: top;\n",
       "    }\n",
       "\n",
       "    .dataframe thead th {\n",
       "        text-align: right;\n",
       "    }\n",
       "</style>\n",
       "<table border=\"1\" class=\"dataframe\">\n",
       "  <thead>\n",
       "    <tr style=\"text-align: right;\">\n",
       "      <th></th>\n",
       "      <th>name</th>\n",
       "      <th>platform</th>\n",
       "      <th>year_of_release</th>\n",
       "      <th>genre</th>\n",
       "      <th>na_sales</th>\n",
       "      <th>eu_sales</th>\n",
       "      <th>jp_sales</th>\n",
       "      <th>other_sales</th>\n",
       "      <th>critic_score</th>\n",
       "      <th>user_score</th>\n",
       "      <th>rating</th>\n",
       "      <th>total_sales</th>\n",
       "    </tr>\n",
       "  </thead>\n",
       "  <tbody>\n",
       "    <tr>\n",
       "      <th>16</th>\n",
       "      <td>Grand Theft Auto V</td>\n",
       "      <td>PS3</td>\n",
       "      <td>2013</td>\n",
       "      <td>Action</td>\n",
       "      <td>7.02</td>\n",
       "      <td>9.09</td>\n",
       "      <td>0.98</td>\n",
       "      <td>3.96</td>\n",
       "      <td>97.0</td>\n",
       "      <td>8.2</td>\n",
       "      <td>M</td>\n",
       "      <td>21.05</td>\n",
       "    </tr>\n",
       "    <tr>\n",
       "      <th>23</th>\n",
       "      <td>Grand Theft Auto V</td>\n",
       "      <td>X360</td>\n",
       "      <td>2013</td>\n",
       "      <td>Action</td>\n",
       "      <td>9.66</td>\n",
       "      <td>5.14</td>\n",
       "      <td>0.06</td>\n",
       "      <td>1.41</td>\n",
       "      <td>97.0</td>\n",
       "      <td>8.1</td>\n",
       "      <td>M</td>\n",
       "      <td>16.27</td>\n",
       "    </tr>\n",
       "    <tr>\n",
       "      <th>31</th>\n",
       "      <td>Call of Duty: Black Ops 3</td>\n",
       "      <td>PS4</td>\n",
       "      <td>2015</td>\n",
       "      <td>Shooter</td>\n",
       "      <td>6.03</td>\n",
       "      <td>5.86</td>\n",
       "      <td>0.36</td>\n",
       "      <td>2.38</td>\n",
       "      <td>NaN</td>\n",
       "      <td>NaN</td>\n",
       "      <td>NaN</td>\n",
       "      <td>14.63</td>\n",
       "    </tr>\n",
       "    <tr>\n",
       "      <th>33</th>\n",
       "      <td>Pokemon X/Pokemon Y</td>\n",
       "      <td>3DS</td>\n",
       "      <td>2013</td>\n",
       "      <td>Role-Playing</td>\n",
       "      <td>5.28</td>\n",
       "      <td>4.19</td>\n",
       "      <td>4.35</td>\n",
       "      <td>0.78</td>\n",
       "      <td>NaN</td>\n",
       "      <td>NaN</td>\n",
       "      <td>NaN</td>\n",
       "      <td>14.60</td>\n",
       "    </tr>\n",
       "    <tr>\n",
       "      <th>42</th>\n",
       "      <td>Grand Theft Auto V</td>\n",
       "      <td>PS4</td>\n",
       "      <td>2014</td>\n",
       "      <td>Action</td>\n",
       "      <td>3.96</td>\n",
       "      <td>6.31</td>\n",
       "      <td>0.38</td>\n",
       "      <td>1.97</td>\n",
       "      <td>97.0</td>\n",
       "      <td>8.3</td>\n",
       "      <td>M</td>\n",
       "      <td>12.62</td>\n",
       "    </tr>\n",
       "    <tr>\n",
       "      <th>...</th>\n",
       "      <td>...</td>\n",
       "      <td>...</td>\n",
       "      <td>...</td>\n",
       "      <td>...</td>\n",
       "      <td>...</td>\n",
       "      <td>...</td>\n",
       "      <td>...</td>\n",
       "      <td>...</td>\n",
       "      <td>...</td>\n",
       "      <td>...</td>\n",
       "      <td>...</td>\n",
       "      <td>...</td>\n",
       "    </tr>\n",
       "    <tr>\n",
       "      <th>16703</th>\n",
       "      <td>Strawberry Nauts</td>\n",
       "      <td>PSV</td>\n",
       "      <td>2016</td>\n",
       "      <td>Adventure</td>\n",
       "      <td>0.00</td>\n",
       "      <td>0.00</td>\n",
       "      <td>0.01</td>\n",
       "      <td>0.00</td>\n",
       "      <td>NaN</td>\n",
       "      <td>NaN</td>\n",
       "      <td>NaN</td>\n",
       "      <td>0.01</td>\n",
       "    </tr>\n",
       "    <tr>\n",
       "      <th>16707</th>\n",
       "      <td>Aiyoku no Eustia</td>\n",
       "      <td>PSV</td>\n",
       "      <td>2014</td>\n",
       "      <td>Misc</td>\n",
       "      <td>0.00</td>\n",
       "      <td>0.00</td>\n",
       "      <td>0.01</td>\n",
       "      <td>0.00</td>\n",
       "      <td>NaN</td>\n",
       "      <td>NaN</td>\n",
       "      <td>NaN</td>\n",
       "      <td>0.01</td>\n",
       "    </tr>\n",
       "    <tr>\n",
       "      <th>16710</th>\n",
       "      <td>Samurai Warriors: Sanada Maru</td>\n",
       "      <td>PS3</td>\n",
       "      <td>2016</td>\n",
       "      <td>Action</td>\n",
       "      <td>0.00</td>\n",
       "      <td>0.00</td>\n",
       "      <td>0.01</td>\n",
       "      <td>0.00</td>\n",
       "      <td>NaN</td>\n",
       "      <td>NaN</td>\n",
       "      <td>NaN</td>\n",
       "      <td>0.01</td>\n",
       "    </tr>\n",
       "    <tr>\n",
       "      <th>16712</th>\n",
       "      <td>Haitaka no Psychedelica</td>\n",
       "      <td>PSV</td>\n",
       "      <td>2016</td>\n",
       "      <td>Adventure</td>\n",
       "      <td>0.00</td>\n",
       "      <td>0.00</td>\n",
       "      <td>0.01</td>\n",
       "      <td>0.00</td>\n",
       "      <td>NaN</td>\n",
       "      <td>NaN</td>\n",
       "      <td>NaN</td>\n",
       "      <td>0.01</td>\n",
       "    </tr>\n",
       "    <tr>\n",
       "      <th>16714</th>\n",
       "      <td>Winning Post 8 2016</td>\n",
       "      <td>PSV</td>\n",
       "      <td>2016</td>\n",
       "      <td>Simulation</td>\n",
       "      <td>0.00</td>\n",
       "      <td>0.00</td>\n",
       "      <td>0.01</td>\n",
       "      <td>0.00</td>\n",
       "      <td>NaN</td>\n",
       "      <td>NaN</td>\n",
       "      <td>NaN</td>\n",
       "      <td>0.01</td>\n",
       "    </tr>\n",
       "  </tbody>\n",
       "</table>\n",
       "<p>2233 rows × 12 columns</p>\n",
       "</div>"
      ],
      "text/plain": [
       "                                name platform  year_of_release         genre  \\\n",
       "16                Grand Theft Auto V      PS3             2013        Action   \n",
       "23                Grand Theft Auto V     X360             2013        Action   \n",
       "31         Call of Duty: Black Ops 3      PS4             2015       Shooter   \n",
       "33               Pokemon X/Pokemon Y      3DS             2013  Role-Playing   \n",
       "42                Grand Theft Auto V      PS4             2014        Action   \n",
       "...                              ...      ...              ...           ...   \n",
       "16703               Strawberry Nauts      PSV             2016     Adventure   \n",
       "16707               Aiyoku no Eustia      PSV             2014          Misc   \n",
       "16710  Samurai Warriors: Sanada Maru      PS3             2016        Action   \n",
       "16712        Haitaka no Psychedelica      PSV             2016     Adventure   \n",
       "16714            Winning Post 8 2016      PSV             2016    Simulation   \n",
       "\n",
       "       na_sales  eu_sales  jp_sales  other_sales  critic_score  user_score  \\\n",
       "16         7.02      9.09      0.98         3.96          97.0         8.2   \n",
       "23         9.66      5.14      0.06         1.41          97.0         8.1   \n",
       "31         6.03      5.86      0.36         2.38           NaN         NaN   \n",
       "33         5.28      4.19      4.35         0.78           NaN         NaN   \n",
       "42         3.96      6.31      0.38         1.97          97.0         8.3   \n",
       "...         ...       ...       ...          ...           ...         ...   \n",
       "16703      0.00      0.00      0.01         0.00           NaN         NaN   \n",
       "16707      0.00      0.00      0.01         0.00           NaN         NaN   \n",
       "16710      0.00      0.00      0.01         0.00           NaN         NaN   \n",
       "16712      0.00      0.00      0.01         0.00           NaN         NaN   \n",
       "16714      0.00      0.00      0.01         0.00           NaN         NaN   \n",
       "\n",
       "      rating  total_sales  \n",
       "16         M        21.05  \n",
       "23         M        16.27  \n",
       "31       NaN        14.63  \n",
       "33       NaN        14.60  \n",
       "42         M        12.62  \n",
       "...      ...          ...  \n",
       "16703    NaN         0.01  \n",
       "16707    NaN         0.01  \n",
       "16710    NaN         0.01  \n",
       "16712    NaN         0.01  \n",
       "16714    NaN         0.01  \n",
       "\n",
       "[2233 rows x 12 columns]"
      ]
     },
     "execution_count": 39,
     "metadata": {},
     "output_type": "execute_result"
    }
   ],
   "source": [
    "sales_over2013total"
   ]
  },
  {
   "cell_type": "code",
   "execution_count": 40,
   "metadata": {
    "trusted": false
   },
   "outputs": [
    {
     "data": {
      "text/html": [
       "<div>\n",
       "<style scoped>\n",
       "    .dataframe tbody tr th:only-of-type {\n",
       "        vertical-align: middle;\n",
       "    }\n",
       "\n",
       "    .dataframe tbody tr th {\n",
       "        vertical-align: top;\n",
       "    }\n",
       "\n",
       "    .dataframe thead th {\n",
       "        text-align: right;\n",
       "    }\n",
       "</style>\n",
       "<table border=\"1\" class=\"dataframe\">\n",
       "  <thead>\n",
       "    <tr style=\"text-align: right;\">\n",
       "      <th></th>\n",
       "      <th>name</th>\n",
       "      <th>platform</th>\n",
       "      <th>year_of_release</th>\n",
       "      <th>genre</th>\n",
       "      <th>na_sales</th>\n",
       "      <th>eu_sales</th>\n",
       "      <th>jp_sales</th>\n",
       "      <th>other_sales</th>\n",
       "      <th>critic_score</th>\n",
       "      <th>user_score</th>\n",
       "      <th>rating</th>\n",
       "      <th>total_sales</th>\n",
       "    </tr>\n",
       "  </thead>\n",
       "  <tbody>\n",
       "    <tr>\n",
       "      <th>16</th>\n",
       "      <td>Grand Theft Auto V</td>\n",
       "      <td>PS3</td>\n",
       "      <td>2013</td>\n",
       "      <td>Action</td>\n",
       "      <td>7.02</td>\n",
       "      <td>9.09</td>\n",
       "      <td>0.98</td>\n",
       "      <td>3.96</td>\n",
       "      <td>97.0</td>\n",
       "      <td>8.2</td>\n",
       "      <td>M</td>\n",
       "      <td>21.05</td>\n",
       "    </tr>\n",
       "    <tr>\n",
       "      <th>23</th>\n",
       "      <td>Grand Theft Auto V</td>\n",
       "      <td>X360</td>\n",
       "      <td>2013</td>\n",
       "      <td>Action</td>\n",
       "      <td>9.66</td>\n",
       "      <td>5.14</td>\n",
       "      <td>0.06</td>\n",
       "      <td>1.41</td>\n",
       "      <td>97.0</td>\n",
       "      <td>8.1</td>\n",
       "      <td>M</td>\n",
       "      <td>16.27</td>\n",
       "    </tr>\n",
       "    <tr>\n",
       "      <th>31</th>\n",
       "      <td>Call of Duty: Black Ops 3</td>\n",
       "      <td>PS4</td>\n",
       "      <td>2015</td>\n",
       "      <td>Shooter</td>\n",
       "      <td>6.03</td>\n",
       "      <td>5.86</td>\n",
       "      <td>0.36</td>\n",
       "      <td>2.38</td>\n",
       "      <td>NaN</td>\n",
       "      <td>NaN</td>\n",
       "      <td>NaN</td>\n",
       "      <td>14.63</td>\n",
       "    </tr>\n",
       "    <tr>\n",
       "      <th>33</th>\n",
       "      <td>Pokemon X/Pokemon Y</td>\n",
       "      <td>3DS</td>\n",
       "      <td>2013</td>\n",
       "      <td>Role-Playing</td>\n",
       "      <td>5.28</td>\n",
       "      <td>4.19</td>\n",
       "      <td>4.35</td>\n",
       "      <td>0.78</td>\n",
       "      <td>NaN</td>\n",
       "      <td>NaN</td>\n",
       "      <td>NaN</td>\n",
       "      <td>14.60</td>\n",
       "    </tr>\n",
       "    <tr>\n",
       "      <th>42</th>\n",
       "      <td>Grand Theft Auto V</td>\n",
       "      <td>PS4</td>\n",
       "      <td>2014</td>\n",
       "      <td>Action</td>\n",
       "      <td>3.96</td>\n",
       "      <td>6.31</td>\n",
       "      <td>0.38</td>\n",
       "      <td>1.97</td>\n",
       "      <td>97.0</td>\n",
       "      <td>8.3</td>\n",
       "      <td>M</td>\n",
       "      <td>12.62</td>\n",
       "    </tr>\n",
       "    <tr>\n",
       "      <th>...</th>\n",
       "      <td>...</td>\n",
       "      <td>...</td>\n",
       "      <td>...</td>\n",
       "      <td>...</td>\n",
       "      <td>...</td>\n",
       "      <td>...</td>\n",
       "      <td>...</td>\n",
       "      <td>...</td>\n",
       "      <td>...</td>\n",
       "      <td>...</td>\n",
       "      <td>...</td>\n",
       "      <td>...</td>\n",
       "    </tr>\n",
       "    <tr>\n",
       "      <th>16703</th>\n",
       "      <td>Strawberry Nauts</td>\n",
       "      <td>PSV</td>\n",
       "      <td>2016</td>\n",
       "      <td>Adventure</td>\n",
       "      <td>0.00</td>\n",
       "      <td>0.00</td>\n",
       "      <td>0.01</td>\n",
       "      <td>0.00</td>\n",
       "      <td>NaN</td>\n",
       "      <td>NaN</td>\n",
       "      <td>NaN</td>\n",
       "      <td>0.01</td>\n",
       "    </tr>\n",
       "    <tr>\n",
       "      <th>16707</th>\n",
       "      <td>Aiyoku no Eustia</td>\n",
       "      <td>PSV</td>\n",
       "      <td>2014</td>\n",
       "      <td>Misc</td>\n",
       "      <td>0.00</td>\n",
       "      <td>0.00</td>\n",
       "      <td>0.01</td>\n",
       "      <td>0.00</td>\n",
       "      <td>NaN</td>\n",
       "      <td>NaN</td>\n",
       "      <td>NaN</td>\n",
       "      <td>0.01</td>\n",
       "    </tr>\n",
       "    <tr>\n",
       "      <th>16710</th>\n",
       "      <td>Samurai Warriors: Sanada Maru</td>\n",
       "      <td>PS3</td>\n",
       "      <td>2016</td>\n",
       "      <td>Action</td>\n",
       "      <td>0.00</td>\n",
       "      <td>0.00</td>\n",
       "      <td>0.01</td>\n",
       "      <td>0.00</td>\n",
       "      <td>NaN</td>\n",
       "      <td>NaN</td>\n",
       "      <td>NaN</td>\n",
       "      <td>0.01</td>\n",
       "    </tr>\n",
       "    <tr>\n",
       "      <th>16712</th>\n",
       "      <td>Haitaka no Psychedelica</td>\n",
       "      <td>PSV</td>\n",
       "      <td>2016</td>\n",
       "      <td>Adventure</td>\n",
       "      <td>0.00</td>\n",
       "      <td>0.00</td>\n",
       "      <td>0.01</td>\n",
       "      <td>0.00</td>\n",
       "      <td>NaN</td>\n",
       "      <td>NaN</td>\n",
       "      <td>NaN</td>\n",
       "      <td>0.01</td>\n",
       "    </tr>\n",
       "    <tr>\n",
       "      <th>16714</th>\n",
       "      <td>Winning Post 8 2016</td>\n",
       "      <td>PSV</td>\n",
       "      <td>2016</td>\n",
       "      <td>Simulation</td>\n",
       "      <td>0.00</td>\n",
       "      <td>0.00</td>\n",
       "      <td>0.01</td>\n",
       "      <td>0.00</td>\n",
       "      <td>NaN</td>\n",
       "      <td>NaN</td>\n",
       "      <td>NaN</td>\n",
       "      <td>0.01</td>\n",
       "    </tr>\n",
       "  </tbody>\n",
       "</table>\n",
       "<p>2233 rows × 12 columns</p>\n",
       "</div>"
      ],
      "text/plain": [
       "                                name platform  year_of_release         genre  \\\n",
       "16                Grand Theft Auto V      PS3             2013        Action   \n",
       "23                Grand Theft Auto V     X360             2013        Action   \n",
       "31         Call of Duty: Black Ops 3      PS4             2015       Shooter   \n",
       "33               Pokemon X/Pokemon Y      3DS             2013  Role-Playing   \n",
       "42                Grand Theft Auto V      PS4             2014        Action   \n",
       "...                              ...      ...              ...           ...   \n",
       "16703               Strawberry Nauts      PSV             2016     Adventure   \n",
       "16707               Aiyoku no Eustia      PSV             2014          Misc   \n",
       "16710  Samurai Warriors: Sanada Maru      PS3             2016        Action   \n",
       "16712        Haitaka no Psychedelica      PSV             2016     Adventure   \n",
       "16714            Winning Post 8 2016      PSV             2016    Simulation   \n",
       "\n",
       "       na_sales  eu_sales  jp_sales  other_sales  critic_score  user_score  \\\n",
       "16         7.02      9.09      0.98         3.96          97.0         8.2   \n",
       "23         9.66      5.14      0.06         1.41          97.0         8.1   \n",
       "31         6.03      5.86      0.36         2.38           NaN         NaN   \n",
       "33         5.28      4.19      4.35         0.78           NaN         NaN   \n",
       "42         3.96      6.31      0.38         1.97          97.0         8.3   \n",
       "...         ...       ...       ...          ...           ...         ...   \n",
       "16703      0.00      0.00      0.01         0.00           NaN         NaN   \n",
       "16707      0.00      0.00      0.01         0.00           NaN         NaN   \n",
       "16710      0.00      0.00      0.01         0.00           NaN         NaN   \n",
       "16712      0.00      0.00      0.01         0.00           NaN         NaN   \n",
       "16714      0.00      0.00      0.01         0.00           NaN         NaN   \n",
       "\n",
       "      rating  total_sales  \n",
       "16         M        21.05  \n",
       "23         M        16.27  \n",
       "31       NaN        14.63  \n",
       "33       NaN        14.60  \n",
       "42         M        12.62  \n",
       "...      ...          ...  \n",
       "16703    NaN         0.01  \n",
       "16707    NaN         0.01  \n",
       "16710    NaN         0.01  \n",
       "16712    NaN         0.01  \n",
       "16714    NaN         0.01  \n",
       "\n",
       "[2233 rows x 12 columns]"
      ]
     },
     "execution_count": 40,
     "metadata": {},
     "output_type": "execute_result"
    }
   ],
   "source": [
    "years_relevant2013 = sales_over2013total[sales_over2013total['year_of_release'] >= 2013]\n",
    "years_relevant2013"
   ]
  },
  {
   "cell_type": "code",
   "execution_count": 41,
   "metadata": {
    "trusted": false
   },
   "outputs": [
    {
     "data": {
      "image/png": "[encoded data removed]",
      "text/plain": [
       "<Figure size 1200x600 with 1 Axes>"
      ]
     },
     "metadata": {},
     "output_type": "display_data"
    }
   ],
   "source": [
    "plt.figure(figsize=(12, 6))\n",
    "sns.boxplot(y='platform', x='total_sales', data=years_relevant2013)\n",
    "plt.title('Distribución de Ventas Totales por Plataforma (Desde 2013)')\n",
    "plt.ylabel('Plataforma')\n",
    "plt.xlabel('Ventas Totales')\n",
    "plt.tight_layout()\n",
    "plt.show()"
   ]
  },
  {
   "cell_type": "markdown",
   "metadata": {},
   "source": [
    "<div class=\"alert alert-block alert-danger\">\n",
    "<b>Comentario de Revisor</b> <a class=\"tocSkip\"></a>\n",
    "\n",
    "Para este gráfico usa la data relevante (la que resulta luego de restringir los años de la data completa). El gráfico presentado solo tiene un punto por plataforma, por ello se ven esas líneas. La idea del boxplot es apreciar la variabilidad en la distribución de las ventas de cada plataforma, por ello mejor utiliza la data que contiene cada juego por separado.\n",
    "\n",
    "</div>"
   ]
  },
  {
   "cell_type": "markdown",
   "metadata": {},
   "source": [
    "<div class=\"alert alert-block alert-info\">\n",
    "<b>Listo.</b> <a class=\"tocSkip\"></a>\n",
    "</div>"
   ]
  },
  {
   "cell_type": "markdown",
   "metadata": {},
   "source": [
    "<div class=\"alert alert-block alert-danger\">\n",
    "<b>Comentario de Revisor v2</b> <a class=\"tocSkip\"></a>\n",
    "\n",
    "Muy bien con la corrección, pero aún estás usando data incompleta. Debes usar la data que contiene la venta de cada videojuego, para poder observar la distribución de ventas de cada consola. Para ello usa como base la data `video_juegos`, con los años restringidos según los que se determinaron como relevantes.\n",
    "    \n",
    "\n",
    "</div>"
   ]
  },
  {
   "cell_type": "markdown",
   "metadata": {},
   "source": [
    "<div class=\"alert alert-block alert-info\">\n",
    "<b>Listo V02.</b> <a class=\"tocSkip\"></a>\n",
    "</div>"
   ]
  },
  {
   "cell_type": "markdown",
   "metadata": {},
   "source": [
    "<div class=\"alert alert-block alert-success\">\n",
    "<b>Comentario de Revisor v3</b> <a class=\"tocSkip\"></a>\n",
    "\n",
    "Bien con el gráfico de boxplots, sin embargo, nota que a causa de los outliers no podemos ver la variabilidad de cada consola (las cajas son muy pequeñitas). En este caso se puede realizar el mismo gráfico pero reemplazando la escala normal por una escala logarítmica o agregando un gráfico adicional con la escala normal pero limitada a valores más pequeños (una especie de zoom al gráfico original).\n",
    "\n",
    "</div>"
   ]
  },
  {
   "cell_type": "markdown",
   "metadata": {},
   "source": [
    "Las ventas de las distintas plataformas de los ultimos 4 años que vemos en el gráfico de cajas, que la elaboramos utilizando el método **(.boxplot)** nos muestra que las plataformas tienen distintos comportamientos, El 3DS y el XOne han tenido, en promedio, las ventas totales más altas por juego.\n",
    "La plataforma X360 muestra una mayor variabilidad en el éxito comercial de sus juegos, con algunos títulos alcanzando ventas muy altas.\n",
    "El DS tuvo un rendimiento de ventas más consistentemente bajo."
   ]
  },
  {
   "cell_type": "markdown",
   "metadata": {},
   "source": [
    "### Correlación entre Variables"
   ]
  },
  {
   "cell_type": "code",
   "execution_count": 42,
   "metadata": {
    "trusted": false
   },
   "outputs": [
    {
     "data": {
      "text/plain": [
       "platform\n",
       "3DS     143.25\n",
       "DS        1.54\n",
       "PC       39.43\n",
       "PS3     181.43\n",
       "PS4     314.14\n",
       "PSP       3.50\n",
       "PSV      32.99\n",
       "Wii      13.66\n",
       "WiiU     64.63\n",
       "X360    136.80\n",
       "XOne    159.32\n",
       "Name: total_sales, dtype: float64"
      ]
     },
     "execution_count": 42,
     "metadata": {},
     "output_type": "execute_result"
    }
   ],
   "source": [
    "nueva_df_selec_year= years_relevant2013.groupby('platform')['total_sales'].sum()\n",
    "nueva_df_selec_year"
   ]
  },
  {
   "cell_type": "markdown",
   "metadata": {},
   "source": [
    "<div class=\"alert alert-block alert-danger\">\n",
    "<b>Comentario de Revisor v3</b> <a class=\"tocSkip\"></a>\n",
    "\n",
    "`df_con_datos` no existe, lo que causa que la celda anterior no compile\n",
    "\n",
    "</div>"
   ]
  },
  {
   "cell_type": "markdown",
   "metadata": {},
   "source": [
    "<div class=\"alert alert-block alert-info\">\n",
    "<b>Listo V3.</b> <a class=\"tocSkip\"></a>\n",
    "</div>"
   ]
  },
  {
   "cell_type": "markdown",
   "metadata": {},
   "source": [
    "<div class=\"alert alert-block alert-success\">\n",
    "<b>Comentario de Revisor</b> <a class=\"tocSkip\"></a>\n",
    "\n",
    "Bien, corregido\n",
    "    \n",
    "</div>"
   ]
  },
  {
   "cell_type": "code",
   "execution_count": 43,
   "metadata": {
    "trusted": false
   },
   "outputs": [
    {
     "data": {
      "text/html": [
       "<div>\n",
       "<style scoped>\n",
       "    .dataframe tbody tr th:only-of-type {\n",
       "        vertical-align: middle;\n",
       "    }\n",
       "\n",
       "    .dataframe tbody tr th {\n",
       "        vertical-align: top;\n",
       "    }\n",
       "\n",
       "    .dataframe thead th {\n",
       "        text-align: right;\n",
       "    }\n",
       "</style>\n",
       "<table border=\"1\" class=\"dataframe\">\n",
       "  <thead>\n",
       "    <tr style=\"text-align: right;\">\n",
       "      <th></th>\n",
       "      <th>name</th>\n",
       "      <th>platform</th>\n",
       "      <th>year_of_release</th>\n",
       "      <th>genre</th>\n",
       "      <th>na_sales</th>\n",
       "      <th>eu_sales</th>\n",
       "      <th>jp_sales</th>\n",
       "      <th>other_sales</th>\n",
       "      <th>critic_score</th>\n",
       "      <th>user_score</th>\n",
       "      <th>rating</th>\n",
       "      <th>total_sales</th>\n",
       "    </tr>\n",
       "  </thead>\n",
       "  <tbody>\n",
       "    <tr>\n",
       "      <th>31</th>\n",
       "      <td>Call of Duty: Black Ops 3</td>\n",
       "      <td>PS4</td>\n",
       "      <td>2015</td>\n",
       "      <td>Shooter</td>\n",
       "      <td>6.03</td>\n",
       "      <td>5.86</td>\n",
       "      <td>0.36</td>\n",
       "      <td>2.38</td>\n",
       "      <td>NaN</td>\n",
       "      <td>NaN</td>\n",
       "      <td>NaN</td>\n",
       "      <td>14.63</td>\n",
       "    </tr>\n",
       "    <tr>\n",
       "      <th>42</th>\n",
       "      <td>Grand Theft Auto V</td>\n",
       "      <td>PS4</td>\n",
       "      <td>2014</td>\n",
       "      <td>Action</td>\n",
       "      <td>3.96</td>\n",
       "      <td>6.31</td>\n",
       "      <td>0.38</td>\n",
       "      <td>1.97</td>\n",
       "      <td>97.0</td>\n",
       "      <td>8.3</td>\n",
       "      <td>M</td>\n",
       "      <td>12.62</td>\n",
       "    </tr>\n",
       "    <tr>\n",
       "      <th>77</th>\n",
       "      <td>FIFA 16</td>\n",
       "      <td>PS4</td>\n",
       "      <td>2015</td>\n",
       "      <td>Sports</td>\n",
       "      <td>1.12</td>\n",
       "      <td>6.12</td>\n",
       "      <td>0.06</td>\n",
       "      <td>1.28</td>\n",
       "      <td>82.0</td>\n",
       "      <td>4.3</td>\n",
       "      <td>E</td>\n",
       "      <td>8.58</td>\n",
       "    </tr>\n",
       "    <tr>\n",
       "      <th>87</th>\n",
       "      <td>Star Wars Battlefront (2015)</td>\n",
       "      <td>PS4</td>\n",
       "      <td>2015</td>\n",
       "      <td>Shooter</td>\n",
       "      <td>2.99</td>\n",
       "      <td>3.49</td>\n",
       "      <td>0.22</td>\n",
       "      <td>1.28</td>\n",
       "      <td>NaN</td>\n",
       "      <td>NaN</td>\n",
       "      <td>NaN</td>\n",
       "      <td>7.98</td>\n",
       "    </tr>\n",
       "    <tr>\n",
       "      <th>92</th>\n",
       "      <td>Call of Duty: Advanced Warfare</td>\n",
       "      <td>PS4</td>\n",
       "      <td>2014</td>\n",
       "      <td>Shooter</td>\n",
       "      <td>2.81</td>\n",
       "      <td>3.48</td>\n",
       "      <td>0.14</td>\n",
       "      <td>1.23</td>\n",
       "      <td>83.0</td>\n",
       "      <td>5.7</td>\n",
       "      <td>M</td>\n",
       "      <td>7.66</td>\n",
       "    </tr>\n",
       "    <tr>\n",
       "      <th>...</th>\n",
       "      <td>...</td>\n",
       "      <td>...</td>\n",
       "      <td>...</td>\n",
       "      <td>...</td>\n",
       "      <td>...</td>\n",
       "      <td>...</td>\n",
       "      <td>...</td>\n",
       "      <td>...</td>\n",
       "      <td>...</td>\n",
       "      <td>...</td>\n",
       "      <td>...</td>\n",
       "      <td>...</td>\n",
       "    </tr>\n",
       "    <tr>\n",
       "      <th>16500</th>\n",
       "      <td>Root Letter</td>\n",
       "      <td>PS4</td>\n",
       "      <td>2016</td>\n",
       "      <td>Adventure</td>\n",
       "      <td>0.00</td>\n",
       "      <td>0.00</td>\n",
       "      <td>0.01</td>\n",
       "      <td>0.00</td>\n",
       "      <td>69.0</td>\n",
       "      <td>7.5</td>\n",
       "      <td>NaN</td>\n",
       "      <td>0.01</td>\n",
       "    </tr>\n",
       "    <tr>\n",
       "      <th>16503</th>\n",
       "      <td>Shin Hayarigami 2</td>\n",
       "      <td>PS4</td>\n",
       "      <td>2016</td>\n",
       "      <td>Adventure</td>\n",
       "      <td>0.00</td>\n",
       "      <td>0.00</td>\n",
       "      <td>0.01</td>\n",
       "      <td>0.00</td>\n",
       "      <td>NaN</td>\n",
       "      <td>NaN</td>\n",
       "      <td>NaN</td>\n",
       "      <td>0.01</td>\n",
       "    </tr>\n",
       "    <tr>\n",
       "      <th>16526</th>\n",
       "      <td>Dungeons 2</td>\n",
       "      <td>PS4</td>\n",
       "      <td>2016</td>\n",
       "      <td>Role-Playing</td>\n",
       "      <td>0.01</td>\n",
       "      <td>0.00</td>\n",
       "      <td>0.00</td>\n",
       "      <td>0.00</td>\n",
       "      <td>61.0</td>\n",
       "      <td>7.9</td>\n",
       "      <td>T</td>\n",
       "      <td>0.01</td>\n",
       "    </tr>\n",
       "    <tr>\n",
       "      <th>16530</th>\n",
       "      <td>Carmageddon: Max Damage</td>\n",
       "      <td>PS4</td>\n",
       "      <td>2016</td>\n",
       "      <td>Action</td>\n",
       "      <td>0.01</td>\n",
       "      <td>0.00</td>\n",
       "      <td>0.00</td>\n",
       "      <td>0.00</td>\n",
       "      <td>51.0</td>\n",
       "      <td>5.5</td>\n",
       "      <td>M</td>\n",
       "      <td>0.01</td>\n",
       "    </tr>\n",
       "    <tr>\n",
       "      <th>16585</th>\n",
       "      <td>Farming 2017 - The Simulation</td>\n",
       "      <td>PS4</td>\n",
       "      <td>2016</td>\n",
       "      <td>Simulation</td>\n",
       "      <td>0.00</td>\n",
       "      <td>0.01</td>\n",
       "      <td>0.00</td>\n",
       "      <td>0.00</td>\n",
       "      <td>NaN</td>\n",
       "      <td>NaN</td>\n",
       "      <td>NaN</td>\n",
       "      <td>0.01</td>\n",
       "    </tr>\n",
       "  </tbody>\n",
       "</table>\n",
       "<p>392 rows × 12 columns</p>\n",
       "</div>"
      ],
      "text/plain": [
       "                                 name platform  year_of_release         genre  \\\n",
       "31          Call of Duty: Black Ops 3      PS4             2015       Shooter   \n",
       "42                 Grand Theft Auto V      PS4             2014        Action   \n",
       "77                            FIFA 16      PS4             2015        Sports   \n",
       "87       Star Wars Battlefront (2015)      PS4             2015       Shooter   \n",
       "92     Call of Duty: Advanced Warfare      PS4             2014       Shooter   \n",
       "...                               ...      ...              ...           ...   \n",
       "16500                     Root Letter      PS4             2016     Adventure   \n",
       "16503               Shin Hayarigami 2      PS4             2016     Adventure   \n",
       "16526                      Dungeons 2      PS4             2016  Role-Playing   \n",
       "16530         Carmageddon: Max Damage      PS4             2016        Action   \n",
       "16585   Farming 2017 - The Simulation      PS4             2016    Simulation   \n",
       "\n",
       "       na_sales  eu_sales  jp_sales  other_sales  critic_score  user_score  \\\n",
       "31         6.03      5.86      0.36         2.38           NaN         NaN   \n",
       "42         3.96      6.31      0.38         1.97          97.0         8.3   \n",
       "77         1.12      6.12      0.06         1.28          82.0         4.3   \n",
       "87         2.99      3.49      0.22         1.28           NaN         NaN   \n",
       "92         2.81      3.48      0.14         1.23          83.0         5.7   \n",
       "...         ...       ...       ...          ...           ...         ...   \n",
       "16500      0.00      0.00      0.01         0.00          69.0         7.5   \n",
       "16503      0.00      0.00      0.01         0.00           NaN         NaN   \n",
       "16526      0.01      0.00      0.00         0.00          61.0         7.9   \n",
       "16530      0.01      0.00      0.00         0.00          51.0         5.5   \n",
       "16585      0.00      0.01      0.00         0.00           NaN         NaN   \n",
       "\n",
       "      rating  total_sales  \n",
       "31       NaN        14.63  \n",
       "42         M        12.62  \n",
       "77         E         8.58  \n",
       "87       NaN         7.98  \n",
       "92         M         7.66  \n",
       "...      ...          ...  \n",
       "16500    NaN         0.01  \n",
       "16503    NaN         0.01  \n",
       "16526      T         0.01  \n",
       "16530      M         0.01  \n",
       "16585    NaN         0.01  \n",
       "\n",
       "[392 rows x 12 columns]"
      ]
     },
     "execution_count": 43,
     "metadata": {},
     "output_type": "execute_result"
    }
   ],
   "source": [
    "video_juegos[video_juegos['platform']== 'PS4']"
   ]
  },
  {
   "cell_type": "code",
   "execution_count": 44,
   "metadata": {
    "trusted": false
   },
   "outputs": [
    {
     "data": {
      "image/png": "[encoded data removed]",
      "text/plain": [
       "<Figure size 400x200 with 2 Axes>"
      ]
     },
     "metadata": {},
     "output_type": "display_data"
    }
   ],
   "source": [
    "plt.figure(figsize=(4, 2))\n",
    "sns.heatmap(data=video_juegos[['critic_score', 'user_score','total_sales']].corr(), annot=True, cmap='coolwarm')\n",
    "plt.title('Correlación entre la Evaluación de Críticos y Usuarios y las Ventas Totales')\n",
    "plt.show()"
   ]
  },
  {
   "cell_type": "markdown",
   "metadata": {},
   "source": [
    "Escogimos la plataforma que tiene mayor ventas que es la del **PS4**. Realizamos una matriz de correlación entre las 3 variables utilizado  el mapa de calor, construido con el metodo **(.heatmap)** donde podemos concluir de la ***Hay una correlación positiva débil entre la evaluación de los críticos y las ventas totales, lo que quiere decir que los juegos que reciben mejores críticas tienden a vender un poco más, a diferencia entre la correlación entre la evaluación de los usuarios y las ventas totales es muy débil y cercana a cero, esto indica que la opinión de los usuarios, tiene muy poca relación las ventas de un juego.***"
   ]
  },
  {
   "cell_type": "markdown",
   "metadata": {},
   "source": [
    "<div class=\"alert alert-block alert-danger\">\n",
    "<b>Comentario de Revisor</b> <a class=\"tocSkip\"></a>\n",
    "\n",
    "Ok, muy bien con usar la matriz de correlación. Sin embargo, una vez corregido el periodo de tiempo relevante, deberás modificar la plataforma escogida.\n",
    "\n",
    "</div>"
   ]
  },
  {
   "cell_type": "markdown",
   "metadata": {},
   "source": [
    "<div class=\"alert alert-block alert-info\">\n",
    "<b>Listo.</b> <a class=\"tocSkip\"></a>\n",
    "</div>"
   ]
  },
  {
   "cell_type": "markdown",
   "metadata": {},
   "source": [
    "<div class=\"alert alert-block alert-success\">\n",
    "<b>Comentario de Revisor v2</b> <a class=\"tocSkip\"></a>\n",
    "\n",
    "Bien hecho, corregido    \n",
    "\n",
    "</div>"
   ]
  },
  {
   "cell_type": "markdown",
   "metadata": {},
   "source": [
    "### Análisis por Género"
   ]
  },
  {
   "cell_type": "code",
   "execution_count": 45,
   "metadata": {
    "trusted": false
   },
   "outputs": [
    {
     "data": {
      "text/html": [
       "<div>\n",
       "<style scoped>\n",
       "    .dataframe tbody tr th:only-of-type {\n",
       "        vertical-align: middle;\n",
       "    }\n",
       "\n",
       "    .dataframe tbody tr th {\n",
       "        vertical-align: top;\n",
       "    }\n",
       "\n",
       "    .dataframe thead th {\n",
       "        text-align: right;\n",
       "    }\n",
       "</style>\n",
       "<table border=\"1\" class=\"dataframe\">\n",
       "  <thead>\n",
       "    <tr style=\"text-align: right;\">\n",
       "      <th></th>\n",
       "      <th>genre</th>\n",
       "      <th>total_sales_by_genre</th>\n",
       "      <th>peso_by_genre</th>\n",
       "      <th>cumulative_percentage_genre</th>\n",
       "    </tr>\n",
       "  </thead>\n",
       "  <tbody>\n",
       "    <tr>\n",
       "      <th>0</th>\n",
       "      <td>Action</td>\n",
       "      <td>1744.17</td>\n",
       "      <td>19.562884</td>\n",
       "      <td>19.56</td>\n",
       "    </tr>\n",
       "    <tr>\n",
       "      <th>10</th>\n",
       "      <td>Sports</td>\n",
       "      <td>1331.27</td>\n",
       "      <td>14.931733</td>\n",
       "      <td>34.49</td>\n",
       "    </tr>\n",
       "    <tr>\n",
       "      <th>8</th>\n",
       "      <td>Shooter</td>\n",
       "      <td>1052.45</td>\n",
       "      <td>11.804444</td>\n",
       "      <td>46.30</td>\n",
       "    </tr>\n",
       "    <tr>\n",
       "      <th>7</th>\n",
       "      <td>Role-Playing</td>\n",
       "      <td>934.56</td>\n",
       "      <td>10.482171</td>\n",
       "      <td>56.78</td>\n",
       "    </tr>\n",
       "    <tr>\n",
       "      <th>4</th>\n",
       "      <td>Platform</td>\n",
       "      <td>827.77</td>\n",
       "      <td>9.284398</td>\n",
       "      <td>66.07</td>\n",
       "    </tr>\n",
       "    <tr>\n",
       "      <th>3</th>\n",
       "      <td>Misc</td>\n",
       "      <td>802.51</td>\n",
       "      <td>9.001078</td>\n",
       "      <td>75.07</td>\n",
       "    </tr>\n",
       "  </tbody>\n",
       "</table>\n",
       "</div>"
      ],
      "text/plain": [
       "           genre  total_sales_by_genre  peso_by_genre  \\\n",
       "0         Action               1744.17      19.562884   \n",
       "10        Sports               1331.27      14.931733   \n",
       "8        Shooter               1052.45      11.804444   \n",
       "7   Role-Playing                934.56      10.482171   \n",
       "4       Platform                827.77       9.284398   \n",
       "3           Misc                802.51       9.001078   \n",
       "\n",
       "    cumulative_percentage_genre  \n",
       "0                         19.56  \n",
       "10                        34.49  \n",
       "8                         46.30  \n",
       "7                         56.78  \n",
       "4                         66.07  \n",
       "3                         75.07  "
      ]
     },
     "execution_count": 45,
     "metadata": {},
     "output_type": "execute_result"
    }
   ],
   "source": [
    "sales_by_genre = video_juegos.groupby('genre')['total_sales'].sum().reset_index(name='total_sales_by_genre')\n",
    "sales_by_genre['peso_by_genre'] = sales_by_genre['total_sales_by_genre'] / total_sales_by_platform * 100\n",
    "sort_genres = sales_by_genre.sort_values(by='peso_by_genre', ascending=False)\n",
    "sort_genres['cumulative_percentage_genre'] = (sort_genres['peso_by_genre'].cumsum()).round(2)\n",
    "eighty_percent_genres = sort_genres[sort_genres['cumulative_percentage_genre'] <= 80]\n",
    "eighty_percent_genres"
   ]
  },
  {
   "cell_type": "code",
   "execution_count": 46,
   "metadata": {
    "trusted": false
   },
   "outputs": [
    {
     "data": {
      "image/png": "[encoded data removed]",
      "text/plain": [
       "<Figure size 1200x600 with 1 Axes>"
      ]
     },
     "metadata": {},
     "output_type": "display_data"
    }
   ],
   "source": [
    "plt.figure(figsize=(12, 6))\n",
    "sns.barplot(x='genre', y='cumulative_percentage_genre', data=sort_genres)\n",
    "plt.axhline(80, color='r', linestyle='--', label='80% de las Ventas')\n",
    "plt.legend(loc='center right')\n",
    "plt.title('Peso Acumulado por Género')\n",
    "plt.xlabel('Género')\n",
    "plt.ylabel('Peso Acumulado')\n",
    "plt.show()"
   ]
  },
  {
   "cell_type": "code",
   "execution_count": 47,
   "metadata": {
    "trusted": false
   },
   "outputs": [
    {
     "data": {
      "text/html": [
       "<style  type=\"text/css\" >\n",
       "</style><table id=\"T_da5e4_\" ><thead>    <tr>        <th class=\"blank level0\" ></th>        <th class=\"col_heading level0 col0\" >genre</th>        <th class=\"col_heading level0 col1\" >total_sales_by_genre</th>        <th class=\"col_heading level0 col2\" >num_games</th>        <th class=\"col_heading level0 col3\" >average_by_game</th>    </tr></thead><tbody>\n",
       "                <tr>\n",
       "                        <th id=\"T_da5e4_level0_row0\" class=\"row_heading level0 row0\" >0</th>\n",
       "                        <td id=\"T_da5e4_row0_col0\" class=\"data row0 col0\" >Action</td>\n",
       "                        <td id=\"T_da5e4_row0_col1\" class=\"data row0 col1\" >1744.170000</td>\n",
       "                        <td id=\"T_da5e4_row0_col2\" class=\"data row0 col2\" >3369</td>\n",
       "                        <td id=\"T_da5e4_row0_col3\" class=\"data row0 col3\" >0.52</td>\n",
       "            </tr>\n",
       "            <tr>\n",
       "                        <th id=\"T_da5e4_level0_row1\" class=\"row_heading level0 row1\" >1</th>\n",
       "                        <td id=\"T_da5e4_row1_col0\" class=\"data row1 col0\" >Adventure</td>\n",
       "                        <td id=\"T_da5e4_row1_col1\" class=\"data row1 col1\" >237.590000</td>\n",
       "                        <td id=\"T_da5e4_row1_col2\" class=\"data row1 col2\" >1303</td>\n",
       "                        <td id=\"T_da5e4_row1_col3\" class=\"data row1 col3\" >0.18</td>\n",
       "            </tr>\n",
       "            <tr>\n",
       "                        <th id=\"T_da5e4_level0_row2\" class=\"row_heading level0 row2\" >2</th>\n",
       "                        <td id=\"T_da5e4_row2_col0\" class=\"data row2 col0\" >Fighting</td>\n",
       "                        <td id=\"T_da5e4_row2_col1\" class=\"data row2 col1\" >447.530000</td>\n",
       "                        <td id=\"T_da5e4_row2_col2\" class=\"data row2 col2\" >849</td>\n",
       "                        <td id=\"T_da5e4_row2_col3\" class=\"data row2 col3\" >0.53</td>\n",
       "            </tr>\n",
       "            <tr>\n",
       "                        <th id=\"T_da5e4_level0_row3\" class=\"row_heading level0 row3\" >3</th>\n",
       "                        <td id=\"T_da5e4_row3_col0\" class=\"data row3 col0\" >Misc</td>\n",
       "                        <td id=\"T_da5e4_row3_col1\" class=\"data row3 col1\" >802.510000</td>\n",
       "                        <td id=\"T_da5e4_row3_col2\" class=\"data row3 col2\" >1750</td>\n",
       "                        <td id=\"T_da5e4_row3_col3\" class=\"data row3 col3\" >0.46</td>\n",
       "            </tr>\n",
       "            <tr>\n",
       "                        <th id=\"T_da5e4_level0_row4\" class=\"row_heading level0 row4\" >4</th>\n",
       "                        <td id=\"T_da5e4_row4_col0\" class=\"data row4 col0\" >Platform</td>\n",
       "                        <td id=\"T_da5e4_row4_col1\" class=\"data row4 col1\" >827.770000</td>\n",
       "                        <td id=\"T_da5e4_row4_col2\" class=\"data row4 col2\" >888</td>\n",
       "                        <td id=\"T_da5e4_row4_col3\" class=\"data row4 col3\" >0.93</td>\n",
       "            </tr>\n",
       "            <tr>\n",
       "                        <th id=\"T_da5e4_level0_row5\" class=\"row_heading level0 row5\" >5</th>\n",
       "                        <td id=\"T_da5e4_row5_col0\" class=\"data row5 col0\" >Puzzle</td>\n",
       "                        <td id=\"T_da5e4_row5_col1\" class=\"data row5 col1\" >242.570000</td>\n",
       "                        <td id=\"T_da5e4_row5_col2\" class=\"data row5 col2\" >580</td>\n",
       "                        <td id=\"T_da5e4_row5_col3\" class=\"data row5 col3\" >0.42</td>\n",
       "            </tr>\n",
       "            <tr>\n",
       "                        <th id=\"T_da5e4_level0_row6\" class=\"row_heading level0 row6\" >6</th>\n",
       "                        <td id=\"T_da5e4_row6_col0\" class=\"data row6 col0\" >Racing</td>\n",
       "                        <td id=\"T_da5e4_row6_col1\" class=\"data row6 col1\" >728.670000</td>\n",
       "                        <td id=\"T_da5e4_row6_col2\" class=\"data row6 col2\" >1249</td>\n",
       "                        <td id=\"T_da5e4_row6_col3\" class=\"data row6 col3\" >0.58</td>\n",
       "            </tr>\n",
       "            <tr>\n",
       "                        <th id=\"T_da5e4_level0_row7\" class=\"row_heading level0 row7\" >7</th>\n",
       "                        <td id=\"T_da5e4_row7_col0\" class=\"data row7 col0\" >Role-Playing</td>\n",
       "                        <td id=\"T_da5e4_row7_col1\" class=\"data row7 col1\" >934.560000</td>\n",
       "                        <td id=\"T_da5e4_row7_col2\" class=\"data row7 col2\" >1498</td>\n",
       "                        <td id=\"T_da5e4_row7_col3\" class=\"data row7 col3\" >0.62</td>\n",
       "            </tr>\n",
       "            <tr>\n",
       "                        <th id=\"T_da5e4_level0_row8\" class=\"row_heading level0 row8\" >8</th>\n",
       "                        <td id=\"T_da5e4_row8_col0\" class=\"data row8 col0\" >Shooter</td>\n",
       "                        <td id=\"T_da5e4_row8_col1\" class=\"data row8 col1\" >1052.450000</td>\n",
       "                        <td id=\"T_da5e4_row8_col2\" class=\"data row8 col2\" >1323</td>\n",
       "                        <td id=\"T_da5e4_row8_col3\" class=\"data row8 col3\" >0.80</td>\n",
       "            </tr>\n",
       "            <tr>\n",
       "                        <th id=\"T_da5e4_level0_row9\" class=\"row_heading level0 row9\" >9</th>\n",
       "                        <td id=\"T_da5e4_row9_col0\" class=\"data row9 col0\" >Simulation</td>\n",
       "                        <td id=\"T_da5e4_row9_col1\" class=\"data row9 col1\" >389.970000</td>\n",
       "                        <td id=\"T_da5e4_row9_col2\" class=\"data row9 col2\" >873</td>\n",
       "                        <td id=\"T_da5e4_row9_col3\" class=\"data row9 col3\" >0.45</td>\n",
       "            </tr>\n",
       "            <tr>\n",
       "                        <th id=\"T_da5e4_level0_row10\" class=\"row_heading level0 row10\" >10</th>\n",
       "                        <td id=\"T_da5e4_row10_col0\" class=\"data row10 col0\" >Sports</td>\n",
       "                        <td id=\"T_da5e4_row10_col1\" class=\"data row10 col1\" >1331.270000</td>\n",
       "                        <td id=\"T_da5e4_row10_col2\" class=\"data row10 col2\" >2348</td>\n",
       "                        <td id=\"T_da5e4_row10_col3\" class=\"data row10 col3\" >0.57</td>\n",
       "            </tr>\n",
       "            <tr>\n",
       "                        <th id=\"T_da5e4_level0_row11\" class=\"row_heading level0 row11\" >11</th>\n",
       "                        <td id=\"T_da5e4_row11_col0\" class=\"data row11 col0\" >Strategy</td>\n",
       "                        <td id=\"T_da5e4_row11_col1\" class=\"data row11 col1\" >174.230000</td>\n",
       "                        <td id=\"T_da5e4_row11_col2\" class=\"data row11 col2\" >683</td>\n",
       "                        <td id=\"T_da5e4_row11_col3\" class=\"data row11 col3\" >0.26</td>\n",
       "            </tr>\n",
       "    </tbody></table>"
      ],
      "text/plain": [
       "<pandas.io.formats.style.Styler at 0x7f33f248f790>"
      ]
     },
     "execution_count": 47,
     "metadata": {},
     "output_type": "execute_result"
    }
   ],
   "source": [
    "sales_by_genre = video_juegos.groupby('genre').agg(total_sales_by_genre=('total_sales', 'sum'),num_games=('name', 'count')\n",
    ").reset_index()\n",
    "sales_by_genre['average_by_game'] = sales_by_genre['total_sales_by_genre']/sales_by_genre['num_games']\n",
    "sales_by_genre.style.format({'average_by_game': '{:.2f}'})\n"
   ]
  },
  {
   "cell_type": "code",
   "execution_count": 48,
   "metadata": {
    "trusted": false
   },
   "outputs": [
    {
     "data": {
      "image/png": "[encoded data removed]",
      "text/plain": [
       "<Figure size 1200x600 with 1 Axes>"
      ]
     },
     "metadata": {},
     "output_type": "display_data"
    }
   ],
   "source": [
    "plt.figure(figsize=(12, 6))\n",
    "sns.barplot(x='genre', y='average_by_game', data=sales_by_genre)\n",
    "plt.title('Promedio de Venta por Juego')\n",
    "plt.xlabel('Género')\n",
    "plt.ylabel('Valor Por Juego')\n",
    "plt.show()\n"
   ]
  },
  {
   "cell_type": "markdown",
   "metadata": {},
   "source": [
    "Utilizando el método **(.groupby)** agrupamos las ventas totales por género, en esta nueva tabla, procedimos a calcular el peso de las ventas de cada género versus el total de las ventas que ya teníamos anteriormente, creando una nueva columna **peso_by_genre**, con el método **(.sort_value)** ordenamos la tabla de mayor a menor, considerando la columna **peso_by_genre**, y el parámetro ascending=False.\n",
    "\n",
    "Se requiere realizar un análisis con el principio de pareto, para conocer la concentración del 80% de las ventas, para lo que, era necesario conocer el % acumulado, con el método **(.cumsum)** creamos una nueva columna llamada **cumulative_percentage**, y realizamos un filtro de las plataformas que en esta columna estaban por debajo del 80%.\n",
    "\n",
    "Así obtuvimos que el ***80% de las ventas esta concentrado en 6 géneros, que es el 50% de las plataformas*** por lo que las ventas no están concetradas en pocos ventas, no podemos llegar a una generalización de los géneros, ya que el 50% tienen ventas bajas y el 50% ventas altas.\n",
    "\n",
    "El género platform es la mas rentable por juego."
   ]
  },
  {
   "cell_type": "markdown",
   "metadata": {},
   "source": [
    "<div class=\"alert alert-block alert-danger\">\n",
    "<b>Comentario de Revisor</b> <a class=\"tocSkip\"></a>\n",
    "\n",
    "Bien, correcto al mostrar el total de ventas, pero por favor grafica estos resultados, es mucho mejor presentar una visualización que un texto, a la hora de comunicar resultados una imagen es más efectiva.\n",
    "    \n",
    "Por otro lado, agrega el cálculo de la venta promedio por género, esto permitirá tener una visión más completa de la rentabilidad    \n",
    "\n",
    "</div>"
   ]
  },
  {
   "cell_type": "markdown",
   "metadata": {},
   "source": [
    "<div class=\"alert alert-block alert-info\">\n",
    "<b>Listo.</b> <a class=\"tocSkip\"></a>\n",
    "</div>"
   ]
  },
  {
   "cell_type": "markdown",
   "metadata": {},
   "source": [
    "<div class=\"alert alert-block alert-success\">\n",
    "<b>Comentario de Revisor v2</b> <a class=\"tocSkip\"></a>\n",
    "\n",
    "Muy bien, correcto. Ahora tenemos una visión más completa y vemos que algunos géneros han tenido éxitos bastante mejores que aumentan su venta promedio.\n",
    "\n",
    "</div>"
   ]
  },
  {
   "cell_type": "markdown",
   "metadata": {},
   "source": [
    "## Buyer Persona"
   ]
  },
  {
   "cell_type": "markdown",
   "metadata": {},
   "source": [
    "### Perfil del Cliente Ideal"
   ]
  },
  {
   "cell_type": "markdown",
   "metadata": {},
   "source": [
    "#### Plataformas Ideales"
   ]
  },
  {
   "cell_type": "code",
   "execution_count": 49,
   "metadata": {
    "trusted": false
   },
   "outputs": [
    {
     "data": {
      "text/html": [
       "<div>\n",
       "<style scoped>\n",
       "    .dataframe tbody tr th:only-of-type {\n",
       "        vertical-align: middle;\n",
       "    }\n",
       "\n",
       "    .dataframe tbody tr th {\n",
       "        vertical-align: top;\n",
       "    }\n",
       "\n",
       "    .dataframe thead th {\n",
       "        text-align: right;\n",
       "    }\n",
       "</style>\n",
       "<table border=\"1\" class=\"dataframe\">\n",
       "  <thead>\n",
       "    <tr style=\"text-align: right;\">\n",
       "      <th></th>\n",
       "      <th>platform</th>\n",
       "      <th>na_sales</th>\n",
       "      <th>peso_by_platform_na</th>\n",
       "    </tr>\n",
       "  </thead>\n",
       "  <tbody>\n",
       "    <tr>\n",
       "      <th>28</th>\n",
       "      <td>X360</td>\n",
       "      <td>602.47</td>\n",
       "      <td>13.685191</td>\n",
       "    </tr>\n",
       "    <tr>\n",
       "      <th>16</th>\n",
       "      <td>PS2</td>\n",
       "      <td>583.84</td>\n",
       "      <td>13.262008</td>\n",
       "    </tr>\n",
       "    <tr>\n",
       "      <th>26</th>\n",
       "      <td>Wii</td>\n",
       "      <td>496.90</td>\n",
       "      <td>11.287153</td>\n",
       "    </tr>\n",
       "    <tr>\n",
       "      <th>17</th>\n",
       "      <td>PS3</td>\n",
       "      <td>393.49</td>\n",
       "      <td>8.938181</td>\n",
       "    </tr>\n",
       "    <tr>\n",
       "      <th>4</th>\n",
       "      <td>DS</td>\n",
       "      <td>382.40</td>\n",
       "      <td>8.686270</td>\n",
       "    </tr>\n",
       "  </tbody>\n",
       "</table>\n",
       "</div>"
      ],
      "text/plain": [
       "   platform  na_sales  peso_by_platform_na\n",
       "28     X360    602.47            13.685191\n",
       "16      PS2    583.84            13.262008\n",
       "26      Wii    496.90            11.287153\n",
       "17      PS3    393.49             8.938181\n",
       "4        DS    382.40             8.686270"
      ]
     },
     "execution_count": 49,
     "metadata": {},
     "output_type": "execute_result"
    }
   ],
   "source": [
    "na_sales = video_juegos.groupby('platform')['na_sales'].sum().reset_index()\n",
    "na_sales_all = na_sales['na_sales'].sum()\n",
    "na_sales['peso_by_platform_na'] = (na_sales['na_sales'] / na_sales_all * 100)\n",
    "sort_platforms_na = na_sales.sort_values(by='peso_by_platform_na', ascending=False)\n",
    "top5_na_platform = sort_platforms_na.head()\n",
    "top5_na_platform "
   ]
  },
  {
   "cell_type": "code",
   "execution_count": 50,
   "metadata": {
    "trusted": false
   },
   "outputs": [
    {
     "data": {
      "text/html": [
       "<div>\n",
       "<style scoped>\n",
       "    .dataframe tbody tr th:only-of-type {\n",
       "        vertical-align: middle;\n",
       "    }\n",
       "\n",
       "    .dataframe tbody tr th {\n",
       "        vertical-align: top;\n",
       "    }\n",
       "\n",
       "    .dataframe thead th {\n",
       "        text-align: right;\n",
       "    }\n",
       "</style>\n",
       "<table border=\"1\" class=\"dataframe\">\n",
       "  <thead>\n",
       "    <tr style=\"text-align: right;\">\n",
       "      <th></th>\n",
       "      <th>platform</th>\n",
       "      <th>eu_sales</th>\n",
       "      <th>peso_by_platform_eu</th>\n",
       "    </tr>\n",
       "  </thead>\n",
       "  <tbody>\n",
       "    <tr>\n",
       "      <th>16</th>\n",
       "      <td>PS2</td>\n",
       "      <td>339.29</td>\n",
       "      <td>13.993244</td>\n",
       "    </tr>\n",
       "    <tr>\n",
       "      <th>17</th>\n",
       "      <td>PS3</td>\n",
       "      <td>330.29</td>\n",
       "      <td>13.622060</td>\n",
       "    </tr>\n",
       "    <tr>\n",
       "      <th>28</th>\n",
       "      <td>X360</td>\n",
       "      <td>270.76</td>\n",
       "      <td>11.166880</td>\n",
       "    </tr>\n",
       "    <tr>\n",
       "      <th>26</th>\n",
       "      <td>Wii</td>\n",
       "      <td>262.21</td>\n",
       "      <td>10.814255</td>\n",
       "    </tr>\n",
       "    <tr>\n",
       "      <th>15</th>\n",
       "      <td>PS</td>\n",
       "      <td>213.61</td>\n",
       "      <td>8.809859</td>\n",
       "    </tr>\n",
       "  </tbody>\n",
       "</table>\n",
       "</div>"
      ],
      "text/plain": [
       "   platform  eu_sales  peso_by_platform_eu\n",
       "16      PS2    339.29            13.993244\n",
       "17      PS3    330.29            13.622060\n",
       "28     X360    270.76            11.166880\n",
       "26      Wii    262.21            10.814255\n",
       "15       PS    213.61             8.809859"
      ]
     },
     "execution_count": 50,
     "metadata": {},
     "output_type": "execute_result"
    }
   ],
   "source": [
    "eu_sales = video_juegos.groupby('platform')['eu_sales'].sum().reset_index()\n",
    "eu_sales_all = eu_sales['eu_sales'].sum()\n",
    "eu_sales['peso_by_platform_eu'] = (eu_sales['eu_sales'] / eu_sales_all * 100)\n",
    "sort_platforms_eu = eu_sales.sort_values(by='peso_by_platform_eu', ascending=False)\n",
    "top5_eu_platform = sort_platforms_eu.head()\n",
    "top5_eu_platform "
   ]
  },
  {
   "cell_type": "code",
   "execution_count": 51,
   "metadata": {
    "trusted": false
   },
   "outputs": [
    {
     "data": {
      "text/html": [
       "<div>\n",
       "<style scoped>\n",
       "    .dataframe tbody tr th:only-of-type {\n",
       "        vertical-align: middle;\n",
       "    }\n",
       "\n",
       "    .dataframe tbody tr th {\n",
       "        vertical-align: top;\n",
       "    }\n",
       "\n",
       "    .dataframe thead th {\n",
       "        text-align: right;\n",
       "    }\n",
       "</style>\n",
       "<table border=\"1\" class=\"dataframe\">\n",
       "  <thead>\n",
       "    <tr style=\"text-align: right;\">\n",
       "      <th></th>\n",
       "      <th>platform</th>\n",
       "      <th>jp_sales</th>\n",
       "      <th>peso_by_platform_jp</th>\n",
       "    </tr>\n",
       "  </thead>\n",
       "  <tbody>\n",
       "    <tr>\n",
       "      <th>4</th>\n",
       "      <td>DS</td>\n",
       "      <td>175.57</td>\n",
       "      <td>13.532762</td>\n",
       "    </tr>\n",
       "    <tr>\n",
       "      <th>15</th>\n",
       "      <td>PS</td>\n",
       "      <td>139.82</td>\n",
       "      <td>10.777188</td>\n",
       "    </tr>\n",
       "    <tr>\n",
       "      <th>16</th>\n",
       "      <td>PS2</td>\n",
       "      <td>139.20</td>\n",
       "      <td>10.729399</td>\n",
       "    </tr>\n",
       "    <tr>\n",
       "      <th>23</th>\n",
       "      <td>SNES</td>\n",
       "      <td>116.55</td>\n",
       "      <td>8.983559</td>\n",
       "    </tr>\n",
       "    <tr>\n",
       "      <th>2</th>\n",
       "      <td>3DS</td>\n",
       "      <td>100.67</td>\n",
       "      <td>7.759544</td>\n",
       "    </tr>\n",
       "  </tbody>\n",
       "</table>\n",
       "</div>"
      ],
      "text/plain": [
       "   platform  jp_sales  peso_by_platform_jp\n",
       "4        DS    175.57            13.532762\n",
       "15       PS    139.82            10.777188\n",
       "16      PS2    139.20            10.729399\n",
       "23     SNES    116.55             8.983559\n",
       "2       3DS    100.67             7.759544"
      ]
     },
     "execution_count": 51,
     "metadata": {},
     "output_type": "execute_result"
    }
   ],
   "source": [
    "jp_sales = video_juegos.groupby('platform')['jp_sales'].sum().reset_index()\n",
    "jp_sales_all = jp_sales['jp_sales'].sum()\n",
    "jp_sales['peso_by_platform_jp'] = (jp_sales['jp_sales'] / jp_sales_all * 100)\n",
    "sort_platforms_jp = jp_sales.sort_values(by='peso_by_platform_jp', ascending=False)\n",
    "top5_jp_platform = sort_platforms_jp.head()\n",
    "top5_jp_platform "
   ]
  },
  {
   "cell_type": "markdown",
   "metadata": {},
   "source": [
    "Procedimos a conocer las ventas de cada región por plataforma, utilizando el método **(.groupby)** agrupamos las ventas por plataforma, posteriormente, con el método **(.sum)** de la columna de ventas de cada región, procedimos a calcular el peso de las ventas de cada plataforma, creando una nueva columna **peso_by_platform**, con el método **(.sort_value)** ordenamos la tabla de mayor a menor, considerando la columna **peso_by_platform**, y el parámetro **ascending=False**. Consideramos las 5 primeras, paa crear el top5.\n",
    "\n",
    "***Vemos que la plataforma PS2 se encuentra presente en las 3 regiones, con una cuota de mercado de NA=13%, EU=14%,y JP=10%, En contraste que las plataformas SNES y 3DS solo las tenemos en Japon con un 9% y 8% respectivamente con una cuota de mercado.***"
   ]
  },
  {
   "cell_type": "markdown",
   "metadata": {},
   "source": [
    "#### Géneros Ideales"
   ]
  },
  {
   "cell_type": "code",
   "execution_count": 52,
   "metadata": {
    "trusted": false
   },
   "outputs": [
    {
     "data": {
      "text/html": [
       "<div>\n",
       "<style scoped>\n",
       "    .dataframe tbody tr th:only-of-type {\n",
       "        vertical-align: middle;\n",
       "    }\n",
       "\n",
       "    .dataframe tbody tr th {\n",
       "        vertical-align: top;\n",
       "    }\n",
       "\n",
       "    .dataframe thead th {\n",
       "        text-align: right;\n",
       "    }\n",
       "</style>\n",
       "<table border=\"1\" class=\"dataframe\">\n",
       "  <thead>\n",
       "    <tr style=\"text-align: right;\">\n",
       "      <th></th>\n",
       "      <th>genre</th>\n",
       "      <th>na_sales</th>\n",
       "      <th>peso_by_genre_na</th>\n",
       "    </tr>\n",
       "  </thead>\n",
       "  <tbody>\n",
       "    <tr>\n",
       "      <th>0</th>\n",
       "      <td>Action</td>\n",
       "      <td>879.01</td>\n",
       "      <td>19.974912</td>\n",
       "    </tr>\n",
       "    <tr>\n",
       "      <th>10</th>\n",
       "      <td>Sports</td>\n",
       "      <td>684.43</td>\n",
       "      <td>15.553212</td>\n",
       "    </tr>\n",
       "    <tr>\n",
       "      <th>8</th>\n",
       "      <td>Shooter</td>\n",
       "      <td>592.24</td>\n",
       "      <td>13.458257</td>\n",
       "    </tr>\n",
       "    <tr>\n",
       "      <th>4</th>\n",
       "      <td>Platform</td>\n",
       "      <td>445.50</td>\n",
       "      <td>10.123689</td>\n",
       "    </tr>\n",
       "    <tr>\n",
       "      <th>3</th>\n",
       "      <td>Misc</td>\n",
       "      <td>407.27</td>\n",
       "      <td>9.254937</td>\n",
       "    </tr>\n",
       "  </tbody>\n",
       "</table>\n",
       "</div>"
      ],
      "text/plain": [
       "       genre  na_sales  peso_by_genre_na\n",
       "0     Action    879.01         19.974912\n",
       "10    Sports    684.43         15.553212\n",
       "8    Shooter    592.24         13.458257\n",
       "4   Platform    445.50         10.123689\n",
       "3       Misc    407.27          9.254937"
      ]
     },
     "execution_count": 52,
     "metadata": {},
     "output_type": "execute_result"
    }
   ],
   "source": [
    "na_genre = video_juegos.groupby('genre')['na_sales'].sum().reset_index()\n",
    "na_genre_all = na_genre['na_sales'].sum()\n",
    "na_genre['peso_by_genre_na'] = (na_genre['na_sales'] / na_genre_all * 100)\n",
    "sort_genre_na = na_genre.sort_values(by='peso_by_genre_na', ascending=False)\n",
    "top5_na_genre = sort_genre_na.head()\n",
    "top5_na_genre "
   ]
  },
  {
   "cell_type": "code",
   "execution_count": 53,
   "metadata": {
    "trusted": false
   },
   "outputs": [
    {
     "data": {
      "text/html": [
       "<div>\n",
       "<style scoped>\n",
       "    .dataframe tbody tr th:only-of-type {\n",
       "        vertical-align: middle;\n",
       "    }\n",
       "\n",
       "    .dataframe tbody tr th {\n",
       "        vertical-align: top;\n",
       "    }\n",
       "\n",
       "    .dataframe thead th {\n",
       "        text-align: right;\n",
       "    }\n",
       "</style>\n",
       "<table border=\"1\" class=\"dataframe\">\n",
       "  <thead>\n",
       "    <tr style=\"text-align: right;\">\n",
       "      <th></th>\n",
       "      <th>genre</th>\n",
       "      <th>eu_sales</th>\n",
       "      <th>peso_by_genre_eu</th>\n",
       "    </tr>\n",
       "  </thead>\n",
       "  <tbody>\n",
       "    <tr>\n",
       "      <th>0</th>\n",
       "      <td>Action</td>\n",
       "      <td>519.13</td>\n",
       "      <td>21.415017</td>\n",
       "    </tr>\n",
       "    <tr>\n",
       "      <th>10</th>\n",
       "      <td>Sports</td>\n",
       "      <td>376.79</td>\n",
       "      <td>15.543244</td>\n",
       "    </tr>\n",
       "    <tr>\n",
       "      <th>8</th>\n",
       "      <td>Shooter</td>\n",
       "      <td>317.34</td>\n",
       "      <td>13.090828</td>\n",
       "    </tr>\n",
       "    <tr>\n",
       "      <th>6</th>\n",
       "      <td>Racing</td>\n",
       "      <td>236.51</td>\n",
       "      <td>9.756450</td>\n",
       "    </tr>\n",
       "    <tr>\n",
       "      <th>3</th>\n",
       "      <td>Misc</td>\n",
       "      <td>212.74</td>\n",
       "      <td>8.775896</td>\n",
       "    </tr>\n",
       "  </tbody>\n",
       "</table>\n",
       "</div>"
      ],
      "text/plain": [
       "      genre  eu_sales  peso_by_genre_eu\n",
       "0    Action    519.13         21.415017\n",
       "10   Sports    376.79         15.543244\n",
       "8   Shooter    317.34         13.090828\n",
       "6    Racing    236.51          9.756450\n",
       "3      Misc    212.74          8.775896"
      ]
     },
     "execution_count": 53,
     "metadata": {},
     "output_type": "execute_result"
    }
   ],
   "source": [
    "eu_genre = video_juegos.groupby('genre')['eu_sales'].sum().reset_index()\n",
    "eu_genre_all = eu_genre['eu_sales'].sum()\n",
    "eu_genre['peso_by_genre_eu'] = (eu_genre['eu_sales'] / eu_genre_all * 100)\n",
    "sort_genre_eu = eu_genre.sort_values(by='peso_by_genre_eu', ascending=False)\n",
    "top5_eu_genre = sort_genre_eu.head()\n",
    "top5_eu_genre "
   ]
  },
  {
   "cell_type": "code",
   "execution_count": 54,
   "metadata": {
    "trusted": false
   },
   "outputs": [
    {
     "data": {
      "text/html": [
       "<div>\n",
       "<style scoped>\n",
       "    .dataframe tbody tr th:only-of-type {\n",
       "        vertical-align: middle;\n",
       "    }\n",
       "\n",
       "    .dataframe tbody tr th {\n",
       "        vertical-align: top;\n",
       "    }\n",
       "\n",
       "    .dataframe thead th {\n",
       "        text-align: right;\n",
       "    }\n",
       "</style>\n",
       "<table border=\"1\" class=\"dataframe\">\n",
       "  <thead>\n",
       "    <tr style=\"text-align: right;\">\n",
       "      <th></th>\n",
       "      <th>genre</th>\n",
       "      <th>jp_sales</th>\n",
       "      <th>peso_by_genre_jp</th>\n",
       "    </tr>\n",
       "  </thead>\n",
       "  <tbody>\n",
       "    <tr>\n",
       "      <th>7</th>\n",
       "      <td>Role-Playing</td>\n",
       "      <td>355.41</td>\n",
       "      <td>27.395286</td>\n",
       "    </tr>\n",
       "    <tr>\n",
       "      <th>0</th>\n",
       "      <td>Action</td>\n",
       "      <td>161.43</td>\n",
       "      <td>12.443153</td>\n",
       "    </tr>\n",
       "    <tr>\n",
       "      <th>10</th>\n",
       "      <td>Sports</td>\n",
       "      <td>135.54</td>\n",
       "      <td>10.447531</td>\n",
       "    </tr>\n",
       "    <tr>\n",
       "      <th>4</th>\n",
       "      <td>Platform</td>\n",
       "      <td>130.83</td>\n",
       "      <td>10.084481</td>\n",
       "    </tr>\n",
       "    <tr>\n",
       "      <th>3</th>\n",
       "      <td>Misc</td>\n",
       "      <td>108.11</td>\n",
       "      <td>8.333205</td>\n",
       "    </tr>\n",
       "  </tbody>\n",
       "</table>\n",
       "</div>"
      ],
      "text/plain": [
       "           genre  jp_sales  peso_by_genre_jp\n",
       "7   Role-Playing    355.41         27.395286\n",
       "0         Action    161.43         12.443153\n",
       "10        Sports    135.54         10.447531\n",
       "4       Platform    130.83         10.084481\n",
       "3           Misc    108.11          8.333205"
      ]
     },
     "execution_count": 54,
     "metadata": {},
     "output_type": "execute_result"
    }
   ],
   "source": [
    "jp_genre = video_juegos.groupby('genre')['jp_sales'].sum().reset_index()\n",
    "jp_genre_all = jp_genre['jp_sales'].sum()\n",
    "jp_genre['peso_by_genre_jp'] = (jp_genre['jp_sales'] / jp_genre_all * 100)\n",
    "sort_genre_jp = jp_genre.sort_values(by='peso_by_genre_jp', ascending=False)\n",
    "top5_jp_genre = sort_genre_jp.head()\n",
    "top5_jp_genre "
   ]
  },
  {
   "cell_type": "markdown",
   "metadata": {},
   "source": [
    "Procedimos a conocer las ventas de cada región por género, utilizando el método **(.groupby)** agrupamos las ventas por género, posteriormente, con el método **(.sum)** de la columna de ventas, procedimos a calcular el peso de las ventas de cada género, creando una nueva columna **peso_by_genre**, con el método **(.sort_value)** ordenamos la tabla de mayor a menor, considerando la columna **peso_by_genre**, y el parámetro **ascending=False**. Consideramos las 5 primeras, para crear el top5.\n",
    "\n",
    "***Vemos que el género de acción que es líder en el mundo, siendo el primero tanto en EU como NA, y un segundo en JP mercado. Seguido de un Sports, en contraste tenemos un género racing y Role Playing que solo los tenemos dentro de los 5 mejores de un región, EU y JP respectivamente.***"
   ]
  },
  {
   "cell_type": "markdown",
   "metadata": {},
   "source": [
    "#### Clasificación ESRB y su Afectación"
   ]
  },
  {
   "cell_type": "code",
   "execution_count": 55,
   "metadata": {
    "trusted": false
   },
   "outputs": [
    {
     "data": {
      "text/html": [
       "<div>\n",
       "<style scoped>\n",
       "    .dataframe tbody tr th:only-of-type {\n",
       "        vertical-align: middle;\n",
       "    }\n",
       "\n",
       "    .dataframe tbody tr th {\n",
       "        vertical-align: top;\n",
       "    }\n",
       "\n",
       "    .dataframe thead th {\n",
       "        text-align: right;\n",
       "    }\n",
       "</style>\n",
       "<table border=\"1\" class=\"dataframe\">\n",
       "  <thead>\n",
       "    <tr style=\"text-align: right;\">\n",
       "      <th></th>\n",
       "      <th>name</th>\n",
       "      <th>platform</th>\n",
       "      <th>year_of_release</th>\n",
       "      <th>genre</th>\n",
       "      <th>na_sales</th>\n",
       "      <th>eu_sales</th>\n",
       "      <th>jp_sales</th>\n",
       "      <th>other_sales</th>\n",
       "      <th>critic_score</th>\n",
       "      <th>user_score</th>\n",
       "      <th>rating</th>\n",
       "      <th>total_sales</th>\n",
       "    </tr>\n",
       "  </thead>\n",
       "  <tbody>\n",
       "    <tr>\n",
       "      <th>16</th>\n",
       "      <td>Grand Theft Auto V</td>\n",
       "      <td>PS3</td>\n",
       "      <td>2013</td>\n",
       "      <td>Action</td>\n",
       "      <td>7.02</td>\n",
       "      <td>9.09</td>\n",
       "      <td>0.98</td>\n",
       "      <td>3.96</td>\n",
       "      <td>97.0</td>\n",
       "      <td>8.2</td>\n",
       "      <td>M</td>\n",
       "      <td>21.05</td>\n",
       "    </tr>\n",
       "    <tr>\n",
       "      <th>23</th>\n",
       "      <td>Grand Theft Auto V</td>\n",
       "      <td>X360</td>\n",
       "      <td>2013</td>\n",
       "      <td>Action</td>\n",
       "      <td>9.66</td>\n",
       "      <td>5.14</td>\n",
       "      <td>0.06</td>\n",
       "      <td>1.41</td>\n",
       "      <td>97.0</td>\n",
       "      <td>8.1</td>\n",
       "      <td>M</td>\n",
       "      <td>16.27</td>\n",
       "    </tr>\n",
       "    <tr>\n",
       "      <th>31</th>\n",
       "      <td>Call of Duty: Black Ops 3</td>\n",
       "      <td>PS4</td>\n",
       "      <td>2015</td>\n",
       "      <td>Shooter</td>\n",
       "      <td>6.03</td>\n",
       "      <td>5.86</td>\n",
       "      <td>0.36</td>\n",
       "      <td>2.38</td>\n",
       "      <td>NaN</td>\n",
       "      <td>NaN</td>\n",
       "      <td>NaN</td>\n",
       "      <td>14.63</td>\n",
       "    </tr>\n",
       "    <tr>\n",
       "      <th>33</th>\n",
       "      <td>Pokemon X/Pokemon Y</td>\n",
       "      <td>3DS</td>\n",
       "      <td>2013</td>\n",
       "      <td>Role-Playing</td>\n",
       "      <td>5.28</td>\n",
       "      <td>4.19</td>\n",
       "      <td>4.35</td>\n",
       "      <td>0.78</td>\n",
       "      <td>NaN</td>\n",
       "      <td>NaN</td>\n",
       "      <td>NaN</td>\n",
       "      <td>14.60</td>\n",
       "    </tr>\n",
       "    <tr>\n",
       "      <th>42</th>\n",
       "      <td>Grand Theft Auto V</td>\n",
       "      <td>PS4</td>\n",
       "      <td>2014</td>\n",
       "      <td>Action</td>\n",
       "      <td>3.96</td>\n",
       "      <td>6.31</td>\n",
       "      <td>0.38</td>\n",
       "      <td>1.97</td>\n",
       "      <td>97.0</td>\n",
       "      <td>8.3</td>\n",
       "      <td>M</td>\n",
       "      <td>12.62</td>\n",
       "    </tr>\n",
       "    <tr>\n",
       "      <th>...</th>\n",
       "      <td>...</td>\n",
       "      <td>...</td>\n",
       "      <td>...</td>\n",
       "      <td>...</td>\n",
       "      <td>...</td>\n",
       "      <td>...</td>\n",
       "      <td>...</td>\n",
       "      <td>...</td>\n",
       "      <td>...</td>\n",
       "      <td>...</td>\n",
       "      <td>...</td>\n",
       "      <td>...</td>\n",
       "    </tr>\n",
       "    <tr>\n",
       "      <th>16703</th>\n",
       "      <td>Strawberry Nauts</td>\n",
       "      <td>PSV</td>\n",
       "      <td>2016</td>\n",
       "      <td>Adventure</td>\n",
       "      <td>0.00</td>\n",
       "      <td>0.00</td>\n",
       "      <td>0.01</td>\n",
       "      <td>0.00</td>\n",
       "      <td>NaN</td>\n",
       "      <td>NaN</td>\n",
       "      <td>NaN</td>\n",
       "      <td>0.01</td>\n",
       "    </tr>\n",
       "    <tr>\n",
       "      <th>16707</th>\n",
       "      <td>Aiyoku no Eustia</td>\n",
       "      <td>PSV</td>\n",
       "      <td>2014</td>\n",
       "      <td>Misc</td>\n",
       "      <td>0.00</td>\n",
       "      <td>0.00</td>\n",
       "      <td>0.01</td>\n",
       "      <td>0.00</td>\n",
       "      <td>NaN</td>\n",
       "      <td>NaN</td>\n",
       "      <td>NaN</td>\n",
       "      <td>0.01</td>\n",
       "    </tr>\n",
       "    <tr>\n",
       "      <th>16710</th>\n",
       "      <td>Samurai Warriors: Sanada Maru</td>\n",
       "      <td>PS3</td>\n",
       "      <td>2016</td>\n",
       "      <td>Action</td>\n",
       "      <td>0.00</td>\n",
       "      <td>0.00</td>\n",
       "      <td>0.01</td>\n",
       "      <td>0.00</td>\n",
       "      <td>NaN</td>\n",
       "      <td>NaN</td>\n",
       "      <td>NaN</td>\n",
       "      <td>0.01</td>\n",
       "    </tr>\n",
       "    <tr>\n",
       "      <th>16712</th>\n",
       "      <td>Haitaka no Psychedelica</td>\n",
       "      <td>PSV</td>\n",
       "      <td>2016</td>\n",
       "      <td>Adventure</td>\n",
       "      <td>0.00</td>\n",
       "      <td>0.00</td>\n",
       "      <td>0.01</td>\n",
       "      <td>0.00</td>\n",
       "      <td>NaN</td>\n",
       "      <td>NaN</td>\n",
       "      <td>NaN</td>\n",
       "      <td>0.01</td>\n",
       "    </tr>\n",
       "    <tr>\n",
       "      <th>16714</th>\n",
       "      <td>Winning Post 8 2016</td>\n",
       "      <td>PSV</td>\n",
       "      <td>2016</td>\n",
       "      <td>Simulation</td>\n",
       "      <td>0.00</td>\n",
       "      <td>0.00</td>\n",
       "      <td>0.01</td>\n",
       "      <td>0.00</td>\n",
       "      <td>NaN</td>\n",
       "      <td>NaN</td>\n",
       "      <td>NaN</td>\n",
       "      <td>0.01</td>\n",
       "    </tr>\n",
       "  </tbody>\n",
       "</table>\n",
       "<p>2233 rows × 12 columns</p>\n",
       "</div>"
      ],
      "text/plain": [
       "                                name platform  year_of_release         genre  \\\n",
       "16                Grand Theft Auto V      PS3             2013        Action   \n",
       "23                Grand Theft Auto V     X360             2013        Action   \n",
       "31         Call of Duty: Black Ops 3      PS4             2015       Shooter   \n",
       "33               Pokemon X/Pokemon Y      3DS             2013  Role-Playing   \n",
       "42                Grand Theft Auto V      PS4             2014        Action   \n",
       "...                              ...      ...              ...           ...   \n",
       "16703               Strawberry Nauts      PSV             2016     Adventure   \n",
       "16707               Aiyoku no Eustia      PSV             2014          Misc   \n",
       "16710  Samurai Warriors: Sanada Maru      PS3             2016        Action   \n",
       "16712        Haitaka no Psychedelica      PSV             2016     Adventure   \n",
       "16714            Winning Post 8 2016      PSV             2016    Simulation   \n",
       "\n",
       "       na_sales  eu_sales  jp_sales  other_sales  critic_score  user_score  \\\n",
       "16         7.02      9.09      0.98         3.96          97.0         8.2   \n",
       "23         9.66      5.14      0.06         1.41          97.0         8.1   \n",
       "31         6.03      5.86      0.36         2.38           NaN         NaN   \n",
       "33         5.28      4.19      4.35         0.78           NaN         NaN   \n",
       "42         3.96      6.31      0.38         1.97          97.0         8.3   \n",
       "...         ...       ...       ...          ...           ...         ...   \n",
       "16703      0.00      0.00      0.01         0.00           NaN         NaN   \n",
       "16707      0.00      0.00      0.01         0.00           NaN         NaN   \n",
       "16710      0.00      0.00      0.01         0.00           NaN         NaN   \n",
       "16712      0.00      0.00      0.01         0.00           NaN         NaN   \n",
       "16714      0.00      0.00      0.01         0.00           NaN         NaN   \n",
       "\n",
       "      rating  total_sales  \n",
       "16         M        21.05  \n",
       "23         M        16.27  \n",
       "31       NaN        14.63  \n",
       "33       NaN        14.60  \n",
       "42         M        12.62  \n",
       "...      ...          ...  \n",
       "16703    NaN         0.01  \n",
       "16707    NaN         0.01  \n",
       "16710    NaN         0.01  \n",
       "16712    NaN         0.01  \n",
       "16714    NaN         0.01  \n",
       "\n",
       "[2233 rows x 12 columns]"
      ]
     },
     "execution_count": 55,
     "metadata": {},
     "output_type": "execute_result"
    }
   ],
   "source": [
    "sales_over2013total = video_juegos[video_juegos['year_of_release'] >= 2013]\n",
    "sales_over2013total"
   ]
  },
  {
   "cell_type": "code",
   "execution_count": 56,
   "metadata": {
    "trusted": false
   },
   "outputs": [
    {
     "data": {
      "text/html": [
       "<div>\n",
       "<style scoped>\n",
       "    .dataframe tbody tr th:only-of-type {\n",
       "        vertical-align: middle;\n",
       "    }\n",
       "\n",
       "    .dataframe tbody tr th {\n",
       "        vertical-align: top;\n",
       "    }\n",
       "\n",
       "    .dataframe thead th {\n",
       "        text-align: right;\n",
       "    }\n",
       "</style>\n",
       "<table border=\"1\" class=\"dataframe\">\n",
       "  <thead>\n",
       "    <tr style=\"text-align: right;\">\n",
       "      <th></th>\n",
       "      <th>rating</th>\n",
       "      <th>na_sales</th>\n",
       "      <th>eu_sales</th>\n",
       "      <th>jp_sales</th>\n",
       "      <th>other_sales</th>\n",
       "      <th>total_sales</th>\n",
       "    </tr>\n",
       "  </thead>\n",
       "  <tbody>\n",
       "    <tr>\n",
       "      <th>2</th>\n",
       "      <td>M</td>\n",
       "      <td>165.21</td>\n",
       "      <td>145.32</td>\n",
       "      <td>14.11</td>\n",
       "      <td>47.04</td>\n",
       "      <td>371.68</td>\n",
       "    </tr>\n",
       "    <tr>\n",
       "      <th>0</th>\n",
       "      <td>E</td>\n",
       "      <td>79.05</td>\n",
       "      <td>83.36</td>\n",
       "      <td>15.14</td>\n",
       "      <td>22.61</td>\n",
       "      <td>200.16</td>\n",
       "    </tr>\n",
       "    <tr>\n",
       "      <th>3</th>\n",
       "      <td>T</td>\n",
       "      <td>49.79</td>\n",
       "      <td>41.95</td>\n",
       "      <td>20.59</td>\n",
       "      <td>14.29</td>\n",
       "      <td>126.62</td>\n",
       "    </tr>\n",
       "    <tr>\n",
       "      <th>1</th>\n",
       "      <td>E10+</td>\n",
       "      <td>54.24</td>\n",
       "      <td>42.69</td>\n",
       "      <td>5.89</td>\n",
       "      <td>12.57</td>\n",
       "      <td>115.39</td>\n",
       "    </tr>\n",
       "  </tbody>\n",
       "</table>\n",
       "</div>"
      ],
      "text/plain": [
       "  rating  na_sales  eu_sales  jp_sales  other_sales  total_sales\n",
       "2      M    165.21    145.32     14.11        47.04       371.68\n",
       "0      E     79.05     83.36     15.14        22.61       200.16\n",
       "3      T     49.79     41.95     20.59        14.29       126.62\n",
       "1   E10+     54.24     42.69      5.89        12.57       115.39"
      ]
     },
     "execution_count": 56,
     "metadata": {},
     "output_type": "execute_result"
    }
   ],
   "source": [
    "rating = sales_over2013total.groupby('rating')[['na_sales', 'eu_sales', 'jp_sales', 'other_sales', 'total_sales']].sum().reset_index()\n",
    "sort_rating = rating.sort_values(by='total_sales', ascending=False)\n",
    "sort_rating"
   ]
  },
  {
   "cell_type": "code",
   "execution_count": 57,
   "metadata": {
    "trusted": false
   },
   "outputs": [],
   "source": [
    "pivot_table = sort_rating.pivot_table(index='rating', values=['na_sales', 'eu_sales', 'jp_sales', 'other_sales'])"
   ]
  },
  {
   "cell_type": "code",
   "execution_count": 58,
   "metadata": {
    "trusted": false
   },
   "outputs": [
    {
     "data": {
      "image/png": "[encoded data removed]",
      "text/plain": [
       "<Figure size 800x600 with 2 Axes>"
      ]
     },
     "metadata": {},
     "output_type": "display_data"
    }
   ],
   "source": [
    "plt.figure(figsize=(8, 6))\n",
    "sns.heatmap(pivot_table, annot=True, fmt=\".1f\", cmap=\"coolwarm\")\n",
    "plt.title('Ventas por Región según Clasificación ESRB')\n",
    "plt.ylabel('Clasificación ESRB')\n",
    "plt.xlabel('Región de Ventas')\n",
    "plt.show()"
   ]
  },
  {
   "cell_type": "markdown",
   "metadata": {},
   "source": [
    "Primero necesitamos agrupar por rating, creado así un nuevo DF, partiendo del DF video de juegos con los datos a partir del 2013, con el método **(.groupby)** adicional este nuevo DF le ordenamos de maner descendente según las ventas totales, con el método **(.sortvalue)**, posteriormente para realizar un mapa de calor se requería realizar un tabla dinámica que contega las calificaciones, que son datos categóricos, y las ventas de todas las regiones, para esto usamos el método **(.pivot_table)** y relizamos el gráfico de calor con **(.heatmap)**.\n",
    "\n",
    "La clasificación ESRB de un videojuego tiene una afectación directa y significativa enla vnetas. La categoría \"M\" impulsa las mayores ventas en los mercados de EU y NA, mientras que el mercado JP muestra una menor receptividad general a todas las clasificaciones analizadas. Las categorías \"E\", \"E10+\" y \"T\" presentan niveles de afectación de ventas intermedios, con un rendimiento notablemente menor en Japón."
   ]
  },
  {
   "cell_type": "markdown",
   "metadata": {},
   "source": [
    "<div class=\"alert alert-block alert-danger\">\n",
    "<b>Comentario de Revisor</b> <a class=\"tocSkip\"></a>\n",
    "\n",
    "En la sección anterior, en realidad debes realizar un análisis de cada región para entender el perfil de usuario de cada una de ellas. En las instrucciones del proyecto se indica:\n",
    "    \n",
    ">Para cada región (NA, UE, JP) determina:\n",
    ">\n",
    ">    - Las cinco plataformas principales. Describe las variaciones en sus cuotas de mercado de una región a otra.\n",
    ">    - Los cinco géneros principales. Explica la diferencia.\n",
    ">    - Si las clasificaciones de ESRB afectan a las ventas en regiones individuales.\n",
    "\n",
    "Por favor, realiza dichos análisis. Algunos de los datos son similares a los que calculaste, pero estructuralos de forma que queden planteados como se solicita\n",
    "    \n",
    "</div>"
   ]
  },
  {
   "cell_type": "markdown",
   "metadata": {},
   "source": [
    "<div class=\"alert alert-block alert-info\">\n",
    "<b>Listo.</b> <a class=\"tocSkip\"></a>\n",
    "</div>"
   ]
  },
  {
   "cell_type": "markdown",
   "metadata": {},
   "source": [
    "<div class=\"alert alert-block alert-warning\">\n",
    "<b>Comentario de Revisor v2</b> <a class=\"tocSkip\"></a>\n",
    "\n",
    "Ok, el análisis realizado está muy bien, sin embargo, hubiese sido ideal que lo realizaras sobre la data más reciente, del 2013 en adelante.\n",
    "\n",
    "</div>"
   ]
  },
  {
   "cell_type": "markdown",
   "metadata": {},
   "source": [
    "<div class=\"alert alert-block alert-info\">\n",
    "<b>Listo.</b> <a class=\"tocSkip\"></a>\n",
    "</div>"
   ]
  },
  {
   "cell_type": "markdown",
   "metadata": {},
   "source": [
    "<div class=\"alert alert-block alert-success\">\n",
    "<b>Comentario de Revisor v3</b> <a class=\"tocSkip\"></a>\n",
    "\n",
    "Bien, corregido\n",
    "\n",
    "</div>"
   ]
  },
  {
   "cell_type": "markdown",
   "metadata": {},
   "source": [
    "## Probar Hipótesis"
   ]
  },
  {
   "cell_type": "markdown",
   "metadata": {},
   "source": [
    "### Calificación por Plataforma"
   ]
  },
  {
   "cell_type": "code",
   "execution_count": 59,
   "metadata": {
    "trusted": false
   },
   "outputs": [
    {
     "name": "stdout",
     "output_type": "stream",
     "text": [
      "Valor p: 1.3896435533548819e-05\n",
      "Hay suficiente evidencia para rechazar la hipótesis nula.\n"
     ]
    }
   ],
   "source": [
    "platform_xone = video_juegos[(video_juegos['platform']=='XOne') & (video_juegos['user_score'].notna())]['user_score']\n",
    "plarform_pc = video_juegos[(video_juegos['platform']=='PC') & (video_juegos['user_score'].notna())]['user_score']\n",
    "resultado_prueba_t = st.ttest_ind(platform_xone, plarform_pc)\n",
    "pvalue = resultado_prueba_t.pvalue\n",
    "alpha = 0.05\n",
    "print(f\"Valor p: {pvalue}\")\n",
    "if pvalue > alpha:\n",
    "    print(\"No hay suficiente evidencia para rechazar la hipótesis nula.\")\n",
    "else:\n",
    "    print(\"Hay suficiente evidencia para rechazar la hipótesis nula.\")"
   ]
  },
  {
   "cell_type": "markdown",
   "metadata": {},
   "source": [
    "Con un nivel de significancia **alpha = de 0.05**, establecimos el umbral para determinar significancia estadística. Nuestra hipótesis nula planteaba que **no existían diferencias en las calificaciones de los usuarios entre las plataformas Xbox One y PC**. Tras aplicar la prueba **(.ttest_ind)**, obtuvimos un valor **p de 1.3896435533548819e-05**. Dado que este valor es menor que nuestro nivel de alpha, **rechazamos la hipótesis nula**. En otras palabras, con la evidencia disponible, ***podemos afirmar que existen diferencias significativas en las calificaciones de los usuarios entre las plataformas Xbox One y PC.***"
   ]
  },
  {
   "cell_type": "markdown",
   "metadata": {},
   "source": [
    "<div class=\"alert alert-block alert-success\">\n",
    "<b>Comentario de Revisor</b> <a class=\"tocSkip\"></a>\n",
    "\n",
    "Muy bien, correcta la aplicación del test\n",
    "    \n",
    "</div>"
   ]
  },
  {
   "cell_type": "markdown",
   "metadata": {},
   "source": [
    "<div class=\"alert alert-block alert-danger\">\n",
    "<b>Comentario de Revisor v3</b> <a class=\"tocSkip\"></a>\n",
    "\n",
    "El valor p resulta como `nan`, ahora hay un error en la data, revisa por qué ocurre esto\n",
    "\n",
    "</div>"
   ]
  },
  {
   "cell_type": "markdown",
   "metadata": {},
   "source": [
    "<div class=\"alert alert-block alert-info\">\n",
    "<b>Listo V03.</b> <a class=\"tocSkip\"></a>\n",
    "</div>"
   ]
  },
  {
   "cell_type": "markdown",
   "metadata": {},
   "source": [
    "<div class=\"alert alert-block alert-success\">\n",
    "<b>Comentario de Revisor v4</b> <a class=\"tocSkip\"></a>\n",
    "\n",
    "Bien, corregido\n",
    "\n",
    "</div>"
   ]
  },
  {
   "cell_type": "markdown",
   "metadata": {},
   "source": [
    "### Calificación por Género"
   ]
  },
  {
   "cell_type": "code",
   "execution_count": 60,
   "metadata": {
    "trusted": false
   },
   "outputs": [
    {
     "name": "stdout",
     "output_type": "stream",
     "text": [
      "Valor p: 0.10406951359049141\n",
      "No hay suficiente evidencia para rechazar la hipótesis nula.\n"
     ]
    }
   ],
   "source": [
    "genre_action = video_juegos[(video_juegos['genre']=='Action') & (video_juegos['user_score'].notna())]['user_score']\n",
    "genre_sports = video_juegos[(video_juegos['genre']=='Sports') & (video_juegos['user_score'].notna())]['user_score']\n",
    "resultado_prueba_t1 = st.ttest_ind(genre_action, genre_sports)\n",
    "pvalue = resultado_prueba_t1.pvalue\n",
    "alpha = 0.05\n",
    "print(f\"Valor p: {pvalue}\")\n",
    "if pvalue > alpha:\n",
    "    print(\"No hay suficiente evidencia para rechazar la hipótesis nula.\")\n",
    "else:\n",
    "    print(\"Hay suficiente evidencia para rechazar la hipótesis nula.\")"
   ]
  },
  {
   "cell_type": "markdown",
   "metadata": {},
   "source": [
    "Con un nivel de significancia **alpha = de 0.05**, establecimos el umbral para determinar significancia estadística. Nuestra hipótesis nula planteaba que **no existían diferencias en las calificaciones de los usuarios entre los géneros Acción y Deportes**. Tras aplicar la prueba **(.ttest_ind)**, obtuvimos un valor **p de 0.10406951359049141**. Dado que este valor p es mayor que nuestro nivel de significancia de 0.05, **no rechazamos la hipótesis nula**. En otras palabras, con la evidencia disponible, ***no podemos afirmar que existan diferencias significativas en las calificaciones de los usuarios entre los videojuegos de género Acción y los de género Deportes***."
   ]
  },
  {
   "cell_type": "markdown",
   "metadata": {},
   "source": [
    "<div class=\"alert alert-block alert-success\">\n",
    "<b>Comentario de Revisor</b> <a class=\"tocSkip\"></a>\n",
    "\n",
    "Muy bien, correcta la aplicación del test\n",
    "    \n",
    "</div>"
   ]
  },
  {
   "cell_type": "markdown",
   "metadata": {},
   "source": [
    "<div class=\"alert alert-block alert-danger\">\n",
    "<b>Comentario de Revisor v3</b> <a class=\"tocSkip\"></a>\n",
    "\n",
    "El valor p resulta como `nan`, ahora hay un error en la data, revisa por qué ocurre esto\n",
    "\n",
    "</div>"
   ]
  },
  {
   "cell_type": "markdown",
   "metadata": {},
   "source": [
    "<div class=\"alert alert-block alert-info\">\n",
    "<b>Listo V03.</b> <a class=\"tocSkip\"></a>\n",
    "</div>\n"
   ]
  },
  {
   "cell_type": "markdown",
   "metadata": {},
   "source": [
    "<div class=\"alert alert-block alert-success\">\n",
    "<b>Comentario de Revisor v4</b> <a class=\"tocSkip\"></a>\n",
    "\n",
    "Bien, corregido\n",
    "\n",
    "</div>"
   ]
  },
  {
   "cell_type": "markdown",
   "metadata": {},
   "source": [
    "## Conclusión General"
   ]
  },
  {
   "cell_type": "markdown",
   "metadata": {},
   "source": [
    "El visualizar cuál es el objetivo y tener claro que es lo que se debe ir construyendo, nos permite ir armando un orden secuencial de las cosas que queremos ir demostrando o construyendo, arrancando con la construcción de una **tabla de contenido**, con todos los puntos que vamos a tratar.\n",
    "\n",
    "Como paso inicial, al observar la data y su calidad, fue clave para saber como necesitamos que esta esté, con los métodos, **(.info, .head, .sample, .describe)** para los futuros análisis, su limpieza, transformaciones o agregación de más data, nos ayudó a tener el insight clave para el proyecto. \n",
    "\n",
    "Un paso importante y clave, era conocer cómo, con qué y porqué si o no **rellenaríamos los valores ausentes**, en todos los casos no se llenaron los datos ausentes ya que no contamos con infromación para llenarlos.\n",
    "\n",
    "Segundo punto importante para los análisis y poder centrarse en cierta data de este número grande de datos, era importante hacer **análisis de Pareto**, de aquellos datos qué nos dan la mayoría de ventas y poder enfocarnos  o hacer acciones, y para saber en que universo podemos hacer acciones con los códigos.\n",
    "\n",
    "Las gráficas nos ayudaron a visualmente ver cómo está la dato y poner las acciones, **gráficas de líneas de tendencia o comportamientos con las gráficas de distribución vimos la dispersión de los datos o valores a típicos en la data, las cajas, de la misma manera nos ayudó  a conocer su relación entre las medias, los cuartiles, etc.**\n",
    "\n",
    "Un método que en este proyecto ayudó mucho fue **describe**, para poder en uno solo vistazo conocer media, desviaciones y los cuartiles y así establecer modelos de **pronóstico**. \n",
    "\n",
    "Llegamos a **encontrar diferncia en la cuota de mercado** de cada región analizando su top 5 de cada región.\n",
    "\n",
    "En este proyecto pudimos armar gráficas de **mapas de calor**, que nos permite ver cómo las variables afecta a las ventas.\n",
    "\n",
    "Finalmente la **prueba de hipótesis** en esta ocasión observando 2 respuestas  diferentes nos ayudó a demostrar si nuestras conclusiones eran  verdades o lejanas a ellas."
   ]
  },
  {
   "cell_type": "markdown",
   "metadata": {},
   "source": [
    "<div class=\"alert alert-block alert-success\">\n",
    "<b>Comentario de Revisor</b> <a class=\"tocSkip\"></a>\n",
    "\n",
    "Muy bien con estas conclusiones, aunque no es necesario dar tanto detalle de las parte iniciales. Entre los puntos más importantes para el pronóstico de 2017 están las plataformas que serán relevantes, la segmentación de géneros por importancia de ventas y la caracterización de cada región. Para realizar una predicción del siguiente año se podría considerar cada segmento por separado para ajustar diferentes modelos.\n",
    "    \n",
    "Podrías mejorar tus conclusiones incluyendo algunos valores de las métricas más importantes, así las afirmaciones realizadas estarían mejor apoyadas en hechos.\n",
    "    \n",
    "</div>"
   ]
  }
 ],
 "metadata": {
  "ExecuteTimeLog": [
   {
    "duration": 884,
    "start_time": "2025-04-24T20:08:09.830Z"
   },
   {
    "duration": 37,
    "start_time": "2025-04-24T20:08:27.209Z"
   },
   {
    "duration": 23,
    "start_time": "2025-04-24T20:08:29.250Z"
   },
   {
    "duration": 2205,
    "start_time": "2025-04-24T20:32:33.153Z"
   },
   {
    "duration": 2,
    "start_time": "2025-04-24T20:32:37.689Z"
   },
   {
    "duration": 25,
    "start_time": "2025-04-24T20:32:47.459Z"
   },
   {
    "duration": 12,
    "start_time": "2025-04-24T20:51:35.690Z"
   },
   {
    "duration": 16,
    "start_time": "2025-04-24T20:51:47.165Z"
   },
   {
    "duration": 7,
    "start_time": "2025-04-24T20:51:59.376Z"
   },
   {
    "duration": 11,
    "start_time": "2025-04-24T20:52:10.451Z"
   },
   {
    "duration": 3,
    "start_time": "2025-04-24T21:15:19.736Z"
   },
   {
    "duration": 5,
    "start_time": "2025-04-24T21:15:21.037Z"
   },
   {
    "duration": 15,
    "start_time": "2025-04-24T21:50:56.188Z"
   },
   {
    "duration": 22,
    "start_time": "2025-04-24T22:59:46.154Z"
   },
   {
    "duration": 14,
    "start_time": "2025-04-24T23:58:00.443Z"
   },
   {
    "duration": 7,
    "start_time": "2025-04-24T23:58:10.491Z"
   },
   {
    "duration": 5,
    "start_time": "2025-04-24T23:58:24.965Z"
   },
   {
    "duration": 5,
    "start_time": "2025-04-24T23:58:34.079Z"
   },
   {
    "duration": 13,
    "start_time": "2025-04-24T23:58:48.154Z"
   },
   {
    "duration": 2558,
    "start_time": "2025-04-26T18:15:07.591Z"
   },
   {
    "duration": 46,
    "start_time": "2025-04-26T18:15:10.151Z"
   },
   {
    "duration": 11,
    "start_time": "2025-04-26T18:15:11.050Z"
   },
   {
    "duration": 16,
    "start_time": "2025-04-26T18:15:12.698Z"
   },
   {
    "duration": 7,
    "start_time": "2025-04-26T18:15:14.346Z"
   },
   {
    "duration": 12,
    "start_time": "2025-04-26T18:15:17.197Z"
   },
   {
    "duration": 4,
    "start_time": "2025-04-26T18:15:23.750Z"
   },
   {
    "duration": 5,
    "start_time": "2025-04-26T18:15:25.120Z"
   },
   {
    "duration": 17,
    "start_time": "2025-04-26T18:15:27.496Z"
   },
   {
    "duration": 11,
    "start_time": "2025-04-26T18:15:30.322Z"
   },
   {
    "duration": 6,
    "start_time": "2025-04-26T18:15:32.441Z"
   },
   {
    "duration": 4,
    "start_time": "2025-04-26T18:15:34.259Z"
   },
   {
    "duration": 4,
    "start_time": "2025-04-26T18:15:35.545Z"
   },
   {
    "duration": 12,
    "start_time": "2025-04-26T18:15:36.834Z"
   },
   {
    "duration": 21,
    "start_time": "2025-04-26T18:16:03.198Z"
   },
   {
    "duration": 8,
    "start_time": "2025-04-26T18:16:17.261Z"
   },
   {
    "duration": 8,
    "start_time": "2025-04-26T18:16:27.456Z"
   },
   {
    "duration": 218,
    "start_time": "2025-04-26T18:16:46.091Z"
   },
   {
    "duration": 9,
    "start_time": "2025-04-26T18:16:51.125Z"
   },
   {
    "duration": 8,
    "start_time": "2025-04-26T18:16:52.777Z"
   },
   {
    "duration": 4,
    "start_time": "2025-04-26T18:17:06.297Z"
   },
   {
    "duration": 17,
    "start_time": "2025-04-26T19:31:37.204Z"
   },
   {
    "duration": 164,
    "start_time": "2025-04-26T19:31:48.056Z"
   },
   {
    "duration": 155,
    "start_time": "2025-04-27T00:20:16.160Z"
   },
   {
    "duration": 12,
    "start_time": "2025-04-27T00:20:47.572Z"
   },
   {
    "duration": 2578,
    "start_time": "2025-04-27T00:20:56.128Z"
   },
   {
    "duration": 799,
    "start_time": "2025-04-27T00:21:11.645Z"
   },
   {
    "duration": 39,
    "start_time": "2025-04-27T00:21:13.499Z"
   },
   {
    "duration": 11,
    "start_time": "2025-04-27T00:21:14.509Z"
   },
   {
    "duration": 16,
    "start_time": "2025-04-27T00:21:16.071Z"
   },
   {
    "duration": 9,
    "start_time": "2025-04-27T00:21:18.127Z"
   },
   {
    "duration": 11,
    "start_time": "2025-04-27T00:21:19.638Z"
   },
   {
    "duration": 4,
    "start_time": "2025-04-27T00:21:21.402Z"
   },
   {
    "duration": 4,
    "start_time": "2025-04-27T00:21:22.538Z"
   },
   {
    "duration": 17,
    "start_time": "2025-04-27T00:21:24.361Z"
   },
   {
    "duration": 11,
    "start_time": "2025-04-27T00:21:26.628Z"
   },
   {
    "duration": 7,
    "start_time": "2025-04-27T00:21:27.783Z"
   },
   {
    "duration": 4,
    "start_time": "2025-04-27T00:21:29.503Z"
   },
   {
    "duration": 5,
    "start_time": "2025-04-27T00:21:30.389Z"
   },
   {
    "duration": 13,
    "start_time": "2025-04-27T00:21:31.392Z"
   },
   {
    "duration": 18,
    "start_time": "2025-04-27T00:21:34.294Z"
   },
   {
    "duration": 9,
    "start_time": "2025-04-27T00:21:35.649Z"
   },
   {
    "duration": 8,
    "start_time": "2025-04-27T00:21:37.098Z"
   },
   {
    "duration": 8,
    "start_time": "2025-04-27T00:21:37.906Z"
   },
   {
    "duration": 8,
    "start_time": "2025-04-27T00:21:39.993Z"
   },
   {
    "duration": 4,
    "start_time": "2025-04-27T00:21:41.846Z"
   },
   {
    "duration": 817,
    "start_time": "2025-04-27T00:21:53.526Z"
   },
   {
    "duration": 24,
    "start_time": "2025-04-27T00:21:55.055Z"
   },
   {
    "duration": 12,
    "start_time": "2025-04-27T00:21:55.819Z"
   },
   {
    "duration": 16,
    "start_time": "2025-04-27T00:21:57.568Z"
   },
   {
    "duration": 8,
    "start_time": "2025-04-27T00:21:59.778Z"
   },
   {
    "duration": 11,
    "start_time": "2025-04-27T00:22:01.578Z"
   },
   {
    "duration": 4,
    "start_time": "2025-04-27T00:22:03.950Z"
   },
   {
    "duration": 5,
    "start_time": "2025-04-27T00:22:05.068Z"
   },
   {
    "duration": 16,
    "start_time": "2025-04-27T00:22:06.824Z"
   },
   {
    "duration": 11,
    "start_time": "2025-04-27T00:22:09.480Z"
   },
   {
    "duration": 7,
    "start_time": "2025-04-27T00:22:10.803Z"
   },
   {
    "duration": 5,
    "start_time": "2025-04-27T00:22:12.220Z"
   },
   {
    "duration": 5,
    "start_time": "2025-04-27T00:22:14.466Z"
   },
   {
    "duration": 12,
    "start_time": "2025-04-27T00:22:15.404Z"
   },
   {
    "duration": 13,
    "start_time": "2025-04-27T00:22:20.350Z"
   },
   {
    "duration": 9,
    "start_time": "2025-04-27T00:22:22.336Z"
   },
   {
    "duration": 8,
    "start_time": "2025-04-27T00:22:23.931Z"
   },
   {
    "duration": 8,
    "start_time": "2025-04-27T00:22:25.143Z"
   },
   {
    "duration": 8,
    "start_time": "2025-04-27T00:22:26.891Z"
   },
   {
    "duration": 4,
    "start_time": "2025-04-27T00:22:29.228Z"
   },
   {
    "duration": 14,
    "start_time": "2025-04-27T00:22:31.552Z"
   },
   {
    "duration": 136,
    "start_time": "2025-04-27T00:22:33.223Z"
   },
   {
    "duration": 177,
    "start_time": "2025-04-27T00:22:37.754Z"
   },
   {
    "duration": 14,
    "start_time": "2025-04-27T00:22:51.222Z"
   },
   {
    "duration": 9,
    "start_time": "2025-04-27T00:23:00.820Z"
   },
   {
    "duration": 171,
    "start_time": "2025-04-27T00:23:14.603Z"
   },
   {
    "duration": 11,
    "start_time": "2025-04-27T00:23:23.897Z"
   },
   {
    "duration": 12,
    "start_time": "2025-04-27T00:23:36.374Z"
   },
   {
    "duration": 372,
    "start_time": "2025-04-27T00:49:19.514Z"
   },
   {
    "duration": 18,
    "start_time": "2025-04-27T01:21:48.568Z"
   },
   {
    "duration": 220,
    "start_time": "2025-04-27T01:21:59.235Z"
   },
   {
    "duration": 257,
    "start_time": "2025-04-27T01:22:13.064Z"
   },
   {
    "duration": 12,
    "start_time": "2025-04-27T01:50:31.175Z"
   },
   {
    "duration": 4,
    "start_time": "2025-04-27T01:50:42.595Z"
   },
   {
    "duration": 17,
    "start_time": "2025-04-27T02:41:45.744Z"
   },
   {
    "duration": 12,
    "start_time": "2025-04-27T02:42:08.355Z"
   },
   {
    "duration": 7,
    "start_time": "2025-04-27T02:42:39.310Z"
   },
   {
    "duration": 13,
    "start_time": "2025-04-27T02:43:22.531Z"
   },
   {
    "duration": 3386,
    "start_time": "2025-04-27T22:44:31.365Z"
   },
   {
    "duration": 38,
    "start_time": "2025-04-27T22:44:34.779Z"
   },
   {
    "duration": 14,
    "start_time": "2025-04-27T22:44:36.502Z"
   },
   {
    "duration": 16,
    "start_time": "2025-04-27T22:44:38.237Z"
   },
   {
    "duration": 9,
    "start_time": "2025-04-27T22:44:40.172Z"
   },
   {
    "duration": 12,
    "start_time": "2025-04-27T22:44:42.225Z"
   },
   {
    "duration": 5,
    "start_time": "2025-04-27T22:44:43.998Z"
   },
   {
    "duration": 5,
    "start_time": "2025-04-27T22:44:45.147Z"
   },
   {
    "duration": 17,
    "start_time": "2025-04-27T22:44:46.907Z"
   },
   {
    "duration": 16,
    "start_time": "2025-04-27T22:44:49.410Z"
   },
   {
    "duration": 7,
    "start_time": "2025-04-27T22:44:51.278Z"
   },
   {
    "duration": 9,
    "start_time": "2025-04-27T22:44:52.518Z"
   },
   {
    "duration": 5,
    "start_time": "2025-04-27T22:44:53.544Z"
   },
   {
    "duration": 12,
    "start_time": "2025-04-27T22:44:54.567Z"
   },
   {
    "duration": 18,
    "start_time": "2025-04-27T22:44:58.085Z"
   },
   {
    "duration": 10,
    "start_time": "2025-04-27T22:45:01.603Z"
   },
   {
    "duration": 8,
    "start_time": "2025-04-27T22:45:03.061Z"
   },
   {
    "duration": 9,
    "start_time": "2025-04-27T22:45:04.366Z"
   },
   {
    "duration": 8,
    "start_time": "2025-04-27T22:45:05.667Z"
   },
   {
    "duration": 5,
    "start_time": "2025-04-27T22:45:07.421Z"
   },
   {
    "duration": 16,
    "start_time": "2025-04-27T22:45:09.426Z"
   },
   {
    "duration": 141,
    "start_time": "2025-04-27T22:45:11.167Z"
   },
   {
    "duration": 206,
    "start_time": "2025-04-27T22:45:13.756Z"
   },
   {
    "duration": 15,
    "start_time": "2025-04-27T22:45:16.091Z"
   },
   {
    "duration": 13,
    "start_time": "2025-04-27T22:45:19.191Z"
   },
   {
    "duration": 175,
    "start_time": "2025-04-27T22:45:21.815Z"
   },
   {
    "duration": 7,
    "start_time": "2025-04-27T22:45:24.075Z"
   },
   {
    "duration": 16,
    "start_time": "2025-04-27T22:45:26.000Z"
   },
   {
    "duration": 700,
    "start_time": "2025-04-27T22:45:28.524Z"
   },
   {
    "duration": 32,
    "start_time": "2025-04-27T22:45:31.710Z"
   },
   {
    "duration": 278,
    "start_time": "2025-04-27T22:45:33.222Z"
   },
   {
    "duration": 13,
    "start_time": "2025-04-27T22:45:41.719Z"
   },
   {
    "duration": 4,
    "start_time": "2025-04-27T22:45:43.840Z"
   },
   {
    "duration": 21,
    "start_time": "2025-04-27T22:45:45.820Z"
   },
   {
    "duration": 15,
    "start_time": "2025-04-27T22:45:48.195Z"
   },
   {
    "duration": 9,
    "start_time": "2025-04-27T22:45:49.711Z"
   },
   {
    "duration": 14,
    "start_time": "2025-04-27T22:45:51.650Z"
   },
   {
    "duration": 9,
    "start_time": "2025-04-27T22:46:40.596Z"
   },
   {
    "duration": 8,
    "start_time": "2025-04-27T22:54:16.768Z"
   },
   {
    "duration": 7,
    "start_time": "2025-04-27T23:43:42.162Z"
   },
   {
    "duration": 432,
    "start_time": "2025-04-27T23:43:50.634Z"
   },
   {
    "duration": 230,
    "start_time": "2025-04-28T00:21:51.717Z"
   },
   {
    "duration": 15,
    "start_time": "2025-04-28T00:22:16.088Z"
   },
   {
    "duration": 32,
    "start_time": "2025-04-28T00:22:18.178Z"
   },
   {
    "duration": 868,
    "start_time": "2025-04-28T00:22:44.639Z"
   },
   {
    "duration": 26,
    "start_time": "2025-04-28T00:22:45.609Z"
   },
   {
    "duration": 13,
    "start_time": "2025-04-28T00:22:46.357Z"
   },
   {
    "duration": 15,
    "start_time": "2025-04-28T00:22:47.946Z"
   },
   {
    "duration": 8,
    "start_time": "2025-04-28T00:22:49.989Z"
   },
   {
    "duration": 12,
    "start_time": "2025-04-28T00:22:52.847Z"
   },
   {
    "duration": 4,
    "start_time": "2025-04-28T00:22:54.753Z"
   },
   {
    "duration": 5,
    "start_time": "2025-04-28T00:22:55.836Z"
   },
   {
    "duration": 28,
    "start_time": "2025-04-28T00:22:58.454Z"
   },
   {
    "duration": 11,
    "start_time": "2025-04-28T00:23:01.052Z"
   },
   {
    "duration": 7,
    "start_time": "2025-04-28T00:23:02.501Z"
   },
   {
    "duration": 5,
    "start_time": "2025-04-28T00:23:04.204Z"
   },
   {
    "duration": 5,
    "start_time": "2025-04-28T00:23:05.098Z"
   },
   {
    "duration": 13,
    "start_time": "2025-04-28T00:23:06.476Z"
   },
   {
    "duration": 13,
    "start_time": "2025-04-28T00:23:09.624Z"
   },
   {
    "duration": 9,
    "start_time": "2025-04-28T00:23:11.272Z"
   },
   {
    "duration": 9,
    "start_time": "2025-04-28T00:23:12.818Z"
   },
   {
    "duration": 11,
    "start_time": "2025-04-28T00:23:14.168Z"
   },
   {
    "duration": 10,
    "start_time": "2025-04-28T00:23:15.503Z"
   },
   {
    "duration": 4,
    "start_time": "2025-04-28T00:23:17.259Z"
   },
   {
    "duration": 14,
    "start_time": "2025-04-28T00:23:19.029Z"
   },
   {
    "duration": 140,
    "start_time": "2025-04-28T00:23:20.424Z"
   },
   {
    "duration": 183,
    "start_time": "2025-04-28T00:23:23.264Z"
   },
   {
    "duration": 14,
    "start_time": "2025-04-28T00:23:25.988Z"
   },
   {
    "duration": 27,
    "start_time": "2025-04-28T00:23:27.769Z"
   },
   {
    "duration": 10,
    "start_time": "2025-04-28T00:23:31.622Z"
   },
   {
    "duration": 185,
    "start_time": "2025-04-28T00:23:34.285Z"
   },
   {
    "duration": 8,
    "start_time": "2025-04-28T00:23:36.303Z"
   },
   {
    "duration": 17,
    "start_time": "2025-04-28T00:23:38.042Z"
   },
   {
    "duration": 368,
    "start_time": "2025-04-28T00:23:40.030Z"
   },
   {
    "duration": 18,
    "start_time": "2025-04-28T00:23:42.315Z"
   },
   {
    "duration": 236,
    "start_time": "2025-04-28T00:23:44.405Z"
   },
   {
    "duration": 13,
    "start_time": "2025-04-28T00:23:46.191Z"
   },
   {
    "duration": 5,
    "start_time": "2025-04-28T00:23:47.858Z"
   },
   {
    "duration": 21,
    "start_time": "2025-04-28T00:23:49.866Z"
   },
   {
    "duration": 11,
    "start_time": "2025-04-28T00:23:51.553Z"
   },
   {
    "duration": 7,
    "start_time": "2025-04-28T00:23:53.208Z"
   },
   {
    "duration": 13,
    "start_time": "2025-04-28T00:23:55.231Z"
   },
   {
    "duration": 9,
    "start_time": "2025-04-28T00:23:56.950Z"
   },
   {
    "duration": 370,
    "start_time": "2025-04-28T00:23:57.859Z"
   },
   {
    "duration": 9,
    "start_time": "2025-04-28T00:24:02.182Z"
   },
   {
    "duration": 9,
    "start_time": "2025-04-28T00:24:03.998Z"
   },
   {
    "duration": 13,
    "start_time": "2025-04-28T00:27:03.731Z"
   },
   {
    "duration": 807,
    "start_time": "2025-04-28T00:27:14.899Z"
   },
   {
    "duration": 29,
    "start_time": "2025-04-28T00:27:15.709Z"
   },
   {
    "duration": 12,
    "start_time": "2025-04-28T00:27:16.168Z"
   },
   {
    "duration": 17,
    "start_time": "2025-04-28T00:27:18.141Z"
   },
   {
    "duration": 9,
    "start_time": "2025-04-28T00:27:19.564Z"
   },
   {
    "duration": 12,
    "start_time": "2025-04-28T00:27:20.871Z"
   },
   {
    "duration": 4,
    "start_time": "2025-04-28T00:27:22.423Z"
   },
   {
    "duration": 5,
    "start_time": "2025-04-28T00:27:23.581Z"
   },
   {
    "duration": 19,
    "start_time": "2025-04-28T00:27:25.124Z"
   },
   {
    "duration": 14,
    "start_time": "2025-04-28T00:27:26.601Z"
   },
   {
    "duration": 16,
    "start_time": "2025-04-28T00:27:28.496Z"
   },
   {
    "duration": 8,
    "start_time": "2025-04-28T00:27:29.900Z"
   },
   {
    "duration": 5,
    "start_time": "2025-04-28T00:27:31.334Z"
   },
   {
    "duration": 5,
    "start_time": "2025-04-28T00:27:32.181Z"
   },
   {
    "duration": 14,
    "start_time": "2025-04-28T00:27:33.812Z"
   },
   {
    "duration": 15,
    "start_time": "2025-04-28T00:27:36.700Z"
   },
   {
    "duration": 10,
    "start_time": "2025-04-28T00:27:38.053Z"
   },
   {
    "duration": 8,
    "start_time": "2025-04-28T00:27:39.183Z"
   },
   {
    "duration": 10,
    "start_time": "2025-04-28T00:27:40.482Z"
   },
   {
    "duration": 10,
    "start_time": "2025-04-28T00:27:41.961Z"
   },
   {
    "duration": 4,
    "start_time": "2025-04-28T00:27:44.583Z"
   },
   {
    "duration": 13,
    "start_time": "2025-04-28T00:27:46.672Z"
   },
   {
    "duration": 150,
    "start_time": "2025-04-28T00:27:48.437Z"
   },
   {
    "duration": 191,
    "start_time": "2025-04-28T00:27:51.108Z"
   },
   {
    "duration": 18,
    "start_time": "2025-04-28T00:27:53.045Z"
   },
   {
    "duration": 32,
    "start_time": "2025-04-28T00:27:54.908Z"
   },
   {
    "duration": 13,
    "start_time": "2025-04-28T00:27:58.188Z"
   },
   {
    "duration": 186,
    "start_time": "2025-04-28T00:28:20.375Z"
   },
   {
    "duration": 8,
    "start_time": "2025-04-28T00:28:22.352Z"
   },
   {
    "duration": 12,
    "start_time": "2025-04-28T00:28:23.982Z"
   },
   {
    "duration": 384,
    "start_time": "2025-04-28T00:28:26.070Z"
   },
   {
    "duration": 19,
    "start_time": "2025-04-28T00:28:28.177Z"
   },
   {
    "duration": 259,
    "start_time": "2025-04-28T00:28:29.917Z"
   },
   {
    "duration": 15,
    "start_time": "2025-04-28T00:28:32.273Z"
   },
   {
    "duration": 4,
    "start_time": "2025-04-28T00:28:34.641Z"
   },
   {
    "duration": 18,
    "start_time": "2025-04-28T00:28:36.337Z"
   },
   {
    "duration": 11,
    "start_time": "2025-04-28T00:28:37.962Z"
   },
   {
    "duration": 8,
    "start_time": "2025-04-28T00:28:39.760Z"
   },
   {
    "duration": 14,
    "start_time": "2025-04-28T00:28:41.582Z"
   },
   {
    "duration": 8,
    "start_time": "2025-04-28T00:28:42.983Z"
   },
   {
    "duration": 359,
    "start_time": "2025-04-28T00:28:44.064Z"
   },
   {
    "duration": 9,
    "start_time": "2025-04-28T00:28:47.202Z"
   },
   {
    "duration": 9,
    "start_time": "2025-04-28T00:28:48.600Z"
   },
   {
    "duration": 169,
    "start_time": "2025-04-28T16:17:48.874Z"
   },
   {
    "duration": 2544,
    "start_time": "2025-04-28T16:17:54.908Z"
   },
   {
    "duration": 857,
    "start_time": "2025-04-28T16:18:03.069Z"
   },
   {
    "duration": 38,
    "start_time": "2025-04-28T16:18:04.564Z"
   },
   {
    "duration": 12,
    "start_time": "2025-04-28T16:18:05.546Z"
   },
   {
    "duration": 16,
    "start_time": "2025-04-28T16:18:07.538Z"
   },
   {
    "duration": 8,
    "start_time": "2025-04-28T16:18:09.067Z"
   },
   {
    "duration": 12,
    "start_time": "2025-04-28T16:18:10.354Z"
   },
   {
    "duration": 4,
    "start_time": "2025-04-28T16:18:11.969Z"
   },
   {
    "duration": 5,
    "start_time": "2025-04-28T16:18:13.902Z"
   },
   {
    "duration": 17,
    "start_time": "2025-04-28T16:18:15.412Z"
   },
   {
    "duration": 13,
    "start_time": "2025-04-28T16:18:17.018Z"
   },
   {
    "duration": 11,
    "start_time": "2025-04-28T16:18:19.221Z"
   },
   {
    "duration": 7,
    "start_time": "2025-04-28T16:18:20.670Z"
   },
   {
    "duration": 5,
    "start_time": "2025-04-28T16:18:22.409Z"
   },
   {
    "duration": 4,
    "start_time": "2025-04-28T16:18:23.209Z"
   },
   {
    "duration": 11,
    "start_time": "2025-04-28T16:18:24.303Z"
   },
   {
    "duration": 13,
    "start_time": "2025-04-28T16:18:27.419Z"
   },
   {
    "duration": 10,
    "start_time": "2025-04-28T16:18:31.111Z"
   },
   {
    "duration": 8,
    "start_time": "2025-04-28T16:18:33.132Z"
   },
   {
    "duration": 9,
    "start_time": "2025-04-28T16:18:34.383Z"
   },
   {
    "duration": 10,
    "start_time": "2025-04-28T16:18:36.200Z"
   },
   {
    "duration": 4,
    "start_time": "2025-04-28T16:18:37.828Z"
   },
   {
    "duration": 14,
    "start_time": "2025-04-28T16:18:40.281Z"
   },
   {
    "duration": 138,
    "start_time": "2025-04-28T16:18:42.018Z"
   },
   {
    "duration": 180,
    "start_time": "2025-04-28T16:18:45.574Z"
   },
   {
    "duration": 13,
    "start_time": "2025-04-28T16:18:48.375Z"
   },
   {
    "duration": 25,
    "start_time": "2025-04-28T16:18:50.231Z"
   },
   {
    "duration": 10,
    "start_time": "2025-04-28T16:18:56.752Z"
   },
   {
    "duration": 170,
    "start_time": "2025-04-28T16:19:13.002Z"
   },
   {
    "duration": 16,
    "start_time": "2025-04-28T16:19:25.594Z"
   },
   {
    "duration": 11,
    "start_time": "2025-04-28T16:19:38.692Z"
   },
   {
    "duration": 17,
    "start_time": "2025-04-28T16:19:53.950Z"
   },
   {
    "duration": 14,
    "start_time": "2025-04-28T16:20:07.274Z"
   },
   {
    "duration": 2849,
    "start_time": "2025-04-29T02:51:49.884Z"
   },
   {
    "duration": 36,
    "start_time": "2025-04-29T02:51:52.736Z"
   },
   {
    "duration": 14,
    "start_time": "2025-04-29T02:51:52.774Z"
   },
   {
    "duration": 16,
    "start_time": "2025-04-29T02:51:54.545Z"
   },
   {
    "duration": 8,
    "start_time": "2025-04-29T02:51:56.733Z"
   },
   {
    "duration": 15,
    "start_time": "2025-04-29T02:51:58.676Z"
   },
   {
    "duration": 8,
    "start_time": "2025-04-29T02:52:00.976Z"
   },
   {
    "duration": 5,
    "start_time": "2025-04-29T02:52:02.679Z"
   },
   {
    "duration": 23,
    "start_time": "2025-04-29T02:52:04.866Z"
   },
   {
    "duration": 21,
    "start_time": "2025-04-29T02:52:06.825Z"
   },
   {
    "duration": 14,
    "start_time": "2025-04-29T02:52:09.273Z"
   },
   {
    "duration": 9,
    "start_time": "2025-04-29T02:52:10.824Z"
   },
   {
    "duration": 5,
    "start_time": "2025-04-29T02:52:12.319Z"
   },
   {
    "duration": 5,
    "start_time": "2025-04-29T02:52:13.241Z"
   },
   {
    "duration": 14,
    "start_time": "2025-04-29T02:52:14.582Z"
   },
   {
    "duration": 19,
    "start_time": "2025-04-29T02:52:18.002Z"
   },
   {
    "duration": 9,
    "start_time": "2025-04-29T02:52:19.977Z"
   },
   {
    "duration": 8,
    "start_time": "2025-04-29T02:52:20.965Z"
   },
   {
    "duration": 11,
    "start_time": "2025-04-29T02:52:22.815Z"
   },
   {
    "duration": 12,
    "start_time": "2025-04-29T02:52:24.608Z"
   },
   {
    "duration": 5,
    "start_time": "2025-04-29T02:52:26.091Z"
   },
   {
    "duration": 14,
    "start_time": "2025-04-29T02:52:27.776Z"
   },
   {
    "duration": 167,
    "start_time": "2025-04-29T02:52:29.459Z"
   },
   {
    "duration": 202,
    "start_time": "2025-04-29T02:52:32.335Z"
   },
   {
    "duration": 296,
    "start_time": "2025-04-29T02:52:49.325Z"
   },
   {
    "duration": 62,
    "start_time": "2025-04-29T03:07:27.451Z"
   },
   {
    "duration": 22,
    "start_time": "2025-04-29T03:07:39.444Z"
   },
   {
    "duration": 9,
    "start_time": "2025-04-29T03:08:11.849Z"
   },
   {
    "duration": 212,
    "start_time": "2025-04-29T03:08:14.610Z"
   },
   {
    "duration": 32,
    "start_time": "2025-04-29T03:08:16.862Z"
   },
   {
    "duration": 19,
    "start_time": "2025-04-29T03:08:19.178Z"
   },
   {
    "duration": 22,
    "start_time": "2025-04-29T03:08:21.195Z"
   },
   {
    "duration": 15,
    "start_time": "2025-04-29T03:08:23.315Z"
   },
   {
    "duration": 497,
    "start_time": "2025-04-29T03:08:25.060Z"
   },
   {
    "duration": 24,
    "start_time": "2025-04-29T03:08:27.550Z"
   },
   {
    "duration": 255,
    "start_time": "2025-04-29T03:08:29.650Z"
   },
   {
    "duration": 15,
    "start_time": "2025-04-29T03:08:34.137Z"
   },
   {
    "duration": 4,
    "start_time": "2025-04-29T03:08:36.362Z"
   },
   {
    "duration": 18,
    "start_time": "2025-04-29T03:08:37.916Z"
   },
   {
    "duration": 28,
    "start_time": "2025-04-29T03:08:39.469Z"
   },
   {
    "duration": 7,
    "start_time": "2025-04-29T03:08:40.814Z"
   },
   {
    "duration": 15,
    "start_time": "2025-04-29T03:08:42.223Z"
   },
   {
    "duration": 10,
    "start_time": "2025-04-29T03:08:44.541Z"
   },
   {
    "duration": 408,
    "start_time": "2025-04-29T03:08:45.207Z"
   },
   {
    "duration": 8,
    "start_time": "2025-04-29T03:08:49.323Z"
   },
   {
    "duration": 10,
    "start_time": "2025-04-29T03:08:50.604Z"
   },
   {
    "duration": 1155,
    "start_time": "2025-04-29T03:09:06.430Z"
   },
   {
    "duration": 45,
    "start_time": "2025-04-29T03:09:07.675Z"
   },
   {
    "duration": 26,
    "start_time": "2025-04-29T03:09:08.930Z"
   },
   {
    "duration": 21,
    "start_time": "2025-04-29T03:09:10.504Z"
   },
   {
    "duration": 10,
    "start_time": "2025-04-29T03:09:11.940Z"
   },
   {
    "duration": 14,
    "start_time": "2025-04-29T03:09:13.740Z"
   },
   {
    "duration": 16,
    "start_time": "2025-04-29T03:09:15.178Z"
   },
   {
    "duration": 11,
    "start_time": "2025-04-29T03:09:16.486Z"
   },
   {
    "duration": 24,
    "start_time": "2025-04-29T03:09:17.801Z"
   },
   {
    "duration": 14,
    "start_time": "2025-04-29T03:09:19.704Z"
   },
   {
    "duration": 30,
    "start_time": "2025-04-29T03:09:21.602Z"
   },
   {
    "duration": 9,
    "start_time": "2025-04-29T03:09:22.722Z"
   },
   {
    "duration": 9,
    "start_time": "2025-04-29T03:09:23.887Z"
   },
   {
    "duration": 6,
    "start_time": "2025-04-29T03:09:24.736Z"
   },
   {
    "duration": 13,
    "start_time": "2025-04-29T03:09:26.006Z"
   },
   {
    "duration": 30,
    "start_time": "2025-04-29T03:09:28.687Z"
   },
   {
    "duration": 12,
    "start_time": "2025-04-29T03:09:30.237Z"
   },
   {
    "duration": 10,
    "start_time": "2025-04-29T03:09:31.418Z"
   },
   {
    "duration": 17,
    "start_time": "2025-04-29T03:09:33.695Z"
   },
   {
    "duration": 19,
    "start_time": "2025-04-29T03:09:35.291Z"
   },
   {
    "duration": 6,
    "start_time": "2025-04-29T03:09:36.595Z"
   },
   {
    "duration": 21,
    "start_time": "2025-04-29T03:09:44.303Z"
   },
   {
    "duration": 177,
    "start_time": "2025-04-29T03:09:46.264Z"
   },
   {
    "duration": 217,
    "start_time": "2025-04-29T03:09:49.144Z"
   },
   {
    "duration": 76,
    "start_time": "2025-04-29T03:09:51.035Z"
   },
   {
    "duration": 23,
    "start_time": "2025-04-29T03:09:55.998Z"
   },
   {
    "duration": 10,
    "start_time": "2025-04-29T03:09:59.050Z"
   },
   {
    "duration": 238,
    "start_time": "2025-04-29T03:10:01.367Z"
   },
   {
    "duration": 46,
    "start_time": "2025-04-29T03:10:03.917Z"
   },
   {
    "duration": 36,
    "start_time": "2025-04-29T03:10:06.082Z"
   },
   {
    "duration": 24,
    "start_time": "2025-04-29T03:10:08.545Z"
   },
   {
    "duration": 17,
    "start_time": "2025-04-29T03:10:10.021Z"
   },
   {
    "duration": 462,
    "start_time": "2025-04-29T03:10:11.655Z"
   },
   {
    "duration": 25,
    "start_time": "2025-04-29T03:10:13.241Z"
   },
   {
    "duration": 258,
    "start_time": "2025-04-29T03:10:14.959Z"
   },
   {
    "duration": 24,
    "start_time": "2025-04-29T03:10:16.977Z"
   },
   {
    "duration": 9,
    "start_time": "2025-04-29T03:10:18.572Z"
   },
   {
    "duration": 25,
    "start_time": "2025-04-29T03:10:20.234Z"
   },
   {
    "duration": 12,
    "start_time": "2025-04-29T03:10:22.601Z"
   },
   {
    "duration": 13,
    "start_time": "2025-04-29T03:10:24.407Z"
   },
   {
    "duration": 22,
    "start_time": "2025-04-29T03:10:25.894Z"
   },
   {
    "duration": 9,
    "start_time": "2025-04-29T03:10:27.539Z"
   },
   {
    "duration": 447,
    "start_time": "2025-04-29T03:10:28.378Z"
   },
   {
    "duration": 29,
    "start_time": "2025-04-29T03:10:31.668Z"
   },
   {
    "duration": 10,
    "start_time": "2025-04-29T03:10:33.144Z"
   },
   {
    "duration": 1685,
    "start_time": "2025-04-29T17:10:28.052Z"
   },
   {
    "duration": 77,
    "start_time": "2025-04-29T17:10:29.742Z"
   },
   {
    "duration": 70,
    "start_time": "2025-04-29T17:10:29.826Z"
   },
   {
    "duration": 21,
    "start_time": "2025-04-29T17:10:29.905Z"
   },
   {
    "duration": 16,
    "start_time": "2025-04-29T17:10:29.929Z"
   },
   {
    "duration": 28,
    "start_time": "2025-04-29T17:10:29.993Z"
   },
   {
    "duration": 10,
    "start_time": "2025-04-29T17:10:30.023Z"
   },
   {
    "duration": 5,
    "start_time": "2025-04-29T17:10:30.035Z"
   },
   {
    "duration": 57,
    "start_time": "2025-04-29T17:10:30.041Z"
   },
   {
    "duration": 22,
    "start_time": "2025-04-29T17:10:30.101Z"
   },
   {
    "duration": 86,
    "start_time": "2025-04-29T17:10:30.125Z"
   },
   {
    "duration": 12,
    "start_time": "2025-04-29T17:10:30.214Z"
   },
   {
    "duration": 4,
    "start_time": "2025-04-29T17:10:30.228Z"
   },
   {
    "duration": 3,
    "start_time": "2025-04-29T17:10:30.236Z"
   },
   {
    "duration": 21,
    "start_time": "2025-04-29T17:10:30.287Z"
   },
   {
    "duration": 16,
    "start_time": "2025-04-29T17:10:30.310Z"
   },
   {
    "duration": 69,
    "start_time": "2025-04-29T17:10:30.328Z"
   },
   {
    "duration": 18,
    "start_time": "2025-04-29T17:10:30.407Z"
   },
   {
    "duration": 9,
    "start_time": "2025-04-29T17:10:30.431Z"
   },
   {
    "duration": 53,
    "start_time": "2025-04-29T17:10:30.442Z"
   },
   {
    "duration": 5,
    "start_time": "2025-04-29T17:10:30.497Z"
   },
   {
    "duration": 15,
    "start_time": "2025-04-29T17:10:30.504Z"
   },
   {
    "duration": 488,
    "start_time": "2025-04-29T17:10:30.521Z"
   },
   {
    "duration": 586,
    "start_time": "2025-04-29T17:10:31.013Z"
   },
   {
    "duration": 185,
    "start_time": "2025-04-29T17:10:31.603Z"
   },
   {
    "duration": 100,
    "start_time": "2025-04-29T17:10:31.790Z"
   },
   {
    "duration": 23,
    "start_time": "2025-04-29T17:10:31.892Z"
   },
   {
    "duration": 769,
    "start_time": "2025-04-29T17:10:31.919Z"
   },
   {
    "duration": 29,
    "start_time": "2025-04-29T17:10:32.690Z"
   },
   {
    "duration": 78,
    "start_time": "2025-04-29T17:10:32.726Z"
   },
   {
    "duration": 76,
    "start_time": "2025-04-29T17:10:32.812Z"
   },
   {
    "duration": 44,
    "start_time": "2025-04-29T17:10:32.891Z"
   },
   {
    "duration": 1693,
    "start_time": "2025-04-29T17:10:32.939Z"
   },
   {
    "duration": 35,
    "start_time": "2025-04-29T17:10:34.687Z"
   },
   {
    "duration": 604,
    "start_time": "2025-04-29T17:10:34.787Z"
   },
   {
    "duration": 28,
    "start_time": "2025-04-29T17:10:35.393Z"
   },
   {
    "duration": 4,
    "start_time": "2025-04-29T17:10:35.423Z"
   },
   {
    "duration": 102,
    "start_time": "2025-04-29T17:10:35.429Z"
   },
   {
    "duration": 71,
    "start_time": "2025-04-29T17:10:35.533Z"
   },
   {
    "duration": 14,
    "start_time": "2025-04-29T17:10:35.606Z"
   },
   {
    "duration": 102,
    "start_time": "2025-04-29T17:10:35.625Z"
   },
   {
    "duration": 8,
    "start_time": "2025-04-29T17:10:35.729Z"
   },
   {
    "duration": 1244,
    "start_time": "2025-04-29T17:10:35.786Z"
   },
   {
    "duration": 62,
    "start_time": "2025-04-29T17:10:37.033Z"
   },
   {
    "duration": 29,
    "start_time": "2025-04-29T17:10:37.102Z"
   },
   {
    "duration": 12,
    "start_time": "2025-04-29T17:24:13.107Z"
   },
   {
    "duration": 3029,
    "start_time": "2025-04-29T20:04:57.151Z"
   },
   {
    "duration": 40,
    "start_time": "2025-04-29T20:05:00.470Z"
   },
   {
    "duration": 13,
    "start_time": "2025-04-29T20:05:02.336Z"
   },
   {
    "duration": 15,
    "start_time": "2025-04-29T20:05:04.354Z"
   },
   {
    "duration": 13,
    "start_time": "2025-04-29T20:05:06.126Z"
   },
   {
    "duration": 13,
    "start_time": "2025-04-29T20:05:08.105Z"
   },
   {
    "duration": 12,
    "start_time": "2025-04-29T20:05:09.825Z"
   },
   {
    "duration": 4,
    "start_time": "2025-04-29T20:05:11.094Z"
   },
   {
    "duration": 27,
    "start_time": "2025-04-29T20:05:13.117Z"
   },
   {
    "duration": 17,
    "start_time": "2025-04-29T20:05:15.053Z"
   },
   {
    "duration": 11,
    "start_time": "2025-04-29T20:05:17.457Z"
   },
   {
    "duration": 7,
    "start_time": "2025-04-29T20:06:39.362Z"
   },
   {
    "duration": 10,
    "start_time": "2025-04-29T20:06:42.163Z"
   },
   {
    "duration": 15,
    "start_time": "2025-04-29T20:07:01.562Z"
   },
   {
    "duration": 11,
    "start_time": "2025-04-29T20:07:13.783Z"
   },
   {
    "duration": 17,
    "start_time": "2025-04-29T20:07:29.131Z"
   },
   {
    "duration": 15,
    "start_time": "2025-04-29T20:07:44.161Z"
   },
   {
    "duration": 17,
    "start_time": "2025-04-29T20:07:58.437Z"
   },
   {
    "duration": 248,
    "start_time": "2025-04-29T20:33:39.636Z"
   },
   {
    "duration": 15,
    "start_time": "2025-04-29T20:33:43.175Z"
   },
   {
    "duration": 15,
    "start_time": "2025-04-29T20:33:56.340Z"
   },
   {
    "duration": 170,
    "start_time": "2025-04-29T20:33:58.263Z"
   },
   {
    "duration": 16,
    "start_time": "2025-04-29T20:34:01.244Z"
   },
   {
    "duration": 305,
    "start_time": "2025-04-29T20:34:15.896Z"
   },
   {
    "duration": 22,
    "start_time": "2025-04-29T20:34:18.601Z"
   },
   {
    "duration": 16,
    "start_time": "2025-04-29T20:34:20.448Z"
   },
   {
    "duration": 958,
    "start_time": "2025-04-29T21:05:14.481Z"
   },
   {
    "duration": 24,
    "start_time": "2025-04-29T21:05:16.782Z"
   },
   {
    "duration": 13,
    "start_time": "2025-04-29T21:05:17.554Z"
   },
   {
    "duration": 16,
    "start_time": "2025-04-29T21:05:19.274Z"
   },
   {
    "duration": 8,
    "start_time": "2025-04-29T21:05:21.144Z"
   },
   {
    "duration": 13,
    "start_time": "2025-04-29T21:05:22.761Z"
   },
   {
    "duration": 4,
    "start_time": "2025-04-29T21:05:24.406Z"
   },
   {
    "duration": 5,
    "start_time": "2025-04-29T21:05:25.475Z"
   },
   {
    "duration": 17,
    "start_time": "2025-04-29T21:05:27.587Z"
   },
   {
    "duration": 27,
    "start_time": "2025-04-29T21:05:29.616Z"
   },
   {
    "duration": 8,
    "start_time": "2025-04-29T21:05:32.072Z"
   },
   {
    "duration": 11,
    "start_time": "2025-04-29T21:05:33.589Z"
   },
   {
    "duration": 37,
    "start_time": "2025-04-29T21:05:34.801Z"
   },
   {
    "duration": 10,
    "start_time": "2025-04-29T21:05:37.493Z"
   },
   {
    "duration": 16,
    "start_time": "2025-04-29T21:05:39.167Z"
   },
   {
    "duration": 15,
    "start_time": "2025-04-29T21:05:40.833Z"
   },
   {
    "duration": 16,
    "start_time": "2025-04-29T21:05:42.676Z"
   },
   {
    "duration": 19,
    "start_time": "2025-04-29T21:05:45.620Z"
   },
   {
    "duration": 8,
    "start_time": "2025-04-29T21:05:47.483Z"
   },
   {
    "duration": 8,
    "start_time": "2025-04-29T21:05:48.967Z"
   },
   {
    "duration": 20,
    "start_time": "2025-04-29T21:05:50.903Z"
   },
   {
    "duration": 13,
    "start_time": "2025-04-29T21:05:52.620Z"
   },
   {
    "duration": 7,
    "start_time": "2025-04-29T21:05:54.516Z"
   },
   {
    "duration": 13,
    "start_time": "2025-04-29T21:05:56.839Z"
   },
   {
    "duration": 185,
    "start_time": "2025-04-29T21:05:58.411Z"
   },
   {
    "duration": 230,
    "start_time": "2025-04-29T21:06:01.231Z"
   },
   {
    "duration": 40,
    "start_time": "2025-04-29T21:06:03.940Z"
   },
   {
    "duration": 20,
    "start_time": "2025-04-29T21:06:57.667Z"
   },
   {
    "duration": 519,
    "start_time": "2025-04-29T21:06:59.971Z"
   },
   {
    "duration": 27,
    "start_time": "2025-04-29T21:07:57.224Z"
   },
   {
    "duration": 263,
    "start_time": "2025-04-29T21:11:49.180Z"
   },
   {
    "duration": 15,
    "start_time": "2025-04-29T21:11:54.030Z"
   },
   {
    "duration": 172,
    "start_time": "2025-04-29T21:11:56.084Z"
   },
   {
    "duration": 17,
    "start_time": "2025-04-29T21:11:58.544Z"
   },
   {
    "duration": 14,
    "start_time": "2025-04-29T21:12:00.637Z"
   },
   {
    "duration": 19,
    "start_time": "2025-04-29T21:12:22.724Z"
   },
   {
    "duration": 19,
    "start_time": "2025-04-29T21:12:33.984Z"
   },
   {
    "duration": 26,
    "start_time": "2025-04-29T21:13:13.119Z"
   },
   {
    "duration": 24,
    "start_time": "2025-04-29T21:15:11.033Z"
   },
   {
    "duration": 20,
    "start_time": "2025-04-29T21:15:12.737Z"
   },
   {
    "duration": 22,
    "start_time": "2025-04-29T21:16:13.025Z"
   },
   {
    "duration": 20,
    "start_time": "2025-04-29T21:16:26.849Z"
   },
   {
    "duration": 20,
    "start_time": "2025-04-29T21:22:01.915Z"
   },
   {
    "duration": 434,
    "start_time": "2025-04-29T21:32:38.265Z"
   },
   {
    "duration": 14,
    "start_time": "2025-04-29T21:35:29.886Z"
   },
   {
    "duration": 35,
    "start_time": "2025-04-29T21:37:24.637Z"
   },
   {
    "duration": 490,
    "start_time": "2025-04-29T21:39:46.188Z"
   },
   {
    "duration": 10,
    "start_time": "2025-04-29T21:40:41.081Z"
   },
   {
    "duration": 237,
    "start_time": "2025-04-29T21:40:43.334Z"
   },
   {
    "duration": 25,
    "start_time": "2025-04-29T21:40:45.807Z"
   },
   {
    "duration": 26,
    "start_time": "2025-04-29T21:40:47.905Z"
   },
   {
    "duration": 16,
    "start_time": "2025-04-29T21:40:50.336Z"
   },
   {
    "duration": 20,
    "start_time": "2025-04-29T21:40:52.522Z"
   },
   {
    "duration": 57,
    "start_time": "2025-04-29T21:40:54.315Z"
   },
   {
    "duration": 586,
    "start_time": "2025-04-29T21:40:59.104Z"
   },
   {
    "duration": 39,
    "start_time": "2025-04-29T21:43:22.646Z"
   },
   {
    "duration": 41,
    "start_time": "2025-04-29T21:43:28.008Z"
   },
   {
    "duration": 475,
    "start_time": "2025-04-29T21:43:30.373Z"
   },
   {
    "duration": 18,
    "start_time": "2025-04-29T21:43:32.317Z"
   },
   {
    "duration": 13,
    "start_time": "2025-04-29T21:43:37.707Z"
   },
   {
    "duration": 139,
    "start_time": "2025-04-29T21:43:39.966Z"
   },
   {
    "duration": 17,
    "start_time": "2025-04-29T21:43:42.563Z"
   },
   {
    "duration": 8,
    "start_time": "2025-04-29T21:43:44.756Z"
   },
   {
    "duration": 19,
    "start_time": "2025-04-29T21:43:47.193Z"
   },
   {
    "duration": 14,
    "start_time": "2025-04-29T21:43:49.050Z"
   },
   {
    "duration": 20,
    "start_time": "2025-04-29T21:43:51.025Z"
   },
   {
    "duration": 197,
    "start_time": "2025-04-29T21:44:30.759Z"
   },
   {
    "duration": 13,
    "start_time": "2025-04-29T21:48:39.543Z"
   },
   {
    "duration": 4,
    "start_time": "2025-04-29T21:50:34.526Z"
   },
   {
    "duration": 6,
    "start_time": "2025-04-29T21:51:00.481Z"
   },
   {
    "duration": 7,
    "start_time": "2025-04-29T21:51:19.290Z"
   },
   {
    "duration": 24,
    "start_time": "2025-04-29T21:51:44.405Z"
   },
   {
    "duration": 208,
    "start_time": "2025-04-29T21:52:38.079Z"
   },
   {
    "duration": 7,
    "start_time": "2025-04-29T21:55:21.639Z"
   },
   {
    "duration": 25,
    "start_time": "2025-04-29T21:55:33.607Z"
   },
   {
    "duration": 14,
    "start_time": "2025-04-29T21:55:38.364Z"
   },
   {
    "duration": 267,
    "start_time": "2025-04-29T21:55:50.938Z"
   },
   {
    "duration": 26,
    "start_time": "2025-04-29T22:06:47.621Z"
   },
   {
    "duration": 4,
    "start_time": "2025-04-29T22:08:11.856Z"
   },
   {
    "duration": 3,
    "start_time": "2025-04-29T22:08:49.157Z"
   },
   {
    "duration": 4,
    "start_time": "2025-04-29T22:08:58.005Z"
   },
   {
    "duration": 6,
    "start_time": "2025-04-29T22:09:10.241Z"
   },
   {
    "duration": 18,
    "start_time": "2025-04-29T22:11:50.961Z"
   },
   {
    "duration": 18,
    "start_time": "2025-04-29T22:12:40.236Z"
   },
   {
    "duration": 256,
    "start_time": "2025-04-29T22:12:43.495Z"
   },
   {
    "duration": 6,
    "start_time": "2025-04-29T22:20:22.330Z"
   },
   {
    "duration": 2,
    "start_time": "2025-04-29T23:18:55.827Z"
   },
   {
    "duration": 19,
    "start_time": "2025-04-29T23:21:38.581Z"
   },
   {
    "duration": 18,
    "start_time": "2025-04-29T23:21:54.368Z"
   },
   {
    "duration": 16,
    "start_time": "2025-04-29T23:25:02.581Z"
   },
   {
    "duration": 13,
    "start_time": "2025-04-29T23:25:31.842Z"
   },
   {
    "duration": 8,
    "start_time": "2025-04-29T23:25:59.731Z"
   },
   {
    "duration": 8,
    "start_time": "2025-04-29T23:26:51.858Z"
   },
   {
    "duration": 147,
    "start_time": "2025-04-29T23:27:30.822Z"
   },
   {
    "duration": 144,
    "start_time": "2025-04-29T23:29:07.380Z"
   },
   {
    "duration": 573,
    "start_time": "2025-04-29T23:30:03.561Z"
   },
   {
    "duration": 71,
    "start_time": "2025-04-29T23:30:38.907Z"
   },
   {
    "duration": 159,
    "start_time": "2025-04-29T23:30:56.940Z"
   },
   {
    "duration": 180,
    "start_time": "2025-04-29T23:31:28.905Z"
   },
   {
    "duration": 182,
    "start_time": "2025-04-29T23:32:01.583Z"
   },
   {
    "duration": 183,
    "start_time": "2025-04-29T23:32:23.676Z"
   },
   {
    "duration": 225,
    "start_time": "2025-04-29T23:33:16.672Z"
   },
   {
    "duration": 319,
    "start_time": "2025-04-29T23:33:46.566Z"
   },
   {
    "duration": 430,
    "start_time": "2025-04-29T23:34:03.128Z"
   },
   {
    "duration": 159,
    "start_time": "2025-04-29T23:34:11.530Z"
   },
   {
    "duration": 159,
    "start_time": "2025-04-29T23:35:09.944Z"
   },
   {
    "duration": 167,
    "start_time": "2025-04-29T23:35:41.211Z"
   },
   {
    "duration": 271,
    "start_time": "2025-04-29T23:36:52.823Z"
   },
   {
    "duration": 159,
    "start_time": "2025-04-29T23:38:53.630Z"
   },
   {
    "duration": 152,
    "start_time": "2025-04-29T23:39:46.952Z"
   },
   {
    "duration": 247,
    "start_time": "2025-04-29T23:40:20.681Z"
   },
   {
    "duration": 5,
    "start_time": "2025-04-29T23:42:34.093Z"
   },
   {
    "duration": 13,
    "start_time": "2025-04-29T23:44:31.964Z"
   },
   {
    "duration": 11,
    "start_time": "2025-04-29T23:44:33.947Z"
   },
   {
    "duration": 12,
    "start_time": "2025-04-29T23:44:35.097Z"
   },
   {
    "duration": 7,
    "start_time": "2025-04-29T23:44:46.291Z"
   },
   {
    "duration": 9,
    "start_time": "2025-04-29T23:45:06.353Z"
   },
   {
    "duration": 11,
    "start_time": "2025-04-29T23:45:07.467Z"
   },
   {
    "duration": 11,
    "start_time": "2025-04-29T23:45:09.024Z"
   },
   {
    "duration": 11,
    "start_time": "2025-04-29T23:46:34.555Z"
   },
   {
    "duration": 14,
    "start_time": "2025-04-29T23:46:42.215Z"
   },
   {
    "duration": 10,
    "start_time": "2025-04-29T23:48:53.534Z"
   },
   {
    "duration": 16,
    "start_time": "2025-04-29T23:49:04.950Z"
   },
   {
    "duration": 142,
    "start_time": "2025-04-29T23:49:42.317Z"
   },
   {
    "duration": 3,
    "start_time": "2025-04-29T23:50:08.562Z"
   },
   {
    "duration": 15,
    "start_time": "2025-04-29T23:51:02.825Z"
   },
   {
    "duration": 52,
    "start_time": "2025-04-29T23:51:22.610Z"
   },
   {
    "duration": 18,
    "start_time": "2025-04-29T23:51:37.873Z"
   },
   {
    "duration": 15,
    "start_time": "2025-04-29T23:51:48.667Z"
   },
   {
    "duration": 16,
    "start_time": "2025-04-29T23:52:49.831Z"
   },
   {
    "duration": 149,
    "start_time": "2025-04-29T23:53:12.433Z"
   },
   {
    "duration": 43,
    "start_time": "2025-04-30T00:02:28.602Z"
   },
   {
    "duration": 122,
    "start_time": "2025-04-30T00:05:36.629Z"
   },
   {
    "duration": 36,
    "start_time": "2025-04-30T00:05:55.542Z"
   },
   {
    "duration": 33,
    "start_time": "2025-04-30T00:06:47.500Z"
   },
   {
    "duration": 4,
    "start_time": "2025-04-30T00:07:21.606Z"
   },
   {
    "duration": 17,
    "start_time": "2025-04-30T00:07:27.749Z"
   },
   {
    "duration": 36,
    "start_time": "2025-04-30T00:07:55.209Z"
   },
   {
    "duration": 11,
    "start_time": "2025-04-30T00:10:21.001Z"
   },
   {
    "duration": 17,
    "start_time": "2025-04-30T00:14:16.408Z"
   },
   {
    "duration": 12,
    "start_time": "2025-04-30T00:15:07.938Z"
   },
   {
    "duration": 12,
    "start_time": "2025-04-30T00:17:10.745Z"
   },
   {
    "duration": 11,
    "start_time": "2025-04-30T00:17:20.598Z"
   },
   {
    "duration": 6,
    "start_time": "2025-04-30T00:22:07.320Z"
   },
   {
    "duration": 13,
    "start_time": "2025-04-30T00:22:15.021Z"
   },
   {
    "duration": 21,
    "start_time": "2025-04-30T00:23:33.911Z"
   },
   {
    "duration": 10,
    "start_time": "2025-04-30T00:24:05.753Z"
   },
   {
    "duration": 12,
    "start_time": "2025-04-30T00:25:17.419Z"
   },
   {
    "duration": 13,
    "start_time": "2025-04-30T00:28:15.501Z"
   },
   {
    "duration": 11,
    "start_time": "2025-04-30T00:29:28.588Z"
   },
   {
    "duration": 19,
    "start_time": "2025-04-30T00:30:44.638Z"
   },
   {
    "duration": 12,
    "start_time": "2025-04-30T00:31:05.887Z"
   },
   {
    "duration": 11,
    "start_time": "2025-04-30T00:38:36.129Z"
   },
   {
    "duration": 11,
    "start_time": "2025-04-30T00:39:11.854Z"
   },
   {
    "duration": 10,
    "start_time": "2025-04-30T00:39:12.525Z"
   },
   {
    "duration": 11,
    "start_time": "2025-04-30T00:39:14.758Z"
   },
   {
    "duration": 10,
    "start_time": "2025-04-30T00:39:16.678Z"
   },
   {
    "duration": 11,
    "start_time": "2025-04-30T00:39:18.868Z"
   },
   {
    "duration": 11,
    "start_time": "2025-04-30T00:40:03.087Z"
   },
   {
    "duration": 12,
    "start_time": "2025-04-30T00:40:05.621Z"
   },
   {
    "duration": 11,
    "start_time": "2025-04-30T00:40:07.191Z"
   },
   {
    "duration": 11,
    "start_time": "2025-04-30T00:41:31.388Z"
   },
   {
    "duration": 14,
    "start_time": "2025-04-30T00:41:38.019Z"
   },
   {
    "duration": 11,
    "start_time": "2025-04-30T00:41:43.255Z"
   },
   {
    "duration": 12,
    "start_time": "2025-04-30T00:41:49.211Z"
   },
   {
    "duration": 11,
    "start_time": "2025-04-30T00:41:54.280Z"
   },
   {
    "duration": 12,
    "start_time": "2025-04-30T00:41:58.391Z"
   },
   {
    "duration": 12,
    "start_time": "2025-04-30T00:42:05.696Z"
   },
   {
    "duration": 12,
    "start_time": "2025-04-30T00:42:07.293Z"
   },
   {
    "duration": 12,
    "start_time": "2025-04-30T00:42:08.803Z"
   },
   {
    "duration": 13,
    "start_time": "2025-04-30T00:42:10.946Z"
   },
   {
    "duration": 11,
    "start_time": "2025-04-30T00:42:12.504Z"
   },
   {
    "duration": 12,
    "start_time": "2025-04-30T00:42:14.506Z"
   },
   {
    "duration": 11,
    "start_time": "2025-04-30T00:42:42.696Z"
   },
   {
    "duration": 12,
    "start_time": "2025-04-30T00:42:56.508Z"
   },
   {
    "duration": 12,
    "start_time": "2025-04-30T00:43:21.070Z"
   },
   {
    "duration": 11,
    "start_time": "2025-04-30T00:43:22.547Z"
   },
   {
    "duration": 11,
    "start_time": "2025-04-30T00:43:24.300Z"
   },
   {
    "duration": 11,
    "start_time": "2025-04-30T00:43:25.517Z"
   },
   {
    "duration": 244,
    "start_time": "2025-04-30T00:54:29.672Z"
   },
   {
    "duration": 157,
    "start_time": "2025-04-30T00:55:42.013Z"
   },
   {
    "duration": 801,
    "start_time": "2025-04-30T01:09:26.634Z"
   },
   {
    "duration": 27,
    "start_time": "2025-04-30T01:09:27.924Z"
   },
   {
    "duration": 12,
    "start_time": "2025-04-30T01:09:28.607Z"
   },
   {
    "duration": 15,
    "start_time": "2025-04-30T01:09:30.301Z"
   },
   {
    "duration": 8,
    "start_time": "2025-04-30T01:09:31.679Z"
   },
   {
    "duration": 11,
    "start_time": "2025-04-30T01:09:33.005Z"
   },
   {
    "duration": 4,
    "start_time": "2025-04-30T01:09:34.666Z"
   },
   {
    "duration": 4,
    "start_time": "2025-04-30T01:09:36.069Z"
   },
   {
    "duration": 18,
    "start_time": "2025-04-30T01:09:38.226Z"
   },
   {
    "duration": 14,
    "start_time": "2025-04-30T01:09:39.926Z"
   },
   {
    "duration": 8,
    "start_time": "2025-04-30T01:09:41.957Z"
   },
   {
    "duration": 11,
    "start_time": "2025-04-30T01:09:43.390Z"
   },
   {
    "duration": 17,
    "start_time": "2025-04-30T01:09:44.676Z"
   },
   {
    "duration": 10,
    "start_time": "2025-04-30T01:09:46.113Z"
   },
   {
    "duration": 15,
    "start_time": "2025-04-30T01:09:47.699Z"
   },
   {
    "duration": 15,
    "start_time": "2025-04-30T01:09:48.877Z"
   },
   {
    "duration": 17,
    "start_time": "2025-04-30T01:09:50.453Z"
   },
   {
    "duration": 22,
    "start_time": "2025-04-30T01:09:53.549Z"
   },
   {
    "duration": 9,
    "start_time": "2025-04-30T01:09:55.140Z"
   },
   {
    "duration": 7,
    "start_time": "2025-04-30T01:09:56.986Z"
   },
   {
    "duration": 9,
    "start_time": "2025-04-30T01:09:58.126Z"
   },
   {
    "duration": 10,
    "start_time": "2025-04-30T01:09:59.186Z"
   },
   {
    "duration": 4,
    "start_time": "2025-04-30T01:10:00.938Z"
   },
   {
    "duration": 13,
    "start_time": "2025-04-30T01:10:02.797Z"
   },
   {
    "duration": 136,
    "start_time": "2025-04-30T01:10:04.540Z"
   },
   {
    "duration": 179,
    "start_time": "2025-04-30T01:10:06.569Z"
   },
   {
    "duration": 43,
    "start_time": "2025-04-30T01:10:09.117Z"
   },
   {
    "duration": 21,
    "start_time": "2025-04-30T01:10:11.682Z"
   },
   {
    "duration": 475,
    "start_time": "2025-04-30T01:10:14.157Z"
   },
   {
    "duration": 12,
    "start_time": "2025-04-30T01:10:18.209Z"
   },
   {
    "duration": 9,
    "start_time": "2025-04-30T01:10:21.205Z"
   },
   {
    "duration": 122,
    "start_time": "2025-04-30T01:10:23.074Z"
   },
   {
    "duration": 16,
    "start_time": "2025-04-30T01:10:25.318Z"
   },
   {
    "duration": 9,
    "start_time": "2025-04-30T01:10:27.352Z"
   },
   {
    "duration": 18,
    "start_time": "2025-04-30T01:10:29.458Z"
   },
   {
    "duration": 15,
    "start_time": "2025-04-30T01:10:30.932Z"
   },
   {
    "duration": 14,
    "start_time": "2025-04-30T01:10:32.808Z"
   },
   {
    "duration": 3,
    "start_time": "2025-04-30T01:10:33.809Z"
   },
   {
    "duration": 12,
    "start_time": "2025-04-30T01:10:34.558Z"
   },
   {
    "duration": 148,
    "start_time": "2025-04-30T01:10:37.085Z"
   },
   {
    "duration": 6,
    "start_time": "2025-04-30T01:10:39.330Z"
   },
   {
    "duration": 18,
    "start_time": "2025-04-30T01:10:41.224Z"
   },
   {
    "duration": 198,
    "start_time": "2025-04-30T01:10:42.875Z"
   },
   {
    "duration": 13,
    "start_time": "2025-04-30T01:10:44.781Z"
   },
   {
    "duration": 287,
    "start_time": "2025-04-30T01:10:46.105Z"
   },
   {
    "duration": 43,
    "start_time": "2025-04-30T01:10:48.236Z"
   },
   {
    "duration": 161,
    "start_time": "2025-04-30T01:10:49.882Z"
   },
   {
    "duration": 12,
    "start_time": "2025-04-30T01:10:52.915Z"
   },
   {
    "duration": 11,
    "start_time": "2025-04-30T01:10:54.704Z"
   },
   {
    "duration": 11,
    "start_time": "2025-04-30T01:10:56.924Z"
   },
   {
    "duration": 11,
    "start_time": "2025-04-30T01:10:58.428Z"
   },
   {
    "duration": 13,
    "start_time": "2025-04-30T01:11:00.016Z"
   },
   {
    "duration": 12,
    "start_time": "2025-04-30T01:11:01.309Z"
   },
   {
    "duration": 16,
    "start_time": "2025-04-30T01:11:03.079Z"
   },
   {
    "duration": 7,
    "start_time": "2025-04-30T01:11:04.446Z"
   },
   {
    "duration": 353,
    "start_time": "2025-04-30T01:11:05.175Z"
   },
   {
    "duration": 7,
    "start_time": "2025-04-30T01:11:08.727Z"
   },
   {
    "duration": 8,
    "start_time": "2025-04-30T01:11:10.168Z"
   },
   {
    "duration": 2571,
    "start_time": "2025-04-30T17:44:19.204Z"
   },
   {
    "duration": 35,
    "start_time": "2025-04-30T17:44:22.077Z"
   },
   {
    "duration": 12,
    "start_time": "2025-04-30T17:44:23.075Z"
   },
   {
    "duration": 15,
    "start_time": "2025-04-30T17:44:26.553Z"
   },
   {
    "duration": 8,
    "start_time": "2025-04-30T17:44:28.211Z"
   },
   {
    "duration": 11,
    "start_time": "2025-04-30T17:44:29.639Z"
   },
   {
    "duration": 3,
    "start_time": "2025-04-30T17:44:31.430Z"
   },
   {
    "duration": 5,
    "start_time": "2025-04-30T17:44:32.253Z"
   },
   {
    "duration": 16,
    "start_time": "2025-04-30T17:44:33.779Z"
   },
   {
    "duration": 13,
    "start_time": "2025-04-30T17:44:35.902Z"
   },
   {
    "duration": 8,
    "start_time": "2025-04-30T17:44:38.020Z"
   },
   {
    "duration": 11,
    "start_time": "2025-04-30T17:44:39.540Z"
   },
   {
    "duration": 17,
    "start_time": "2025-04-30T17:44:41.530Z"
   },
   {
    "duration": 10,
    "start_time": "2025-04-30T17:44:43.097Z"
   },
   {
    "duration": 15,
    "start_time": "2025-04-30T17:44:44.422Z"
   },
   {
    "duration": 17,
    "start_time": "2025-04-30T17:44:46.038Z"
   },
   {
    "duration": 16,
    "start_time": "2025-04-30T17:44:47.599Z"
   },
   {
    "duration": 17,
    "start_time": "2025-04-30T17:44:50.701Z"
   },
   {
    "duration": 9,
    "start_time": "2025-04-30T17:44:52.987Z"
   },
   {
    "duration": 9,
    "start_time": "2025-04-30T17:44:54.567Z"
   },
   {
    "duration": 9,
    "start_time": "2025-04-30T17:44:56.450Z"
   },
   {
    "duration": 8,
    "start_time": "2025-04-30T17:44:57.852Z"
   },
   {
    "duration": 4,
    "start_time": "2025-04-30T17:45:00.974Z"
   },
   {
    "duration": 14,
    "start_time": "2025-04-30T17:45:02.900Z"
   },
   {
    "duration": 142,
    "start_time": "2025-04-30T17:45:04.738Z"
   },
   {
    "duration": 184,
    "start_time": "2025-04-30T17:45:07.485Z"
   },
   {
    "duration": 41,
    "start_time": "2025-04-30T17:45:09.947Z"
   },
   {
    "duration": 21,
    "start_time": "2025-04-30T17:45:12.082Z"
   },
   {
    "duration": 476,
    "start_time": "2025-04-30T17:45:14.783Z"
   },
   {
    "duration": 14,
    "start_time": "2025-04-30T17:45:17.717Z"
   },
   {
    "duration": 11,
    "start_time": "2025-04-30T17:45:21.562Z"
   },
   {
    "duration": 189,
    "start_time": "2025-04-30T17:45:24.449Z"
   },
   {
    "duration": 21,
    "start_time": "2025-04-30T17:45:26.369Z"
   },
   {
    "duration": 10,
    "start_time": "2025-04-30T17:45:28.988Z"
   },
   {
    "duration": 21,
    "start_time": "2025-04-30T17:45:31.330Z"
   },
   {
    "duration": 14,
    "start_time": "2025-04-30T17:45:33.029Z"
   },
   {
    "duration": 15,
    "start_time": "2025-04-30T17:45:34.928Z"
   },
   {
    "duration": 3,
    "start_time": "2025-04-30T17:45:36.723Z"
   },
   {
    "duration": 12,
    "start_time": "2025-04-30T17:45:37.565Z"
   },
   {
    "duration": 147,
    "start_time": "2025-04-30T17:45:39.587Z"
   },
   {
    "duration": 5,
    "start_time": "2025-04-30T17:45:42.911Z"
   },
   {
    "duration": 18,
    "start_time": "2025-04-30T17:45:45.441Z"
   },
   {
    "duration": 196,
    "start_time": "2025-04-30T17:45:46.907Z"
   },
   {
    "duration": 13,
    "start_time": "2025-04-30T17:45:49.094Z"
   },
   {
    "duration": 239,
    "start_time": "2025-04-30T17:45:50.587Z"
   },
   {
    "duration": 45,
    "start_time": "2025-04-30T17:45:52.620Z"
   },
   {
    "duration": 154,
    "start_time": "2025-04-30T17:45:54.193Z"
   },
   {
    "duration": 12,
    "start_time": "2025-04-30T17:45:57.856Z"
   },
   {
    "duration": 12,
    "start_time": "2025-04-30T17:45:59.216Z"
   },
   {
    "duration": 17,
    "start_time": "2025-04-30T17:46:00.997Z"
   },
   {
    "duration": 11,
    "start_time": "2025-04-30T17:46:02.881Z"
   },
   {
    "duration": 11,
    "start_time": "2025-04-30T17:46:04.311Z"
   },
   {
    "duration": 18,
    "start_time": "2025-04-30T17:46:05.822Z"
   },
   {
    "duration": 13,
    "start_time": "2025-04-30T17:46:07.191Z"
   },
   {
    "duration": 11,
    "start_time": "2025-04-30T17:46:09.243Z"
   },
   {
    "duration": 358,
    "start_time": "2025-04-30T17:46:09.990Z"
   },
   {
    "duration": 7,
    "start_time": "2025-04-30T17:46:13.560Z"
   },
   {
    "duration": 8,
    "start_time": "2025-04-30T17:46:15.562Z"
   },
   {
    "duration": 551,
    "start_time": "2025-04-30T17:48:24.681Z"
   },
   {
    "duration": 330,
    "start_time": "2025-04-30T17:48:39.698Z"
   },
   {
    "duration": 44,
    "start_time": "2025-04-30T17:50:37.653Z"
   },
   {
    "duration": 13,
    "start_time": "2025-04-30T18:10:12.208Z"
   },
   {
    "duration": 12,
    "start_time": "2025-04-30T18:10:17.321Z"
   },
   {
    "duration": 18,
    "start_time": "2025-04-30T18:12:11.999Z"
   },
   {
    "duration": 13,
    "start_time": "2025-04-30T18:12:38.757Z"
   },
   {
    "duration": 9,
    "start_time": "2025-04-30T18:12:47.034Z"
   },
   {
    "duration": 301,
    "start_time": "2025-04-30T18:12:48.330Z"
   },
   {
    "duration": 15,
    "start_time": "2025-04-30T19:38:01.422Z"
   },
   {
    "duration": 22,
    "start_time": "2025-04-30T19:42:50.792Z"
   },
   {
    "duration": 8,
    "start_time": "2025-04-30T19:43:22.405Z"
   },
   {
    "duration": 120,
    "start_time": "2025-04-30T19:43:29.818Z"
   },
   {
    "duration": 17,
    "start_time": "2025-04-30T19:43:39.021Z"
   },
   {
    "duration": 11,
    "start_time": "2025-04-30T19:44:05.377Z"
   },
   {
    "duration": 9,
    "start_time": "2025-04-30T19:44:16.935Z"
   },
   {
    "duration": 20,
    "start_time": "2025-04-30T19:45:07.758Z"
   },
   {
    "duration": 14,
    "start_time": "2025-04-30T19:45:10.928Z"
   },
   {
    "duration": 17,
    "start_time": "2025-04-30T19:48:21.378Z"
   },
   {
    "duration": 18,
    "start_time": "2025-04-30T19:48:46.148Z"
   },
   {
    "duration": 4,
    "start_time": "2025-04-30T19:48:50.555Z"
   },
   {
    "duration": 38,
    "start_time": "2025-04-30T19:48:52.925Z"
   },
   {
    "duration": 146,
    "start_time": "2025-04-30T19:49:03.384Z"
   },
   {
    "duration": 18,
    "start_time": "2025-04-30T19:49:29.098Z"
   },
   {
    "duration": 18,
    "start_time": "2025-04-30T19:49:30.836Z"
   },
   {
    "duration": 3,
    "start_time": "2025-04-30T19:49:32.447Z"
   },
   {
    "duration": 145,
    "start_time": "2025-04-30T19:49:33.669Z"
   },
   {
    "duration": 810,
    "start_time": "2025-04-30T19:50:32.406Z"
   },
   {
    "duration": 29,
    "start_time": "2025-04-30T19:50:33.219Z"
   },
   {
    "duration": 12,
    "start_time": "2025-04-30T19:50:33.966Z"
   },
   {
    "duration": 15,
    "start_time": "2025-04-30T19:50:35.454Z"
   },
   {
    "duration": 8,
    "start_time": "2025-04-30T19:50:37.067Z"
   },
   {
    "duration": 11,
    "start_time": "2025-04-30T19:50:38.436Z"
   },
   {
    "duration": 4,
    "start_time": "2025-04-30T19:50:40.683Z"
   },
   {
    "duration": 5,
    "start_time": "2025-04-30T19:50:41.916Z"
   },
   {
    "duration": 17,
    "start_time": "2025-04-30T19:50:43.644Z"
   },
   {
    "duration": 13,
    "start_time": "2025-04-30T19:50:45.297Z"
   },
   {
    "duration": 8,
    "start_time": "2025-04-30T19:50:47.279Z"
   },
   {
    "duration": 11,
    "start_time": "2025-04-30T19:50:48.491Z"
   },
   {
    "duration": 16,
    "start_time": "2025-04-30T19:50:49.400Z"
   },
   {
    "duration": 11,
    "start_time": "2025-04-30T19:50:50.757Z"
   },
   {
    "duration": 16,
    "start_time": "2025-04-30T19:50:51.899Z"
   },
   {
    "duration": 16,
    "start_time": "2025-04-30T19:50:54.055Z"
   },
   {
    "duration": 17,
    "start_time": "2025-04-30T19:50:55.867Z"
   },
   {
    "duration": 18,
    "start_time": "2025-04-30T19:50:58.506Z"
   },
   {
    "duration": 9,
    "start_time": "2025-04-30T19:51:01.257Z"
   },
   {
    "duration": 8,
    "start_time": "2025-04-30T19:51:02.245Z"
   },
   {
    "duration": 10,
    "start_time": "2025-04-30T19:51:03.518Z"
   },
   {
    "duration": 9,
    "start_time": "2025-04-30T19:51:04.590Z"
   },
   {
    "duration": 5,
    "start_time": "2025-04-30T19:51:06.071Z"
   },
   {
    "duration": 16,
    "start_time": "2025-04-30T19:51:07.977Z"
   },
   {
    "duration": 142,
    "start_time": "2025-04-30T19:51:09.138Z"
   },
   {
    "duration": 186,
    "start_time": "2025-04-30T19:51:11.522Z"
   },
   {
    "duration": 41,
    "start_time": "2025-04-30T19:51:13.839Z"
   },
   {
    "duration": 21,
    "start_time": "2025-04-30T19:51:16.060Z"
   },
   {
    "duration": 510,
    "start_time": "2025-04-30T19:51:18.445Z"
   },
   {
    "duration": 12,
    "start_time": "2025-04-30T19:51:21.303Z"
   },
   {
    "duration": 17,
    "start_time": "2025-04-30T19:51:28.439Z"
   },
   {
    "duration": 8,
    "start_time": "2025-04-30T19:51:30.554Z"
   },
   {
    "duration": 123,
    "start_time": "2025-04-30T19:51:31.889Z"
   },
   {
    "duration": 11,
    "start_time": "2025-04-30T19:51:33.589Z"
   },
   {
    "duration": 9,
    "start_time": "2025-04-30T19:51:34.969Z"
   },
   {
    "duration": 18,
    "start_time": "2025-04-30T19:51:41.344Z"
   },
   {
    "duration": 16,
    "start_time": "2025-04-30T19:51:42.779Z"
   },
   {
    "duration": 18,
    "start_time": "2025-04-30T19:51:44.515Z"
   },
   {
    "duration": 17,
    "start_time": "2025-04-30T19:51:46.210Z"
   },
   {
    "duration": 3,
    "start_time": "2025-04-30T19:51:47.894Z"
   },
   {
    "duration": 220,
    "start_time": "2025-04-30T19:51:48.696Z"
   },
   {
    "duration": 242,
    "start_time": "2025-04-30T19:52:22.686Z"
   },
   {
    "duration": 250,
    "start_time": "2025-04-30T19:53:29.349Z"
   },
   {
    "duration": 358,
    "start_time": "2025-04-30T19:53:55.966Z"
   },
   {
    "duration": 309,
    "start_time": "2025-04-30T19:54:10.176Z"
   },
   {
    "duration": 301,
    "start_time": "2025-04-30T19:54:46.041Z"
   },
   {
    "duration": 39,
    "start_time": "2025-04-30T19:56:16.002Z"
   },
   {
    "duration": 6,
    "start_time": "2025-04-30T19:58:50.980Z"
   },
   {
    "duration": 3,
    "start_time": "2025-04-30T20:01:28.121Z"
   },
   {
    "duration": 2,
    "start_time": "2025-04-30T20:01:30.142Z"
   },
   {
    "duration": 24,
    "start_time": "2025-04-30T20:01:30.983Z"
   },
   {
    "duration": 5,
    "start_time": "2025-04-30T20:02:16.047Z"
   },
   {
    "duration": 13,
    "start_time": "2025-04-30T20:03:26.003Z"
   },
   {
    "duration": 305,
    "start_time": "2025-04-30T20:03:28.381Z"
   },
   {
    "duration": 249,
    "start_time": "2025-04-30T20:05:41.755Z"
   },
   {
    "duration": 408,
    "start_time": "2025-04-30T20:06:12.643Z"
   },
   {
    "duration": 347,
    "start_time": "2025-04-30T20:06:24.173Z"
   },
   {
    "duration": 12,
    "start_time": "2025-04-30T20:06:26.419Z"
   },
   {
    "duration": 325,
    "start_time": "2025-04-30T20:06:31.811Z"
   },
   {
    "duration": 320,
    "start_time": "2025-04-30T20:06:38.991Z"
   },
   {
    "duration": 1777,
    "start_time": "2025-05-01T11:35:32.937Z"
   },
   {
    "duration": 34,
    "start_time": "2025-05-01T11:35:34.717Z"
   },
   {
    "duration": 12,
    "start_time": "2025-05-01T11:35:34.753Z"
   },
   {
    "duration": 17,
    "start_time": "2025-05-01T11:35:34.766Z"
   },
   {
    "duration": 6,
    "start_time": "2025-05-01T11:35:34.786Z"
   },
   {
    "duration": 11,
    "start_time": "2025-05-01T11:35:34.794Z"
   },
   {
    "duration": 4,
    "start_time": "2025-05-01T11:35:34.806Z"
   },
   {
    "duration": 5,
    "start_time": "2025-05-01T11:35:34.811Z"
   },
   {
    "duration": 16,
    "start_time": "2025-05-01T11:35:34.817Z"
   },
   {
    "duration": 45,
    "start_time": "2025-05-01T11:35:34.835Z"
   },
   {
    "duration": 6,
    "start_time": "2025-05-01T11:35:34.882Z"
   },
   {
    "duration": 11,
    "start_time": "2025-05-01T11:35:34.890Z"
   },
   {
    "duration": 16,
    "start_time": "2025-05-01T11:35:34.903Z"
   },
   {
    "duration": 11,
    "start_time": "2025-05-01T11:35:34.922Z"
   },
   {
    "duration": 48,
    "start_time": "2025-05-01T11:35:34.935Z"
   },
   {
    "duration": 15,
    "start_time": "2025-05-01T11:35:34.985Z"
   },
   {
    "duration": 15,
    "start_time": "2025-05-01T11:35:35.002Z"
   },
   {
    "duration": 12,
    "start_time": "2025-05-01T11:35:35.018Z"
   },
   {
    "duration": 9,
    "start_time": "2025-05-01T11:35:35.031Z"
   },
   {
    "duration": 8,
    "start_time": "2025-05-01T11:35:35.070Z"
   },
   {
    "duration": 9,
    "start_time": "2025-05-01T11:35:35.079Z"
   },
   {
    "duration": 8,
    "start_time": "2025-05-01T11:35:35.089Z"
   },
   {
    "duration": 6,
    "start_time": "2025-05-01T11:35:35.098Z"
   },
   {
    "duration": 12,
    "start_time": "2025-05-01T11:35:35.105Z"
   },
   {
    "duration": 162,
    "start_time": "2025-05-01T11:35:35.119Z"
   },
   {
    "duration": 187,
    "start_time": "2025-05-01T11:35:35.283Z"
   },
   {
    "duration": 41,
    "start_time": "2025-05-01T11:35:35.471Z"
   },
   {
    "duration": 21,
    "start_time": "2025-05-01T11:35:35.514Z"
   },
   {
    "duration": 515,
    "start_time": "2025-05-01T11:35:35.537Z"
   },
   {
    "duration": 18,
    "start_time": "2025-05-01T11:35:36.053Z"
   },
   {
    "duration": 17,
    "start_time": "2025-05-01T11:35:36.073Z"
   },
   {
    "duration": 9,
    "start_time": "2025-05-01T11:35:36.091Z"
   },
   {
    "duration": 140,
    "start_time": "2025-05-01T11:35:36.101Z"
   },
   {
    "duration": 10,
    "start_time": "2025-05-01T11:35:36.243Z"
   },
   {
    "duration": 14,
    "start_time": "2025-05-01T11:35:36.255Z"
   },
   {
    "duration": 628,
    "start_time": "2025-05-01T11:35:36.271Z"
   },
   {
    "duration": 0,
    "start_time": "2025-05-01T11:35:36.902Z"
   },
   {
    "duration": 0,
    "start_time": "2025-05-01T11:35:36.903Z"
   },
   {
    "duration": 0,
    "start_time": "2025-05-01T11:35:36.904Z"
   },
   {
    "duration": 0,
    "start_time": "2025-05-01T11:35:36.905Z"
   },
   {
    "duration": 0,
    "start_time": "2025-05-01T11:35:36.905Z"
   },
   {
    "duration": 0,
    "start_time": "2025-05-01T11:35:36.906Z"
   },
   {
    "duration": 0,
    "start_time": "2025-05-01T11:35:36.908Z"
   },
   {
    "duration": 0,
    "start_time": "2025-05-01T11:35:36.910Z"
   },
   {
    "duration": 0,
    "start_time": "2025-05-01T11:35:36.911Z"
   },
   {
    "duration": 0,
    "start_time": "2025-05-01T11:35:36.912Z"
   },
   {
    "duration": 0,
    "start_time": "2025-05-01T11:35:36.913Z"
   },
   {
    "duration": 0,
    "start_time": "2025-05-01T11:35:36.914Z"
   },
   {
    "duration": 0,
    "start_time": "2025-05-01T11:35:36.915Z"
   },
   {
    "duration": 0,
    "start_time": "2025-05-01T11:35:36.916Z"
   },
   {
    "duration": 0,
    "start_time": "2025-05-01T11:35:36.917Z"
   },
   {
    "duration": 0,
    "start_time": "2025-05-01T11:35:36.918Z"
   },
   {
    "duration": 0,
    "start_time": "2025-05-01T11:35:36.919Z"
   },
   {
    "duration": 0,
    "start_time": "2025-05-01T11:35:36.920Z"
   },
   {
    "duration": 0,
    "start_time": "2025-05-01T11:35:36.921Z"
   },
   {
    "duration": 0,
    "start_time": "2025-05-01T11:35:36.922Z"
   },
   {
    "duration": 0,
    "start_time": "2025-05-01T11:35:36.923Z"
   },
   {
    "duration": 0,
    "start_time": "2025-05-01T11:35:36.924Z"
   },
   {
    "duration": 0,
    "start_time": "2025-05-01T11:35:36.925Z"
   },
   {
    "duration": 0,
    "start_time": "2025-05-01T11:35:36.926Z"
   },
   {
    "duration": 0,
    "start_time": "2025-05-01T11:35:36.927Z"
   },
   {
    "duration": 41,
    "start_time": "2025-05-01T11:46:31.439Z"
   },
   {
    "duration": 13,
    "start_time": "2025-05-01T11:48:56.440Z"
   },
   {
    "duration": 18,
    "start_time": "2025-05-01T11:48:56.455Z"
   },
   {
    "duration": 13,
    "start_time": "2025-05-01T11:48:56.475Z"
   },
   {
    "duration": 16,
    "start_time": "2025-05-01T11:48:56.490Z"
   },
   {
    "duration": 16,
    "start_time": "2025-05-01T11:48:56.509Z"
   },
   {
    "duration": 346,
    "start_time": "2025-05-01T11:48:56.526Z"
   },
   {
    "duration": 13,
    "start_time": "2025-05-01T11:48:56.874Z"
   },
   {
    "duration": 0,
    "start_time": "2025-05-01T11:48:56.889Z"
   },
   {
    "duration": 0,
    "start_time": "2025-05-01T11:48:56.890Z"
   },
   {
    "duration": 0,
    "start_time": "2025-05-01T11:48:56.892Z"
   },
   {
    "duration": 1,
    "start_time": "2025-05-01T11:48:56.893Z"
   },
   {
    "duration": 0,
    "start_time": "2025-05-01T11:48:56.895Z"
   },
   {
    "duration": 0,
    "start_time": "2025-05-01T11:48:56.897Z"
   },
   {
    "duration": 0,
    "start_time": "2025-05-01T11:48:56.898Z"
   },
   {
    "duration": 0,
    "start_time": "2025-05-01T11:48:56.900Z"
   },
   {
    "duration": 0,
    "start_time": "2025-05-01T11:48:56.901Z"
   },
   {
    "duration": 0,
    "start_time": "2025-05-01T11:48:56.902Z"
   },
   {
    "duration": 0,
    "start_time": "2025-05-01T11:48:56.903Z"
   },
   {
    "duration": 0,
    "start_time": "2025-05-01T11:48:56.904Z"
   },
   {
    "duration": 0,
    "start_time": "2025-05-01T11:48:56.905Z"
   },
   {
    "duration": 0,
    "start_time": "2025-05-01T11:48:56.906Z"
   },
   {
    "duration": 0,
    "start_time": "2025-05-01T11:48:56.908Z"
   },
   {
    "duration": 0,
    "start_time": "2025-05-01T11:48:56.909Z"
   },
   {
    "duration": 0,
    "start_time": "2025-05-01T11:48:56.910Z"
   },
   {
    "duration": 0,
    "start_time": "2025-05-01T11:48:56.911Z"
   },
   {
    "duration": 19,
    "start_time": "2025-05-01T11:49:50.667Z"
   },
   {
    "duration": 222,
    "start_time": "2025-05-01T11:49:50.856Z"
   },
   {
    "duration": 14,
    "start_time": "2025-05-01T11:50:18.431Z"
   },
   {
    "duration": 345,
    "start_time": "2025-05-01T11:50:18.579Z"
   },
   {
    "duration": 123,
    "start_time": "2025-05-01T11:50:18.926Z"
   },
   {
    "duration": 152,
    "start_time": "2025-05-01T11:50:19.051Z"
   },
   {
    "duration": 11,
    "start_time": "2025-05-01T11:50:23.290Z"
   },
   {
    "duration": 10,
    "start_time": "2025-05-01T11:50:23.434Z"
   },
   {
    "duration": 10,
    "start_time": "2025-05-01T11:50:23.552Z"
   },
   {
    "duration": 12,
    "start_time": "2025-05-01T11:50:23.949Z"
   },
   {
    "duration": 11,
    "start_time": "2025-05-01T11:50:24.064Z"
   },
   {
    "duration": 11,
    "start_time": "2025-05-01T11:50:24.193Z"
   },
   {
    "duration": 17,
    "start_time": "2025-05-01T11:50:24.585Z"
   },
   {
    "duration": 13,
    "start_time": "2025-05-01T11:50:24.697Z"
   },
   {
    "duration": 7,
    "start_time": "2025-05-01T11:50:24.813Z"
   },
   {
    "duration": 284,
    "start_time": "2025-05-01T11:50:24.962Z"
   },
   {
    "duration": 8,
    "start_time": "2025-05-01T11:50:39.888Z"
   },
   {
    "duration": 8,
    "start_time": "2025-05-01T11:50:40.558Z"
   },
   {
    "duration": 2588,
    "start_time": "2025-05-01T21:03:21.841Z"
   },
   {
    "duration": 37,
    "start_time": "2025-05-01T21:03:24.431Z"
   },
   {
    "duration": 14,
    "start_time": "2025-05-01T21:03:25.037Z"
   },
   {
    "duration": 15,
    "start_time": "2025-05-01T21:03:27.237Z"
   },
   {
    "duration": 8,
    "start_time": "2025-05-01T21:03:29.171Z"
   },
   {
    "duration": 10,
    "start_time": "2025-05-01T21:03:30.679Z"
   },
   {
    "duration": 3,
    "start_time": "2025-05-01T21:03:32.387Z"
   },
   {
    "duration": 4,
    "start_time": "2025-05-01T21:03:33.311Z"
   },
   {
    "duration": 17,
    "start_time": "2025-05-01T21:03:34.872Z"
   },
   {
    "duration": 13,
    "start_time": "2025-05-01T21:03:36.667Z"
   },
   {
    "duration": 9,
    "start_time": "2025-05-01T21:03:38.610Z"
   },
   {
    "duration": 11,
    "start_time": "2025-05-01T21:03:39.621Z"
   },
   {
    "duration": 16,
    "start_time": "2025-05-01T21:03:41.079Z"
   },
   {
    "duration": 11,
    "start_time": "2025-05-01T21:03:42.759Z"
   },
   {
    "duration": 16,
    "start_time": "2025-05-01T21:03:43.691Z"
   },
   {
    "duration": 17,
    "start_time": "2025-05-01T21:03:45.128Z"
   },
   {
    "duration": 16,
    "start_time": "2025-05-01T21:03:46.568Z"
   },
   {
    "duration": 16,
    "start_time": "2025-05-01T21:03:49.890Z"
   },
   {
    "duration": 9,
    "start_time": "2025-05-01T21:03:51.599Z"
   },
   {
    "duration": 8,
    "start_time": "2025-05-01T21:03:52.692Z"
   },
   {
    "duration": 9,
    "start_time": "2025-05-01T21:03:53.985Z"
   },
   {
    "duration": 9,
    "start_time": "2025-05-01T21:03:55.537Z"
   },
   {
    "duration": 4,
    "start_time": "2025-05-01T21:03:56.826Z"
   },
   {
    "duration": 14,
    "start_time": "2025-05-01T21:03:58.924Z"
   },
   {
    "duration": 137,
    "start_time": "2025-05-01T21:04:00.310Z"
   },
   {
    "duration": 180,
    "start_time": "2025-05-01T21:04:02.704Z"
   },
   {
    "duration": 40,
    "start_time": "2025-05-01T21:04:04.833Z"
   },
   {
    "duration": 21,
    "start_time": "2025-05-01T21:04:08.076Z"
   },
   {
    "duration": 479,
    "start_time": "2025-05-01T21:04:10.169Z"
   },
   {
    "duration": 12,
    "start_time": "2025-05-01T21:04:12.554Z"
   },
   {
    "duration": 18,
    "start_time": "2025-05-01T21:04:16.024Z"
   },
   {
    "duration": 8,
    "start_time": "2025-05-01T21:04:17.899Z"
   },
   {
    "duration": 113,
    "start_time": "2025-05-01T21:04:19.580Z"
   },
   {
    "duration": 11,
    "start_time": "2025-05-01T21:04:21.532Z"
   },
   {
    "duration": 9,
    "start_time": "2025-05-01T21:04:22.933Z"
   },
   {
    "duration": 653,
    "start_time": "2025-05-01T21:04:25.334Z"
   },
   {
    "duration": 14,
    "start_time": "2025-05-01T21:04:34.198Z"
   },
   {
    "duration": 18,
    "start_time": "2025-05-01T21:04:36.001Z"
   },
   {
    "duration": 14,
    "start_time": "2025-05-01T21:04:37.244Z"
   },
   {
    "duration": 16,
    "start_time": "2025-05-01T21:04:39.224Z"
   },
   {
    "duration": 17,
    "start_time": "2025-05-01T21:04:40.781Z"
   },
   {
    "duration": 311,
    "start_time": "2025-05-01T21:04:43.292Z"
   },
   {
    "duration": 14,
    "start_time": "2025-05-01T21:04:47.034Z"
   },
   {
    "duration": 19,
    "start_time": "2025-05-01T21:04:48.945Z"
   },
   {
    "duration": 207,
    "start_time": "2025-05-01T21:04:50.447Z"
   },
   {
    "duration": 15,
    "start_time": "2025-05-01T21:04:52.952Z"
   },
   {
    "duration": 262,
    "start_time": "2025-05-01T21:04:54.593Z"
   },
   {
    "duration": 48,
    "start_time": "2025-05-01T21:04:56.990Z"
   },
   {
    "duration": 159,
    "start_time": "2025-05-01T21:04:59.130Z"
   },
   {
    "duration": 11,
    "start_time": "2025-05-01T21:05:02.644Z"
   },
   {
    "duration": 11,
    "start_time": "2025-05-01T21:05:04.339Z"
   },
   {
    "duration": 12,
    "start_time": "2025-05-01T21:05:05.866Z"
   },
   {
    "duration": 12,
    "start_time": "2025-05-01T21:05:07.687Z"
   },
   {
    "duration": 11,
    "start_time": "2025-05-01T21:05:08.957Z"
   },
   {
    "duration": 12,
    "start_time": "2025-05-01T21:05:10.528Z"
   },
   {
    "duration": 17,
    "start_time": "2025-05-01T21:05:12.173Z"
   },
   {
    "duration": 13,
    "start_time": "2025-05-01T21:05:13.673Z"
   },
   {
    "duration": 7,
    "start_time": "2025-05-01T21:05:15.099Z"
   },
   {
    "duration": 280,
    "start_time": "2025-05-01T21:05:16.118Z"
   },
   {
    "duration": 9,
    "start_time": "2025-05-01T21:05:19.902Z"
   },
   {
    "duration": 8,
    "start_time": "2025-05-01T21:05:21.555Z"
   },
   {
    "duration": 43,
    "start_time": "2025-05-01T21:08:10.146Z"
   },
   {
    "duration": 42,
    "start_time": "2025-05-01T21:09:45.080Z"
   },
   {
    "duration": 40,
    "start_time": "2025-05-01T21:10:27.653Z"
   },
   {
    "duration": 14,
    "start_time": "2025-05-01T21:15:14.726Z"
   },
   {
    "duration": 19,
    "start_time": "2025-05-01T21:15:16.580Z"
   },
   {
    "duration": 14,
    "start_time": "2025-05-01T21:15:18.312Z"
   },
   {
    "duration": 18,
    "start_time": "2025-05-01T21:15:20.084Z"
   },
   {
    "duration": 18,
    "start_time": "2025-05-01T21:15:21.971Z"
   },
   {
    "duration": 322,
    "start_time": "2025-05-01T21:15:24.039Z"
   },
   {
    "duration": 15,
    "start_time": "2025-05-01T21:15:28.025Z"
   },
   {
    "duration": 198,
    "start_time": "2025-05-01T21:20:49.197Z"
   },
   {
    "duration": 6,
    "start_time": "2025-05-01T21:21:16.273Z"
   },
   {
    "duration": 6,
    "start_time": "2025-05-01T21:22:42.967Z"
   },
   {
    "duration": 8,
    "start_time": "2025-05-01T21:23:27.514Z"
   },
   {
    "duration": 5,
    "start_time": "2025-05-01T21:24:26.283Z"
   },
   {
    "duration": 18,
    "start_time": "2025-05-01T21:25:21.627Z"
   },
   {
    "duration": 229,
    "start_time": "2025-05-01T21:25:25.935Z"
   },
   {
    "duration": 9,
    "start_time": "2025-05-01T21:28:56.461Z"
   },
   {
    "duration": 8,
    "start_time": "2025-05-01T21:30:51.836Z"
   },
   {
    "duration": 16,
    "start_time": "2025-05-01T21:33:02.639Z"
   },
   {
    "duration": 14,
    "start_time": "2025-05-01T21:34:09.194Z"
   },
   {
    "duration": 5,
    "start_time": "2025-05-01T21:41:10.079Z"
   },
   {
    "duration": 8,
    "start_time": "2025-05-01T21:41:11.401Z"
   },
   {
    "duration": 7,
    "start_time": "2025-05-01T21:42:00.982Z"
   },
   {
    "duration": 41,
    "start_time": "2025-05-01T21:43:07.278Z"
   },
   {
    "duration": 6,
    "start_time": "2025-05-01T21:43:32.143Z"
   },
   {
    "duration": 6,
    "start_time": "2025-05-01T21:44:34.474Z"
   },
   {
    "duration": 4,
    "start_time": "2025-05-01T21:45:04.013Z"
   },
   {
    "duration": 8,
    "start_time": "2025-05-01T21:45:36.703Z"
   },
   {
    "duration": 8,
    "start_time": "2025-05-01T21:46:44.677Z"
   },
   {
    "duration": 9,
    "start_time": "2025-05-01T21:47:03.979Z"
   },
   {
    "duration": 9,
    "start_time": "2025-05-01T21:48:41.567Z"
   },
   {
    "duration": 230,
    "start_time": "2025-05-01T21:54:05.873Z"
   },
   {
    "duration": 823,
    "start_time": "2025-05-01T21:54:46.424Z"
   },
   {
    "duration": 26,
    "start_time": "2025-05-01T21:54:47.325Z"
   },
   {
    "duration": 16,
    "start_time": "2025-05-01T21:54:48.066Z"
   },
   {
    "duration": 15,
    "start_time": "2025-05-01T21:54:49.785Z"
   },
   {
    "duration": 8,
    "start_time": "2025-05-01T21:54:51.385Z"
   },
   {
    "duration": 12,
    "start_time": "2025-05-01T21:54:52.939Z"
   },
   {
    "duration": 4,
    "start_time": "2025-05-01T21:54:54.317Z"
   },
   {
    "duration": 4,
    "start_time": "2025-05-01T21:54:55.379Z"
   },
   {
    "duration": 16,
    "start_time": "2025-05-01T21:54:57.070Z"
   },
   {
    "duration": 14,
    "start_time": "2025-05-01T21:54:58.677Z"
   },
   {
    "duration": 8,
    "start_time": "2025-05-01T21:55:02.037Z"
   },
   {
    "duration": 11,
    "start_time": "2025-05-01T21:55:03.114Z"
   },
   {
    "duration": 17,
    "start_time": "2025-05-01T21:55:04.506Z"
   },
   {
    "duration": 11,
    "start_time": "2025-05-01T21:55:06.178Z"
   },
   {
    "duration": 15,
    "start_time": "2025-05-01T21:55:07.424Z"
   },
   {
    "duration": 20,
    "start_time": "2025-05-01T21:55:09.114Z"
   },
   {
    "duration": 16,
    "start_time": "2025-05-01T21:55:10.485Z"
   },
   {
    "duration": 14,
    "start_time": "2025-05-01T21:55:13.763Z"
   },
   {
    "duration": 9,
    "start_time": "2025-05-01T21:55:15.599Z"
   },
   {
    "duration": 7,
    "start_time": "2025-05-01T21:55:16.928Z"
   },
   {
    "duration": 14,
    "start_time": "2025-05-01T21:55:18.510Z"
   },
   {
    "duration": 9,
    "start_time": "2025-05-01T21:55:20.267Z"
   },
   {
    "duration": 4,
    "start_time": "2025-05-01T21:55:22.087Z"
   },
   {
    "duration": 14,
    "start_time": "2025-05-01T21:55:24.008Z"
   },
   {
    "duration": 134,
    "start_time": "2025-05-01T21:55:30.826Z"
   },
   {
    "duration": 175,
    "start_time": "2025-05-01T21:55:33.446Z"
   },
   {
    "duration": 40,
    "start_time": "2025-05-01T21:55:35.426Z"
   },
   {
    "duration": 21,
    "start_time": "2025-05-01T21:55:37.590Z"
   },
   {
    "duration": 501,
    "start_time": "2025-05-01T21:55:41.237Z"
   },
   {
    "duration": 12,
    "start_time": "2025-05-01T21:55:44.333Z"
   },
   {
    "duration": 16,
    "start_time": "2025-05-01T21:55:47.583Z"
   },
   {
    "duration": 8,
    "start_time": "2025-05-01T21:55:49.239Z"
   },
   {
    "duration": 111,
    "start_time": "2025-05-01T21:55:50.537Z"
   },
   {
    "duration": 11,
    "start_time": "2025-05-01T21:55:52.656Z"
   },
   {
    "duration": 9,
    "start_time": "2025-05-01T21:55:54.452Z"
   },
   {
    "duration": 17,
    "start_time": "2025-05-01T21:55:58.134Z"
   },
   {
    "duration": 18,
    "start_time": "2025-05-01T21:56:00.281Z"
   },
   {
    "duration": 14,
    "start_time": "2025-05-01T21:56:02.155Z"
   },
   {
    "duration": 18,
    "start_time": "2025-05-01T21:56:07.733Z"
   },
   {
    "duration": 24,
    "start_time": "2025-05-01T21:56:09.429Z"
   },
   {
    "duration": 338,
    "start_time": "2025-05-01T21:56:11.346Z"
   },
   {
    "duration": 6,
    "start_time": "2025-05-01T21:56:14.727Z"
   },
   {
    "duration": 18,
    "start_time": "2025-05-01T21:56:16.638Z"
   },
   {
    "duration": 218,
    "start_time": "2025-05-01T21:56:18.957Z"
   },
   {
    "duration": 13,
    "start_time": "2025-05-01T21:56:24.966Z"
   },
   {
    "duration": 287,
    "start_time": "2025-05-01T21:56:26.311Z"
   },
   {
    "duration": 48,
    "start_time": "2025-05-01T21:56:29.303Z"
   },
   {
    "duration": 154,
    "start_time": "2025-05-01T21:56:30.867Z"
   },
   {
    "duration": 12,
    "start_time": "2025-05-01T21:56:34.040Z"
   },
   {
    "duration": 12,
    "start_time": "2025-05-01T21:56:35.369Z"
   },
   {
    "duration": 11,
    "start_time": "2025-05-01T21:56:36.666Z"
   },
   {
    "duration": 12,
    "start_time": "2025-05-01T21:56:38.372Z"
   },
   {
    "duration": 12,
    "start_time": "2025-05-01T21:56:39.925Z"
   },
   {
    "duration": 13,
    "start_time": "2025-05-01T21:56:41.132Z"
   },
   {
    "duration": 17,
    "start_time": "2025-05-01T21:56:44.172Z"
   },
   {
    "duration": 13,
    "start_time": "2025-05-01T21:56:45.928Z"
   },
   {
    "duration": 7,
    "start_time": "2025-05-01T21:56:46.964Z"
   },
   {
    "duration": 262,
    "start_time": "2025-05-01T21:56:47.689Z"
   },
   {
    "duration": 8,
    "start_time": "2025-05-01T21:56:51.638Z"
   },
   {
    "duration": 8,
    "start_time": "2025-05-01T21:56:54.471Z"
   },
   {
    "duration": 2522,
    "start_time": "2025-05-02T09:58:32.619Z"
   },
   {
    "duration": 36,
    "start_time": "2025-05-02T09:58:35.143Z"
   },
   {
    "duration": 11,
    "start_time": "2025-05-02T09:58:35.180Z"
   },
   {
    "duration": 14,
    "start_time": "2025-05-02T09:58:35.193Z"
   },
   {
    "duration": 15,
    "start_time": "2025-05-02T09:58:35.210Z"
   },
   {
    "duration": 12,
    "start_time": "2025-05-02T09:58:35.227Z"
   },
   {
    "duration": 4,
    "start_time": "2025-05-02T09:58:35.240Z"
   },
   {
    "duration": 4,
    "start_time": "2025-05-02T09:58:35.246Z"
   },
   {
    "duration": 15,
    "start_time": "2025-05-02T09:58:35.252Z"
   },
   {
    "duration": 12,
    "start_time": "2025-05-02T09:58:35.270Z"
   },
   {
    "duration": 39,
    "start_time": "2025-05-02T09:58:35.284Z"
   },
   {
    "duration": 10,
    "start_time": "2025-05-02T09:58:35.325Z"
   },
   {
    "duration": 15,
    "start_time": "2025-05-02T09:58:35.337Z"
   },
   {
    "duration": 10,
    "start_time": "2025-05-02T09:58:35.356Z"
   },
   {
    "duration": 14,
    "start_time": "2025-05-02T09:58:35.368Z"
   },
   {
    "duration": 47,
    "start_time": "2025-05-02T09:58:35.384Z"
   },
   {
    "duration": 16,
    "start_time": "2025-05-02T09:58:35.432Z"
   },
   {
    "duration": 12,
    "start_time": "2025-05-02T09:58:35.449Z"
   },
   {
    "duration": 8,
    "start_time": "2025-05-02T09:58:35.463Z"
   },
   {
    "duration": 7,
    "start_time": "2025-05-02T09:58:35.473Z"
   },
   {
    "duration": 8,
    "start_time": "2025-05-02T09:58:35.482Z"
   },
   {
    "duration": 8,
    "start_time": "2025-05-02T09:58:35.520Z"
   },
   {
    "duration": 4,
    "start_time": "2025-05-02T09:58:35.529Z"
   },
   {
    "duration": 12,
    "start_time": "2025-05-02T09:58:35.534Z"
   },
   {
    "duration": 155,
    "start_time": "2025-05-02T09:58:35.547Z"
   },
   {
    "duration": 182,
    "start_time": "2025-05-02T09:58:35.703Z"
   },
   {
    "duration": 49,
    "start_time": "2025-05-02T09:58:35.887Z"
   },
   {
    "duration": 20,
    "start_time": "2025-05-02T09:58:35.937Z"
   },
   {
    "duration": 490,
    "start_time": "2025-05-02T09:58:35.959Z"
   },
   {
    "duration": 11,
    "start_time": "2025-05-02T09:58:36.451Z"
   },
   {
    "duration": 17,
    "start_time": "2025-05-02T09:58:36.464Z"
   },
   {
    "duration": 7,
    "start_time": "2025-05-02T09:58:36.482Z"
   },
   {
    "duration": 115,
    "start_time": "2025-05-02T09:58:36.491Z"
   },
   {
    "duration": 14,
    "start_time": "2025-05-02T09:58:36.608Z"
   },
   {
    "duration": 7,
    "start_time": "2025-05-02T09:58:36.624Z"
   },
   {
    "duration": 13,
    "start_time": "2025-05-02T09:58:36.633Z"
   },
   {
    "duration": 18,
    "start_time": "2025-05-02T09:58:36.647Z"
   },
   {
    "duration": 93,
    "start_time": "2025-05-02T09:58:36.666Z"
   },
   {
    "duration": 15,
    "start_time": "2025-05-02T09:58:36.761Z"
   },
   {
    "duration": 16,
    "start_time": "2025-05-02T09:58:36.778Z"
   },
   {
    "duration": 314,
    "start_time": "2025-05-02T09:58:36.798Z"
   },
   {
    "duration": 7,
    "start_time": "2025-05-02T09:58:37.119Z"
   },
   {
    "duration": 17,
    "start_time": "2025-05-02T09:58:37.128Z"
   },
   {
    "duration": 235,
    "start_time": "2025-05-02T09:58:37.147Z"
   },
   {
    "duration": 13,
    "start_time": "2025-05-02T09:58:37.384Z"
   },
   {
    "duration": 305,
    "start_time": "2025-05-02T09:58:37.398Z"
   },
   {
    "duration": 51,
    "start_time": "2025-05-02T09:58:37.705Z"
   },
   {
    "duration": 156,
    "start_time": "2025-05-02T09:58:37.758Z"
   },
   {
    "duration": 12,
    "start_time": "2025-05-02T09:58:37.919Z"
   },
   {
    "duration": 11,
    "start_time": "2025-05-02T09:58:37.932Z"
   },
   {
    "duration": 12,
    "start_time": "2025-05-02T09:58:37.944Z"
   },
   {
    "duration": 11,
    "start_time": "2025-05-02T09:58:37.958Z"
   },
   {
    "duration": 11,
    "start_time": "2025-05-02T09:58:37.971Z"
   },
   {
    "duration": 10,
    "start_time": "2025-05-02T09:58:38.019Z"
   },
   {
    "duration": 17,
    "start_time": "2025-05-02T09:58:38.031Z"
   },
   {
    "duration": 10,
    "start_time": "2025-05-02T09:58:38.050Z"
   },
   {
    "duration": 7,
    "start_time": "2025-05-02T09:58:38.061Z"
   },
   {
    "duration": 285,
    "start_time": "2025-05-02T09:58:38.069Z"
   },
   {
    "duration": 9,
    "start_time": "2025-05-02T09:58:38.355Z"
   },
   {
    "duration": 10,
    "start_time": "2025-05-02T09:58:38.365Z"
   }
  ],
  "kernelspec": {
   "display_name": "Python 3 (ipykernel)",
   "language": "python",
   "name": "python3"
  },
  "language_info": {
   "codemirror_mode": {
    "name": "ipython",
    "version": 3
   },
   "file_extension": ".py",
   "mimetype": "text/x-python",
   "name": "python",
   "nbconvert_exporter": "python",
   "pygments_lexer": "ipython3",
   "version": "3.9.19"
  },
  "toc": {
   "base_numbering": 1,
   "nav_menu": {},
   "number_sections": true,
   "sideBar": true,
   "skip_h1_title": true,
   "title_cell": "Table of Contents",
   "title_sidebar": "Contents",
   "toc_cell": false,
   "toc_position": {
    "height": "calc(100% - 180px)",
    "left": "10px",
    "top": "150px",
    "width": "253.32px"
   },
   "toc_section_display": true,
   "toc_window_display": true
  }
 },
 "nbformat": 4,
 "nbformat_minor": 2
}
