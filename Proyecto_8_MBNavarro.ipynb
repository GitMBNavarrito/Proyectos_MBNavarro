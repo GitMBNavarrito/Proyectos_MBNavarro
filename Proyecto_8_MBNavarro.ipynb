{
 "cells": [
  {
   "cell_type": "markdown",
   "metadata": {},
   "source": [
    "# ¡Hola María! 😊\n",
    "\n",
    "Mi nombre es **Alejandro Castellanos** y hoy tengo el placer de ser el revisor de tu proyecto.\n",
    "\n",
    "Voy a revisar todo tu código con detalle, buscando tanto los puntos fuertes como aquellos en los que podrías mejorar. Te dejaré comentarios a lo largo del notebook, destacando lo que has hecho bien y sugiriendo ajustes donde sea necesario. Si encuentro algún error, no te preocupes, te lo haré saber de forma clara y te daré información útil para que puedas corregirlo en la próxima iteración. Si en algún punto tienes comentarios, siéntete libre de dejarlos también.\n",
    "\n",
    "\n",
    "Encontrarás mis comentarios específicos dentro de cajas verdes, amarillas o rojas, es muy importante que no muevas, modifiques o borres mis comentarios, con el fin de tener un seguimiento adecuado de tu proceso:\n",
    "\n",
    "\n",
    "<div class=\"alert alert-block alert-success\">\n",
    "<b>Comentario del revisor</b> <a class=“tocSkip”></a>\n",
    "Si todo está perfecto.\n",
    "</div>\n",
    "\n",
    "<div class=\"alert alert-block alert-warning\">\n",
    "<b>Comentario del revisor</b> <a class=“tocSkip”></a>\n",
    "Si tu código está bien pero se puede mejorar o hay algún detalle que le hace falta.\n",
    "</div>\n",
    "\n",
    "<div class=\"alert alert-block alert-danger\">\n",
    "<b>Comentario del revisor</b> <a class=“tocSkip”></a>\n",
    "Si de pronto hace falta algo o existe algún problema con tu código o conclusiones.\n",
    "</div>\n",
    "\n",
    "Puedes responderme de esta forma:\n",
    "<div class=\"alert alert-block alert-info\">\n",
    "<b>Respuesta del estudiante</b> <a class=“tocSkip”></a>\n",
    "</div>\n",
    "\n",
    "A continuación te dejaré un comentario general con mi valoración del proyecto. **¡Mi objetivo es que sigas aprendiendo y mejorando con cada paso!**\n"
   ]
  },
  {
   "cell_type": "markdown",
   "metadata": {},
   "source": [
    "----"
   ]
  },
  {
   "cell_type": "markdown",
   "metadata": {},
   "source": [
    "<div class=\"alert alert-block alert-success\">\n",
    "<b>Comentario General del revisor (1ra Iteración)</b> <a class=“tocSkip”></a>\n",
    "\n",
    "María, tu trabajo se destaca por la claridad y profundidad con la que abordaste el análisis de los datos, desde la exploración inicial hasta la aplicación de técnicas como el análisis de Pareto y las pruebas estadísticas. \n",
    "\n",
    "Has logrado no solo procesar los datos correctamente, sino también generar conclusiones útiles que conectan muy bien con el contexto del servicio de taxis. \n",
    "\n",
    "Como sugerencia para fortalecer aún más tu análisis estadístico, sería conveniente incorporar la prueba de Levene antes de realizar comparaciones de medias, ya que esto asegurará que tus resultados sean más robustos y confiables. \n",
    "\n",
    "Vas por muy buen camino, y con este tipo de ajustes técnicos seguirás mejorando la calidad de tus análisis.\n",
    "\n",
    "Éxitos en tu próximo sprint 🚀\n",
    "\n",
    "*Estado del Proyecto:* **Aprobado**\n",
    "\n",
    "</div>"
   ]
  },
  {
   "cell_type": "markdown",
   "metadata": {},
   "source": [
    "------"
   ]
  },
  {
   "cell_type": "markdown",
   "metadata": {},
   "source": [
    "**INICIALIZACIÓN**"
   ]
  },
  {
   "cell_type": "code",
   "execution_count": 1,
   "metadata": {},
   "outputs": [],
   "source": [
    "import pandas as pd\n",
    "import matplotlib.pyplot as plt\n",
    "import seaborn as sns\n",
    "from scipy import stats as st\n"
   ]
  },
  {
   "cell_type": "markdown",
   "metadata": {},
   "source": [
    "**CARGA DE DATOS**"
   ]
  },
  {
   "cell_type": "code",
   "execution_count": 2,
   "metadata": {},
   "outputs": [],
   "source": [
    "file_company_trips_df = '/datasets/project_sql_result_01.csv'\n",
    "company_trips_df = pd.read_csv(file_company_trips_df)"
   ]
  },
  {
   "cell_type": "code",
   "execution_count": 3,
   "metadata": {},
   "outputs": [],
   "source": [
    "file_places_trips_df = '/datasets/project_sql_result_04.csv'\n",
    "places_trips_df = pd.read_csv(file_places_trips_df)"
   ]
  },
  {
   "cell_type": "markdown",
   "metadata": {},
   "source": [
    "**PREPARAR DATOS**"
   ]
  },
  {
   "cell_type": "markdown",
   "metadata": {},
   "source": [
    "Realizaremos una exploración de cada DataFrame, utilizando eL método **(.info)** de esta manera tendremos a primera vista, como están las columnas de cada tabla, si hay valores ausentes, la calidad de la escritura de los nombres de las columnas, y así mismo, podremos ir comparando entre tablas, y determinar si tienen columnas en común para futuras concatenaciones. Con este método podremos ver con que tipos de datos cuentan las tablas. Posteriormente haremos una visualización de los datos, usando el método **(.sample)** para mostrar aleatoriamente campos a lo largo de las tablas, utilizando una muestra de 5 filas. Utilizando el método **.duplicated)** mostramos si hay duplicados explicitos, para corregirlos. En caso de requerir, se corregirá datos que cuenten con escritura no adecuada, se reemplazará valores ausentes y se corregirá nombre de las columnas para los siguientes análisis."
   ]
  },
  {
   "cell_type": "code",
   "execution_count": 4,
   "metadata": {},
   "outputs": [
    {
     "name": "stdout",
     "output_type": "stream",
     "text": [
      "<class 'pandas.core.frame.DataFrame'>\n",
      "RangeIndex: 64 entries, 0 to 63\n",
      "Data columns (total 2 columns):\n",
      " #   Column        Non-Null Count  Dtype \n",
      "---  ------        --------------  ----- \n",
      " 0   company_name  64 non-null     object\n",
      " 1   trips_amount  64 non-null     int64 \n",
      "dtypes: int64(1), object(1)\n",
      "memory usage: 1.1+ KB\n"
     ]
    }
   ],
   "source": [
    "company_trips_df.info()"
   ]
  },
  {
   "cell_type": "code",
   "execution_count": 5,
   "metadata": {},
   "outputs": [
    {
     "name": "stdout",
     "output_type": "stream",
     "text": [
      "<class 'pandas.core.frame.DataFrame'>\n",
      "RangeIndex: 94 entries, 0 to 93\n",
      "Data columns (total 2 columns):\n",
      " #   Column                 Non-Null Count  Dtype  \n",
      "---  ------                 --------------  -----  \n",
      " 0   dropoff_location_name  94 non-null     object \n",
      " 1   average_trips          94 non-null     float64\n",
      "dtypes: float64(1), object(1)\n",
      "memory usage: 1.6+ KB\n"
     ]
    }
   ],
   "source": [
    "places_trips_df.info()"
   ]
  },
  {
   "cell_type": "code",
   "execution_count": 6,
   "metadata": {},
   "outputs": [
    {
     "data": {
      "text/html": [
       "<div>\n",
       "<style scoped>\n",
       "    .dataframe tbody tr th:only-of-type {\n",
       "        vertical-align: middle;\n",
       "    }\n",
       "\n",
       "    .dataframe tbody tr th {\n",
       "        vertical-align: top;\n",
       "    }\n",
       "\n",
       "    .dataframe thead th {\n",
       "        text-align: right;\n",
       "    }\n",
       "</style>\n",
       "<table border=\"1\" class=\"dataframe\">\n",
       "  <thead>\n",
       "    <tr style=\"text-align: right;\">\n",
       "      <th></th>\n",
       "      <th>company_name</th>\n",
       "      <th>trips_amount</th>\n",
       "    </tr>\n",
       "  </thead>\n",
       "  <tbody>\n",
       "    <tr>\n",
       "      <th>45</th>\n",
       "      <td>3011 - 66308 JBL Cab Inc.</td>\n",
       "      <td>25</td>\n",
       "    </tr>\n",
       "    <tr>\n",
       "      <th>43</th>\n",
       "      <td>2809 - 95474 C &amp; D Cab Co Inc.</td>\n",
       "      <td>29</td>\n",
       "    </tr>\n",
       "    <tr>\n",
       "      <th>34</th>\n",
       "      <td>Norshore Cab</td>\n",
       "      <td>127</td>\n",
       "    </tr>\n",
       "    <tr>\n",
       "      <th>9</th>\n",
       "      <td>Blue Ribbon Taxi Association Inc.</td>\n",
       "      <td>5953</td>\n",
       "    </tr>\n",
       "    <tr>\n",
       "      <th>36</th>\n",
       "      <td>3591 - 63480 Chuks Cab</td>\n",
       "      <td>37</td>\n",
       "    </tr>\n",
       "  </tbody>\n",
       "</table>\n",
       "</div>"
      ],
      "text/plain": [
       "                         company_name  trips_amount\n",
       "45          3011 - 66308 JBL Cab Inc.            25\n",
       "43     2809 - 95474 C & D Cab Co Inc.            29\n",
       "34                       Norshore Cab           127\n",
       "9   Blue Ribbon Taxi Association Inc.          5953\n",
       "36             3591 - 63480 Chuks Cab            37"
      ]
     },
     "execution_count": 6,
     "metadata": {},
     "output_type": "execute_result"
    }
   ],
   "source": [
    "company_trips_df.sample(5)"
   ]
  },
  {
   "cell_type": "code",
   "execution_count": 7,
   "metadata": {},
   "outputs": [
    {
     "data": {
      "text/html": [
       "<div>\n",
       "<style scoped>\n",
       "    .dataframe tbody tr th:only-of-type {\n",
       "        vertical-align: middle;\n",
       "    }\n",
       "\n",
       "    .dataframe tbody tr th {\n",
       "        vertical-align: top;\n",
       "    }\n",
       "\n",
       "    .dataframe thead th {\n",
       "        text-align: right;\n",
       "    }\n",
       "</style>\n",
       "<table border=\"1\" class=\"dataframe\">\n",
       "  <thead>\n",
       "    <tr style=\"text-align: right;\">\n",
       "      <th></th>\n",
       "      <th>dropoff_location_name</th>\n",
       "      <th>average_trips</th>\n",
       "    </tr>\n",
       "  </thead>\n",
       "  <tbody>\n",
       "    <tr>\n",
       "      <th>64</th>\n",
       "      <td>Oakland</td>\n",
       "      <td>16.633333</td>\n",
       "    </tr>\n",
       "    <tr>\n",
       "      <th>11</th>\n",
       "      <td>East Village</td>\n",
       "      <td>1212.066667</td>\n",
       "    </tr>\n",
       "    <tr>\n",
       "      <th>12</th>\n",
       "      <td>Little Italy, UIC</td>\n",
       "      <td>863.700000</td>\n",
       "    </tr>\n",
       "    <tr>\n",
       "      <th>52</th>\n",
       "      <td>Little Village</td>\n",
       "      <td>33.800000</td>\n",
       "    </tr>\n",
       "    <tr>\n",
       "      <th>60</th>\n",
       "      <td>New City</td>\n",
       "      <td>22.933333</td>\n",
       "    </tr>\n",
       "  </tbody>\n",
       "</table>\n",
       "</div>"
      ],
      "text/plain": [
       "   dropoff_location_name  average_trips\n",
       "64               Oakland      16.633333\n",
       "11          East Village    1212.066667\n",
       "12     Little Italy, UIC     863.700000\n",
       "52        Little Village      33.800000\n",
       "60              New City      22.933333"
      ]
     },
     "execution_count": 7,
     "metadata": {},
     "output_type": "execute_result"
    }
   ],
   "source": [
    "places_trips_df.sample(5)"
   ]
  },
  {
   "cell_type": "code",
   "execution_count": 8,
   "metadata": {},
   "outputs": [
    {
     "data": {
      "text/plain": [
       "0"
      ]
     },
     "execution_count": 8,
     "metadata": {},
     "output_type": "execute_result"
    }
   ],
   "source": [
    "company_trips_df.duplicated().sum()"
   ]
  },
  {
   "cell_type": "code",
   "execution_count": 9,
   "metadata": {},
   "outputs": [
    {
     "data": {
      "text/plain": [
       "0"
      ]
     },
     "execution_count": 9,
     "metadata": {},
     "output_type": "execute_result"
    }
   ],
   "source": [
    "places_trips_df.duplicated().sum()"
   ]
  },
  {
   "cell_type": "markdown",
   "metadata": {},
   "source": [
    "Contamos con 2 Datasets, en los que aplicando los métodos **(.info,.sample y .duplicated)** obtenemos la siguiente información: en el uno tenemos las empresas de taxi, donde contamos con campos **company_name**, que es un object y **trips_amount** que es un entero, no posemos valores nulos, ni datos duplicados. Así mismo el segundo Dataset contamos con los nombres de los lugares que finalizaron sus viajes, no tenemos valores nulos, ni duplicados, contamos con los campos **dropoff_location_name** que es un object y **average_trips** que es un número flotante. Los campos con los que contamos tienen el tipo correcto para los posteriores análisis."
   ]
  },
  {
   "cell_type": "markdown",
   "metadata": {},
   "source": [
    "<div class=\"alert alert-block alert-success\">\n",
    "<b>Comentario del revisor (1ra Iteración)</b> <a class=“tocSkip”></a>\n",
    "\n",
    "¡Muy bien! El análisis preliminar de los dos datasets está muy claro y bien estructurado. Usaste correctamente los métodos `.info()`, `.sample()` y `.duplicated()` para entender la estructura, calidad y limpieza de los datos. Además, tu interpretación final resume de forma precisa que los campos no tienen valores nulos ni duplicados, y que los tipos de datos son apropiados.\n",
    "\n",
    "</div>"
   ]
  },
  {
   "cell_type": "markdown",
   "metadata": {},
   "source": [
    "**IDENTIFICACION DE LOS 10 PRINCIPALES BARRIOS**"
   ]
  },
  {
   "cell_type": "code",
   "execution_count": 10,
   "metadata": {},
   "outputs": [
    {
     "data": {
      "text/plain": [
       "dropoff_location_name\n",
       "Loop                  10727.466667\n",
       "River North            9523.666667\n",
       "Streeterville          6664.666667\n",
       "West Loop              5163.666667\n",
       "O'Hare                 2546.900000\n",
       "Lake View              2420.966667\n",
       "Grant Park             2068.533333\n",
       "Museum Campus          1510.000000\n",
       "Gold Coast             1364.233333\n",
       "Sheffield & DePaul     1259.766667\n",
       "Name: average_trips, dtype: float64"
      ]
     },
     "execution_count": 10,
     "metadata": {},
     "output_type": "execute_result"
    }
   ],
   "source": [
    "places_trips_df = places_trips_df.set_index('dropoff_location_name')\n",
    "places_trips_df['average_trips'].sort_values(ascending=False).head(10)"
   ]
  },
  {
   "cell_type": "code",
   "execution_count": 11,
   "metadata": {},
   "outputs": [
    {
     "data": {
      "text/html": [
       "<div>\n",
       "<style scoped>\n",
       "    .dataframe tbody tr th:only-of-type {\n",
       "        vertical-align: middle;\n",
       "    }\n",
       "\n",
       "    .dataframe tbody tr th {\n",
       "        vertical-align: top;\n",
       "    }\n",
       "\n",
       "    .dataframe thead th {\n",
       "        text-align: right;\n",
       "    }\n",
       "</style>\n",
       "<table border=\"1\" class=\"dataframe\">\n",
       "  <thead>\n",
       "    <tr style=\"text-align: right;\">\n",
       "      <th></th>\n",
       "      <th>average_trips</th>\n",
       "      <th>peso_trips</th>\n",
       "    </tr>\n",
       "    <tr>\n",
       "      <th>dropoff_location_name</th>\n",
       "      <th></th>\n",
       "      <th></th>\n",
       "    </tr>\n",
       "  </thead>\n",
       "  <tbody>\n",
       "    <tr>\n",
       "      <th>Loop</th>\n",
       "      <td>10727.466667</td>\n",
       "      <td>19.021798</td>\n",
       "    </tr>\n",
       "    <tr>\n",
       "      <th>River North</th>\n",
       "      <td>9523.666667</td>\n",
       "      <td>16.887236</td>\n",
       "    </tr>\n",
       "    <tr>\n",
       "      <th>Streeterville</th>\n",
       "      <td>6664.666667</td>\n",
       "      <td>11.817696</td>\n",
       "    </tr>\n",
       "    <tr>\n",
       "      <th>West Loop</th>\n",
       "      <td>5163.666667</td>\n",
       "      <td>9.156143</td>\n",
       "    </tr>\n",
       "    <tr>\n",
       "      <th>O'Hare</th>\n",
       "      <td>2546.900000</td>\n",
       "      <td>4.516128</td>\n",
       "    </tr>\n",
       "    <tr>\n",
       "      <th>Lake View</th>\n",
       "      <td>2420.966667</td>\n",
       "      <td>4.292825</td>\n",
       "    </tr>\n",
       "    <tr>\n",
       "      <th>Grant Park</th>\n",
       "      <td>2068.533333</td>\n",
       "      <td>3.667895</td>\n",
       "    </tr>\n",
       "    <tr>\n",
       "      <th>Museum Campus</th>\n",
       "      <td>1510.000000</td>\n",
       "      <td>2.677511</td>\n",
       "    </tr>\n",
       "    <tr>\n",
       "      <th>Gold Coast</th>\n",
       "      <td>1364.233333</td>\n",
       "      <td>2.419040</td>\n",
       "    </tr>\n",
       "    <tr>\n",
       "      <th>Sheffield &amp; DePaul</th>\n",
       "      <td>1259.766667</td>\n",
       "      <td>2.233801</td>\n",
       "    </tr>\n",
       "  </tbody>\n",
       "</table>\n",
       "</div>"
      ],
      "text/plain": [
       "                       average_trips  peso_trips\n",
       "dropoff_location_name                           \n",
       "Loop                    10727.466667   19.021798\n",
       "River North              9523.666667   16.887236\n",
       "Streeterville            6664.666667   11.817696\n",
       "West Loop                5163.666667    9.156143\n",
       "O'Hare                   2546.900000    4.516128\n",
       "Lake View                2420.966667    4.292825\n",
       "Grant Park               2068.533333    3.667895\n",
       "Museum Campus            1510.000000    2.677511\n",
       "Gold Coast               1364.233333    2.419040\n",
       "Sheffield & DePaul       1259.766667    2.233801"
      ]
     },
     "execution_count": 11,
     "metadata": {},
     "output_type": "execute_result"
    }
   ],
   "source": [
    "places_trips_df['peso_trips'] = places_trips_df['average_trips']/places_trips_df['average_trips'].sum()*100\n",
    "top_10_places = places_trips_df.head(10)\n",
    "top_10_places"
   ]
  },
  {
   "cell_type": "markdown",
   "metadata": {},
   "source": [
    "Determinamos que el índice debería ser los nombres de los lugares donde se finalizó los viajes, por lo que con el método **(.set_index)** lo realizamos primero, para posteriormente, con el método **(.sort_values)** poder sacar un ranking utilizando el parámetro **ascending=False**, desde los valores más altos a los bajos, y con el método **(.head)** obtuvimos un ranking de los 10 principales. Tenemos que al barrio que más viajes en promedio tiene es **Loop** con 1027.47 viajes, que representa el 19% de todos los barrios."
   ]
  },
  {
   "cell_type": "markdown",
   "metadata": {},
   "source": [
    "**ANÁLISIS CON GRÁFICAS**"
   ]
  },
  {
   "cell_type": "code",
   "execution_count": 12,
   "metadata": {
    "scrolled": true
   },
   "outputs": [
    {
     "data": {
      "text/html": [
       "<div>\n",
       "<style scoped>\n",
       "    .dataframe tbody tr th:only-of-type {\n",
       "        vertical-align: middle;\n",
       "    }\n",
       "\n",
       "    .dataframe tbody tr th {\n",
       "        vertical-align: top;\n",
       "    }\n",
       "\n",
       "    .dataframe thead th {\n",
       "        text-align: right;\n",
       "    }\n",
       "</style>\n",
       "<table border=\"1\" class=\"dataframe\">\n",
       "  <thead>\n",
       "    <tr style=\"text-align: right;\">\n",
       "      <th></th>\n",
       "      <th>company_name</th>\n",
       "      <th>trips_amount</th>\n",
       "      <th>peso_trips</th>\n",
       "      <th>acumulado_peso_trips</th>\n",
       "    </tr>\n",
       "  </thead>\n",
       "  <tbody>\n",
       "    <tr>\n",
       "      <th>0</th>\n",
       "      <td>Flash Cab</td>\n",
       "      <td>19558</td>\n",
       "      <td>14.243578</td>\n",
       "      <td>14.243578</td>\n",
       "    </tr>\n",
       "    <tr>\n",
       "      <th>1</th>\n",
       "      <td>Taxi Affiliation Services</td>\n",
       "      <td>11422</td>\n",
       "      <td>8.318343</td>\n",
       "      <td>22.561921</td>\n",
       "    </tr>\n",
       "    <tr>\n",
       "      <th>2</th>\n",
       "      <td>Medallion Leasing</td>\n",
       "      <td>10367</td>\n",
       "      <td>7.550014</td>\n",
       "      <td>30.111936</td>\n",
       "    </tr>\n",
       "    <tr>\n",
       "      <th>3</th>\n",
       "      <td>Yellow Cab</td>\n",
       "      <td>9888</td>\n",
       "      <td>7.201171</td>\n",
       "      <td>37.313107</td>\n",
       "    </tr>\n",
       "    <tr>\n",
       "      <th>4</th>\n",
       "      <td>Taxi Affiliation Service Yellow</td>\n",
       "      <td>9299</td>\n",
       "      <td>6.772218</td>\n",
       "      <td>44.085325</td>\n",
       "    </tr>\n",
       "    <tr>\n",
       "      <th>5</th>\n",
       "      <td>Chicago Carriage Cab Corp</td>\n",
       "      <td>9181</td>\n",
       "      <td>6.686282</td>\n",
       "      <td>50.771606</td>\n",
       "    </tr>\n",
       "    <tr>\n",
       "      <th>6</th>\n",
       "      <td>City Service</td>\n",
       "      <td>8448</td>\n",
       "      <td>6.152457</td>\n",
       "      <td>56.924063</td>\n",
       "    </tr>\n",
       "    <tr>\n",
       "      <th>7</th>\n",
       "      <td>Sun Taxi</td>\n",
       "      <td>7701</td>\n",
       "      <td>5.608436</td>\n",
       "      <td>62.532499</td>\n",
       "    </tr>\n",
       "    <tr>\n",
       "      <th>8</th>\n",
       "      <td>Star North Management LLC</td>\n",
       "      <td>7455</td>\n",
       "      <td>5.429281</td>\n",
       "      <td>67.961780</td>\n",
       "    </tr>\n",
       "    <tr>\n",
       "      <th>9</th>\n",
       "      <td>Blue Ribbon Taxi Association Inc.</td>\n",
       "      <td>5953</td>\n",
       "      <td>4.335414</td>\n",
       "      <td>72.297194</td>\n",
       "    </tr>\n",
       "    <tr>\n",
       "      <th>10</th>\n",
       "      <td>Choice Taxi Association</td>\n",
       "      <td>5015</td>\n",
       "      <td>3.652293</td>\n",
       "      <td>75.949487</td>\n",
       "    </tr>\n",
       "    <tr>\n",
       "      <th>11</th>\n",
       "      <td>Globe Taxi</td>\n",
       "      <td>4383</td>\n",
       "      <td>3.192024</td>\n",
       "      <td>79.141511</td>\n",
       "    </tr>\n",
       "  </tbody>\n",
       "</table>\n",
       "</div>"
      ],
      "text/plain": [
       "                         company_name  trips_amount  peso_trips  \\\n",
       "0                           Flash Cab         19558   14.243578   \n",
       "1           Taxi Affiliation Services         11422    8.318343   \n",
       "2                   Medallion Leasing         10367    7.550014   \n",
       "3                          Yellow Cab          9888    7.201171   \n",
       "4     Taxi Affiliation Service Yellow          9299    6.772218   \n",
       "5           Chicago Carriage Cab Corp          9181    6.686282   \n",
       "6                        City Service          8448    6.152457   \n",
       "7                            Sun Taxi          7701    5.608436   \n",
       "8           Star North Management LLC          7455    5.429281   \n",
       "9   Blue Ribbon Taxi Association Inc.          5953    4.335414   \n",
       "10            Choice Taxi Association          5015    3.652293   \n",
       "11                         Globe Taxi          4383    3.192024   \n",
       "\n",
       "    acumulado_peso_trips  \n",
       "0              14.243578  \n",
       "1              22.561921  \n",
       "2              30.111936  \n",
       "3              37.313107  \n",
       "4              44.085325  \n",
       "5              50.771606  \n",
       "6              56.924063  \n",
       "7              62.532499  \n",
       "8              67.961780  \n",
       "9              72.297194  \n",
       "10             75.949487  \n",
       "11             79.141511  "
      ]
     },
     "execution_count": 12,
     "metadata": {},
     "output_type": "execute_result"
    }
   ],
   "source": [
    "company_trips_df['peso_trips'] = company_trips_df['trips_amount']/company_trips_df['trips_amount'].sum()*100\n",
    "company_trips_df['acumulado_peso_trips'] = company_trips_df['peso_trips'].cumsum()\n",
    "company_trips_df['acumulado_peso_trips'].sort_values(ascending=False)\n",
    "pareto_company = company_trips_df.head(12)\n",
    "pareto_company"
   ]
  },
  {
   "cell_type": "markdown",
   "metadata": {},
   "source": [
    "Realizaremos 2 gráficos de barras horizontales. El primero para mostrar el número de viajes por empresa de Taxis, para lo que primero realizamos un análisis de Pareto, para poder graficar las empresas que tienen el 80% de participación en números de viajes, para esto aumentamos 2 columnas en el dataframe, tanto el peso, como el peso acumulado, así definimos que solo en 12 empresas se encuentra el 80%, de este Pareto realizaremos una gráfica de barras horizontales que muestra de mejor manera el comportamiento, utilizando el método **(.plot)**. De la misma manera, para  mostrar el Top10 de barrios principales, a diferencia del anterior, en este gráfico, para el eje 'y' utilizamos el índice, por lo que se tuvo que utilizar el método **(.index)** en el eje y."
   ]
  },
  {
   "cell_type": "code",
   "execution_count": 13,
   "metadata": {},
   "outputs": [
    {
     "data": {
      "image/png": "[encoded data removed]",
      "text/plain": [
       "<Figure size 640x480 with 1 Axes>"
      ]
     },
     "metadata": {},
     "output_type": "display_data"
    }
   ],
   "source": [
    "plt.barh(pareto_company['company_name'], pareto_company['trips_amount'])\n",
    "plt.xlabel('Cantidad de Viajes')\n",
    "plt.ylabel('Empresa de Taxi')\n",
    "plt.title('Cantidad de Viajes por Empresa de Taxi')\n",
    "plt.show()"
   ]
  },
  {
   "cell_type": "markdown",
   "metadata": {},
   "source": [
    "El gráfico visualiza el rendimiento de cada empresa de taxi en términos de la cantidad de viajes, destacando la concetración en pocos en el mercado y la distribución general de la actividad.\n",
    "**Flash Cab** es la empresa de taxis dominante por un margen significativo, con un 14% de participación, superando con gran diferencia a las demás empresas. A medida que se desciende en la lista, la cantidad de viajes por empresa disminuye de manera significativa. Las empresas como **Globe Taxi y Choice Taxi Association**, tienen una cantidad de viajes considerablemente menor , lo que podría indicar una menor demanda.\n",
    "Este tipo de distribución es un patrón clásico que se presta a un análisis de Pareto (la regla 80/20). Un pequeño porcentaje de empresas son responsables de la mayor parte de los viajes."
   ]
  },
  {
   "cell_type": "code",
   "execution_count": 14,
   "metadata": {},
   "outputs": [
    {
     "data": {
      "image/png": "[encoded data removed]",
      "text/plain": [
       "<Figure size 640x480 with 1 Axes>"
      ]
     },
     "metadata": {},
     "output_type": "display_data"
    }
   ],
   "source": [
    "plt.barh(y=top_10_places.index, width=top_10_places['average_trips'], color='lightgreen')\n",
    "plt.xlabel('Número Promedio de Viajes Finalizados')\n",
    "plt.ylabel('Barrio de Finalización')\n",
    "plt.title('Los 10 Barrios Principales por Número de Finalizaciones de Viajes')\n",
    "plt.show()"
   ]
  },
  {
   "cell_type": "markdown",
   "metadata": {},
   "source": [
    "El barrio **Loop** lidera el mayor número de finalizaciones de viajes con un 19% de participoción.\n",
    "El gráfico permite identificar claramente las áreas de mayor demanda de taxis como destino final, información útil para una empresa de taxis, esta información ayuda mucho a la asignación de recursos, la planificación de rutas y la optimización de la disponibilidad de taxis."
   ]
  },
  {
   "cell_type": "markdown",
   "metadata": {},
   "source": [
    "<div class=\"alert alert-block alert-success\">\n",
    "<b>Comentario del revisor (1ra Iteración)</b> <a class=“tocSkip”></a>\n",
    "\n",
    "María tu trabajo muestra un manejo muy sólido de herramientas de análisis para extraer conclusiones relevantes del comportamiento del servicio de taxis. La implementación del análisis de Pareto es un acierto, ya que permite visualizar de forma clara la concentración de la demanda en pocas empresas, y logras comunicar bien la implicación de estos resultados en términos de participación de mercado. Además, reconoces con claridad la importancia del barrio Loop como nodo clave en la red de viajes, lo que refuerza la utilidad práctica de tus hallazgos.\n",
    "\n",
    "</div>"
   ]
  },
  {
   "cell_type": "markdown",
   "metadata": {},
   "source": [
    "**PRUEBA DE HIPOTESIS**"
   ]
  },
  {
   "cell_type": "code",
   "execution_count": 15,
   "metadata": {},
   "outputs": [],
   "source": [
    "file_airport_trips_df = '/datasets/project_sql_result_07.csv'\n",
    "airport_trips_df = pd.read_csv(file_airport_trips_df)"
   ]
  },
  {
   "cell_type": "code",
   "execution_count": 16,
   "metadata": {},
   "outputs": [
    {
     "data": {
      "text/html": [
       "<div>\n",
       "<style scoped>\n",
       "    .dataframe tbody tr th:only-of-type {\n",
       "        vertical-align: middle;\n",
       "    }\n",
       "\n",
       "    .dataframe tbody tr th {\n",
       "        vertical-align: top;\n",
       "    }\n",
       "\n",
       "    .dataframe thead th {\n",
       "        text-align: right;\n",
       "    }\n",
       "</style>\n",
       "<table border=\"1\" class=\"dataframe\">\n",
       "  <thead>\n",
       "    <tr style=\"text-align: right;\">\n",
       "      <th></th>\n",
       "      <th>start_ts</th>\n",
       "      <th>weather_conditions</th>\n",
       "      <th>duration_seconds</th>\n",
       "    </tr>\n",
       "  </thead>\n",
       "  <tbody>\n",
       "    <tr>\n",
       "      <th>520</th>\n",
       "      <td>2017-11-04 10:00:00</td>\n",
       "      <td>Good</td>\n",
       "      <td>2697.0</td>\n",
       "    </tr>\n",
       "    <tr>\n",
       "      <th>973</th>\n",
       "      <td>2017-11-04 19:00:00</td>\n",
       "      <td>Good</td>\n",
       "      <td>1748.0</td>\n",
       "    </tr>\n",
       "    <tr>\n",
       "      <th>60</th>\n",
       "      <td>2017-11-11 08:00:00</td>\n",
       "      <td>Good</td>\n",
       "      <td>1320.0</td>\n",
       "    </tr>\n",
       "    <tr>\n",
       "      <th>353</th>\n",
       "      <td>2017-11-25 18:00:00</td>\n",
       "      <td>Good</td>\n",
       "      <td>4140.0</td>\n",
       "    </tr>\n",
       "    <tr>\n",
       "      <th>518</th>\n",
       "      <td>2017-11-04 17:00:00</td>\n",
       "      <td>Bad</td>\n",
       "      <td>2580.0</td>\n",
       "    </tr>\n",
       "  </tbody>\n",
       "</table>\n",
       "</div>"
      ],
      "text/plain": [
       "                start_ts weather_conditions  duration_seconds\n",
       "520  2017-11-04 10:00:00               Good            2697.0\n",
       "973  2017-11-04 19:00:00               Good            1748.0\n",
       "60   2017-11-11 08:00:00               Good            1320.0\n",
       "353  2017-11-25 18:00:00               Good            4140.0\n",
       "518  2017-11-04 17:00:00                Bad            2580.0"
      ]
     },
     "execution_count": 16,
     "metadata": {},
     "output_type": "execute_result"
    }
   ],
   "source": [
    "airport_trips_df.sample(5)"
   ]
  },
  {
   "cell_type": "code",
   "execution_count": 17,
   "metadata": {},
   "outputs": [
    {
     "name": "stdout",
     "output_type": "stream",
     "text": [
      "<class 'pandas.core.frame.DataFrame'>\n",
      "RangeIndex: 1068 entries, 0 to 1067\n",
      "Data columns (total 3 columns):\n",
      " #   Column              Non-Null Count  Dtype  \n",
      "---  ------              --------------  -----  \n",
      " 0   start_ts            1068 non-null   object \n",
      " 1   weather_conditions  1068 non-null   object \n",
      " 2   duration_seconds    1068 non-null   float64\n",
      "dtypes: float64(1), object(2)\n",
      "memory usage: 25.2+ KB\n"
     ]
    }
   ],
   "source": [
    "airport_trips_df.info()"
   ]
  },
  {
   "cell_type": "code",
   "execution_count": 18,
   "metadata": {},
   "outputs": [],
   "source": [
    "airport_trips_df['start_ts'] = pd.to_datetime(airport_trips_df['start_ts'], format='%Y-%m-%d %H:%M:%S')"
   ]
  },
  {
   "cell_type": "markdown",
   "metadata": {},
   "source": [
    "Se realiza la carga de un nuevo Dataset, en el que analizamos con los metodos **(.info,.sample)** como se encuentra la información , podemos ver que contamos con un campo con un tipo erroneo, como es **star_ts** que es un campo de fecha, por lo que debemos transformarlo con el método **(.to_datetime)**, así mismo podemos ver que no contamos con campos nulos."
   ]
  },
  {
   "cell_type": "code",
   "execution_count": 19,
   "metadata": {},
   "outputs": [
    {
     "name": "stdout",
     "output_type": "stream",
     "text": [
      "<class 'pandas.core.frame.DataFrame'>\n",
      "RangeIndex: 1068 entries, 0 to 1067\n",
      "Data columns (total 3 columns):\n",
      " #   Column              Non-Null Count  Dtype         \n",
      "---  ------              --------------  -----         \n",
      " 0   start_ts            1068 non-null   datetime64[ns]\n",
      " 1   weather_conditions  1068 non-null   object        \n",
      " 2   duration_seconds    1068 non-null   float64       \n",
      "dtypes: datetime64[ns](1), float64(1), object(1)\n",
      "memory usage: 25.2+ KB\n"
     ]
    }
   ],
   "source": [
    "airport_trips_df.info()"
   ]
  },
  {
   "cell_type": "code",
   "execution_count": 20,
   "metadata": {},
   "outputs": [
    {
     "data": {
      "text/html": [
       "<div>\n",
       "<style scoped>\n",
       "    .dataframe tbody tr th:only-of-type {\n",
       "        vertical-align: middle;\n",
       "    }\n",
       "\n",
       "    .dataframe tbody tr th {\n",
       "        vertical-align: top;\n",
       "    }\n",
       "\n",
       "    .dataframe thead th {\n",
       "        text-align: right;\n",
       "    }\n",
       "</style>\n",
       "<table border=\"1\" class=\"dataframe\">\n",
       "  <thead>\n",
       "    <tr style=\"text-align: right;\">\n",
       "      <th></th>\n",
       "      <th>start_ts</th>\n",
       "      <th>weather_conditions</th>\n",
       "      <th>duration_seconds</th>\n",
       "      <th>day_of_week</th>\n",
       "    </tr>\n",
       "  </thead>\n",
       "  <tbody>\n",
       "    <tr>\n",
       "      <th>0</th>\n",
       "      <td>2017-11-25 16:00:00</td>\n",
       "      <td>Good</td>\n",
       "      <td>2410.0</td>\n",
       "      <td>Saturday</td>\n",
       "    </tr>\n",
       "    <tr>\n",
       "      <th>1</th>\n",
       "      <td>2017-11-25 14:00:00</td>\n",
       "      <td>Good</td>\n",
       "      <td>1920.0</td>\n",
       "      <td>Saturday</td>\n",
       "    </tr>\n",
       "    <tr>\n",
       "      <th>2</th>\n",
       "      <td>2017-11-25 12:00:00</td>\n",
       "      <td>Good</td>\n",
       "      <td>1543.0</td>\n",
       "      <td>Saturday</td>\n",
       "    </tr>\n",
       "    <tr>\n",
       "      <th>3</th>\n",
       "      <td>2017-11-04 10:00:00</td>\n",
       "      <td>Good</td>\n",
       "      <td>2512.0</td>\n",
       "      <td>Saturday</td>\n",
       "    </tr>\n",
       "    <tr>\n",
       "      <th>4</th>\n",
       "      <td>2017-11-11 07:00:00</td>\n",
       "      <td>Good</td>\n",
       "      <td>1440.0</td>\n",
       "      <td>Saturday</td>\n",
       "    </tr>\n",
       "    <tr>\n",
       "      <th>...</th>\n",
       "      <td>...</td>\n",
       "      <td>...</td>\n",
       "      <td>...</td>\n",
       "      <td>...</td>\n",
       "    </tr>\n",
       "    <tr>\n",
       "      <th>1063</th>\n",
       "      <td>2017-11-25 11:00:00</td>\n",
       "      <td>Good</td>\n",
       "      <td>0.0</td>\n",
       "      <td>Saturday</td>\n",
       "    </tr>\n",
       "    <tr>\n",
       "      <th>1064</th>\n",
       "      <td>2017-11-11 10:00:00</td>\n",
       "      <td>Good</td>\n",
       "      <td>1318.0</td>\n",
       "      <td>Saturday</td>\n",
       "    </tr>\n",
       "    <tr>\n",
       "      <th>1065</th>\n",
       "      <td>2017-11-11 13:00:00</td>\n",
       "      <td>Good</td>\n",
       "      <td>2100.0</td>\n",
       "      <td>Saturday</td>\n",
       "    </tr>\n",
       "    <tr>\n",
       "      <th>1066</th>\n",
       "      <td>2017-11-11 08:00:00</td>\n",
       "      <td>Good</td>\n",
       "      <td>1380.0</td>\n",
       "      <td>Saturday</td>\n",
       "    </tr>\n",
       "    <tr>\n",
       "      <th>1067</th>\n",
       "      <td>2017-11-04 16:00:00</td>\n",
       "      <td>Bad</td>\n",
       "      <td>2834.0</td>\n",
       "      <td>Saturday</td>\n",
       "    </tr>\n",
       "  </tbody>\n",
       "</table>\n",
       "<p>1068 rows × 4 columns</p>\n",
       "</div>"
      ],
      "text/plain": [
       "                start_ts weather_conditions  duration_seconds day_of_week\n",
       "0    2017-11-25 16:00:00               Good            2410.0    Saturday\n",
       "1    2017-11-25 14:00:00               Good            1920.0    Saturday\n",
       "2    2017-11-25 12:00:00               Good            1543.0    Saturday\n",
       "3    2017-11-04 10:00:00               Good            2512.0    Saturday\n",
       "4    2017-11-11 07:00:00               Good            1440.0    Saturday\n",
       "...                  ...                ...               ...         ...\n",
       "1063 2017-11-25 11:00:00               Good               0.0    Saturday\n",
       "1064 2017-11-11 10:00:00               Good            1318.0    Saturday\n",
       "1065 2017-11-11 13:00:00               Good            2100.0    Saturday\n",
       "1066 2017-11-11 08:00:00               Good            1380.0    Saturday\n",
       "1067 2017-11-04 16:00:00                Bad            2834.0    Saturday\n",
       "\n",
       "[1068 rows x 4 columns]"
      ]
     },
     "execution_count": 20,
     "metadata": {},
     "output_type": "execute_result"
    }
   ],
   "source": [
    "airport_trips_df['day_of_week'] = airport_trips_df['start_ts'].dt.day_name()\n",
    "airport_trips_df"
   ]
  },
  {
   "cell_type": "markdown",
   "metadata": {},
   "source": [
    "Con el método **(.dt.day_name)** obtuvimos a día de la semana corresponde la información, y vemos que la tabla es del día sábado."
   ]
  },
  {
   "cell_type": "code",
   "execution_count": 21,
   "metadata": {},
   "outputs": [
    {
     "name": "stdout",
     "output_type": "stream",
     "text": [
      "Valor p: 6.517970327099473e-12\n",
      "Hay suficiente evidencia para rechazar la hipótesis nula.\n"
     ]
    }
   ],
   "source": [
    "bad_saturday = airport_trips_df[airport_trips_df['weather_conditions'] == 'Bad']['duration_seconds']\n",
    "good_saturday = airport_trips_df[airport_trips_df['weather_conditions'] == 'Good']['duration_seconds']\n",
    "resultado_prueba_t = st.ttest_ind(bad_saturday, good_saturday)\n",
    "pvalue = resultado_prueba_t.pvalue\n",
    "alpha = 0.05\n",
    "print(f\"Valor p: {pvalue}\")\n",
    "\n",
    "if pvalue > alpha:\n",
    "    print(\"No hay suficiente evidencia para rechazar la hipótesis nula.\")\n",
    "else:\n",
    "    print(\"Hay suficiente evidencia para rechazar la hipótesis nula.\")"
   ]
  },
  {
   "cell_type": "markdown",
   "metadata": {},
   "source": [
    "Determinmos el valor **alfa de 0.05** para el análisis. Se puede concluir que hay una diferencia significativa en la duración promedio de los viajes al aeropuerto los sábados cuando las condiciones climáticas son \"Malas\" en comparación con cuando son \"Buenas\". Esto sugiere que las condiciones climáticas **sí tienen un impacto en la duración de estos viajes.**"
   ]
  },
  {
   "cell_type": "markdown",
   "metadata": {},
   "source": [
    "La hipótesis nula es que los sábados, si cambia la duración de los viajes cuando el clima,  esta \"Malo\", y la hipótesis alternativa es que no cambia la duración de los viajes si el clima está \"Malo\". Se utilizó el criterio de igualdad de la media con poblaciones independientes **st.ttest_ind**"
   ]
  },
  {
   "cell_type": "markdown",
   "metadata": {},
   "source": [
    "<div class=\"alert alert-block alert-success\">\n",
    "<b>Comentario del revisor (1ra Iteración)</b> <a class=“tocSkip”></a>\n",
    "\n",
    "María aplicaste correctamente la prueba de hipótesis comparando la distribución de dos muestras independientes e interpretando de manera acertada el `p-value` obtenido y su relación con la hipótesis nula, logrando comprobar que el clima sí afecta la duración de los viajes en Taxi\n",
    "\n",
    "<div class=\"alert alert-block alert-warning\">\n",
    "<b>Comentario del revisor (1ra Iteración)</b> <a class=“tocSkip”></a>\n",
    "\n",
    "Te recomiendo realizar previamente una prueba de [Levene](https://www.educaopen.com/digital-lab/blog/educacion-digital/prueba-de-levene) para evaluar la igualdad de las varianzas, lo que te permitirá configurar adecuadamente el parámetro **equal_var** en la función `ttest_ind`. Esto te brindará una interpretación más precisa de los resultados además garantizará que la *prueba t* sea estadísticamente válida.\n",
    "\n",
    "</div>\n",
    "</div>"
   ]
  },
  {
   "cell_type": "markdown",
   "metadata": {},
   "source": [
    "**CONCLUSIONES**"
   ]
  },
  {
   "cell_type": "markdown",
   "metadata": {},
   "source": [
    "Utilizar los métodos adecuados como **(.info y .sample)** nos permite tener la visión de como esta la data y con información contamos. El poder aumentar columnas con cálculos propios, nos permiten realizat más análisis como el de **Pareto**, que es idela para no mostrar gráficas que no se puedan leer, así tambien poder crearnos listados que muetran los **TOP** con los método **(.sort_values)**, las **gráficas** son importantes para la visualización de las personas no técnicas y que en este mundo donde el tiempo es oro, se pueda a primera vista conocer como estan sus negocios o como están dando resultados diferentes estratégias, todo este conjunto de herramientas, nos ayudan a determinar nuestros anáslisis, en este coso conocer información relevante para la toma de decisiones, como lo barrios con mayor demanda o que empresas tienen la cocentración de viajes y sin duda al **formular una hipótesis** y su resultado, nos permite ver como, datos como el clima, muestra su impacto en los números."
   ]
  },
  {
   "cell_type": "markdown",
   "metadata": {},
   "source": [
    "<div class=\"alert alert-block alert-success\">\n",
    "<b>Comentario del revisor (1ra Iteración)</b> <a class=“tocSkip”></a>\n",
    "\n",
    "Has logrado integrar adecuadamente distintas técnicas de exploración y análisis de datos para generar conclusiones que aportan valor práctico.\n",
    "\n",
    "</div>"
   ]
  }
 ],
 "metadata": {
  "kernelspec": {
   "display_name": "Python 3 (ipykernel)",
   "language": "python",
   "name": "python3"
  },
  "language_info": {
   "codemirror_mode": {
    "name": "ipython",
    "version": 3
   },
   "file_extension": ".py",
   "mimetype": "text/x-python",
   "name": "python",
   "nbconvert_exporter": "python",
   "pygments_lexer": "ipython3",
   "version": "3.9.23"
  }
 },
 "nbformat": 4,
 "nbformat_minor": 4
}
