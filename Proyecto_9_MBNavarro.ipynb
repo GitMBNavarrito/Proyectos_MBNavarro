{
 "cells": [
  {
   "cell_type": "markdown",
   "metadata": {},
   "source": [
    "Hola **María**!\n",
    "\n",
    "Soy **Patricio Requena** 👋. Es un placer ser el revisor de tu proyecto el día de hoy!\n",
    "\n",
    "Revisaré tu proyecto detenidamente con el objetivo de ayudarte a mejorar y perfeccionar tus habilidades. Durante mi revisión, identificaré áreas donde puedas hacer mejoras en tu código, señalando específicamente qué y cómo podrías ajustar para optimizar el rendimiento y la claridad de tu proyecto. Además, es importante para mí destacar los aspectos que has manejado excepcionalmente bien. Reconocer tus fortalezas te ayudará a entender qué técnicas y métodos están funcionando a tu favor y cómo puedes aplicarlos en futuras tareas. \n",
    "\n",
    "_**Recuerda que al final de este notebook encontrarás un comentario general de mi parte**_, empecemos!\n",
    "\n",
    "Encontrarás mis comentarios dentro de cajas verdes, amarillas o rojas, ⚠️ **por favor, no muevas, modifiques o borres mis comentarios** ⚠️:\n",
    "\n",
    "\n",
    "<div class=\"alert alert-block alert-success\">\n",
    "<b>Comentario del revisor</b> <a class=“tocSkip”></a>\n",
    "Si todo está perfecto.\n",
    "</div>\n",
    "\n",
    "<div class=\"alert alert-block alert-warning\">\n",
    "<b>Comentario del revisor</b> <a class=“tocSkip”></a>\n",
    "Si tu código está bien pero se puede mejorar o hay algún detalle que le hace falta.\n",
    "</div>\n",
    "\n",
    "<div class=\"alert alert-block alert-danger\">\n",
    "<b>Comentario del revisor</b> <a class=“tocSkip”></a>\n",
    "Si de pronto hace falta algo o existe algún problema con tu código o conclusiones.\n",
    "</div>\n",
    "\n",
    "Puedes responderme de esta forma:\n",
    "<div class=\"alert alert-block alert-info\">\n",
    "<b>Respuesta del estudiante</b> <a class=“tocSkip”></a>\n",
    "--\n",
    "</div>"
   ]
  },
  {
   "cell_type": "markdown",
   "metadata": {},
   "source": [
    "**PROYECTO SHOWZ**"
   ]
  },
  {
   "cell_type": "markdown",
   "metadata": {},
   "source": [
    "Realizaremos un **análisis de la estructura** de los datos, para conocer, los nombres de la columnas, sus cantidades y que tipos de datos contienen. Posteriormente **prepararemos** los datos, limpiando la calidad de los mismos, así como requeriremos conocer, si existen datos ausente y solucionar los problemas de la data detectados. Si es necesario se aumentará columnas necesarias. Una vez con la información lista, procederemos a realizar distintos **análisis**, sean estos utilizados agrupaciones o gráficas, que nos permita contestar las preguntas del negocio."
   ]
  },
  {
   "cell_type": "markdown",
   "metadata": {},
   "source": [
    "<div class=\"alert alert-block alert-success\">\n",
    "<b>Comentario del revisor (1ra Iteracion)</b> <a class=“tocSkip”></a>\n",
    "\n",
    "Excelente presentación del notebook, siempre es muy buena práctica usar celdas markdown para los títulos y también para dejar tus comentarios\n",
    "</div>"
   ]
  },
  {
   "cell_type": "markdown",
   "metadata": {},
   "source": [
    "**ACCESO A LOS DATOS**"
   ]
  },
  {
   "cell_type": "code",
   "execution_count": 1,
   "metadata": {},
   "outputs": [],
   "source": [
    "import pandas as pd\n",
    "import numpy as np\n",
    "import matplotlib.pyplot as plt\n",
    "import seaborn as sns\n",
    "from scipy import stats as st"
   ]
  },
  {
   "cell_type": "code",
   "execution_count": 2,
   "metadata": {},
   "outputs": [],
   "source": [
    "visitas = pd.read_csv('/datasets/visits_log_us.csv')\n",
    "ordenes = pd.read_csv('/datasets/orders_log_us.csv')\n",
    "costos = pd.read_csv('/datasets/costs_us.csv')"
   ]
  },
  {
   "cell_type": "markdown",
   "metadata": {},
   "source": [
    "**DATOS DE VISITAS**"
   ]
  },
  {
   "cell_type": "markdown",
   "metadata": {},
   "source": [
    "***ANÁLISIS DE LA ESTRUCTURA***"
   ]
  },
  {
   "cell_type": "code",
   "execution_count": 3,
   "metadata": {},
   "outputs": [
    {
     "name": "stdout",
     "output_type": "stream",
     "text": [
      "<class 'pandas.core.frame.DataFrame'>\n",
      "RangeIndex: 359400 entries, 0 to 359399\n",
      "Data columns (total 5 columns):\n",
      " #   Column     Non-Null Count   Dtype \n",
      "---  ------     --------------   ----- \n",
      " 0   Device     359400 non-null  object\n",
      " 1   End Ts     359400 non-null  object\n",
      " 2   Source Id  359400 non-null  int64 \n",
      " 3   Start Ts   359400 non-null  object\n",
      " 4   Uid        359400 non-null  uint64\n",
      "dtypes: int64(1), object(3), uint64(1)\n",
      "memory usage: 13.7+ MB\n"
     ]
    }
   ],
   "source": [
    "visitas.info()"
   ]
  },
  {
   "cell_type": "code",
   "execution_count": 4,
   "metadata": {},
   "outputs": [
    {
     "data": {
      "text/html": [
       "<div>\n",
       "<style scoped>\n",
       "    .dataframe tbody tr th:only-of-type {\n",
       "        vertical-align: middle;\n",
       "    }\n",
       "\n",
       "    .dataframe tbody tr th {\n",
       "        vertical-align: top;\n",
       "    }\n",
       "\n",
       "    .dataframe thead th {\n",
       "        text-align: right;\n",
       "    }\n",
       "</style>\n",
       "<table border=\"1\" class=\"dataframe\">\n",
       "  <thead>\n",
       "    <tr style=\"text-align: right;\">\n",
       "      <th></th>\n",
       "      <th>Device</th>\n",
       "      <th>End Ts</th>\n",
       "      <th>Source Id</th>\n",
       "      <th>Start Ts</th>\n",
       "      <th>Uid</th>\n",
       "    </tr>\n",
       "  </thead>\n",
       "  <tbody>\n",
       "    <tr>\n",
       "      <th>285507</th>\n",
       "      <td>desktop</td>\n",
       "      <td>2018-01-22 15:52:00</td>\n",
       "      <td>2</td>\n",
       "      <td>2018-01-22 15:37:00</td>\n",
       "      <td>7046737606684150807</td>\n",
       "    </tr>\n",
       "    <tr>\n",
       "      <th>321863</th>\n",
       "      <td>desktop</td>\n",
       "      <td>2017-10-17 16:32:00</td>\n",
       "      <td>10</td>\n",
       "      <td>2017-10-17 16:21:00</td>\n",
       "      <td>11655060642431609635</td>\n",
       "    </tr>\n",
       "    <tr>\n",
       "      <th>62552</th>\n",
       "      <td>desktop</td>\n",
       "      <td>2017-11-22 16:11:00</td>\n",
       "      <td>1</td>\n",
       "      <td>2017-11-22 16:02:00</td>\n",
       "      <td>17030528792926543083</td>\n",
       "    </tr>\n",
       "    <tr>\n",
       "      <th>215669</th>\n",
       "      <td>desktop</td>\n",
       "      <td>2018-04-05 17:43:00</td>\n",
       "      <td>9</td>\n",
       "      <td>2018-04-05 17:43:00</td>\n",
       "      <td>3814827056394484073</td>\n",
       "    </tr>\n",
       "    <tr>\n",
       "      <th>151322</th>\n",
       "      <td>desktop</td>\n",
       "      <td>2017-10-05 18:53:00</td>\n",
       "      <td>5</td>\n",
       "      <td>2017-10-05 18:53:00</td>\n",
       "      <td>4033516565783449737</td>\n",
       "    </tr>\n",
       "    <tr>\n",
       "      <th>291506</th>\n",
       "      <td>desktop</td>\n",
       "      <td>2017-10-18 18:47:00</td>\n",
       "      <td>3</td>\n",
       "      <td>2017-10-18 18:45:00</td>\n",
       "      <td>936061457076456002</td>\n",
       "    </tr>\n",
       "    <tr>\n",
       "      <th>341463</th>\n",
       "      <td>touch</td>\n",
       "      <td>2017-12-13 18:04:00</td>\n",
       "      <td>4</td>\n",
       "      <td>2017-12-13 18:03:00</td>\n",
       "      <td>1168728431842261576</td>\n",
       "    </tr>\n",
       "    <tr>\n",
       "      <th>2918</th>\n",
       "      <td>touch</td>\n",
       "      <td>2018-03-04 21:44:00</td>\n",
       "      <td>4</td>\n",
       "      <td>2018-03-04 21:34:00</td>\n",
       "      <td>16066124779113506503</td>\n",
       "    </tr>\n",
       "    <tr>\n",
       "      <th>66150</th>\n",
       "      <td>touch</td>\n",
       "      <td>2018-02-23 23:11:00</td>\n",
       "      <td>3</td>\n",
       "      <td>2018-02-23 23:07:00</td>\n",
       "      <td>909336293291631064</td>\n",
       "    </tr>\n",
       "    <tr>\n",
       "      <th>186738</th>\n",
       "      <td>desktop</td>\n",
       "      <td>2018-02-27 19:59:00</td>\n",
       "      <td>1</td>\n",
       "      <td>2018-02-27 19:34:00</td>\n",
       "      <td>5788288753283437818</td>\n",
       "    </tr>\n",
       "  </tbody>\n",
       "</table>\n",
       "</div>"
      ],
      "text/plain": [
       "         Device               End Ts  Source Id             Start Ts  \\\n",
       "285507  desktop  2018-01-22 15:52:00          2  2018-01-22 15:37:00   \n",
       "321863  desktop  2017-10-17 16:32:00         10  2017-10-17 16:21:00   \n",
       "62552   desktop  2017-11-22 16:11:00          1  2017-11-22 16:02:00   \n",
       "215669  desktop  2018-04-05 17:43:00          9  2018-04-05 17:43:00   \n",
       "151322  desktop  2017-10-05 18:53:00          5  2017-10-05 18:53:00   \n",
       "291506  desktop  2017-10-18 18:47:00          3  2017-10-18 18:45:00   \n",
       "341463    touch  2017-12-13 18:04:00          4  2017-12-13 18:03:00   \n",
       "2918      touch  2018-03-04 21:44:00          4  2018-03-04 21:34:00   \n",
       "66150     touch  2018-02-23 23:11:00          3  2018-02-23 23:07:00   \n",
       "186738  desktop  2018-02-27 19:59:00          1  2018-02-27 19:34:00   \n",
       "\n",
       "                         Uid  \n",
       "285507   7046737606684150807  \n",
       "321863  11655060642431609635  \n",
       "62552   17030528792926543083  \n",
       "215669   3814827056394484073  \n",
       "151322   4033516565783449737  \n",
       "291506    936061457076456002  \n",
       "341463   1168728431842261576  \n",
       "2918    16066124779113506503  \n",
       "66150     909336293291631064  \n",
       "186738   5788288753283437818  "
      ]
     },
     "execution_count": 4,
     "metadata": {},
     "output_type": "execute_result"
    }
   ],
   "source": [
    "visitas.sample(10)"
   ]
  },
  {
   "cell_type": "code",
   "execution_count": 5,
   "metadata": {},
   "outputs": [
    {
     "data": {
      "text/plain": [
       "0"
      ]
     },
     "execution_count": 5,
     "metadata": {},
     "output_type": "execute_result"
    }
   ],
   "source": [
    "visitas.duplicated().sum( )"
   ]
  },
  {
   "cell_type": "markdown",
   "metadata": {},
   "source": [
    "El DataFrame visitas cuenta con 5 columnas, que obtuvimos aplicando el método **(.info)** vemos que no hay valores ausentes, pues cada columna cuenta con el mismo número de filas. Así mismo, tenemos 3 columnas que son necesario convertir su tipo, para los futuros análisis, que son **End Ts**, **Start Ts**. Con el método **(.sample)** obtenemos aleatoriamente filas para visualizar su estructura y como está la data. Adicionalmente, aplicamos el método **(.duplicated)** para conocer si hay filas con duplicados explícitos."
   ]
  },
  {
   "cell_type": "markdown",
   "metadata": {},
   "source": [
    "***LIMPIEZA DE DATOS***"
   ]
  },
  {
   "cell_type": "code",
   "execution_count": 6,
   "metadata": {},
   "outputs": [],
   "source": [
    "visitas['End Ts'] = pd.to_datetime(visitas['End Ts'])\n",
    "visitas['Start Ts'] = pd.to_datetime(visitas['Start Ts'])"
   ]
  },
  {
   "cell_type": "code",
   "execution_count": 7,
   "metadata": {},
   "outputs": [
    {
     "name": "stdout",
     "output_type": "stream",
     "text": [
      "<class 'pandas.core.frame.DataFrame'>\n",
      "RangeIndex: 359400 entries, 0 to 359399\n",
      "Data columns (total 5 columns):\n",
      " #   Column     Non-Null Count   Dtype         \n",
      "---  ------     --------------   -----         \n",
      " 0   Device     359400 non-null  object        \n",
      " 1   End Ts     359400 non-null  datetime64[ns]\n",
      " 2   Source Id  359400 non-null  int64         \n",
      " 3   Start Ts   359400 non-null  datetime64[ns]\n",
      " 4   Uid        359400 non-null  uint64        \n",
      "dtypes: datetime64[ns](2), int64(1), object(1), uint64(1)\n",
      "memory usage: 13.7+ MB\n"
     ]
    }
   ],
   "source": [
    "visitas.info()"
   ]
  },
  {
   "cell_type": "code",
   "execution_count": 8,
   "metadata": {},
   "outputs": [
    {
     "name": "stdout",
     "output_type": "stream",
     "text": [
      "<class 'pandas.core.frame.DataFrame'>\n",
      "RangeIndex: 359400 entries, 0 to 359399\n",
      "Data columns (total 5 columns):\n",
      " #   Column     Non-Null Count   Dtype         \n",
      "---  ------     --------------   -----         \n",
      " 0   Device     359400 non-null  object        \n",
      " 1   end_ts     359400 non-null  datetime64[ns]\n",
      " 2   source_id  359400 non-null  int64         \n",
      " 3   start_ts   359400 non-null  datetime64[ns]\n",
      " 4   Uid        359400 non-null  uint64        \n",
      "dtypes: datetime64[ns](2), int64(1), object(1), uint64(1)\n",
      "memory usage: 13.7+ MB\n"
     ]
    }
   ],
   "source": [
    "visitas = visitas.rename(columns={'Source Id': 'source_id'})\n",
    "visitas = visitas.rename(columns={'End Ts': 'end_ts'})\n",
    "visitas = visitas.rename(columns={'Start Ts': 'start_ts'})\n",
    "visitas.info()"
   ]
  },
  {
   "cell_type": "markdown",
   "metadata": {},
   "source": [
    "Aplicamos el método **(.to_datetime)** para transformar las columnas **End Ts**, **Start Ts** a tipo fecha, así como corregimos los nombres de las columnas a los formatos correspondientes, con el método **(.rename)**. Analizando los campos de todas las tablas, vemos que la tabla de costos, contiene la columna **source_id**, columna que también posee la tabla de visitas, por lo que con el método **(.rename)** se unificó los nombres. Posteriormente, aplicamos nuevamente el método **(.info)** para validar la transformación."
   ]
  },
  {
   "cell_type": "markdown",
   "metadata": {},
   "source": [
    "**DATOS DE PEDIDOS**"
   ]
  },
  {
   "cell_type": "markdown",
   "metadata": {},
   "source": [
    "***ANÁLISIS DE LA ESTRUCTURA***"
   ]
  },
  {
   "cell_type": "code",
   "execution_count": 9,
   "metadata": {},
   "outputs": [
    {
     "name": "stdout",
     "output_type": "stream",
     "text": [
      "<class 'pandas.core.frame.DataFrame'>\n",
      "RangeIndex: 50415 entries, 0 to 50414\n",
      "Data columns (total 3 columns):\n",
      " #   Column   Non-Null Count  Dtype  \n",
      "---  ------   --------------  -----  \n",
      " 0   Buy Ts   50415 non-null  object \n",
      " 1   Revenue  50415 non-null  float64\n",
      " 2   Uid      50415 non-null  uint64 \n",
      "dtypes: float64(1), object(1), uint64(1)\n",
      "memory usage: 1.2+ MB\n"
     ]
    }
   ],
   "source": [
    "ordenes.info()"
   ]
  },
  {
   "cell_type": "code",
   "execution_count": 10,
   "metadata": {},
   "outputs": [
    {
     "data": {
      "text/html": [
       "<div>\n",
       "<style scoped>\n",
       "    .dataframe tbody tr th:only-of-type {\n",
       "        vertical-align: middle;\n",
       "    }\n",
       "\n",
       "    .dataframe tbody tr th {\n",
       "        vertical-align: top;\n",
       "    }\n",
       "\n",
       "    .dataframe thead th {\n",
       "        text-align: right;\n",
       "    }\n",
       "</style>\n",
       "<table border=\"1\" class=\"dataframe\">\n",
       "  <thead>\n",
       "    <tr style=\"text-align: right;\">\n",
       "      <th></th>\n",
       "      <th>Buy Ts</th>\n",
       "      <th>Revenue</th>\n",
       "      <th>Uid</th>\n",
       "    </tr>\n",
       "  </thead>\n",
       "  <tbody>\n",
       "    <tr>\n",
       "      <th>10775</th>\n",
       "      <td>2017-10-05 11:44:00</td>\n",
       "      <td>1.10</td>\n",
       "      <td>3499967677428839335</td>\n",
       "    </tr>\n",
       "    <tr>\n",
       "      <th>651</th>\n",
       "      <td>2017-06-06 20:33:00</td>\n",
       "      <td>3.12</td>\n",
       "      <td>8080173634967775202</td>\n",
       "    </tr>\n",
       "    <tr>\n",
       "      <th>6207</th>\n",
       "      <td>2017-08-28 14:30:00</td>\n",
       "      <td>7.33</td>\n",
       "      <td>13888745432979765063</td>\n",
       "    </tr>\n",
       "    <tr>\n",
       "      <th>17176</th>\n",
       "      <td>2017-11-12 18:32:00</td>\n",
       "      <td>2.22</td>\n",
       "      <td>12282918141281811120</td>\n",
       "    </tr>\n",
       "    <tr>\n",
       "      <th>39282</th>\n",
       "      <td>2018-03-10 12:50:00</td>\n",
       "      <td>5.25</td>\n",
       "      <td>10019725652270376988</td>\n",
       "    </tr>\n",
       "    <tr>\n",
       "      <th>583</th>\n",
       "      <td>2017-06-06 14:42:00</td>\n",
       "      <td>0.61</td>\n",
       "      <td>15036383982305854706</td>\n",
       "    </tr>\n",
       "    <tr>\n",
       "      <th>15937</th>\n",
       "      <td>2017-11-03 12:29:00</td>\n",
       "      <td>2.44</td>\n",
       "      <td>8842268596612296499</td>\n",
       "    </tr>\n",
       "    <tr>\n",
       "      <th>14974</th>\n",
       "      <td>2017-10-27 23:48:00</td>\n",
       "      <td>0.83</td>\n",
       "      <td>458046032361337415</td>\n",
       "    </tr>\n",
       "    <tr>\n",
       "      <th>23557</th>\n",
       "      <td>2017-12-12 12:49:00</td>\n",
       "      <td>0.12</td>\n",
       "      <td>8759588290474993698</td>\n",
       "    </tr>\n",
       "    <tr>\n",
       "      <th>34616</th>\n",
       "      <td>2018-02-13 18:44:00</td>\n",
       "      <td>5.38</td>\n",
       "      <td>7365917381491715084</td>\n",
       "    </tr>\n",
       "  </tbody>\n",
       "</table>\n",
       "</div>"
      ],
      "text/plain": [
       "                    Buy Ts  Revenue                   Uid\n",
       "10775  2017-10-05 11:44:00     1.10   3499967677428839335\n",
       "651    2017-06-06 20:33:00     3.12   8080173634967775202\n",
       "6207   2017-08-28 14:30:00     7.33  13888745432979765063\n",
       "17176  2017-11-12 18:32:00     2.22  12282918141281811120\n",
       "39282  2018-03-10 12:50:00     5.25  10019725652270376988\n",
       "583    2017-06-06 14:42:00     0.61  15036383982305854706\n",
       "15937  2017-11-03 12:29:00     2.44   8842268596612296499\n",
       "14974  2017-10-27 23:48:00     0.83    458046032361337415\n",
       "23557  2017-12-12 12:49:00     0.12   8759588290474993698\n",
       "34616  2018-02-13 18:44:00     5.38   7365917381491715084"
      ]
     },
     "execution_count": 10,
     "metadata": {},
     "output_type": "execute_result"
    }
   ],
   "source": [
    "ordenes.sample(10)"
   ]
  },
  {
   "cell_type": "code",
   "execution_count": 11,
   "metadata": {},
   "outputs": [
    {
     "data": {
      "text/plain": [
       "0"
      ]
     },
     "execution_count": 11,
     "metadata": {},
     "output_type": "execute_result"
    }
   ],
   "source": [
    "ordenes.duplicated().sum( )"
   ]
  },
  {
   "cell_type": "markdown",
   "metadata": {},
   "source": [
    "El DataFrame órdenes cuenta con 3 columnas, que obtuvimos aplicando el método **(.info)** vemos que no hay valores ausentes, pues cada columna cuenta con el mismo número de filas. Así mismo, tenemos 1 columna que es necesario convertir su tipo, para los futuros análisis, que es **Buy Ts**. Con el método **(.sample)** obtenemos aleatoriamente filas para visualizar su estructura y como está la data. Adicionalmente, aplicamos el método **(.duplicated)** para conocer si hay filas con duplicados explícitos."
   ]
  },
  {
   "cell_type": "markdown",
   "metadata": {},
   "source": [
    "***LIMPIEZA DE DATOS***"
   ]
  },
  {
   "cell_type": "code",
   "execution_count": 12,
   "metadata": {},
   "outputs": [],
   "source": [
    "ordenes['Buy Ts'] = pd.to_datetime(ordenes['Buy Ts'])\n",
    "ordenes = ordenes.rename(columns={'Buy Ts': 'buy_ts'})"
   ]
  },
  {
   "cell_type": "code",
   "execution_count": 13,
   "metadata": {},
   "outputs": [
    {
     "name": "stdout",
     "output_type": "stream",
     "text": [
      "<class 'pandas.core.frame.DataFrame'>\n",
      "RangeIndex: 50415 entries, 0 to 50414\n",
      "Data columns (total 3 columns):\n",
      " #   Column   Non-Null Count  Dtype         \n",
      "---  ------   --------------  -----         \n",
      " 0   buy_ts   50415 non-null  datetime64[ns]\n",
      " 1   Revenue  50415 non-null  float64       \n",
      " 2   Uid      50415 non-null  uint64        \n",
      "dtypes: datetime64[ns](1), float64(1), uint64(1)\n",
      "memory usage: 1.2 MB\n"
     ]
    }
   ],
   "source": [
    "ordenes.info()"
   ]
  },
  {
   "cell_type": "markdown",
   "metadata": {},
   "source": [
    "Aplicamos el método **(.to_datetime)** para transformar la columna **Buy Ts** a tipo fecha así como corregimos el nombre de la columna en el formato respectivo, con el método **(.rename)** Posteriormente, aplicamos nuevamente el método **(.info)** para validar la transformación."
   ]
  },
  {
   "cell_type": "markdown",
   "metadata": {},
   "source": [
    "**DATOS DE GASTOS DE MARKETING**"
   ]
  },
  {
   "cell_type": "markdown",
   "metadata": {},
   "source": [
    "***ANÁLISIS DE LA ESTRUCTURA***"
   ]
  },
  {
   "cell_type": "code",
   "execution_count": 14,
   "metadata": {},
   "outputs": [
    {
     "name": "stdout",
     "output_type": "stream",
     "text": [
      "<class 'pandas.core.frame.DataFrame'>\n",
      "RangeIndex: 2542 entries, 0 to 2541\n",
      "Data columns (total 3 columns):\n",
      " #   Column     Non-Null Count  Dtype  \n",
      "---  ------     --------------  -----  \n",
      " 0   source_id  2542 non-null   int64  \n",
      " 1   dt         2542 non-null   object \n",
      " 2   costs      2542 non-null   float64\n",
      "dtypes: float64(1), int64(1), object(1)\n",
      "memory usage: 59.7+ KB\n"
     ]
    }
   ],
   "source": [
    "costos.info()"
   ]
  },
  {
   "cell_type": "code",
   "execution_count": 15,
   "metadata": {},
   "outputs": [
    {
     "data": {
      "text/html": [
       "<div>\n",
       "<style scoped>\n",
       "    .dataframe tbody tr th:only-of-type {\n",
       "        vertical-align: middle;\n",
       "    }\n",
       "\n",
       "    .dataframe tbody tr th {\n",
       "        vertical-align: top;\n",
       "    }\n",
       "\n",
       "    .dataframe thead th {\n",
       "        text-align: right;\n",
       "    }\n",
       "</style>\n",
       "<table border=\"1\" class=\"dataframe\">\n",
       "  <thead>\n",
       "    <tr style=\"text-align: right;\">\n",
       "      <th></th>\n",
       "      <th>source_id</th>\n",
       "      <th>dt</th>\n",
       "      <th>costs</th>\n",
       "    </tr>\n",
       "  </thead>\n",
       "  <tbody>\n",
       "    <tr>\n",
       "      <th>922</th>\n",
       "      <td>3</td>\n",
       "      <td>2017-12-14</td>\n",
       "      <td>679.05</td>\n",
       "    </tr>\n",
       "    <tr>\n",
       "      <th>1311</th>\n",
       "      <td>4</td>\n",
       "      <td>2018-01-09</td>\n",
       "      <td>66.62</td>\n",
       "    </tr>\n",
       "    <tr>\n",
       "      <th>472</th>\n",
       "      <td>2</td>\n",
       "      <td>2017-09-18</td>\n",
       "      <td>103.36</td>\n",
       "    </tr>\n",
       "    <tr>\n",
       "      <th>2262</th>\n",
       "      <td>10</td>\n",
       "      <td>2017-08-23</td>\n",
       "      <td>8.73</td>\n",
       "    </tr>\n",
       "    <tr>\n",
       "      <th>2177</th>\n",
       "      <td>9</td>\n",
       "      <td>2018-05-30</td>\n",
       "      <td>23.57</td>\n",
       "    </tr>\n",
       "    <tr>\n",
       "      <th>274</th>\n",
       "      <td>1</td>\n",
       "      <td>2018-03-02</td>\n",
       "      <td>76.10</td>\n",
       "    </tr>\n",
       "    <tr>\n",
       "      <th>2315</th>\n",
       "      <td>10</td>\n",
       "      <td>2017-10-15</td>\n",
       "      <td>24.30</td>\n",
       "    </tr>\n",
       "    <tr>\n",
       "      <th>2117</th>\n",
       "      <td>9</td>\n",
       "      <td>2018-03-29</td>\n",
       "      <td>13.96</td>\n",
       "    </tr>\n",
       "    <tr>\n",
       "      <th>1276</th>\n",
       "      <td>4</td>\n",
       "      <td>2017-12-05</td>\n",
       "      <td>788.03</td>\n",
       "    </tr>\n",
       "    <tr>\n",
       "      <th>657</th>\n",
       "      <td>2</td>\n",
       "      <td>2018-03-22</td>\n",
       "      <td>142.55</td>\n",
       "    </tr>\n",
       "  </tbody>\n",
       "</table>\n",
       "</div>"
      ],
      "text/plain": [
       "      source_id          dt   costs\n",
       "922           3  2017-12-14  679.05\n",
       "1311          4  2018-01-09   66.62\n",
       "472           2  2017-09-18  103.36\n",
       "2262         10  2017-08-23    8.73\n",
       "2177          9  2018-05-30   23.57\n",
       "274           1  2018-03-02   76.10\n",
       "2315         10  2017-10-15   24.30\n",
       "2117          9  2018-03-29   13.96\n",
       "1276          4  2017-12-05  788.03\n",
       "657           2  2018-03-22  142.55"
      ]
     },
     "execution_count": 15,
     "metadata": {},
     "output_type": "execute_result"
    }
   ],
   "source": [
    "costos.sample(10)"
   ]
  },
  {
   "cell_type": "code",
   "execution_count": 16,
   "metadata": {},
   "outputs": [
    {
     "data": {
      "text/plain": [
       "0"
      ]
     },
     "execution_count": 16,
     "metadata": {},
     "output_type": "execute_result"
    }
   ],
   "source": [
    "costos.duplicated().sum( )"
   ]
  },
  {
   "cell_type": "markdown",
   "metadata": {},
   "source": [
    "El DataFrame costos cuenta con 3 columnas, que obtuvimos aplicando el método **(.info)** vemos que no hay valores ausentes, pues cada columna cuenta con el mismo número de filas. Así mismo, tenemos 1 columna que es necesario convertir su tipo, para los futuros análisis, que es **dt**. Con el método **(.sample)** obtenemos aleatoriamente filas para visualizar su estructura y como está la data. Adicionalmente, aplicamos el método **(.duplicated)** para conocer si hay filas con duplicados explícitos."
   ]
  },
  {
   "cell_type": "markdown",
   "metadata": {},
   "source": [
    "***LIMPIEZA DE DATOS***"
   ]
  },
  {
   "cell_type": "code",
   "execution_count": 17,
   "metadata": {},
   "outputs": [],
   "source": [
    "costos['dt'] = pd.to_datetime(costos['dt'])"
   ]
  },
  {
   "cell_type": "code",
   "execution_count": 18,
   "metadata": {},
   "outputs": [
    {
     "name": "stdout",
     "output_type": "stream",
     "text": [
      "<class 'pandas.core.frame.DataFrame'>\n",
      "RangeIndex: 2542 entries, 0 to 2541\n",
      "Data columns (total 3 columns):\n",
      " #   Column     Non-Null Count  Dtype         \n",
      "---  ------     --------------  -----         \n",
      " 0   source_id  2542 non-null   int64         \n",
      " 1   dt         2542 non-null   datetime64[ns]\n",
      " 2   costs      2542 non-null   float64       \n",
      "dtypes: datetime64[ns](1), float64(1), int64(1)\n",
      "memory usage: 59.7 KB\n"
     ]
    }
   ],
   "source": [
    "costos.info()"
   ]
  },
  {
   "cell_type": "markdown",
   "metadata": {},
   "source": [
    "Aplicamos el método **(.to_datetime)** para transformar la columna **dt** a tipo fecha. Posteriormente, aplicamos nuevamente el método **(.info)** para validar la transformación."
   ]
  },
  {
   "cell_type": "markdown",
   "metadata": {},
   "source": [
    "<div class=\"alert alert-block alert-success\">\n",
    "<b>Comentario del revisor (1ra Iteracion)</b> <a class=“tocSkip”></a>\n",
    "\n",
    "Muy buen trabajo con el análisis inicial de tus dataset, siempre es importante primero revisar la calidad de los datos y el tipo de los mismos antes de pasar a cualquier análisis\n",
    "</div>"
   ]
  },
  {
   "cell_type": "markdown",
   "metadata": {},
   "source": [
    "**INFORMES Y MÉTRICAS**"
   ]
  },
  {
   "cell_type": "markdown",
   "metadata": {},
   "source": [
    "Realizaremos la inclusión de columnas correspondientes a tiempo, separando fecha, mes año, para poder tener los cohortes por tiempo y posteriormente las agrupaciones, gráficas que conteste las preguntas del negocio."
   ]
  },
  {
   "cell_type": "markdown",
   "metadata": {},
   "source": [
    "**VISITAS**"
   ]
  },
  {
   "cell_type": "code",
   "execution_count": 19,
   "metadata": {},
   "outputs": [],
   "source": [
    "visitas['session_year'] = visitas['start_ts'].dt.isocalendar().year\n",
    "visitas['session_month'] = visitas['start_ts'].dt.month\n",
    "visitas['session_week'] = visitas['start_ts'].dt.isocalendar().week\n",
    "visitas['session_date'] = visitas['start_ts'].dt.date"
   ]
  },
  {
   "cell_type": "markdown",
   "metadata": {},
   "source": [
    "**Periodo de Análisis**"
   ]
  },
  {
   "cell_type": "code",
   "execution_count": 20,
   "metadata": {},
   "outputs": [
    {
     "name": "stdout",
     "output_type": "stream",
     "text": [
      "2017-06-01 00:00:00\n",
      "2018-05-31 00:00:00\n"
     ]
    }
   ],
   "source": [
    "visitas['session_date'] = pd.to_datetime(visitas['session_date'])\n",
    "min_date = visitas['session_date'].min()\n",
    "max_date = visitas['session_date'].max()\n",
    "print(min_date)\n",
    "print(max_date)"
   ]
  },
  {
   "cell_type": "markdown",
   "metadata": {},
   "source": [
    "Es importante conocer el periodo que estamos analizando las visitas, calculamos tanto el máximo como el mínimo de la fecha de inicio de sesión con los métodos **min()** y **max()**, y obtenemos que el periodo de análisis es de **1 año** iniciando en junio del 2017 y terminando en mayo del 2018."
   ]
  },
  {
   "cell_type": "markdown",
   "metadata": {},
   "source": [
    "**Volumen de Visitas**"
   ]
  },
  {
   "cell_type": "code",
   "execution_count": 21,
   "metadata": {},
   "outputs": [],
   "source": [
    "visitas_per_month = visitas.groupby('session_month')['Uid'].count().reset_index()"
   ]
  },
  {
   "cell_type": "code",
   "execution_count": 22,
   "metadata": {},
   "outputs": [
    {
     "data": {
      "image/png": "[encoded data removed]",
      "text/plain": [
       "<Figure size 640x480 with 1 Axes>"
      ]
     },
     "metadata": {},
     "output_type": "display_data"
    }
   ],
   "source": [
    "sns.lineplot(x='session_month', y='Uid', data=visitas_per_month, ci=None)\n",
    "plt.title('Visitas Por Mes')\n",
    "plt.xlabel('Mes')\n",
    "plt.ylabel('Visitas')\n",
    "plt.xticks(visitas_per_month['session_month'].unique())\n",
    "plt.show()"
   ]
  },
  {
   "cell_type": "code",
   "execution_count": 23,
   "metadata": {},
   "outputs": [
    {
     "name": "stdout",
     "output_type": "stream",
     "text": [
      "Número de visitas máximo: 43,969.00\n"
     ]
    }
   ],
   "source": [
    "print(f\"Número de visitas máximo: {visitas_per_month['Uid'].max():,.2f}\")"
   ]
  },
  {
   "cell_type": "markdown",
   "metadata": {},
   "source": [
    "En el periodo analizado, vemos que el mes que más visitas hubo fue el mes **Noviembre, con 43,969 visitas**"
   ]
  },
  {
   "cell_type": "code",
   "execution_count": 24,
   "metadata": {},
   "outputs": [],
   "source": [
    "visitas_per_dispositivo = visitas.groupby('Device')['Uid'].count().reset_index()"
   ]
  },
  {
   "cell_type": "code",
   "execution_count": 25,
   "metadata": {},
   "outputs": [
    {
     "data": {
      "image/png": "[encoded data removed]",
      "text/plain": [
       "<Figure size 640x480 with 1 Axes>"
      ]
     },
     "metadata": {},
     "output_type": "display_data"
    }
   ],
   "source": [
    "sns.barplot(x='Device', y='Uid', data=visitas_per_dispositivo)\n",
    "plt.title('Visitas Por Dispositivo')\n",
    "plt.xlabel('Dispositivo')\n",
    "plt.ylabel('Visitas')\n",
    "plt.show()"
   ]
  },
  {
   "cell_type": "markdown",
   "metadata": {},
   "source": [
    "En dispositivo que más utilizan las personas es el **desktop** para ingresar a la plataforma analizada."
   ]
  },
  {
   "cell_type": "code",
   "execution_count": 26,
   "metadata": {},
   "outputs": [],
   "source": [
    "visitas_per_anuncio = visitas.groupby('source_id')['Uid'].count().reset_index()"
   ]
  },
  {
   "cell_type": "code",
   "execution_count": 27,
   "metadata": {},
   "outputs": [
    {
     "data": {
      "image/png": "[encoded data removed]",
      "text/plain": [
       "<Figure size 640x480 with 1 Axes>"
      ]
     },
     "metadata": {},
     "output_type": "display_data"
    }
   ],
   "source": [
    "sns.lineplot(x='source_id', y='Uid', data=visitas_per_anuncio, ci=None)\n",
    "plt.title('Visitas Por Anuncio')\n",
    "plt.xlabel('Anuncio')\n",
    "plt.ylabel('Visitas')\n",
    "plt.xticks(visitas_per_anuncio['source_id'].unique())\n",
    "plt.show()"
   ]
  },
  {
   "cell_type": "code",
   "execution_count": 28,
   "metadata": {},
   "outputs": [
    {
     "name": "stdout",
     "output_type": "stream",
     "text": [
      "Número de visitas máximo: 101,794.00\n"
     ]
    }
   ],
   "source": [
    "print(f\"Número de visitas máximo: {visitas_per_anuncio['Uid'].max():,.2f}\")"
   ]
  },
  {
   "cell_type": "markdown",
   "metadata": {},
   "source": [
    "Hubo más visitas por el anuncio de **4** al ingresar a la plataforma analizada, con 101,794 visitas."
   ]
  },
  {
   "cell_type": "markdown",
   "metadata": {},
   "source": [
    "**Métricas de Usuarios**"
   ]
  },
  {
   "cell_type": "code",
   "execution_count": 29,
   "metadata": {},
   "outputs": [
    {
     "name": "stdout",
     "output_type": "stream",
     "text": [
      "# de personas que visitan por día:907.99\n",
      "# de personas que visitan por semana:5,716.25\n",
      "# de personas que visitan por mes:23,228.42\n"
     ]
    }
   ],
   "source": [
    "MAU = (visitas.groupby(['session_year','session_month']).agg({'Uid': 'nunique'}).mean())\n",
    "WAU = (visitas.groupby(['session_year','session_week']).agg({'Uid': 'nunique'}).mean())\n",
    "DAU = visitas.groupby('session_date').agg({'Uid': 'nunique'}).mean()\n",
    "print(f'# de personas que visitan por día:{DAU.item():,.2f}')\n",
    "print(f'# de personas que visitan por semana:{WAU.item():,.2f}')\n",
    "print(f'# de personas que visitan por mes:{MAU.item():,.2f}')"
   ]
  },
  {
   "cell_type": "markdown",
   "metadata": {},
   "source": [
    "**Métricas de Usuarios (DAU, WAU, MAU)**\n",
    "La página de Showz cuenta con una audiencia activa diaria (DAU) de **908 personas**. Semanalmente, la audiencia activa semanal (WAU) asciende a **5,716 personas**, y mensualmente, una audiencia activa mensual (MAU) alcanza las **23,228 personas**. Estos indicadores de actividad se obtuvieron utilizando las capacidades de **datetime**, específicamente el método **.dt.isocalendar**."
   ]
  },
  {
   "cell_type": "code",
   "execution_count": 30,
   "metadata": {},
   "outputs": [
    {
     "name": "stdout",
     "output_type": "stream",
     "text": [
      "# sesiones por día: 987.36\n"
     ]
    }
   ],
   "source": [
    "sessions_per_day = visitas.groupby(['session_date']).size()\n",
    "average_sessions_per_day = sessions_per_day.mean()\n",
    "print(f'# sesiones por día: {average_sessions_per_day:,.2f}')"
   ]
  },
  {
   "cell_type": "code",
   "execution_count": 31,
   "metadata": {},
   "outputs": [
    {
     "name": "stdout",
     "output_type": "stream",
     "text": [
      "Duración de cada sesión: 5.00 minutes\n"
     ]
    }
   ],
   "source": [
    "visitas['session_duration_min'] = ((visitas['end_ts']- visitas['start_ts']).dt.seconds) / 60\n",
    "average_sessions = visitas['session_duration_min'].median()\n",
    "print(f'Duración de cada sesión: {average_sessions:,.2f} minutes')"
   ]
  },
  {
   "cell_type": "markdown",
   "metadata": {},
   "source": [
    "**Métricas de Sesión**\n",
    "Registramos un promedio de **987 sesiones por día**. Este cálculo se realizó agrupando los registros diarios con el método **.groupby()** y determinando el número de entradas **.size()** por cada día. La duración promedio de cada sesión es de **5 minutos**. Para obtener esta métrica, calculamos la diferencia entre la fecha de cierre **end_ts** y la fecha de inicio de sesión **start_ts**, extrajimos la diferencia en segundos con el método **.dt.seconds**, y luego la convertimos a minutos, para el promedio utilizamos la **(.median)**, entendiendo que el giro de estar en una sesión es que puede haber tiempos atípicos."
   ]
  },
  {
   "cell_type": "markdown",
   "metadata": {},
   "source": [
    "Para futuros Análisis es importante obtener la fecha de la primera visita y el tiempo que trascurre entre la primera visita y las siguientes sesiones."
   ]
  },
  {
   "cell_type": "code",
   "execution_count": 32,
   "metadata": {},
   "outputs": [],
   "source": [
    "first_activity_date = visitas.groupby(['Uid'])['session_date'].min().reset_index()\n",
    "first_activity_date.columns = ['Uid', 'first_date']"
   ]
  },
  {
   "cell_type": "code",
   "execution_count": 33,
   "metadata": {},
   "outputs": [],
   "source": [
    "visitas_with_first_date = visitas.merge(first_activity_date, on='Uid', how='left')"
   ]
  },
  {
   "cell_type": "code",
   "execution_count": 34,
   "metadata": {},
   "outputs": [],
   "source": [
    "visitas_with_first_date['session_first_week'] = pd.to_datetime(visitas_with_first_date['first_date']).dt.isocalendar().week.astype(int)"
   ]
  },
  {
   "cell_type": "code",
   "execution_count": 35,
   "metadata": {},
   "outputs": [
    {
     "name": "stdout",
     "output_type": "stream",
     "text": [
      "Tiempo entre la sesión de un usuario y la primera sesión : 30.12 dias\n"
     ]
    }
   ],
   "source": [
    "visitas_with_first_date['life_time'] = (visitas_with_first_date['session_date'] - visitas_with_first_date['first_date']).dt.days\n",
    "print(f\"Tiempo entre la sesión de un usuario y la primera sesión : {visitas_with_first_date['life_time'].mean():,.2f} dias\")"
   ]
  },
  {
   "cell_type": "code",
   "execution_count": 36,
   "metadata": {},
   "outputs": [],
   "source": [
    "visitas_per_users = visitas_with_first_date.groupby('Uid')['Device'].count().reset_index()\n",
    "visitas_per_users = visitas_per_users.rename(columns={'Device': 'visitas_count'})"
   ]
  },
  {
   "cell_type": "code",
   "execution_count": 37,
   "metadata": {},
   "outputs": [
    {
     "name": "stdout",
     "output_type": "stream",
     "text": [
      "Los usuarios regresan, en el periodo de 1 año: 3.52 veces\n"
     ]
    }
   ],
   "source": [
    "more_one_visit = visitas_per_users[visitas_per_users['visitas_count']!=1]\n",
    "frecuencia = more_one_visit['visitas_count'].mean()\n",
    "print(f'Los usuarios regresan, en el periodo de 1 año: {frecuencia:,.2f} veces')"
   ]
  },
  {
   "cell_type": "markdown",
   "metadata": {},
   "source": [
    "**Frecuencia de Retorno de Usuarios**\n",
    "La frecuencia con la que los usuarios regresan a la página es de **3.52 veces al año** (durante el período de análisis). Esta cifra se obtuvo al agrupar el número de visitas por usuario único y, posteriormente, calculando el promedio **.mean()** de los usuarios que realizaron más de una visita durante el año. "
   ]
  },
  {
   "cell_type": "markdown",
   "metadata": {},
   "source": [
    "El tiempo que transcurre de una sesión, a la primera sesión, es de **30 días**, hay que considerar que un usuario visitan la página 3.52 veces al año, por lo que este tiempo es de una sesión del usuario, comparándola con su primera sesión en la plataforma de análisis, independiente de que número de sesión es."
   ]
  },
  {
   "cell_type": "markdown",
   "metadata": {},
   "source": [
    "<div class=\"alert alert-block alert-success\">\n",
    "<b>Comentario del revisor (1ra Iteracion)</b> <a class=“tocSkip”></a>\n",
    "\n",
    "Muy buen trabajo con el análisis realizado, cada cálculo tiene su respectiva interpretación lo cual deja un proceso de análisis bastante claro\n",
    "</div>"
   ]
  },
  {
   "cell_type": "markdown",
   "metadata": {},
   "source": [
    "**VENTAS**"
   ]
  },
  {
   "cell_type": "markdown",
   "metadata": {},
   "source": [
    "**Datos Generales de las Ventas**"
   ]
  },
  {
   "cell_type": "code",
   "execution_count": 38,
   "metadata": {},
   "outputs": [
    {
     "name": "stdout",
     "output_type": "stream",
     "text": [
      "el total de ventas es: 252,057.20\n"
     ]
    }
   ],
   "source": [
    "total_ventas = ordenes['Revenue'].sum()\n",
    "print(f'el total de ventas es: {total_ventas:,.2f}')"
   ]
  },
  {
   "cell_type": "code",
   "execution_count": 39,
   "metadata": {},
   "outputs": [
    {
     "name": "stdout",
     "output_type": "stream",
     "text": [
      "el total de pedidos es: 50,415.00\n"
     ]
    }
   ],
   "source": [
    "total_pedidos = ordenes['Uid'].count()\n",
    "print(f'el total de pedidos es: {total_pedidos:,.2f}')"
   ]
  },
  {
   "cell_type": "markdown",
   "metadata": {},
   "source": [
    "Se ha logrado una venta total de **252,057**, impulsada por un volumen de **50,415 pedidos**."
   ]
  },
  {
   "cell_type": "markdown",
   "metadata": {},
   "source": [
    "Vamos a unir los 2 Dataframe considerando que requerimos saber su primera visita versus la fecha de compra."
   ]
  },
  {
   "cell_type": "code",
   "execution_count": 40,
   "metadata": {},
   "outputs": [],
   "source": [
    "visitas_para_merge = (visitas_with_first_date.groupby('Uid')['first_date']).min().reset_index()"
   ]
  },
  {
   "cell_type": "code",
   "execution_count": 41,
   "metadata": {},
   "outputs": [],
   "source": [
    "ordenes_with_visitas = ordenes.merge(visitas_para_merge, on = 'Uid', how = 'left')"
   ]
  },
  {
   "cell_type": "markdown",
   "metadata": {},
   "source": [
    "Requerimos saber el mes, semana, fecha que se realizó la compra, para los posteriores análisis."
   ]
  },
  {
   "cell_type": "code",
   "execution_count": 42,
   "metadata": {},
   "outputs": [],
   "source": [
    "ordenes_with_visitas['pedido_year'] = ordenes_with_visitas['buy_ts'].dt.isocalendar().year\n",
    "ordenes_with_visitas['pedido_month'] = ordenes_with_visitas['buy_ts'].dt.month\n",
    "ordenes_with_visitas['pedido_week'] = ordenes_with_visitas['buy_ts'].dt.isocalendar().week\n",
    "ordenes_with_visitas['pedido_date'] = ordenes_with_visitas['buy_ts'].dt.date"
   ]
  },
  {
   "cell_type": "code",
   "execution_count": 43,
   "metadata": {},
   "outputs": [],
   "source": [
    "ordenes_with_visitas['first_date'] = pd.to_datetime(ordenes_with_visitas['first_date'])"
   ]
  },
  {
   "cell_type": "code",
   "execution_count": 44,
   "metadata": {},
   "outputs": [],
   "source": [
    "ordenes_with_visitas['first_year'] = ordenes_with_visitas['first_date'].dt.isocalendar().year\n",
    "ordenes_with_visitas['first_month'] = ordenes_with_visitas['first_date'].dt.month\n",
    "ordenes_with_visitas['first_week'] = ordenes_with_visitas['first_date'].dt.isocalendar().week\n",
    "ordenes_with_visitas['first_date'] = ordenes_with_visitas['first_date'].dt.date"
   ]
  },
  {
   "cell_type": "markdown",
   "metadata": {},
   "source": [
    "**Conversión de compra**"
   ]
  },
  {
   "cell_type": "code",
   "execution_count": 45,
   "metadata": {},
   "outputs": [],
   "source": [
    "ordenes_with_visitas['lifetime_days_buy'] = (ordenes_with_visitas['pedido_date'] - ordenes_with_visitas['first_date']).dt.days"
   ]
  },
  {
   "cell_type": "code",
   "execution_count": 46,
   "metadata": {},
   "outputs": [],
   "source": [
    "month_life_buy = ordenes_with_visitas.groupby(['first_year', 'first_month']).agg(\n",
    "    promedio_lifetime_days_buy=('lifetime_days_buy', 'mean'),\n",
    "    conteo_uid_unicos=('Uid', 'nunique')\n",
    ").reset_index()"
   ]
  },
  {
   "cell_type": "code",
   "execution_count": 47,
   "metadata": {},
   "outputs": [
    {
     "data": {
      "image/png": "[encoded data removed]",
      "text/plain": [
       "<Figure size 640x480 with 1 Axes>"
      ]
     },
     "metadata": {},
     "output_type": "display_data"
    }
   ],
   "source": [
    "month_life_buy['anio_mes'] = month_life_buy['first_year'].astype(str) + '-' + month_life_buy['first_month'].astype(str).str.zfill(2)\n",
    "month_life_buy = month_life_buy.sort_values(by=['first_year', 'first_month']).reset_index(drop=True)\n",
    "sns.barplot(x='anio_mes', y='promedio_lifetime_days_buy', data=month_life_buy)\n",
    "plt.title('Tiempo Promedio de Vida por Mes y Año')\n",
    "plt.xlabel('Año-Mes de Primer Contacto')\n",
    "plt.ylabel('Días')\n",
    "plt.xticks(rotation=45, ha='right')\n",
    "plt.show()"
   ]
  },
  {
   "cell_type": "markdown",
   "metadata": {},
   "source": [
    "Hemos realizado un análisis de **cohortes estratégico**, agrupando a nuestros clientes por el **mes en que realizaron su primer contacto**. Este enfoque nos permite correlacionar directamente nuestras iniciativas de marketing con la velocidad de conversión a compra. El patrón que emerge de nuestros datos es prometedor pues observamos una notable reducción en el tiempo de conversión a medida que transcurren los meses. Esto indica que las acciones de marketing a lo largo del tiempo están rindiendo frutos, empujando a los usuarios a la compra de manera más eficiente y en un lapso significativamente menor."
   ]
  },
  {
   "cell_type": "markdown",
   "metadata": {},
   "source": [
    "**Pedidos por Mes**"
   ]
  },
  {
   "cell_type": "code",
   "execution_count": 48,
   "metadata": {},
   "outputs": [],
   "source": [
    "count_pedidos = ordenes_with_visitas.groupby(['pedido_year', 'pedido_month']).agg(conteo_pedidos=('Uid', 'count'), promedio_revenue=('Revenue', 'mean'), uid_unicos = ('Uid', 'nunique')\n",
    ").reset_index()"
   ]
  },
  {
   "cell_type": "code",
   "execution_count": 49,
   "metadata": {},
   "outputs": [
    {
     "name": "stdout",
     "output_type": "stream",
     "text": [
      "# de pedidos por mes: 4,346.00\n"
     ]
    }
   ],
   "source": [
    "average_per_month_pedidos = count_pedidos['conteo_pedidos'].median()\n",
    "print(f'# de pedidos por mes: {average_per_month_pedidos:,.2f}')"
   ]
  },
  {
   "cell_type": "code",
   "execution_count": 50,
   "metadata": {},
   "outputs": [
    {
     "name": "stdout",
     "output_type": "stream",
     "text": [
      "el monto por compra es: 2.50\n"
     ]
    }
   ],
   "source": [
    "tamanio_compra = ordenes['Revenue'].median()\n",
    "print(f'el monto por compra es: {tamanio_compra:,.2f}')"
   ]
  },
  {
   "cell_type": "code",
   "execution_count": 51,
   "metadata": {},
   "outputs": [
    {
     "name": "stdout",
     "output_type": "stream",
     "text": [
      "Cada Cliente trae: 3.05\n"
     ]
    }
   ],
   "source": [
    "income_per_uid = (ordenes_with_visitas.groupby('Uid')['Revenue'].sum()).reset_index()\n",
    "LTV = income_per_uid['Revenue'].median()\n",
    "print(f'Cada Cliente trae: {LTV:,.2f}')"
   ]
  },
  {
   "cell_type": "markdown",
   "metadata": {},
   "source": [
    "**Volumen de Pedidos Consistente**: Registramos un promedio de **4,346 pedidos**. Un volumen que le permitirá al negocio establecer una capacidad operativa adecuada.\n",
    "\n",
    "**Valor Promedio por Pedido**: Cada pedido tiene un monto de compra promedio de **$2.5**.\n",
    "\n",
    "**Valor por Cliente**: En promedio, cada cliente contribuye con **$3.05**."
   ]
  },
  {
   "cell_type": "markdown",
   "metadata": {},
   "source": [
    "**MARKETING**"
   ]
  },
  {
   "cell_type": "code",
   "execution_count": 52,
   "metadata": {},
   "outputs": [],
   "source": [
    "costos['gastomk_year'] = costos['dt'].dt.isocalendar().year\n",
    "costos['gastomk_month'] = costos['dt'].dt.month\n",
    "costos['gastomk_week'] = costos['dt'].dt.isocalendar().week\n",
    "costos['gastomk_date'] = costos['dt'].dt.date"
   ]
  },
  {
   "cell_type": "markdown",
   "metadata": {},
   "source": [
    "**Datos Generales de los Gastos de Marketing**"
   ]
  },
  {
   "cell_type": "code",
   "execution_count": 53,
   "metadata": {},
   "outputs": [
    {
     "name": "stdout",
     "output_type": "stream",
     "text": [
      "el costo total de Marketing: 329,131.62\n"
     ]
    }
   ],
   "source": [
    "total_costos = costos['costs'].sum()\n",
    "print(f'el costo total de Marketing: {total_costos:,.2f}')"
   ]
  },
  {
   "cell_type": "markdown",
   "metadata": {},
   "source": [
    "**Cohortes de Gastos de Marketing**"
   ]
  },
  {
   "cell_type": "code",
   "execution_count": 54,
   "metadata": {},
   "outputs": [],
   "source": [
    "cohorte_costos_source = costos.groupby('source_id')['costs'].sum().reset_index()"
   ]
  },
  {
   "cell_type": "code",
   "execution_count": 55,
   "metadata": {},
   "outputs": [
    {
     "data": {
      "image/png": "[encoded data removed]",
      "text/plain": [
       "<Figure size 640x480 with 1 Axes>"
      ]
     },
     "metadata": {},
     "output_type": "display_data"
    }
   ],
   "source": [
    "sns.barplot(x='source_id', y='costs', data=cohorte_costos_source)\n",
    "plt.title('Gasto de Marketing por Tipo de Anuncio')\n",
    "plt.xlabel('Tipo de Anuncio')\n",
    "plt.ylabel('Gasto de MK')\n",
    "plt.show()"
   ]
  },
  {
   "cell_type": "markdown",
   "metadata": {},
   "source": [
    "Hemos llevado a cabo un análisis de **cohortes** para evaluar la distribución de nuestros gastos en marketing, categorizándolos por el tipo de anuncio utilizado. Nuestro análisis revela una clara concentración de la inversión en el **Tipo de Anuncio 3**. Esto indica que una porción significativa de nuestro presupuesto de marketing se ha asignado a esta categoría específica."
   ]
  },
  {
   "cell_type": "code",
   "execution_count": 56,
   "metadata": {},
   "outputs": [],
   "source": [
    "cohorte_costos_time = costos.groupby(['gastomk_year','gastomk_month'])['costs'].sum().reset_index()"
   ]
  },
  {
   "cell_type": "code",
   "execution_count": 57,
   "metadata": {},
   "outputs": [
    {
     "data": {
      "image/png": "[encoded data removed]",
      "text/plain": [
       "<Figure size 640x480 with 1 Axes>"
      ]
     },
     "metadata": {},
     "output_type": "display_data"
    }
   ],
   "source": [
    "cohorte_costos_time['anio_mes'] = cohorte_costos_time['gastomk_year'].astype(str) + '-' + cohorte_costos_time['gastomk_month'].astype(str).str.zfill(2)\n",
    "cohorte_costos_time = cohorte_costos_time.sort_values(by=['gastomk_year', 'gastomk_month']).reset_index(drop=True)\n",
    "sns.barplot(x='anio_mes', y='costs', data=cohorte_costos_time)\n",
    "plt.title('Gastos de Marketing por Mes y Año')\n",
    "plt.xlabel('Año-Mes de Inversión')\n",
    "plt.ylabel('Costos')\n",
    "plt.xticks(rotation=45, ha='right')\n",
    "plt.show()"
   ]
  },
  {
   "cell_type": "code",
   "execution_count": 58,
   "metadata": {},
   "outputs": [
    {
     "name": "stdout",
     "output_type": "stream",
     "text": [
      "el costo por mes: 27,427.63\n"
     ]
    }
   ],
   "source": [
    "total_gastomk = cohorte_costos_time['costs'].mean()\n",
    "print(f'el costo por mes: {total_gastomk:,.2f}')"
   ]
  },
  {
   "cell_type": "markdown",
   "metadata": {},
   "source": [
    "A pesar de que **diciembre** ha sido el mes con la **mayor inversión en marketing**, nuestros datos de **conversión** revelan que este mes **no presenta** el tiempo de conversión **más bajo**.Este hallazgo es crucial, ya que sugiere que la relación entre el volumen de inversión en marketing y la rapidez de la conversión **no es directamente proporcional**. Es decir, una mayor inversión no se traduce automáticamente en una conversión más veloz. Tenemos que la inversión por mes de marketing es de **27,427.63."
   ]
  },
  {
   "cell_type": "markdown",
   "metadata": {},
   "source": [
    "**Costos de Adquisición**"
   ]
  },
  {
   "cell_type": "code",
   "execution_count": 59,
   "metadata": {},
   "outputs": [
    {
     "name": "stdout",
     "output_type": "stream",
     "text": [
      "# de clientes únicos por mes: 4,346.00\n"
     ]
    }
   ],
   "source": [
    "average_per_month_uid_unicos = count_pedidos['conteo_pedidos'].median()\n",
    "print(f'# de clientes únicos por mes: {average_per_month_uid_unicos:,.2f}')"
   ]
  },
  {
   "cell_type": "code",
   "execution_count": 60,
   "metadata": {},
   "outputs": [
    {
     "data": {
      "text/html": [
       "<div>\n",
       "<style scoped>\n",
       "    .dataframe tbody tr th:only-of-type {\n",
       "        vertical-align: middle;\n",
       "    }\n",
       "\n",
       "    .dataframe tbody tr th {\n",
       "        vertical-align: top;\n",
       "    }\n",
       "\n",
       "    .dataframe thead th {\n",
       "        text-align: right;\n",
       "    }\n",
       "</style>\n",
       "<table border=\"1\" class=\"dataframe\">\n",
       "  <thead>\n",
       "    <tr style=\"text-align: right;\">\n",
       "      <th></th>\n",
       "      <th>source_id</th>\n",
       "      <th>Uid</th>\n",
       "      <th>costs</th>\n",
       "      <th>CAC</th>\n",
       "    </tr>\n",
       "  </thead>\n",
       "  <tbody>\n",
       "    <tr>\n",
       "      <th>0</th>\n",
       "      <td>1</td>\n",
       "      <td>18999</td>\n",
       "      <td>20833.27</td>\n",
       "      <td>1.096546</td>\n",
       "    </tr>\n",
       "    <tr>\n",
       "      <th>1</th>\n",
       "      <td>2</td>\n",
       "      <td>26245</td>\n",
       "      <td>42806.04</td>\n",
       "      <td>1.631017</td>\n",
       "    </tr>\n",
       "    <tr>\n",
       "      <th>2</th>\n",
       "      <td>3</td>\n",
       "      <td>74756</td>\n",
       "      <td>141321.63</td>\n",
       "      <td>1.890439</td>\n",
       "    </tr>\n",
       "    <tr>\n",
       "      <th>3</th>\n",
       "      <td>4</td>\n",
       "      <td>83525</td>\n",
       "      <td>61073.60</td>\n",
       "      <td>0.731201</td>\n",
       "    </tr>\n",
       "    <tr>\n",
       "      <th>4</th>\n",
       "      <td>5</td>\n",
       "      <td>56974</td>\n",
       "      <td>51757.10</td>\n",
       "      <td>0.908434</td>\n",
       "    </tr>\n",
       "    <tr>\n",
       "      <th>7</th>\n",
       "      <td>9</td>\n",
       "      <td>9264</td>\n",
       "      <td>5517.49</td>\n",
       "      <td>0.595584</td>\n",
       "    </tr>\n",
       "    <tr>\n",
       "      <th>8</th>\n",
       "      <td>10</td>\n",
       "      <td>8067</td>\n",
       "      <td>5822.49</td>\n",
       "      <td>0.721766</td>\n",
       "    </tr>\n",
       "  </tbody>\n",
       "</table>\n",
       "</div>"
      ],
      "text/plain": [
       "   source_id    Uid      costs       CAC\n",
       "0          1  18999   20833.27  1.096546\n",
       "1          2  26245   42806.04  1.631017\n",
       "2          3  74756  141321.63  1.890439\n",
       "3          4  83525   61073.60  0.731201\n",
       "4          5  56974   51757.10  0.908434\n",
       "7          9   9264    5517.49  0.595584\n",
       "8         10   8067    5822.49  0.721766"
      ]
     },
     "execution_count": 60,
     "metadata": {},
     "output_type": "execute_result"
    }
   ],
   "source": [
    "usuarios_per_fuente = (visitas.groupby('source_id')['Uid'].nunique()).reset_index()\n",
    "merge_source = usuarios_per_fuente.merge(cohorte_costos_source, on='source_id', how='outer')\n",
    "merge_source_filtered = merge_source.dropna(subset=['costs']).copy()\n",
    "merge_source_filtered['CAC'] = merge_source_filtered['costs']/merge_source_filtered['Uid']\n",
    "merge_source_filtered"
   ]
  },
  {
   "cell_type": "code",
   "execution_count": 61,
   "metadata": {},
   "outputs": [],
   "source": [
    "adq_per_fuente = (merge_source_filtered.groupby('source_id')['CAC'].sum()).reset_index()"
   ]
  },
  {
   "cell_type": "code",
   "execution_count": 62,
   "metadata": {},
   "outputs": [
    {
     "data": {
      "image/png": "[encoded data removed]",
      "text/plain": [
       "<Figure size 640x480 with 1 Axes>"
      ]
     },
     "metadata": {},
     "output_type": "display_data"
    }
   ],
   "source": [
    "sns.lineplot(x='source_id', y='CAC', data=adq_per_fuente)\n",
    "plt.title('Costo de Adquisición Por Anuncio')\n",
    "plt.xlabel('Anuncio')\n",
    "plt.ylabel('Costo de Adquisición')\n",
    "plt.show()"
   ]
  },
  {
   "cell_type": "markdown",
   "metadata": {},
   "source": [
    "Nuestro análisis inicial sobre la inversión en publicidad por tipo de anuncio reveló que, que el **Tipo de Anuncio 3** concentró la mayor parte de nuestro gasto en marketing, una inversión elevada no se traduce automáticamente en la adquisición **más eficiente de usuarios**. Hemos identificado que, a pesar de la significativa inversión en el Tipo de Anuncio 3, su **Costo de Adquisición de Cliente (CAC)** es elevado. Esto significa que, aunque estemos atrayendo usuarios, el costo por adquirir cada uno de ellos a través de este canal es considerable, lo que pone en tela de juicio su rentabilidad."
   ]
  },
  {
   "cell_type": "code",
   "execution_count": 63,
   "metadata": {},
   "outputs": [
    {
     "name": "stdout",
     "output_type": "stream",
     "text": [
      "el ROMI es: -23.42%\n"
     ]
    }
   ],
   "source": [
    "ROMI = (total_ventas - total_costos)/total_costos * 100\n",
    "print(f'el ROMI es: {ROMI:,.2f}%')"
   ]
  },
  {
   "cell_type": "markdown",
   "metadata": {},
   "source": [
    "Hemos calculado un Retorno de la Inversión en Marketing **(ROMI) de -23.42%**. Esta cifra es un claro indicador de que nuestras campañas de marketing no solo no están siendo rentables, sino que están **generando pérdidas**."
   ]
  },
  {
   "cell_type": "markdown",
   "metadata": {},
   "source": [
    "Identificamos que el **Tipo de Anuncio 4** representa nuestra oportunidad más prometedora. Este tipo de anuncio ha demostrado un costo de adquisición por usuario **significativamente bajo** y, al mismo tiempo, es el anuncio que ha atraído al **mayor volumen de usuarios**. Esto lo posiciona como el canal más eficiente y escalable para la adquisición rentable de clientes. Se recomienda asignar un mayor presupuesto y recursos a este tipo de anuncio para maximizar su impacto.\n",
    "\n",
    "Nuestros análisis de cohortes demuestran que, a lo largo del tiempo, hemos logrado una reducción notable en el tiempo promedio de **conversión**. Esta mejora progresiva es un testimonio de la efectividad de en las estrategias de marketing y ventas."
   ]
  },
  {
   "cell_type": "markdown",
   "metadata": {},
   "source": [
    "<div class=\"alert alert-block alert-success\">\n",
    "<b>Comentario del revisor (1ra Iteracion)</b> <a class=“tocSkip”></a>\n",
    "\n",
    "En general tienes un muy buen proceso de análisis María, cada gráfica y cálculo tiene su respectiva interpretación lo cual deja un proceso de análisis súper claro para cuando alguien quiera repasar tus proyectos.\n",
    "\n",
    "Muy buen trabajo, saludos!\n",
    "</div>"
   ]
  }
 ],
 "metadata": {
  "kernelspec": {
   "display_name": "Python 3 (ipykernel)",
   "language": "python",
   "name": "python3"
  },
  "language_info": {
   "codemirror_mode": {
    "name": "ipython",
    "version": 3
   },
   "file_extension": ".py",
   "mimetype": "text/x-python",
   "name": "python",
   "nbconvert_exporter": "python",
   "pygments_lexer": "ipython3",
   "version": "3.9.23"
  }
 },
 "nbformat": 4,
 "nbformat_minor": 4
}
