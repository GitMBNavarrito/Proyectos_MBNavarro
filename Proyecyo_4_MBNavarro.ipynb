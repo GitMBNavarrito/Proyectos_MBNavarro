{
 "cells": [
  {
   "cell_type": "markdown",
   "id": "eddf84b0",
   "metadata": {},
   "source": [
    "# ¡Hola  !🙋🏻‍♂️\n",
    "\n",
    "Te escribe Lisandro Saez, soy revisor de código en Tripleten y tengo el agrado de revisar el proyecto que entregaste.\n",
    "\n",
    "Para simular la dinámica de un ambiente de trabajo, si veo algún error, en primer instancia solo los señalaré, dándote la oportunidad de encontrarlos y corregirlos por tu cuenta. En un trabajo real, el líder de tu equipo hará una dinámica similar. En caso de que no puedas resolver la tarea, te daré una información más precisa en la próxima revisión.\n",
    "\n",
    "Encontrarás mis comentarios más abajo - **por favor, no los muevas, no los modifiques ni los borres**.\n",
    "\n",
    "¿Cómo lo voy a hacer? Voy a leer detenidamente cada una de las implementaciones que has llevado a cabo para cumplir con lo solicitado. Verás los comentarios de esta forma:\n",
    "\n",
    "<div class=\"alert alert-block alert-success\">\n",
    "<b>Comentario del revisor</b> <a class=\"tocSkip\"></a>\n",
    "\n",
    "Si todo está perfecto.\n",
    "</div>\n",
    "\n",
    "\n",
    "<div class=\"alert alert-block alert-warning\">\n",
    "<b>Comentario del revisor</b> <a class=\"tocSkip\"></a>\n",
    "\n",
    "Si tu código está bien pero se puede mejorar o hay algún detalle que le hace falta. Se aceptan uno o dos comentarios de este tipo en el borrador, pero si hay más, deberías hacer las correcciones. Es como una tarea de prueba al solicitar un trabajo: muchos pequeños errores pueden hacer que un candidato sea rechazado.\n",
    "</div>\n",
    "\n",
    "<div class=\"alert alert-block alert-danger\">\n",
    "\n",
    "<b>Comentario del revisor</b> <a class=\"tocSkip\"></a>\n",
    "\n",
    "Si de pronto hace falta algo o existe algún problema con tu código o conclusiones.\n",
    "</div>\n",
    "\n",
    "<div class=\"alert alert-block alert-info\">\n",
    "<b>Respuesta del estudiante</b> <a class=\"tocSkip\"></a>\n",
    "\n",
    "Hola, muchas gracias por tus comentarios y la revisión.\n",
    "</div>\n",
    "\n",
    "¡Empecemos!"
   ]
  },
  {
   "cell_type": "markdown",
   "id": "3Xg_RQfnafXz",
   "metadata": {
    "id": "3Xg_RQfnafXz"
   },
   "source": [
    "# ¡Llena ese carrito!"
   ]
  },
  {
   "cell_type": "markdown",
   "id": "mhIvmmkW414q",
   "metadata": {
    "id": "mhIvmmkW414q"
   },
   "source": [
    "# Introducción\n",
    "\n",
    "Instacart es una plataforma de entregas de comestibles donde la clientela puede registrar un pedido y hacer que se lo entreguen, similar a Uber Eats y Door Dash.\n",
    "El conjunto de datos que te hemos proporcionado tiene modificaciones del original. Redujimos el tamaño del conjunto para que tus cálculos se hicieran más rápido e introdujimos valores ausentes y duplicados. Tuvimos cuidado de conservar las distribuciones de los datos originales cuando hicimos los cambios.\n",
    "\n",
    "Debes completar tres pasos. Para cada uno de ellos, escribe una breve introducción que refleje con claridad cómo pretendes resolver cada paso, y escribe párrafos explicatorios que justifiquen tus decisiones al tiempo que avanzas en tu solución.  También escribe una conclusión que resuma tus hallazgos y elecciones.\n"
   ]
  },
  {
   "cell_type": "markdown",
   "id": "3MbyzpOQZ5Or",
   "metadata": {
    "id": "3MbyzpOQZ5Or"
   },
   "source": [
    "## Diccionario de datos\n",
    "\n",
    "Hay cinco tablas en el conjunto de datos, y tendrás que usarlas todas para hacer el preprocesamiento de datos y el análisis exploratorio de datos. A continuación se muestra un diccionario de datos que enumera las columnas de cada tabla y describe los datos que contienen.\n",
    "\n",
    "- `instacart_orders.csv`: cada fila corresponde a un pedido en la aplicación Instacart.\n",
    "    - `'order_id'`: número de ID que identifica de manera única cada pedido.\n",
    "    - `'user_id'`: número de ID que identifica de manera única la cuenta de cada cliente.\n",
    "    - `'order_number'`: el número de veces que este cliente ha hecho un pedido.\n",
    "    - `'order_dow'`: día de la semana en que se hizo el pedido (0 si es domingo).\n",
    "    - `'order_hour_of_day'`: hora del día en que se hizo el pedido.\n",
    "    - `'days_since_prior_order'`: número de días transcurridos desde que este cliente hizo su pedido anterior.\n",
    "- `products.csv`: cada fila corresponde a un producto único que pueden comprar los clientes.\n",
    "    - `'product_id'`: número ID que identifica de manera única cada producto.\n",
    "    - `'product_name'`: nombre del producto.\n",
    "    - `'aisle_id'`: número ID que identifica de manera única cada categoría de pasillo de víveres.\n",
    "    - `'department_id'`: número ID que identifica de manera única cada departamento de víveres.\n",
    "- `order_products.csv`: cada fila corresponde a un artículo pedido en un pedido.\n",
    "    - `'order_id'`: número de ID que identifica de manera única cada pedido.\n",
    "    - `'product_id'`: número ID que identifica de manera única cada producto.\n",
    "    - `'add_to_cart_order'`: el orden secuencial en el que se añadió cada artículo en el carrito.\n",
    "    - `'reordered'`: 0 si el cliente nunca ha pedido este producto antes, 1 si lo ha pedido.\n",
    "- `aisles.csv`\n",
    "    - `'aisle_id'`: número ID que identifica de manera única cada categoría de pasillo de víveres.\n",
    "    - `'aisle'`: nombre del pasillo.\n",
    "- `departments.csv`\n",
    "    - `'department_id'`: número ID que identifica de manera única cada departamento de víveres.\n",
    "    - `'department'`: nombre del departamento."
   ]
  },
  {
   "cell_type": "markdown",
   "id": "n3Ha_cNSZ8lK",
   "metadata": {
    "id": "n3Ha_cNSZ8lK"
   },
   "source": [
    "# Paso 1. Descripción de los datos\n",
    "\n",
    "Lee los archivos de datos (`/datasets/instacart_orders.csv`, `/datasets/products.csv`, `/datasets/aisles.csv`, `/datasets/departments.csv` y `/datasets/order_products.csv`) con `pd.read_csv()` usando los parámetros adecuados para leer los datos correctamente. Verifica la información para cada DataFrame creado.\n"
   ]
  },
  {
   "cell_type": "markdown",
   "id": "OmlQPLlyaAfR",
   "metadata": {
    "id": "OmlQPLlyaAfR"
   },
   "source": [
    "## Plan de solución\n",
    "\n",
    "Escribe aquí tu plan de solución para el Paso 1. Descripción de los datos."
   ]
  },
  {
   "cell_type": "code",
   "execution_count": 2,
   "id": "fbf1adab",
   "metadata": {
    "id": "fbf1adab",
    "trusted": false
   },
   "outputs": [],
   "source": [
    "# importar librerías\n",
    "import pandas as pd\n",
    "\n",
    "\n"
   ]
  },
  {
   "cell_type": "code",
   "execution_count": 3,
   "id": "ad36396d",
   "metadata": {
    "id": "ad36396d",
    "trusted": false
   },
   "outputs": [],
   "source": [
    "# leer conjuntos de datos en los DataFrames\n",
    "df = pd.read_csv('/datasets/instacart_orders.csv',sep=';')\n",
    "df1= pd.read_csv('/datasets/products.csv',sep=';')\n",
    "df2= pd.read_csv('/datasets/aisles.csv',sep=';')\n",
    "df3= pd.read_csv('/datasets/departments.csv',sep=';')\n",
    "df4= pd.read_csv('/datasets/order_products.csv',sep=';')"
   ]
  },
  {
   "cell_type": "markdown",
   "id": "71d3ea8d",
   "metadata": {},
   "source": [
    "\n",
    "\n",
    "<div class=\"alert alert-block alert-success\">\n",
    "<b>Comentario del revisor</b> <a class=\"tocSkip\"></a>\n",
    "\n",
    "Bien hecho! Siempre es importante que pasemos el set de datos que estamos usando a `DataFrame`!</div>\n",
    "\n"
   ]
  },
  {
   "cell_type": "markdown",
   "id": "eea96cb1",
   "metadata": {},
   "source": [
    "Para los fines que correspondan en el siguiente proyecto se describirá de la siguiente manera a los DataFrame:\n",
    "- df = pinstacart_orders\n",
    "- df1= products\n",
    "- df2= aisles\n",
    "- df3= departments\n",
    "- df4= order_products"
   ]
  },
  {
   "cell_type": "code",
   "execution_count": 4,
   "id": "ad6a1efa",
   "metadata": {
    "id": "ad6a1efa",
    "scrolled": false,
    "trusted": false
   },
   "outputs": [
    {
     "data": {
      "text/html": [
       "<div>\n",
       "<style scoped>\n",
       "    .dataframe tbody tr th:only-of-type {\n",
       "        vertical-align: middle;\n",
       "    }\n",
       "\n",
       "    .dataframe tbody tr th {\n",
       "        vertical-align: top;\n",
       "    }\n",
       "\n",
       "    .dataframe thead th {\n",
       "        text-align: right;\n",
       "    }\n",
       "</style>\n",
       "<table border=\"1\" class=\"dataframe\">\n",
       "  <thead>\n",
       "    <tr style=\"text-align: right;\">\n",
       "      <th></th>\n",
       "      <th>order_id</th>\n",
       "      <th>user_id</th>\n",
       "      <th>order_number</th>\n",
       "      <th>order_dow</th>\n",
       "      <th>order_hour_of_day</th>\n",
       "      <th>days_since_prior_order</th>\n",
       "    </tr>\n",
       "  </thead>\n",
       "  <tbody>\n",
       "    <tr>\n",
       "      <th>0</th>\n",
       "      <td>1515936</td>\n",
       "      <td>183418</td>\n",
       "      <td>11</td>\n",
       "      <td>6</td>\n",
       "      <td>13</td>\n",
       "      <td>30.0</td>\n",
       "    </tr>\n",
       "    <tr>\n",
       "      <th>1</th>\n",
       "      <td>1690866</td>\n",
       "      <td>163593</td>\n",
       "      <td>5</td>\n",
       "      <td>5</td>\n",
       "      <td>12</td>\n",
       "      <td>9.0</td>\n",
       "    </tr>\n",
       "    <tr>\n",
       "      <th>2</th>\n",
       "      <td>1454967</td>\n",
       "      <td>39980</td>\n",
       "      <td>4</td>\n",
       "      <td>5</td>\n",
       "      <td>19</td>\n",
       "      <td>2.0</td>\n",
       "    </tr>\n",
       "    <tr>\n",
       "      <th>3</th>\n",
       "      <td>1768857</td>\n",
       "      <td>82516</td>\n",
       "      <td>56</td>\n",
       "      <td>0</td>\n",
       "      <td>20</td>\n",
       "      <td>10.0</td>\n",
       "    </tr>\n",
       "    <tr>\n",
       "      <th>4</th>\n",
       "      <td>3007858</td>\n",
       "      <td>196724</td>\n",
       "      <td>2</td>\n",
       "      <td>4</td>\n",
       "      <td>12</td>\n",
       "      <td>17.0</td>\n",
       "    </tr>\n",
       "  </tbody>\n",
       "</table>\n",
       "</div>"
      ],
      "text/plain": [
       "   order_id  user_id  order_number  order_dow  order_hour_of_day  \\\n",
       "0   1515936   183418            11          6                 13   \n",
       "1   1690866   163593             5          5                 12   \n",
       "2   1454967    39980             4          5                 19   \n",
       "3   1768857    82516            56          0                 20   \n",
       "4   3007858   196724             2          4                 12   \n",
       "\n",
       "   days_since_prior_order  \n",
       "0                    30.0  \n",
       "1                     9.0  \n",
       "2                     2.0  \n",
       "3                    10.0  \n",
       "4                    17.0  "
      ]
     },
     "metadata": {},
     "output_type": "display_data"
    },
    {
     "name": "stdout",
     "output_type": "stream",
     "text": [
      "<class 'pandas.core.frame.DataFrame'>\n",
      "RangeIndex: 478967 entries, 0 to 478966\n",
      "Data columns (total 6 columns):\n",
      " #   Column                  Non-Null Count   Dtype  \n",
      "---  ------                  --------------   -----  \n",
      " 0   order_id                478967 non-null  int64  \n",
      " 1   user_id                 478967 non-null  int64  \n",
      " 2   order_number            478967 non-null  int64  \n",
      " 3   order_dow               478967 non-null  int64  \n",
      " 4   order_hour_of_day       478967 non-null  int64  \n",
      " 5   days_since_prior_order  450148 non-null  float64\n",
      "dtypes: float64(1), int64(5)\n",
      "memory usage: 21.9 MB\n",
      "None\n"
     ]
    }
   ],
   "source": [
    "# mostrar información del DataFrame\n",
    "display(df.head())\n",
    "print(df.info())"
   ]
  },
  {
   "cell_type": "code",
   "execution_count": 5,
   "id": "5130e05e",
   "metadata": {
    "id": "5130e05e",
    "trusted": false
   },
   "outputs": [
    {
     "data": {
      "text/html": [
       "<div>\n",
       "<style scoped>\n",
       "    .dataframe tbody tr th:only-of-type {\n",
       "        vertical-align: middle;\n",
       "    }\n",
       "\n",
       "    .dataframe tbody tr th {\n",
       "        vertical-align: top;\n",
       "    }\n",
       "\n",
       "    .dataframe thead th {\n",
       "        text-align: right;\n",
       "    }\n",
       "</style>\n",
       "<table border=\"1\" class=\"dataframe\">\n",
       "  <thead>\n",
       "    <tr style=\"text-align: right;\">\n",
       "      <th></th>\n",
       "      <th>product_id</th>\n",
       "      <th>product_name</th>\n",
       "      <th>aisle_id</th>\n",
       "      <th>department_id</th>\n",
       "    </tr>\n",
       "  </thead>\n",
       "  <tbody>\n",
       "    <tr>\n",
       "      <th>0</th>\n",
       "      <td>1</td>\n",
       "      <td>Chocolate Sandwich Cookies</td>\n",
       "      <td>61</td>\n",
       "      <td>19</td>\n",
       "    </tr>\n",
       "    <tr>\n",
       "      <th>1</th>\n",
       "      <td>2</td>\n",
       "      <td>All-Seasons Salt</td>\n",
       "      <td>104</td>\n",
       "      <td>13</td>\n",
       "    </tr>\n",
       "    <tr>\n",
       "      <th>2</th>\n",
       "      <td>3</td>\n",
       "      <td>Robust Golden Unsweetened Oolong Tea</td>\n",
       "      <td>94</td>\n",
       "      <td>7</td>\n",
       "    </tr>\n",
       "    <tr>\n",
       "      <th>3</th>\n",
       "      <td>4</td>\n",
       "      <td>Smart Ones Classic Favorites Mini Rigatoni Wit...</td>\n",
       "      <td>38</td>\n",
       "      <td>1</td>\n",
       "    </tr>\n",
       "    <tr>\n",
       "      <th>4</th>\n",
       "      <td>5</td>\n",
       "      <td>Green Chile Anytime Sauce</td>\n",
       "      <td>5</td>\n",
       "      <td>13</td>\n",
       "    </tr>\n",
       "  </tbody>\n",
       "</table>\n",
       "</div>"
      ],
      "text/plain": [
       "   product_id                                       product_name  aisle_id  \\\n",
       "0           1                         Chocolate Sandwich Cookies        61   \n",
       "1           2                                   All-Seasons Salt       104   \n",
       "2           3               Robust Golden Unsweetened Oolong Tea        94   \n",
       "3           4  Smart Ones Classic Favorites Mini Rigatoni Wit...        38   \n",
       "4           5                          Green Chile Anytime Sauce         5   \n",
       "\n",
       "   department_id  \n",
       "0             19  \n",
       "1             13  \n",
       "2              7  \n",
       "3              1  \n",
       "4             13  "
      ]
     },
     "metadata": {},
     "output_type": "display_data"
    },
    {
     "name": "stdout",
     "output_type": "stream",
     "text": [
      "<class 'pandas.core.frame.DataFrame'>\n",
      "RangeIndex: 49694 entries, 0 to 49693\n",
      "Data columns (total 4 columns):\n",
      " #   Column         Non-Null Count  Dtype \n",
      "---  ------         --------------  ----- \n",
      " 0   product_id     49694 non-null  int64 \n",
      " 1   product_name   48436 non-null  object\n",
      " 2   aisle_id       49694 non-null  int64 \n",
      " 3   department_id  49694 non-null  int64 \n",
      "dtypes: int64(3), object(1)\n",
      "memory usage: 1.5+ MB\n",
      "None\n"
     ]
    }
   ],
   "source": [
    "# mostrar información del DataFrame\n",
    "display(df1.head())\n",
    "print(df1.info())"
   ]
  },
  {
   "cell_type": "code",
   "execution_count": 6,
   "id": "d8370c05",
   "metadata": {
    "id": "d8370c05",
    "trusted": false
   },
   "outputs": [
    {
     "data": {
      "text/html": [
       "<div>\n",
       "<style scoped>\n",
       "    .dataframe tbody tr th:only-of-type {\n",
       "        vertical-align: middle;\n",
       "    }\n",
       "\n",
       "    .dataframe tbody tr th {\n",
       "        vertical-align: top;\n",
       "    }\n",
       "\n",
       "    .dataframe thead th {\n",
       "        text-align: right;\n",
       "    }\n",
       "</style>\n",
       "<table border=\"1\" class=\"dataframe\">\n",
       "  <thead>\n",
       "    <tr style=\"text-align: right;\">\n",
       "      <th></th>\n",
       "      <th>aisle_id</th>\n",
       "      <th>aisle</th>\n",
       "    </tr>\n",
       "  </thead>\n",
       "  <tbody>\n",
       "    <tr>\n",
       "      <th>0</th>\n",
       "      <td>1</td>\n",
       "      <td>prepared soups salads</td>\n",
       "    </tr>\n",
       "    <tr>\n",
       "      <th>1</th>\n",
       "      <td>2</td>\n",
       "      <td>specialty cheeses</td>\n",
       "    </tr>\n",
       "    <tr>\n",
       "      <th>2</th>\n",
       "      <td>3</td>\n",
       "      <td>energy granola bars</td>\n",
       "    </tr>\n",
       "    <tr>\n",
       "      <th>3</th>\n",
       "      <td>4</td>\n",
       "      <td>instant foods</td>\n",
       "    </tr>\n",
       "    <tr>\n",
       "      <th>4</th>\n",
       "      <td>5</td>\n",
       "      <td>marinades meat preparation</td>\n",
       "    </tr>\n",
       "  </tbody>\n",
       "</table>\n",
       "</div>"
      ],
      "text/plain": [
       "   aisle_id                       aisle\n",
       "0         1       prepared soups salads\n",
       "1         2           specialty cheeses\n",
       "2         3         energy granola bars\n",
       "3         4               instant foods\n",
       "4         5  marinades meat preparation"
      ]
     },
     "metadata": {},
     "output_type": "display_data"
    },
    {
     "name": "stdout",
     "output_type": "stream",
     "text": [
      "<class 'pandas.core.frame.DataFrame'>\n",
      "RangeIndex: 134 entries, 0 to 133\n",
      "Data columns (total 2 columns):\n",
      " #   Column    Non-Null Count  Dtype \n",
      "---  ------    --------------  ----- \n",
      " 0   aisle_id  134 non-null    int64 \n",
      " 1   aisle     134 non-null    object\n",
      "dtypes: int64(1), object(1)\n",
      "memory usage: 2.2+ KB\n",
      "None\n"
     ]
    }
   ],
   "source": [
    "# mostrar información del DataFrame\n",
    "display(df2.head())\n",
    "print(df2.info())"
   ]
  },
  {
   "cell_type": "code",
   "execution_count": 7,
   "id": "59e2090f",
   "metadata": {
    "id": "59e2090f",
    "trusted": false
   },
   "outputs": [
    {
     "data": {
      "text/html": [
       "<div>\n",
       "<style scoped>\n",
       "    .dataframe tbody tr th:only-of-type {\n",
       "        vertical-align: middle;\n",
       "    }\n",
       "\n",
       "    .dataframe tbody tr th {\n",
       "        vertical-align: top;\n",
       "    }\n",
       "\n",
       "    .dataframe thead th {\n",
       "        text-align: right;\n",
       "    }\n",
       "</style>\n",
       "<table border=\"1\" class=\"dataframe\">\n",
       "  <thead>\n",
       "    <tr style=\"text-align: right;\">\n",
       "      <th></th>\n",
       "      <th>department_id</th>\n",
       "      <th>department</th>\n",
       "    </tr>\n",
       "  </thead>\n",
       "  <tbody>\n",
       "    <tr>\n",
       "      <th>0</th>\n",
       "      <td>1</td>\n",
       "      <td>frozen</td>\n",
       "    </tr>\n",
       "    <tr>\n",
       "      <th>1</th>\n",
       "      <td>2</td>\n",
       "      <td>other</td>\n",
       "    </tr>\n",
       "    <tr>\n",
       "      <th>2</th>\n",
       "      <td>3</td>\n",
       "      <td>bakery</td>\n",
       "    </tr>\n",
       "    <tr>\n",
       "      <th>3</th>\n",
       "      <td>4</td>\n",
       "      <td>produce</td>\n",
       "    </tr>\n",
       "    <tr>\n",
       "      <th>4</th>\n",
       "      <td>5</td>\n",
       "      <td>alcohol</td>\n",
       "    </tr>\n",
       "  </tbody>\n",
       "</table>\n",
       "</div>"
      ],
      "text/plain": [
       "   department_id department\n",
       "0              1     frozen\n",
       "1              2      other\n",
       "2              3     bakery\n",
       "3              4    produce\n",
       "4              5    alcohol"
      ]
     },
     "metadata": {},
     "output_type": "display_data"
    },
    {
     "name": "stdout",
     "output_type": "stream",
     "text": [
      "<class 'pandas.core.frame.DataFrame'>\n",
      "RangeIndex: 21 entries, 0 to 20\n",
      "Data columns (total 2 columns):\n",
      " #   Column         Non-Null Count  Dtype \n",
      "---  ------         --------------  ----- \n",
      " 0   department_id  21 non-null     int64 \n",
      " 1   department     21 non-null     object\n",
      "dtypes: int64(1), object(1)\n",
      "memory usage: 464.0+ bytes\n",
      "None\n"
     ]
    }
   ],
   "source": [
    "# mostrar información del DataFrame\n",
    "display(df3.head())\n",
    "print(df3.info())"
   ]
  },
  {
   "cell_type": "code",
   "execution_count": 8,
   "id": "685128ac",
   "metadata": {
    "id": "6fc81694",
    "trusted": false
   },
   "outputs": [
    {
     "data": {
      "text/html": [
       "<div>\n",
       "<style scoped>\n",
       "    .dataframe tbody tr th:only-of-type {\n",
       "        vertical-align: middle;\n",
       "    }\n",
       "\n",
       "    .dataframe tbody tr th {\n",
       "        vertical-align: top;\n",
       "    }\n",
       "\n",
       "    .dataframe thead th {\n",
       "        text-align: right;\n",
       "    }\n",
       "</style>\n",
       "<table border=\"1\" class=\"dataframe\">\n",
       "  <thead>\n",
       "    <tr style=\"text-align: right;\">\n",
       "      <th></th>\n",
       "      <th>order_id</th>\n",
       "      <th>product_id</th>\n",
       "      <th>add_to_cart_order</th>\n",
       "      <th>reordered</th>\n",
       "    </tr>\n",
       "  </thead>\n",
       "  <tbody>\n",
       "    <tr>\n",
       "      <th>0</th>\n",
       "      <td>2141543</td>\n",
       "      <td>11440</td>\n",
       "      <td>17.0</td>\n",
       "      <td>0</td>\n",
       "    </tr>\n",
       "    <tr>\n",
       "      <th>1</th>\n",
       "      <td>567889</td>\n",
       "      <td>1560</td>\n",
       "      <td>1.0</td>\n",
       "      <td>1</td>\n",
       "    </tr>\n",
       "    <tr>\n",
       "      <th>2</th>\n",
       "      <td>2261212</td>\n",
       "      <td>26683</td>\n",
       "      <td>1.0</td>\n",
       "      <td>1</td>\n",
       "    </tr>\n",
       "    <tr>\n",
       "      <th>3</th>\n",
       "      <td>491251</td>\n",
       "      <td>8670</td>\n",
       "      <td>35.0</td>\n",
       "      <td>1</td>\n",
       "    </tr>\n",
       "    <tr>\n",
       "      <th>4</th>\n",
       "      <td>2571142</td>\n",
       "      <td>1940</td>\n",
       "      <td>5.0</td>\n",
       "      <td>1</td>\n",
       "    </tr>\n",
       "  </tbody>\n",
       "</table>\n",
       "</div>"
      ],
      "text/plain": [
       "   order_id  product_id  add_to_cart_order  reordered\n",
       "0   2141543       11440               17.0          0\n",
       "1    567889        1560                1.0          1\n",
       "2   2261212       26683                1.0          1\n",
       "3    491251        8670               35.0          1\n",
       "4   2571142        1940                5.0          1"
      ]
     },
     "metadata": {},
     "output_type": "display_data"
    },
    {
     "name": "stdout",
     "output_type": "stream",
     "text": [
      "<class 'pandas.core.frame.DataFrame'>\n",
      "RangeIndex: 4545007 entries, 0 to 4545006\n",
      "Data columns (total 4 columns):\n",
      " #   Column             Non-Null Count    Dtype  \n",
      "---  ------             --------------    -----  \n",
      " 0   order_id           4545007 non-null  int64  \n",
      " 1   product_id         4545007 non-null  int64  \n",
      " 2   add_to_cart_order  4544171 non-null  float64\n",
      " 3   reordered          4545007 non-null  int64  \n",
      "dtypes: float64(1), int64(3)\n",
      "memory usage: 138.7 MB\n",
      "None\n"
     ]
    },
    {
     "data": {
      "text/plain": [
       "order_id               0\n",
       "product_id             0\n",
       "add_to_cart_order    836\n",
       "reordered              0\n",
       "dtype: int64"
      ]
     },
     "metadata": {},
     "output_type": "display_data"
    }
   ],
   "source": [
    "# mostrar información del DataFrame\n",
    "display(df4.head())\n",
    "print(df4.info(show_counts=True))\n",
    "display(df4.isnull().sum())"
   ]
  },
  {
   "cell_type": "markdown",
   "id": "a37486b4",
   "metadata": {},
   "source": [
    "\n",
    "<div class=\"alert alert-block alert-warning\">\n",
    "<b>Comentario del revisor </b> <a class=\"tocSkip\"></a>\n",
    "    \n",
    "* Atención con el dataset `order`, debido a que es grande, `.info()` no está mostrando las cantidades en las variables. Para ello tienes que usar el parámetro `show_counts=True`.\n",
    "    "
   ]
  },
  {
   "cell_type": "markdown",
   "id": "ed7e834e",
   "metadata": {},
   "source": [
    "<div class=\"alert alert-block alert-info\">\n",
    "<b>Respuesta del estudiante</b> <a class=\"tocSkip\"></a>\n",
    "\n",
    "Listo. Gracias por este parámetro.\n",
    "</div>"
   ]
  },
  {
   "cell_type": "markdown",
   "id": "t75BD19oaR5f",
   "metadata": {
    "id": "t75BD19oaR5f"
   },
   "source": [
    "## Conclusiones\n",
    "\n",
    "Escribe aquí tus conclusiones intermedias sobre el Paso 1. Descripción de los datos.\n"
   ]
  },
  {
   "cell_type": "markdown",
   "id": "7ba50029",
   "metadata": {},
   "source": [
    "Los DataFrames tienen diferentes números de columnas. Los mayoría de los DataFrames mantienen columnas con valores nulos, a excepción de **aisles** y **departaments** que no muestran que hay valores nulos. Algunos DataFrames tienen combinaciones entre enteros y flotantes, y otros entre enteros y objetos. Las columnas que mantienen los números flotantes, mantienen una sitaxis correcta con los decimales."
   ]
  },
  {
   "cell_type": "markdown",
   "id": "3b8390e4",
   "metadata": {},
   "source": [
    "\n",
    "<div class=\"alert alert-block alert-success\">\n",
    "<b>Comentario del revisor </b> <a class=\"tocSkip\"></a>\n",
    "    \n",
    "Bien hecho! Siempre es importante completar las conclusiones ya que te guiarán por todo el sprint.    \n"
   ]
  },
  {
   "cell_type": "markdown",
   "id": "8RJHqxVmaVsF",
   "metadata": {
    "id": "8RJHqxVmaVsF"
   },
   "source": [
    "# Paso 2. Preprocesamiento de los datos\n",
    "\n",
    "Preprocesa los datos de la siguiente manera:\n",
    "\n",
    "- Verifica y corrige los tipos de datos (por ejemplo, asegúrate de que las columnas de ID sean números enteros).\n",
    "- Identifica y completa los valores ausentes.\n",
    "- Identifica y elimina los valores duplicados.\n",
    "\n",
    "Asegúrate de explicar qué tipos de valores ausentes y duplicados encontraste, cómo los completaste o eliminaste y por qué usaste esos métodos. ¿Por qué crees que estos valores ausentes y duplicados pueden haber estado presentes en el conjunto de datos?"
   ]
  },
  {
   "cell_type": "markdown",
   "id": "p6poABZQaZYb",
   "metadata": {
    "id": "p6poABZQaZYb"
   },
   "source": [
    "## Plan de solución\n",
    "\n",
    "Escribe aquí tu plan para el Paso 2. Preprocesamiento de los datos."
   ]
  },
  {
   "cell_type": "markdown",
   "id": "72efa20f",
   "metadata": {},
   "source": [
    "\n",
    "\n",
    "<div class=\"alert alert-block alert-warning\">\n",
    "<b>Comentario del revisor</b> <a class=\"tocSkip\"></a>\n",
    "\n",
    "Recuerda que es importante elaborar un plan de solución antes de ponerse a escribir el código.</div>\n",
    "\n"
   ]
  },
  {
   "cell_type": "markdown",
   "id": "6e0bff27",
   "metadata": {},
   "source": [
    "<div class=\"alert alert-block alert-info\">\n",
    "<b>Respuesta del estudiante</b> <a class=\"tocSkip\"></a>\n",
    "\n",
    "Una vez que conocemos la información de los DataFrames, debemos:\n",
    "- Analizar los problemas que tenemos con los datos.\n",
    "- Hacer un análisis de la calidad de los datos.\n",
    "    - Identificar errores comunes, duplicados (explícitos y no explícitos), valores ausentes.\n",
    "- Procesar los datos duplicados y ausentes.\n",
    "- Documentar las acciones que se van realizando, para conocer los métodos que se van utilizando.\n",
    "    \n",
    "</div>"
   ]
  },
  {
   "cell_type": "markdown",
   "id": "76eff21a",
   "metadata": {},
   "source": [
    "\n",
    "\n",
    "<div class=\"alert alert-block alert-success\">\n",
    "<b>Comentario del revisor </b> <a class=\"tocSkip\"></a>\n",
    "    \n",
    "Bien hecho! Siempre es importante completar las conclusiones ya que te guiarán por todo el sprint.    \n",
    "\n"
   ]
  },
  {
   "cell_type": "markdown",
   "id": "07357848-dc64-4156-9cc3-01ff4365226d",
   "metadata": {
    "id": "07357848-dc64-4156-9cc3-01ff4365226d"
   },
   "source": [
    "## Encuentra y elimina los valores duplicados (y describe cómo tomaste tus decisiones)."
   ]
  },
  {
   "cell_type": "markdown",
   "id": "f179f0a9",
   "metadata": {
    "id": "f179f0a9"
   },
   "source": [
    "### `orders` data frame"
   ]
  },
  {
   "cell_type": "code",
   "execution_count": 9,
   "id": "b99297a5-405a-463d-8535-9adc3da4ad74",
   "metadata": {
    "id": "b99297a5-405a-463d-8535-9adc3da4ad74",
    "trusted": false
   },
   "outputs": [
    {
     "name": "stdout",
     "output_type": "stream",
     "text": [
      "15\n"
     ]
    }
   ],
   "source": [
    "# Revisa si hay pedidos duplicados\n",
    "print(df.duplicated().sum())"
   ]
  },
  {
   "cell_type": "markdown",
   "id": "PEkwUX_gvt5A",
   "metadata": {
    "id": "PEkwUX_gvt5A"
   },
   "source": [
    "¿Tienes líneas duplicadas? Si sí, ¿qué tienen en común?"
   ]
  },
  {
   "cell_type": "markdown",
   "id": "f2a63076",
   "metadata": {},
   "source": [
    "Hay 15 filas duplicadas, son filas con duplicados explícitos, es decir que todos los datos en las columnas son iguales."
   ]
  },
  {
   "cell_type": "code",
   "execution_count": 10,
   "id": "0d44de5d",
   "metadata": {
    "id": "0d44de5d",
    "trusted": false
   },
   "outputs": [
    {
     "data": {
      "text/html": [
       "<div>\n",
       "<style scoped>\n",
       "    .dataframe tbody tr th:only-of-type {\n",
       "        vertical-align: middle;\n",
       "    }\n",
       "\n",
       "    .dataframe tbody tr th {\n",
       "        vertical-align: top;\n",
       "    }\n",
       "\n",
       "    .dataframe thead th {\n",
       "        text-align: right;\n",
       "    }\n",
       "</style>\n",
       "<table border=\"1\" class=\"dataframe\">\n",
       "  <thead>\n",
       "    <tr style=\"text-align: right;\">\n",
       "      <th></th>\n",
       "      <th>order_id</th>\n",
       "      <th>user_id</th>\n",
       "      <th>order_number</th>\n",
       "      <th>order_dow</th>\n",
       "      <th>order_hour_of_day</th>\n",
       "      <th>days_since_prior_order</th>\n",
       "    </tr>\n",
       "  </thead>\n",
       "  <tbody>\n",
       "    <tr>\n",
       "      <th>4838</th>\n",
       "      <td>2766110</td>\n",
       "      <td>162084</td>\n",
       "      <td>41</td>\n",
       "      <td>3</td>\n",
       "      <td>2</td>\n",
       "      <td>16.0</td>\n",
       "    </tr>\n",
       "    <tr>\n",
       "      <th>5156</th>\n",
       "      <td>2190225</td>\n",
       "      <td>138285</td>\n",
       "      <td>18</td>\n",
       "      <td>3</td>\n",
       "      <td>2</td>\n",
       "      <td>11.0</td>\n",
       "    </tr>\n",
       "    <tr>\n",
       "      <th>15506</th>\n",
       "      <td>553049</td>\n",
       "      <td>58599</td>\n",
       "      <td>13</td>\n",
       "      <td>3</td>\n",
       "      <td>2</td>\n",
       "      <td>7.0</td>\n",
       "    </tr>\n",
       "    <tr>\n",
       "      <th>18420</th>\n",
       "      <td>382357</td>\n",
       "      <td>120200</td>\n",
       "      <td>19</td>\n",
       "      <td>3</td>\n",
       "      <td>2</td>\n",
       "      <td>11.0</td>\n",
       "    </tr>\n",
       "    <tr>\n",
       "      <th>24691</th>\n",
       "      <td>690242</td>\n",
       "      <td>77357</td>\n",
       "      <td>2</td>\n",
       "      <td>3</td>\n",
       "      <td>2</td>\n",
       "      <td>9.0</td>\n",
       "    </tr>\n",
       "    <tr>\n",
       "      <th>...</th>\n",
       "      <td>...</td>\n",
       "      <td>...</td>\n",
       "      <td>...</td>\n",
       "      <td>...</td>\n",
       "      <td>...</td>\n",
       "      <td>...</td>\n",
       "    </tr>\n",
       "    <tr>\n",
       "      <th>457013</th>\n",
       "      <td>3384021</td>\n",
       "      <td>14881</td>\n",
       "      <td>6</td>\n",
       "      <td>3</td>\n",
       "      <td>2</td>\n",
       "      <td>30.0</td>\n",
       "    </tr>\n",
       "    <tr>\n",
       "      <th>458816</th>\n",
       "      <td>910166</td>\n",
       "      <td>164782</td>\n",
       "      <td>18</td>\n",
       "      <td>3</td>\n",
       "      <td>2</td>\n",
       "      <td>4.0</td>\n",
       "    </tr>\n",
       "    <tr>\n",
       "      <th>459635</th>\n",
       "      <td>1680532</td>\n",
       "      <td>106435</td>\n",
       "      <td>6</td>\n",
       "      <td>3</td>\n",
       "      <td>2</td>\n",
       "      <td>21.0</td>\n",
       "    </tr>\n",
       "    <tr>\n",
       "      <th>468324</th>\n",
       "      <td>222962</td>\n",
       "      <td>54979</td>\n",
       "      <td>59</td>\n",
       "      <td>3</td>\n",
       "      <td>2</td>\n",
       "      <td>3.0</td>\n",
       "    </tr>\n",
       "    <tr>\n",
       "      <th>477526</th>\n",
       "      <td>2592344</td>\n",
       "      <td>46860</td>\n",
       "      <td>38</td>\n",
       "      <td>3</td>\n",
       "      <td>2</td>\n",
       "      <td>3.0</td>\n",
       "    </tr>\n",
       "  </tbody>\n",
       "</table>\n",
       "<p>121 rows × 6 columns</p>\n",
       "</div>"
      ],
      "text/plain": [
       "        order_id  user_id  order_number  order_dow  order_hour_of_day  \\\n",
       "4838     2766110   162084            41          3                  2   \n",
       "5156     2190225   138285            18          3                  2   \n",
       "15506     553049    58599            13          3                  2   \n",
       "18420     382357   120200            19          3                  2   \n",
       "24691     690242    77357             2          3                  2   \n",
       "...          ...      ...           ...        ...                ...   \n",
       "457013   3384021    14881             6          3                  2   \n",
       "458816    910166   164782            18          3                  2   \n",
       "459635   1680532   106435             6          3                  2   \n",
       "468324    222962    54979            59          3                  2   \n",
       "477526   2592344    46860            38          3                  2   \n",
       "\n",
       "        days_since_prior_order  \n",
       "4838                      16.0  \n",
       "5156                      11.0  \n",
       "15506                      7.0  \n",
       "18420                     11.0  \n",
       "24691                      9.0  \n",
       "...                        ...  \n",
       "457013                    30.0  \n",
       "458816                     4.0  \n",
       "459635                    21.0  \n",
       "468324                     3.0  \n",
       "477526                     3.0  \n",
       "\n",
       "[121 rows x 6 columns]"
      ]
     },
     "execution_count": 10,
     "metadata": {},
     "output_type": "execute_result"
    }
   ],
   "source": [
    "# Basándote en tus hallazgos,\n",
    "# Verifica todos los pedidos que se hicieron el miércoles a las 2:00 a.m.\n",
    "df_filtered = df[(df['order_dow'] == 3) & (df['order_hour_of_day'] == 2)]\n",
    "df_filtered"
   ]
  },
  {
   "cell_type": "markdown",
   "id": "vu2OWyoqwOx5",
   "metadata": {
    "id": "vu2OWyoqwOx5"
   },
   "source": [
    "¿Qué sugiere este resultado?"
   ]
  },
  {
   "cell_type": "markdown",
   "id": "336d0f62",
   "metadata": {},
   "source": [
    "No podemos decir que por que los valores de estas 2 columnas, **order_dow** y **order_hour_of_day**, los pedidos sean duplicados, ya que vemos que en las demás columnas no ocurre esto, por lo que debemos tomarles como pedidos independientes."
   ]
  },
  {
   "cell_type": "code",
   "execution_count": 11,
   "id": "480563c7",
   "metadata": {
    "id": "480563c7",
    "trusted": false
   },
   "outputs": [
    {
     "name": "stdout",
     "output_type": "stream",
     "text": [
      "<class 'pandas.core.frame.DataFrame'>\n",
      "Int64Index: 478952 entries, 0 to 478966\n",
      "Data columns (total 6 columns):\n",
      " #   Column                  Non-Null Count   Dtype  \n",
      "---  ------                  --------------   -----  \n",
      " 0   order_id                478952 non-null  int64  \n",
      " 1   user_id                 478952 non-null  int64  \n",
      " 2   order_number            478952 non-null  int64  \n",
      " 3   order_dow               478952 non-null  int64  \n",
      " 4   order_hour_of_day       478952 non-null  int64  \n",
      " 5   days_since_prior_order  450135 non-null  float64\n",
      "dtypes: float64(1), int64(5)\n",
      "memory usage: 25.6 MB\n",
      "None\n"
     ]
    }
   ],
   "source": [
    "# Elimina los pedidos duplicados\n",
    "df.drop_duplicates(inplace=True)\n",
    "print(df.info())\n"
   ]
  },
  {
   "cell_type": "code",
   "execution_count": 12,
   "id": "0b2396a2",
   "metadata": {
    "id": "0b2396a2",
    "trusted": false
   },
   "outputs": [
    {
     "name": "stdout",
     "output_type": "stream",
     "text": [
      "0\n"
     ]
    }
   ],
   "source": [
    "# Vuelve a verificar si hay filas duplicadas\n",
    "print(df.duplicated().sum())"
   ]
  },
  {
   "cell_type": "code",
   "execution_count": 13,
   "id": "f6113ef1",
   "metadata": {
    "id": "f6113ef1",
    "trusted": false
   },
   "outputs": [
    {
     "name": "stdout",
     "output_type": "stream",
     "text": [
      "478952\n"
     ]
    }
   ],
   "source": [
    "# Vuelve a verificar únicamente si hay IDs duplicados de pedidos\n",
    "print(df['order_id'].nunique())"
   ]
  },
  {
   "cell_type": "markdown",
   "id": "5e8905ae",
   "metadata": {
    "id": "5e8905ae"
   },
   "source": [
    "Describe brevemente tus hallazgos y lo que hiciste con ellos"
   ]
  },
  {
   "cell_type": "markdown",
   "id": "5238443e",
   "metadata": {},
   "source": [
    "Al eliminar los duplicados explícitos con el método **(.drop_duplicates)**, bajamos de 478967 entradas a 478952 entradas, lo que nos muestra que se eliminaron los 15 pedidos que estaban duplicados, al verificar con el método **(.duplicated)** y valores únicos en la columna **order_id**, nos muestra que efectivamente tenemos pedidos únicos y ya no contamos con pedidos duplicados."
   ]
  },
  {
   "cell_type": "markdown",
   "id": "45e6bc46",
   "metadata": {
    "id": "45e6bc46"
   },
   "source": [
    "### `products` data frame"
   ]
  },
  {
   "cell_type": "code",
   "execution_count": 14,
   "id": "5f526b5b-8175-46fa-a0fd-441767d50e64",
   "metadata": {
    "id": "5f526b5b-8175-46fa-a0fd-441767d50e64",
    "trusted": false
   },
   "outputs": [
    {
     "name": "stdout",
     "output_type": "stream",
     "text": [
      "0\n"
     ]
    }
   ],
   "source": [
    "# Verifica si hay filas totalmente duplicadas\n",
    "print(df1.duplicated().sum())"
   ]
  },
  {
   "cell_type": "code",
   "execution_count": 15,
   "id": "88daa4f4",
   "metadata": {
    "id": "88daa4f4",
    "trusted": false
   },
   "outputs": [
    {
     "name": "stdout",
     "output_type": "stream",
     "text": [
      "21\n"
     ]
    }
   ],
   "source": [
    "# Revisa únicamente si hay ID de departamentos duplicados\n",
    "print(df1['department_id'].nunique())"
   ]
  },
  {
   "cell_type": "code",
   "execution_count": 16,
   "id": "c773f0bf",
   "metadata": {
    "id": "c773f0bf",
    "trusted": false
   },
   "outputs": [],
   "source": [
    "# Revisa únicamente si hay nombres duplicados de productos (convierte los nombres a letras mayúsculas para compararlos mejor)\n",
    "df1['product_name'] = df1['product_name'].str.upper()\n"
   ]
  },
  {
   "cell_type": "code",
   "execution_count": 17,
   "id": "01efd02e",
   "metadata": {
    "id": "01efd02e",
    "trusted": false
   },
   "outputs": [
    {
     "name": "stdout",
     "output_type": "stream",
     "text": [
      "48332\n"
     ]
    }
   ],
   "source": [
    "# Revisa si hay nombres duplicados de productos no faltantes\n",
    "print(df1['product_name'].nunique())"
   ]
  },
  {
   "cell_type": "markdown",
   "id": "9da8d293",
   "metadata": {
    "id": "9da8d293"
   },
   "source": [
    "Describe brevemente tus hallazgos y lo que hiciste con ellos."
   ]
  },
  {
   "cell_type": "markdown",
   "id": "db54dc5a",
   "metadata": {},
   "source": [
    "Vemos que en el DataFrame **products** no hay filas totalmente duplicadas al correr el método **(.duplicated)**, así también vemos que los departamentos no están duplicados, contando solo con nombres únicos con el método **(.nunique)** en la columna **department_id**, ya que éste es el número de filas que se encuentra en el DataFrame **departaments**. Al pasar los nombres de los productos a mayúsculas con el método **(.str.upper)** verificamos duplicados y nos muestra un número menor de filas del que tiene el DataFrame **products**, sin embargo no significa que todas las filas sean duplicadas en dicho DataFrame, si no que tenemos valores en lo posible estandarizados al pasar a mayúsculas.  "
   ]
  },
  {
   "cell_type": "markdown",
   "id": "60f30db1",
   "metadata": {
    "id": "60f30db1"
   },
   "source": [
    "### `departments` data frame"
   ]
  },
  {
   "cell_type": "code",
   "execution_count": 18,
   "id": "fb410ad4-0fbf-4b80-bb09-23fdea79afe3",
   "metadata": {
    "id": "fb410ad4-0fbf-4b80-bb09-23fdea79afe3",
    "trusted": false
   },
   "outputs": [
    {
     "name": "stdout",
     "output_type": "stream",
     "text": [
      "0\n"
     ]
    }
   ],
   "source": [
    "# Revisa si hay filas totalmente duplicadas\n",
    "print(df3.duplicated().sum())"
   ]
  },
  {
   "cell_type": "code",
   "execution_count": 19,
   "id": "332b12bb",
   "metadata": {
    "id": "332b12bb",
    "trusted": false
   },
   "outputs": [
    {
     "name": "stdout",
     "output_type": "stream",
     "text": [
      "21\n"
     ]
    }
   ],
   "source": [
    "# Revisa únicamente si hay IDs duplicadas de productos\n",
    "print(df3['department_id'].nunique())"
   ]
  },
  {
   "cell_type": "markdown",
   "id": "bd30d78e",
   "metadata": {
    "id": "bd30d78e"
   },
   "source": [
    "Describe brevemente tus hallazgos y lo que hiciste con ellos."
   ]
  },
  {
   "cell_type": "markdown",
   "id": "31321ad7",
   "metadata": {},
   "source": [
    "En este DataFrame no tenemos duplicados explícitos, ya que nos dió 0 al correr el método **(.duplicated)**, así mismo, vemos que los nombres de los departamentos no están duplicados al correr el método **(.nunique)**, ya que el valor que nos dió es el mismo valor que tenemos al correr el método **(.info)**."
   ]
  },
  {
   "cell_type": "markdown",
   "id": "889349c1",
   "metadata": {
    "id": "889349c1"
   },
   "source": [
    "### `aisles` data frame"
   ]
  },
  {
   "cell_type": "code",
   "execution_count": 20,
   "id": "9da89fb9-4679-40f5-ad0d-c34df753a3f8",
   "metadata": {
    "id": "9da89fb9-4679-40f5-ad0d-c34df753a3f8",
    "trusted": false
   },
   "outputs": [
    {
     "name": "stdout",
     "output_type": "stream",
     "text": [
      "0\n"
     ]
    }
   ],
   "source": [
    "# Revisa si hay filas totalmente duplicadas\n",
    "print(df.duplicated().sum())"
   ]
  },
  {
   "cell_type": "code",
   "execution_count": 21,
   "id": "da7c2822",
   "metadata": {
    "id": "da7c2822",
    "trusted": false
   },
   "outputs": [
    {
     "name": "stdout",
     "output_type": "stream",
     "text": [
      "134\n"
     ]
    }
   ],
   "source": [
    "# Revisa únicamente si hay IDs duplicadas de pasillos\n",
    "print(df2['aisle_id'].nunique())"
   ]
  },
  {
   "cell_type": "markdown",
   "id": "ac63826f",
   "metadata": {
    "id": "ac63826f"
   },
   "source": [
    "Describe brevemente tus hallazgos y lo que hiciste con ellos."
   ]
  },
  {
   "cell_type": "markdown",
   "id": "72eafcb6",
   "metadata": {},
   "source": [
    "En este DataFrame no tenemos duplicados explícitos ya que nos dió 0 al correr el método **(.duplicated)**, así mismo, vemos que los nombres de los pasillos no están duplicados al correr el método **(.nunique)**, ya que el valor que nos dió es el mismo valor que tenemos al correr el método **(.info)**."
   ]
  },
  {
   "cell_type": "markdown",
   "id": "274cd06a",
   "metadata": {
    "id": "274cd06a"
   },
   "source": [
    "### `order_products` data frame"
   ]
  },
  {
   "cell_type": "code",
   "execution_count": 22,
   "id": "52326689-84a8-4b8f-a881-7c68780f62c9",
   "metadata": {
    "id": "52326689-84a8-4b8f-a881-7c68780f62c9",
    "trusted": false
   },
   "outputs": [
    {
     "name": "stdout",
     "output_type": "stream",
     "text": [
      "0\n"
     ]
    }
   ],
   "source": [
    "# Revisa si hay filas totalmente duplicadas\n",
    "print(df4.duplicated().sum())"
   ]
  },
  {
   "cell_type": "code",
   "execution_count": 23,
   "id": "7b861391",
   "metadata": {
    "id": "7b861391",
    "trusted": false
   },
   "outputs": [
    {
     "name": "stdout",
     "output_type": "stream",
     "text": [
      "45573\n"
     ]
    }
   ],
   "source": [
    "# Vuelve a verificar si hay cualquier otro duplicado engañoso\n",
    "print(df4['product_id'].nunique())"
   ]
  },
  {
   "cell_type": "markdown",
   "id": "0b890492",
   "metadata": {
    "id": "0b890492"
   },
   "source": [
    "Describe brevemente tus hallazgos y lo que hiciste con ellos."
   ]
  },
  {
   "cell_type": "markdown",
   "id": "7a6656c9",
   "metadata": {},
   "source": [
    "En este DataFrame no tenemos duplicados explícitos ya que nos dió 0 al correr el método **(.duplicated)**, vemos que los nombres únicos de los productos es de 45573 al correr el método **(.nunique)**, este valor es menor al conteo único en el DataFrame **products**, de los productos considerando la columna **product_id**, lo que podría indicarnos que hat productos de nuestra cartera de productos que no se han hecho pedidos y analizarlos cuales son para tomar accciones."
   ]
  },
  {
   "cell_type": "markdown",
   "id": "b652ee9e",
   "metadata": {},
   "source": [
    "\n",
    "\n",
    "<div class=\"alert alert-block alert-success\">\n",
    "<b>Comentario del revisor</b> <a class=\"tocSkip\"></a>\n",
    "\n",
    "Todas las validaciones y conteos de duplicados están bien hechas! Gran trabajo!\n",
    "</div>\n"
   ]
  },
  {
   "cell_type": "markdown",
   "id": "1e46de76",
   "metadata": {
    "id": "1e46de76"
   },
   "source": [
    "## Encuentra y elimina los valores ausentes\n",
    "\n",
    "Al trabajar con valores duplicados, pudimos observar que también nos falta investigar valores ausentes:\n",
    "\n",
    "* La columna `'product_name'` de la tabla products.\n",
    "* La columna `'days_since_prior_order'` de la tabla orders.\n",
    "* La columna `'add_to_cart_order'` de la tabla order_productos."
   ]
  },
  {
   "cell_type": "markdown",
   "id": "c0aebd78",
   "metadata": {
    "id": "c0aebd78"
   },
   "source": [
    "### `products` data frame"
   ]
  },
  {
   "cell_type": "code",
   "execution_count": 24,
   "id": "fe4a8b0f",
   "metadata": {
    "id": "fe4a8b0f",
    "trusted": false
   },
   "outputs": [
    {
     "data": {
      "text/html": [
       "<div>\n",
       "<style scoped>\n",
       "    .dataframe tbody tr th:only-of-type {\n",
       "        vertical-align: middle;\n",
       "    }\n",
       "\n",
       "    .dataframe tbody tr th {\n",
       "        vertical-align: top;\n",
       "    }\n",
       "\n",
       "    .dataframe thead th {\n",
       "        text-align: right;\n",
       "    }\n",
       "</style>\n",
       "<table border=\"1\" class=\"dataframe\">\n",
       "  <thead>\n",
       "    <tr style=\"text-align: right;\">\n",
       "      <th></th>\n",
       "      <th>product_id</th>\n",
       "      <th>product_name</th>\n",
       "      <th>aisle_id</th>\n",
       "      <th>department_id</th>\n",
       "    </tr>\n",
       "  </thead>\n",
       "  <tbody>\n",
       "    <tr>\n",
       "      <th>37</th>\n",
       "      <td>38</td>\n",
       "      <td>NaN</td>\n",
       "      <td>100</td>\n",
       "      <td>21</td>\n",
       "    </tr>\n",
       "    <tr>\n",
       "      <th>71</th>\n",
       "      <td>72</td>\n",
       "      <td>NaN</td>\n",
       "      <td>100</td>\n",
       "      <td>21</td>\n",
       "    </tr>\n",
       "    <tr>\n",
       "      <th>109</th>\n",
       "      <td>110</td>\n",
       "      <td>NaN</td>\n",
       "      <td>100</td>\n",
       "      <td>21</td>\n",
       "    </tr>\n",
       "    <tr>\n",
       "      <th>296</th>\n",
       "      <td>297</td>\n",
       "      <td>NaN</td>\n",
       "      <td>100</td>\n",
       "      <td>21</td>\n",
       "    </tr>\n",
       "    <tr>\n",
       "      <th>416</th>\n",
       "      <td>417</td>\n",
       "      <td>NaN</td>\n",
       "      <td>100</td>\n",
       "      <td>21</td>\n",
       "    </tr>\n",
       "    <tr>\n",
       "      <th>...</th>\n",
       "      <td>...</td>\n",
       "      <td>...</td>\n",
       "      <td>...</td>\n",
       "      <td>...</td>\n",
       "    </tr>\n",
       "    <tr>\n",
       "      <th>49552</th>\n",
       "      <td>49553</td>\n",
       "      <td>NaN</td>\n",
       "      <td>100</td>\n",
       "      <td>21</td>\n",
       "    </tr>\n",
       "    <tr>\n",
       "      <th>49574</th>\n",
       "      <td>49575</td>\n",
       "      <td>NaN</td>\n",
       "      <td>100</td>\n",
       "      <td>21</td>\n",
       "    </tr>\n",
       "    <tr>\n",
       "      <th>49640</th>\n",
       "      <td>49641</td>\n",
       "      <td>NaN</td>\n",
       "      <td>100</td>\n",
       "      <td>21</td>\n",
       "    </tr>\n",
       "    <tr>\n",
       "      <th>49663</th>\n",
       "      <td>49664</td>\n",
       "      <td>NaN</td>\n",
       "      <td>100</td>\n",
       "      <td>21</td>\n",
       "    </tr>\n",
       "    <tr>\n",
       "      <th>49668</th>\n",
       "      <td>49669</td>\n",
       "      <td>NaN</td>\n",
       "      <td>100</td>\n",
       "      <td>21</td>\n",
       "    </tr>\n",
       "  </tbody>\n",
       "</table>\n",
       "<p>1258 rows × 4 columns</p>\n",
       "</div>"
      ],
      "text/plain": [
       "       product_id product_name  aisle_id  department_id\n",
       "37             38          NaN       100             21\n",
       "71             72          NaN       100             21\n",
       "109           110          NaN       100             21\n",
       "296           297          NaN       100             21\n",
       "416           417          NaN       100             21\n",
       "...           ...          ...       ...            ...\n",
       "49552       49553          NaN       100             21\n",
       "49574       49575          NaN       100             21\n",
       "49640       49641          NaN       100             21\n",
       "49663       49664          NaN       100             21\n",
       "49668       49669          NaN       100             21\n",
       "\n",
       "[1258 rows x 4 columns]"
      ]
     },
     "execution_count": 24,
     "metadata": {},
     "output_type": "execute_result"
    }
   ],
   "source": [
    "# Encuentra los valores ausentes en la columna 'product_name'\n",
    "missing_values = df1[df1['product_name'].isnull()]\n",
    "missing_values"
   ]
  },
  {
   "cell_type": "markdown",
   "id": "-A6x1AbJhjkp",
   "metadata": {
    "id": "-A6x1AbJhjkp"
   },
   "source": [
    "Describe brevemente cuáles son tus hallazgos."
   ]
  },
  {
   "cell_type": "markdown",
   "id": "218b1c4a",
   "metadata": {},
   "source": [
    "Encontramos en este DataFrame que hay 1258 filas, que hay valores ausentes en la columna **product_name** lo que es un 2.5% de datos faltantes en esta columna, si bien es cierto no es representativa, podríamos considerar que existen códigos de productos que se asignaron a productos inexistentes o  que hay productos catalogados que no se ha descrito el nombre."
   ]
  },
  {
   "cell_type": "code",
   "execution_count": 25,
   "id": "e96167bc",
   "metadata": {
    "id": "e96167bc",
    "trusted": false
   },
   "outputs": [
    {
     "data": {
      "text/html": [
       "<div>\n",
       "<style scoped>\n",
       "    .dataframe tbody tr th:only-of-type {\n",
       "        vertical-align: middle;\n",
       "    }\n",
       "\n",
       "    .dataframe tbody tr th {\n",
       "        vertical-align: top;\n",
       "    }\n",
       "\n",
       "    .dataframe thead th {\n",
       "        text-align: right;\n",
       "    }\n",
       "</style>\n",
       "<table border=\"1\" class=\"dataframe\">\n",
       "  <thead>\n",
       "    <tr style=\"text-align: right;\">\n",
       "      <th></th>\n",
       "      <th>product_id</th>\n",
       "      <th>product_name</th>\n",
       "      <th>aisle_id</th>\n",
       "      <th>department_id</th>\n",
       "    </tr>\n",
       "  </thead>\n",
       "  <tbody>\n",
       "    <tr>\n",
       "      <th>37</th>\n",
       "      <td>38</td>\n",
       "      <td>NaN</td>\n",
       "      <td>100</td>\n",
       "      <td>21</td>\n",
       "    </tr>\n",
       "    <tr>\n",
       "      <th>71</th>\n",
       "      <td>72</td>\n",
       "      <td>NaN</td>\n",
       "      <td>100</td>\n",
       "      <td>21</td>\n",
       "    </tr>\n",
       "    <tr>\n",
       "      <th>109</th>\n",
       "      <td>110</td>\n",
       "      <td>NaN</td>\n",
       "      <td>100</td>\n",
       "      <td>21</td>\n",
       "    </tr>\n",
       "    <tr>\n",
       "      <th>296</th>\n",
       "      <td>297</td>\n",
       "      <td>NaN</td>\n",
       "      <td>100</td>\n",
       "      <td>21</td>\n",
       "    </tr>\n",
       "    <tr>\n",
       "      <th>416</th>\n",
       "      <td>417</td>\n",
       "      <td>NaN</td>\n",
       "      <td>100</td>\n",
       "      <td>21</td>\n",
       "    </tr>\n",
       "    <tr>\n",
       "      <th>...</th>\n",
       "      <td>...</td>\n",
       "      <td>...</td>\n",
       "      <td>...</td>\n",
       "      <td>...</td>\n",
       "    </tr>\n",
       "    <tr>\n",
       "      <th>49552</th>\n",
       "      <td>49553</td>\n",
       "      <td>NaN</td>\n",
       "      <td>100</td>\n",
       "      <td>21</td>\n",
       "    </tr>\n",
       "    <tr>\n",
       "      <th>49574</th>\n",
       "      <td>49575</td>\n",
       "      <td>NaN</td>\n",
       "      <td>100</td>\n",
       "      <td>21</td>\n",
       "    </tr>\n",
       "    <tr>\n",
       "      <th>49640</th>\n",
       "      <td>49641</td>\n",
       "      <td>NaN</td>\n",
       "      <td>100</td>\n",
       "      <td>21</td>\n",
       "    </tr>\n",
       "    <tr>\n",
       "      <th>49663</th>\n",
       "      <td>49664</td>\n",
       "      <td>NaN</td>\n",
       "      <td>100</td>\n",
       "      <td>21</td>\n",
       "    </tr>\n",
       "    <tr>\n",
       "      <th>49668</th>\n",
       "      <td>49669</td>\n",
       "      <td>NaN</td>\n",
       "      <td>100</td>\n",
       "      <td>21</td>\n",
       "    </tr>\n",
       "  </tbody>\n",
       "</table>\n",
       "<p>1258 rows × 4 columns</p>\n",
       "</div>"
      ],
      "text/plain": [
       "       product_id product_name  aisle_id  department_id\n",
       "37             38          NaN       100             21\n",
       "71             72          NaN       100             21\n",
       "109           110          NaN       100             21\n",
       "296           297          NaN       100             21\n",
       "416           417          NaN       100             21\n",
       "...           ...          ...       ...            ...\n",
       "49552       49553          NaN       100             21\n",
       "49574       49575          NaN       100             21\n",
       "49640       49641          NaN       100             21\n",
       "49663       49664          NaN       100             21\n",
       "49668       49669          NaN       100             21\n",
       "\n",
       "[1258 rows x 4 columns]"
      ]
     },
     "execution_count": 25,
     "metadata": {},
     "output_type": "execute_result"
    }
   ],
   "source": [
    "#  ¿Todos los nombres de productos ausentes están relacionados con el pasillo con ID 100?\n",
    "pasillo_100 = df1[df1['aisle_id'] == 100]\n",
    "pasillo_100"
   ]
  },
  {
   "cell_type": "markdown",
   "id": "WRpIfXRphpSL",
   "metadata": {
    "id": "WRpIfXRphpSL"
   },
   "source": [
    "Describe brevemente cuáles son tus hallazgos."
   ]
  },
  {
   "cell_type": "markdown",
   "id": "27b40a3c",
   "metadata": {
    "id": "8fd0a541"
   },
   "source": [
    "Si, todas las filas que tienen valores nulos en **product_name** están relacionados con el pasillo 100, ya que al filtrar el valor 100 en la columna **aisle_id**, nos da el mismo número de 1258 filas."
   ]
  },
  {
   "cell_type": "markdown",
   "id": "da634cff",
   "metadata": {},
   "source": [
    "\n",
    "<div class=\"alert alert-block alert-success\">\n",
    "<b>Comentario del revisor</b> <a class=\"tocSkip\"></a>\n",
    "\n",
    "Muy buen análisis de valores ausentes!\n",
    "</div>"
   ]
  },
  {
   "cell_type": "code",
   "execution_count": 26,
   "id": "960eb58b",
   "metadata": {
    "trusted": false
   },
   "outputs": [
    {
     "data": {
      "text/html": [
       "<div>\n",
       "<style scoped>\n",
       "    .dataframe tbody tr th:only-of-type {\n",
       "        vertical-align: middle;\n",
       "    }\n",
       "\n",
       "    .dataframe tbody tr th {\n",
       "        vertical-align: top;\n",
       "    }\n",
       "\n",
       "    .dataframe thead th {\n",
       "        text-align: right;\n",
       "    }\n",
       "</style>\n",
       "<table border=\"1\" class=\"dataframe\">\n",
       "  <thead>\n",
       "    <tr style=\"text-align: right;\">\n",
       "      <th></th>\n",
       "      <th>product_id</th>\n",
       "      <th>product_name</th>\n",
       "      <th>aisle_id</th>\n",
       "      <th>department_id</th>\n",
       "    </tr>\n",
       "  </thead>\n",
       "  <tbody>\n",
       "    <tr>\n",
       "      <th>37</th>\n",
       "      <td>38</td>\n",
       "      <td>NaN</td>\n",
       "      <td>100</td>\n",
       "      <td>21</td>\n",
       "    </tr>\n",
       "    <tr>\n",
       "      <th>71</th>\n",
       "      <td>72</td>\n",
       "      <td>NaN</td>\n",
       "      <td>100</td>\n",
       "      <td>21</td>\n",
       "    </tr>\n",
       "    <tr>\n",
       "      <th>109</th>\n",
       "      <td>110</td>\n",
       "      <td>NaN</td>\n",
       "      <td>100</td>\n",
       "      <td>21</td>\n",
       "    </tr>\n",
       "    <tr>\n",
       "      <th>296</th>\n",
       "      <td>297</td>\n",
       "      <td>NaN</td>\n",
       "      <td>100</td>\n",
       "      <td>21</td>\n",
       "    </tr>\n",
       "    <tr>\n",
       "      <th>416</th>\n",
       "      <td>417</td>\n",
       "      <td>NaN</td>\n",
       "      <td>100</td>\n",
       "      <td>21</td>\n",
       "    </tr>\n",
       "    <tr>\n",
       "      <th>...</th>\n",
       "      <td>...</td>\n",
       "      <td>...</td>\n",
       "      <td>...</td>\n",
       "      <td>...</td>\n",
       "    </tr>\n",
       "    <tr>\n",
       "      <th>49552</th>\n",
       "      <td>49553</td>\n",
       "      <td>NaN</td>\n",
       "      <td>100</td>\n",
       "      <td>21</td>\n",
       "    </tr>\n",
       "    <tr>\n",
       "      <th>49574</th>\n",
       "      <td>49575</td>\n",
       "      <td>NaN</td>\n",
       "      <td>100</td>\n",
       "      <td>21</td>\n",
       "    </tr>\n",
       "    <tr>\n",
       "      <th>49640</th>\n",
       "      <td>49641</td>\n",
       "      <td>NaN</td>\n",
       "      <td>100</td>\n",
       "      <td>21</td>\n",
       "    </tr>\n",
       "    <tr>\n",
       "      <th>49663</th>\n",
       "      <td>49664</td>\n",
       "      <td>NaN</td>\n",
       "      <td>100</td>\n",
       "      <td>21</td>\n",
       "    </tr>\n",
       "    <tr>\n",
       "      <th>49668</th>\n",
       "      <td>49669</td>\n",
       "      <td>NaN</td>\n",
       "      <td>100</td>\n",
       "      <td>21</td>\n",
       "    </tr>\n",
       "  </tbody>\n",
       "</table>\n",
       "<p>1258 rows × 4 columns</p>\n",
       "</div>"
      ],
      "text/plain": [
       "       product_id product_name  aisle_id  department_id\n",
       "37             38          NaN       100             21\n",
       "71             72          NaN       100             21\n",
       "109           110          NaN       100             21\n",
       "296           297          NaN       100             21\n",
       "416           417          NaN       100             21\n",
       "...           ...          ...       ...            ...\n",
       "49552       49553          NaN       100             21\n",
       "49574       49575          NaN       100             21\n",
       "49640       49641          NaN       100             21\n",
       "49663       49664          NaN       100             21\n",
       "49668       49669          NaN       100             21\n",
       "\n",
       "[1258 rows x 4 columns]"
      ]
     },
     "execution_count": 26,
     "metadata": {},
     "output_type": "execute_result"
    }
   ],
   "source": [
    "#  ¿Todos los nombres de productos ausentes están relacionados con el departamento con ID 21?\n",
    "departamento_21 = df1[df1['department_id'] == 21]\n",
    "departamento_21"
   ]
  },
  {
   "cell_type": "markdown",
   "id": "qDpdYn1Fht_I",
   "metadata": {
    "id": "qDpdYn1Fht_I"
   },
   "source": [
    "Describe brevemente cuáles son tus hallazgos."
   ]
  },
  {
   "cell_type": "markdown",
   "id": "d7bb1d03",
   "metadata": {},
   "source": [
    "Si todas las filas que tienen valores nulos en **product_name** están relacionados con el departamento 21, ya que al filtrar el valor 21 en la columna **deparment_id**, nos da el mismo número de 1258 filas."
   ]
  },
  {
   "cell_type": "code",
   "execution_count": 27,
   "id": "325c3464",
   "metadata": {
    "id": "325c3464",
    "trusted": false
   },
   "outputs": [
    {
     "data": {
      "text/html": [
       "<div>\n",
       "<style scoped>\n",
       "    .dataframe tbody tr th:only-of-type {\n",
       "        vertical-align: middle;\n",
       "    }\n",
       "\n",
       "    .dataframe tbody tr th {\n",
       "        vertical-align: top;\n",
       "    }\n",
       "\n",
       "    .dataframe thead th {\n",
       "        text-align: right;\n",
       "    }\n",
       "</style>\n",
       "<table border=\"1\" class=\"dataframe\">\n",
       "  <thead>\n",
       "    <tr style=\"text-align: right;\">\n",
       "      <th></th>\n",
       "      <th>product_id</th>\n",
       "      <th>product_name</th>\n",
       "      <th>aisle_id</th>\n",
       "      <th>department_id</th>\n",
       "    </tr>\n",
       "  </thead>\n",
       "  <tbody>\n",
       "    <tr>\n",
       "      <th>37</th>\n",
       "      <td>38</td>\n",
       "      <td>NaN</td>\n",
       "      <td>100</td>\n",
       "      <td>21</td>\n",
       "    </tr>\n",
       "    <tr>\n",
       "      <th>71</th>\n",
       "      <td>72</td>\n",
       "      <td>NaN</td>\n",
       "      <td>100</td>\n",
       "      <td>21</td>\n",
       "    </tr>\n",
       "    <tr>\n",
       "      <th>109</th>\n",
       "      <td>110</td>\n",
       "      <td>NaN</td>\n",
       "      <td>100</td>\n",
       "      <td>21</td>\n",
       "    </tr>\n",
       "    <tr>\n",
       "      <th>296</th>\n",
       "      <td>297</td>\n",
       "      <td>NaN</td>\n",
       "      <td>100</td>\n",
       "      <td>21</td>\n",
       "    </tr>\n",
       "    <tr>\n",
       "      <th>416</th>\n",
       "      <td>417</td>\n",
       "      <td>NaN</td>\n",
       "      <td>100</td>\n",
       "      <td>21</td>\n",
       "    </tr>\n",
       "    <tr>\n",
       "      <th>...</th>\n",
       "      <td>...</td>\n",
       "      <td>...</td>\n",
       "      <td>...</td>\n",
       "      <td>...</td>\n",
       "    </tr>\n",
       "    <tr>\n",
       "      <th>49552</th>\n",
       "      <td>49553</td>\n",
       "      <td>NaN</td>\n",
       "      <td>100</td>\n",
       "      <td>21</td>\n",
       "    </tr>\n",
       "    <tr>\n",
       "      <th>49574</th>\n",
       "      <td>49575</td>\n",
       "      <td>NaN</td>\n",
       "      <td>100</td>\n",
       "      <td>21</td>\n",
       "    </tr>\n",
       "    <tr>\n",
       "      <th>49640</th>\n",
       "      <td>49641</td>\n",
       "      <td>NaN</td>\n",
       "      <td>100</td>\n",
       "      <td>21</td>\n",
       "    </tr>\n",
       "    <tr>\n",
       "      <th>49663</th>\n",
       "      <td>49664</td>\n",
       "      <td>NaN</td>\n",
       "      <td>100</td>\n",
       "      <td>21</td>\n",
       "    </tr>\n",
       "    <tr>\n",
       "      <th>49668</th>\n",
       "      <td>49669</td>\n",
       "      <td>NaN</td>\n",
       "      <td>100</td>\n",
       "      <td>21</td>\n",
       "    </tr>\n",
       "  </tbody>\n",
       "</table>\n",
       "<p>1258 rows × 4 columns</p>\n",
       "</div>"
      ],
      "text/plain": [
       "       product_id product_name  aisle_id  department_id\n",
       "37             38          NaN       100             21\n",
       "71             72          NaN       100             21\n",
       "109           110          NaN       100             21\n",
       "296           297          NaN       100             21\n",
       "416           417          NaN       100             21\n",
       "...           ...          ...       ...            ...\n",
       "49552       49553          NaN       100             21\n",
       "49574       49575          NaN       100             21\n",
       "49640       49641          NaN       100             21\n",
       "49663       49664          NaN       100             21\n",
       "49668       49669          NaN       100             21\n",
       "\n",
       "[1258 rows x 4 columns]"
      ]
     },
     "execution_count": 27,
     "metadata": {},
     "output_type": "execute_result"
    }
   ],
   "source": [
    "# Usa las tablas department y aisle para revisar los datos del pasillo con ID 100 y el departamento con ID 21.\n",
    "pasillo_100_departamento_21 = df1[(df1['aisle_id'] == 100) & (df1['department_id'] == 21)]\n",
    "pasillo_100_departamento_21"
   ]
  },
  {
   "cell_type": "markdown",
   "id": "nqhSTUPhhvEJ",
   "metadata": {
    "id": "nqhSTUPhhvEJ"
   },
   "source": [
    "Describe brevemente cuáles son tus hallazgos."
   ]
  },
  {
   "cell_type": "markdown",
   "id": "cbfd1063",
   "metadata": {},
   "source": [
    "Si, todas las filas que tienen valores nulos en **product_name** están relacionados con el departamento 21, y el pasillo 100, ya que al filtrar el valor 21 en la columna **deparment_id** y el valor 100 en la columna **aisle_id** nos da el mismo número de 1258 filas."
   ]
  },
  {
   "cell_type": "code",
   "execution_count": 28,
   "id": "6b295120",
   "metadata": {
    "id": "6b295120",
    "trusted": false
   },
   "outputs": [
    {
     "name": "stdout",
     "output_type": "stream",
     "text": [
      "product_id       0\n",
      "product_name     0\n",
      "aisle_id         0\n",
      "department_id    0\n",
      "dtype: int64\n"
     ]
    }
   ],
   "source": [
    "# Completa los nombres de productos ausentes con 'Unknown'\n",
    "df1['product_name'].fillna('Unknown', inplace=True)\n",
    "print(df1.isnull().sum())"
   ]
  },
  {
   "cell_type": "markdown",
   "id": "fc70e5ad",
   "metadata": {
    "id": "fc70e5ad"
   },
   "source": [
    "Describe brevemente tus hallazgos y lo que hiciste con ellos."
   ]
  },
  {
   "cell_type": "markdown",
   "id": "eddc755b",
   "metadata": {},
   "source": [
    "Ahora ya no tenemos valores ausentes en el DataFrame **products** una vez que hemos sustituido los valores ausentes **(NaN)** por **(Unknown)** utilizando el método **(.fillna)**"
   ]
  },
  {
   "cell_type": "markdown",
   "id": "7eb45c86",
   "metadata": {
    "id": "7eb45c86"
   },
   "source": [
    "### `orders` data frame"
   ]
  },
  {
   "cell_type": "code",
   "execution_count": 29,
   "id": "93e41d96",
   "metadata": {
    "id": "93e41d96",
    "trusted": false
   },
   "outputs": [
    {
     "name": "stdout",
     "output_type": "stream",
     "text": [
      "order_id                      0\n",
      "user_id                       0\n",
      "order_number                  0\n",
      "order_dow                     0\n",
      "order_hour_of_day             0\n",
      "days_since_prior_order    28817\n",
      "dtype: int64\n"
     ]
    },
    {
     "data": {
      "text/html": [
       "<div>\n",
       "<style scoped>\n",
       "    .dataframe tbody tr th:only-of-type {\n",
       "        vertical-align: middle;\n",
       "    }\n",
       "\n",
       "    .dataframe tbody tr th {\n",
       "        vertical-align: top;\n",
       "    }\n",
       "\n",
       "    .dataframe thead th {\n",
       "        text-align: right;\n",
       "    }\n",
       "</style>\n",
       "<table border=\"1\" class=\"dataframe\">\n",
       "  <thead>\n",
       "    <tr style=\"text-align: right;\">\n",
       "      <th></th>\n",
       "      <th>order_id</th>\n",
       "      <th>user_id</th>\n",
       "      <th>order_number</th>\n",
       "      <th>order_dow</th>\n",
       "      <th>order_hour_of_day</th>\n",
       "      <th>days_since_prior_order</th>\n",
       "    </tr>\n",
       "  </thead>\n",
       "  <tbody>\n",
       "    <tr>\n",
       "      <th>0</th>\n",
       "      <td>False</td>\n",
       "      <td>False</td>\n",
       "      <td>False</td>\n",
       "      <td>False</td>\n",
       "      <td>False</td>\n",
       "      <td>False</td>\n",
       "    </tr>\n",
       "    <tr>\n",
       "      <th>1</th>\n",
       "      <td>False</td>\n",
       "      <td>False</td>\n",
       "      <td>False</td>\n",
       "      <td>False</td>\n",
       "      <td>False</td>\n",
       "      <td>False</td>\n",
       "    </tr>\n",
       "    <tr>\n",
       "      <th>2</th>\n",
       "      <td>False</td>\n",
       "      <td>False</td>\n",
       "      <td>False</td>\n",
       "      <td>False</td>\n",
       "      <td>False</td>\n",
       "      <td>False</td>\n",
       "    </tr>\n",
       "    <tr>\n",
       "      <th>3</th>\n",
       "      <td>False</td>\n",
       "      <td>False</td>\n",
       "      <td>False</td>\n",
       "      <td>False</td>\n",
       "      <td>False</td>\n",
       "      <td>False</td>\n",
       "    </tr>\n",
       "    <tr>\n",
       "      <th>4</th>\n",
       "      <td>False</td>\n",
       "      <td>False</td>\n",
       "      <td>False</td>\n",
       "      <td>False</td>\n",
       "      <td>False</td>\n",
       "      <td>False</td>\n",
       "    </tr>\n",
       "    <tr>\n",
       "      <th>...</th>\n",
       "      <td>...</td>\n",
       "      <td>...</td>\n",
       "      <td>...</td>\n",
       "      <td>...</td>\n",
       "      <td>...</td>\n",
       "      <td>...</td>\n",
       "    </tr>\n",
       "    <tr>\n",
       "      <th>478962</th>\n",
       "      <td>False</td>\n",
       "      <td>False</td>\n",
       "      <td>False</td>\n",
       "      <td>False</td>\n",
       "      <td>False</td>\n",
       "      <td>False</td>\n",
       "    </tr>\n",
       "    <tr>\n",
       "      <th>478963</th>\n",
       "      <td>False</td>\n",
       "      <td>False</td>\n",
       "      <td>False</td>\n",
       "      <td>False</td>\n",
       "      <td>False</td>\n",
       "      <td>False</td>\n",
       "    </tr>\n",
       "    <tr>\n",
       "      <th>478964</th>\n",
       "      <td>False</td>\n",
       "      <td>False</td>\n",
       "      <td>False</td>\n",
       "      <td>False</td>\n",
       "      <td>False</td>\n",
       "      <td>False</td>\n",
       "    </tr>\n",
       "    <tr>\n",
       "      <th>478965</th>\n",
       "      <td>False</td>\n",
       "      <td>False</td>\n",
       "      <td>False</td>\n",
       "      <td>False</td>\n",
       "      <td>False</td>\n",
       "      <td>False</td>\n",
       "    </tr>\n",
       "    <tr>\n",
       "      <th>478966</th>\n",
       "      <td>False</td>\n",
       "      <td>False</td>\n",
       "      <td>False</td>\n",
       "      <td>False</td>\n",
       "      <td>False</td>\n",
       "      <td>False</td>\n",
       "    </tr>\n",
       "  </tbody>\n",
       "</table>\n",
       "<p>478952 rows × 6 columns</p>\n",
       "</div>"
      ],
      "text/plain": [
       "        order_id  user_id  order_number  order_dow  order_hour_of_day  \\\n",
       "0          False    False         False      False              False   \n",
       "1          False    False         False      False              False   \n",
       "2          False    False         False      False              False   \n",
       "3          False    False         False      False              False   \n",
       "4          False    False         False      False              False   \n",
       "...          ...      ...           ...        ...                ...   \n",
       "478962     False    False         False      False              False   \n",
       "478963     False    False         False      False              False   \n",
       "478964     False    False         False      False              False   \n",
       "478965     False    False         False      False              False   \n",
       "478966     False    False         False      False              False   \n",
       "\n",
       "        days_since_prior_order  \n",
       "0                        False  \n",
       "1                        False  \n",
       "2                        False  \n",
       "3                        False  \n",
       "4                        False  \n",
       "...                        ...  \n",
       "478962                   False  \n",
       "478963                   False  \n",
       "478964                   False  \n",
       "478965                   False  \n",
       "478966                   False  \n",
       "\n",
       "[478952 rows x 6 columns]"
      ]
     },
     "execution_count": 29,
     "metadata": {},
     "output_type": "execute_result"
    }
   ],
   "source": [
    "# Encuentra los valores ausentes\n",
    "print(df.isnull().sum())\n",
    "df.isnull()"
   ]
  },
  {
   "cell_type": "code",
   "execution_count": 30,
   "id": "166e5a86",
   "metadata": {
    "id": "166e5a86",
    "trusted": false
   },
   "outputs": [
    {
     "name": "stdout",
     "output_type": "stream",
     "text": [
      "Empty DataFrame\n",
      "Columns: [order_id, user_id, order_number, order_dow, order_hour_of_day, days_since_prior_order]\n",
      "Index: []\n"
     ]
    }
   ],
   "source": [
    "# ¿Hay algún valor ausente que no sea el primer pedido del cliente?\n",
    "no_first_null = df[df['days_since_prior_order'].isnull() & (df['order_number'] > 1)]\n",
    "print(no_first_null)"
   ]
  },
  {
   "cell_type": "markdown",
   "id": "4e23d089",
   "metadata": {
    "id": "4e23d089"
   },
   "source": [
    "Describe brevemente tus hallazgos y lo que hiciste con ellos."
   ]
  },
  {
   "cell_type": "markdown",
   "id": "a79aba7c",
   "metadata": {},
   "source": [
    "Al filtrar en la columna **order_number** mayor a 1, que muestra un número mayor a la primera vez que hizo el pedido el cliente, y filtrar en la columna **days_since_prior_order** los valores ausentes, no nos da filas que cumplan esta condición, tome esta columna, ya que al correr **(.isnull)** anteriormente nos mostraba que esta columna tenía valores ausentes."
   ]
  },
  {
   "cell_type": "markdown",
   "id": "69dc9ca4",
   "metadata": {
    "id": "69dc9ca4"
   },
   "source": [
    "### `order_products` data frame"
   ]
  },
  {
   "cell_type": "code",
   "execution_count": 31,
   "id": "b8240253",
   "metadata": {
    "id": "b8240253",
    "trusted": false
   },
   "outputs": [
    {
     "name": "stdout",
     "output_type": "stream",
     "text": [
      "order_id               0\n",
      "product_id             0\n",
      "add_to_cart_order    836\n",
      "reordered              0\n",
      "dtype: int64\n"
     ]
    },
    {
     "data": {
      "text/html": [
       "<div>\n",
       "<style scoped>\n",
       "    .dataframe tbody tr th:only-of-type {\n",
       "        vertical-align: middle;\n",
       "    }\n",
       "\n",
       "    .dataframe tbody tr th {\n",
       "        vertical-align: top;\n",
       "    }\n",
       "\n",
       "    .dataframe thead th {\n",
       "        text-align: right;\n",
       "    }\n",
       "</style>\n",
       "<table border=\"1\" class=\"dataframe\">\n",
       "  <thead>\n",
       "    <tr style=\"text-align: right;\">\n",
       "      <th></th>\n",
       "      <th>order_id</th>\n",
       "      <th>product_id</th>\n",
       "      <th>add_to_cart_order</th>\n",
       "      <th>reordered</th>\n",
       "    </tr>\n",
       "  </thead>\n",
       "  <tbody>\n",
       "    <tr>\n",
       "      <th>0</th>\n",
       "      <td>False</td>\n",
       "      <td>False</td>\n",
       "      <td>False</td>\n",
       "      <td>False</td>\n",
       "    </tr>\n",
       "    <tr>\n",
       "      <th>1</th>\n",
       "      <td>False</td>\n",
       "      <td>False</td>\n",
       "      <td>False</td>\n",
       "      <td>False</td>\n",
       "    </tr>\n",
       "    <tr>\n",
       "      <th>2</th>\n",
       "      <td>False</td>\n",
       "      <td>False</td>\n",
       "      <td>False</td>\n",
       "      <td>False</td>\n",
       "    </tr>\n",
       "    <tr>\n",
       "      <th>3</th>\n",
       "      <td>False</td>\n",
       "      <td>False</td>\n",
       "      <td>False</td>\n",
       "      <td>False</td>\n",
       "    </tr>\n",
       "    <tr>\n",
       "      <th>4</th>\n",
       "      <td>False</td>\n",
       "      <td>False</td>\n",
       "      <td>False</td>\n",
       "      <td>False</td>\n",
       "    </tr>\n",
       "    <tr>\n",
       "      <th>...</th>\n",
       "      <td>...</td>\n",
       "      <td>...</td>\n",
       "      <td>...</td>\n",
       "      <td>...</td>\n",
       "    </tr>\n",
       "    <tr>\n",
       "      <th>4545002</th>\n",
       "      <td>False</td>\n",
       "      <td>False</td>\n",
       "      <td>False</td>\n",
       "      <td>False</td>\n",
       "    </tr>\n",
       "    <tr>\n",
       "      <th>4545003</th>\n",
       "      <td>False</td>\n",
       "      <td>False</td>\n",
       "      <td>False</td>\n",
       "      <td>False</td>\n",
       "    </tr>\n",
       "    <tr>\n",
       "      <th>4545004</th>\n",
       "      <td>False</td>\n",
       "      <td>False</td>\n",
       "      <td>False</td>\n",
       "      <td>False</td>\n",
       "    </tr>\n",
       "    <tr>\n",
       "      <th>4545005</th>\n",
       "      <td>False</td>\n",
       "      <td>False</td>\n",
       "      <td>False</td>\n",
       "      <td>False</td>\n",
       "    </tr>\n",
       "    <tr>\n",
       "      <th>4545006</th>\n",
       "      <td>False</td>\n",
       "      <td>False</td>\n",
       "      <td>False</td>\n",
       "      <td>False</td>\n",
       "    </tr>\n",
       "  </tbody>\n",
       "</table>\n",
       "<p>4545007 rows × 4 columns</p>\n",
       "</div>"
      ],
      "text/plain": [
       "         order_id  product_id  add_to_cart_order  reordered\n",
       "0           False       False              False      False\n",
       "1           False       False              False      False\n",
       "2           False       False              False      False\n",
       "3           False       False              False      False\n",
       "4           False       False              False      False\n",
       "...           ...         ...                ...        ...\n",
       "4545002     False       False              False      False\n",
       "4545003     False       False              False      False\n",
       "4545004     False       False              False      False\n",
       "4545005     False       False              False      False\n",
       "4545006     False       False              False      False\n",
       "\n",
       "[4545007 rows x 4 columns]"
      ]
     },
     "execution_count": 31,
     "metadata": {},
     "output_type": "execute_result"
    }
   ],
   "source": [
    "# Encuentra los valores ausentes\n",
    "print(df4.isnull().sum())\n",
    "df4.isnull()"
   ]
  },
  {
   "cell_type": "code",
   "execution_count": 32,
   "id": "9a78e5ee",
   "metadata": {
    "id": "9a78e5ee",
    "trusted": false
   },
   "outputs": [
    {
     "name": "stdout",
     "output_type": "stream",
     "text": [
      "1.0\n",
      "64.0\n"
     ]
    }
   ],
   "source": [
    "# ¿Cuáles son los valores mínimos y máximos en esta columna?\n",
    "print(df4['add_to_cart_order'].min())\n",
    "print(df4['add_to_cart_order'].max())\n"
   ]
  },
  {
   "cell_type": "markdown",
   "id": "fa8e8e43",
   "metadata": {},
   "source": [
    "Que la columna que tiene valores ausentes es **add_to_cart_order**, en la misma podemos ver que 1 es el número mínimo de veces que se añadió un producto al carro de compras, mientras que 64 es el mayor, lo que nos puede mostrar que un cliente en un pedido hizo una compra de hasta 64 productos."
   ]
  },
  {
   "cell_type": "code",
   "execution_count": 33,
   "id": "ab9d0c2b",
   "metadata": {
    "id": "ab9d0c2b",
    "trusted": false
   },
   "outputs": [
    {
     "data": {
      "text/plain": [
       "737        2449164\n",
       "9926       1968313\n",
       "14394      2926893\n",
       "16418      1717990\n",
       "30114      1959075\n",
       "            ...   \n",
       "4505662    1800005\n",
       "4511400    1633337\n",
       "4517562     404157\n",
       "4534112    1673227\n",
       "4535739    1832957\n",
       "Name: order_id, Length: 836, dtype: int64"
      ]
     },
     "metadata": {},
     "output_type": "display_data"
    }
   ],
   "source": [
    "# Guarda todas las IDs de pedidos que tengan un valor ausente en 'add_to_cart_order'\n",
    "ids_pedidos_ausentes = df4[df4['add_to_cart_order'].isnull()]['order_id']\n",
    "display(ids_pedidos_ausentes)\n"
   ]
  },
  {
   "cell_type": "code",
   "execution_count": 34,
   "id": "54c31695",
   "metadata": {
    "id": "54c31695",
    "trusted": false
   },
   "outputs": [],
   "source": [
    "# ¿Todos los pedidos con valores ausentes tienen más de 64 productos?\n",
    "ids_pedidos_ausentes = df4[df4['add_to_cart_order'].isnull()]['order_id'].to_frame()\n",
    "resultado_merge = ids_pedidos_ausentes.merge(df4, on='order_id', how='right')\n"
   ]
  },
  {
   "cell_type": "code",
   "execution_count": 35,
   "id": "96cc32b1",
   "metadata": {
    "trusted": false
   },
   "outputs": [
    {
     "data": {
      "text/html": [
       "<div>\n",
       "<style scoped>\n",
       "    .dataframe tbody tr th:only-of-type {\n",
       "        vertical-align: middle;\n",
       "    }\n",
       "\n",
       "    .dataframe tbody tr th {\n",
       "        vertical-align: top;\n",
       "    }\n",
       "\n",
       "    .dataframe thead th {\n",
       "        text-align: right;\n",
       "    }\n",
       "</style>\n",
       "<table border=\"1\" class=\"dataframe\">\n",
       "  <thead>\n",
       "    <tr style=\"text-align: right;\">\n",
       "      <th></th>\n",
       "      <th>product_id</th>\n",
       "    </tr>\n",
       "    <tr>\n",
       "      <th>order_id</th>\n",
       "      <th></th>\n",
       "    </tr>\n",
       "  </thead>\n",
       "  <tbody>\n",
       "    <tr>\n",
       "      <th>9310</th>\n",
       "      <td>65</td>\n",
       "    </tr>\n",
       "    <tr>\n",
       "      <th>61355</th>\n",
       "      <td>8001</td>\n",
       "    </tr>\n",
       "    <tr>\n",
       "      <th>102236</th>\n",
       "      <td>2945</td>\n",
       "    </tr>\n",
       "    <tr>\n",
       "      <th>129627</th>\n",
       "      <td>345</td>\n",
       "    </tr>\n",
       "    <tr>\n",
       "      <th>165801</th>\n",
       "      <td>420</td>\n",
       "    </tr>\n",
       "    <tr>\n",
       "      <th>...</th>\n",
       "      <td>...</td>\n",
       "    </tr>\n",
       "    <tr>\n",
       "      <th>2999801</th>\n",
       "      <td>420</td>\n",
       "    </tr>\n",
       "    <tr>\n",
       "      <th>3125735</th>\n",
       "      <td>1892</td>\n",
       "    </tr>\n",
       "    <tr>\n",
       "      <th>3308010</th>\n",
       "      <td>5865</td>\n",
       "    </tr>\n",
       "    <tr>\n",
       "      <th>3347453</th>\n",
       "      <td>497</td>\n",
       "    </tr>\n",
       "    <tr>\n",
       "      <th>3383594</th>\n",
       "      <td>345</td>\n",
       "    </tr>\n",
       "  </tbody>\n",
       "</table>\n",
       "<p>70 rows × 1 columns</p>\n",
       "</div>"
      ],
      "text/plain": [
       "          product_id\n",
       "order_id            \n",
       "9310              65\n",
       "61355           8001\n",
       "102236          2945\n",
       "129627           345\n",
       "165801           420\n",
       "...              ...\n",
       "2999801          420\n",
       "3125735         1892\n",
       "3308010         5865\n",
       "3347453          497\n",
       "3383594          345\n",
       "\n",
       "[70 rows x 1 columns]"
      ]
     },
     "execution_count": 35,
     "metadata": {},
     "output_type": "execute_result"
    }
   ],
   "source": [
    "conteo_productos = resultado_merge.groupby('order_id').agg({'product_id': 'count'})\n",
    "ordenes_con_mas64_productos = conteo_productos[conteo_productos['product_id'] > 64]\n",
    "ordenes_con_mas64_productos"
   ]
  },
  {
   "cell_type": "code",
   "execution_count": 36,
   "id": "ccf85d4e",
   "metadata": {
    "trusted": false
   },
   "outputs": [
    {
     "data": {
      "text/plain": [
       "737        2449164\n",
       "9926       1968313\n",
       "14394      2926893\n",
       "16418      1717990\n",
       "30114      1959075\n",
       "            ...   \n",
       "4505662    1800005\n",
       "4511400    1633337\n",
       "4517562     404157\n",
       "4534112    1673227\n",
       "4535739    1832957\n",
       "Name: order_id, Length: 836, dtype: int64"
      ]
     },
     "execution_count": 36,
     "metadata": {},
     "output_type": "execute_result"
    }
   ],
   "source": [
    "# Agrupa todos los pedidos con datos ausentes por su ID de pedido.\n",
    "ids_pedidos_ausentes = df4[df4['add_to_cart_order'].isnull()]['order_id']\n",
    "ids_pedidos_ausentes\n"
   ]
  },
  {
   "cell_type": "code",
   "execution_count": 37,
   "id": "55ba57b7",
   "metadata": {
    "trusted": false
   },
   "outputs": [
    {
     "data": {
      "text/plain": [
       "order_id\n",
       "4          13\n",
       "9          15\n",
       "11          5\n",
       "19          3\n",
       "20          8\n",
       "           ..\n",
       "3421034    17\n",
       "3421053     9\n",
       "3421071     5\n",
       "3421077     4\n",
       "3421079     1\n",
       "Name: product_id, Length: 450046, dtype: int64"
      ]
     },
     "metadata": {},
     "output_type": "display_data"
    },
    {
     "data": {
      "text/plain": [
       "1"
      ]
     },
     "execution_count": 37,
     "metadata": {},
     "output_type": "execute_result"
    }
   ],
   "source": [
    "# Cuenta el número de 'product_id' en cada pedido y revisa el valor mínimo del conteo.\n",
    "conteo_productos_por_pedido = df4.groupby('order_id')['product_id'].count()\n",
    "display(conteo_productos_por_pedido)\n",
    "conteo_productos_por_pedido.min()"
   ]
  },
  {
   "cell_type": "markdown",
   "id": "p9V6pddtjglj",
   "metadata": {
    "id": "p9V6pddtjglj"
   },
   "source": [
    "Describe brevemente cuáles son tus hallazgos."
   ]
  },
  {
   "cell_type": "markdown",
   "id": "1232ab45",
   "metadata": {},
   "source": [
    "Existen 70 pedidos que si tienen más de 64 productos pedidos y que tienen campos ausentes en el campo **add_to_cart_order**. Existen 836 pedidos que tienen **add_to_cart_order** con valores ausentes al correr el método (.isnull), así también podemos ver que el conteo mínimo por cada pedido es de un producto, corriendo el método **(.groupby)**"
   ]
  },
  {
   "cell_type": "code",
   "execution_count": 38,
   "id": "7a987d08",
   "metadata": {
    "id": "7a987d08",
    "trusted": false
   },
   "outputs": [
    {
     "name": "stdout",
     "output_type": "stream",
     "text": [
      "order_id             0\n",
      "product_id           0\n",
      "add_to_cart_order    0\n",
      "reordered            0\n",
      "dtype: int64\n"
     ]
    }
   ],
   "source": [
    "# Remplaza los valores ausentes en la columna 'add_to_cart? con 999 y convierte la columna al tipo entero.\n",
    "df4['add_to_cart_order'].fillna(999, inplace=True)\n",
    "df4['add_to_cart_order'] = df4['add_to_cart_order'].astype(int)\n",
    "print(df4.isnull().sum())\n"
   ]
  },
  {
   "cell_type": "markdown",
   "id": "fea4bcc7",
   "metadata": {
    "id": "fea4bcc7"
   },
   "source": [
    "Describe brevemente tus hallazgos y lo que hiciste con ellos. "
   ]
  },
  {
   "cell_type": "markdown",
   "id": "5bb42ec1",
   "metadata": {},
   "source": [
    "Al reemplazar los valores ausentes con 999 con el método **(.fillna)** podemos ver, al hacer la comprobación que ya no hay valores ausentes. Así mismo convertimos la columna a número entero con el método **(.astype)** a **int**."
   ]
  },
  {
   "cell_type": "markdown",
   "id": "RnplPFY1gSrb",
   "metadata": {
    "id": "RnplPFY1gSrb"
   },
   "source": [
    "## Conclusiones\n",
    "\n",
    "Escribe aquí tus conclusiones intermedias sobre el Paso 2. Preprocesamiento de los datos\n"
   ]
  },
  {
   "cell_type": "markdown",
   "id": "17e1a175",
   "metadata": {},
   "source": [
    "Encontramos DataFrames con problemas en los datos de diferente manera, lo que nos permite ir concluyendo algunos puntos importantes. En el DataFrame **instacart_order** fue el único que contaba con información duplicada, los que nos muestra que posiblemente estamos inflando los pedidos, y nos puede llevar a un despacho doble y una pérdida para la empresa, este DataFrame también contaba con valores ausentes, únicamente al tomar el primer pedido de un cliente, lo que nos podría dar un insight de que al crear por primera vez el pedido no se está llenando correctamente o hay algún problema con el sistema. Tanto el DataFrame de **products**, como el de **order_product** no cuentan con información duplicada, pero si cuentan con valores ausentes, lo que nos podría indicar 2 insight, la una, es que podemos encontrar el departamento donde posiblemente tenemos algún problema que la data no se está llenando correctamete, y el otro insight, que exite algún error en el registro de subir los productos al carrito, ya que no se está registrando correctamente el conteo. Tanto el Dataframe de **aisles** como el de **depataments** no contaba con información duplicada."
   ]
  },
  {
   "cell_type": "markdown",
   "id": "79e82d73",
   "metadata": {},
   "source": [
    "\n",
    "<div class=\"alert alert-block alert-success\">\n",
    "<b>Comentario del revisor</b> <a class=\"tocSkip\"></a>\n",
    "\n",
    "Muy correcto todo tu trabajo con respecto a valores ausentes. Bien hecho!\n",
    "</div>"
   ]
  },
  {
   "cell_type": "markdown",
   "id": "UjrOIwTcz3ri",
   "metadata": {
    "id": "UjrOIwTcz3ri"
   },
   "source": [
    "# Paso 3. Análisis de los datos\n",
    "\n",
    "Una vez los datos estén procesados y listos, haz el siguiente análisis:"
   ]
  },
  {
   "cell_type": "markdown",
   "id": "turkish-kidney",
   "metadata": {
    "id": "turkish-kidney"
   },
   "source": [
    "# [A] Fácil (deben completarse todos para aprobar)\n",
    "\n",
    "1. Verifica que los valores en las columnas `'order_hour_of_day'` y `'order_dow'` en la tabla orders sean razonables (es decir, `'order_hour_of_day'` oscile entre 0 y 23 y `'order_dow'` oscile entre 0 y 6).\n",
    "2. Crea un gráfico que muestre el número de personas que hacen pedidos dependiendo de la hora del día.\n",
    "3. Crea un gráfico que muestre qué día de la semana la gente hace sus compras.\n",
    "4. Crea un gráfico que muestre el tiempo que la gente espera hasta hacer su siguiente pedido, y comenta sobre los valores mínimos y máximos."
   ]
  },
  {
   "cell_type": "markdown",
   "id": "short-capability",
   "metadata": {
    "id": "short-capability"
   },
   "source": [
    "### [A1] Verifica que los valores sean sensibles"
   ]
  },
  {
   "cell_type": "code",
   "execution_count": 39,
   "id": "growing-fruit",
   "metadata": {
    "id": "growing-fruit",
    "trusted": false
   },
   "outputs": [
    {
     "data": {
      "text/plain": [
       "0         False\n",
       "1         False\n",
       "2         False\n",
       "3         False\n",
       "4         False\n",
       "          ...  \n",
       "478962    False\n",
       "478963    False\n",
       "478964    False\n",
       "478965    False\n",
       "478966    False\n",
       "Name: order_hour_of_day, Length: 478952, dtype: bool"
      ]
     },
     "execution_count": 39,
     "metadata": {},
     "output_type": "execute_result"
    }
   ],
   "source": [
    "validacion_hora = (df['order_hour_of_day'] < 0) | (df['order_hour_of_day'] > 23)\n",
    "validacion_hora"
   ]
  },
  {
   "cell_type": "code",
   "execution_count": 40,
   "id": "17c2dd55",
   "metadata": {
    "trusted": false
   },
   "outputs": [
    {
     "name": "stdout",
     "output_type": "stream",
     "text": [
      "Todos los valores en validacion_hora son False.\n"
     ]
    }
   ],
   "source": [
    "if validacion_hora.sum() == 0:\n",
    "    print(\"Todos los valores en validacion_hora son False.\")\n",
    "else:\n",
    "    print(\"Al menos un valor en validacion_hora es True.\")"
   ]
  },
  {
   "cell_type": "code",
   "execution_count": 41,
   "id": "accessory-malaysia",
   "metadata": {
    "id": "accessory-malaysia",
    "trusted": false
   },
   "outputs": [
    {
     "data": {
      "text/plain": [
       "0         False\n",
       "1         False\n",
       "2         False\n",
       "3         False\n",
       "4         False\n",
       "          ...  \n",
       "478962    False\n",
       "478963    False\n",
       "478964    False\n",
       "478965    False\n",
       "478966    False\n",
       "Name: order_dow, Length: 478952, dtype: bool"
      ]
     },
     "execution_count": 41,
     "metadata": {},
     "output_type": "execute_result"
    }
   ],
   "source": [
    "validacion_dia = (df['order_dow'] < 0) | (df['order_dow'] > 6)\n",
    "validacion_dia"
   ]
  },
  {
   "cell_type": "code",
   "execution_count": 42,
   "id": "deb217d6",
   "metadata": {
    "trusted": false
   },
   "outputs": [
    {
     "name": "stdout",
     "output_type": "stream",
     "text": [
      "Todos los valores en validacion_dia son False.\n"
     ]
    }
   ],
   "source": [
    "if validacion_dia.sum() == 0:\n",
    "    print(\"Todos los valores en validacion_dia son False.\")\n",
    "else:\n",
    "    print(\"Al menos un valor en validacion_dia es True.\")"
   ]
  },
  {
   "cell_type": "markdown",
   "id": "hmR2GNQ6lCsX",
   "metadata": {
    "id": "hmR2GNQ6lCsX"
   },
   "source": [
    "Escribe aquí tus conclusiones"
   ]
  },
  {
   "cell_type": "markdown",
   "id": "875cf6fc",
   "metadata": {},
   "source": [
    "Tanto los números de los días de la semana en la columna **orden_dow**, como las horas que se realizó el pedido en la columna **order_hour_of_day** son datos correctos, ya que no muestran datos que esten fuera de los rangos que deben estar."
   ]
  },
  {
   "cell_type": "markdown",
   "id": "be838a6c",
   "metadata": {},
   "source": [
    "\n",
    "<div class=\"alert alert-block alert-warning\">\n",
    "<b>Comentario del revisor</b> <a class=\"tocSkip\"></a>\n",
    "\n",
    "Estrictamente hablando, no alcanza mostrar los 5 primeros y 5 últimos datos de un df para sacar una conclusión, pero la idea de lo que has hecho está bien.</div>"
   ]
  },
  {
   "cell_type": "markdown",
   "id": "2648363f",
   "metadata": {},
   "source": [
    "<div class=\"alert alert-block alert-info\">\n",
    "<b>Respuesta del estudiante</b> <a class=\"tocSkip\"></a>\n",
    "\n",
    "Listo, aumenté un codigo con if para que me sume todos los valores booleanos, como False es 0, debe darme la suma 0 y así valido por si alguno está fuera del rango. \n",
    "    \n",
    "</div>"
   ]
  },
  {
   "cell_type": "markdown",
   "id": "a6743a70",
   "metadata": {
    "id": "a6743a70"
   },
   "source": [
    "### [A2] Para cada hora del día, ¿cuántas personas hacen órdenes?"
   ]
  },
  {
   "cell_type": "code",
   "execution_count": 43,
   "id": "a36cca27",
   "metadata": {
    "id": "a36cca27",
    "trusted": false
   },
   "outputs": [
    {
     "data": {
      "image/png": "[encoded data removed]",
      "text/plain": [
       "<Figure size 640x480 with 1 Axes>"
      ]
     },
     "metadata": {},
     "output_type": "display_data"
    }
   ],
   "source": [
    "import pandas as pd\n",
    "from matplotlib import pyplot as plt\n",
    "\n",
    "personas_por_hora = df.groupby('order_hour_of_day')['user_id'].count()\n",
    "\n",
    "personas_por_hora.plot(xlabel = 'Hora del día',\n",
    "                   ylabel = 'Número de personas',\n",
    "                   title = 'Hora en que las personas hacen sus pedidos')\n",
    "plt.show()"
   ]
  },
  {
   "cell_type": "markdown",
   "id": "11270eed",
   "metadata": {
    "id": "11270eed"
   },
   "source": [
    "Escribe aquí tus conclusiones"
   ]
  },
  {
   "cell_type": "markdown",
   "id": "54d716b8",
   "metadata": {},
   "source": [
    "Creé un nuevo DataFrame con los métodos **(.groupby)** y el **(.count)** agrupando a las personas por su **user_id** por la hora del día. Utilizando un gráfico de líneas podemos ver el comportamiento, viendo sus picos."
   ]
  },
  {
   "cell_type": "markdown",
   "id": "documented-command",
   "metadata": {
    "id": "documented-command"
   },
   "source": [
    "### [A3] ¿Qué día de la semana compran víveres las personas?"
   ]
  },
  {
   "cell_type": "code",
   "execution_count": 44,
   "id": "chief-digit",
   "metadata": {
    "id": "chief-digit",
    "trusted": false
   },
   "outputs": [
    {
     "data": {
      "image/png": "[encoded data removed]",
      "text/plain": [
       "<Figure size 640x480 with 1 Axes>"
      ]
     },
     "metadata": {},
     "output_type": "display_data"
    }
   ],
   "source": [
    "import pandas as pd\n",
    "from matplotlib import pyplot as plt\n",
    "\n",
    "compras_por_dia = df.groupby('order_dow')['user_id'].count()\n",
    "\n",
    "compras_por_dia.plot(xlabel = 'Número de día de la semana',\n",
    "                   ylabel = 'Número de personas',\n",
    "                   title = 'Día en que las personas hacen sus pedidos')\n",
    "plt.show()"
   ]
  },
  {
   "cell_type": "markdown",
   "id": "dominant-lightning",
   "metadata": {
    "id": "dominant-lightning"
   },
   "source": [
    "Escribe aquí tus conclusiones"
   ]
  },
  {
   "cell_type": "markdown",
   "id": "cutting-concert",
   "metadata": {
    "id": "cutting-concert"
   },
   "source": [
    "### [A4] ¿Cuánto tiempo esperan las personas hasta hacer otro pedido? Comenta sobre los valores mínimos y máximos."
   ]
  },
  {
   "cell_type": "code",
   "execution_count": 45,
   "id": "c231f523",
   "metadata": {
    "id": "c231f523",
    "trusted": false
   },
   "outputs": [
    {
     "data": {
      "image/png": "[encoded data removed]",
      "text/plain": [
       "<Figure size 640x480 with 1 Axes>"
      ]
     },
     "metadata": {},
     "output_type": "display_data"
    },
    {
     "name": "stdout",
     "output_type": "stream",
     "text": [
      "El número de días máximo que esperan para hacer otro pedido es: 30.0\n",
      "El número de días mínimo que esperan para hacer otro pedido es: 0.0\n"
     ]
    }
   ],
   "source": [
    "import pandas as pd\n",
    "from matplotlib import pyplot as plt\n",
    "\n",
    "tiempo_para_otro_pedido = df.groupby('days_since_prior_order')['user_id'].count()\n",
    "\n",
    "tiempo_para_otro_pedido.plot(xlabel = 'Hora al día',\n",
    "                   ylabel = 'Número de personas',\n",
    "                   title = 'Tiempo de espera para otro pedido')\n",
    "plt.show()\n",
    "print(f\"El número de días máximo que esperan para hacer otro pedido es: {df['days_since_prior_order'].max()}\")\n",
    "print(f\"El número de días mínimo que esperan para hacer otro pedido es: {df['days_since_prior_order'].min()}\")"
   ]
  },
  {
   "cell_type": "markdown",
   "id": "discrete-vertex",
   "metadata": {
    "id": "discrete-vertex"
   },
   "source": [
    "Escribe aquí tus conclusiones"
   ]
  },
  {
   "cell_type": "markdown",
   "id": "e0166de5",
   "metadata": {},
   "source": [
    "Las personas hacen compras todos los días de la semana, lo que nos muestra el gráfico **Dia en que las personas hacen sus pedidos**. Al obtener el número máximo de ordenes con el método **(.max) **, así como vemos en el gráfico **Tiempo de espera para otro pedidos** el día máximo que esperan para hacer otro pedido es de 30 días, y que puede haber clientes que esperan ya que nod dío un vamor mínimo de 0. "
   ]
  },
  {
   "cell_type": "markdown",
   "id": "bb4d85b6",
   "metadata": {},
   "source": [
    "\n",
    "<div class=\"alert alert-block alert-success\">\n",
    "<b>Comentario del revisor</b> <a class=\"tocSkip\"></a>\n",
    "\n",
    "Muy buena esta sección. Los gráficos son muy claros y descriptivos. Muy bien al usar títulos y descripciones de los ejes.\n",
    "</div>"
   ]
  },
  {
   "cell_type": "markdown",
   "id": "tight-staff",
   "metadata": {
    "id": "tight-staff"
   },
   "source": [
    "# [B] Intermedio (deben completarse todos para aprobar)\n",
    "\n",
    "1. ¿Existe alguna diferencia entre las distribuciones `'order_hour_of_day'` de los miércoles y los sábados? Traza gráficos de barra de `'order_hour_of_day'` para ambos días en la misma figura y describe las diferencias que observes.\n",
    "2. Grafica la distribución para el número de órdenes que hacen los clientes (es decir, cuántos clientes hicieron solo 1 pedido, cuántos hicieron 2, cuántos 3, y así sucesivamente...).\n",
    "3. ¿Cuáles son los 20 principales productos que se piden con más frecuencia (muestra su identificación y nombre)?"
   ]
  },
  {
   "cell_type": "markdown",
   "id": "packed-classic",
   "metadata": {
    "id": "packed-classic"
   },
   "source": [
    "### [B1] Diferencia entre miércoles y sábados para  `'order_hour_of_day'`. Traza gráficos de barra para los dos días y describe las diferencias que veas."
   ]
  },
  {
   "cell_type": "code",
   "execution_count": 52,
   "id": "863eacf0",
   "metadata": {
    "id": "797c90a8",
    "trusted": false
   },
   "outputs": [
    {
     "data": {
      "image/png": "[encoded data removed]",
      "text/plain": [
       "<Figure size 640x480 with 1 Axes>"
      ]
     },
     "metadata": {},
     "output_type": "display_data"
    }
   ],
   "source": [
    "import matplotlib.pyplot as plt\n",
    "\n",
    "dias_a_mostrar = [3, 6]\n",
    "compras_por_dia = df[df['order_dow'].isin(dias_a_mostrar)]\n",
    "compras_por_hora_dia = compras_por_dia.groupby(['order_hour_of_day', 'order_dow'])['order_id'].count().unstack()\n",
    "\n",
    "compras_por_hora_dia.plot(kind='bar',\n",
    "                     xlabel='Hora del Día',\n",
    "                     ylabel='Número de Órdenes',\n",
    "                     title='Comportamiento de los pedidos por hora los Miércoles y Sábado',\n",
    "                     rot=0)  \n",
    "plt.legend(['Miércoles','Sábado'])\n",
    "plt.show()"
   ]
  },
  {
   "cell_type": "markdown",
   "id": "5db441cf",
   "metadata": {
    "id": "35bcea30"
   },
   "source": [
    "\n",
    "<div class=\"alert alert-block alert-danger\">\n",
    "<b>Comentario del revisor</b> <a class=\"tocSkip\"></a>\n",
    "\n",
    "Aquí debes mostrar pedidos por hora para cada uno de los dos días, por lo que deberías usar un gráfico de doble barra de 48 barras (24 por cada día para simbolizar cada hora).\n",
    "\n"
   ]
  },
  {
   "cell_type": "markdown",
   "id": "e8e2e741",
   "metadata": {},
   "source": [
    "<div class=\"alert alert-block alert-info\">\n",
    "<b>Respuesta del estudiante</b> <a class=\"tocSkip\"></a>\n",
    "\n",
    "Listo, la celda le he transformado ha markdown.\n",
    "    \n",
    "</div>"
   ]
  },
  {
   "cell_type": "markdown",
   "id": "f6df51f5",
   "metadata": {},
   "source": [
    "\n",
    "<div class=\"alert alert-block alert-danger\">\n",
    "<b>Comentario del revisor</b> <a class=\"tocSkip\"></a>\n",
    "\n",
    "Hola María Belén! Disculpa que continuemos revisando el mismo error pero no termino de entender en qué cambiaría que la celda sea markdown. Lo que pedimos es un cambio en la lógica que estás usando para presentar los datos.\n"
   ]
  },
  {
   "cell_type": "markdown",
   "id": "305dad6e",
   "metadata": {},
   "source": [
    "<div class=\"alert alert-block alert-info\">\n",
    "<b>Respuesta del estudiante #2</b> <a class=\"tocSkip\"></a>\n",
    "\n",
    "Listo\n",
    "    \n",
    "</div>"
   ]
  },
  {
   "cell_type": "markdown",
   "id": "charitable-congo",
   "metadata": {
    "id": "charitable-congo"
   },
   "source": [
    "Escribe aquí tus conclusiones"
   ]
  },
  {
   "cell_type": "markdown",
   "id": "0a5ddfdb",
   "metadata": {},
   "source": [
    "La diferencia que existe entre las 2 barras es mínima, sin embargo entre los 2 días, el día de mayor tráfico de pedidos es los días sábados."
   ]
  },
  {
   "cell_type": "markdown",
   "id": "e3891143",
   "metadata": {
    "id": "e3891143"
   },
   "source": [
    "### [B2] ¿Cuál es la distribución para el número de pedidos por cliente?"
   ]
  },
  {
   "cell_type": "code",
   "execution_count": 48,
   "id": "d8c26c23",
   "metadata": {
    "id": "d8c26c23",
    "trusted": false
   },
   "outputs": [],
   "source": [
    "pedido_por_cliente = df.groupby('user_id')['order_number'].count()"
   ]
  },
  {
   "cell_type": "code",
   "execution_count": 49,
   "id": "00e69a66",
   "metadata": {
    "id": "00e69a66",
    "trusted": false
   },
   "outputs": [
    {
     "data": {
      "image/png": "[encoded data removed]",
      "text/plain": [
       "<Figure size 640x480 with 1 Axes>"
      ]
     },
     "metadata": {},
     "output_type": "display_data"
    },
    {
     "name": "stdout",
     "output_type": "stream",
     "text": [
      "La mediana del número de pedidos por cliente es: 2.0\n"
     ]
    }
   ],
   "source": [
    "import pandas as pd\n",
    "from matplotlib import pyplot as plt\n",
    "plt.hist(pedido_por_cliente)\n",
    "plt.xlabel('Número de Pedido')\n",
    "plt.ylabel('Número de Clientes')\n",
    "plt.title('Distribución de Pedido Por Cliente')\n",
    "\n",
    "plt.tight_layout()\n",
    "plt.show()\n",
    "mediana_pedidos_por_cliente = pedido_por_cliente.median()\n",
    "print(f'La mediana del número de pedidos por cliente es: {mediana_pedidos_por_cliente}')"
   ]
  },
  {
   "cell_type": "markdown",
   "id": "d2eff7d5",
   "metadata": {
    "id": "d2eff7d5"
   },
   "source": [
    "Escribe aquí tus conclusiones"
   ]
  },
  {
   "cell_type": "markdown",
   "id": "e1aaf744",
   "metadata": {},
   "source": [
    "Los clientes tienden a no hacer más de 1 pedidos, ya que en gráfico de **histograma** aplicado, vemos que está concentrado en el pimer bloque el número de clientes. Aumentando la mediana vemos que efectivamente, los clientes tienden a hacer en promedio 2 pedidos."
   ]
  },
  {
   "cell_type": "markdown",
   "id": "71d5bcab",
   "metadata": {},
   "source": [
    "\n",
    "<div class=\"alert alert-block alert-success\">\n",
    "<b>Comentario del revisor</b> <a class=\"tocSkip\"></a>\n",
    "\n",
    "Muy buena distribución!</div>"
   ]
  },
  {
   "cell_type": "markdown",
   "id": "54a0319c",
   "metadata": {
    "id": "54a0319c"
   },
   "source": [
    "### [B3] ¿Cuáles son los 20 productos más populares (muestra su ID y nombre)?"
   ]
  },
  {
   "cell_type": "code",
   "execution_count": 50,
   "id": "exterior-arizona",
   "metadata": {
    "id": "exterior-arizona",
    "scrolled": true,
    "trusted": false
   },
   "outputs": [],
   "source": [
    "df_unidos = df1.merge(df4, on='product_id')"
   ]
  },
  {
   "cell_type": "code",
   "execution_count": 51,
   "id": "universal-facial",
   "metadata": {
    "id": "universal-facial",
    "trusted": false
   },
   "outputs": [],
   "source": [
    "productos_agrupados = df_unidos.groupby('product_name').agg({'product_id': ['count', 'first']})"
   ]
  },
  {
   "cell_type": "code",
   "execution_count": 52,
   "id": "bbcdd20b",
   "metadata": {
    "id": "bbcdd20b",
    "trusted": false
   },
   "outputs": [
    {
     "data": {
      "text/html": [
       "<div>\n",
       "<style scoped>\n",
       "    .dataframe tbody tr th:only-of-type {\n",
       "        vertical-align: middle;\n",
       "    }\n",
       "\n",
       "    .dataframe tbody tr th {\n",
       "        vertical-align: top;\n",
       "    }\n",
       "\n",
       "    .dataframe thead tr th {\n",
       "        text-align: left;\n",
       "    }\n",
       "\n",
       "    .dataframe thead tr:last-of-type th {\n",
       "        text-align: right;\n",
       "    }\n",
       "</style>\n",
       "<table border=\"1\" class=\"dataframe\">\n",
       "  <thead>\n",
       "    <tr>\n",
       "      <th></th>\n",
       "      <th colspan=\"2\" halign=\"left\">product_id</th>\n",
       "    </tr>\n",
       "    <tr>\n",
       "      <th></th>\n",
       "      <th>count</th>\n",
       "      <th>first</th>\n",
       "    </tr>\n",
       "    <tr>\n",
       "      <th>product_name</th>\n",
       "      <th></th>\n",
       "      <th></th>\n",
       "    </tr>\n",
       "  </thead>\n",
       "  <tbody>\n",
       "    <tr>\n",
       "      <th>BANANA</th>\n",
       "      <td>66050</td>\n",
       "      <td>24852</td>\n",
       "    </tr>\n",
       "    <tr>\n",
       "      <th>BAG OF ORGANIC BANANAS</th>\n",
       "      <td>53297</td>\n",
       "      <td>13176</td>\n",
       "    </tr>\n",
       "    <tr>\n",
       "      <th>ORGANIC STRAWBERRIES</th>\n",
       "      <td>37039</td>\n",
       "      <td>21137</td>\n",
       "    </tr>\n",
       "    <tr>\n",
       "      <th>ORGANIC BABY SPINACH</th>\n",
       "      <td>33971</td>\n",
       "      <td>21903</td>\n",
       "    </tr>\n",
       "    <tr>\n",
       "      <th>ORGANIC HASS AVOCADO</th>\n",
       "      <td>29773</td>\n",
       "      <td>47209</td>\n",
       "    </tr>\n",
       "    <tr>\n",
       "      <th>ORGANIC AVOCADO</th>\n",
       "      <td>24689</td>\n",
       "      <td>47766</td>\n",
       "    </tr>\n",
       "    <tr>\n",
       "      <th>LARGE LEMON</th>\n",
       "      <td>21495</td>\n",
       "      <td>47626</td>\n",
       "    </tr>\n",
       "    <tr>\n",
       "      <th>STRAWBERRIES</th>\n",
       "      <td>20018</td>\n",
       "      <td>16797</td>\n",
       "    </tr>\n",
       "    <tr>\n",
       "      <th>LIMES</th>\n",
       "      <td>19690</td>\n",
       "      <td>26209</td>\n",
       "    </tr>\n",
       "    <tr>\n",
       "      <th>ORGANIC WHOLE MILK</th>\n",
       "      <td>19600</td>\n",
       "      <td>27845</td>\n",
       "    </tr>\n",
       "    <tr>\n",
       "      <th>ORGANIC RASPBERRIES</th>\n",
       "      <td>19197</td>\n",
       "      <td>27966</td>\n",
       "    </tr>\n",
       "    <tr>\n",
       "      <th>ORGANIC YELLOW ONION</th>\n",
       "      <td>15898</td>\n",
       "      <td>22935</td>\n",
       "    </tr>\n",
       "    <tr>\n",
       "      <th>ORGANIC GARLIC</th>\n",
       "      <td>15292</td>\n",
       "      <td>24964</td>\n",
       "    </tr>\n",
       "    <tr>\n",
       "      <th>ORGANIC ZUCCHINI</th>\n",
       "      <td>14584</td>\n",
       "      <td>45007</td>\n",
       "    </tr>\n",
       "    <tr>\n",
       "      <th>ORGANIC BLUEBERRIES</th>\n",
       "      <td>13879</td>\n",
       "      <td>39275</td>\n",
       "    </tr>\n",
       "    <tr>\n",
       "      <th>CUCUMBER KIRBY</th>\n",
       "      <td>13675</td>\n",
       "      <td>49683</td>\n",
       "    </tr>\n",
       "    <tr>\n",
       "      <th>ORGANIC FUJI APPLE</th>\n",
       "      <td>12544</td>\n",
       "      <td>28204</td>\n",
       "    </tr>\n",
       "    <tr>\n",
       "      <th>ORGANIC LEMON</th>\n",
       "      <td>12232</td>\n",
       "      <td>5876</td>\n",
       "    </tr>\n",
       "    <tr>\n",
       "      <th>APPLE HONEYCRISP ORGANIC</th>\n",
       "      <td>11993</td>\n",
       "      <td>8277</td>\n",
       "    </tr>\n",
       "    <tr>\n",
       "      <th>ORGANIC GRAPE TOMATOES</th>\n",
       "      <td>11781</td>\n",
       "      <td>40706</td>\n",
       "    </tr>\n",
       "  </tbody>\n",
       "</table>\n",
       "</div>"
      ],
      "text/plain": [
       "                         product_id       \n",
       "                              count  first\n",
       "product_name                              \n",
       "BANANA                        66050  24852\n",
       "BAG OF ORGANIC BANANAS        53297  13176\n",
       "ORGANIC STRAWBERRIES          37039  21137\n",
       "ORGANIC BABY SPINACH          33971  21903\n",
       "ORGANIC HASS AVOCADO          29773  47209\n",
       "ORGANIC AVOCADO               24689  47766\n",
       "LARGE LEMON                   21495  47626\n",
       "STRAWBERRIES                  20018  16797\n",
       "LIMES                         19690  26209\n",
       "ORGANIC WHOLE MILK            19600  27845\n",
       "ORGANIC RASPBERRIES           19197  27966\n",
       "ORGANIC YELLOW ONION          15898  22935\n",
       "ORGANIC GARLIC                15292  24964\n",
       "ORGANIC ZUCCHINI              14584  45007\n",
       "ORGANIC BLUEBERRIES           13879  39275\n",
       "CUCUMBER KIRBY                13675  49683\n",
       "ORGANIC FUJI APPLE            12544  28204\n",
       "ORGANIC LEMON                 12232   5876\n",
       "APPLE HONEYCRISP ORGANIC      11993   8277\n",
       "ORGANIC GRAPE TOMATOES        11781  40706"
      ]
     },
     "execution_count": 52,
     "metadata": {},
     "output_type": "execute_result"
    }
   ],
   "source": [
    "top_20 = productos_agrupados.sort_values(('product_id', 'count'), ascending=False).head(20)\n",
    "top_20"
   ]
  },
  {
   "cell_type": "markdown",
   "id": "7df00f47",
   "metadata": {
    "id": "7df00f47"
   },
   "source": [
    "Escribe aquí tus conclusiones"
   ]
  },
  {
   "cell_type": "markdown",
   "id": "176cd9ba",
   "metadata": {},
   "source": [
    "Una vez que unificamos 2 DataFrame, **order_products** con **products**, con el método **(.merge**), conociendo que la columna que consolidaríamos sería **product_name**, agrupamos para tener el nombre del producto como índice con el método **(.groupby)** aumentado la columna **product_id** tanto como dato, así como su conteo para conocer cuales son los populares. De esta manera obtener el top 20 con el método** (.sort_value)**, mostrandomos que el más popular es la Banana."
   ]
  },
  {
   "cell_type": "markdown",
   "id": "18e37b5e",
   "metadata": {},
   "source": [
    "\n",
    "\n",
    "<div class=\"alert alert-block alert-success\">\n",
    "<b>Comentario del revisor</b> <a class=\"tocSkip\"></a>\n",
    "\n",
    "Excelente trabajo!La lista del TOP 20 es muy completa, has logrado no solo mostrar cuáles son los productos, sino resumir la cantidad de órdenes de cada producto de manera muy clara.\n",
    "</div>\n"
   ]
  },
  {
   "cell_type": "markdown",
   "id": "gross-theme",
   "metadata": {
    "id": "gross-theme"
   },
   "source": [
    "# [C] Difícil (deben completarse todos para aprobar)\n",
    "\n",
    "1. ¿Cuántos artículos suelen comprar las personas en un pedido? ¿Cómo es la distribución?\n",
    "2. ¿Cuáles son los 20 principales artículos que vuelven a pedirse con mayor frecuencia (muestra sus nombres e IDs de los productos)?\n",
    "3. Para cada producto, ¿cuál es la tasa de repetición del pedido (número de repeticiones de pedido/total de pedidos?\n",
    "4. Para cada cliente, ¿qué proporción de los productos que pidió ya los había pedido? Calcula la tasa de repetición de pedido para cada usuario en lugar de para cada producto.\n",
    "5. ¿Cuáles son los 20 principales artículos que la gente pone primero en sus carritos (muestra las IDs de los productos, sus nombres, y el número de veces en que fueron el primer artículo en añadirse al carrito)?"
   ]
  },
  {
   "cell_type": "markdown",
   "id": "romantic-deposit",
   "metadata": {
    "id": "romantic-deposit"
   },
   "source": [
    "### [C1] ¿Cuántos artículos compran normalmente las personas en un pedido? ¿Cómo es la distribución?"
   ]
  },
  {
   "cell_type": "code",
   "execution_count": 53,
   "id": "completed-frank",
   "metadata": {
    "id": "completed-frank",
    "trusted": false
   },
   "outputs": [
    {
     "data": {
      "image/png": "[encoded data removed]",
      "text/plain": [
       "<Figure size 640x480 with 1 Axes>"
      ]
     },
     "metadata": {},
     "output_type": "display_data"
    },
    {
     "name": "stdout",
     "output_type": "stream",
     "text": [
      "La mediana del número de productos por pedido es: 8.0\n"
     ]
    }
   ],
   "source": [
    "import pandas as pd\n",
    "import matplotlib.pyplot as plt\n",
    "productos_por_pedido = df4.groupby('order_id')['product_id'].count()\n",
    "\n",
    "plt.hist(productos_por_pedido, bins=40)\n",
    "plt.xlabel('Número de Productos')\n",
    "plt.ylabel('Número de Pedidos')\n",
    "plt.title('Distribución de Productos por Pedido')\n",
    "\n",
    "plt.tight_layout()\n",
    "plt.show()\n",
    "mediana_productos_por_pedido = productos_por_pedido.median()\n",
    "print(f'La mediana del número de productos por pedido es: {mediana_productos_por_pedido}')"
   ]
  },
  {
   "cell_type": "markdown",
   "id": "designed-mortality",
   "metadata": {
    "id": "designed-mortality"
   },
   "source": [
    "Escribe aquí tus conclusiones"
   ]
  },
  {
   "cell_type": "markdown",
   "id": "b2a749f2",
   "metadata": {},
   "source": [
    "Las personas en promedio compran 8 productos por pedido, lo que nos muestra al correr el método **(.median)**, así mismo, vemos en el **histograma** que la distribución se concentra en el primer bloque."
   ]
  },
  {
   "cell_type": "markdown",
   "id": "cf1102f1",
   "metadata": {},
   "source": [
    "\n",
    "<div class=\"alert alert-block alert-warning\">\n",
    "<b>Comentario del revisor</b> <a class=\"tocSkip\"></a>\n",
    "\n",
    "Te recomiendo que aumentes la cantidad de bins en el histograma, deberías poder ver la forma de campana de la distribución.\n",
    "    \n"
   ]
  },
  {
   "cell_type": "markdown",
   "id": "e8937393",
   "metadata": {},
   "source": [
    "<div class=\"alert alert-block alert-info\">\n",
    "<b>Respuesta del estudiante</b> <a class=\"tocSkip\"></a>\n",
    "\n",
    "Listo\n",
    "    \n",
    "</div>"
   ]
  },
  {
   "cell_type": "markdown",
   "id": "7ffaf9d8",
   "metadata": {},
   "source": [
    "\n",
    "<div class=\"alert alert-block alert-success\">\n",
    "<b>Comentario del revisor</b> <a class=\"tocSkip\"></a>\n",
    "\n",
    "Muy buena visualización y cálculo de estadísiticos de la distribución.\n",
    "</div>\n",
    "\n"
   ]
  },
  {
   "cell_type": "markdown",
   "id": "5e6b5537",
   "metadata": {
    "id": "5e6b5537"
   },
   "source": [
    "### [C2] ¿Cuáles son los 20 principales artículos que vuelven a pedirse con mayor frecuencia (muestra sus nombres e IDs de los productos)?"
   ]
  },
  {
   "cell_type": "code",
   "execution_count": 54,
   "id": "9374e55a",
   "metadata": {
    "id": "9374e55a",
    "trusted": false
   },
   "outputs": [],
   "source": [
    "productos_agrupados = df_unidos.groupby('product_name').agg({'reordered': 'sum', 'product_id': 'first'})"
   ]
  },
  {
   "cell_type": "code",
   "execution_count": 55,
   "id": "5b97da6a",
   "metadata": {
    "id": "possible-change",
    "trusted": false
   },
   "outputs": [
    {
     "data": {
      "text/html": [
       "<div>\n",
       "<style scoped>\n",
       "    .dataframe tbody tr th:only-of-type {\n",
       "        vertical-align: middle;\n",
       "    }\n",
       "\n",
       "    .dataframe tbody tr th {\n",
       "        vertical-align: top;\n",
       "    }\n",
       "\n",
       "    .dataframe thead th {\n",
       "        text-align: right;\n",
       "    }\n",
       "</style>\n",
       "<table border=\"1\" class=\"dataframe\">\n",
       "  <thead>\n",
       "    <tr style=\"text-align: right;\">\n",
       "      <th></th>\n",
       "      <th>reordered</th>\n",
       "      <th>product_id</th>\n",
       "    </tr>\n",
       "    <tr>\n",
       "      <th>product_name</th>\n",
       "      <th></th>\n",
       "      <th></th>\n",
       "    </tr>\n",
       "  </thead>\n",
       "  <tbody>\n",
       "    <tr>\n",
       "      <th>BANANA</th>\n",
       "      <td>55763</td>\n",
       "      <td>24852</td>\n",
       "    </tr>\n",
       "    <tr>\n",
       "      <th>BAG OF ORGANIC BANANAS</th>\n",
       "      <td>44450</td>\n",
       "      <td>13176</td>\n",
       "    </tr>\n",
       "    <tr>\n",
       "      <th>ORGANIC STRAWBERRIES</th>\n",
       "      <td>28639</td>\n",
       "      <td>21137</td>\n",
       "    </tr>\n",
       "    <tr>\n",
       "      <th>ORGANIC BABY SPINACH</th>\n",
       "      <td>26233</td>\n",
       "      <td>21903</td>\n",
       "    </tr>\n",
       "    <tr>\n",
       "      <th>ORGANIC HASS AVOCADO</th>\n",
       "      <td>23629</td>\n",
       "      <td>47209</td>\n",
       "    </tr>\n",
       "    <tr>\n",
       "      <th>ORGANIC AVOCADO</th>\n",
       "      <td>18743</td>\n",
       "      <td>47766</td>\n",
       "    </tr>\n",
       "    <tr>\n",
       "      <th>ORGANIC WHOLE MILK</th>\n",
       "      <td>16251</td>\n",
       "      <td>27845</td>\n",
       "    </tr>\n",
       "    <tr>\n",
       "      <th>LARGE LEMON</th>\n",
       "      <td>15044</td>\n",
       "      <td>47626</td>\n",
       "    </tr>\n",
       "    <tr>\n",
       "      <th>ORGANIC RASPBERRIES</th>\n",
       "      <td>14748</td>\n",
       "      <td>27966</td>\n",
       "    </tr>\n",
       "    <tr>\n",
       "      <th>STRAWBERRIES</th>\n",
       "      <td>13945</td>\n",
       "      <td>16797</td>\n",
       "    </tr>\n",
       "    <tr>\n",
       "      <th>LIMES</th>\n",
       "      <td>13327</td>\n",
       "      <td>26209</td>\n",
       "    </tr>\n",
       "    <tr>\n",
       "      <th>ORGANIC YELLOW ONION</th>\n",
       "      <td>11145</td>\n",
       "      <td>22935</td>\n",
       "    </tr>\n",
       "    <tr>\n",
       "      <th>ORGANIC GARLIC</th>\n",
       "      <td>10411</td>\n",
       "      <td>24964</td>\n",
       "    </tr>\n",
       "    <tr>\n",
       "      <th>ORGANIC ZUCCHINI</th>\n",
       "      <td>10076</td>\n",
       "      <td>45007</td>\n",
       "    </tr>\n",
       "    <tr>\n",
       "      <th>CUCUMBER KIRBY</th>\n",
       "      <td>9538</td>\n",
       "      <td>49683</td>\n",
       "    </tr>\n",
       "    <tr>\n",
       "      <th>ORGANIC FUJI APPLE</th>\n",
       "      <td>8989</td>\n",
       "      <td>28204</td>\n",
       "    </tr>\n",
       "    <tr>\n",
       "      <th>APPLE HONEYCRISP ORGANIC</th>\n",
       "      <td>8836</td>\n",
       "      <td>8277</td>\n",
       "    </tr>\n",
       "    <tr>\n",
       "      <th>ORGANIC BLUEBERRIES</th>\n",
       "      <td>8799</td>\n",
       "      <td>39275</td>\n",
       "    </tr>\n",
       "    <tr>\n",
       "      <th>ORGANIC LEMON</th>\n",
       "      <td>8412</td>\n",
       "      <td>5876</td>\n",
       "    </tr>\n",
       "    <tr>\n",
       "      <th>ORGANIC HALF &amp; HALF</th>\n",
       "      <td>8389</td>\n",
       "      <td>49235</td>\n",
       "    </tr>\n",
       "  </tbody>\n",
       "</table>\n",
       "</div>"
      ],
      "text/plain": [
       "                          reordered  product_id\n",
       "product_name                                   \n",
       "BANANA                        55763       24852\n",
       "BAG OF ORGANIC BANANAS        44450       13176\n",
       "ORGANIC STRAWBERRIES          28639       21137\n",
       "ORGANIC BABY SPINACH          26233       21903\n",
       "ORGANIC HASS AVOCADO          23629       47209\n",
       "ORGANIC AVOCADO               18743       47766\n",
       "ORGANIC WHOLE MILK            16251       27845\n",
       "LARGE LEMON                   15044       47626\n",
       "ORGANIC RASPBERRIES           14748       27966\n",
       "STRAWBERRIES                  13945       16797\n",
       "LIMES                         13327       26209\n",
       "ORGANIC YELLOW ONION          11145       22935\n",
       "ORGANIC GARLIC                10411       24964\n",
       "ORGANIC ZUCCHINI              10076       45007\n",
       "CUCUMBER KIRBY                 9538       49683\n",
       "ORGANIC FUJI APPLE             8989       28204\n",
       "APPLE HONEYCRISP ORGANIC       8836        8277\n",
       "ORGANIC BLUEBERRIES            8799       39275\n",
       "ORGANIC LEMON                  8412        5876\n",
       "ORGANIC HALF & HALF            8389       49235"
      ]
     },
     "execution_count": 55,
     "metadata": {},
     "output_type": "execute_result"
    }
   ],
   "source": [
    "top_20_productos = productos_agrupados.sort_values(('reordered'), ascending=False).head(20)\n",
    "top_20_productos"
   ]
  },
  {
   "cell_type": "markdown",
   "id": "80e70c74",
   "metadata": {
    "id": "80e70c74"
   },
   "source": [
    "Escribe aquí tus conclusiones"
   ]
  },
  {
   "cell_type": "markdown",
   "id": "ecfa66a7",
   "metadata": {},
   "source": [
    "Los productos que vuelven a pedirse, si comparamos con el top 20 anterior, vemos que los 5 primeros se mantienen, es decir, son tanto los productos que más se venden, así como los productos que se vuelven a repetir la compra con mayor frecuencia."
   ]
  },
  {
   "cell_type": "markdown",
   "id": "44ed9ca4",
   "metadata": {},
   "source": [
    "\n",
    "<div class=\"alert alert-block alert-success\">\n",
    "<b>Comentario del revisor</b> <a class=\"tocSkip\"></a>\n",
    "\n",
    "Excelente trabajo! Muy claros y concisos los datos.\n",
    "</div>"
   ]
  },
  {
   "cell_type": "markdown",
   "id": "9d312b14",
   "metadata": {
    "id": "9d312b14"
   },
   "source": [
    "### [C3] Para cada producto, ¿cuál es la proporción de las veces que se pide y que se vuelve a pedir?"
   ]
  },
  {
   "cell_type": "code",
   "execution_count": 56,
   "id": "103e7fe1",
   "metadata": {
    "id": "103e7fe1",
    "trusted": false
   },
   "outputs": [],
   "source": [
    "productos_repedidos = df_unidos.groupby('product_name').agg({'reordered': ['count', 'sum']})"
   ]
  },
  {
   "cell_type": "code",
   "execution_count": 57,
   "id": "social-individual",
   "metadata": {
    "id": "social-individual",
    "trusted": false
   },
   "outputs": [
    {
     "data": {
      "text/html": [
       "<div>\n",
       "<style scoped>\n",
       "    .dataframe tbody tr th:only-of-type {\n",
       "        vertical-align: middle;\n",
       "    }\n",
       "\n",
       "    .dataframe tbody tr th {\n",
       "        vertical-align: top;\n",
       "    }\n",
       "\n",
       "    .dataframe thead tr th {\n",
       "        text-align: left;\n",
       "    }\n",
       "\n",
       "    .dataframe thead tr:last-of-type th {\n",
       "        text-align: right;\n",
       "    }\n",
       "</style>\n",
       "<table border=\"1\" class=\"dataframe\">\n",
       "  <thead>\n",
       "    <tr>\n",
       "      <th></th>\n",
       "      <th colspan=\"3\" halign=\"left\">reordered</th>\n",
       "    </tr>\n",
       "    <tr>\n",
       "      <th></th>\n",
       "      <th>count</th>\n",
       "      <th>sum</th>\n",
       "      <th>sum/count</th>\n",
       "    </tr>\n",
       "    <tr>\n",
       "      <th>product_name</th>\n",
       "      <th></th>\n",
       "      <th></th>\n",
       "      <th></th>\n",
       "    </tr>\n",
       "  </thead>\n",
       "  <tbody>\n",
       "    <tr>\n",
       "      <th>#2 COFFEE FILTERS</th>\n",
       "      <td>110</td>\n",
       "      <td>28</td>\n",
       "      <td>0.254545</td>\n",
       "    </tr>\n",
       "    <tr>\n",
       "      <th>#2 CONE WHITE COFFEE FILTERS</th>\n",
       "      <td>2</td>\n",
       "      <td>0</td>\n",
       "      <td>0.000000</td>\n",
       "    </tr>\n",
       "    <tr>\n",
       "      <th>#2 MECHANICAL PENCILS</th>\n",
       "      <td>3</td>\n",
       "      <td>0</td>\n",
       "      <td>0.000000</td>\n",
       "    </tr>\n",
       "    <tr>\n",
       "      <th>#4 NATURAL BROWN COFFEE FILTERS</th>\n",
       "      <td>39</td>\n",
       "      <td>14</td>\n",
       "      <td>0.358974</td>\n",
       "    </tr>\n",
       "    <tr>\n",
       "      <th>&amp; GO! HAZELNUT SPREAD + PRETZEL STICKS</th>\n",
       "      <td>15</td>\n",
       "      <td>7</td>\n",
       "      <td>0.466667</td>\n",
       "    </tr>\n",
       "    <tr>\n",
       "      <th>...</th>\n",
       "      <td>...</td>\n",
       "      <td>...</td>\n",
       "      <td>...</td>\n",
       "    </tr>\n",
       "    <tr>\n",
       "      <th>\\\"DARN GOOD\\\" CHILI MIX</th>\n",
       "      <td>5</td>\n",
       "      <td>2</td>\n",
       "      <td>0.400000</td>\n",
       "    </tr>\n",
       "    <tr>\n",
       "      <th>\\\"IM PEI-NUT BUTTER\\\" DOUBLE CHOCOLATE COOKIE &amp; PEANUT BUTTER ICE CREAM</th>\n",
       "      <td>20</td>\n",
       "      <td>8</td>\n",
       "      <td>0.400000</td>\n",
       "    </tr>\n",
       "    <tr>\n",
       "      <th>\\\"LOUIS BA-KAHN\\\" CHOCOLATE CHIP COOKIE &amp; BROWN BUTTER CANDIED BACON ICE CREAM SANDWICH</th>\n",
       "      <td>2</td>\n",
       "      <td>0</td>\n",
       "      <td>0.000000</td>\n",
       "    </tr>\n",
       "    <tr>\n",
       "      <th>\\\"MIES VANILLA ROHE\\\" ICE CREAM BARS</th>\n",
       "      <td>8</td>\n",
       "      <td>4</td>\n",
       "      <td>0.500000</td>\n",
       "    </tr>\n",
       "    <tr>\n",
       "      <th>\\\"MOKACCINO\\\" MILK + BLUE BOTTLE COFFEE CHOCOLATE</th>\n",
       "      <td>52</td>\n",
       "      <td>37</td>\n",
       "      <td>0.711538</td>\n",
       "    </tr>\n",
       "  </tbody>\n",
       "</table>\n",
       "<p>44518 rows × 3 columns</p>\n",
       "</div>"
      ],
      "text/plain": [
       "                                                   reordered              \n",
       "                                                       count sum sum/count\n",
       "product_name                                                              \n",
       "#2 COFFEE FILTERS                                        110  28  0.254545\n",
       "#2 CONE WHITE COFFEE FILTERS                               2   0  0.000000\n",
       "#2 MECHANICAL PENCILS                                      3   0  0.000000\n",
       "#4 NATURAL BROWN COFFEE FILTERS                           39  14  0.358974\n",
       "& GO! HAZELNUT SPREAD + PRETZEL STICKS                    15   7  0.466667\n",
       "...                                                      ...  ..       ...\n",
       "\\\"DARN GOOD\\\" CHILI MIX                                    5   2  0.400000\n",
       "\\\"IM PEI-NUT BUTTER\\\" DOUBLE CHOCOLATE COOKIE &...        20   8  0.400000\n",
       "\\\"LOUIS BA-KAHN\\\" CHOCOLATE CHIP COOKIE & BROWN...         2   0  0.000000\n",
       "\\\"MIES VANILLA ROHE\\\" ICE CREAM BARS                       8   4  0.500000\n",
       "\\\"MOKACCINO\\\" MILK + BLUE BOTTLE COFFEE CHOCOLATE         52  37  0.711538\n",
       "\n",
       "[44518 rows x 3 columns]"
      ]
     },
     "execution_count": 57,
     "metadata": {},
     "output_type": "execute_result"
    }
   ],
   "source": [
    "productos_repedidos[('reordered', 'sum/count')] = productos_repedidos[('reordered', 'sum')] / productos_repedidos[('reordered', 'count')]\n",
    "productos_repedidos"
   ]
  },
  {
   "cell_type": "markdown",
   "id": "I10dEIAyldcO",
   "metadata": {
    "id": "I10dEIAyldcO"
   },
   "source": [
    "Escribe aquí tus conclusiones"
   ]
  },
  {
   "cell_type": "markdown",
   "id": "420aace7",
   "metadata": {},
   "source": [
    "Para poder obtener para cada producto las veces que se pdie y las que se repite, utlizamos el DataFrame unido anteriormente y con el método **(.agg)** hicimos una serie de datos que nos suma y cuenta el campo **reordered** asi pudimos sacar del total de pedidos al contar, cuanto es la porcion de los productos reordenados con la suma, para que nos sume los 1, par lo que creamos una columna nueva con una operación propia."
   ]
  },
  {
   "cell_type": "markdown",
   "id": "01a52dd9",
   "metadata": {},
   "source": [
    "\n",
    "\n",
    "<div class=\"alert alert-block alert-success\">\n",
    "<b>Comentario del revisor</b> <a class=\"tocSkip\"></a>\n",
    "\n",
    "Gran trabajo utilizando métricas tan complejas como lo son las proporciones. Bien hecho!</div>\n",
    "\n"
   ]
  },
  {
   "cell_type": "markdown",
   "id": "subject-boxing",
   "metadata": {
    "id": "subject-boxing"
   },
   "source": [
    "### [C4] Para cada cliente, ¿qué proporción de sus productos ya los había pedido?"
   ]
  },
  {
   "cell_type": "code",
   "execution_count": 58,
   "id": "medical-couple",
   "metadata": {
    "id": "medical-couple",
    "scrolled": true,
    "trusted": false
   },
   "outputs": [],
   "source": [
    "df_unidos2 = df.merge(df4, on='order_id')"
   ]
  },
  {
   "cell_type": "code",
   "execution_count": 59,
   "id": "8892e4b4",
   "metadata": {
    "id": "8892e4b4",
    "trusted": false
   },
   "outputs": [],
   "source": [
    "repedidos_agrupados = df_unidos2.groupby('user_id').agg({'reordered': ['count', 'sum']})"
   ]
  },
  {
   "cell_type": "code",
   "execution_count": 60,
   "id": "6f62f870",
   "metadata": {
    "trusted": false
   },
   "outputs": [
    {
     "data": {
      "text/html": [
       "<div>\n",
       "<style scoped>\n",
       "    .dataframe tbody tr th:only-of-type {\n",
       "        vertical-align: middle;\n",
       "    }\n",
       "\n",
       "    .dataframe tbody tr th {\n",
       "        vertical-align: top;\n",
       "    }\n",
       "\n",
       "    .dataframe thead tr th {\n",
       "        text-align: left;\n",
       "    }\n",
       "\n",
       "    .dataframe thead tr:last-of-type th {\n",
       "        text-align: right;\n",
       "    }\n",
       "</style>\n",
       "<table border=\"1\" class=\"dataframe\">\n",
       "  <thead>\n",
       "    <tr>\n",
       "      <th></th>\n",
       "      <th colspan=\"3\" halign=\"left\">reordered</th>\n",
       "    </tr>\n",
       "    <tr>\n",
       "      <th></th>\n",
       "      <th>count</th>\n",
       "      <th>sum</th>\n",
       "      <th>sum/count</th>\n",
       "    </tr>\n",
       "    <tr>\n",
       "      <th>user_id</th>\n",
       "      <th></th>\n",
       "      <th></th>\n",
       "      <th></th>\n",
       "    </tr>\n",
       "  </thead>\n",
       "  <tbody>\n",
       "    <tr>\n",
       "      <th>2</th>\n",
       "      <td>26</td>\n",
       "      <td>1</td>\n",
       "      <td>0.038462</td>\n",
       "    </tr>\n",
       "    <tr>\n",
       "      <th>4</th>\n",
       "      <td>2</td>\n",
       "      <td>0</td>\n",
       "      <td>0.000000</td>\n",
       "    </tr>\n",
       "    <tr>\n",
       "      <th>5</th>\n",
       "      <td>12</td>\n",
       "      <td>8</td>\n",
       "      <td>0.666667</td>\n",
       "    </tr>\n",
       "    <tr>\n",
       "      <th>6</th>\n",
       "      <td>4</td>\n",
       "      <td>0</td>\n",
       "      <td>0.000000</td>\n",
       "    </tr>\n",
       "    <tr>\n",
       "      <th>7</th>\n",
       "      <td>14</td>\n",
       "      <td>13</td>\n",
       "      <td>0.928571</td>\n",
       "    </tr>\n",
       "    <tr>\n",
       "      <th>...</th>\n",
       "      <td>...</td>\n",
       "      <td>...</td>\n",
       "      <td>...</td>\n",
       "    </tr>\n",
       "    <tr>\n",
       "      <th>206203</th>\n",
       "      <td>27</td>\n",
       "      <td>6</td>\n",
       "      <td>0.222222</td>\n",
       "    </tr>\n",
       "    <tr>\n",
       "      <th>206206</th>\n",
       "      <td>21</td>\n",
       "      <td>15</td>\n",
       "      <td>0.714286</td>\n",
       "    </tr>\n",
       "    <tr>\n",
       "      <th>206207</th>\n",
       "      <td>46</td>\n",
       "      <td>41</td>\n",
       "      <td>0.891304</td>\n",
       "    </tr>\n",
       "    <tr>\n",
       "      <th>206208</th>\n",
       "      <td>125</td>\n",
       "      <td>87</td>\n",
       "      <td>0.696000</td>\n",
       "    </tr>\n",
       "    <tr>\n",
       "      <th>206209</th>\n",
       "      <td>25</td>\n",
       "      <td>8</td>\n",
       "      <td>0.320000</td>\n",
       "    </tr>\n",
       "  </tbody>\n",
       "</table>\n",
       "<p>149626 rows × 3 columns</p>\n",
       "</div>"
      ],
      "text/plain": [
       "        reordered              \n",
       "            count sum sum/count\n",
       "user_id                        \n",
       "2              26   1  0.038462\n",
       "4               2   0  0.000000\n",
       "5              12   8  0.666667\n",
       "6               4   0  0.000000\n",
       "7              14  13  0.928571\n",
       "...           ...  ..       ...\n",
       "206203         27   6  0.222222\n",
       "206206         21  15  0.714286\n",
       "206207         46  41  0.891304\n",
       "206208        125  87  0.696000\n",
       "206209         25   8  0.320000\n",
       "\n",
       "[149626 rows x 3 columns]"
      ]
     },
     "execution_count": 60,
     "metadata": {},
     "output_type": "execute_result"
    }
   ],
   "source": [
    "repedidos_agrupados[('reordered', 'sum/count')] = repedidos_agrupados[('reordered', 'sum')] / repedidos_agrupados[('reordered', 'count')]\n",
    "repedidos_agrupados"
   ]
  },
  {
   "cell_type": "markdown",
   "id": "BgJSvXDsleXz",
   "metadata": {
    "id": "BgJSvXDsleXz"
   },
   "source": [
    "Escribe aquí tus conclusiones"
   ]
  },
  {
   "cell_type": "markdown",
   "id": "c40148b2",
   "metadata": {},
   "source": [
    "Para poder obtener las reorden por cliente era necesario primero unir 2 DataFrame, **order_products** e **instacart_order** que se lo hizo con el método **(.marge)** y para conocer la porción de reorden sobre los pedidos realizados, debíamos conocer cuantos pedidos se lo hizo, contando los valores de **reordered**, ya que cada fila corresponde a un pedido, y sumando el **reordered** que nos permite conocer cuantas veces lo había ordenado, se incluyó una columna más, con una operación propia, de lo pedidos que habían sido reordenados, dividido para el total de pedidos de los clientes."
   ]
  },
  {
   "cell_type": "markdown",
   "id": "2cc813c6",
   "metadata": {},
   "source": [
    "\n",
    "<div class=\"alert alert-block alert-success\">\n",
    "<b>Comentario del revisor</b> <a class=\"tocSkip\"></a>\n",
    "\n",
    "Gran trabajo con las proporciones! Nuevamente, parecen una métrica más, pero son bastante difíciles de interpretar y mostrar con éxito a veces.</div>\n"
   ]
  },
  {
   "cell_type": "markdown",
   "id": "92d35137",
   "metadata": {
    "id": "92d35137"
   },
   "source": [
    "### [C5] ¿Cuáles son los 20 principales artículos que las personas ponen primero en sus carritos?"
   ]
  },
  {
   "cell_type": "code",
   "execution_count": 61,
   "id": "0ae57274",
   "metadata": {
    "id": "0ae57274",
    "scrolled": true,
    "trusted": false
   },
   "outputs": [],
   "source": [
    "primero_pedido = df_unidos.query('add_to_cart_order == 1')\n"
   ]
  },
  {
   "cell_type": "code",
   "execution_count": 62,
   "id": "forty-netherlands",
   "metadata": {
    "id": "forty-netherlands",
    "scrolled": true,
    "trusted": false
   },
   "outputs": [],
   "source": [
    "articulo_first_pedido = primero_pedido.groupby('product_name')['add_to_cart_order'].sum()"
   ]
  },
  {
   "cell_type": "code",
   "execution_count": 63,
   "id": "08e41ec2",
   "metadata": {
    "id": "08e41ec2",
    "trusted": false
   },
   "outputs": [
    {
     "data": {
      "text/plain": [
       "product_name\n",
       "BANANA                         15562\n",
       "BAG OF ORGANIC BANANAS         11026\n",
       "ORGANIC WHOLE MILK              4363\n",
       "ORGANIC STRAWBERRIES            3946\n",
       "ORGANIC HASS AVOCADO            3390\n",
       "ORGANIC BABY SPINACH            3336\n",
       "ORGANIC AVOCADO                 3044\n",
       "SPRING WATER                    2336\n",
       "STRAWBERRIES                    2308\n",
       "ORGANIC RASPBERRIES             2024\n",
       "SPARKLING WATER GRAPEFRUIT      1914\n",
       "ORGANIC HALF & HALF             1797\n",
       "LARGE LEMON                     1737\n",
       "SODA                            1733\n",
       "ORGANIC REDUCED FAT MILK        1397\n",
       "LIMES                           1370\n",
       "HASS AVOCADOS                   1340\n",
       "ORGANIC REDUCED FAT 2% MILK     1310\n",
       "HALF & HALF                     1309\n",
       "ORGANIC YELLOW ONION            1246\n",
       "Name: add_to_cart_order, dtype: int64"
      ]
     },
     "execution_count": 63,
     "metadata": {},
     "output_type": "execute_result"
    }
   ],
   "source": [
    "top_20_first_pedido = articulo_first_pedido.sort_values(ascending=False).head(20)\n",
    "top_20_first_pedido"
   ]
  },
  {
   "cell_type": "markdown",
   "id": "28ce9872",
   "metadata": {
    "id": "28ce9872"
   },
   "source": [
    "Escribe aquí tus conclusiones"
   ]
  },
  {
   "cell_type": "markdown",
   "id": "8873904c",
   "metadata": {},
   "source": [
    "Teniendo ya unida los DataFrame **istacart_order** y **order_product**, filtramos con el método **(.query**) todos aquellos que en el campo **add_to_cart_order**, eran = 1, ya que sabemos que 1 representa el primer producto que ponen en el carrito los clientes, posteriormente agrupamos para conocer por producto, cuantas veces le han subido al carrito como primero al producto, y posteriormente obtuvimos el Top 20, vemos que Banana sigue siendo el primero de los top 20."
   ]
  },
  {
   "cell_type": "markdown",
   "id": "2e89299f",
   "metadata": {},
   "source": [
    "\n",
    "\n",
    "<div class=\"alert alert-block alert-success\">\n",
    "<b>Comentario del revisor</b> <a class=\"tocSkip\"></a>\n",
    "\n",
    "Felicitaciones por el excelente trabajo que hiciste durante todo el sprint!</div>\n",
    "\n"
   ]
  },
  {
   "cell_type": "markdown",
   "id": "uITbFCEoDosC",
   "metadata": {
    "id": "uITbFCEoDosC"
   },
   "source": [
    "### Conclusion general del proyecto:"
   ]
  },
  {
   "cell_type": "markdown",
   "id": "861c48bc",
   "metadata": {},
   "source": [
    "Debemos dar como alerta que hay datos que nos se están capturando de manera correcta o que en el proceso puede existir problemas del sistema o de las personas que registran los datos, ya que tenemos valores duplicados y ausentes, ventajosamente la data nos muestra en que momentos, departamentos podrian hacerse los primeros acercamientos. Así también al conocer que es un aplicación de por medio se podría alertar sobre algún proceso que no está registrando cuando se ayade más de 64 productos al carrito, alguna restricción al respecto. Con la data podemos mostrar al área respectiva que lo que estan haciendo con ciertos productos está funcionando o que no se esta haciedno que no esta funcionando, al ver los gráficos de histogramas, como existe concentracion en ciertos días, productos, etc, para hacer que exista una circulación de la cartera de productos o para abatecer de provedores o productos que más se vendan.  Al tener los Top 20 que obtuvimos, se pude dar al área respectiva para que se pontencialice esos productos."
   ]
  },
  {
   "cell_type": "markdown",
   "id": "a5b8cc90",
   "metadata": {},
   "source": [
    "\n",
    "<div class=\"alert alert-block alert-success\">\n",
    "<b>Comentario del revisor</b> <a class=\"tocSkip\"></a>\n",
    "\n",
    "Muy buen resumen de lo hecho en el sprint!\n"
   ]
  }
 ],
 "metadata": {
  "ExecuteTimeLog": [
   {
    "duration": 159,
    "start_time": "2025-03-25T15:00:48.356Z"
   },
   {
    "duration": 12,
    "start_time": "2025-03-25T15:01:35.498Z"
   },
   {
    "duration": 558,
    "start_time": "2025-03-25T15:01:55.677Z"
   },
   {
    "duration": 341,
    "start_time": "2025-03-25T15:04:55.134Z"
   },
   {
    "duration": 2184,
    "start_time": "2025-03-25T15:08:50.156Z"
   },
   {
    "duration": 10,
    "start_time": "2025-03-25T15:09:24.891Z"
   },
   {
    "duration": 2138,
    "start_time": "2025-03-25T15:09:34.260Z"
   },
   {
    "duration": 3,
    "start_time": "2025-03-25T15:12:09.767Z"
   },
   {
    "duration": 2716,
    "start_time": "2025-03-25T15:12:11.867Z"
   },
   {
    "duration": 5,
    "start_time": "2025-03-25T15:12:14.585Z"
   },
   {
    "duration": 4,
    "start_time": "2025-03-25T15:12:16.500Z"
   },
   {
    "duration": 4,
    "start_time": "2025-03-25T15:12:18.391Z"
   },
   {
    "duration": 4,
    "start_time": "2025-03-25T15:12:19.609Z"
   },
   {
    "duration": 4,
    "start_time": "2025-03-25T15:12:21.567Z"
   },
   {
    "duration": 913,
    "start_time": "2025-03-25T15:21:28.010Z"
   },
   {
    "duration": 5,
    "start_time": "2025-03-25T15:21:32.800Z"
   },
   {
    "duration": 5,
    "start_time": "2025-03-25T15:21:34.600Z"
   },
   {
    "duration": 3,
    "start_time": "2025-03-25T15:21:36.528Z"
   },
   {
    "duration": 3,
    "start_time": "2025-03-25T15:21:38.505Z"
   },
   {
    "duration": 6,
    "start_time": "2025-03-25T15:21:40.100Z"
   },
   {
    "duration": 8,
    "start_time": "2025-03-25T15:25:13.917Z"
   },
   {
    "duration": 9,
    "start_time": "2025-03-25T15:25:16.272Z"
   },
   {
    "duration": 9,
    "start_time": "2025-03-25T15:25:17.827Z"
   },
   {
    "duration": 13,
    "start_time": "2025-03-25T15:25:19.969Z"
   },
   {
    "duration": 13,
    "start_time": "2025-03-25T15:25:22.336Z"
   },
   {
    "duration": 106,
    "start_time": "2025-03-25T16:00:54.567Z"
   },
   {
    "duration": 12,
    "start_time": "2025-03-25T16:19:37.375Z"
   },
   {
    "duration": 108,
    "start_time": "2025-03-25T16:19:52.266Z"
   },
   {
    "duration": 86,
    "start_time": "2025-03-25T16:20:33.010Z"
   },
   {
    "duration": 27,
    "start_time": "2025-03-25T16:23:16.097Z"
   },
   {
    "duration": 14,
    "start_time": "2025-03-25T16:31:10.868Z"
   },
   {
    "duration": 3,
    "start_time": "2025-03-25T16:33:30.159Z"
   },
   {
    "duration": 23,
    "start_time": "2025-03-25T16:38:45.118Z"
   },
   {
    "duration": 14,
    "start_time": "2025-03-25T16:41:20.515Z"
   },
   {
    "duration": 14,
    "start_time": "2025-03-25T16:41:21.754Z"
   },
   {
    "duration": 3,
    "start_time": "2025-03-25T16:52:02.759Z"
   },
   {
    "duration": 3,
    "start_time": "2025-03-25T16:55:45.920Z"
   },
   {
    "duration": 3,
    "start_time": "2025-03-25T17:02:23.833Z"
   },
   {
    "duration": 935,
    "start_time": "2025-03-25T17:07:16.888Z"
   },
   {
    "duration": 7,
    "start_time": "2025-03-25T17:08:39.850Z"
   },
   {
    "duration": 3,
    "start_time": "2025-03-25T17:11:04.162Z"
   },
   {
    "duration": 917,
    "start_time": "2025-03-25T17:24:07.225Z"
   },
   {
    "duration": 72,
    "start_time": "2025-03-25T17:24:09.120Z"
   },
   {
    "duration": 10,
    "start_time": "2025-03-25T17:35:15.051Z"
   },
   {
    "duration": 3,
    "start_time": "2025-03-25T17:41:34.677Z"
   },
   {
    "duration": 7,
    "start_time": "2025-03-25T17:43:26.537Z"
   },
   {
    "duration": 2,
    "start_time": "2025-03-25T19:10:05.253Z"
   },
   {
    "duration": 855,
    "start_time": "2025-03-25T19:10:06.479Z"
   },
   {
    "duration": 12,
    "start_time": "2025-03-25T19:10:08.554Z"
   },
   {
    "duration": 12,
    "start_time": "2025-03-25T19:10:11.086Z"
   },
   {
    "duration": 9,
    "start_time": "2025-03-25T19:10:13.307Z"
   },
   {
    "duration": 10,
    "start_time": "2025-03-25T19:10:14.843Z"
   },
   {
    "duration": 9,
    "start_time": "2025-03-25T19:10:16.500Z"
   },
   {
    "duration": 84,
    "start_time": "2025-03-25T19:10:19.957Z"
   },
   {
    "duration": 7,
    "start_time": "2025-03-25T19:10:21.419Z"
   },
   {
    "duration": 83,
    "start_time": "2025-03-25T19:10:23.979Z"
   },
   {
    "duration": 72,
    "start_time": "2025-03-25T19:10:25.432Z"
   },
   {
    "duration": 32,
    "start_time": "2025-03-25T19:10:26.294Z"
   },
   {
    "duration": 12,
    "start_time": "2025-03-25T19:10:28.168Z"
   },
   {
    "duration": 4,
    "start_time": "2025-03-25T19:10:29.140Z"
   },
   {
    "duration": 15,
    "start_time": "2025-03-25T19:10:30.035Z"
   },
   {
    "duration": 12,
    "start_time": "2025-03-25T19:10:31.382Z"
   },
   {
    "duration": 4,
    "start_time": "2025-03-25T19:10:33.885Z"
   },
   {
    "duration": 3,
    "start_time": "2025-03-25T19:10:35.514Z"
   },
   {
    "duration": 73,
    "start_time": "2025-03-25T19:10:37.377Z"
   },
   {
    "duration": 4,
    "start_time": "2025-03-25T19:10:38.342Z"
   },
   {
    "duration": 714,
    "start_time": "2025-03-25T19:10:40.675Z"
   },
   {
    "duration": 55,
    "start_time": "2025-03-25T19:10:42.613Z"
   },
   {
    "duration": 8,
    "start_time": "2025-03-25T19:10:47.200Z"
   },
   {
    "duration": 7,
    "start_time": "2025-03-25T19:10:49.661Z"
   },
   {
    "duration": 7,
    "start_time": "2025-03-25T19:14:08.248Z"
   },
   {
    "duration": 8,
    "start_time": "2025-03-25T19:18:29.798Z"
   },
   {
    "duration": 9,
    "start_time": "2025-03-25T19:24:53.713Z"
   },
   {
    "duration": 19,
    "start_time": "2025-03-25T19:34:27.477Z"
   },
   {
    "duration": 71,
    "start_time": "2025-03-25T19:41:02.803Z"
   },
   {
    "duration": 11,
    "start_time": "2025-03-25T20:10:57.139Z"
   },
   {
    "duration": 20,
    "start_time": "2025-03-25T20:19:29.662Z"
   },
   {
    "duration": 24,
    "start_time": "2025-03-25T20:19:32.768Z"
   },
   {
    "duration": 10,
    "start_time": "2025-03-25T20:37:27.677Z"
   },
   {
    "duration": 6,
    "start_time": "2025-03-25T20:37:44.806Z"
   },
   {
    "duration": 23,
    "start_time": "2025-03-25T21:11:39.740Z"
   },
   {
    "duration": 353,
    "start_time": "2025-03-26T01:18:44.580Z"
   },
   {
    "duration": 1018,
    "start_time": "2025-03-26T01:18:46.602Z"
   },
   {
    "duration": 15,
    "start_time": "2025-03-26T01:18:49.227Z"
   },
   {
    "duration": 16,
    "start_time": "2025-03-26T01:18:59.501Z"
   },
   {
    "duration": 17,
    "start_time": "2025-03-26T01:19:12.803Z"
   },
   {
    "duration": 13,
    "start_time": "2025-03-26T01:19:19.279Z"
   },
   {
    "duration": 11,
    "start_time": "2025-03-26T01:19:25.112Z"
   },
   {
    "duration": 13,
    "start_time": "2025-03-26T01:19:30.292Z"
   },
   {
    "duration": 14,
    "start_time": "2025-03-26T01:19:43.424Z"
   },
   {
    "duration": 116,
    "start_time": "2025-03-26T01:19:51.900Z"
   },
   {
    "duration": 12,
    "start_time": "2025-03-26T01:20:23.822Z"
   },
   {
    "duration": 11,
    "start_time": "2025-03-26T01:20:33.503Z"
   },
   {
    "duration": 11,
    "start_time": "2025-03-26T01:20:40.365Z"
   },
   {
    "duration": 10,
    "start_time": "2025-03-26T01:20:49.836Z"
   },
   {
    "duration": 10,
    "start_time": "2025-03-26T01:20:58.679Z"
   },
   {
    "duration": 13,
    "start_time": "2025-03-26T01:21:15.792Z"
   },
   {
    "duration": 25,
    "start_time": "2025-03-26T01:21:27.046Z"
   },
   {
    "duration": 281,
    "start_time": "2025-03-26T15:04:24.381Z"
   },
   {
    "duration": 1011,
    "start_time": "2025-03-26T15:04:26.056Z"
   },
   {
    "duration": 19,
    "start_time": "2025-03-26T15:04:28.201Z"
   },
   {
    "duration": 13,
    "start_time": "2025-03-26T15:04:40.837Z"
   },
   {
    "duration": 12,
    "start_time": "2025-03-26T15:04:43.266Z"
   },
   {
    "duration": 11,
    "start_time": "2025-03-26T15:04:45.763Z"
   },
   {
    "duration": 11,
    "start_time": "2025-03-26T15:04:47.097Z"
   },
   {
    "duration": 93,
    "start_time": "2025-03-26T15:04:50.418Z"
   },
   {
    "duration": 11,
    "start_time": "2025-03-26T15:04:51.496Z"
   },
   {
    "duration": 10,
    "start_time": "2025-03-26T15:04:53.798Z"
   },
   {
    "duration": 107,
    "start_time": "2025-03-26T15:04:55.570Z"
   },
   {
    "duration": 84,
    "start_time": "2025-03-26T15:04:56.997Z"
   },
   {
    "duration": 34,
    "start_time": "2025-03-26T15:04:59.320Z"
   },
   {
    "duration": 13,
    "start_time": "2025-03-26T15:05:01.009Z"
   },
   {
    "duration": 4,
    "start_time": "2025-03-26T15:05:02.073Z"
   },
   {
    "duration": 16,
    "start_time": "2025-03-26T15:05:03.057Z"
   },
   {
    "duration": 11,
    "start_time": "2025-03-26T15:05:03.916Z"
   },
   {
    "duration": 3,
    "start_time": "2025-03-26T15:05:05.600Z"
   },
   {
    "duration": 4,
    "start_time": "2025-03-26T15:05:06.244Z"
   },
   {
    "duration": 83,
    "start_time": "2025-03-26T15:05:08.716Z"
   },
   {
    "duration": 3,
    "start_time": "2025-03-26T15:05:09.623Z"
   },
   {
    "duration": 753,
    "start_time": "2025-03-26T15:05:11.355Z"
   },
   {
    "duration": 64,
    "start_time": "2025-03-26T15:05:12.972Z"
   },
   {
    "duration": 11,
    "start_time": "2025-03-26T15:05:16.188Z"
   },
   {
    "duration": 10,
    "start_time": "2025-03-26T15:05:18.821Z"
   },
   {
    "duration": 9,
    "start_time": "2025-03-26T15:05:20.786Z"
   },
   {
    "duration": 9,
    "start_time": "2025-03-26T15:05:22.392Z"
   },
   {
    "duration": 8,
    "start_time": "2025-03-26T15:05:24.094Z"
   },
   {
    "duration": 13,
    "start_time": "2025-03-26T15:05:26.068Z"
   },
   {
    "duration": 5,
    "start_time": "2025-03-26T15:05:28.707Z"
   },
   {
    "duration": 24,
    "start_time": "2025-03-26T15:05:30.606Z"
   },
   {
    "duration": 31,
    "start_time": "2025-03-26T15:05:33.779Z"
   },
   {
    "duration": 8,
    "start_time": "2025-03-26T15:47:12.667Z"
   },
   {
    "duration": 8,
    "start_time": "2025-03-26T15:47:27.949Z"
   },
   {
    "duration": 24,
    "start_time": "2025-03-26T15:47:36.093Z"
   },
   {
    "duration": 9,
    "start_time": "2025-03-26T15:47:50.998Z"
   },
   {
    "duration": 3,
    "start_time": "2025-03-26T15:48:16.085Z"
   },
   {
    "duration": 846,
    "start_time": "2025-03-26T15:48:17.153Z"
   },
   {
    "duration": 15,
    "start_time": "2025-03-26T15:48:18.202Z"
   },
   {
    "duration": 13,
    "start_time": "2025-03-26T15:48:20.502Z"
   },
   {
    "duration": 11,
    "start_time": "2025-03-26T15:48:22.355Z"
   },
   {
    "duration": 11,
    "start_time": "2025-03-26T15:48:23.885Z"
   },
   {
    "duration": 11,
    "start_time": "2025-03-26T15:48:25.230Z"
   },
   {
    "duration": 80,
    "start_time": "2025-03-26T15:48:29.571Z"
   },
   {
    "duration": 11,
    "start_time": "2025-03-26T15:48:30.741Z"
   },
   {
    "duration": 85,
    "start_time": "2025-03-26T15:48:33.019Z"
   },
   {
    "duration": 72,
    "start_time": "2025-03-26T15:48:35.103Z"
   },
   {
    "duration": 26,
    "start_time": "2025-03-26T15:48:36.065Z"
   },
   {
    "duration": 13,
    "start_time": "2025-03-26T15:48:37.646Z"
   },
   {
    "duration": 3,
    "start_time": "2025-03-26T15:48:38.563Z"
   },
   {
    "duration": 16,
    "start_time": "2025-03-26T15:48:39.400Z"
   },
   {
    "duration": 12,
    "start_time": "2025-03-26T15:48:40.942Z"
   },
   {
    "duration": 3,
    "start_time": "2025-03-26T15:48:42.185Z"
   },
   {
    "duration": 3,
    "start_time": "2025-03-26T15:48:43.703Z"
   },
   {
    "duration": 70,
    "start_time": "2025-03-26T15:48:45.055Z"
   },
   {
    "duration": 3,
    "start_time": "2025-03-26T15:48:45.930Z"
   },
   {
    "duration": 729,
    "start_time": "2025-03-26T15:48:47.276Z"
   },
   {
    "duration": 47,
    "start_time": "2025-03-26T15:48:49.046Z"
   },
   {
    "duration": 12,
    "start_time": "2025-03-26T15:48:51.918Z"
   },
   {
    "duration": 11,
    "start_time": "2025-03-26T15:48:54.957Z"
   },
   {
    "duration": 9,
    "start_time": "2025-03-26T15:48:56.748Z"
   },
   {
    "duration": 10,
    "start_time": "2025-03-26T15:48:58.802Z"
   },
   {
    "duration": 9,
    "start_time": "2025-03-26T15:49:00.648Z"
   },
   {
    "duration": 13,
    "start_time": "2025-03-26T15:49:02.390Z"
   },
   {
    "duration": 5,
    "start_time": "2025-03-26T15:49:05.167Z"
   },
   {
    "duration": 23,
    "start_time": "2025-03-26T15:49:06.823Z"
   },
   {
    "duration": 30,
    "start_time": "2025-03-26T15:49:08.600Z"
   },
   {
    "duration": 8,
    "start_time": "2025-03-26T15:49:10.443Z"
   },
   {
    "duration": 254,
    "start_time": "2025-03-26T15:50:58.859Z"
   },
   {
    "duration": 8,
    "start_time": "2025-03-26T15:51:03.258Z"
   },
   {
    "duration": 30,
    "start_time": "2025-03-26T15:51:05.771Z"
   },
   {
    "duration": 9,
    "start_time": "2025-03-26T15:51:07.733Z"
   },
   {
    "duration": 253,
    "start_time": "2025-03-26T15:51:10.234Z"
   },
   {
    "duration": 245,
    "start_time": "2025-03-26T15:51:26.969Z"
   },
   {
    "duration": 30,
    "start_time": "2025-03-26T15:57:51.108Z"
   },
   {
    "duration": 283,
    "start_time": "2025-03-26T15:58:00.879Z"
   },
   {
    "duration": 5,
    "start_time": "2025-03-26T16:38:46.216Z"
   },
   {
    "duration": 6,
    "start_time": "2025-03-26T16:38:48.426Z"
   },
   {
    "duration": 6,
    "start_time": "2025-03-26T16:38:55.343Z"
   },
   {
    "duration": 5,
    "start_time": "2025-03-26T16:39:01.255Z"
   },
   {
    "duration": 6,
    "start_time": "2025-03-26T16:39:07.308Z"
   },
   {
    "duration": 5,
    "start_time": "2025-03-26T16:39:14.176Z"
   },
   {
    "duration": 7,
    "start_time": "2025-03-26T16:39:54.703Z"
   },
   {
    "duration": 6,
    "start_time": "2025-03-26T16:39:56.390Z"
   },
   {
    "duration": 9,
    "start_time": "2025-03-26T16:50:59.428Z"
   },
   {
    "duration": 9,
    "start_time": "2025-03-26T16:51:13.111Z"
   },
   {
    "duration": 3,
    "start_time": "2025-03-26T17:07:08.613Z"
   },
   {
    "duration": 7,
    "start_time": "2025-03-26T17:15:47.826Z"
   },
   {
    "duration": 4,
    "start_time": "2025-03-26T17:20:39.001Z"
   },
   {
    "duration": 1975,
    "start_time": "2025-03-26T17:37:46.038Z"
   },
   {
    "duration": 117,
    "start_time": "2025-03-26T17:37:48.324Z"
   },
   {
    "duration": 114,
    "start_time": "2025-03-26T17:38:39.471Z"
   },
   {
    "duration": 114,
    "start_time": "2025-03-26T17:39:07.817Z"
   },
   {
    "duration": 149,
    "start_time": "2025-03-26T17:41:35.864Z"
   },
   {
    "duration": 116,
    "start_time": "2025-03-26T17:44:17.568Z"
   },
   {
    "duration": 110,
    "start_time": "2025-03-26T17:52:09.820Z"
   },
   {
    "duration": 111,
    "start_time": "2025-03-26T17:52:24.877Z"
   },
   {
    "duration": 114,
    "start_time": "2025-03-26T17:52:50.263Z"
   },
   {
    "duration": 2,
    "start_time": "2025-03-26T19:03:04.685Z"
   },
   {
    "duration": 819,
    "start_time": "2025-03-26T19:03:06.071Z"
   },
   {
    "duration": 17,
    "start_time": "2025-03-26T19:03:08.032Z"
   },
   {
    "duration": 17,
    "start_time": "2025-03-26T19:03:09.946Z"
   },
   {
    "duration": 12,
    "start_time": "2025-03-26T19:03:12.033Z"
   },
   {
    "duration": 11,
    "start_time": "2025-03-26T19:03:13.835Z"
   },
   {
    "duration": 10,
    "start_time": "2025-03-26T19:03:15.591Z"
   },
   {
    "duration": 67,
    "start_time": "2025-03-26T19:03:18.441Z"
   },
   {
    "duration": 10,
    "start_time": "2025-03-26T19:03:19.773Z"
   },
   {
    "duration": 81,
    "start_time": "2025-03-26T19:03:21.488Z"
   },
   {
    "duration": 76,
    "start_time": "2025-03-26T19:03:23.173Z"
   },
   {
    "duration": 26,
    "start_time": "2025-03-26T19:03:24.032Z"
   },
   {
    "duration": 13,
    "start_time": "2025-03-26T19:03:26.838Z"
   },
   {
    "duration": 5,
    "start_time": "2025-03-26T19:03:27.803Z"
   },
   {
    "duration": 16,
    "start_time": "2025-03-26T19:03:28.657Z"
   },
   {
    "duration": 14,
    "start_time": "2025-03-26T19:03:29.669Z"
   },
   {
    "duration": 3,
    "start_time": "2025-03-26T19:03:32.493Z"
   },
   {
    "duration": 4,
    "start_time": "2025-03-26T19:03:33.479Z"
   },
   {
    "duration": 94,
    "start_time": "2025-03-26T19:03:35.013Z"
   },
   {
    "duration": 3,
    "start_time": "2025-03-26T19:03:35.919Z"
   },
   {
    "duration": 3,
    "start_time": "2025-03-26T19:03:38.181Z"
   },
   {
    "duration": 648,
    "start_time": "2025-03-26T19:03:40.102Z"
   },
   {
    "duration": 57,
    "start_time": "2025-03-26T19:03:41.735Z"
   },
   {
    "duration": 12,
    "start_time": "2025-03-26T19:03:44.368Z"
   },
   {
    "duration": 10,
    "start_time": "2025-03-26T19:03:46.003Z"
   },
   {
    "duration": 10,
    "start_time": "2025-03-26T19:03:47.473Z"
   },
   {
    "duration": 10,
    "start_time": "2025-03-26T19:03:49.167Z"
   },
   {
    "duration": 8,
    "start_time": "2025-03-26T19:03:51.426Z"
   },
   {
    "duration": 13,
    "start_time": "2025-03-26T19:03:53.141Z"
   },
   {
    "duration": 6,
    "start_time": "2025-03-26T19:03:55.580Z"
   },
   {
    "duration": 22,
    "start_time": "2025-03-26T19:03:57.532Z"
   },
   {
    "duration": 29,
    "start_time": "2025-03-26T19:03:59.320Z"
   },
   {
    "duration": 9,
    "start_time": "2025-03-26T19:04:01.112Z"
   },
   {
    "duration": 256,
    "start_time": "2025-03-26T19:04:05.381Z"
   },
   {
    "duration": 33,
    "start_time": "2025-03-26T19:04:07.758Z"
   },
   {
    "duration": 7,
    "start_time": "2025-03-26T19:04:12.451Z"
   },
   {
    "duration": 7,
    "start_time": "2025-03-26T19:04:14.037Z"
   },
   {
    "duration": 141,
    "start_time": "2025-03-26T19:04:15.711Z"
   },
   {
    "duration": 118,
    "start_time": "2025-03-26T19:04:18.309Z"
   },
   {
    "duration": 111,
    "start_time": "2025-03-26T19:04:21.076Z"
   },
   {
    "duration": 8,
    "start_time": "2025-03-26T19:24:05.899Z"
   },
   {
    "duration": 5,
    "start_time": "2025-03-26T19:24:27.586Z"
   },
   {
    "duration": 124,
    "start_time": "2025-03-26T19:24:37.609Z"
   },
   {
    "duration": 2,
    "start_time": "2025-03-26T19:24:49.909Z"
   },
   {
    "duration": 110,
    "start_time": "2025-03-26T19:25:00.057Z"
   },
   {
    "duration": 36,
    "start_time": "2025-03-26T19:48:43.974Z"
   },
   {
    "duration": 163,
    "start_time": "2025-03-26T19:48:52.312Z"
   },
   {
    "duration": 250,
    "start_time": "2025-03-26T19:49:09.850Z"
   },
   {
    "duration": 584,
    "start_time": "2025-03-26T20:52:02.073Z"
   },
   {
    "duration": 358,
    "start_time": "2025-03-26T20:52:16.794Z"
   },
   {
    "duration": 15,
    "start_time": "2025-03-26T20:52:26.518Z"
   },
   {
    "duration": 563,
    "start_time": "2025-03-26T21:11:43.836Z"
   },
   {
    "duration": 15,
    "start_time": "2025-03-26T21:11:53.151Z"
   },
   {
    "duration": 367,
    "start_time": "2025-03-26T21:32:07.237Z"
   },
   {
    "duration": 10,
    "start_time": "2025-03-26T21:32:35.995Z"
   },
   {
    "duration": 296,
    "start_time": "2025-03-26T21:32:37.082Z"
   },
   {
    "duration": 141,
    "start_time": "2025-03-26T21:32:38.344Z"
   },
   {
    "duration": 410,
    "start_time": "2025-03-26T21:55:21.161Z"
   },
   {
    "duration": 12,
    "start_time": "2025-03-26T21:55:32.372Z"
   },
   {
    "duration": 13,
    "start_time": "2025-03-26T21:59:15.322Z"
   },
   {
    "duration": 11,
    "start_time": "2025-03-26T21:59:47.783Z"
   },
   {
    "duration": 641,
    "start_time": "2025-03-26T22:30:01.605Z"
   },
   {
    "duration": 693,
    "start_time": "2025-03-26T22:30:08.103Z"
   },
   {
    "duration": 318,
    "start_time": "2025-03-26T22:30:17.665Z"
   },
   {
    "duration": 12,
    "start_time": "2025-03-26T22:30:30.859Z"
   },
   {
    "duration": 296,
    "start_time": "2025-03-27T17:00:29.359Z"
   },
   {
    "duration": 998,
    "start_time": "2025-03-27T17:00:30.841Z"
   },
   {
    "duration": 20,
    "start_time": "2025-03-27T17:00:33.237Z"
   },
   {
    "duration": 14,
    "start_time": "2025-03-27T17:00:35.614Z"
   },
   {
    "duration": 11,
    "start_time": "2025-03-27T17:00:37.324Z"
   },
   {
    "duration": 11,
    "start_time": "2025-03-27T17:00:38.885Z"
   },
   {
    "duration": 12,
    "start_time": "2025-03-27T17:00:40.594Z"
   },
   {
    "duration": 91,
    "start_time": "2025-03-27T17:00:43.651Z"
   },
   {
    "duration": 13,
    "start_time": "2025-03-27T17:00:44.966Z"
   },
   {
    "duration": 109,
    "start_time": "2025-03-27T17:00:47.143Z"
   },
   {
    "duration": 82,
    "start_time": "2025-03-27T17:00:49.458Z"
   },
   {
    "duration": 32,
    "start_time": "2025-03-27T17:00:50.393Z"
   },
   {
    "duration": 13,
    "start_time": "2025-03-27T17:00:52.120Z"
   },
   {
    "duration": 4,
    "start_time": "2025-03-27T17:00:53.136Z"
   },
   {
    "duration": 15,
    "start_time": "2025-03-27T17:00:54.072Z"
   },
   {
    "duration": 14,
    "start_time": "2025-03-27T17:00:55.585Z"
   },
   {
    "duration": 4,
    "start_time": "2025-03-27T17:00:57.703Z"
   },
   {
    "duration": 3,
    "start_time": "2025-03-27T17:00:58.761Z"
   },
   {
    "duration": 77,
    "start_time": "2025-03-27T17:01:00.437Z"
   },
   {
    "duration": 3,
    "start_time": "2025-03-27T17:01:01.345Z"
   },
   {
    "duration": 720,
    "start_time": "2025-03-27T17:01:02.826Z"
   },
   {
    "duration": 67,
    "start_time": "2025-03-27T17:01:04.608Z"
   },
   {
    "duration": 15,
    "start_time": "2025-03-27T17:01:07.162Z"
   },
   {
    "duration": 12,
    "start_time": "2025-03-27T17:01:09.327Z"
   },
   {
    "duration": 13,
    "start_time": "2025-03-27T17:01:11.112Z"
   },
   {
    "duration": 9,
    "start_time": "2025-03-27T17:01:13.335Z"
   },
   {
    "duration": 8,
    "start_time": "2025-03-27T17:01:15.151Z"
   },
   {
    "duration": 13,
    "start_time": "2025-03-27T17:01:16.882Z"
   },
   {
    "duration": 5,
    "start_time": "2025-03-27T17:01:19.279Z"
   },
   {
    "duration": 23,
    "start_time": "2025-03-27T17:01:20.829Z"
   },
   {
    "duration": 31,
    "start_time": "2025-03-27T17:01:23.002Z"
   },
   {
    "duration": 8,
    "start_time": "2025-03-27T17:01:24.301Z"
   },
   {
    "duration": 246,
    "start_time": "2025-03-27T17:01:26.564Z"
   },
   {
    "duration": 35,
    "start_time": "2025-03-27T17:01:29.162Z"
   },
   {
    "duration": 7,
    "start_time": "2025-03-27T17:01:32.409Z"
   },
   {
    "duration": 6,
    "start_time": "2025-03-27T17:01:34.037Z"
   },
   {
    "duration": 1970,
    "start_time": "2025-03-27T17:01:36.116Z"
   },
   {
    "duration": 113,
    "start_time": "2025-03-27T17:01:38.088Z"
   },
   {
    "duration": 109,
    "start_time": "2025-03-27T17:01:42.659Z"
   },
   {
    "duration": 7,
    "start_time": "2025-03-27T17:01:45.895Z"
   },
   {
    "duration": 2,
    "start_time": "2025-03-27T17:01:46.679Z"
   },
   {
    "duration": 94,
    "start_time": "2025-03-27T17:01:47.621Z"
   },
   {
    "duration": 36,
    "start_time": "2025-03-27T17:01:52.257Z"
   },
   {
    "duration": 143,
    "start_time": "2025-03-27T17:01:53.276Z"
   },
   {
    "duration": 558,
    "start_time": "2025-03-27T17:01:55.585Z"
   },
   {
    "duration": 508,
    "start_time": "2025-03-27T17:01:56.336Z"
   },
   {
    "duration": 13,
    "start_time": "2025-03-27T17:01:57.192Z"
   },
   {
    "duration": 190,
    "start_time": "2025-03-27T17:02:00.524Z"
   },
   {
    "duration": 226,
    "start_time": "2025-03-27T17:02:12.712Z"
   },
   {
    "duration": 133,
    "start_time": "2025-03-27T17:02:13.814Z"
   },
   {
    "duration": 375,
    "start_time": "2025-03-27T17:02:16.473Z"
   },
   {
    "duration": 12,
    "start_time": "2025-03-27T17:02:17.671Z"
   },
   {
    "duration": 644,
    "start_time": "2025-03-27T17:02:21.991Z"
   },
   {
    "duration": 272,
    "start_time": "2025-03-27T17:02:22.918Z"
   },
   {
    "duration": 11,
    "start_time": "2025-03-27T17:02:24.023Z"
   },
   {
    "duration": 10,
    "start_time": "2025-03-27T17:03:24.791Z"
   },
   {
    "duration": 246,
    "start_time": "2025-03-27T17:03:27.596Z"
   },
   {
    "duration": 96,
    "start_time": "2025-03-27T17:34:20.138Z"
   },
   {
    "duration": 48,
    "start_time": "2025-03-27T17:34:28.915Z"
   },
   {
    "duration": 7,
    "start_time": "2025-03-27T17:34:37.447Z"
   },
   {
    "duration": 6,
    "start_time": "2025-03-27T17:34:52.397Z"
   },
   {
    "duration": 8,
    "start_time": "2025-03-27T17:35:03.576Z"
   },
   {
    "duration": 574,
    "start_time": "2025-03-27T17:55:50.357Z"
   },
   {
    "duration": 517,
    "start_time": "2025-03-27T17:55:59.038Z"
   },
   {
    "duration": 11,
    "start_time": "2025-03-27T17:56:07.881Z"
   },
   {
    "duration": 10,
    "start_time": "2025-03-27T17:56:12.993Z"
   },
   {
    "duration": 2,
    "start_time": "2025-03-27T19:22:36.771Z"
   },
   {
    "duration": 16,
    "start_time": "2025-03-27T19:22:40.589Z"
   },
   {
    "duration": 11,
    "start_time": "2025-03-27T19:22:46.697Z"
   },
   {
    "duration": 2,
    "start_time": "2025-03-27T19:24:34.845Z"
   },
   {
    "duration": 851,
    "start_time": "2025-03-27T19:24:36.814Z"
   },
   {
    "duration": 14,
    "start_time": "2025-03-27T19:24:39.181Z"
   },
   {
    "duration": 13,
    "start_time": "2025-03-27T19:24:43.829Z"
   },
   {
    "duration": 14,
    "start_time": "2025-03-27T19:25:09.373Z"
   },
   {
    "duration": 11,
    "start_time": "2025-03-27T19:25:12.730Z"
   },
   {
    "duration": 12,
    "start_time": "2025-03-27T19:25:16.524Z"
   },
   {
    "duration": 10,
    "start_time": "2025-03-27T19:25:19.451Z"
   },
   {
    "duration": 26,
    "start_time": "2025-03-27T19:27:18.485Z"
   },
   {
    "duration": 24,
    "start_time": "2025-03-27T19:27:37.057Z"
   },
   {
    "duration": 20,
    "start_time": "2025-03-27T19:27:50.880Z"
   },
   {
    "duration": 26,
    "start_time": "2025-03-27T19:28:02.950Z"
   },
   {
    "duration": 24,
    "start_time": "2025-03-27T19:28:12.467Z"
   },
   {
    "duration": 71,
    "start_time": "2025-03-27T19:31:44.228Z"
   },
   {
    "duration": 253,
    "start_time": "2025-03-27T20:45:39.727Z"
   },
   {
    "duration": 771,
    "start_time": "2025-03-27T20:46:01.278Z"
   },
   {
    "duration": 222,
    "start_time": "2025-03-27T20:46:36.317Z"
   },
   {
    "duration": 237,
    "start_time": "2025-03-27T20:46:46.681Z"
   },
   {
    "duration": 9,
    "start_time": "2025-03-27T20:47:32.113Z"
   },
   {
    "duration": 243,
    "start_time": "2025-03-27T20:47:39.924Z"
   },
   {
    "duration": 8,
    "start_time": "2025-03-27T20:47:51.542Z"
   },
   {
    "duration": 220,
    "start_time": "2025-03-27T20:48:07.471Z"
   },
   {
    "duration": 229,
    "start_time": "2025-03-27T20:48:09.552Z"
   },
   {
    "duration": 224,
    "start_time": "2025-03-27T20:48:40.432Z"
   },
   {
    "duration": 381,
    "start_time": "2025-03-27T21:25:37.561Z"
   },
   {
    "duration": 11,
    "start_time": "2025-03-27T21:25:38.745Z"
   },
   {
    "duration": 7,
    "start_time": "2025-03-27T21:33:56.867Z"
   },
   {
    "duration": 7,
    "start_time": "2025-03-27T22:11:09.490Z"
   },
   {
    "duration": 11,
    "start_time": "2025-03-27T22:11:21.822Z"
   },
   {
    "duration": 15,
    "start_time": "2025-03-27T22:16:34.694Z"
   },
   {
    "duration": 11,
    "start_time": "2025-03-27T22:16:47.132Z"
   },
   {
    "duration": 132,
    "start_time": "2025-03-27T22:17:44.529Z"
   },
   {
    "duration": 382,
    "start_time": "2025-03-27T22:19:36.888Z"
   },
   {
    "duration": 93,
    "start_time": "2025-03-27T22:20:12.519Z"
   },
   {
    "duration": 396,
    "start_time": "2025-03-27T22:23:28.502Z"
   },
   {
    "duration": 260,
    "start_time": "2025-03-27T22:24:24.111Z"
   },
   {
    "duration": 298,
    "start_time": "2025-03-28T22:11:32.401Z"
   },
   {
    "duration": 1021,
    "start_time": "2025-03-28T22:11:32.701Z"
   },
   {
    "duration": 20,
    "start_time": "2025-03-28T22:11:33.723Z"
   },
   {
    "duration": 12,
    "start_time": "2025-03-28T22:11:33.745Z"
   },
   {
    "duration": 10,
    "start_time": "2025-03-28T22:11:33.759Z"
   },
   {
    "duration": 41,
    "start_time": "2025-03-28T22:11:33.771Z"
   },
   {
    "duration": 24,
    "start_time": "2025-03-28T22:11:33.814Z"
   },
   {
    "duration": 100,
    "start_time": "2025-03-28T22:11:33.840Z"
   },
   {
    "duration": 11,
    "start_time": "2025-03-28T22:11:33.942Z"
   },
   {
    "duration": 107,
    "start_time": "2025-03-28T22:11:33.956Z"
   },
   {
    "duration": 85,
    "start_time": "2025-03-28T22:11:34.065Z"
   },
   {
    "duration": 33,
    "start_time": "2025-03-28T22:11:34.152Z"
   },
   {
    "duration": 26,
    "start_time": "2025-03-28T22:11:34.186Z"
   },
   {
    "duration": 4,
    "start_time": "2025-03-28T22:11:34.214Z"
   },
   {
    "duration": 14,
    "start_time": "2025-03-28T22:11:34.221Z"
   },
   {
    "duration": 11,
    "start_time": "2025-03-28T22:11:34.237Z"
   },
   {
    "duration": 3,
    "start_time": "2025-03-28T22:11:34.250Z"
   },
   {
    "duration": 4,
    "start_time": "2025-03-28T22:11:34.254Z"
   },
   {
    "duration": 110,
    "start_time": "2025-03-28T22:11:34.260Z"
   },
   {
    "duration": 3,
    "start_time": "2025-03-28T22:11:34.372Z"
   },
   {
    "duration": 786,
    "start_time": "2025-03-28T22:11:34.377Z"
   },
   {
    "duration": 72,
    "start_time": "2025-03-28T22:11:35.165Z"
   },
   {
    "duration": 11,
    "start_time": "2025-03-28T22:11:35.238Z"
   },
   {
    "duration": 8,
    "start_time": "2025-03-28T22:11:35.251Z"
   },
   {
    "duration": 9,
    "start_time": "2025-03-28T22:11:35.260Z"
   },
   {
    "duration": 9,
    "start_time": "2025-03-28T22:11:35.271Z"
   },
   {
    "duration": 38,
    "start_time": "2025-03-28T22:11:35.282Z"
   },
   {
    "duration": 13,
    "start_time": "2025-03-28T22:11:35.324Z"
   },
   {
    "duration": 5,
    "start_time": "2025-03-28T22:11:35.338Z"
   },
   {
    "duration": 24,
    "start_time": "2025-03-28T22:11:35.344Z"
   },
   {
    "duration": 60,
    "start_time": "2025-03-28T22:11:35.370Z"
   },
   {
    "duration": 7,
    "start_time": "2025-03-28T22:11:35.432Z"
   },
   {
    "duration": 818,
    "start_time": "2025-03-28T22:11:35.441Z"
   },
   {
    "duration": 241,
    "start_time": "2025-03-28T22:11:36.261Z"
   },
   {
    "duration": 14,
    "start_time": "2025-03-28T22:11:36.504Z"
   },
   {
    "duration": 239,
    "start_time": "2025-03-28T22:11:36.519Z"
   },
   {
    "duration": 34,
    "start_time": "2025-03-28T22:11:36.759Z"
   },
   {
    "duration": 19,
    "start_time": "2025-03-28T22:11:36.794Z"
   },
   {
    "duration": 5,
    "start_time": "2025-03-28T22:11:36.814Z"
   },
   {
    "duration": 1965,
    "start_time": "2025-03-28T22:11:36.820Z"
   },
   {
    "duration": 116,
    "start_time": "2025-03-28T22:11:38.787Z"
   },
   {
    "duration": 117,
    "start_time": "2025-03-28T22:11:38.905Z"
   },
   {
    "duration": 6,
    "start_time": "2025-03-28T22:11:39.024Z"
   },
   {
    "duration": 2,
    "start_time": "2025-03-28T22:11:39.032Z"
   },
   {
    "duration": 155,
    "start_time": "2025-03-28T22:11:39.036Z"
   },
   {
    "duration": 43,
    "start_time": "2025-03-28T22:11:39.192Z"
   },
   {
    "duration": 221,
    "start_time": "2025-03-28T22:11:39.237Z"
   },
   {
    "duration": 555,
    "start_time": "2025-03-28T22:11:39.459Z"
   },
   {
    "duration": 503,
    "start_time": "2025-03-28T22:11:40.018Z"
   },
   {
    "duration": 13,
    "start_time": "2025-03-28T22:11:40.523Z"
   },
   {
    "duration": 385,
    "start_time": "2025-03-28T22:11:40.537Z"
   },
   {
    "duration": 378,
    "start_time": "2025-03-28T22:11:40.924Z"
   },
   {
    "duration": 16,
    "start_time": "2025-03-28T22:11:41.304Z"
   },
   {
    "duration": 368,
    "start_time": "2025-03-28T22:11:41.322Z"
   },
   {
    "duration": 12,
    "start_time": "2025-03-28T22:11:41.691Z"
   },
   {
    "duration": 642,
    "start_time": "2025-03-28T22:11:41.712Z"
   },
   {
    "duration": 276,
    "start_time": "2025-03-28T22:11:42.356Z"
   },
   {
    "duration": 11,
    "start_time": "2025-03-28T22:11:42.634Z"
   },
   {
    "duration": 111,
    "start_time": "2025-03-28T22:11:42.647Z"
   },
   {
    "duration": 60,
    "start_time": "2025-03-28T22:11:42.760Z"
   },
   {
    "duration": 6,
    "start_time": "2025-03-28T22:11:42.821Z"
   },
   {
    "duration": 5,
    "start_time": "2025-03-28T22:18:15.863Z"
   },
   {
    "duration": 316,
    "start_time": "2025-03-31T14:52:57.775Z"
   },
   {
    "duration": 992,
    "start_time": "2025-03-31T14:53:01.025Z"
   },
   {
    "duration": 19,
    "start_time": "2025-03-31T14:53:04.846Z"
   },
   {
    "duration": 13,
    "start_time": "2025-03-31T14:53:07.001Z"
   },
   {
    "duration": 13,
    "start_time": "2025-03-31T14:53:09.525Z"
   },
   {
    "duration": 11,
    "start_time": "2025-03-31T14:53:11.273Z"
   },
   {
    "duration": 26,
    "start_time": "2025-03-31T14:53:13.042Z"
   },
   {
    "duration": 83,
    "start_time": "2025-03-31T14:57:08.956Z"
   },
   {
    "duration": 19,
    "start_time": "2025-03-31T14:57:10.409Z"
   },
   {
    "duration": 95,
    "start_time": "2025-03-31T14:57:12.458Z"
   },
   {
    "duration": 81,
    "start_time": "2025-03-31T14:57:14.852Z"
   },
   {
    "duration": 32,
    "start_time": "2025-03-31T14:57:15.876Z"
   },
   {
    "duration": 11,
    "start_time": "2025-03-31T14:57:20.650Z"
   },
   {
    "duration": 4,
    "start_time": "2025-03-31T14:57:21.618Z"
   },
   {
    "duration": 15,
    "start_time": "2025-03-31T14:57:23.700Z"
   },
   {
    "duration": 11,
    "start_time": "2025-03-31T14:57:24.752Z"
   },
   {
    "duration": 4,
    "start_time": "2025-03-31T14:57:27.838Z"
   },
   {
    "duration": 6,
    "start_time": "2025-03-31T14:57:29.360Z"
   },
   {
    "duration": 85,
    "start_time": "2025-03-31T14:57:31.024Z"
   },
   {
    "duration": 4,
    "start_time": "2025-03-31T14:57:32.028Z"
   },
   {
    "duration": 739,
    "start_time": "2025-03-31T14:57:34.844Z"
   },
   {
    "duration": 62,
    "start_time": "2025-03-31T14:57:36.810Z"
   },
   {
    "duration": 11,
    "start_time": "2025-03-31T14:58:14.644Z"
   },
   {
    "duration": 10,
    "start_time": "2025-03-31T14:58:17.255Z"
   },
   {
    "duration": 10,
    "start_time": "2025-03-31T14:58:33.690Z"
   },
   {
    "duration": 10,
    "start_time": "2025-03-31T14:58:35.837Z"
   },
   {
    "duration": 8,
    "start_time": "2025-03-31T14:58:37.657Z"
   },
   {
    "duration": 13,
    "start_time": "2025-03-31T14:58:39.826Z"
   },
   {
    "duration": 5,
    "start_time": "2025-03-31T14:58:41.912Z"
   },
   {
    "duration": 24,
    "start_time": "2025-03-31T14:58:43.912Z"
   },
   {
    "duration": 32,
    "start_time": "2025-03-31T14:58:46.093Z"
   },
   {
    "duration": 8,
    "start_time": "2025-03-31T14:58:47.636Z"
   },
   {
    "duration": 843,
    "start_time": "2025-03-31T14:58:49.313Z"
   },
   {
    "duration": 250,
    "start_time": "2025-03-31T14:58:50.494Z"
   },
   {
    "duration": 8,
    "start_time": "2025-03-31T14:58:52.408Z"
   },
   {
    "duration": 248,
    "start_time": "2025-03-31T14:58:54.101Z"
   },
   {
    "duration": 33,
    "start_time": "2025-03-31T14:58:56.420Z"
   },
   {
    "duration": 5,
    "start_time": "2025-03-31T14:59:59.113Z"
   },
   {
    "duration": 6,
    "start_time": "2025-03-31T15:00:00.376Z"
   },
   {
    "duration": 1931,
    "start_time": "2025-03-31T15:00:23.821Z"
   },
   {
    "duration": 121,
    "start_time": "2025-03-31T15:00:26.262Z"
   },
   {
    "duration": 108,
    "start_time": "2025-03-31T15:00:28.717Z"
   },
   {
    "duration": 6,
    "start_time": "2025-03-31T15:01:14.740Z"
   },
   {
    "duration": 3,
    "start_time": "2025-03-31T15:01:15.644Z"
   },
   {
    "duration": 34,
    "start_time": "2025-03-31T15:01:50.213Z"
   },
   {
    "duration": 283,
    "start_time": "2025-03-31T15:01:51.083Z"
   },
   {
    "duration": 575,
    "start_time": "2025-03-31T15:01:55.581Z"
   },
   {
    "duration": 506,
    "start_time": "2025-03-31T15:01:56.592Z"
   },
   {
    "duration": 13,
    "start_time": "2025-03-31T15:01:57.578Z"
   },
   {
    "duration": 412,
    "start_time": "2025-03-31T15:02:35.774Z"
   },
   {
    "duration": 365,
    "start_time": "2025-03-31T15:02:57.489Z"
   },
   {
    "duration": 11,
    "start_time": "2025-03-31T15:02:58.472Z"
   },
   {
    "duration": 368,
    "start_time": "2025-03-31T15:03:15.752Z"
   },
   {
    "duration": 12,
    "start_time": "2025-03-31T15:03:16.723Z"
   },
   {
    "duration": 684,
    "start_time": "2025-03-31T15:03:43.083Z"
   },
   {
    "duration": 275,
    "start_time": "2025-03-31T15:03:43.872Z"
   },
   {
    "duration": 11,
    "start_time": "2025-03-31T15:03:44.474Z"
   },
   {
    "duration": 98,
    "start_time": "2025-03-31T15:04:18.712Z"
   },
   {
    "duration": 48,
    "start_time": "2025-03-31T15:04:19.578Z"
   },
   {
    "duration": 6,
    "start_time": "2025-03-31T15:04:20.248Z"
   },
   {
    "duration": 37,
    "start_time": "2025-03-31T15:09:10.051Z"
   },
   {
    "duration": 3,
    "start_time": "2025-03-31T15:39:03.115Z"
   },
   {
    "duration": 3,
    "start_time": "2025-03-31T15:39:31.977Z"
   },
   {
    "duration": 104,
    "start_time": "2025-03-31T15:43:17.597Z"
   },
   {
    "duration": 3,
    "start_time": "2025-03-31T15:47:05.914Z"
   },
   {
    "duration": 9,
    "start_time": "2025-03-31T15:47:07.164Z"
   },
   {
    "duration": 113,
    "start_time": "2025-03-31T15:48:37.774Z"
   },
   {
    "duration": 344,
    "start_time": "2025-03-31T15:51:33.917Z"
   },
   {
    "duration": 513,
    "start_time": "2025-03-31T15:52:09.249Z"
   },
   {
    "duration": 377,
    "start_time": "2025-03-31T15:52:22.911Z"
   },
   {
    "duration": 380,
    "start_time": "2025-03-31T15:52:30.148Z"
   },
   {
    "duration": 393,
    "start_time": "2025-03-31T15:53:28.266Z"
   },
   {
    "duration": 383,
    "start_time": "2025-03-31T15:53:34.380Z"
   },
   {
    "duration": 486,
    "start_time": "2025-03-31T15:53:57.082Z"
   },
   {
    "duration": 448,
    "start_time": "2025-03-31T15:54:05.176Z"
   },
   {
    "duration": 447,
    "start_time": "2025-03-31T15:54:43.440Z"
   },
   {
    "duration": 422,
    "start_time": "2025-03-31T15:57:13.071Z"
   },
   {
    "duration": 399,
    "start_time": "2025-03-31T15:57:26.842Z"
   },
   {
    "duration": 188,
    "start_time": "2025-03-31T15:59:44.786Z"
   },
   {
    "duration": 5,
    "start_time": "2025-03-31T16:00:26.480Z"
   },
   {
    "duration": 4,
    "start_time": "2025-03-31T16:01:10.447Z"
   },
   {
    "duration": 3,
    "start_time": "2025-03-31T16:01:20.346Z"
   },
   {
    "duration": 377,
    "start_time": "2025-03-31T16:01:26.020Z"
   },
   {
    "duration": 401,
    "start_time": "2025-03-31T16:01:42.643Z"
   },
   {
    "duration": 457,
    "start_time": "2025-03-31T16:02:09.732Z"
   },
   {
    "duration": 520,
    "start_time": "2025-03-31T16:03:56.160Z"
   },
   {
    "duration": 517,
    "start_time": "2025-03-31T16:04:37.452Z"
   },
   {
    "duration": 536,
    "start_time": "2025-03-31T16:05:19.633Z"
   },
   {
    "duration": 166,
    "start_time": "2025-03-31T16:05:54.390Z"
   },
   {
    "duration": 479,
    "start_time": "2025-03-31T16:06:05.307Z"
   },
   {
    "duration": 162,
    "start_time": "2025-03-31T16:06:26.769Z"
   },
   {
    "duration": 292,
    "start_time": "2025-03-31T16:06:36.535Z"
   },
   {
    "duration": 875,
    "start_time": "2025-03-31T16:06:37.903Z"
   },
   {
    "duration": 18,
    "start_time": "2025-03-31T16:06:40.099Z"
   },
   {
    "duration": 13,
    "start_time": "2025-03-31T16:06:42.107Z"
   },
   {
    "duration": 12,
    "start_time": "2025-03-31T16:06:43.931Z"
   },
   {
    "duration": 12,
    "start_time": "2025-03-31T16:06:46.673Z"
   },
   {
    "duration": 41,
    "start_time": "2025-03-31T16:06:48.647Z"
   },
   {
    "duration": 83,
    "start_time": "2025-03-31T16:06:59.700Z"
   },
   {
    "duration": 11,
    "start_time": "2025-03-31T16:07:00.905Z"
   },
   {
    "duration": 96,
    "start_time": "2025-03-31T16:07:03.330Z"
   },
   {
    "duration": 80,
    "start_time": "2025-03-31T16:07:05.084Z"
   },
   {
    "duration": 37,
    "start_time": "2025-03-31T16:07:06.008Z"
   },
   {
    "duration": 12,
    "start_time": "2025-03-31T16:07:07.585Z"
   },
   {
    "duration": 4,
    "start_time": "2025-03-31T16:07:08.836Z"
   },
   {
    "duration": 15,
    "start_time": "2025-03-31T16:07:09.836Z"
   },
   {
    "duration": 12,
    "start_time": "2025-03-31T16:07:10.712Z"
   },
   {
    "duration": 4,
    "start_time": "2025-03-31T16:07:12.158Z"
   },
   {
    "duration": 3,
    "start_time": "2025-03-31T16:07:13.103Z"
   },
   {
    "duration": 79,
    "start_time": "2025-03-31T16:07:14.595Z"
   },
   {
    "duration": 3,
    "start_time": "2025-03-31T16:07:15.637Z"
   },
   {
    "duration": 708,
    "start_time": "2025-03-31T16:07:17.163Z"
   },
   {
    "duration": 66,
    "start_time": "2025-03-31T16:07:18.920Z"
   },
   {
    "duration": 16,
    "start_time": "2025-03-31T16:07:21.286Z"
   },
   {
    "duration": 10,
    "start_time": "2025-03-31T16:07:23.163Z"
   },
   {
    "duration": 13,
    "start_time": "2025-03-31T16:07:25.116Z"
   },
   {
    "duration": 11,
    "start_time": "2025-03-31T16:07:27.231Z"
   },
   {
    "duration": 7,
    "start_time": "2025-03-31T16:07:29.104Z"
   },
   {
    "duration": 13,
    "start_time": "2025-03-31T16:07:30.549Z"
   },
   {
    "duration": 5,
    "start_time": "2025-03-31T16:07:33.587Z"
   },
   {
    "duration": 24,
    "start_time": "2025-03-31T16:07:38.232Z"
   },
   {
    "duration": 30,
    "start_time": "2025-03-31T16:07:40.097Z"
   },
   {
    "duration": 8,
    "start_time": "2025-03-31T16:07:41.634Z"
   },
   {
    "duration": 798,
    "start_time": "2025-03-31T16:07:43.201Z"
   },
   {
    "duration": 805,
    "start_time": "2025-03-31T16:07:44.724Z"
   },
   {
    "duration": 253,
    "start_time": "2025-03-31T16:07:46.036Z"
   },
   {
    "duration": 263,
    "start_time": "2025-03-31T16:07:48.371Z"
   },
   {
    "duration": 8,
    "start_time": "2025-03-31T16:07:49.995Z"
   },
   {
    "duration": 248,
    "start_time": "2025-03-31T16:07:51.636Z"
   },
   {
    "duration": 33,
    "start_time": "2025-03-31T16:07:53.835Z"
   },
   {
    "duration": 35,
    "start_time": "2025-03-31T16:08:19.096Z"
   },
   {
    "duration": 595,
    "start_time": "2025-03-31T16:08:33.019Z"
   },
   {
    "duration": 407,
    "start_time": "2025-03-31T16:08:34.283Z"
   },
   {
    "duration": 410,
    "start_time": "2025-03-31T16:08:43.358Z"
   },
   {
    "duration": 13,
    "start_time": "2025-03-31T16:09:57.883Z"
   },
   {
    "duration": 22,
    "start_time": "2025-03-31T16:09:59.877Z"
   },
   {
    "duration": 13,
    "start_time": "2025-03-31T16:10:20.971Z"
   },
   {
    "duration": 37,
    "start_time": "2025-03-31T16:10:24.545Z"
   },
   {
    "duration": 118,
    "start_time": "2025-03-31T16:10:26.597Z"
   },
   {
    "duration": 114,
    "start_time": "2025-03-31T16:10:46.106Z"
   },
   {
    "duration": 156,
    "start_time": "2025-03-31T16:11:00.408Z"
   },
   {
    "duration": 395,
    "start_time": "2025-03-31T16:11:14.741Z"
   },
   {
    "duration": 10617,
    "start_time": "2025-03-31T16:12:41.908Z"
   },
   {
    "duration": 115,
    "start_time": "2025-03-31T16:12:52.527Z"
   },
   {
    "duration": 411,
    "start_time": "2025-03-31T16:13:00.146Z"
   },
   {
    "duration": 107,
    "start_time": "2025-03-31T16:23:48.394Z"
   },
   {
    "duration": 402,
    "start_time": "2025-03-31T16:23:55.142Z"
   },
   {
    "duration": 2,
    "start_time": "2025-03-31T16:24:08.680Z"
   },
   {
    "duration": 836,
    "start_time": "2025-03-31T16:24:09.930Z"
   },
   {
    "duration": 15,
    "start_time": "2025-03-31T16:24:13.615Z"
   },
   {
    "duration": 3,
    "start_time": "2025-03-31T16:25:21.452Z"
   },
   {
    "duration": 814,
    "start_time": "2025-03-31T16:25:23.130Z"
   },
   {
    "duration": 14,
    "start_time": "2025-03-31T16:25:25.112Z"
   },
   {
    "duration": 13,
    "start_time": "2025-03-31T16:25:26.956Z"
   },
   {
    "duration": 10,
    "start_time": "2025-03-31T16:25:28.770Z"
   },
   {
    "duration": 12,
    "start_time": "2025-03-31T16:25:31.208Z"
   },
   {
    "duration": 39,
    "start_time": "2025-03-31T16:25:32.884Z"
   },
   {
    "duration": 79,
    "start_time": "2025-03-31T16:25:38.777Z"
   },
   {
    "duration": 10,
    "start_time": "2025-03-31T16:25:40.311Z"
   },
   {
    "duration": 83,
    "start_time": "2025-03-31T16:25:42.252Z"
   },
   {
    "duration": 68,
    "start_time": "2025-03-31T16:25:44.035Z"
   },
   {
    "duration": 26,
    "start_time": "2025-03-31T16:25:45.246Z"
   },
   {
    "duration": 11,
    "start_time": "2025-03-31T16:25:46.764Z"
   },
   {
    "duration": 4,
    "start_time": "2025-03-31T16:25:47.700Z"
   },
   {
    "duration": 16,
    "start_time": "2025-03-31T16:25:48.564Z"
   },
   {
    "duration": 11,
    "start_time": "2025-03-31T16:25:50.126Z"
   },
   {
    "duration": 3,
    "start_time": "2025-03-31T16:25:51.742Z"
   },
   {
    "duration": 3,
    "start_time": "2025-03-31T16:25:52.717Z"
   },
   {
    "duration": 67,
    "start_time": "2025-03-31T16:25:54.826Z"
   },
   {
    "duration": 3,
    "start_time": "2025-03-31T16:25:55.578Z"
   },
   {
    "duration": 671,
    "start_time": "2025-03-31T16:25:56.994Z"
   },
   {
    "duration": 57,
    "start_time": "2025-03-31T16:25:58.649Z"
   },
   {
    "duration": 13,
    "start_time": "2025-03-31T16:26:00.940Z"
   },
   {
    "duration": 9,
    "start_time": "2025-03-31T16:26:03.034Z"
   },
   {
    "duration": 11,
    "start_time": "2025-03-31T16:26:05.633Z"
   },
   {
    "duration": 10,
    "start_time": "2025-03-31T16:26:07.140Z"
   },
   {
    "duration": 8,
    "start_time": "2025-03-31T16:26:09.215Z"
   },
   {
    "duration": 13,
    "start_time": "2025-03-31T16:26:10.993Z"
   },
   {
    "duration": 6,
    "start_time": "2025-03-31T16:26:13.440Z"
   },
   {
    "duration": 31,
    "start_time": "2025-03-31T16:26:14.928Z"
   },
   {
    "duration": 42,
    "start_time": "2025-03-31T16:26:16.843Z"
   },
   {
    "duration": 8,
    "start_time": "2025-03-31T16:26:18.120Z"
   },
   {
    "duration": 786,
    "start_time": "2025-03-31T16:26:20.584Z"
   },
   {
    "duration": 229,
    "start_time": "2025-03-31T16:26:21.989Z"
   },
   {
    "duration": 8,
    "start_time": "2025-03-31T16:26:23.766Z"
   },
   {
    "duration": 231,
    "start_time": "2025-03-31T16:26:25.245Z"
   },
   {
    "duration": 33,
    "start_time": "2025-03-31T16:26:28.619Z"
   },
   {
    "duration": 113,
    "start_time": "2025-03-31T16:26:53.208Z"
   },
   {
    "duration": 274,
    "start_time": "2025-03-31T16:29:28.196Z"
   },
   {
    "duration": 853,
    "start_time": "2025-03-31T16:29:30.024Z"
   },
   {
    "duration": 19,
    "start_time": "2025-03-31T16:29:33.931Z"
   },
   {
    "duration": 13,
    "start_time": "2025-03-31T16:29:36.443Z"
   },
   {
    "duration": 12,
    "start_time": "2025-03-31T16:29:38.752Z"
   },
   {
    "duration": 12,
    "start_time": "2025-03-31T16:29:40.615Z"
   },
   {
    "duration": 43,
    "start_time": "2025-03-31T16:29:42.489Z"
   },
   {
    "duration": 85,
    "start_time": "2025-03-31T16:29:49.677Z"
   },
   {
    "duration": 11,
    "start_time": "2025-03-31T16:29:51.496Z"
   },
   {
    "duration": 100,
    "start_time": "2025-03-31T16:29:54.132Z"
   },
   {
    "duration": 93,
    "start_time": "2025-03-31T16:29:56.277Z"
   },
   {
    "duration": 35,
    "start_time": "2025-03-31T16:29:57.563Z"
   },
   {
    "duration": 11,
    "start_time": "2025-03-31T16:29:59.926Z"
   },
   {
    "duration": 4,
    "start_time": "2025-03-31T16:30:00.979Z"
   },
   {
    "duration": 16,
    "start_time": "2025-03-31T16:30:02.167Z"
   },
   {
    "duration": 11,
    "start_time": "2025-03-31T16:30:03.289Z"
   },
   {
    "duration": 4,
    "start_time": "2025-03-31T16:30:05.264Z"
   },
   {
    "duration": 3,
    "start_time": "2025-03-31T16:30:06.256Z"
   },
   {
    "duration": 80,
    "start_time": "2025-03-31T16:30:07.771Z"
   },
   {
    "duration": 3,
    "start_time": "2025-03-31T16:30:08.931Z"
   },
   {
    "duration": 784,
    "start_time": "2025-03-31T16:30:10.702Z"
   },
   {
    "duration": 71,
    "start_time": "2025-03-31T16:30:12.403Z"
   },
   {
    "duration": 12,
    "start_time": "2025-03-31T16:30:15.453Z"
   },
   {
    "duration": 11,
    "start_time": "2025-03-31T16:30:17.856Z"
   },
   {
    "duration": 11,
    "start_time": "2025-03-31T16:30:20.859Z"
   },
   {
    "duration": 10,
    "start_time": "2025-03-31T16:30:23.102Z"
   },
   {
    "duration": 8,
    "start_time": "2025-03-31T16:30:25.522Z"
   },
   {
    "duration": 12,
    "start_time": "2025-03-31T16:30:27.495Z"
   },
   {
    "duration": 5,
    "start_time": "2025-03-31T16:30:29.684Z"
   },
   {
    "duration": 24,
    "start_time": "2025-03-31T16:30:31.699Z"
   },
   {
    "duration": 31,
    "start_time": "2025-03-31T16:30:33.890Z"
   },
   {
    "duration": 8,
    "start_time": "2025-03-31T16:30:35.624Z"
   },
   {
    "duration": 816,
    "start_time": "2025-03-31T16:30:36.994Z"
   },
   {
    "duration": 243,
    "start_time": "2025-03-31T16:30:38.542Z"
   },
   {
    "duration": 8,
    "start_time": "2025-03-31T16:30:40.970Z"
   },
   {
    "duration": 242,
    "start_time": "2025-03-31T16:30:42.789Z"
   },
   {
    "duration": 35,
    "start_time": "2025-03-31T16:30:45.109Z"
   },
   {
    "duration": 7,
    "start_time": "2025-03-31T16:30:49.293Z"
   },
   {
    "duration": 3,
    "start_time": "2025-03-31T16:30:51.392Z"
   },
   {
    "duration": 7,
    "start_time": "2025-03-31T16:30:52.635Z"
   },
   {
    "duration": 4,
    "start_time": "2025-03-31T16:30:54.092Z"
   },
   {
    "duration": 281,
    "start_time": "2025-03-31T16:30:56.513Z"
   },
   {
    "duration": 115,
    "start_time": "2025-03-31T16:30:59.208Z"
   },
   {
    "duration": 109,
    "start_time": "2025-03-31T16:31:02.300Z"
   },
   {
    "duration": 7,
    "start_time": "2025-03-31T16:31:07.193Z"
   },
   {
    "duration": 3,
    "start_time": "2025-03-31T16:31:08.839Z"
   },
   {
    "duration": 93,
    "start_time": "2025-03-31T16:31:09.929Z"
   },
   {
    "duration": 34,
    "start_time": "2025-03-31T16:31:13.798Z"
   },
   {
    "duration": 108,
    "start_time": "2025-03-31T16:31:15.016Z"
   },
   {
    "duration": 552,
    "start_time": "2025-03-31T16:31:18.792Z"
   },
   {
    "duration": 511,
    "start_time": "2025-03-31T16:31:20.315Z"
   },
   {
    "duration": 13,
    "start_time": "2025-03-31T16:31:21.459Z"
   },
   {
    "duration": 389,
    "start_time": "2025-03-31T16:31:25.336Z"
   },
   {
    "duration": 377,
    "start_time": "2025-03-31T16:31:30.237Z"
   },
   {
    "duration": 13,
    "start_time": "2025-03-31T16:31:31.292Z"
   },
   {
    "duration": 367,
    "start_time": "2025-03-31T16:31:34.633Z"
   },
   {
    "duration": 10,
    "start_time": "2025-03-31T16:31:35.706Z"
   },
   {
    "duration": 627,
    "start_time": "2025-03-31T16:31:38.129Z"
   },
   {
    "duration": 267,
    "start_time": "2025-03-31T16:31:39.342Z"
   },
   {
    "duration": 10,
    "start_time": "2025-03-31T16:31:40.313Z"
   },
   {
    "duration": 100,
    "start_time": "2025-03-31T16:31:43.021Z"
   },
   {
    "duration": 48,
    "start_time": "2025-03-31T16:31:44.071Z"
   },
   {
    "duration": 6,
    "start_time": "2025-03-31T16:31:44.921Z"
   },
   {
    "duration": 398,
    "start_time": "2025-03-31T16:33:23.643Z"
   },
   {
    "duration": 110,
    "start_time": "2025-03-31T16:33:29.298Z"
   },
   {
    "duration": 519,
    "start_time": "2025-03-31T16:42:13.066Z"
   },
   {
    "duration": 679,
    "start_time": "2025-03-31T16:43:01.403Z"
   },
   {
    "duration": 2,
    "start_time": "2025-03-31T16:43:11.284Z"
   },
   {
    "duration": 858,
    "start_time": "2025-03-31T16:43:12.715Z"
   },
   {
    "duration": 16,
    "start_time": "2025-03-31T16:43:14.890Z"
   },
   {
    "duration": 13,
    "start_time": "2025-03-31T16:43:16.812Z"
   },
   {
    "duration": 12,
    "start_time": "2025-03-31T16:43:18.925Z"
   },
   {
    "duration": 11,
    "start_time": "2025-03-31T16:43:20.996Z"
   },
   {
    "duration": 44,
    "start_time": "2025-03-31T16:43:23.340Z"
   },
   {
    "duration": 543,
    "start_time": "2025-03-31T16:43:42.238Z"
   },
   {
    "duration": 1897,
    "start_time": "2025-03-31T16:44:05.764Z"
   },
   {
    "duration": 681,
    "start_time": "2025-03-31T16:44:36.031Z"
   },
   {
    "duration": 2,
    "start_time": "2025-03-31T16:44:44.704Z"
   },
   {
    "duration": 945,
    "start_time": "2025-03-31T16:44:45.770Z"
   },
   {
    "duration": 17,
    "start_time": "2025-03-31T16:44:47.483Z"
   },
   {
    "duration": 13,
    "start_time": "2025-03-31T16:44:49.932Z"
   },
   {
    "duration": 12,
    "start_time": "2025-03-31T16:44:51.591Z"
   },
   {
    "duration": 12,
    "start_time": "2025-03-31T16:44:53.610Z"
   },
   {
    "duration": 42,
    "start_time": "2025-03-31T16:44:55.061Z"
   },
   {
    "duration": 540,
    "start_time": "2025-03-31T16:45:09.245Z"
   },
   {
    "duration": 3,
    "start_time": "2025-03-31T16:45:32.366Z"
   },
   {
    "duration": 3,
    "start_time": "2025-03-31T16:45:34.068Z"
   },
   {
    "duration": 528,
    "start_time": "2025-03-31T16:45:36.974Z"
   },
   {
    "duration": 5,
    "start_time": "2025-03-31T16:45:50.319Z"
   },
   {
    "duration": 396,
    "start_time": "2025-03-31T16:45:53.154Z"
   },
   {
    "duration": 408,
    "start_time": "2025-03-31T16:46:51.922Z"
   },
   {
    "duration": 318,
    "start_time": "2025-03-31T16:47:02.037Z"
   },
   {
    "duration": 17,
    "start_time": "2025-03-31T16:47:17.524Z"
   },
   {
    "duration": 2,
    "start_time": "2025-03-31T16:47:26.565Z"
   },
   {
    "duration": 815,
    "start_time": "2025-03-31T16:47:27.680Z"
   },
   {
    "duration": 15,
    "start_time": "2025-03-31T16:47:29.813Z"
   },
   {
    "duration": 14,
    "start_time": "2025-03-31T16:47:32.344Z"
   },
   {
    "duration": 10,
    "start_time": "2025-03-31T16:47:34.377Z"
   },
   {
    "duration": 11,
    "start_time": "2025-03-31T16:47:36.217Z"
   },
   {
    "duration": 40,
    "start_time": "2025-03-31T16:47:37.920Z"
   },
   {
    "duration": 74,
    "start_time": "2025-03-31T16:47:42.290Z"
   },
   {
    "duration": 18,
    "start_time": "2025-03-31T16:47:43.578Z"
   },
   {
    "duration": 83,
    "start_time": "2025-03-31T16:47:45.361Z"
   },
   {
    "duration": 73,
    "start_time": "2025-03-31T16:47:48.002Z"
   },
   {
    "duration": 27,
    "start_time": "2025-03-31T16:47:49.092Z"
   },
   {
    "duration": 12,
    "start_time": "2025-03-31T16:47:50.739Z"
   },
   {
    "duration": 3,
    "start_time": "2025-03-31T16:47:51.883Z"
   },
   {
    "duration": 15,
    "start_time": "2025-03-31T16:47:52.802Z"
   },
   {
    "duration": 11,
    "start_time": "2025-03-31T16:47:55.868Z"
   },
   {
    "duration": 3,
    "start_time": "2025-03-31T16:47:57.305Z"
   },
   {
    "duration": 3,
    "start_time": "2025-03-31T16:47:58.534Z"
   },
   {
    "duration": 70,
    "start_time": "2025-03-31T16:48:01.698Z"
   },
   {
    "duration": 3,
    "start_time": "2025-03-31T16:48:02.556Z"
   },
   {
    "duration": 756,
    "start_time": "2025-03-31T16:48:04.024Z"
   },
   {
    "duration": 70,
    "start_time": "2025-03-31T16:48:05.792Z"
   },
   {
    "duration": 11,
    "start_time": "2025-03-31T16:48:08.590Z"
   },
   {
    "duration": 11,
    "start_time": "2025-03-31T16:48:10.463Z"
   },
   {
    "duration": 10,
    "start_time": "2025-03-31T16:48:13.649Z"
   },
   {
    "duration": 10,
    "start_time": "2025-03-31T16:48:16.048Z"
   },
   {
    "duration": 8,
    "start_time": "2025-03-31T16:48:18.173Z"
   },
   {
    "duration": 13,
    "start_time": "2025-03-31T16:48:19.986Z"
   },
   {
    "duration": 5,
    "start_time": "2025-03-31T16:48:22.389Z"
   },
   {
    "duration": 23,
    "start_time": "2025-03-31T16:48:24.011Z"
   },
   {
    "duration": 28,
    "start_time": "2025-03-31T16:48:27.169Z"
   },
   {
    "duration": 8,
    "start_time": "2025-03-31T16:48:28.774Z"
   },
   {
    "duration": 779,
    "start_time": "2025-03-31T16:48:30.579Z"
   },
   {
    "duration": 249,
    "start_time": "2025-03-31T16:48:32.631Z"
   },
   {
    "duration": 9,
    "start_time": "2025-03-31T16:48:35.292Z"
   },
   {
    "duration": 235,
    "start_time": "2025-03-31T16:48:37.708Z"
   },
   {
    "duration": 33,
    "start_time": "2025-03-31T16:48:39.681Z"
   },
   {
    "duration": 27,
    "start_time": "2025-03-31T16:48:40.780Z"
   },
   {
    "duration": 6,
    "start_time": "2025-03-31T16:48:44.558Z"
   },
   {
    "duration": 4,
    "start_time": "2025-03-31T16:48:46.020Z"
   },
   {
    "duration": 6,
    "start_time": "2025-03-31T16:48:46.952Z"
   },
   {
    "duration": 3,
    "start_time": "2025-03-31T16:48:48.275Z"
   },
   {
    "duration": 15,
    "start_time": "2025-03-31T16:48:50.470Z"
   },
   {
    "duration": 14,
    "start_time": "2025-03-31T16:48:57.087Z"
   },
   {
    "duration": 14,
    "start_time": "2025-03-31T16:49:47.714Z"
   },
   {
    "duration": 33,
    "start_time": "2025-03-31T16:49:49.182Z"
   },
   {
    "duration": 15,
    "start_time": "2025-03-31T16:50:13.134Z"
   },
   {
    "duration": 19,
    "start_time": "2025-03-31T16:50:15.709Z"
   },
   {
    "duration": 13,
    "start_time": "2025-03-31T16:50:20.222Z"
   },
   {
    "duration": 7,
    "start_time": "2025-03-31T16:50:25.664Z"
   },
   {
    "duration": 3,
    "start_time": "2025-03-31T16:50:26.409Z"
   },
   {
    "duration": 11,
    "start_time": "2025-03-31T16:50:27.359Z"
   },
   {
    "duration": 34,
    "start_time": "2025-03-31T16:50:30.012Z"
   },
   {
    "duration": 24,
    "start_time": "2025-03-31T16:50:30.839Z"
   },
   {
    "duration": 542,
    "start_time": "2025-03-31T16:50:33.542Z"
   },
   {
    "duration": 498,
    "start_time": "2025-03-31T16:50:34.459Z"
   },
   {
    "duration": 13,
    "start_time": "2025-03-31T16:50:35.594Z"
   },
   {
    "duration": 319,
    "start_time": "2025-03-31T16:50:39.650Z"
   },
   {
    "duration": 344,
    "start_time": "2025-03-31T16:50:50.836Z"
   },
   {
    "duration": 23,
    "start_time": "2025-03-31T16:50:58.171Z"
   },
   {
    "duration": 13,
    "start_time": "2025-03-31T16:51:02.741Z"
   },
   {
    "duration": 665,
    "start_time": "2025-03-31T16:53:24.763Z"
   },
   {
    "duration": 2,
    "start_time": "2025-03-31T16:53:33.496Z"
   },
   {
    "duration": 871,
    "start_time": "2025-03-31T16:53:35.139Z"
   },
   {
    "duration": 16,
    "start_time": "2025-03-31T16:53:37.900Z"
   },
   {
    "duration": 15,
    "start_time": "2025-03-31T16:53:39.920Z"
   },
   {
    "duration": 10,
    "start_time": "2025-03-31T16:53:41.853Z"
   },
   {
    "duration": 11,
    "start_time": "2025-03-31T16:53:43.959Z"
   },
   {
    "duration": 44,
    "start_time": "2025-03-31T16:53:45.984Z"
   },
   {
    "duration": 83,
    "start_time": "2025-03-31T16:53:51.831Z"
   },
   {
    "duration": 12,
    "start_time": "2025-03-31T16:53:53.943Z"
   },
   {
    "duration": 103,
    "start_time": "2025-03-31T16:53:56.142Z"
   },
   {
    "duration": 82,
    "start_time": "2025-03-31T16:53:57.914Z"
   },
   {
    "duration": 33,
    "start_time": "2025-03-31T16:53:59.129Z"
   },
   {
    "duration": 17,
    "start_time": "2025-03-31T16:54:01.435Z"
   },
   {
    "duration": 4,
    "start_time": "2025-03-31T16:54:02.501Z"
   },
   {
    "duration": 15,
    "start_time": "2025-03-31T16:54:03.640Z"
   },
   {
    "duration": 12,
    "start_time": "2025-03-31T16:54:06.432Z"
   },
   {
    "duration": 4,
    "start_time": "2025-03-31T16:54:08.681Z"
   },
   {
    "duration": 4,
    "start_time": "2025-03-31T16:54:09.965Z"
   },
   {
    "duration": 96,
    "start_time": "2025-03-31T16:54:11.872Z"
   },
   {
    "duration": 3,
    "start_time": "2025-03-31T16:54:13.415Z"
   },
   {
    "duration": 746,
    "start_time": "2025-03-31T16:54:15.295Z"
   },
   {
    "duration": 61,
    "start_time": "2025-03-31T16:54:16.963Z"
   },
   {
    "duration": 11,
    "start_time": "2025-03-31T16:54:20.018Z"
   },
   {
    "duration": 9,
    "start_time": "2025-03-31T16:54:23.689Z"
   },
   {
    "duration": 10,
    "start_time": "2025-03-31T16:54:27.595Z"
   },
   {
    "duration": 10,
    "start_time": "2025-03-31T16:54:31.110Z"
   },
   {
    "duration": 7,
    "start_time": "2025-03-31T16:54:33.625Z"
   },
   {
    "duration": 12,
    "start_time": "2025-03-31T16:54:36.047Z"
   },
   {
    "duration": 6,
    "start_time": "2025-03-31T16:54:38.563Z"
   },
   {
    "duration": 24,
    "start_time": "2025-03-31T16:54:40.862Z"
   },
   {
    "duration": 31,
    "start_time": "2025-03-31T16:54:43.178Z"
   },
   {
    "duration": 7,
    "start_time": "2025-03-31T16:54:44.734Z"
   },
   {
    "duration": 811,
    "start_time": "2025-03-31T16:54:46.931Z"
   },
   {
    "duration": 248,
    "start_time": "2025-03-31T16:54:48.203Z"
   },
   {
    "duration": 8,
    "start_time": "2025-03-31T16:54:50.387Z"
   },
   {
    "duration": 237,
    "start_time": "2025-03-31T16:54:52.007Z"
   },
   {
    "duration": 50,
    "start_time": "2025-03-31T16:54:54.323Z"
   },
   {
    "duration": 6,
    "start_time": "2025-03-31T16:54:58.760Z"
   },
   {
    "duration": 4,
    "start_time": "2025-03-31T16:55:00.683Z"
   },
   {
    "duration": 7,
    "start_time": "2025-03-31T16:55:02.082Z"
   },
   {
    "duration": 3,
    "start_time": "2025-03-31T16:55:03.761Z"
   },
   {
    "duration": 123,
    "start_time": "2025-03-31T16:55:07.257Z"
   },
   {
    "duration": 129,
    "start_time": "2025-03-31T16:55:11.737Z"
   },
   {
    "duration": 111,
    "start_time": "2025-03-31T16:55:15.035Z"
   },
   {
    "duration": 7,
    "start_time": "2025-03-31T16:55:19.460Z"
   },
   {
    "duration": 3,
    "start_time": "2025-03-31T16:55:20.392Z"
   },
   {
    "duration": 94,
    "start_time": "2025-03-31T16:55:21.313Z"
   },
   {
    "duration": 37,
    "start_time": "2025-03-31T16:55:25.818Z"
   },
   {
    "duration": 108,
    "start_time": "2025-03-31T16:55:27.924Z"
   },
   {
    "duration": 548,
    "start_time": "2025-03-31T16:55:33.019Z"
   },
   {
    "duration": 517,
    "start_time": "2025-03-31T16:55:34.041Z"
   },
   {
    "duration": 13,
    "start_time": "2025-03-31T16:55:35.014Z"
   },
   {
    "duration": 479,
    "start_time": "2025-03-31T16:55:40.131Z"
   },
   {
    "duration": 365,
    "start_time": "2025-03-31T16:55:48.442Z"
   },
   {
    "duration": 11,
    "start_time": "2025-03-31T16:55:49.415Z"
   },
   {
    "duration": 358,
    "start_time": "2025-03-31T16:55:52.319Z"
   },
   {
    "duration": 12,
    "start_time": "2025-03-31T16:55:53.094Z"
   },
   {
    "duration": 713,
    "start_time": "2025-03-31T16:55:56.236Z"
   },
   {
    "duration": 290,
    "start_time": "2025-03-31T16:55:57.079Z"
   },
   {
    "duration": 11,
    "start_time": "2025-03-31T16:55:57.868Z"
   },
   {
    "duration": 106,
    "start_time": "2025-03-31T16:56:00.095Z"
   },
   {
    "duration": 51,
    "start_time": "2025-03-31T16:56:00.887Z"
   },
   {
    "duration": 7,
    "start_time": "2025-03-31T16:56:01.490Z"
   },
   {
    "duration": 15,
    "start_time": "2025-03-31T16:57:39.378Z"
   },
   {
    "duration": 52,
    "start_time": "2025-03-31T16:57:53.063Z"
   },
   {
    "duration": 15,
    "start_time": "2025-03-31T16:57:54.151Z"
   },
   {
    "duration": 288,
    "start_time": "2025-03-31T16:58:08.744Z"
   },
   {
    "duration": 208,
    "start_time": "2025-03-31T16:59:26.053Z"
   },
   {
    "duration": 184,
    "start_time": "2025-03-31T16:59:38.170Z"
   },
   {
    "duration": 320,
    "start_time": "2025-04-01T05:00:46.189Z"
   },
   {
    "duration": 1031,
    "start_time": "2025-04-01T05:00:46.511Z"
   },
   {
    "duration": 20,
    "start_time": "2025-04-01T05:00:47.544Z"
   },
   {
    "duration": 12,
    "start_time": "2025-04-01T05:00:47.566Z"
   },
   {
    "duration": 30,
    "start_time": "2025-04-01T05:00:47.580Z"
   },
   {
    "duration": 10,
    "start_time": "2025-04-01T05:00:47.612Z"
   },
   {
    "duration": 41,
    "start_time": "2025-04-01T05:00:47.623Z"
   },
   {
    "duration": 108,
    "start_time": "2025-04-01T05:00:47.666Z"
   },
   {
    "duration": 12,
    "start_time": "2025-04-01T05:00:47.777Z"
   },
   {
    "duration": 107,
    "start_time": "2025-04-01T05:00:47.792Z"
   },
   {
    "duration": 83,
    "start_time": "2025-04-01T05:00:47.901Z"
   },
   {
    "duration": 45,
    "start_time": "2025-04-01T05:00:47.986Z"
   },
   {
    "duration": 12,
    "start_time": "2025-04-01T05:00:48.033Z"
   },
   {
    "duration": 3,
    "start_time": "2025-04-01T05:00:48.047Z"
   },
   {
    "duration": 15,
    "start_time": "2025-04-01T05:00:48.051Z"
   },
   {
    "duration": 10,
    "start_time": "2025-04-01T05:00:48.068Z"
   },
   {
    "duration": 3,
    "start_time": "2025-04-01T05:00:48.080Z"
   },
   {
    "duration": 27,
    "start_time": "2025-04-01T05:00:48.084Z"
   },
   {
    "duration": 78,
    "start_time": "2025-04-01T05:00:48.113Z"
   },
   {
    "duration": 4,
    "start_time": "2025-04-01T05:00:48.209Z"
   },
   {
    "duration": 774,
    "start_time": "2025-04-01T05:00:48.214Z"
   },
   {
    "duration": 75,
    "start_time": "2025-04-01T05:00:48.990Z"
   },
   {
    "duration": 11,
    "start_time": "2025-04-01T05:00:49.067Z"
   },
   {
    "duration": 10,
    "start_time": "2025-04-01T05:00:49.079Z"
   },
   {
    "duration": 27,
    "start_time": "2025-04-01T05:00:49.091Z"
   },
   {
    "duration": 9,
    "start_time": "2025-04-01T05:00:49.119Z"
   },
   {
    "duration": 8,
    "start_time": "2025-04-01T05:00:49.129Z"
   },
   {
    "duration": 12,
    "start_time": "2025-04-01T05:00:49.143Z"
   },
   {
    "duration": 4,
    "start_time": "2025-04-01T05:00:49.157Z"
   },
   {
    "duration": 60,
    "start_time": "2025-04-01T05:00:49.163Z"
   },
   {
    "duration": 31,
    "start_time": "2025-04-01T05:00:49.225Z"
   },
   {
    "duration": 8,
    "start_time": "2025-04-01T05:00:49.258Z"
   },
   {
    "duration": 873,
    "start_time": "2025-04-01T05:00:49.267Z"
   },
   {
    "duration": 263,
    "start_time": "2025-04-01T05:00:50.142Z"
   },
   {
    "duration": 8,
    "start_time": "2025-04-01T05:00:50.409Z"
   },
   {
    "duration": 256,
    "start_time": "2025-04-01T05:00:50.419Z"
   },
   {
    "duration": 42,
    "start_time": "2025-04-01T05:00:50.677Z"
   },
   {
    "duration": 6,
    "start_time": "2025-04-01T05:00:50.721Z"
   },
   {
    "duration": 3,
    "start_time": "2025-04-01T05:00:50.728Z"
   },
   {
    "duration": 6,
    "start_time": "2025-04-01T05:00:50.733Z"
   },
   {
    "duration": 3,
    "start_time": "2025-04-01T05:00:50.740Z"
   },
   {
    "duration": 1948,
    "start_time": "2025-04-01T05:00:50.745Z"
   },
   {
    "duration": 123,
    "start_time": "2025-04-01T05:00:52.695Z"
   },
   {
    "duration": 116,
    "start_time": "2025-04-01T05:00:52.820Z"
   },
   {
    "duration": 7,
    "start_time": "2025-04-01T05:00:52.938Z"
   },
   {
    "duration": 3,
    "start_time": "2025-04-01T05:00:52.946Z"
   },
   {
    "duration": 110,
    "start_time": "2025-04-01T05:00:52.950Z"
   },
   {
    "duration": 35,
    "start_time": "2025-04-01T05:00:53.061Z"
   },
   {
    "duration": 260,
    "start_time": "2025-04-01T05:00:53.098Z"
   },
   {
    "duration": 589,
    "start_time": "2025-04-01T05:00:53.360Z"
   },
   {
    "duration": 514,
    "start_time": "2025-04-01T05:00:53.950Z"
   },
   {
    "duration": 13,
    "start_time": "2025-04-01T05:00:54.466Z"
   },
   {
    "duration": 497,
    "start_time": "2025-04-01T05:00:54.480Z"
   },
   {
    "duration": 381,
    "start_time": "2025-04-01T05:00:54.980Z"
   },
   {
    "duration": 11,
    "start_time": "2025-04-01T05:00:55.364Z"
   },
   {
    "duration": 368,
    "start_time": "2025-04-01T05:00:55.376Z"
   },
   {
    "duration": 12,
    "start_time": "2025-04-01T05:00:55.745Z"
   },
   {
    "duration": 684,
    "start_time": "2025-04-01T05:00:55.759Z"
   },
   {
    "duration": 292,
    "start_time": "2025-04-01T05:00:56.444Z"
   },
   {
    "duration": 11,
    "start_time": "2025-04-01T05:00:56.737Z"
   },
   {
    "duration": 113,
    "start_time": "2025-04-01T05:00:56.749Z"
   },
   {
    "duration": 51,
    "start_time": "2025-04-01T05:00:56.863Z"
   },
   {
    "duration": 7,
    "start_time": "2025-04-01T05:00:56.916Z"
   },
   {
    "duration": 2200,
    "start_time": "2025-04-01T19:52:50.311Z"
   },
   {
    "duration": 125,
    "start_time": "2025-04-01T19:53:01.339Z"
   },
   {
    "duration": 996,
    "start_time": "2025-04-01T19:53:03.250Z"
   },
   {
    "duration": 19,
    "start_time": "2025-04-01T19:53:07.323Z"
   },
   {
    "duration": 15,
    "start_time": "2025-04-01T19:53:09.643Z"
   },
   {
    "duration": 15,
    "start_time": "2025-04-01T19:53:11.653Z"
   },
   {
    "duration": 11,
    "start_time": "2025-04-01T19:53:13.200Z"
   },
   {
    "duration": 42,
    "start_time": "2025-04-01T19:53:14.599Z"
   },
   {
    "duration": 84,
    "start_time": "2025-04-01T19:53:20.343Z"
   },
   {
    "duration": 12,
    "start_time": "2025-04-01T19:53:23.350Z"
   },
   {
    "duration": 93,
    "start_time": "2025-04-01T19:53:25.866Z"
   },
   {
    "duration": 82,
    "start_time": "2025-04-01T19:53:27.632Z"
   },
   {
    "duration": 32,
    "start_time": "2025-04-01T19:53:28.619Z"
   },
   {
    "duration": 14,
    "start_time": "2025-04-01T19:53:31.220Z"
   },
   {
    "duration": 4,
    "start_time": "2025-04-01T19:53:32.203Z"
   },
   {
    "duration": 16,
    "start_time": "2025-04-01T19:53:33.075Z"
   },
   {
    "duration": 12,
    "start_time": "2025-04-01T19:53:34.796Z"
   },
   {
    "duration": 3,
    "start_time": "2025-04-01T19:53:37.482Z"
   },
   {
    "duration": 4,
    "start_time": "2025-04-01T19:53:38.411Z"
   },
   {
    "duration": 96,
    "start_time": "2025-04-01T19:53:40.063Z"
   },
   {
    "duration": 3,
    "start_time": "2025-04-01T19:53:40.939Z"
   },
   {
    "duration": 741,
    "start_time": "2025-04-01T19:53:42.397Z"
   },
   {
    "duration": 62,
    "start_time": "2025-04-01T19:53:43.998Z"
   },
   {
    "duration": 13,
    "start_time": "2025-04-01T19:53:46.639Z"
   },
   {
    "duration": 11,
    "start_time": "2025-04-01T19:53:48.978Z"
   },
   {
    "duration": 11,
    "start_time": "2025-04-01T19:53:51.651Z"
   },
   {
    "duration": 11,
    "start_time": "2025-04-01T19:53:53.976Z"
   },
   {
    "duration": 7,
    "start_time": "2025-04-01T19:53:55.804Z"
   },
   {
    "duration": 13,
    "start_time": "2025-04-01T19:53:57.610Z"
   },
   {
    "duration": 5,
    "start_time": "2025-04-01T19:53:59.411Z"
   },
   {
    "duration": 24,
    "start_time": "2025-04-01T19:54:00.813Z"
   },
   {
    "duration": 35,
    "start_time": "2025-04-01T19:54:02.941Z"
   },
   {
    "duration": 8,
    "start_time": "2025-04-01T19:54:05.573Z"
   },
   {
    "duration": 837,
    "start_time": "2025-04-01T19:54:07.776Z"
   },
   {
    "duration": 270,
    "start_time": "2025-04-01T19:54:09.962Z"
   },
   {
    "duration": 9,
    "start_time": "2025-04-01T19:54:12.196Z"
   },
   {
    "duration": 246,
    "start_time": "2025-04-01T19:54:13.963Z"
   },
   {
    "duration": 33,
    "start_time": "2025-04-01T19:54:16.282Z"
   },
   {
    "duration": 6,
    "start_time": "2025-04-01T19:54:20.490Z"
   },
   {
    "duration": 3,
    "start_time": "2025-04-01T19:54:23.506Z"
   },
   {
    "duration": 6,
    "start_time": "2025-04-01T19:54:24.681Z"
   },
   {
    "duration": 3,
    "start_time": "2025-04-01T19:54:26.553Z"
   },
   {
    "duration": 123,
    "start_time": "2025-04-01T19:54:28.771Z"
   },
   {
    "duration": 127,
    "start_time": "2025-04-01T19:54:31.870Z"
   },
   {
    "duration": 146,
    "start_time": "2025-04-01T19:54:34.925Z"
   },
   {
    "duration": 250,
    "start_time": "2025-04-01T19:54:39.115Z"
   },
   {
    "duration": 229,
    "start_time": "2025-04-01T19:57:34.553Z"
   },
   {
    "duration": 219,
    "start_time": "2025-04-01T19:57:55.966Z"
   },
   {
    "duration": 227,
    "start_time": "2025-04-01T19:58:01.824Z"
   },
   {
    "duration": 217,
    "start_time": "2025-04-01T19:59:21.812Z"
   },
   {
    "duration": 314,
    "start_time": "2025-04-01T20:00:49.639Z"
   },
   {
    "duration": 219,
    "start_time": "2025-04-01T20:01:05.855Z"
   }
  ],
  "colab": {
   "provenance": []
  },
  "kernelspec": {
   "display_name": "Python 3 (ipykernel)",
   "language": "python",
   "name": "python3"
  },
  "language_info": {
   "codemirror_mode": {
    "name": "ipython",
    "version": 3
   },
   "file_extension": ".py",
   "mimetype": "text/x-python",
   "name": "python",
   "nbconvert_exporter": "python",
   "pygments_lexer": "ipython3",
   "version": "3.9.19"
  },
  "toc": {
   "base_numbering": 1,
   "nav_menu": {},
   "number_sections": true,
   "sideBar": true,
   "skip_h1_title": true,
   "title_cell": "Table of Contents",
   "title_sidebar": "Contents",
   "toc_cell": false,
   "toc_position": {},
   "toc_section_display": true,
   "toc_window_display": false
  },
  "vscode": {
   "interpreter": {
    "hash": "01a7be9ec63e704a62cefc5fe7a4756944464ee731be31632bdf42a4cb4688cf"
   }
  }
 },
 "nbformat": 4,
 "nbformat_minor": 5
}
