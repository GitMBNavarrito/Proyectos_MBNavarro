{
 "cells": [
  {
   "cell_type": "markdown",
   "metadata": {},
   "source": [
    "# Hola &#x1F600;,\n",
    "\n",
    "Soy **Hesus Garcia** – **\"Soy el único Hesus que conoces (y probablemente conocerás) 🌟\"** – Sí, como \"Jesús\", pero con una H que me hace único. Puede sonar raro, pero créeme, ¡no lo olvidarás! Como tu revisor en Triple-Ten, estoy aquí para guiarte y ayudarte a mejorar tu código. Si algo necesita un ajuste, no hay de qué preocuparse; ¡aquí estoy para hacer que tu trabajo brille con todo su potencial! ✨\n",
    "\n",
    "Cada vez que encuentre un detalle importante en tu código, te lo señalaré para que puedas corregirlo y así te prepares para un ambiente de trabajo real, donde el líder de tu equipo actuaría de manera similar. Si en algún momento no logras solucionar el problema, te daré más detalles para ayudarte en nuestra próxima oportunidad de revisión.\n",
    "\n",
    "Es importante que cuando encuentres un comentario, **no los muevas, no los modifiques, ni los borres**.\n",
    "\n",
    "---\n",
    "\n",
    "### Formato de Comentarios\n",
    "\n",
    "Revisaré cuidadosamente cada implementación en tu notebook para asegurar que cumpla con los requisitos y te daré comentarios de acuerdo al siguiente formato:\n",
    "\n",
    "\n",
    "<div class=\"alert alert-block alert-success\">\n",
    "<b>Comentario del revisor</b> <a class=\"tocSkip\"></a><br>\n",
    "    \n",
    "<b>Éxito</b> - ¡Excelente trabajo! Esta parte está bien implementada y contribuye significativamente al análisis de datos o al proyecto. Continúa aplicando estas buenas prácticas en futuras secciones.\n",
    "    \n",
    "</div>\n",
    "\n",
    "<div class=\"alert alert-block alert-warning\">\n",
    "<b>Comentario del revisor</b> <a class=\"tocSkip\"></a><br>\n",
    "    \n",
    "<b>Atención</b> ⚠️ - Este código está correcto, pero se puede optimizar. Considera implementar mejoras para que sea más eficiente y fácil de leer. Esto fortalecerá la calidad de tu proyecto.\n",
    "    \n",
    "</div>\n",
    "\n",
    "<div class=\"alert alert-block alert-danger\">\n",
    "<b>Comentario del revisor</b> <a class=\"tocSkip\"></a><br>\n",
    "    \n",
    "<b>A resolver</b> ❗ - Aquí hay un problema o error en el código que es necesario corregir para aprobar esta sección. Por favor, revisa y corrige este punto, ya que es fundamental para la validez del análisis y la precisión de los resultados.\n",
    "    \n",
    "</div>\n",
    "\n",
    "---\n",
    "\n",
    "Al final de cada revisión, recibirás un **Comentario General del Revisor** que incluirá:\n",
    "\n",
    "- **Aspectos positivos:** Un resumen de los puntos fuertes de tu proyecto.\n",
    "- **Áreas de mejora:** Sugerencias sobre aspectos donde puedes mejorar.\n",
    "- **Temas adicionales para investigar:** Ideas de temas opcionales que puedes explorar por tu cuenta para desarrollar aún más tus habilidades.\n",
    "\n",
    "Estos temas adicionales no son obligatorios en esta etapa, pero pueden serte útiles para profundizar en el futuro.\n",
    "\n",
    "---\n",
    "\n",
    "\n",
    "Esta estructura en viñetas facilita la lectura y comprensión de cada parte del comentario final.\n",
    "\n",
    "También puedes responderme de la siguiente manera si tienes alguna duda o quieres aclarar algo específico:\n",
    "\n",
    "\n",
    "<div class=\"alert alert-block alert-info\">\n",
    "<b>Respuesta del estudiante</b> <a class=\"tocSkip\"></a>\n",
    "    \n",
    "Aquí puedes escribir tu respuesta o pregunta sobre el comentario.\n",
    "    \n",
    "</div>\n",
    "\n",
    "\n",
    "**¡Empecemos!** &#x1F680;\n"
   ]
  },
  {
   "cell_type": "markdown",
   "metadata": {
    "id": "3rYiDeEH0q0f"
   },
   "source": [
    "# ¿Cuál es la mejor tarifa?\n",
    "\n",
    "Trabajas como analista para el operador de telecomunicaciones Megaline. La empresa ofrece a sus clientes dos tarifas de prepago, Surf y Ultimate. El departamento comercial quiere saber cuál de las tarifas genera más ingresos para poder ajustar el presupuesto de publicidad.\n",
    "\n",
    "Vas a realizar un análisis preliminar de las tarifas basado en una selección de clientes relativamente pequeña. Tendrás los datos de 500 clientes de Megaline: quiénes son los clientes, de dónde son, qué tarifa usan, así como la cantidad de llamadas que hicieron y los mensajes de texto que enviaron en 2018. Tu trabajo es analizar el comportamiento de los clientes y determinar qué tarifa de prepago genera más ingresos."
   ]
  },
  {
   "cell_type": "markdown",
   "metadata": {
    "id": "MQi4IPy70q0y"
   },
   "source": [
    "## Inicialización"
   ]
  },
  {
   "cell_type": "code",
   "execution_count": 1,
   "metadata": {
    "id": "MtYIuBxu0q0z",
    "trusted": true
   },
   "outputs": [],
   "source": [
    "# Cargar todas las librerias\n",
    "import pandas as pd\n",
    "import numpy as np\n",
    "from matplotlib import pyplot as plt\n",
    "import seaborn as sns\n",
    "from scipy import stats as st\n",
    "\n",
    "\n"
   ]
  },
  {
   "cell_type": "markdown",
   "metadata": {
    "id": "4ysWWC5i0q00"
   },
   "source": [
    "## Cargar datos"
   ]
  },
  {
   "cell_type": "code",
   "execution_count": 2,
   "metadata": {
    "id": "CCqPW7rS0q01",
    "trusted": true
   },
   "outputs": [],
   "source": [
    "# Carga los archivos de datos en diferentes DataFrames\n",
    "df_users = pd.read_csv('/datasets/megaline_users.csv')\n",
    "df_plans = pd.read_csv('/datasets/megaline_plans.csv')\n",
    "df_messages = pd.read_csv('/datasets/megaline_messages.csv')\n",
    "df_internet = pd.read_csv('/datasets/megaline_internet.csv')\n",
    "df_calls = pd.read_csv('/datasets/megaline_calls.csv')\n"
   ]
  },
  {
   "cell_type": "markdown",
   "metadata": {
    "id": "69qqoJ3r0q01"
   },
   "source": [
    "## Preparar los datos"
   ]
  },
  {
   "cell_type": "markdown",
   "metadata": {},
   "source": [
    "Realizaremos una exploración de cada DataFrame, utilizando em método **(.info)** de esta manera tendremos a primera vista, como están las columnas de cada tabla, si hay valores ausentes, la calidad de la escritura de los nombres de las columnas, y así mismo, podremos ir comparando entre tablas, y determinar si tienen columnas en común para futuras concatenaciones. Con este método prodremos ver con que tipos de datos cuentan las tablas. Posteriormente haremos una visualización de los datos, usando el método **(.sample)** para mostrar aleatoriamente campos a lo largo de las tablas, utilizando una muestra de 10 filas. En caso de requerir, se corregirá datos que cuenten con escritura no adecuada, se reemplazará valores ausentes y se corregirá nombre de las columnas para los siguientes análisis."
   ]
  },
  {
   "cell_type": "markdown",
   "metadata": {
    "id": "ohBhimvH0q01"
   },
   "source": [
    "## Tarifas"
   ]
  },
  {
   "cell_type": "code",
   "execution_count": 3,
   "metadata": {
    "id": "GptqP3Q40q02",
    "trusted": true
   },
   "outputs": [
    {
     "name": "stdout",
     "output_type": "stream",
     "text": [
      "<class 'pandas.core.frame.DataFrame'>\n",
      "RangeIndex: 2 entries, 0 to 1\n",
      "Data columns (total 8 columns):\n",
      " #   Column                 Non-Null Count  Dtype  \n",
      "---  ------                 --------------  -----  \n",
      " 0   messages_included      2 non-null      int64  \n",
      " 1   mb_per_month_included  2 non-null      int64  \n",
      " 2   minutes_included       2 non-null      int64  \n",
      " 3   usd_monthly_pay        2 non-null      int64  \n",
      " 4   usd_per_gb             2 non-null      int64  \n",
      " 5   usd_per_message        2 non-null      float64\n",
      " 6   usd_per_minute         2 non-null      float64\n",
      " 7   plan_name              2 non-null      object \n",
      "dtypes: float64(2), int64(5), object(1)\n",
      "memory usage: 256.0+ bytes\n"
     ]
    }
   ],
   "source": [
    "# Imprime la información general/resumida sobre el DataFrame de las tarifas\n",
    "df_plans.info()\n"
   ]
  },
  {
   "cell_type": "code",
   "execution_count": 4,
   "metadata": {
    "id": "64xzjwL70q02",
    "trusted": true
   },
   "outputs": [
    {
     "data": {
      "text/html": [
       "<div>\n",
       "<style scoped>\n",
       "    .dataframe tbody tr th:only-of-type {\n",
       "        vertical-align: middle;\n",
       "    }\n",
       "\n",
       "    .dataframe tbody tr th {\n",
       "        vertical-align: top;\n",
       "    }\n",
       "\n",
       "    .dataframe thead th {\n",
       "        text-align: right;\n",
       "    }\n",
       "</style>\n",
       "<table border=\"1\" class=\"dataframe\">\n",
       "  <thead>\n",
       "    <tr style=\"text-align: right;\">\n",
       "      <th></th>\n",
       "      <th>messages_included</th>\n",
       "      <th>mb_per_month_included</th>\n",
       "      <th>minutes_included</th>\n",
       "      <th>usd_monthly_pay</th>\n",
       "      <th>usd_per_gb</th>\n",
       "      <th>usd_per_message</th>\n",
       "      <th>usd_per_minute</th>\n",
       "      <th>plan_name</th>\n",
       "    </tr>\n",
       "  </thead>\n",
       "  <tbody>\n",
       "    <tr>\n",
       "      <th>0</th>\n",
       "      <td>50</td>\n",
       "      <td>15360</td>\n",
       "      <td>500</td>\n",
       "      <td>20</td>\n",
       "      <td>10</td>\n",
       "      <td>0.03</td>\n",
       "      <td>0.03</td>\n",
       "      <td>surf</td>\n",
       "    </tr>\n",
       "    <tr>\n",
       "      <th>1</th>\n",
       "      <td>1000</td>\n",
       "      <td>30720</td>\n",
       "      <td>3000</td>\n",
       "      <td>70</td>\n",
       "      <td>7</td>\n",
       "      <td>0.01</td>\n",
       "      <td>0.01</td>\n",
       "      <td>ultimate</td>\n",
       "    </tr>\n",
       "  </tbody>\n",
       "</table>\n",
       "</div>"
      ],
      "text/plain": [
       "   messages_included  mb_per_month_included  minutes_included  \\\n",
       "0                 50                  15360               500   \n",
       "1               1000                  30720              3000   \n",
       "\n",
       "   usd_monthly_pay  usd_per_gb  usd_per_message  usd_per_minute plan_name  \n",
       "0               20          10             0.03            0.03      surf  \n",
       "1               70           7             0.01            0.01  ultimate  "
      ]
     },
     "execution_count": 4,
     "metadata": {},
     "output_type": "execute_result"
    }
   ],
   "source": [
    "# Imprime una muestra de los datos para las tarifas\n",
    "df_plans.head()\n"
   ]
  },
  {
   "cell_type": "markdown",
   "metadata": {},
   "source": [
    "La información de planes es la correcta, no contamos con información vacía, adicional, en caso de este DataFrame usamos el método **(.head)** ya que vemos que cuenta solo con 2 filas para la visualización de los datos, no se necesita una muestra mayor. Los datos determinados para estos planes, son los que están registrados en la tabla. Los campos señalados como flotantes, tienen 2 decimales."
   ]
  },
  {
   "cell_type": "markdown",
   "metadata": {
    "id": "R3C05i1l0q03"
   },
   "source": [
    "## Corregir datos"
   ]
  },
  {
   "cell_type": "markdown",
   "metadata": {
    "id": "bIi8StZI0q03"
   },
   "source": [
    "No hay datos que corregir."
   ]
  },
  {
   "cell_type": "markdown",
   "metadata": {
    "id": "LJir7bml0q03"
   },
   "source": [
    "## Enriquecer los datos"
   ]
  },
  {
   "cell_type": "code",
   "execution_count": 5,
   "metadata": {
    "trusted": true
   },
   "outputs": [
    {
     "data": {
      "text/html": [
       "<div>\n",
       "<style scoped>\n",
       "    .dataframe tbody tr th:only-of-type {\n",
       "        vertical-align: middle;\n",
       "    }\n",
       "\n",
       "    .dataframe tbody tr th {\n",
       "        vertical-align: top;\n",
       "    }\n",
       "\n",
       "    .dataframe thead th {\n",
       "        text-align: right;\n",
       "    }\n",
       "</style>\n",
       "<table border=\"1\" class=\"dataframe\">\n",
       "  <thead>\n",
       "    <tr style=\"text-align: right;\">\n",
       "      <th></th>\n",
       "      <th>messages_included</th>\n",
       "      <th>mb_per_month_included</th>\n",
       "      <th>minutes_included</th>\n",
       "      <th>usd_monthly_pay</th>\n",
       "      <th>usd_per_gb</th>\n",
       "      <th>usd_per_message</th>\n",
       "      <th>usd_per_minute</th>\n",
       "      <th>plan_name</th>\n",
       "      <th>gb_per_month_included</th>\n",
       "    </tr>\n",
       "  </thead>\n",
       "  <tbody>\n",
       "    <tr>\n",
       "      <th>0</th>\n",
       "      <td>50</td>\n",
       "      <td>15360</td>\n",
       "      <td>500</td>\n",
       "      <td>20</td>\n",
       "      <td>10</td>\n",
       "      <td>0.03</td>\n",
       "      <td>0.03</td>\n",
       "      <td>surf</td>\n",
       "      <td>15.0</td>\n",
       "    </tr>\n",
       "    <tr>\n",
       "      <th>1</th>\n",
       "      <td>1000</td>\n",
       "      <td>30720</td>\n",
       "      <td>3000</td>\n",
       "      <td>70</td>\n",
       "      <td>7</td>\n",
       "      <td>0.01</td>\n",
       "      <td>0.01</td>\n",
       "      <td>ultimate</td>\n",
       "      <td>30.0</td>\n",
       "    </tr>\n",
       "  </tbody>\n",
       "</table>\n",
       "</div>"
      ],
      "text/plain": [
       "   messages_included  mb_per_month_included  minutes_included  \\\n",
       "0                 50                  15360               500   \n",
       "1               1000                  30720              3000   \n",
       "\n",
       "   usd_monthly_pay  usd_per_gb  usd_per_message  usd_per_minute plan_name  \\\n",
       "0               20          10             0.03            0.03      surf   \n",
       "1               70           7             0.01            0.01  ultimate   \n",
       "\n",
       "   gb_per_month_included  \n",
       "0                   15.0  \n",
       "1                   30.0  "
      ]
     },
     "execution_count": 5,
     "metadata": {},
     "output_type": "execute_result"
    }
   ],
   "source": [
    "df_plans['gb_per_month_included'] = df_plans['mb_per_month_included'] / 1024 \n",
    "df_plans.head(10)"
   ]
  },
  {
   "cell_type": "markdown",
   "metadata": {
    "id": "eqADpCfg0q04"
   },
   "source": [
    "Se agrega el campo **gb_per_month_included** para contar con los gigas del plan y poder hacer futuras operaciones."
   ]
  },
  {
   "cell_type": "markdown",
   "metadata": {
    "id": "1n2X6WXf0q04"
   },
   "source": [
    "## Usuarios/as"
   ]
  },
  {
   "cell_type": "code",
   "execution_count": 6,
   "metadata": {
    "id": "2NgjWFqx0q05",
    "trusted": true
   },
   "outputs": [
    {
     "name": "stdout",
     "output_type": "stream",
     "text": [
      "<class 'pandas.core.frame.DataFrame'>\n",
      "RangeIndex: 500 entries, 0 to 499\n",
      "Data columns (total 8 columns):\n",
      " #   Column      Non-Null Count  Dtype \n",
      "---  ------      --------------  ----- \n",
      " 0   user_id     500 non-null    int64 \n",
      " 1   first_name  500 non-null    object\n",
      " 2   last_name   500 non-null    object\n",
      " 3   age         500 non-null    int64 \n",
      " 4   city        500 non-null    object\n",
      " 5   reg_date    500 non-null    object\n",
      " 6   plan        500 non-null    object\n",
      " 7   churn_date  34 non-null     object\n",
      "dtypes: int64(2), object(6)\n",
      "memory usage: 31.4+ KB\n"
     ]
    }
   ],
   "source": [
    "# Imprime la información general/resumida sobre el DataFrame de usuarios\n",
    "df_users.info()\n"
   ]
  },
  {
   "cell_type": "code",
   "execution_count": 7,
   "metadata": {
    "id": "1IN1L9uh0q05",
    "trusted": true
   },
   "outputs": [
    {
     "data": {
      "text/html": [
       "<div>\n",
       "<style scoped>\n",
       "    .dataframe tbody tr th:only-of-type {\n",
       "        vertical-align: middle;\n",
       "    }\n",
       "\n",
       "    .dataframe tbody tr th {\n",
       "        vertical-align: top;\n",
       "    }\n",
       "\n",
       "    .dataframe thead th {\n",
       "        text-align: right;\n",
       "    }\n",
       "</style>\n",
       "<table border=\"1\" class=\"dataframe\">\n",
       "  <thead>\n",
       "    <tr style=\"text-align: right;\">\n",
       "      <th></th>\n",
       "      <th>user_id</th>\n",
       "      <th>first_name</th>\n",
       "      <th>last_name</th>\n",
       "      <th>age</th>\n",
       "      <th>city</th>\n",
       "      <th>reg_date</th>\n",
       "      <th>plan</th>\n",
       "      <th>churn_date</th>\n",
       "    </tr>\n",
       "  </thead>\n",
       "  <tbody>\n",
       "    <tr>\n",
       "      <th>308</th>\n",
       "      <td>1308</td>\n",
       "      <td>Samara</td>\n",
       "      <td>Monroe</td>\n",
       "      <td>46</td>\n",
       "      <td>Virginia Beach-Norfolk-Newport News, VA-NC MSA</td>\n",
       "      <td>2018-11-22</td>\n",
       "      <td>surf</td>\n",
       "      <td>NaN</td>\n",
       "    </tr>\n",
       "    <tr>\n",
       "      <th>77</th>\n",
       "      <td>1077</td>\n",
       "      <td>Chau</td>\n",
       "      <td>Webster</td>\n",
       "      <td>23</td>\n",
       "      <td>Charlotte-Concord-Gastonia, NC-SC MSA</td>\n",
       "      <td>2018-01-14</td>\n",
       "      <td>ultimate</td>\n",
       "      <td>NaN</td>\n",
       "    </tr>\n",
       "    <tr>\n",
       "      <th>382</th>\n",
       "      <td>1382</td>\n",
       "      <td>Luci</td>\n",
       "      <td>Kidd</td>\n",
       "      <td>49</td>\n",
       "      <td>San Diego-Chula Vista-Carlsbad, CA MSA</td>\n",
       "      <td>2018-06-22</td>\n",
       "      <td>ultimate</td>\n",
       "      <td>NaN</td>\n",
       "    </tr>\n",
       "    <tr>\n",
       "      <th>344</th>\n",
       "      <td>1344</td>\n",
       "      <td>Hugo</td>\n",
       "      <td>Daugherty</td>\n",
       "      <td>70</td>\n",
       "      <td>New York-Newark-Jersey City, NY-NJ-PA MSA</td>\n",
       "      <td>2018-12-25</td>\n",
       "      <td>surf</td>\n",
       "      <td>NaN</td>\n",
       "    </tr>\n",
       "    <tr>\n",
       "      <th>451</th>\n",
       "      <td>1451</td>\n",
       "      <td>Lenard</td>\n",
       "      <td>Harding</td>\n",
       "      <td>53</td>\n",
       "      <td>Charlotte-Concord-Gastonia, NC-SC MSA</td>\n",
       "      <td>2018-02-15</td>\n",
       "      <td>ultimate</td>\n",
       "      <td>2018-12-10</td>\n",
       "    </tr>\n",
       "    <tr>\n",
       "      <th>335</th>\n",
       "      <td>1335</td>\n",
       "      <td>Gail</td>\n",
       "      <td>Coleman</td>\n",
       "      <td>61</td>\n",
       "      <td>Dallas-Fort Worth-Arlington, TX MSA</td>\n",
       "      <td>2018-06-02</td>\n",
       "      <td>surf</td>\n",
       "      <td>NaN</td>\n",
       "    </tr>\n",
       "    <tr>\n",
       "      <th>364</th>\n",
       "      <td>1364</td>\n",
       "      <td>Clarine</td>\n",
       "      <td>Bonner</td>\n",
       "      <td>75</td>\n",
       "      <td>San Diego-Chula Vista-Carlsbad, CA MSA</td>\n",
       "      <td>2018-08-09</td>\n",
       "      <td>surf</td>\n",
       "      <td>NaN</td>\n",
       "    </tr>\n",
       "    <tr>\n",
       "      <th>312</th>\n",
       "      <td>1312</td>\n",
       "      <td>Kory</td>\n",
       "      <td>Emerson</td>\n",
       "      <td>42</td>\n",
       "      <td>Fresno, CA MSA</td>\n",
       "      <td>2018-01-26</td>\n",
       "      <td>surf</td>\n",
       "      <td>NaN</td>\n",
       "    </tr>\n",
       "    <tr>\n",
       "      <th>139</th>\n",
       "      <td>1139</td>\n",
       "      <td>Thomas</td>\n",
       "      <td>Lawson</td>\n",
       "      <td>66</td>\n",
       "      <td>New Orleans-Metairie, LA MSA</td>\n",
       "      <td>2018-11-18</td>\n",
       "      <td>surf</td>\n",
       "      <td>NaN</td>\n",
       "    </tr>\n",
       "    <tr>\n",
       "      <th>122</th>\n",
       "      <td>1122</td>\n",
       "      <td>Lashay</td>\n",
       "      <td>Reese</td>\n",
       "      <td>57</td>\n",
       "      <td>Miami-Fort Lauderdale-West Palm Beach, FL MSA</td>\n",
       "      <td>2018-03-04</td>\n",
       "      <td>surf</td>\n",
       "      <td>NaN</td>\n",
       "    </tr>\n",
       "  </tbody>\n",
       "</table>\n",
       "</div>"
      ],
      "text/plain": [
       "     user_id first_name  last_name  age  \\\n",
       "308     1308     Samara     Monroe   46   \n",
       "77      1077       Chau    Webster   23   \n",
       "382     1382       Luci       Kidd   49   \n",
       "344     1344       Hugo  Daugherty   70   \n",
       "451     1451     Lenard    Harding   53   \n",
       "335     1335       Gail    Coleman   61   \n",
       "364     1364    Clarine     Bonner   75   \n",
       "312     1312       Kory    Emerson   42   \n",
       "139     1139     Thomas     Lawson   66   \n",
       "122     1122     Lashay      Reese   57   \n",
       "\n",
       "                                               city    reg_date      plan  \\\n",
       "308  Virginia Beach-Norfolk-Newport News, VA-NC MSA  2018-11-22      surf   \n",
       "77            Charlotte-Concord-Gastonia, NC-SC MSA  2018-01-14  ultimate   \n",
       "382          San Diego-Chula Vista-Carlsbad, CA MSA  2018-06-22  ultimate   \n",
       "344       New York-Newark-Jersey City, NY-NJ-PA MSA  2018-12-25      surf   \n",
       "451           Charlotte-Concord-Gastonia, NC-SC MSA  2018-02-15  ultimate   \n",
       "335             Dallas-Fort Worth-Arlington, TX MSA  2018-06-02      surf   \n",
       "364          San Diego-Chula Vista-Carlsbad, CA MSA  2018-08-09      surf   \n",
       "312                                  Fresno, CA MSA  2018-01-26      surf   \n",
       "139                    New Orleans-Metairie, LA MSA  2018-11-18      surf   \n",
       "122   Miami-Fort Lauderdale-West Palm Beach, FL MSA  2018-03-04      surf   \n",
       "\n",
       "     churn_date  \n",
       "308         NaN  \n",
       "77          NaN  \n",
       "382         NaN  \n",
       "344         NaN  \n",
       "451  2018-12-10  \n",
       "335         NaN  \n",
       "364         NaN  \n",
       "312         NaN  \n",
       "139         NaN  \n",
       "122         NaN  "
      ]
     },
     "execution_count": 7,
     "metadata": {},
     "output_type": "execute_result"
    }
   ],
   "source": [
    "# Imprime una muestra de datos para usuarios\n",
    "df_users.sample(10)\n"
   ]
  },
  {
   "cell_type": "markdown",
   "metadata": {},
   "source": [
    "Contamos con datos faltantes en la columna **churn_date**, así como vemos que el nombre de la columna **plan** es diferente al campo de la tabla **df_plans**. El formato de fecha en **reg_date** es de tipo objet, por lo que debemos transformarles a formato datetime."
   ]
  },
  {
   "cell_type": "markdown",
   "metadata": {
    "id": "BX5FQh_I0q06"
   },
   "source": [
    "### Corregir los datos"
   ]
  },
  {
   "cell_type": "code",
   "execution_count": 8,
   "metadata": {
    "trusted": true
   },
   "outputs": [
    {
     "data": {
      "text/html": [
       "<div>\n",
       "<style scoped>\n",
       "    .dataframe tbody tr th:only-of-type {\n",
       "        vertical-align: middle;\n",
       "    }\n",
       "\n",
       "    .dataframe tbody tr th {\n",
       "        vertical-align: top;\n",
       "    }\n",
       "\n",
       "    .dataframe thead th {\n",
       "        text-align: right;\n",
       "    }\n",
       "</style>\n",
       "<table border=\"1\" class=\"dataframe\">\n",
       "  <thead>\n",
       "    <tr style=\"text-align: right;\">\n",
       "      <th></th>\n",
       "      <th>user_id</th>\n",
       "      <th>first_name</th>\n",
       "      <th>last_name</th>\n",
       "      <th>age</th>\n",
       "      <th>city</th>\n",
       "      <th>reg_date</th>\n",
       "      <th>plan_name</th>\n",
       "      <th>churn_date</th>\n",
       "    </tr>\n",
       "  </thead>\n",
       "  <tbody>\n",
       "    <tr>\n",
       "      <th>446</th>\n",
       "      <td>1446</td>\n",
       "      <td>Pasquale</td>\n",
       "      <td>Ball</td>\n",
       "      <td>52</td>\n",
       "      <td>Austin-Round Rock-Georgetown, TX MSA</td>\n",
       "      <td>2018-09-10</td>\n",
       "      <td>surf</td>\n",
       "      <td>NaN</td>\n",
       "    </tr>\n",
       "    <tr>\n",
       "      <th>9</th>\n",
       "      <td>1009</td>\n",
       "      <td>Gerry</td>\n",
       "      <td>Little</td>\n",
       "      <td>19</td>\n",
       "      <td>San Jose-Sunnyvale-Santa Clara, CA MSA</td>\n",
       "      <td>2018-04-22</td>\n",
       "      <td>surf</td>\n",
       "      <td>NaN</td>\n",
       "    </tr>\n",
       "    <tr>\n",
       "      <th>332</th>\n",
       "      <td>1332</td>\n",
       "      <td>Lucas</td>\n",
       "      <td>Saunders</td>\n",
       "      <td>37</td>\n",
       "      <td>Atlanta-Sandy Springs-Roswell, GA MSA</td>\n",
       "      <td>2018-03-12</td>\n",
       "      <td>surf</td>\n",
       "      <td>NaN</td>\n",
       "    </tr>\n",
       "    <tr>\n",
       "      <th>260</th>\n",
       "      <td>1260</td>\n",
       "      <td>Alia</td>\n",
       "      <td>Aguilar</td>\n",
       "      <td>36</td>\n",
       "      <td>Los Angeles-Long Beach-Anaheim, CA MSA</td>\n",
       "      <td>2018-12-02</td>\n",
       "      <td>surf</td>\n",
       "      <td>NaN</td>\n",
       "    </tr>\n",
       "    <tr>\n",
       "      <th>460</th>\n",
       "      <td>1460</td>\n",
       "      <td>Winford</td>\n",
       "      <td>Underwood</td>\n",
       "      <td>46</td>\n",
       "      <td>Fresno, CA MSA</td>\n",
       "      <td>2018-05-28</td>\n",
       "      <td>ultimate</td>\n",
       "      <td>NaN</td>\n",
       "    </tr>\n",
       "    <tr>\n",
       "      <th>153</th>\n",
       "      <td>1153</td>\n",
       "      <td>Kathaleen</td>\n",
       "      <td>Crawford</td>\n",
       "      <td>30</td>\n",
       "      <td>Bridgeport-Stamford-Norwalk, CT MSA</td>\n",
       "      <td>2018-06-19</td>\n",
       "      <td>surf</td>\n",
       "      <td>NaN</td>\n",
       "    </tr>\n",
       "    <tr>\n",
       "      <th>470</th>\n",
       "      <td>1470</td>\n",
       "      <td>Gerald</td>\n",
       "      <td>Reese</td>\n",
       "      <td>45</td>\n",
       "      <td>Washington-Arlington-Alexandria, DC-VA-MD-WV MSA</td>\n",
       "      <td>2018-04-21</td>\n",
       "      <td>surf</td>\n",
       "      <td>NaN</td>\n",
       "    </tr>\n",
       "    <tr>\n",
       "      <th>408</th>\n",
       "      <td>1408</td>\n",
       "      <td>Alaine</td>\n",
       "      <td>Robertson</td>\n",
       "      <td>40</td>\n",
       "      <td>Baltimore-Columbia-Towson, MD MSA</td>\n",
       "      <td>2018-01-11</td>\n",
       "      <td>surf</td>\n",
       "      <td>NaN</td>\n",
       "    </tr>\n",
       "    <tr>\n",
       "      <th>0</th>\n",
       "      <td>1000</td>\n",
       "      <td>Anamaria</td>\n",
       "      <td>Bauer</td>\n",
       "      <td>45</td>\n",
       "      <td>Atlanta-Sandy Springs-Roswell, GA MSA</td>\n",
       "      <td>2018-12-24</td>\n",
       "      <td>ultimate</td>\n",
       "      <td>NaN</td>\n",
       "    </tr>\n",
       "    <tr>\n",
       "      <th>131</th>\n",
       "      <td>1131</td>\n",
       "      <td>Shane</td>\n",
       "      <td>Morrison</td>\n",
       "      <td>60</td>\n",
       "      <td>Los Angeles-Long Beach-Anaheim, CA MSA</td>\n",
       "      <td>2018-01-07</td>\n",
       "      <td>surf</td>\n",
       "      <td>NaN</td>\n",
       "    </tr>\n",
       "  </tbody>\n",
       "</table>\n",
       "</div>"
      ],
      "text/plain": [
       "     user_id first_name  last_name  age  \\\n",
       "446     1446   Pasquale       Ball   52   \n",
       "9       1009      Gerry     Little   19   \n",
       "332     1332      Lucas   Saunders   37   \n",
       "260     1260       Alia    Aguilar   36   \n",
       "460     1460    Winford  Underwood   46   \n",
       "153     1153  Kathaleen   Crawford   30   \n",
       "470     1470     Gerald      Reese   45   \n",
       "408     1408     Alaine  Robertson   40   \n",
       "0       1000   Anamaria      Bauer   45   \n",
       "131     1131      Shane   Morrison   60   \n",
       "\n",
       "                                                 city    reg_date plan_name  \\\n",
       "446              Austin-Round Rock-Georgetown, TX MSA  2018-09-10      surf   \n",
       "9              San Jose-Sunnyvale-Santa Clara, CA MSA  2018-04-22      surf   \n",
       "332             Atlanta-Sandy Springs-Roswell, GA MSA  2018-03-12      surf   \n",
       "260            Los Angeles-Long Beach-Anaheim, CA MSA  2018-12-02      surf   \n",
       "460                                    Fresno, CA MSA  2018-05-28  ultimate   \n",
       "153               Bridgeport-Stamford-Norwalk, CT MSA  2018-06-19      surf   \n",
       "470  Washington-Arlington-Alexandria, DC-VA-MD-WV MSA  2018-04-21      surf   \n",
       "408                 Baltimore-Columbia-Towson, MD MSA  2018-01-11      surf   \n",
       "0               Atlanta-Sandy Springs-Roswell, GA MSA  2018-12-24  ultimate   \n",
       "131            Los Angeles-Long Beach-Anaheim, CA MSA  2018-01-07      surf   \n",
       "\n",
       "    churn_date  \n",
       "446        NaN  \n",
       "9          NaN  \n",
       "332        NaN  \n",
       "260        NaN  \n",
       "460        NaN  \n",
       "153        NaN  \n",
       "470        NaN  \n",
       "408        NaN  \n",
       "0          NaN  \n",
       "131        NaN  "
      ]
     },
     "execution_count": 8,
     "metadata": {},
     "output_type": "execute_result"
    }
   ],
   "source": [
    "df_users = df_users.rename(columns={'plan': 'plan_name'})\n",
    "df_users.sample(10)"
   ]
  },
  {
   "cell_type": "code",
   "execution_count": 9,
   "metadata": {
    "trusted": true
   },
   "outputs": [
    {
     "data": {
      "text/html": [
       "<div>\n",
       "<style scoped>\n",
       "    .dataframe tbody tr th:only-of-type {\n",
       "        vertical-align: middle;\n",
       "    }\n",
       "\n",
       "    .dataframe tbody tr th {\n",
       "        vertical-align: top;\n",
       "    }\n",
       "\n",
       "    .dataframe thead th {\n",
       "        text-align: right;\n",
       "    }\n",
       "</style>\n",
       "<table border=\"1\" class=\"dataframe\">\n",
       "  <thead>\n",
       "    <tr style=\"text-align: right;\">\n",
       "      <th></th>\n",
       "      <th>user_id</th>\n",
       "      <th>first_name</th>\n",
       "      <th>last_name</th>\n",
       "      <th>age</th>\n",
       "      <th>city</th>\n",
       "      <th>reg_date</th>\n",
       "      <th>plan_name</th>\n",
       "      <th>churn_date</th>\n",
       "    </tr>\n",
       "  </thead>\n",
       "  <tbody>\n",
       "    <tr>\n",
       "      <th>443</th>\n",
       "      <td>1443</td>\n",
       "      <td>Genaro</td>\n",
       "      <td>Quinn</td>\n",
       "      <td>58</td>\n",
       "      <td>Atlanta-Sandy Springs-Roswell, GA MSA</td>\n",
       "      <td>2018-03-11</td>\n",
       "      <td>surf</td>\n",
       "      <td>Activo</td>\n",
       "    </tr>\n",
       "    <tr>\n",
       "      <th>0</th>\n",
       "      <td>1000</td>\n",
       "      <td>Anamaria</td>\n",
       "      <td>Bauer</td>\n",
       "      <td>45</td>\n",
       "      <td>Atlanta-Sandy Springs-Roswell, GA MSA</td>\n",
       "      <td>2018-12-24</td>\n",
       "      <td>ultimate</td>\n",
       "      <td>Activo</td>\n",
       "    </tr>\n",
       "    <tr>\n",
       "      <th>165</th>\n",
       "      <td>1165</td>\n",
       "      <td>Nigel</td>\n",
       "      <td>Huber</td>\n",
       "      <td>20</td>\n",
       "      <td>Philadelphia-Camden-Wilmington, PA-NJ-DE-MD MSA</td>\n",
       "      <td>2018-10-27</td>\n",
       "      <td>surf</td>\n",
       "      <td>Activo</td>\n",
       "    </tr>\n",
       "    <tr>\n",
       "      <th>7</th>\n",
       "      <td>1007</td>\n",
       "      <td>Eusebio</td>\n",
       "      <td>Welch</td>\n",
       "      <td>42</td>\n",
       "      <td>Grand Rapids-Kentwood, MI MSA</td>\n",
       "      <td>2018-07-11</td>\n",
       "      <td>surf</td>\n",
       "      <td>Activo</td>\n",
       "    </tr>\n",
       "    <tr>\n",
       "      <th>148</th>\n",
       "      <td>1148</td>\n",
       "      <td>Dwana</td>\n",
       "      <td>Moore</td>\n",
       "      <td>67</td>\n",
       "      <td>Columbia, SC MSA</td>\n",
       "      <td>2018-11-04</td>\n",
       "      <td>surf</td>\n",
       "      <td>Activo</td>\n",
       "    </tr>\n",
       "    <tr>\n",
       "      <th>370</th>\n",
       "      <td>1370</td>\n",
       "      <td>Nenita</td>\n",
       "      <td>Vasquez</td>\n",
       "      <td>49</td>\n",
       "      <td>San Diego-Chula Vista-Carlsbad, CA MSA</td>\n",
       "      <td>2018-09-12</td>\n",
       "      <td>ultimate</td>\n",
       "      <td>Activo</td>\n",
       "    </tr>\n",
       "    <tr>\n",
       "      <th>147</th>\n",
       "      <td>1147</td>\n",
       "      <td>Duncan</td>\n",
       "      <td>Malone</td>\n",
       "      <td>71</td>\n",
       "      <td>Urban Honolulu, HI MSA</td>\n",
       "      <td>2018-04-30</td>\n",
       "      <td>surf</td>\n",
       "      <td>Activo</td>\n",
       "    </tr>\n",
       "    <tr>\n",
       "      <th>256</th>\n",
       "      <td>1256</td>\n",
       "      <td>Johnny</td>\n",
       "      <td>Wise</td>\n",
       "      <td>53</td>\n",
       "      <td>Chicago-Naperville-Elgin, IL-IN-WI MSA</td>\n",
       "      <td>2018-09-11</td>\n",
       "      <td>surf</td>\n",
       "      <td>Activo</td>\n",
       "    </tr>\n",
       "    <tr>\n",
       "      <th>263</th>\n",
       "      <td>1263</td>\n",
       "      <td>Lucio</td>\n",
       "      <td>Duffy</td>\n",
       "      <td>39</td>\n",
       "      <td>Boston-Cambridge-Newton, MA-NH MSA</td>\n",
       "      <td>2018-03-06</td>\n",
       "      <td>surf</td>\n",
       "      <td>Activo</td>\n",
       "    </tr>\n",
       "    <tr>\n",
       "      <th>463</th>\n",
       "      <td>1463</td>\n",
       "      <td>Dinorah</td>\n",
       "      <td>Simmons</td>\n",
       "      <td>30</td>\n",
       "      <td>Atlanta-Sandy Springs-Roswell, GA MSA</td>\n",
       "      <td>2018-11-27</td>\n",
       "      <td>ultimate</td>\n",
       "      <td>Activo</td>\n",
       "    </tr>\n",
       "  </tbody>\n",
       "</table>\n",
       "</div>"
      ],
      "text/plain": [
       "     user_id first_name last_name  age  \\\n",
       "443     1443     Genaro     Quinn   58   \n",
       "0       1000   Anamaria     Bauer   45   \n",
       "165     1165      Nigel     Huber   20   \n",
       "7       1007    Eusebio     Welch   42   \n",
       "148     1148      Dwana     Moore   67   \n",
       "370     1370     Nenita   Vasquez   49   \n",
       "147     1147     Duncan    Malone   71   \n",
       "256     1256     Johnny      Wise   53   \n",
       "263     1263      Lucio     Duffy   39   \n",
       "463     1463    Dinorah   Simmons   30   \n",
       "\n",
       "                                                city    reg_date plan_name  \\\n",
       "443            Atlanta-Sandy Springs-Roswell, GA MSA  2018-03-11      surf   \n",
       "0              Atlanta-Sandy Springs-Roswell, GA MSA  2018-12-24  ultimate   \n",
       "165  Philadelphia-Camden-Wilmington, PA-NJ-DE-MD MSA  2018-10-27      surf   \n",
       "7                      Grand Rapids-Kentwood, MI MSA  2018-07-11      surf   \n",
       "148                                 Columbia, SC MSA  2018-11-04      surf   \n",
       "370           San Diego-Chula Vista-Carlsbad, CA MSA  2018-09-12  ultimate   \n",
       "147                           Urban Honolulu, HI MSA  2018-04-30      surf   \n",
       "256           Chicago-Naperville-Elgin, IL-IN-WI MSA  2018-09-11      surf   \n",
       "263               Boston-Cambridge-Newton, MA-NH MSA  2018-03-06      surf   \n",
       "463            Atlanta-Sandy Springs-Roswell, GA MSA  2018-11-27  ultimate   \n",
       "\n",
       "    churn_date  \n",
       "443     Activo  \n",
       "0       Activo  \n",
       "165     Activo  \n",
       "7       Activo  \n",
       "148     Activo  \n",
       "370     Activo  \n",
       "147     Activo  \n",
       "256     Activo  \n",
       "263     Activo  \n",
       "463     Activo  "
      ]
     },
     "execution_count": 9,
     "metadata": {},
     "output_type": "execute_result"
    }
   ],
   "source": [
    "df_users['churn_date'] = df_users['churn_date'].fillna('Activo')\n",
    "df_users.sample(10)"
   ]
  },
  {
   "cell_type": "code",
   "execution_count": 10,
   "metadata": {
    "trusted": true
   },
   "outputs": [],
   "source": [
    "datetime_reg_date = pd.to_datetime(df_users['reg_date'], format='%Y-%m-%d')\n",
    "df_users['reg_date'] = datetime_reg_date"
   ]
  },
  {
   "cell_type": "code",
   "execution_count": 11,
   "metadata": {
    "trusted": true
   },
   "outputs": [
    {
     "name": "stdout",
     "output_type": "stream",
     "text": [
      "<class 'pandas.core.frame.DataFrame'>\n",
      "RangeIndex: 500 entries, 0 to 499\n",
      "Data columns (total 8 columns):\n",
      " #   Column      Non-Null Count  Dtype         \n",
      "---  ------      --------------  -----         \n",
      " 0   user_id     500 non-null    int64         \n",
      " 1   first_name  500 non-null    object        \n",
      " 2   last_name   500 non-null    object        \n",
      " 3   age         500 non-null    int64         \n",
      " 4   city        500 non-null    object        \n",
      " 5   reg_date    500 non-null    datetime64[ns]\n",
      " 6   plan_name   500 non-null    object        \n",
      " 7   churn_date  500 non-null    object        \n",
      "dtypes: datetime64[ns](1), int64(2), object(5)\n",
      "memory usage: 31.4+ KB\n"
     ]
    }
   ],
   "source": [
    "df_users.info()"
   ]
  },
  {
   "cell_type": "markdown",
   "metadata": {
    "id": "dCZoUq4f0q06"
   },
   "source": [
    "Realizamos un renombre de la columna **plan** para contar con un nombre estadarizado entre los DataFrame **df_users** y **df_plan** utilizando el método **(.rename, con el parámetro column)**, así mismo remplazamos los valores ausentes del DataFrame **df_users** en la columna **churn_date** con el método **(.fillna)** se reemplazó con la palabra Activo ya que conocemos que a la fecha del reporte, no contaban con fecha de salida del plan. Realizamos una corrección del tipo de dato en la columna **reg_date**, y se utiliza el formato de acuerdo a la **ISO 8601 año de 4 digitos - mes de 2 dígitos - día de 2 dígitos**"
   ]
  },
  {
   "cell_type": "markdown",
   "metadata": {
    "id": "ycwuARJp0q07"
   },
   "source": [
    "### Enriquecer los datos"
   ]
  },
  {
   "cell_type": "code",
   "execution_count": 12,
   "metadata": {
    "id": "96NIh4CJ0q08",
    "trusted": true
   },
   "outputs": [
    {
     "data": {
      "text/html": [
       "<div>\n",
       "<style scoped>\n",
       "    .dataframe tbody tr th:only-of-type {\n",
       "        vertical-align: middle;\n",
       "    }\n",
       "\n",
       "    .dataframe tbody tr th {\n",
       "        vertical-align: top;\n",
       "    }\n",
       "\n",
       "    .dataframe thead th {\n",
       "        text-align: right;\n",
       "    }\n",
       "</style>\n",
       "<table border=\"1\" class=\"dataframe\">\n",
       "  <thead>\n",
       "    <tr style=\"text-align: right;\">\n",
       "      <th></th>\n",
       "      <th>user_id</th>\n",
       "      <th>first_name</th>\n",
       "      <th>last_name</th>\n",
       "      <th>age</th>\n",
       "      <th>city</th>\n",
       "      <th>reg_date</th>\n",
       "      <th>plan_name</th>\n",
       "      <th>churn_date</th>\n",
       "      <th>month</th>\n",
       "    </tr>\n",
       "  </thead>\n",
       "  <tbody>\n",
       "    <tr>\n",
       "      <th>452</th>\n",
       "      <td>1452</td>\n",
       "      <td>Miguel</td>\n",
       "      <td>Sparks</td>\n",
       "      <td>32</td>\n",
       "      <td>Tucson, AZ MSA</td>\n",
       "      <td>2018-12-29</td>\n",
       "      <td>surf</td>\n",
       "      <td>Activo</td>\n",
       "      <td>12</td>\n",
       "    </tr>\n",
       "    <tr>\n",
       "      <th>429</th>\n",
       "      <td>1429</td>\n",
       "      <td>Arianna</td>\n",
       "      <td>Rowe</td>\n",
       "      <td>36</td>\n",
       "      <td>New York-Newark-Jersey City, NY-NJ-PA MSA</td>\n",
       "      <td>2018-12-22</td>\n",
       "      <td>surf</td>\n",
       "      <td>Activo</td>\n",
       "      <td>12</td>\n",
       "    </tr>\n",
       "    <tr>\n",
       "      <th>213</th>\n",
       "      <td>1213</td>\n",
       "      <td>Carl</td>\n",
       "      <td>Newman</td>\n",
       "      <td>47</td>\n",
       "      <td>San Diego-Chula Vista-Carlsbad, CA MSA</td>\n",
       "      <td>2018-11-25</td>\n",
       "      <td>ultimate</td>\n",
       "      <td>Activo</td>\n",
       "      <td>11</td>\n",
       "    </tr>\n",
       "    <tr>\n",
       "      <th>64</th>\n",
       "      <td>1064</td>\n",
       "      <td>Gerardo</td>\n",
       "      <td>Ashley</td>\n",
       "      <td>46</td>\n",
       "      <td>New York-Newark-Jersey City, NY-NJ-PA MSA</td>\n",
       "      <td>2018-06-03</td>\n",
       "      <td>surf</td>\n",
       "      <td>Activo</td>\n",
       "      <td>6</td>\n",
       "    </tr>\n",
       "    <tr>\n",
       "      <th>398</th>\n",
       "      <td>1398</td>\n",
       "      <td>German</td>\n",
       "      <td>Thompson</td>\n",
       "      <td>30</td>\n",
       "      <td>Denver-Aurora-Lakewood, CO MSA</td>\n",
       "      <td>2018-10-22</td>\n",
       "      <td>surf</td>\n",
       "      <td>Activo</td>\n",
       "      <td>10</td>\n",
       "    </tr>\n",
       "    <tr>\n",
       "      <th>127</th>\n",
       "      <td>1127</td>\n",
       "      <td>Marchelle</td>\n",
       "      <td>Brock</td>\n",
       "      <td>28</td>\n",
       "      <td>New York-Newark-Jersey City, NY-NJ-PA MSA</td>\n",
       "      <td>2018-06-23</td>\n",
       "      <td>surf</td>\n",
       "      <td>Activo</td>\n",
       "      <td>6</td>\n",
       "    </tr>\n",
       "    <tr>\n",
       "      <th>389</th>\n",
       "      <td>1389</td>\n",
       "      <td>Earleen</td>\n",
       "      <td>Glass</td>\n",
       "      <td>18</td>\n",
       "      <td>Miami-Fort Lauderdale-West Palm Beach, FL MSA</td>\n",
       "      <td>2018-05-06</td>\n",
       "      <td>ultimate</td>\n",
       "      <td>Activo</td>\n",
       "      <td>5</td>\n",
       "    </tr>\n",
       "    <tr>\n",
       "      <th>219</th>\n",
       "      <td>1219</td>\n",
       "      <td>Gavin</td>\n",
       "      <td>Keller</td>\n",
       "      <td>51</td>\n",
       "      <td>Detroit-Warren-Dearborn, MI MSA</td>\n",
       "      <td>2018-05-14</td>\n",
       "      <td>surf</td>\n",
       "      <td>Activo</td>\n",
       "      <td>5</td>\n",
       "    </tr>\n",
       "    <tr>\n",
       "      <th>323</th>\n",
       "      <td>1323</td>\n",
       "      <td>Pamelia</td>\n",
       "      <td>Atkins</td>\n",
       "      <td>42</td>\n",
       "      <td>Baltimore-Columbia-Towson, MD MSA</td>\n",
       "      <td>2018-12-30</td>\n",
       "      <td>surf</td>\n",
       "      <td>Activo</td>\n",
       "      <td>12</td>\n",
       "    </tr>\n",
       "    <tr>\n",
       "      <th>276</th>\n",
       "      <td>1276</td>\n",
       "      <td>Karmen</td>\n",
       "      <td>Carney</td>\n",
       "      <td>20</td>\n",
       "      <td>Phoenix-Mesa-Chandler, AZ MSA</td>\n",
       "      <td>2018-02-14</td>\n",
       "      <td>surf</td>\n",
       "      <td>Activo</td>\n",
       "      <td>2</td>\n",
       "    </tr>\n",
       "  </tbody>\n",
       "</table>\n",
       "</div>"
      ],
      "text/plain": [
       "     user_id first_name last_name  age  \\\n",
       "452     1452     Miguel    Sparks   32   \n",
       "429     1429    Arianna      Rowe   36   \n",
       "213     1213       Carl    Newman   47   \n",
       "64      1064    Gerardo    Ashley   46   \n",
       "398     1398     German  Thompson   30   \n",
       "127     1127  Marchelle     Brock   28   \n",
       "389     1389    Earleen     Glass   18   \n",
       "219     1219      Gavin    Keller   51   \n",
       "323     1323    Pamelia    Atkins   42   \n",
       "276     1276     Karmen    Carney   20   \n",
       "\n",
       "                                              city   reg_date plan_name  \\\n",
       "452                                 Tucson, AZ MSA 2018-12-29      surf   \n",
       "429      New York-Newark-Jersey City, NY-NJ-PA MSA 2018-12-22      surf   \n",
       "213         San Diego-Chula Vista-Carlsbad, CA MSA 2018-11-25  ultimate   \n",
       "64       New York-Newark-Jersey City, NY-NJ-PA MSA 2018-06-03      surf   \n",
       "398                 Denver-Aurora-Lakewood, CO MSA 2018-10-22      surf   \n",
       "127      New York-Newark-Jersey City, NY-NJ-PA MSA 2018-06-23      surf   \n",
       "389  Miami-Fort Lauderdale-West Palm Beach, FL MSA 2018-05-06  ultimate   \n",
       "219                Detroit-Warren-Dearborn, MI MSA 2018-05-14      surf   \n",
       "323              Baltimore-Columbia-Towson, MD MSA 2018-12-30      surf   \n",
       "276                  Phoenix-Mesa-Chandler, AZ MSA 2018-02-14      surf   \n",
       "\n",
       "    churn_date  month  \n",
       "452     Activo     12  \n",
       "429     Activo     12  \n",
       "213     Activo     11  \n",
       "64      Activo      6  \n",
       "398     Activo     10  \n",
       "127     Activo      6  \n",
       "389     Activo      5  \n",
       "219     Activo      5  \n",
       "323     Activo     12  \n",
       "276     Activo      2  "
      ]
     },
     "execution_count": 12,
     "metadata": {},
     "output_type": "execute_result"
    }
   ],
   "source": [
    "df_users['month'] = df_users['reg_date'].dt.month\n",
    "df_users.sample(10)"
   ]
  },
  {
   "cell_type": "markdown",
   "metadata": {},
   "source": [
    "Se agrega un campo adicional, mostrando el mes de la fecha del registro, nombrado **month** para los futuros análisis y concatenaciones."
   ]
  },
  {
   "cell_type": "markdown",
   "metadata": {
    "id": "o7MeKCid0q08"
   },
   "source": [
    "## Llamadas"
   ]
  },
  {
   "cell_type": "code",
   "execution_count": 13,
   "metadata": {
    "id": "6dDlnoDm0q08",
    "trusted": true
   },
   "outputs": [
    {
     "name": "stdout",
     "output_type": "stream",
     "text": [
      "<class 'pandas.core.frame.DataFrame'>\n",
      "RangeIndex: 137735 entries, 0 to 137734\n",
      "Data columns (total 4 columns):\n",
      " #   Column     Non-Null Count   Dtype  \n",
      "---  ------     --------------   -----  \n",
      " 0   id         137735 non-null  object \n",
      " 1   user_id    137735 non-null  int64  \n",
      " 2   call_date  137735 non-null  object \n",
      " 3   duration   137735 non-null  float64\n",
      "dtypes: float64(1), int64(1), object(2)\n",
      "memory usage: 4.2+ MB\n"
     ]
    }
   ],
   "source": [
    "# Imprime la información general/resumida sobre el DataFrame de las llamadas\n",
    "df_calls.info()\n",
    "\n"
   ]
  },
  {
   "cell_type": "code",
   "execution_count": 14,
   "metadata": {
    "id": "kuh1vlNB0q09",
    "trusted": true
   },
   "outputs": [
    {
     "data": {
      "text/html": [
       "<div>\n",
       "<style scoped>\n",
       "    .dataframe tbody tr th:only-of-type {\n",
       "        vertical-align: middle;\n",
       "    }\n",
       "\n",
       "    .dataframe tbody tr th {\n",
       "        vertical-align: top;\n",
       "    }\n",
       "\n",
       "    .dataframe thead th {\n",
       "        text-align: right;\n",
       "    }\n",
       "</style>\n",
       "<table border=\"1\" class=\"dataframe\">\n",
       "  <thead>\n",
       "    <tr style=\"text-align: right;\">\n",
       "      <th></th>\n",
       "      <th>id</th>\n",
       "      <th>user_id</th>\n",
       "      <th>call_date</th>\n",
       "      <th>duration</th>\n",
       "    </tr>\n",
       "  </thead>\n",
       "  <tbody>\n",
       "    <tr>\n",
       "      <th>61423</th>\n",
       "      <td>1222_70</td>\n",
       "      <td>1222</td>\n",
       "      <td>2018-08-06</td>\n",
       "      <td>9.97</td>\n",
       "    </tr>\n",
       "    <tr>\n",
       "      <th>26536</th>\n",
       "      <td>1100_93</td>\n",
       "      <td>1100</td>\n",
       "      <td>2018-08-26</td>\n",
       "      <td>3.39</td>\n",
       "    </tr>\n",
       "    <tr>\n",
       "      <th>6205</th>\n",
       "      <td>1029_369</td>\n",
       "      <td>1029</td>\n",
       "      <td>2018-11-12</td>\n",
       "      <td>0.94</td>\n",
       "    </tr>\n",
       "    <tr>\n",
       "      <th>415</th>\n",
       "      <td>1003_25</td>\n",
       "      <td>1003</td>\n",
       "      <td>2018-12-21</td>\n",
       "      <td>4.59</td>\n",
       "    </tr>\n",
       "    <tr>\n",
       "      <th>114739</th>\n",
       "      <td>1401_614</td>\n",
       "      <td>1401</td>\n",
       "      <td>2018-09-01</td>\n",
       "      <td>16.30</td>\n",
       "    </tr>\n",
       "    <tr>\n",
       "      <th>2095</th>\n",
       "      <td>1009_517</td>\n",
       "      <td>1009</td>\n",
       "      <td>2018-08-31</td>\n",
       "      <td>7.40</td>\n",
       "    </tr>\n",
       "    <tr>\n",
       "      <th>124838</th>\n",
       "      <td>1440_354</td>\n",
       "      <td>1440</td>\n",
       "      <td>2018-08-21</td>\n",
       "      <td>5.50</td>\n",
       "    </tr>\n",
       "    <tr>\n",
       "      <th>110111</th>\n",
       "      <td>1389_133</td>\n",
       "      <td>1389</td>\n",
       "      <td>2018-07-25</td>\n",
       "      <td>2.74</td>\n",
       "    </tr>\n",
       "    <tr>\n",
       "      <th>57683</th>\n",
       "      <td>1208_65</td>\n",
       "      <td>1208</td>\n",
       "      <td>2018-12-23</td>\n",
       "      <td>20.88</td>\n",
       "    </tr>\n",
       "    <tr>\n",
       "      <th>39064</th>\n",
       "      <td>1145_311</td>\n",
       "      <td>1145</td>\n",
       "      <td>2018-12-02</td>\n",
       "      <td>9.13</td>\n",
       "    </tr>\n",
       "  </tbody>\n",
       "</table>\n",
       "</div>"
      ],
      "text/plain": [
       "              id  user_id   call_date  duration\n",
       "61423    1222_70     1222  2018-08-06      9.97\n",
       "26536    1100_93     1100  2018-08-26      3.39\n",
       "6205    1029_369     1029  2018-11-12      0.94\n",
       "415      1003_25     1003  2018-12-21      4.59\n",
       "114739  1401_614     1401  2018-09-01     16.30\n",
       "2095    1009_517     1009  2018-08-31      7.40\n",
       "124838  1440_354     1440  2018-08-21      5.50\n",
       "110111  1389_133     1389  2018-07-25      2.74\n",
       "57683    1208_65     1208  2018-12-23     20.88\n",
       "39064   1145_311     1145  2018-12-02      9.13"
      ]
     },
     "execution_count": 14,
     "metadata": {},
     "output_type": "execute_result"
    }
   ],
   "source": [
    "# Imprime una muestra de datos para las llamadas\n",
    "df_calls.sample(10)\n"
   ]
  },
  {
   "cell_type": "markdown",
   "metadata": {
    "id": "DOAxYJSx0q09"
   },
   "source": [
    "Vemos que los flotates poseen 2 decimales, así también el **id** si bien es número, tiene un guión bajo, por lo que está descrito como objet, para los fines respectivos es correcto, ya que es un identificador de una acción, mas no se realizará operaciones sobre este valor. A diferencia de la fecha de la llamada, ya que vemos que es un objet, por lo tanto debemos transformalo a tipo datetime."
   ]
  },
  {
   "cell_type": "markdown",
   "metadata": {
    "id": "S7hzxmbX0q0-"
   },
   "source": [
    "### Corregir los datos"
   ]
  },
  {
   "cell_type": "code",
   "execution_count": 15,
   "metadata": {
    "id": "YxWyAjD20q0-",
    "trusted": true
   },
   "outputs": [],
   "source": [
    "datetime_call_date = pd.to_datetime(df_calls['call_date'], format='%Y-%m-%d')\n",
    "df_calls['call_date'] = datetime_call_date\n"
   ]
  },
  {
   "cell_type": "code",
   "execution_count": 16,
   "metadata": {
    "trusted": true
   },
   "outputs": [
    {
     "name": "stdout",
     "output_type": "stream",
     "text": [
      "<class 'pandas.core.frame.DataFrame'>\n",
      "RangeIndex: 137735 entries, 0 to 137734\n",
      "Data columns (total 4 columns):\n",
      " #   Column     Non-Null Count   Dtype         \n",
      "---  ------     --------------   -----         \n",
      " 0   id         137735 non-null  object        \n",
      " 1   user_id    137735 non-null  int64         \n",
      " 2   call_date  137735 non-null  datetime64[ns]\n",
      " 3   duration   137735 non-null  float64       \n",
      "dtypes: datetime64[ns](1), float64(1), int64(1), object(1)\n",
      "memory usage: 4.2+ MB\n"
     ]
    }
   ],
   "source": [
    "df_calls.info()"
   ]
  },
  {
   "cell_type": "markdown",
   "metadata": {},
   "source": [
    "Se corrige el tipo de dato en la columna **call_date** con el método **(.to_datetime)** y se utiliza el formato de acuerdo a la ISO 8601 **año de 4 digitos - mes de 2 dígitos - día de 2 dígitos**"
   ]
  },
  {
   "cell_type": "markdown",
   "metadata": {
    "id": "KrMgTrlG0q0_"
   },
   "source": [
    "### Enriquecer los datos"
   ]
  },
  {
   "cell_type": "code",
   "execution_count": 17,
   "metadata": {
    "trusted": true
   },
   "outputs": [
    {
     "data": {
      "text/html": [
       "<div>\n",
       "<style scoped>\n",
       "    .dataframe tbody tr th:only-of-type {\n",
       "        vertical-align: middle;\n",
       "    }\n",
       "\n",
       "    .dataframe tbody tr th {\n",
       "        vertical-align: top;\n",
       "    }\n",
       "\n",
       "    .dataframe thead th {\n",
       "        text-align: right;\n",
       "    }\n",
       "</style>\n",
       "<table border=\"1\" class=\"dataframe\">\n",
       "  <thead>\n",
       "    <tr style=\"text-align: right;\">\n",
       "      <th></th>\n",
       "      <th>id</th>\n",
       "      <th>user_id</th>\n",
       "      <th>call_date</th>\n",
       "      <th>duration</th>\n",
       "      <th>month</th>\n",
       "    </tr>\n",
       "  </thead>\n",
       "  <tbody>\n",
       "    <tr>\n",
       "      <th>65296</th>\n",
       "      <td>1236_597</td>\n",
       "      <td>1236</td>\n",
       "      <td>2018-12-29</td>\n",
       "      <td>3.36</td>\n",
       "      <td>12</td>\n",
       "    </tr>\n",
       "    <tr>\n",
       "      <th>80169</th>\n",
       "      <td>1288_104</td>\n",
       "      <td>1288</td>\n",
       "      <td>2018-12-06</td>\n",
       "      <td>11.25</td>\n",
       "      <td>12</td>\n",
       "    </tr>\n",
       "    <tr>\n",
       "      <th>110882</th>\n",
       "      <td>1390_331</td>\n",
       "      <td>1390</td>\n",
       "      <td>2018-12-30</td>\n",
       "      <td>0.00</td>\n",
       "      <td>12</td>\n",
       "    </tr>\n",
       "    <tr>\n",
       "      <th>134260</th>\n",
       "      <td>1488_421</td>\n",
       "      <td>1488</td>\n",
       "      <td>2018-07-08</td>\n",
       "      <td>0.00</td>\n",
       "      <td>7</td>\n",
       "    </tr>\n",
       "    <tr>\n",
       "      <th>1416</th>\n",
       "      <td>1008_57</td>\n",
       "      <td>1008</td>\n",
       "      <td>2018-10-22</td>\n",
       "      <td>0.27</td>\n",
       "      <td>10</td>\n",
       "    </tr>\n",
       "    <tr>\n",
       "      <th>118086</th>\n",
       "      <td>1412_370</td>\n",
       "      <td>1412</td>\n",
       "      <td>2018-07-01</td>\n",
       "      <td>4.69</td>\n",
       "      <td>7</td>\n",
       "    </tr>\n",
       "    <tr>\n",
       "      <th>100782</th>\n",
       "      <td>1359_672</td>\n",
       "      <td>1359</td>\n",
       "      <td>2018-09-15</td>\n",
       "      <td>16.53</td>\n",
       "      <td>9</td>\n",
       "    </tr>\n",
       "    <tr>\n",
       "      <th>51284</th>\n",
       "      <td>1185_322</td>\n",
       "      <td>1185</td>\n",
       "      <td>2018-10-13</td>\n",
       "      <td>3.38</td>\n",
       "      <td>10</td>\n",
       "    </tr>\n",
       "    <tr>\n",
       "      <th>78766</th>\n",
       "      <td>1281_554</td>\n",
       "      <td>1281</td>\n",
       "      <td>2018-08-12</td>\n",
       "      <td>6.32</td>\n",
       "      <td>8</td>\n",
       "    </tr>\n",
       "    <tr>\n",
       "      <th>123986</th>\n",
       "      <td>1438_34</td>\n",
       "      <td>1438</td>\n",
       "      <td>2018-11-10</td>\n",
       "      <td>14.07</td>\n",
       "      <td>11</td>\n",
       "    </tr>\n",
       "  </tbody>\n",
       "</table>\n",
       "</div>"
      ],
      "text/plain": [
       "              id  user_id  call_date  duration  month\n",
       "65296   1236_597     1236 2018-12-29      3.36     12\n",
       "80169   1288_104     1288 2018-12-06     11.25     12\n",
       "110882  1390_331     1390 2018-12-30      0.00     12\n",
       "134260  1488_421     1488 2018-07-08      0.00      7\n",
       "1416     1008_57     1008 2018-10-22      0.27     10\n",
       "118086  1412_370     1412 2018-07-01      4.69      7\n",
       "100782  1359_672     1359 2018-09-15     16.53      9\n",
       "51284   1185_322     1185 2018-10-13      3.38     10\n",
       "78766   1281_554     1281 2018-08-12      6.32      8\n",
       "123986   1438_34     1438 2018-11-10     14.07     11"
      ]
     },
     "execution_count": 17,
     "metadata": {},
     "output_type": "execute_result"
    }
   ],
   "source": [
    "df_calls['month'] = df_calls['call_date'].dt.month\n",
    "df_calls.sample(10)"
   ]
  },
  {
   "cell_type": "markdown",
   "metadata": {},
   "source": [
    "Se agrega un campo adicional, mostrando el mes de la fecha de la llamada, nombrado **month** para los futuros análisis y concatenaciones."
   ]
  },
  {
   "cell_type": "markdown",
   "metadata": {
    "id": "mOUZSi180q0_"
   },
   "source": [
    "## Mensajes"
   ]
  },
  {
   "cell_type": "code",
   "execution_count": 18,
   "metadata": {
    "id": "R-bYJpdV0q1A",
    "trusted": true
   },
   "outputs": [
    {
     "name": "stdout",
     "output_type": "stream",
     "text": [
      "<class 'pandas.core.frame.DataFrame'>\n",
      "RangeIndex: 76051 entries, 0 to 76050\n",
      "Data columns (total 3 columns):\n",
      " #   Column        Non-Null Count  Dtype \n",
      "---  ------        --------------  ----- \n",
      " 0   id            76051 non-null  object\n",
      " 1   user_id       76051 non-null  int64 \n",
      " 2   message_date  76051 non-null  object\n",
      "dtypes: int64(1), object(2)\n",
      "memory usage: 1.7+ MB\n"
     ]
    }
   ],
   "source": [
    "# Imprime la información general/resumida sobre el DataFrame de los mensajes\n",
    "df_messages.info()\n"
   ]
  },
  {
   "cell_type": "code",
   "execution_count": 19,
   "metadata": {
    "id": "mCEl2iGE0q1A",
    "trusted": true
   },
   "outputs": [
    {
     "data": {
      "text/html": [
       "<div>\n",
       "<style scoped>\n",
       "    .dataframe tbody tr th:only-of-type {\n",
       "        vertical-align: middle;\n",
       "    }\n",
       "\n",
       "    .dataframe tbody tr th {\n",
       "        vertical-align: top;\n",
       "    }\n",
       "\n",
       "    .dataframe thead th {\n",
       "        text-align: right;\n",
       "    }\n",
       "</style>\n",
       "<table border=\"1\" class=\"dataframe\">\n",
       "  <thead>\n",
       "    <tr style=\"text-align: right;\">\n",
       "      <th></th>\n",
       "      <th>id</th>\n",
       "      <th>user_id</th>\n",
       "      <th>message_date</th>\n",
       "    </tr>\n",
       "  </thead>\n",
       "  <tbody>\n",
       "    <tr>\n",
       "      <th>22636</th>\n",
       "      <td>1134_39</td>\n",
       "      <td>1134</td>\n",
       "      <td>2018-11-27</td>\n",
       "    </tr>\n",
       "    <tr>\n",
       "      <th>60666</th>\n",
       "      <td>1382_300</td>\n",
       "      <td>1382</td>\n",
       "      <td>2018-12-18</td>\n",
       "    </tr>\n",
       "    <tr>\n",
       "      <th>72012</th>\n",
       "      <td>1467_344</td>\n",
       "      <td>1467</td>\n",
       "      <td>2018-11-20</td>\n",
       "    </tr>\n",
       "    <tr>\n",
       "      <th>58927</th>\n",
       "      <td>1374_101</td>\n",
       "      <td>1374</td>\n",
       "      <td>2018-11-12</td>\n",
       "    </tr>\n",
       "    <tr>\n",
       "      <th>50890</th>\n",
       "      <td>1331_65</td>\n",
       "      <td>1331</td>\n",
       "      <td>2018-12-24</td>\n",
       "    </tr>\n",
       "    <tr>\n",
       "      <th>18281</th>\n",
       "      <td>1120_28</td>\n",
       "      <td>1120</td>\n",
       "      <td>2018-11-01</td>\n",
       "    </tr>\n",
       "    <tr>\n",
       "      <th>53939</th>\n",
       "      <td>1343_20</td>\n",
       "      <td>1343</td>\n",
       "      <td>2018-09-21</td>\n",
       "    </tr>\n",
       "    <tr>\n",
       "      <th>7986</th>\n",
       "      <td>1060_322</td>\n",
       "      <td>1060</td>\n",
       "      <td>2018-12-02</td>\n",
       "    </tr>\n",
       "    <tr>\n",
       "      <th>18991</th>\n",
       "      <td>1123_60</td>\n",
       "      <td>1123</td>\n",
       "      <td>2018-09-10</td>\n",
       "    </tr>\n",
       "    <tr>\n",
       "      <th>72724</th>\n",
       "      <td>1470_352</td>\n",
       "      <td>1470</td>\n",
       "      <td>2018-09-10</td>\n",
       "    </tr>\n",
       "  </tbody>\n",
       "</table>\n",
       "</div>"
      ],
      "text/plain": [
       "             id  user_id message_date\n",
       "22636   1134_39     1134   2018-11-27\n",
       "60666  1382_300     1382   2018-12-18\n",
       "72012  1467_344     1467   2018-11-20\n",
       "58927  1374_101     1374   2018-11-12\n",
       "50890   1331_65     1331   2018-12-24\n",
       "18281   1120_28     1120   2018-11-01\n",
       "53939   1343_20     1343   2018-09-21\n",
       "7986   1060_322     1060   2018-12-02\n",
       "18991   1123_60     1123   2018-09-10\n",
       "72724  1470_352     1470   2018-09-10"
      ]
     },
     "execution_count": 19,
     "metadata": {},
     "output_type": "execute_result"
    }
   ],
   "source": [
    "# Imprime una muestra de datos para los mensajes\n",
    "df_messages.sample(10)\n"
   ]
  },
  {
   "cell_type": "markdown",
   "metadata": {
    "id": "04xDj7KH0q1A"
   },
   "source": [
    "El **id** si bien es número, tiene un guión bajo por lo que esta descrito como objet, para los fines respectivos es correcto, ya que es un identificador de acción, mas no se realizará operaciones sobre este campo. A diferencia de la fecha del envío del mensaje, ya que vemos que es un objet, por lo tanto debemos transformalo a tipo datetime."
   ]
  },
  {
   "cell_type": "markdown",
   "metadata": {
    "id": "Sprfak900q1B"
   },
   "source": [
    "### Corregir los datos"
   ]
  },
  {
   "cell_type": "code",
   "execution_count": 20,
   "metadata": {
    "trusted": true
   },
   "outputs": [],
   "source": [
    "datetime_messages_date = pd.to_datetime(df_messages['message_date'], format='%Y-%m-%d')\n",
    "df_messages['message_date'] = datetime_messages_date"
   ]
  },
  {
   "cell_type": "code",
   "execution_count": 21,
   "metadata": {
    "trusted": true
   },
   "outputs": [
    {
     "name": "stdout",
     "output_type": "stream",
     "text": [
      "<class 'pandas.core.frame.DataFrame'>\n",
      "RangeIndex: 76051 entries, 0 to 76050\n",
      "Data columns (total 3 columns):\n",
      " #   Column        Non-Null Count  Dtype         \n",
      "---  ------        --------------  -----         \n",
      " 0   id            76051 non-null  object        \n",
      " 1   user_id       76051 non-null  int64         \n",
      " 2   message_date  76051 non-null  datetime64[ns]\n",
      "dtypes: datetime64[ns](1), int64(1), object(1)\n",
      "memory usage: 1.7+ MB\n"
     ]
    }
   ],
   "source": [
    "df_messages.info()"
   ]
  },
  {
   "cell_type": "markdown",
   "metadata": {},
   "source": [
    "Se corrige el tipo de dato en la columna **message_date** con el método **(.to_datetime)** y se utiliza el formato de acuerdo a la ISO 8601 **año de 4 digitos - mes de 2 dígitos - día de 2 dígitos**"
   ]
  },
  {
   "cell_type": "markdown",
   "metadata": {
    "id": "HvLid7iD0q1B"
   },
   "source": [
    "### Enriquecer los datos"
   ]
  },
  {
   "cell_type": "code",
   "execution_count": 22,
   "metadata": {
    "trusted": true
   },
   "outputs": [
    {
     "data": {
      "text/html": [
       "<div>\n",
       "<style scoped>\n",
       "    .dataframe tbody tr th:only-of-type {\n",
       "        vertical-align: middle;\n",
       "    }\n",
       "\n",
       "    .dataframe tbody tr th {\n",
       "        vertical-align: top;\n",
       "    }\n",
       "\n",
       "    .dataframe thead th {\n",
       "        text-align: right;\n",
       "    }\n",
       "</style>\n",
       "<table border=\"1\" class=\"dataframe\">\n",
       "  <thead>\n",
       "    <tr style=\"text-align: right;\">\n",
       "      <th></th>\n",
       "      <th>id</th>\n",
       "      <th>user_id</th>\n",
       "      <th>message_date</th>\n",
       "      <th>month</th>\n",
       "    </tr>\n",
       "  </thead>\n",
       "  <tbody>\n",
       "    <tr>\n",
       "      <th>64485</th>\n",
       "      <td>1412_67</td>\n",
       "      <td>1412</td>\n",
       "      <td>2018-11-07</td>\n",
       "      <td>11</td>\n",
       "    </tr>\n",
       "    <tr>\n",
       "      <th>34787</th>\n",
       "      <td>1222_0</td>\n",
       "      <td>1222</td>\n",
       "      <td>2018-12-05</td>\n",
       "      <td>12</td>\n",
       "    </tr>\n",
       "    <tr>\n",
       "      <th>75498</th>\n",
       "      <td>1491_358</td>\n",
       "      <td>1491</td>\n",
       "      <td>2018-05-04</td>\n",
       "      <td>5</td>\n",
       "    </tr>\n",
       "    <tr>\n",
       "      <th>27902</th>\n",
       "      <td>1172_359</td>\n",
       "      <td>1172</td>\n",
       "      <td>2018-09-26</td>\n",
       "      <td>9</td>\n",
       "    </tr>\n",
       "    <tr>\n",
       "      <th>64821</th>\n",
       "      <td>1414_37</td>\n",
       "      <td>1414</td>\n",
       "      <td>2018-10-19</td>\n",
       "      <td>10</td>\n",
       "    </tr>\n",
       "    <tr>\n",
       "      <th>68105</th>\n",
       "      <td>1439_499</td>\n",
       "      <td>1439</td>\n",
       "      <td>2018-09-10</td>\n",
       "      <td>9</td>\n",
       "    </tr>\n",
       "    <tr>\n",
       "      <th>71611</th>\n",
       "      <td>1466_263</td>\n",
       "      <td>1466</td>\n",
       "      <td>2018-06-23</td>\n",
       "      <td>6</td>\n",
       "    </tr>\n",
       "    <tr>\n",
       "      <th>26613</th>\n",
       "      <td>1160_126</td>\n",
       "      <td>1160</td>\n",
       "      <td>2018-08-06</td>\n",
       "      <td>8</td>\n",
       "    </tr>\n",
       "    <tr>\n",
       "      <th>57195</th>\n",
       "      <td>1362_267</td>\n",
       "      <td>1362</td>\n",
       "      <td>2018-06-04</td>\n",
       "      <td>6</td>\n",
       "    </tr>\n",
       "    <tr>\n",
       "      <th>68540</th>\n",
       "      <td>1444_23</td>\n",
       "      <td>1444</td>\n",
       "      <td>2018-10-07</td>\n",
       "      <td>10</td>\n",
       "    </tr>\n",
       "  </tbody>\n",
       "</table>\n",
       "</div>"
      ],
      "text/plain": [
       "             id  user_id message_date  month\n",
       "64485   1412_67     1412   2018-11-07     11\n",
       "34787    1222_0     1222   2018-12-05     12\n",
       "75498  1491_358     1491   2018-05-04      5\n",
       "27902  1172_359     1172   2018-09-26      9\n",
       "64821   1414_37     1414   2018-10-19     10\n",
       "68105  1439_499     1439   2018-09-10      9\n",
       "71611  1466_263     1466   2018-06-23      6\n",
       "26613  1160_126     1160   2018-08-06      8\n",
       "57195  1362_267     1362   2018-06-04      6\n",
       "68540   1444_23     1444   2018-10-07     10"
      ]
     },
     "execution_count": 22,
     "metadata": {},
     "output_type": "execute_result"
    }
   ],
   "source": [
    "df_messages['month'] = df_messages['message_date'].dt.month\n",
    "df_messages.sample(10)"
   ]
  },
  {
   "cell_type": "markdown",
   "metadata": {
    "id": "eGw7d9j10q1B"
   },
   "source": [
    "Se agrega un campo adicional, mostrando el mes de la fecha del envío del mensaje, nombrado **month** para los futuros análisis y concatenaciones."
   ]
  },
  {
   "cell_type": "markdown",
   "metadata": {
    "id": "bStkaxn40q1C"
   },
   "source": [
    "## Internet"
   ]
  },
  {
   "cell_type": "code",
   "execution_count": 23,
   "metadata": {
    "id": "e-Uz5qyn0q1C",
    "trusted": true
   },
   "outputs": [
    {
     "name": "stdout",
     "output_type": "stream",
     "text": [
      "<class 'pandas.core.frame.DataFrame'>\n",
      "RangeIndex: 104825 entries, 0 to 104824\n",
      "Data columns (total 4 columns):\n",
      " #   Column        Non-Null Count   Dtype  \n",
      "---  ------        --------------   -----  \n",
      " 0   id            104825 non-null  object \n",
      " 1   user_id       104825 non-null  int64  \n",
      " 2   session_date  104825 non-null  object \n",
      " 3   mb_used       104825 non-null  float64\n",
      "dtypes: float64(1), int64(1), object(2)\n",
      "memory usage: 3.2+ MB\n"
     ]
    }
   ],
   "source": [
    "# Imprime la información general/resumida sobre el DataFrame de internet\n",
    "df_internet.info()\n"
   ]
  },
  {
   "cell_type": "code",
   "execution_count": 24,
   "metadata": {
    "id": "9r3x_XLw0q1C",
    "trusted": true
   },
   "outputs": [
    {
     "data": {
      "text/html": [
       "<div>\n",
       "<style scoped>\n",
       "    .dataframe tbody tr th:only-of-type {\n",
       "        vertical-align: middle;\n",
       "    }\n",
       "\n",
       "    .dataframe tbody tr th {\n",
       "        vertical-align: top;\n",
       "    }\n",
       "\n",
       "    .dataframe thead th {\n",
       "        text-align: right;\n",
       "    }\n",
       "</style>\n",
       "<table border=\"1\" class=\"dataframe\">\n",
       "  <thead>\n",
       "    <tr style=\"text-align: right;\">\n",
       "      <th></th>\n",
       "      <th>id</th>\n",
       "      <th>user_id</th>\n",
       "      <th>session_date</th>\n",
       "      <th>mb_used</th>\n",
       "    </tr>\n",
       "  </thead>\n",
       "  <tbody>\n",
       "    <tr>\n",
       "      <th>10917</th>\n",
       "      <td>1054_456</td>\n",
       "      <td>1054</td>\n",
       "      <td>2018-05-20</td>\n",
       "      <td>8.48</td>\n",
       "    </tr>\n",
       "    <tr>\n",
       "      <th>15053</th>\n",
       "      <td>1068_169</td>\n",
       "      <td>1068</td>\n",
       "      <td>2018-10-30</td>\n",
       "      <td>540.80</td>\n",
       "    </tr>\n",
       "    <tr>\n",
       "      <th>8831</th>\n",
       "      <td>1046_116</td>\n",
       "      <td>1046</td>\n",
       "      <td>2018-11-18</td>\n",
       "      <td>727.26</td>\n",
       "    </tr>\n",
       "    <tr>\n",
       "      <th>17858</th>\n",
       "      <td>1080_189</td>\n",
       "      <td>1080</td>\n",
       "      <td>2018-12-11</td>\n",
       "      <td>466.26</td>\n",
       "    </tr>\n",
       "    <tr>\n",
       "      <th>4166</th>\n",
       "      <td>1026_170</td>\n",
       "      <td>1026</td>\n",
       "      <td>2018-07-29</td>\n",
       "      <td>718.94</td>\n",
       "    </tr>\n",
       "    <tr>\n",
       "      <th>9317</th>\n",
       "      <td>1048_257</td>\n",
       "      <td>1048</td>\n",
       "      <td>2018-09-11</td>\n",
       "      <td>85.55</td>\n",
       "    </tr>\n",
       "    <tr>\n",
       "      <th>2164</th>\n",
       "      <td>1010_347</td>\n",
       "      <td>1010</td>\n",
       "      <td>2018-09-22</td>\n",
       "      <td>65.59</td>\n",
       "    </tr>\n",
       "    <tr>\n",
       "      <th>31855</th>\n",
       "      <td>1144_611</td>\n",
       "      <td>1144</td>\n",
       "      <td>2018-06-23</td>\n",
       "      <td>487.75</td>\n",
       "    </tr>\n",
       "    <tr>\n",
       "      <th>88252</th>\n",
       "      <td>1407_78</td>\n",
       "      <td>1407</td>\n",
       "      <td>2018-12-20</td>\n",
       "      <td>855.06</td>\n",
       "    </tr>\n",
       "    <tr>\n",
       "      <th>65578</th>\n",
       "      <td>1302_124</td>\n",
       "      <td>1302</td>\n",
       "      <td>2018-12-10</td>\n",
       "      <td>463.55</td>\n",
       "    </tr>\n",
       "  </tbody>\n",
       "</table>\n",
       "</div>"
      ],
      "text/plain": [
       "             id  user_id session_date  mb_used\n",
       "10917  1054_456     1054   2018-05-20     8.48\n",
       "15053  1068_169     1068   2018-10-30   540.80\n",
       "8831   1046_116     1046   2018-11-18   727.26\n",
       "17858  1080_189     1080   2018-12-11   466.26\n",
       "4166   1026_170     1026   2018-07-29   718.94\n",
       "9317   1048_257     1048   2018-09-11    85.55\n",
       "2164   1010_347     1010   2018-09-22    65.59\n",
       "31855  1144_611     1144   2018-06-23   487.75\n",
       "88252   1407_78     1407   2018-12-20   855.06\n",
       "65578  1302_124     1302   2018-12-10   463.55"
      ]
     },
     "execution_count": 24,
     "metadata": {},
     "output_type": "execute_result"
    }
   ],
   "source": [
    "# Imprime una muestra de datos para el tráfico de internet\n",
    "df_internet.sample(10)\n"
   ]
  },
  {
   "cell_type": "markdown",
   "metadata": {
    "id": "EzOG5ik30q1D"
   },
   "source": [
    "Los datos flotates poseen 2 decimales, así también el **id** si bien es número, tiene un guión bajo por lo que esta descrito como objet, para los fines respectivos es correcto, ya que es un identificador de acción, mas no se realizará operaciones sobre esto. A diferencia de la fecha de la sesión, ya que vemos que es un objet, por lo tanto debemos transformalo a tipo datetime."
   ]
  },
  {
   "cell_type": "markdown",
   "metadata": {
    "id": "yA0tkPFg0q1D"
   },
   "source": [
    "### Corregir los datos"
   ]
  },
  {
   "cell_type": "code",
   "execution_count": 25,
   "metadata": {
    "id": "zlZMuIEK0q1D",
    "trusted": true
   },
   "outputs": [],
   "source": [
    "datetime_internet_date = pd.to_datetime(df_internet['session_date'], format='%Y-%m-%d')\n",
    "df_internet['session_date'] = datetime_internet_date"
   ]
  },
  {
   "cell_type": "code",
   "execution_count": 26,
   "metadata": {
    "trusted": true
   },
   "outputs": [
    {
     "name": "stdout",
     "output_type": "stream",
     "text": [
      "<class 'pandas.core.frame.DataFrame'>\n",
      "RangeIndex: 104825 entries, 0 to 104824\n",
      "Data columns (total 4 columns):\n",
      " #   Column        Non-Null Count   Dtype         \n",
      "---  ------        --------------   -----         \n",
      " 0   id            104825 non-null  object        \n",
      " 1   user_id       104825 non-null  int64         \n",
      " 2   session_date  104825 non-null  datetime64[ns]\n",
      " 3   mb_used       104825 non-null  float64       \n",
      "dtypes: datetime64[ns](1), float64(1), int64(1), object(1)\n",
      "memory usage: 3.2+ MB\n"
     ]
    }
   ],
   "source": [
    "df_internet.info()"
   ]
  },
  {
   "cell_type": "markdown",
   "metadata": {},
   "source": [
    "Se corrige el tipo de dato en la columna **session_date** con el método **(.to_datetime)** y se utiliza el formato de acuerdo a la ISO 8601 **año de 4 digitos - mes de 2 dígitos - día de 2 dígitos**"
   ]
  },
  {
   "cell_type": "markdown",
   "metadata": {
    "id": "e8_mLF4a0q1E"
   },
   "source": [
    "### Enriquecer los datos"
   ]
  },
  {
   "cell_type": "code",
   "execution_count": 27,
   "metadata": {
    "trusted": true
   },
   "outputs": [
    {
     "data": {
      "text/html": [
       "<div>\n",
       "<style scoped>\n",
       "    .dataframe tbody tr th:only-of-type {\n",
       "        vertical-align: middle;\n",
       "    }\n",
       "\n",
       "    .dataframe tbody tr th {\n",
       "        vertical-align: top;\n",
       "    }\n",
       "\n",
       "    .dataframe thead th {\n",
       "        text-align: right;\n",
       "    }\n",
       "</style>\n",
       "<table border=\"1\" class=\"dataframe\">\n",
       "  <thead>\n",
       "    <tr style=\"text-align: right;\">\n",
       "      <th></th>\n",
       "      <th>id</th>\n",
       "      <th>user_id</th>\n",
       "      <th>session_date</th>\n",
       "      <th>mb_used</th>\n",
       "      <th>month</th>\n",
       "      <th>gb_used</th>\n",
       "    </tr>\n",
       "  </thead>\n",
       "  <tbody>\n",
       "    <tr>\n",
       "      <th>70771</th>\n",
       "      <td>1331_22</td>\n",
       "      <td>1331</td>\n",
       "      <td>2018-10-31</td>\n",
       "      <td>114.21</td>\n",
       "      <td>10</td>\n",
       "      <td>0.111533</td>\n",
       "    </tr>\n",
       "    <tr>\n",
       "      <th>39191</th>\n",
       "      <td>1176_12</td>\n",
       "      <td>1176</td>\n",
       "      <td>2018-12-21</td>\n",
       "      <td>361.30</td>\n",
       "      <td>12</td>\n",
       "      <td>0.352832</td>\n",
       "    </tr>\n",
       "    <tr>\n",
       "      <th>63391</th>\n",
       "      <td>1292_95</td>\n",
       "      <td>1292</td>\n",
       "      <td>2018-09-11</td>\n",
       "      <td>417.49</td>\n",
       "      <td>9</td>\n",
       "      <td>0.407705</td>\n",
       "    </tr>\n",
       "    <tr>\n",
       "      <th>22105</th>\n",
       "      <td>1100_309</td>\n",
       "      <td>1100</td>\n",
       "      <td>2018-08-14</td>\n",
       "      <td>398.01</td>\n",
       "      <td>8</td>\n",
       "      <td>0.388682</td>\n",
       "    </tr>\n",
       "    <tr>\n",
       "      <th>82861</th>\n",
       "      <td>1387_77</td>\n",
       "      <td>1387</td>\n",
       "      <td>2018-09-02</td>\n",
       "      <td>434.39</td>\n",
       "      <td>9</td>\n",
       "      <td>0.424209</td>\n",
       "    </tr>\n",
       "    <tr>\n",
       "      <th>99172</th>\n",
       "      <td>1467_309</td>\n",
       "      <td>1467</td>\n",
       "      <td>2018-12-14</td>\n",
       "      <td>604.97</td>\n",
       "      <td>12</td>\n",
       "      <td>0.590791</td>\n",
       "    </tr>\n",
       "    <tr>\n",
       "      <th>1798</th>\n",
       "      <td>1009_333</td>\n",
       "      <td>1009</td>\n",
       "      <td>2018-09-28</td>\n",
       "      <td>776.88</td>\n",
       "      <td>9</td>\n",
       "      <td>0.758672</td>\n",
       "    </tr>\n",
       "    <tr>\n",
       "      <th>67862</th>\n",
       "      <td>1316_90</td>\n",
       "      <td>1316</td>\n",
       "      <td>2018-12-17</td>\n",
       "      <td>481.72</td>\n",
       "      <td>12</td>\n",
       "      <td>0.470430</td>\n",
       "    </tr>\n",
       "    <tr>\n",
       "      <th>7020</th>\n",
       "      <td>1039_295</td>\n",
       "      <td>1039</td>\n",
       "      <td>2018-11-28</td>\n",
       "      <td>235.02</td>\n",
       "      <td>11</td>\n",
       "      <td>0.229512</td>\n",
       "    </tr>\n",
       "    <tr>\n",
       "      <th>104488</th>\n",
       "      <td>1498_566</td>\n",
       "      <td>1498</td>\n",
       "      <td>2018-03-24</td>\n",
       "      <td>342.52</td>\n",
       "      <td>3</td>\n",
       "      <td>0.334492</td>\n",
       "    </tr>\n",
       "  </tbody>\n",
       "</table>\n",
       "</div>"
      ],
      "text/plain": [
       "              id  user_id session_date  mb_used  month   gb_used\n",
       "70771    1331_22     1331   2018-10-31   114.21     10  0.111533\n",
       "39191    1176_12     1176   2018-12-21   361.30     12  0.352832\n",
       "63391    1292_95     1292   2018-09-11   417.49      9  0.407705\n",
       "22105   1100_309     1100   2018-08-14   398.01      8  0.388682\n",
       "82861    1387_77     1387   2018-09-02   434.39      9  0.424209\n",
       "99172   1467_309     1467   2018-12-14   604.97     12  0.590791\n",
       "1798    1009_333     1009   2018-09-28   776.88      9  0.758672\n",
       "67862    1316_90     1316   2018-12-17   481.72     12  0.470430\n",
       "7020    1039_295     1039   2018-11-28   235.02     11  0.229512\n",
       "104488  1498_566     1498   2018-03-24   342.52      3  0.334492"
      ]
     },
     "execution_count": 27,
     "metadata": {},
     "output_type": "execute_result"
    }
   ],
   "source": [
    "df_internet['month'] = df_internet['session_date'].dt.month\n",
    "df_internet['gb_used'] = df_internet['mb_used']/1024\n",
    "df_internet.sample(10)"
   ]
  },
  {
   "cell_type": "markdown",
   "metadata": {
    "id": "xhNdn2tE0q1E"
   },
   "source": [
    "Se agrega un campo adicional, mostrando el mes de la fecha de la sesión, nombrado **month** para los futuros análisis y concatenaciones. Adicional como los costos de los planes son en GigaBytes, se agrega el campo en Gigas."
   ]
  },
  {
   "cell_type": "markdown",
   "metadata": {
    "id": "3UA2cqIW0q1E"
   },
   "source": [
    "## Estudiar las condiciones de las tarifas"
   ]
  },
  {
   "cell_type": "code",
   "execution_count": 28,
   "metadata": {
    "id": "i409op8p0q1F",
    "trusted": true
   },
   "outputs": [
    {
     "data": {
      "text/html": [
       "<div>\n",
       "<style scoped>\n",
       "    .dataframe tbody tr th:only-of-type {\n",
       "        vertical-align: middle;\n",
       "    }\n",
       "\n",
       "    .dataframe tbody tr th {\n",
       "        vertical-align: top;\n",
       "    }\n",
       "\n",
       "    .dataframe thead th {\n",
       "        text-align: right;\n",
       "    }\n",
       "</style>\n",
       "<table border=\"1\" class=\"dataframe\">\n",
       "  <thead>\n",
       "    <tr style=\"text-align: right;\">\n",
       "      <th></th>\n",
       "      <th>messages_included</th>\n",
       "      <th>mb_per_month_included</th>\n",
       "      <th>minutes_included</th>\n",
       "      <th>usd_monthly_pay</th>\n",
       "      <th>usd_per_gb</th>\n",
       "      <th>usd_per_message</th>\n",
       "      <th>usd_per_minute</th>\n",
       "      <th>plan_name</th>\n",
       "      <th>gb_per_month_included</th>\n",
       "    </tr>\n",
       "  </thead>\n",
       "  <tbody>\n",
       "    <tr>\n",
       "      <th>0</th>\n",
       "      <td>50</td>\n",
       "      <td>15360</td>\n",
       "      <td>500</td>\n",
       "      <td>20</td>\n",
       "      <td>10</td>\n",
       "      <td>0.03</td>\n",
       "      <td>0.03</td>\n",
       "      <td>surf</td>\n",
       "      <td>15.0</td>\n",
       "    </tr>\n",
       "    <tr>\n",
       "      <th>1</th>\n",
       "      <td>1000</td>\n",
       "      <td>30720</td>\n",
       "      <td>3000</td>\n",
       "      <td>70</td>\n",
       "      <td>7</td>\n",
       "      <td>0.01</td>\n",
       "      <td>0.01</td>\n",
       "      <td>ultimate</td>\n",
       "      <td>30.0</td>\n",
       "    </tr>\n",
       "  </tbody>\n",
       "</table>\n",
       "</div>"
      ],
      "text/plain": [
       "   messages_included  mb_per_month_included  minutes_included  \\\n",
       "0                 50                  15360               500   \n",
       "1               1000                  30720              3000   \n",
       "\n",
       "   usd_monthly_pay  usd_per_gb  usd_per_message  usd_per_minute plan_name  \\\n",
       "0               20          10             0.03            0.03      surf   \n",
       "1               70           7             0.01            0.01  ultimate   \n",
       "\n",
       "   gb_per_month_included  \n",
       "0                   15.0  \n",
       "1                   30.0  "
      ]
     },
     "execution_count": 28,
     "metadata": {},
     "output_type": "execute_result"
    }
   ],
   "source": [
    "# Imprime las condiciones de la tarifa y asegúrate de que te quedan claras\n",
    "df_plans.head()\n"
   ]
  },
  {
   "cell_type": "markdown",
   "metadata": {
    "id": "hMR1tP5d0q1F"
   },
   "source": [
    "## Agregar datos por usuario"
   ]
  },
  {
   "cell_type": "code",
   "execution_count": 29,
   "metadata": {
    "id": "A332cedB0q1G",
    "trusted": true
   },
   "outputs": [
    {
     "data": {
      "text/html": [
       "<div>\n",
       "<style scoped>\n",
       "    .dataframe tbody tr th:only-of-type {\n",
       "        vertical-align: middle;\n",
       "    }\n",
       "\n",
       "    .dataframe tbody tr th {\n",
       "        vertical-align: top;\n",
       "    }\n",
       "\n",
       "    .dataframe thead th {\n",
       "        text-align: right;\n",
       "    }\n",
       "</style>\n",
       "<table border=\"1\" class=\"dataframe\">\n",
       "  <thead>\n",
       "    <tr style=\"text-align: right;\">\n",
       "      <th></th>\n",
       "      <th>user_id</th>\n",
       "      <th>month</th>\n",
       "      <th>numer_calls</th>\n",
       "    </tr>\n",
       "  </thead>\n",
       "  <tbody>\n",
       "    <tr>\n",
       "      <th>0</th>\n",
       "      <td>1000</td>\n",
       "      <td>12</td>\n",
       "      <td>16</td>\n",
       "    </tr>\n",
       "    <tr>\n",
       "      <th>1</th>\n",
       "      <td>1001</td>\n",
       "      <td>8</td>\n",
       "      <td>27</td>\n",
       "    </tr>\n",
       "    <tr>\n",
       "      <th>2</th>\n",
       "      <td>1001</td>\n",
       "      <td>9</td>\n",
       "      <td>49</td>\n",
       "    </tr>\n",
       "    <tr>\n",
       "      <th>3</th>\n",
       "      <td>1001</td>\n",
       "      <td>10</td>\n",
       "      <td>65</td>\n",
       "    </tr>\n",
       "    <tr>\n",
       "      <th>4</th>\n",
       "      <td>1001</td>\n",
       "      <td>11</td>\n",
       "      <td>64</td>\n",
       "    </tr>\n",
       "    <tr>\n",
       "      <th>5</th>\n",
       "      <td>1001</td>\n",
       "      <td>12</td>\n",
       "      <td>56</td>\n",
       "    </tr>\n",
       "    <tr>\n",
       "      <th>6</th>\n",
       "      <td>1002</td>\n",
       "      <td>10</td>\n",
       "      <td>11</td>\n",
       "    </tr>\n",
       "    <tr>\n",
       "      <th>7</th>\n",
       "      <td>1002</td>\n",
       "      <td>11</td>\n",
       "      <td>55</td>\n",
       "    </tr>\n",
       "    <tr>\n",
       "      <th>8</th>\n",
       "      <td>1002</td>\n",
       "      <td>12</td>\n",
       "      <td>47</td>\n",
       "    </tr>\n",
       "    <tr>\n",
       "      <th>9</th>\n",
       "      <td>1003</td>\n",
       "      <td>12</td>\n",
       "      <td>149</td>\n",
       "    </tr>\n",
       "  </tbody>\n",
       "</table>\n",
       "</div>"
      ],
      "text/plain": [
       "   user_id  month  numer_calls\n",
       "0     1000     12           16\n",
       "1     1001      8           27\n",
       "2     1001      9           49\n",
       "3     1001     10           65\n",
       "4     1001     11           64\n",
       "5     1001     12           56\n",
       "6     1002     10           11\n",
       "7     1002     11           55\n",
       "8     1002     12           47\n",
       "9     1003     12          149"
      ]
     },
     "execution_count": 29,
     "metadata": {},
     "output_type": "execute_result"
    }
   ],
   "source": [
    "# Calcula el número de llamadas hechas por cada usuario al mes. Guarda el resultado.\n",
    "\n",
    "call_user_month = df_calls.groupby(['user_id', 'month']) ['id'].count().reset_index(name=\"numer_calls\")\n",
    "call_user_month.head(10)"
   ]
  },
  {
   "cell_type": "code",
   "execution_count": 30,
   "metadata": {
    "id": "aw2cmuql0q1G",
    "trusted": true
   },
   "outputs": [
    {
     "data": {
      "text/html": [
       "<div>\n",
       "<style scoped>\n",
       "    .dataframe tbody tr th:only-of-type {\n",
       "        vertical-align: middle;\n",
       "    }\n",
       "\n",
       "    .dataframe tbody tr th {\n",
       "        vertical-align: top;\n",
       "    }\n",
       "\n",
       "    .dataframe thead th {\n",
       "        text-align: right;\n",
       "    }\n",
       "</style>\n",
       "<table border=\"1\" class=\"dataframe\">\n",
       "  <thead>\n",
       "    <tr style=\"text-align: right;\">\n",
       "      <th></th>\n",
       "      <th>user_id</th>\n",
       "      <th>month</th>\n",
       "      <th>minutes</th>\n",
       "    </tr>\n",
       "  </thead>\n",
       "  <tbody>\n",
       "    <tr>\n",
       "      <th>0</th>\n",
       "      <td>1000</td>\n",
       "      <td>12</td>\n",
       "      <td>116.83</td>\n",
       "    </tr>\n",
       "    <tr>\n",
       "      <th>1</th>\n",
       "      <td>1001</td>\n",
       "      <td>8</td>\n",
       "      <td>171.14</td>\n",
       "    </tr>\n",
       "    <tr>\n",
       "      <th>2</th>\n",
       "      <td>1001</td>\n",
       "      <td>9</td>\n",
       "      <td>297.69</td>\n",
       "    </tr>\n",
       "    <tr>\n",
       "      <th>3</th>\n",
       "      <td>1001</td>\n",
       "      <td>10</td>\n",
       "      <td>374.11</td>\n",
       "    </tr>\n",
       "    <tr>\n",
       "      <th>4</th>\n",
       "      <td>1001</td>\n",
       "      <td>11</td>\n",
       "      <td>404.59</td>\n",
       "    </tr>\n",
       "    <tr>\n",
       "      <th>5</th>\n",
       "      <td>1001</td>\n",
       "      <td>12</td>\n",
       "      <td>392.93</td>\n",
       "    </tr>\n",
       "    <tr>\n",
       "      <th>6</th>\n",
       "      <td>1002</td>\n",
       "      <td>10</td>\n",
       "      <td>54.13</td>\n",
       "    </tr>\n",
       "    <tr>\n",
       "      <th>7</th>\n",
       "      <td>1002</td>\n",
       "      <td>11</td>\n",
       "      <td>359.76</td>\n",
       "    </tr>\n",
       "    <tr>\n",
       "      <th>8</th>\n",
       "      <td>1002</td>\n",
       "      <td>12</td>\n",
       "      <td>363.24</td>\n",
       "    </tr>\n",
       "    <tr>\n",
       "      <th>9</th>\n",
       "      <td>1003</td>\n",
       "      <td>12</td>\n",
       "      <td>1041.00</td>\n",
       "    </tr>\n",
       "  </tbody>\n",
       "</table>\n",
       "</div>"
      ],
      "text/plain": [
       "   user_id  month  minutes\n",
       "0     1000     12   116.83\n",
       "1     1001      8   171.14\n",
       "2     1001      9   297.69\n",
       "3     1001     10   374.11\n",
       "4     1001     11   404.59\n",
       "5     1001     12   392.93\n",
       "6     1002     10    54.13\n",
       "7     1002     11   359.76\n",
       "8     1002     12   363.24\n",
       "9     1003     12  1041.00"
      ]
     },
     "execution_count": 30,
     "metadata": {},
     "output_type": "execute_result"
    }
   ],
   "source": [
    "# Calcula la cantidad de minutos usados por cada usuario al mes. Guarda el resultado.\n",
    "minutes_user_month = df_calls.groupby(['user_id', 'month'])['duration'].sum().reset_index(name=\"minutes\")\n",
    "minutes_user_month.head(10)\n",
    "\n"
   ]
  },
  {
   "cell_type": "code",
   "execution_count": 31,
   "metadata": {
    "id": "CcQvNHn60q1G",
    "trusted": true
   },
   "outputs": [
    {
     "data": {
      "text/html": [
       "<div>\n",
       "<style scoped>\n",
       "    .dataframe tbody tr th:only-of-type {\n",
       "        vertical-align: middle;\n",
       "    }\n",
       "\n",
       "    .dataframe tbody tr th {\n",
       "        vertical-align: top;\n",
       "    }\n",
       "\n",
       "    .dataframe thead th {\n",
       "        text-align: right;\n",
       "    }\n",
       "</style>\n",
       "<table border=\"1\" class=\"dataframe\">\n",
       "  <thead>\n",
       "    <tr style=\"text-align: right;\">\n",
       "      <th></th>\n",
       "      <th>user_id</th>\n",
       "      <th>month</th>\n",
       "      <th>number_message</th>\n",
       "    </tr>\n",
       "  </thead>\n",
       "  <tbody>\n",
       "    <tr>\n",
       "      <th>0</th>\n",
       "      <td>1000</td>\n",
       "      <td>12</td>\n",
       "      <td>11</td>\n",
       "    </tr>\n",
       "    <tr>\n",
       "      <th>1</th>\n",
       "      <td>1001</td>\n",
       "      <td>8</td>\n",
       "      <td>30</td>\n",
       "    </tr>\n",
       "    <tr>\n",
       "      <th>2</th>\n",
       "      <td>1001</td>\n",
       "      <td>9</td>\n",
       "      <td>44</td>\n",
       "    </tr>\n",
       "    <tr>\n",
       "      <th>3</th>\n",
       "      <td>1001</td>\n",
       "      <td>10</td>\n",
       "      <td>53</td>\n",
       "    </tr>\n",
       "    <tr>\n",
       "      <th>4</th>\n",
       "      <td>1001</td>\n",
       "      <td>11</td>\n",
       "      <td>36</td>\n",
       "    </tr>\n",
       "    <tr>\n",
       "      <th>5</th>\n",
       "      <td>1001</td>\n",
       "      <td>12</td>\n",
       "      <td>44</td>\n",
       "    </tr>\n",
       "    <tr>\n",
       "      <th>6</th>\n",
       "      <td>1002</td>\n",
       "      <td>10</td>\n",
       "      <td>15</td>\n",
       "    </tr>\n",
       "    <tr>\n",
       "      <th>7</th>\n",
       "      <td>1002</td>\n",
       "      <td>11</td>\n",
       "      <td>32</td>\n",
       "    </tr>\n",
       "    <tr>\n",
       "      <th>8</th>\n",
       "      <td>1002</td>\n",
       "      <td>12</td>\n",
       "      <td>41</td>\n",
       "    </tr>\n",
       "    <tr>\n",
       "      <th>9</th>\n",
       "      <td>1003</td>\n",
       "      <td>12</td>\n",
       "      <td>50</td>\n",
       "    </tr>\n",
       "  </tbody>\n",
       "</table>\n",
       "</div>"
      ],
      "text/plain": [
       "   user_id  month  number_message\n",
       "0     1000     12              11\n",
       "1     1001      8              30\n",
       "2     1001      9              44\n",
       "3     1001     10              53\n",
       "4     1001     11              36\n",
       "5     1001     12              44\n",
       "6     1002     10              15\n",
       "7     1002     11              32\n",
       "8     1002     12              41\n",
       "9     1003     12              50"
      ]
     },
     "execution_count": 31,
     "metadata": {},
     "output_type": "execute_result"
    }
   ],
   "source": [
    "# Calcula el número de mensajes enviados por cada usuario al mes. Guarda el resultado.\n",
    "messages_user_month = df_messages.groupby(['user_id', 'month'])['id'].count().reset_index(name=\"number_message\")\n",
    "messages_user_month.head(10)"
   ]
  },
  {
   "cell_type": "code",
   "execution_count": 32,
   "metadata": {
    "id": "H1AqN2eG0q1H",
    "trusted": true
   },
   "outputs": [
    {
     "data": {
      "text/html": [
       "<div>\n",
       "<style scoped>\n",
       "    .dataframe tbody tr th:only-of-type {\n",
       "        vertical-align: middle;\n",
       "    }\n",
       "\n",
       "    .dataframe tbody tr th {\n",
       "        vertical-align: top;\n",
       "    }\n",
       "\n",
       "    .dataframe thead th {\n",
       "        text-align: right;\n",
       "    }\n",
       "</style>\n",
       "<table border=\"1\" class=\"dataframe\">\n",
       "  <thead>\n",
       "    <tr style=\"text-align: right;\">\n",
       "      <th></th>\n",
       "      <th>user_id</th>\n",
       "      <th>month</th>\n",
       "      <th>gb</th>\n",
       "    </tr>\n",
       "  </thead>\n",
       "  <tbody>\n",
       "    <tr>\n",
       "      <th>0</th>\n",
       "      <td>1000</td>\n",
       "      <td>12</td>\n",
       "      <td>1.856904</td>\n",
       "    </tr>\n",
       "    <tr>\n",
       "      <th>1</th>\n",
       "      <td>1001</td>\n",
       "      <td>8</td>\n",
       "      <td>6.756982</td>\n",
       "    </tr>\n",
       "    <tr>\n",
       "      <th>2</th>\n",
       "      <td>1001</td>\n",
       "      <td>9</td>\n",
       "      <td>13.002754</td>\n",
       "    </tr>\n",
       "    <tr>\n",
       "      <th>3</th>\n",
       "      <td>1001</td>\n",
       "      <td>10</td>\n",
       "      <td>21.807119</td>\n",
       "    </tr>\n",
       "    <tr>\n",
       "      <th>4</th>\n",
       "      <td>1001</td>\n",
       "      <td>11</td>\n",
       "      <td>18.070605</td>\n",
       "    </tr>\n",
       "    <tr>\n",
       "      <th>5</th>\n",
       "      <td>1001</td>\n",
       "      <td>12</td>\n",
       "      <td>18.915215</td>\n",
       "    </tr>\n",
       "    <tr>\n",
       "      <th>6</th>\n",
       "      <td>1002</td>\n",
       "      <td>10</td>\n",
       "      <td>6.398447</td>\n",
       "    </tr>\n",
       "    <tr>\n",
       "      <th>7</th>\n",
       "      <td>1002</td>\n",
       "      <td>11</td>\n",
       "      <td>18.891680</td>\n",
       "    </tr>\n",
       "    <tr>\n",
       "      <th>8</th>\n",
       "      <td>1002</td>\n",
       "      <td>12</td>\n",
       "      <td>14.058828</td>\n",
       "    </tr>\n",
       "    <tr>\n",
       "      <th>9</th>\n",
       "      <td>1003</td>\n",
       "      <td>12</td>\n",
       "      <td>26.410293</td>\n",
       "    </tr>\n",
       "  </tbody>\n",
       "</table>\n",
       "</div>"
      ],
      "text/plain": [
       "   user_id  month         gb\n",
       "0     1000     12   1.856904\n",
       "1     1001      8   6.756982\n",
       "2     1001      9  13.002754\n",
       "3     1001     10  21.807119\n",
       "4     1001     11  18.070605\n",
       "5     1001     12  18.915215\n",
       "6     1002     10   6.398447\n",
       "7     1002     11  18.891680\n",
       "8     1002     12  14.058828\n",
       "9     1003     12  26.410293"
      ]
     },
     "execution_count": 32,
     "metadata": {},
     "output_type": "execute_result"
    }
   ],
   "source": [
    "# Calcula el volumen del tráfico de Internet usado por cada usuario al mes. Guarda el resultado.\n",
    "trafic_user_month = df_internet.groupby(['user_id', 'month'])['gb_used'].sum().reset_index(name=\"gb\")\n",
    "trafic_user_month.head(10)\n"
   ]
  },
  {
   "cell_type": "code",
   "execution_count": 33,
   "metadata": {
    "id": "FW99ykyf0q1H",
    "trusted": true
   },
   "outputs": [
    {
     "data": {
      "text/html": [
       "<div>\n",
       "<style scoped>\n",
       "    .dataframe tbody tr th:only-of-type {\n",
       "        vertical-align: middle;\n",
       "    }\n",
       "\n",
       "    .dataframe tbody tr th {\n",
       "        vertical-align: top;\n",
       "    }\n",
       "\n",
       "    .dataframe thead th {\n",
       "        text-align: right;\n",
       "    }\n",
       "</style>\n",
       "<table border=\"1\" class=\"dataframe\">\n",
       "  <thead>\n",
       "    <tr style=\"text-align: right;\">\n",
       "      <th></th>\n",
       "      <th>user_id</th>\n",
       "      <th>month</th>\n",
       "      <th>numer_calls</th>\n",
       "      <th>minutes</th>\n",
       "      <th>number_message</th>\n",
       "      <th>gb</th>\n",
       "    </tr>\n",
       "  </thead>\n",
       "  <tbody>\n",
       "    <tr>\n",
       "      <th>0</th>\n",
       "      <td>1000</td>\n",
       "      <td>12</td>\n",
       "      <td>16.0</td>\n",
       "      <td>116.83</td>\n",
       "      <td>11.0</td>\n",
       "      <td>1.856904</td>\n",
       "    </tr>\n",
       "    <tr>\n",
       "      <th>1</th>\n",
       "      <td>1001</td>\n",
       "      <td>8</td>\n",
       "      <td>27.0</td>\n",
       "      <td>171.14</td>\n",
       "      <td>30.0</td>\n",
       "      <td>6.756982</td>\n",
       "    </tr>\n",
       "    <tr>\n",
       "      <th>2</th>\n",
       "      <td>1001</td>\n",
       "      <td>9</td>\n",
       "      <td>49.0</td>\n",
       "      <td>297.69</td>\n",
       "      <td>44.0</td>\n",
       "      <td>13.002754</td>\n",
       "    </tr>\n",
       "    <tr>\n",
       "      <th>3</th>\n",
       "      <td>1001</td>\n",
       "      <td>10</td>\n",
       "      <td>65.0</td>\n",
       "      <td>374.11</td>\n",
       "      <td>53.0</td>\n",
       "      <td>21.807119</td>\n",
       "    </tr>\n",
       "    <tr>\n",
       "      <th>4</th>\n",
       "      <td>1001</td>\n",
       "      <td>11</td>\n",
       "      <td>64.0</td>\n",
       "      <td>404.59</td>\n",
       "      <td>36.0</td>\n",
       "      <td>18.070605</td>\n",
       "    </tr>\n",
       "    <tr>\n",
       "      <th>5</th>\n",
       "      <td>1001</td>\n",
       "      <td>12</td>\n",
       "      <td>56.0</td>\n",
       "      <td>392.93</td>\n",
       "      <td>44.0</td>\n",
       "      <td>18.915215</td>\n",
       "    </tr>\n",
       "    <tr>\n",
       "      <th>6</th>\n",
       "      <td>1002</td>\n",
       "      <td>10</td>\n",
       "      <td>11.0</td>\n",
       "      <td>54.13</td>\n",
       "      <td>15.0</td>\n",
       "      <td>6.398447</td>\n",
       "    </tr>\n",
       "    <tr>\n",
       "      <th>7</th>\n",
       "      <td>1002</td>\n",
       "      <td>11</td>\n",
       "      <td>55.0</td>\n",
       "      <td>359.76</td>\n",
       "      <td>32.0</td>\n",
       "      <td>18.891680</td>\n",
       "    </tr>\n",
       "    <tr>\n",
       "      <th>8</th>\n",
       "      <td>1002</td>\n",
       "      <td>12</td>\n",
       "      <td>47.0</td>\n",
       "      <td>363.24</td>\n",
       "      <td>41.0</td>\n",
       "      <td>14.058828</td>\n",
       "    </tr>\n",
       "    <tr>\n",
       "      <th>9</th>\n",
       "      <td>1003</td>\n",
       "      <td>12</td>\n",
       "      <td>149.0</td>\n",
       "      <td>1041.00</td>\n",
       "      <td>50.0</td>\n",
       "      <td>26.410293</td>\n",
       "    </tr>\n",
       "  </tbody>\n",
       "</table>\n",
       "</div>"
      ],
      "text/plain": [
       "   user_id  month  numer_calls  minutes  number_message         gb\n",
       "0     1000     12         16.0   116.83            11.0   1.856904\n",
       "1     1001      8         27.0   171.14            30.0   6.756982\n",
       "2     1001      9         49.0   297.69            44.0  13.002754\n",
       "3     1001     10         65.0   374.11            53.0  21.807119\n",
       "4     1001     11         64.0   404.59            36.0  18.070605\n",
       "5     1001     12         56.0   392.93            44.0  18.915215\n",
       "6     1002     10         11.0    54.13            15.0   6.398447\n",
       "7     1002     11         55.0   359.76            32.0  18.891680\n",
       "8     1002     12         47.0   363.24            41.0  14.058828\n",
       "9     1003     12        149.0  1041.00            50.0  26.410293"
      ]
     },
     "execution_count": 33,
     "metadata": {},
     "output_type": "execute_result"
    }
   ],
   "source": [
    "# Fusiona los datos de llamadas, minutos, mensajes e Internet con base en user_id y month\n",
    "management0_df = call_user_month.merge(minutes_user_month, on=['user_id','month'], how='outer')\n",
    "management1_df = management0_df.merge(messages_user_month, on=['user_id','month'], how='outer')\n",
    "management_df = management1_df.merge(trafic_user_month, on=['user_id','month'], how='outer')\n",
    "management_df.head(10)\n"
   ]
  },
  {
   "cell_type": "code",
   "execution_count": 34,
   "metadata": {
    "id": "0dNOXHag0q1H",
    "trusted": true
   },
   "outputs": [
    {
     "data": {
      "text/html": [
       "<div>\n",
       "<style scoped>\n",
       "    .dataframe tbody tr th:only-of-type {\n",
       "        vertical-align: middle;\n",
       "    }\n",
       "\n",
       "    .dataframe tbody tr th {\n",
       "        vertical-align: top;\n",
       "    }\n",
       "\n",
       "    .dataframe thead th {\n",
       "        text-align: right;\n",
       "    }\n",
       "</style>\n",
       "<table border=\"1\" class=\"dataframe\">\n",
       "  <thead>\n",
       "    <tr style=\"text-align: right;\">\n",
       "      <th></th>\n",
       "      <th>user_id</th>\n",
       "      <th>month</th>\n",
       "      <th>numer_calls</th>\n",
       "      <th>minutes</th>\n",
       "      <th>number_message</th>\n",
       "      <th>gb</th>\n",
       "      <th>plan_name</th>\n",
       "      <th>messages_included</th>\n",
       "      <th>mb_per_month_included</th>\n",
       "      <th>minutes_included</th>\n",
       "      <th>usd_monthly_pay</th>\n",
       "      <th>usd_per_gb</th>\n",
       "      <th>usd_per_message</th>\n",
       "      <th>usd_per_minute</th>\n",
       "      <th>gb_per_month_included</th>\n",
       "    </tr>\n",
       "  </thead>\n",
       "  <tbody>\n",
       "    <tr>\n",
       "      <th>0</th>\n",
       "      <td>1000</td>\n",
       "      <td>12</td>\n",
       "      <td>16.0</td>\n",
       "      <td>116.83</td>\n",
       "      <td>11.0</td>\n",
       "      <td>1.856904</td>\n",
       "      <td>ultimate</td>\n",
       "      <td>1000</td>\n",
       "      <td>30720</td>\n",
       "      <td>3000</td>\n",
       "      <td>70</td>\n",
       "      <td>7</td>\n",
       "      <td>0.01</td>\n",
       "      <td>0.01</td>\n",
       "      <td>30.0</td>\n",
       "    </tr>\n",
       "    <tr>\n",
       "      <th>1</th>\n",
       "      <td>1001</td>\n",
       "      <td>8</td>\n",
       "      <td>27.0</td>\n",
       "      <td>171.14</td>\n",
       "      <td>30.0</td>\n",
       "      <td>6.756982</td>\n",
       "      <td>surf</td>\n",
       "      <td>50</td>\n",
       "      <td>15360</td>\n",
       "      <td>500</td>\n",
       "      <td>20</td>\n",
       "      <td>10</td>\n",
       "      <td>0.03</td>\n",
       "      <td>0.03</td>\n",
       "      <td>15.0</td>\n",
       "    </tr>\n",
       "    <tr>\n",
       "      <th>2</th>\n",
       "      <td>1001</td>\n",
       "      <td>9</td>\n",
       "      <td>49.0</td>\n",
       "      <td>297.69</td>\n",
       "      <td>44.0</td>\n",
       "      <td>13.002754</td>\n",
       "      <td>surf</td>\n",
       "      <td>50</td>\n",
       "      <td>15360</td>\n",
       "      <td>500</td>\n",
       "      <td>20</td>\n",
       "      <td>10</td>\n",
       "      <td>0.03</td>\n",
       "      <td>0.03</td>\n",
       "      <td>15.0</td>\n",
       "    </tr>\n",
       "    <tr>\n",
       "      <th>3</th>\n",
       "      <td>1001</td>\n",
       "      <td>10</td>\n",
       "      <td>65.0</td>\n",
       "      <td>374.11</td>\n",
       "      <td>53.0</td>\n",
       "      <td>21.807119</td>\n",
       "      <td>surf</td>\n",
       "      <td>50</td>\n",
       "      <td>15360</td>\n",
       "      <td>500</td>\n",
       "      <td>20</td>\n",
       "      <td>10</td>\n",
       "      <td>0.03</td>\n",
       "      <td>0.03</td>\n",
       "      <td>15.0</td>\n",
       "    </tr>\n",
       "    <tr>\n",
       "      <th>4</th>\n",
       "      <td>1001</td>\n",
       "      <td>11</td>\n",
       "      <td>64.0</td>\n",
       "      <td>404.59</td>\n",
       "      <td>36.0</td>\n",
       "      <td>18.070605</td>\n",
       "      <td>surf</td>\n",
       "      <td>50</td>\n",
       "      <td>15360</td>\n",
       "      <td>500</td>\n",
       "      <td>20</td>\n",
       "      <td>10</td>\n",
       "      <td>0.03</td>\n",
       "      <td>0.03</td>\n",
       "      <td>15.0</td>\n",
       "    </tr>\n",
       "    <tr>\n",
       "      <th>5</th>\n",
       "      <td>1001</td>\n",
       "      <td>12</td>\n",
       "      <td>56.0</td>\n",
       "      <td>392.93</td>\n",
       "      <td>44.0</td>\n",
       "      <td>18.915215</td>\n",
       "      <td>surf</td>\n",
       "      <td>50</td>\n",
       "      <td>15360</td>\n",
       "      <td>500</td>\n",
       "      <td>20</td>\n",
       "      <td>10</td>\n",
       "      <td>0.03</td>\n",
       "      <td>0.03</td>\n",
       "      <td>15.0</td>\n",
       "    </tr>\n",
       "    <tr>\n",
       "      <th>6</th>\n",
       "      <td>1002</td>\n",
       "      <td>10</td>\n",
       "      <td>11.0</td>\n",
       "      <td>54.13</td>\n",
       "      <td>15.0</td>\n",
       "      <td>6.398447</td>\n",
       "      <td>surf</td>\n",
       "      <td>50</td>\n",
       "      <td>15360</td>\n",
       "      <td>500</td>\n",
       "      <td>20</td>\n",
       "      <td>10</td>\n",
       "      <td>0.03</td>\n",
       "      <td>0.03</td>\n",
       "      <td>15.0</td>\n",
       "    </tr>\n",
       "    <tr>\n",
       "      <th>7</th>\n",
       "      <td>1002</td>\n",
       "      <td>11</td>\n",
       "      <td>55.0</td>\n",
       "      <td>359.76</td>\n",
       "      <td>32.0</td>\n",
       "      <td>18.891680</td>\n",
       "      <td>surf</td>\n",
       "      <td>50</td>\n",
       "      <td>15360</td>\n",
       "      <td>500</td>\n",
       "      <td>20</td>\n",
       "      <td>10</td>\n",
       "      <td>0.03</td>\n",
       "      <td>0.03</td>\n",
       "      <td>15.0</td>\n",
       "    </tr>\n",
       "    <tr>\n",
       "      <th>8</th>\n",
       "      <td>1002</td>\n",
       "      <td>12</td>\n",
       "      <td>47.0</td>\n",
       "      <td>363.24</td>\n",
       "      <td>41.0</td>\n",
       "      <td>14.058828</td>\n",
       "      <td>surf</td>\n",
       "      <td>50</td>\n",
       "      <td>15360</td>\n",
       "      <td>500</td>\n",
       "      <td>20</td>\n",
       "      <td>10</td>\n",
       "      <td>0.03</td>\n",
       "      <td>0.03</td>\n",
       "      <td>15.0</td>\n",
       "    </tr>\n",
       "    <tr>\n",
       "      <th>9</th>\n",
       "      <td>1003</td>\n",
       "      <td>12</td>\n",
       "      <td>149.0</td>\n",
       "      <td>1041.00</td>\n",
       "      <td>50.0</td>\n",
       "      <td>26.410293</td>\n",
       "      <td>surf</td>\n",
       "      <td>50</td>\n",
       "      <td>15360</td>\n",
       "      <td>500</td>\n",
       "      <td>20</td>\n",
       "      <td>10</td>\n",
       "      <td>0.03</td>\n",
       "      <td>0.03</td>\n",
       "      <td>15.0</td>\n",
       "    </tr>\n",
       "  </tbody>\n",
       "</table>\n",
       "</div>"
      ],
      "text/plain": [
       "   user_id  month  numer_calls  minutes  number_message         gb plan_name  \\\n",
       "0     1000     12         16.0   116.83            11.0   1.856904  ultimate   \n",
       "1     1001      8         27.0   171.14            30.0   6.756982      surf   \n",
       "2     1001      9         49.0   297.69            44.0  13.002754      surf   \n",
       "3     1001     10         65.0   374.11            53.0  21.807119      surf   \n",
       "4     1001     11         64.0   404.59            36.0  18.070605      surf   \n",
       "5     1001     12         56.0   392.93            44.0  18.915215      surf   \n",
       "6     1002     10         11.0    54.13            15.0   6.398447      surf   \n",
       "7     1002     11         55.0   359.76            32.0  18.891680      surf   \n",
       "8     1002     12         47.0   363.24            41.0  14.058828      surf   \n",
       "9     1003     12        149.0  1041.00            50.0  26.410293      surf   \n",
       "\n",
       "   messages_included  mb_per_month_included  minutes_included  \\\n",
       "0               1000                  30720              3000   \n",
       "1                 50                  15360               500   \n",
       "2                 50                  15360               500   \n",
       "3                 50                  15360               500   \n",
       "4                 50                  15360               500   \n",
       "5                 50                  15360               500   \n",
       "6                 50                  15360               500   \n",
       "7                 50                  15360               500   \n",
       "8                 50                  15360               500   \n",
       "9                 50                  15360               500   \n",
       "\n",
       "   usd_monthly_pay  usd_per_gb  usd_per_message  usd_per_minute  \\\n",
       "0               70           7             0.01            0.01   \n",
       "1               20          10             0.03            0.03   \n",
       "2               20          10             0.03            0.03   \n",
       "3               20          10             0.03            0.03   \n",
       "4               20          10             0.03            0.03   \n",
       "5               20          10             0.03            0.03   \n",
       "6               20          10             0.03            0.03   \n",
       "7               20          10             0.03            0.03   \n",
       "8               20          10             0.03            0.03   \n",
       "9               20          10             0.03            0.03   \n",
       "\n",
       "   gb_per_month_included  \n",
       "0                   30.0  \n",
       "1                   15.0  \n",
       "2                   15.0  \n",
       "3                   15.0  \n",
       "4                   15.0  \n",
       "5                   15.0  \n",
       "6                   15.0  \n",
       "7                   15.0  \n",
       "8                   15.0  \n",
       "9                   15.0  "
      ]
     },
     "execution_count": 34,
     "metadata": {},
     "output_type": "execute_result"
    }
   ],
   "source": [
    "# Añade la información de la tarifa\n",
    "management_plans0_df = management_df.merge(df_users[['user_id', 'plan_name']], on='user_id', how='left')\n",
    "management_plans_df = management_plans0_df.merge(df_plans, on='plan_name', how='left')\n",
    "management_plans_df.head(10)\n"
   ]
  },
  {
   "cell_type": "code",
   "execution_count": 35,
   "metadata": {
    "id": "5FGCf_c60q1I",
    "trusted": true
   },
   "outputs": [],
   "source": [
    "# Calcula el ingreso mensual para cada usuario\n",
    "management_plans_df['additional_minutes'] = np.where(\n",
    "    management_plans_df['minutes'] > management_plans_df['minutes_included'],\n",
    "    management_plans_df['minutes'] - management_plans_df['minutes_included'],\n",
    "    0)\n",
    "management_plans_df['additional_sms'] = np.where(\n",
    "    management_plans_df['number_message'] > management_plans_df['messages_included'],\n",
    "    management_plans_df['number_message'] - management_plans_df['messages_included'],\n",
    "    0)\n",
    "management_plans_df['additional_gb'] = np.where(\n",
    "    management_plans_df['gb'] > management_plans_df['gb_per_month_included'],\n",
    "    management_plans_df['gb'] - management_plans_df['gb_per_month_included'],\n",
    "    0)"
   ]
  },
  {
   "cell_type": "code",
   "execution_count": 36,
   "metadata": {
    "trusted": true
   },
   "outputs": [],
   "source": [
    "management_plans_df['cost_additional_minutes'] = np.where(\n",
    "    management_plans_df['additional_minutes'] > 0,\n",
    "    management_plans_df['additional_minutes'] * management_plans_df['usd_per_minute'],\n",
    "    0)\n",
    "management_plans_df['cost_additional_sms'] = np.where(\n",
    "    management_plans_df['additional_sms'] > 0,\n",
    "    management_plans_df['additional_sms'] * management_plans_df['usd_per_message'],\n",
    "    0)\n",
    "management_plans_df['cost_additional_gb'] = np.where(\n",
    "    management_plans_df['additional_gb'] > 0,\n",
    "    management_plans_df['additional_gb'] * management_plans_df['usd_per_gb'],\n",
    "    0)"
   ]
  },
  {
   "cell_type": "code",
   "execution_count": 37,
   "metadata": {
    "trusted": true
   },
   "outputs": [
    {
     "data": {
      "text/html": [
       "<div>\n",
       "<style scoped>\n",
       "    .dataframe tbody tr th:only-of-type {\n",
       "        vertical-align: middle;\n",
       "    }\n",
       "\n",
       "    .dataframe tbody tr th {\n",
       "        vertical-align: top;\n",
       "    }\n",
       "\n",
       "    .dataframe thead th {\n",
       "        text-align: right;\n",
       "    }\n",
       "</style>\n",
       "<table border=\"1\" class=\"dataframe\">\n",
       "  <thead>\n",
       "    <tr style=\"text-align: right;\">\n",
       "      <th></th>\n",
       "      <th>user_id</th>\n",
       "      <th>month</th>\n",
       "      <th>numer_calls</th>\n",
       "      <th>minutes</th>\n",
       "      <th>number_message</th>\n",
       "      <th>gb</th>\n",
       "      <th>plan_name</th>\n",
       "      <th>messages_included</th>\n",
       "      <th>mb_per_month_included</th>\n",
       "      <th>minutes_included</th>\n",
       "      <th>...</th>\n",
       "      <th>usd_per_message</th>\n",
       "      <th>usd_per_minute</th>\n",
       "      <th>gb_per_month_included</th>\n",
       "      <th>additional_minutes</th>\n",
       "      <th>additional_sms</th>\n",
       "      <th>additional_gb</th>\n",
       "      <th>cost_additional_minutes</th>\n",
       "      <th>cost_additional_sms</th>\n",
       "      <th>cost_additional_gb</th>\n",
       "      <th>monthly_income</th>\n",
       "    </tr>\n",
       "  </thead>\n",
       "  <tbody>\n",
       "    <tr>\n",
       "      <th>0</th>\n",
       "      <td>1000</td>\n",
       "      <td>12</td>\n",
       "      <td>16.0</td>\n",
       "      <td>116.83</td>\n",
       "      <td>11.0</td>\n",
       "      <td>1.856904</td>\n",
       "      <td>ultimate</td>\n",
       "      <td>1000</td>\n",
       "      <td>30720</td>\n",
       "      <td>3000</td>\n",
       "      <td>...</td>\n",
       "      <td>0.01</td>\n",
       "      <td>0.01</td>\n",
       "      <td>30.0</td>\n",
       "      <td>0.0</td>\n",
       "      <td>0.0</td>\n",
       "      <td>0.000000</td>\n",
       "      <td>0.00</td>\n",
       "      <td>0.00</td>\n",
       "      <td>0.000000</td>\n",
       "      <td>70.000000</td>\n",
       "    </tr>\n",
       "    <tr>\n",
       "      <th>1</th>\n",
       "      <td>1001</td>\n",
       "      <td>8</td>\n",
       "      <td>27.0</td>\n",
       "      <td>171.14</td>\n",
       "      <td>30.0</td>\n",
       "      <td>6.756982</td>\n",
       "      <td>surf</td>\n",
       "      <td>50</td>\n",
       "      <td>15360</td>\n",
       "      <td>500</td>\n",
       "      <td>...</td>\n",
       "      <td>0.03</td>\n",
       "      <td>0.03</td>\n",
       "      <td>15.0</td>\n",
       "      <td>0.0</td>\n",
       "      <td>0.0</td>\n",
       "      <td>0.000000</td>\n",
       "      <td>0.00</td>\n",
       "      <td>0.00</td>\n",
       "      <td>0.000000</td>\n",
       "      <td>20.000000</td>\n",
       "    </tr>\n",
       "    <tr>\n",
       "      <th>2</th>\n",
       "      <td>1001</td>\n",
       "      <td>9</td>\n",
       "      <td>49.0</td>\n",
       "      <td>297.69</td>\n",
       "      <td>44.0</td>\n",
       "      <td>13.002754</td>\n",
       "      <td>surf</td>\n",
       "      <td>50</td>\n",
       "      <td>15360</td>\n",
       "      <td>500</td>\n",
       "      <td>...</td>\n",
       "      <td>0.03</td>\n",
       "      <td>0.03</td>\n",
       "      <td>15.0</td>\n",
       "      <td>0.0</td>\n",
       "      <td>0.0</td>\n",
       "      <td>0.000000</td>\n",
       "      <td>0.00</td>\n",
       "      <td>0.00</td>\n",
       "      <td>0.000000</td>\n",
       "      <td>20.000000</td>\n",
       "    </tr>\n",
       "    <tr>\n",
       "      <th>3</th>\n",
       "      <td>1001</td>\n",
       "      <td>10</td>\n",
       "      <td>65.0</td>\n",
       "      <td>374.11</td>\n",
       "      <td>53.0</td>\n",
       "      <td>21.807119</td>\n",
       "      <td>surf</td>\n",
       "      <td>50</td>\n",
       "      <td>15360</td>\n",
       "      <td>500</td>\n",
       "      <td>...</td>\n",
       "      <td>0.03</td>\n",
       "      <td>0.03</td>\n",
       "      <td>15.0</td>\n",
       "      <td>0.0</td>\n",
       "      <td>3.0</td>\n",
       "      <td>6.807119</td>\n",
       "      <td>0.00</td>\n",
       "      <td>0.09</td>\n",
       "      <td>68.071191</td>\n",
       "      <td>88.161191</td>\n",
       "    </tr>\n",
       "    <tr>\n",
       "      <th>4</th>\n",
       "      <td>1001</td>\n",
       "      <td>11</td>\n",
       "      <td>64.0</td>\n",
       "      <td>404.59</td>\n",
       "      <td>36.0</td>\n",
       "      <td>18.070605</td>\n",
       "      <td>surf</td>\n",
       "      <td>50</td>\n",
       "      <td>15360</td>\n",
       "      <td>500</td>\n",
       "      <td>...</td>\n",
       "      <td>0.03</td>\n",
       "      <td>0.03</td>\n",
       "      <td>15.0</td>\n",
       "      <td>0.0</td>\n",
       "      <td>0.0</td>\n",
       "      <td>3.070605</td>\n",
       "      <td>0.00</td>\n",
       "      <td>0.00</td>\n",
       "      <td>30.706055</td>\n",
       "      <td>50.706055</td>\n",
       "    </tr>\n",
       "    <tr>\n",
       "      <th>5</th>\n",
       "      <td>1001</td>\n",
       "      <td>12</td>\n",
       "      <td>56.0</td>\n",
       "      <td>392.93</td>\n",
       "      <td>44.0</td>\n",
       "      <td>18.915215</td>\n",
       "      <td>surf</td>\n",
       "      <td>50</td>\n",
       "      <td>15360</td>\n",
       "      <td>500</td>\n",
       "      <td>...</td>\n",
       "      <td>0.03</td>\n",
       "      <td>0.03</td>\n",
       "      <td>15.0</td>\n",
       "      <td>0.0</td>\n",
       "      <td>0.0</td>\n",
       "      <td>3.915215</td>\n",
       "      <td>0.00</td>\n",
       "      <td>0.00</td>\n",
       "      <td>39.152148</td>\n",
       "      <td>59.152148</td>\n",
       "    </tr>\n",
       "    <tr>\n",
       "      <th>6</th>\n",
       "      <td>1002</td>\n",
       "      <td>10</td>\n",
       "      <td>11.0</td>\n",
       "      <td>54.13</td>\n",
       "      <td>15.0</td>\n",
       "      <td>6.398447</td>\n",
       "      <td>surf</td>\n",
       "      <td>50</td>\n",
       "      <td>15360</td>\n",
       "      <td>500</td>\n",
       "      <td>...</td>\n",
       "      <td>0.03</td>\n",
       "      <td>0.03</td>\n",
       "      <td>15.0</td>\n",
       "      <td>0.0</td>\n",
       "      <td>0.0</td>\n",
       "      <td>0.000000</td>\n",
       "      <td>0.00</td>\n",
       "      <td>0.00</td>\n",
       "      <td>0.000000</td>\n",
       "      <td>20.000000</td>\n",
       "    </tr>\n",
       "    <tr>\n",
       "      <th>7</th>\n",
       "      <td>1002</td>\n",
       "      <td>11</td>\n",
       "      <td>55.0</td>\n",
       "      <td>359.76</td>\n",
       "      <td>32.0</td>\n",
       "      <td>18.891680</td>\n",
       "      <td>surf</td>\n",
       "      <td>50</td>\n",
       "      <td>15360</td>\n",
       "      <td>500</td>\n",
       "      <td>...</td>\n",
       "      <td>0.03</td>\n",
       "      <td>0.03</td>\n",
       "      <td>15.0</td>\n",
       "      <td>0.0</td>\n",
       "      <td>0.0</td>\n",
       "      <td>3.891680</td>\n",
       "      <td>0.00</td>\n",
       "      <td>0.00</td>\n",
       "      <td>38.916797</td>\n",
       "      <td>58.916797</td>\n",
       "    </tr>\n",
       "    <tr>\n",
       "      <th>8</th>\n",
       "      <td>1002</td>\n",
       "      <td>12</td>\n",
       "      <td>47.0</td>\n",
       "      <td>363.24</td>\n",
       "      <td>41.0</td>\n",
       "      <td>14.058828</td>\n",
       "      <td>surf</td>\n",
       "      <td>50</td>\n",
       "      <td>15360</td>\n",
       "      <td>500</td>\n",
       "      <td>...</td>\n",
       "      <td>0.03</td>\n",
       "      <td>0.03</td>\n",
       "      <td>15.0</td>\n",
       "      <td>0.0</td>\n",
       "      <td>0.0</td>\n",
       "      <td>0.000000</td>\n",
       "      <td>0.00</td>\n",
       "      <td>0.00</td>\n",
       "      <td>0.000000</td>\n",
       "      <td>20.000000</td>\n",
       "    </tr>\n",
       "    <tr>\n",
       "      <th>9</th>\n",
       "      <td>1003</td>\n",
       "      <td>12</td>\n",
       "      <td>149.0</td>\n",
       "      <td>1041.00</td>\n",
       "      <td>50.0</td>\n",
       "      <td>26.410293</td>\n",
       "      <td>surf</td>\n",
       "      <td>50</td>\n",
       "      <td>15360</td>\n",
       "      <td>500</td>\n",
       "      <td>...</td>\n",
       "      <td>0.03</td>\n",
       "      <td>0.03</td>\n",
       "      <td>15.0</td>\n",
       "      <td>541.0</td>\n",
       "      <td>0.0</td>\n",
       "      <td>11.410293</td>\n",
       "      <td>16.23</td>\n",
       "      <td>0.00</td>\n",
       "      <td>114.102930</td>\n",
       "      <td>150.332930</td>\n",
       "    </tr>\n",
       "  </tbody>\n",
       "</table>\n",
       "<p>10 rows × 22 columns</p>\n",
       "</div>"
      ],
      "text/plain": [
       "   user_id  month  numer_calls  minutes  number_message         gb plan_name  \\\n",
       "0     1000     12         16.0   116.83            11.0   1.856904  ultimate   \n",
       "1     1001      8         27.0   171.14            30.0   6.756982      surf   \n",
       "2     1001      9         49.0   297.69            44.0  13.002754      surf   \n",
       "3     1001     10         65.0   374.11            53.0  21.807119      surf   \n",
       "4     1001     11         64.0   404.59            36.0  18.070605      surf   \n",
       "5     1001     12         56.0   392.93            44.0  18.915215      surf   \n",
       "6     1002     10         11.0    54.13            15.0   6.398447      surf   \n",
       "7     1002     11         55.0   359.76            32.0  18.891680      surf   \n",
       "8     1002     12         47.0   363.24            41.0  14.058828      surf   \n",
       "9     1003     12        149.0  1041.00            50.0  26.410293      surf   \n",
       "\n",
       "   messages_included  mb_per_month_included  minutes_included  ...  \\\n",
       "0               1000                  30720              3000  ...   \n",
       "1                 50                  15360               500  ...   \n",
       "2                 50                  15360               500  ...   \n",
       "3                 50                  15360               500  ...   \n",
       "4                 50                  15360               500  ...   \n",
       "5                 50                  15360               500  ...   \n",
       "6                 50                  15360               500  ...   \n",
       "7                 50                  15360               500  ...   \n",
       "8                 50                  15360               500  ...   \n",
       "9                 50                  15360               500  ...   \n",
       "\n",
       "   usd_per_message  usd_per_minute  gb_per_month_included  additional_minutes  \\\n",
       "0             0.01            0.01                   30.0                 0.0   \n",
       "1             0.03            0.03                   15.0                 0.0   \n",
       "2             0.03            0.03                   15.0                 0.0   \n",
       "3             0.03            0.03                   15.0                 0.0   \n",
       "4             0.03            0.03                   15.0                 0.0   \n",
       "5             0.03            0.03                   15.0                 0.0   \n",
       "6             0.03            0.03                   15.0                 0.0   \n",
       "7             0.03            0.03                   15.0                 0.0   \n",
       "8             0.03            0.03                   15.0                 0.0   \n",
       "9             0.03            0.03                   15.0               541.0   \n",
       "\n",
       "   additional_sms  additional_gb  cost_additional_minutes  \\\n",
       "0             0.0       0.000000                     0.00   \n",
       "1             0.0       0.000000                     0.00   \n",
       "2             0.0       0.000000                     0.00   \n",
       "3             3.0       6.807119                     0.00   \n",
       "4             0.0       3.070605                     0.00   \n",
       "5             0.0       3.915215                     0.00   \n",
       "6             0.0       0.000000                     0.00   \n",
       "7             0.0       3.891680                     0.00   \n",
       "8             0.0       0.000000                     0.00   \n",
       "9             0.0      11.410293                    16.23   \n",
       "\n",
       "   cost_additional_sms  cost_additional_gb  monthly_income  \n",
       "0                 0.00            0.000000       70.000000  \n",
       "1                 0.00            0.000000       20.000000  \n",
       "2                 0.00            0.000000       20.000000  \n",
       "3                 0.09           68.071191       88.161191  \n",
       "4                 0.00           30.706055       50.706055  \n",
       "5                 0.00           39.152148       59.152148  \n",
       "6                 0.00            0.000000       20.000000  \n",
       "7                 0.00           38.916797       58.916797  \n",
       "8                 0.00            0.000000       20.000000  \n",
       "9                 0.00          114.102930      150.332930  \n",
       "\n",
       "[10 rows x 22 columns]"
      ]
     },
     "execution_count": 37,
     "metadata": {},
     "output_type": "execute_result"
    }
   ],
   "source": [
    "management_plans_df['monthly_income'] = management_plans_df['usd_monthly_pay'] + management_plans_df['cost_additional_minutes'] + management_plans_df['cost_additional_sms'] + management_plans_df['cost_additional_gb']\n",
    "management_plans_df.head(10)"
   ]
  },
  {
   "cell_type": "code",
   "execution_count": 38,
   "metadata": {
    "trusted": true
   },
   "outputs": [
    {
     "data": {
      "text/plain": [
       "user_id  month\n",
       "1000     12        70.000000\n",
       "1001     8         20.000000\n",
       "         9         20.000000\n",
       "         10        88.161191\n",
       "         11        50.706055\n",
       "         12        59.152148\n",
       "1002     10        20.000000\n",
       "         11        58.916797\n",
       "         12        20.000000\n",
       "1003     12       150.332930\n",
       "Name: monthly_income, dtype: float64"
      ]
     },
     "execution_count": 38,
     "metadata": {},
     "output_type": "execute_result"
    }
   ],
   "source": [
    "result_df = management_plans_df.groupby(['user_id', 'month'])['monthly_income'].sum()\n",
    "result_df.head(10)"
   ]
  },
  {
   "cell_type": "markdown",
   "metadata": {},
   "source": [
    "Hemos realizado agrupaciones por **user_id** y por **month** para tener el número de mensajes utilizados, minutos incurridos, y gigas ocupados por cada usuario y por mes, para lo que se usó el método **(.groupby)** con el parámetro **reset_index** para poder tener la agrupación en la construcción de una nueva tabla. Posteriormente unimos estos nuevos DataFrame con el método **(.merge)** con el parámetro **on=outer** para unir toda la información, ya que puede ser que algún usuario aparezca en el df de los sms, pero no en el de llamadas. Posteriormente extrajimos del **df_user** la columna **plan_name** para de esta manera poner concatenar con **(.merge)** mismo, a este se le concatenó el **df_plans**, y tener por usuario y mes el movimiento que hubo y los datos de sus planes. Así pudimos realizar operaciones, utilizando el método **(.where)** para  obtener nuevas columnas, que tengan el uso adicional de sms, minutos y gigas, de igual manera se aumentó columanas donde se multiplicó estos valores adicionales por su costos respectivos, y así, sumar éstos con el costo mensual del plan. Así obtuvimos el ingreso total por usuario y por mes."
   ]
  },
  {
   "cell_type": "markdown",
   "metadata": {},
   "source": [
    "<div class=\"alert alert-block alert-success\"> <b>Comentario del revisor</b> <a class=\"tocSkip\"></a><br> <b>Éxito</b> - Excelente avance hasta esta etapa del proyecto. Has realizado una preparación de datos muy completa: estandarizaste fechas, corregiste valores ausentes, enriqueciste los conjuntos de datos y unificaste múltiples fuentes mediante técnicas sólidas como `groupby` y `merge`. El cálculo de ingresos adicionales por tipo de consumo y la suma total mensual están correctamente planteados y bien estructurados. </div>"
   ]
  },
  {
   "cell_type": "markdown",
   "metadata": {
    "id": "-jtyHzJb0q1I"
   },
   "source": [
    "## Estudia el comportamiento de usuario"
   ]
  },
  {
   "cell_type": "markdown",
   "metadata": {
    "id": "vtW4CJEe0q1J"
   },
   "source": [
    "### Llamadas"
   ]
  },
  {
   "cell_type": "code",
   "execution_count": 39,
   "metadata": {
    "id": "Jf5v5--k0q1J",
    "trusted": true
   },
   "outputs": [],
   "source": [
    "# Compara la duración promedio de llamadas por cada plan y por cada mes. Traza un gráfico de barras para visualizarla.\n",
    "management_plans_df['average_call'] = management_plans_df['minutes']/management_plans_df['numer_calls']"
   ]
  },
  {
   "cell_type": "code",
   "execution_count": 40,
   "metadata": {
    "trusted": true
   },
   "outputs": [
    {
     "data": {
      "text/plain": [
       "<AxesSubplot:title={'center':'Promedio de Llamadas por Mes'}, xlabel='Mes', ylabel='Promedio de la Llamada'>"
      ]
     },
     "execution_count": 40,
     "metadata": {},
     "output_type": "execute_result"
    },
    {
     "data": {
      "image/png": "[encoded data removed]",
      "text/plain": [
       "<Figure size 640x480 with 1 Axes>"
      ]
     },
     "metadata": {},
     "output_type": "display_data"
    }
   ],
   "source": [
    "result_average_df = management_plans_df.groupby(['plan_name','month'])['average_call'].mean().unstack(level=0)\n",
    "\n",
    "result_average_df.plot(kind='bar',\n",
    "                       xlabel='Mes',\n",
    "                       ylabel='Promedio de la Llamada',\n",
    "                       title='Promedio de Llamadas por Mes',\n",
    "                       rot=0)"
   ]
  },
  {
   "cell_type": "code",
   "execution_count": 41,
   "metadata": {
    "id": "QoLqW1S_0q1J",
    "trusted": true
   },
   "outputs": [],
   "source": [
    "# Compara el número de minutos mensuales que necesitan los usuarios de cada plan. Traza un histograma.\n",
    "surf_data = management_plans_df[management_plans_df['plan_name'] == 'surf']['minutes']\n",
    "ultimate_data = management_plans_df[management_plans_df['plan_name'] == 'ultimate']['minutes']"
   ]
  },
  {
   "cell_type": "code",
   "execution_count": 42,
   "metadata": {
    "trusted": true
   },
   "outputs": [
    {
     "data": {
      "image/png": "[encoded data removed]",
      "text/plain": [
       "<Figure size 1000x600 with 1 Axes>"
      ]
     },
     "metadata": {},
     "output_type": "display_data"
    }
   ],
   "source": [
    "plt.figure(figsize=(10, 6))\n",
    "plt.hist(surf_data, alpha=0.5, label='surf')\n",
    "plt.hist(ultimate_data, alpha=0.5, label='ultimate')\n",
    "\n",
    "plt.xlabel('Minutos')\n",
    "plt.ylabel('Frecuencia')\n",
    "plt.title('Distribución de Minutos por Plan')\n",
    "plt.legend()\n",
    "plt.show()"
   ]
  },
  {
   "cell_type": "code",
   "execution_count": 43,
   "metadata": {
    "id": "oSndbAnt0q1K",
    "trusted": true
   },
   "outputs": [
    {
     "name": "stdout",
     "output_type": "stream",
     "text": [
      "Media de llamadas para el plan surf: 6.756733508523206\n",
      "Varianza de llamadas para el plan surf: 1.2019120408692192\n",
      "Media de llamadas para el plan ultimate: 6.678253305983586\n",
      "Varianza de llamadas para el plan ultimate: 0.8777278469198699\n"
     ]
    }
   ],
   "source": [
    "# Calcula la media y la varianza de la duración mensual de llamadas.\n",
    "media_call_surf = management_plans_df[management_plans_df['plan_name'] == 'surf']['average_call'].mean()\n",
    "media_call_ultimate = management_plans_df[management_plans_df['plan_name'] == 'ultimate']['average_call'].mean()\n",
    "varianza_call_surf = management_plans_df[management_plans_df['plan_name'] == 'surf']['average_call'].var()\n",
    "varianza_call_ultimate = management_plans_df[management_plans_df['plan_name'] == 'ultimate']['average_call'].var()\n",
    "\n",
    "print(f\"Media de llamadas para el plan surf: {media_call_surf}\")\n",
    "print(f\"Varianza de llamadas para el plan surf: {varianza_call_surf}\")\n",
    "print(f\"Media de llamadas para el plan ultimate: {media_call_ultimate}\")\n",
    "print(f\"Varianza de llamadas para el plan ultimate: {varianza_call_ultimate}\")\n"
   ]
  },
  {
   "cell_type": "code",
   "execution_count": 44,
   "metadata": {
    "id": "nZzoRUKc0q1K",
    "trusted": true
   },
   "outputs": [
    {
     "data": {
      "text/plain": [
       "<AxesSubplot:xlabel='average_call'>"
      ]
     },
     "execution_count": 44,
     "metadata": {},
     "output_type": "execute_result"
    },
    {
     "data": {
      "image/png": "[encoded data removed]",
      "text/plain": [
       "<Figure size 640x480 with 1 Axes>"
      ]
     },
     "metadata": {},
     "output_type": "display_data"
    }
   ],
   "source": [
    "# Traza un diagrama de caja para visualizar la distribución de la duración mensual de llamadas\n",
    "average_surf_data = management_plans_df[management_plans_df['plan_name'] == 'surf']['average_call']\n",
    "average_ultimate_data = management_plans_df[management_plans_df['plan_name'] == 'ultimate']['average_call']\n",
    "sns.boxplot(average_surf_data)\n"
   ]
  },
  {
   "cell_type": "code",
   "execution_count": 45,
   "metadata": {
    "trusted": true
   },
   "outputs": [
    {
     "data": {
      "text/plain": [
       "<AxesSubplot:xlabel='average_call'>"
      ]
     },
     "execution_count": 45,
     "metadata": {},
     "output_type": "execute_result"
    },
    {
     "data": {
      "image/png": "[encoded data removed]",
      "text/plain": [
       "<Figure size 640x480 with 1 Axes>"
      ]
     },
     "metadata": {},
     "output_type": "display_data"
    }
   ],
   "source": [
    "sns.boxplot(average_ultimate_data)"
   ]
  },
  {
   "cell_type": "markdown",
   "metadata": {
    "id": "r627zBO50q1K"
   },
   "source": [
    "Su comportamiento varia de acuerdo al plan.\n",
    "\n",
    "Tanto con el gráfico de barras, así como la media, podemos ver que en el plan **surf** es donde los clientes mantienen más tiempo en la llamada, a comparación del plan **ultimate**, de la misma manera vemos que en el gráfico de caja el plan **surf** tienen muchos datos atípicos, lo que nos muetra la variaza, que hay muchos datos lejos de nuestra media.\n",
    "\n",
    "En el plan ultimate, tanto con el gráfico de barras, así como la media, podemos ver que los clientes se mantienen en menos tiempo en la llamada, en el gráfico de caja no tienen tantos datos atípicos, lo que nos muetra la variaza, que hay menos datos lejos de nuestra media."
   ]
  },
  {
   "cell_type": "markdown",
   "metadata": {},
   "source": [
    "<div class=\"alert alert-block alert-success\"> <b>Comentario del revisor</b> <a class=\"tocSkip\"></a><br> <b>Éxito</b> - Muy buen análisis comparativo. Has utilizado adecuadamente diferentes representaciones gráficas para evaluar la duración promedio de llamadas entre planes, lo cual enriquece tu interpretación. Además, el uso de métricas como la media y la varianza aporta un respaldo cuantitativo a tus observaciones, lo que demuestra un enfoque analítico sólido. </div>"
   ]
  },
  {
   "cell_type": "markdown",
   "metadata": {
    "id": "8idKy8Wh0q1L"
   },
   "source": [
    "### Mensajes"
   ]
  },
  {
   "cell_type": "code",
   "execution_count": 46,
   "metadata": {
    "id": "NXLxiTit0q1L",
    "trusted": true
   },
   "outputs": [
    {
     "data": {
      "text/plain": [
       "<AxesSubplot:title={'center':'Mensajes Promedio Por Mes'}, xlabel='Mes', ylabel='Promedio de Mensajes'>"
      ]
     },
     "execution_count": 46,
     "metadata": {},
     "output_type": "execute_result"
    },
    {
     "data": {
      "image/png": "[encoded data removed]",
      "text/plain": [
       "<Figure size 640x480 with 1 Axes>"
      ]
     },
     "metadata": {},
     "output_type": "display_data"
    }
   ],
   "source": [
    "# Comprara el número de mensajes que tienden a enviar cada mes los usuarios de cada plan\n",
    "message_plan_df = management_plans_df.groupby(['plan_name','month'])['number_message'].mean().unstack(level=0)\n",
    "message_plan_df.plot(kind='bar',\n",
    "                       xlabel='Mes',\n",
    "                       ylabel='Promedio de Mensajes',\n",
    "                       title='Mensajes Promedio Por Mes',\n",
    "                       rot=0)\n"
   ]
  },
  {
   "cell_type": "code",
   "execution_count": 47,
   "metadata": {
    "id": "GRI_R7xF0q1L",
    "trusted": true
   },
   "outputs": [],
   "source": [
    "surf_message = management_plans_df[management_plans_df['plan_name'] == 'surf']['number_message']\n",
    "ultimate_message = management_plans_df[management_plans_df['plan_name'] == 'ultimate']['number_message']"
   ]
  },
  {
   "cell_type": "code",
   "execution_count": 48,
   "metadata": {
    "id": "dtFwCGAp0q1M",
    "trusted": true
   },
   "outputs": [
    {
     "data": {
      "image/png": "[encoded data removed]",
      "text/plain": [
       "<Figure size 1000x600 with 1 Axes>"
      ]
     },
     "metadata": {},
     "output_type": "display_data"
    }
   ],
   "source": [
    "plt.figure(figsize=(10, 6))\n",
    "plt.hist(surf_message, alpha=0.5, label='surf')\n",
    "plt.hist(ultimate_message, alpha=0.5, label='ultimate')\n",
    "\n",
    "plt.xlabel('Mensajes')\n",
    "plt.ylabel('Frecuencia')\n",
    "plt.title('Distribución de Mensajes por Plan')\n",
    "plt.legend()\n",
    "plt.show()"
   ]
  },
  {
   "cell_type": "code",
   "execution_count": 49,
   "metadata": {
    "trusted": true
   },
   "outputs": [
    {
     "name": "stdout",
     "output_type": "stream",
     "text": [
      "Media de mensajes para el plan surf: 40.10965630114566\n",
      "Varianza de mensajes para el plan surf: 1091.3442310038054\n",
      "Media de mensajes para el plan ultimate: 46.29623287671233\n",
      "Varianza de mensajes para el plan ultimate: 1085.183107568317\n"
     ]
    }
   ],
   "source": [
    "media_message_surf = management_plans_df[management_plans_df['plan_name'] == 'surf']['number_message'].mean()\n",
    "media_message_ultimate = management_plans_df[management_plans_df['plan_name'] == 'ultimate']['number_message'].mean()\n",
    "varianza_message_surf = management_plans_df[management_plans_df['plan_name'] == 'surf']['number_message'].var()\n",
    "varianza_message_ultimate = management_plans_df[management_plans_df['plan_name'] == 'ultimate']['number_message'].var()\n",
    "\n",
    "print(f\"Media de mensajes para el plan surf: {media_message_surf}\")\n",
    "print(f\"Varianza de mensajes para el plan surf: {varianza_message_surf}\")\n",
    "print(f\"Media de mensajes para el plan ultimate: {media_message_ultimate}\")\n",
    "print(f\"Varianza de mensajes para el plan ultimate: {varianza_message_ultimate}\")"
   ]
  },
  {
   "cell_type": "code",
   "execution_count": 50,
   "metadata": {
    "trusted": true
   },
   "outputs": [
    {
     "data": {
      "text/plain": [
       "<AxesSubplot:xlabel='number_message'>"
      ]
     },
     "execution_count": 50,
     "metadata": {},
     "output_type": "execute_result"
    },
    {
     "data": {
      "image/png": "[encoded data removed]",
      "text/plain": [
       "<Figure size 640x480 with 1 Axes>"
      ]
     },
     "metadata": {},
     "output_type": "display_data"
    }
   ],
   "source": [
    "average_surf_message = management_plans_df[management_plans_df['plan_name'] == 'surf']['number_message']\n",
    "average_ultimate_message = management_plans_df[management_plans_df['plan_name'] == 'ultimate']['number_message']\n",
    "sns.boxplot(average_surf_message)"
   ]
  },
  {
   "cell_type": "code",
   "execution_count": 51,
   "metadata": {
    "trusted": true
   },
   "outputs": [
    {
     "data": {
      "text/plain": [
       "<AxesSubplot:xlabel='number_message'>"
      ]
     },
     "execution_count": 51,
     "metadata": {},
     "output_type": "execute_result"
    },
    {
     "data": {
      "image/png": "[encoded data removed]",
      "text/plain": [
       "<Figure size 640x480 with 1 Axes>"
      ]
     },
     "metadata": {},
     "output_type": "display_data"
    }
   ],
   "source": [
    "sns.boxplot(average_ultimate_message)"
   ]
  },
  {
   "cell_type": "markdown",
   "metadata": {
    "id": "390SSL480q1M"
   },
   "source": [
    "Su comportamiento varia de acuerdo al plan.\n",
    "\n",
    "En el gráfico de barras, muestra que en el plan ultimate es donde más mensaje en promedio se envian al mes. Mas sin embargo la variaza de ambos planes es alta, lo que sugiere que la media, por sí sola, no es una representación muy precisa de todos los usuarios. Hay una amplia gama de comportamientos en cuanto al envío de mensajes, que es lo que podemos ver en los gráficos de cajas, cuantos valores atípicos poseemos."
   ]
  },
  {
   "cell_type": "markdown",
   "metadata": {
    "id": "42YSypXz0q1M"
   },
   "source": [
    "### Internet"
   ]
  },
  {
   "cell_type": "code",
   "execution_count": 52,
   "metadata": {
    "id": "lSuKPtjh0q1M",
    "trusted": true
   },
   "outputs": [
    {
     "data": {
      "text/plain": [
       "<AxesSubplot:title={'center':'GB Promedio Por Mes'}, xlabel='Mes', ylabel='Promedio de GB'>"
      ]
     },
     "execution_count": 52,
     "metadata": {},
     "output_type": "execute_result"
    },
    {
     "data": {
      "image/png": "[encoded data removed]",
      "text/plain": [
       "<Figure size 640x480 with 1 Axes>"
      ]
     },
     "metadata": {},
     "output_type": "display_data"
    }
   ],
   "source": [
    "# Compara la cantidad de tráfico de Internet consumido por usuarios por plan\n",
    "trafic_plan_df = management_plans_df.groupby(['plan_name','month'])['gb'].mean().unstack(level=0)\n",
    "trafic_plan_df.plot(kind='bar',\n",
    "                       xlabel='Mes',\n",
    "                       ylabel='Promedio de GB',\n",
    "                       title='GB Promedio Por Mes',\n",
    "                       rot=0)"
   ]
  },
  {
   "cell_type": "code",
   "execution_count": 53,
   "metadata": {
    "id": "wnh8jYXi0q1N",
    "trusted": true
   },
   "outputs": [],
   "source": [
    "surf_trafic = management_plans_df[management_plans_df['plan_name'] == 'surf']['gb']\n",
    "ultimate_trafic = management_plans_df[management_plans_df['plan_name'] == 'ultimate']['gb']"
   ]
  },
  {
   "cell_type": "code",
   "execution_count": 54,
   "metadata": {
    "trusted": true
   },
   "outputs": [
    {
     "data": {
      "image/png": "[encoded data removed]",
      "text/plain": [
       "<Figure size 1000x600 with 1 Axes>"
      ]
     },
     "metadata": {},
     "output_type": "display_data"
    }
   ],
   "source": [
    "plt.figure(figsize=(10, 6))\n",
    "plt.hist(surf_trafic, alpha=0.5, label='surf')\n",
    "plt.hist(ultimate_trafic, alpha=0.5, label='ultimate')\n",
    "\n",
    "plt.xlabel('GB')\n",
    "plt.ylabel('Frecuencia')\n",
    "plt.title('Distribución de GB por Plan')\n",
    "plt.legend()\n",
    "plt.show()"
   ]
  },
  {
   "cell_type": "code",
   "execution_count": 55,
   "metadata": {
    "trusted": true
   },
   "outputs": [
    {
     "name": "stdout",
     "output_type": "stream",
     "text": [
      "Media de GB para el plan surf: 16.325880993511312\n",
      "Varianza de GB para el plan surf: 59.28824019139141\n",
      "Media de GB para el plan ultimate: 16.834611575321627\n",
      "Varianza de GB para el plan ultimate: 58.48393247695561\n"
     ]
    }
   ],
   "source": [
    "media_trafic_surf = management_plans_df[management_plans_df['plan_name'] == 'surf']['gb'].mean()\n",
    "media_trafic_ultimate = management_plans_df[management_plans_df['plan_name'] == 'ultimate']['gb'].mean()\n",
    "varianza_trafic_surf = management_plans_df[management_plans_df['plan_name'] == 'surf']['gb'].var()\n",
    "varianza_trafic_ultimate = management_plans_df[management_plans_df['plan_name'] == 'ultimate']['gb'].var()\n",
    "\n",
    "print(f\"Media de GB para el plan surf: {media_trafic_surf}\")\n",
    "print(f\"Varianza de GB para el plan surf: {varianza_trafic_surf}\")\n",
    "print(f\"Media de GB para el plan ultimate: {media_trafic_ultimate}\")\n",
    "print(f\"Varianza de GB para el plan ultimate: {varianza_trafic_ultimate}\")"
   ]
  },
  {
   "cell_type": "code",
   "execution_count": 56,
   "metadata": {
    "trusted": true
   },
   "outputs": [
    {
     "data": {
      "text/plain": [
       "<AxesSubplot:xlabel='gb'>"
      ]
     },
     "execution_count": 56,
     "metadata": {},
     "output_type": "execute_result"
    },
    {
     "data": {
      "image/png": "[encoded data removed]",
      "text/plain": [
       "<Figure size 640x480 with 1 Axes>"
      ]
     },
     "metadata": {},
     "output_type": "display_data"
    }
   ],
   "source": [
    "average_surf_trafic = management_plans_df[management_plans_df['plan_name'] == 'surf']['gb']\n",
    "average_ultimate_trafic = management_plans_df[management_plans_df['plan_name'] == 'ultimate']['gb']\n",
    "sns.boxplot(average_surf_trafic)"
   ]
  },
  {
   "cell_type": "code",
   "execution_count": 57,
   "metadata": {
    "id": "5VlyJ9ry0q1N",
    "trusted": true
   },
   "outputs": [
    {
     "data": {
      "text/plain": [
       "<AxesSubplot:xlabel='gb'>"
      ]
     },
     "execution_count": 57,
     "metadata": {},
     "output_type": "execute_result"
    },
    {
     "data": {
      "image/png": "[encoded data removed]",
      "text/plain": [
       "<Figure size 640x480 with 1 Axes>"
      ]
     },
     "metadata": {},
     "output_type": "display_data"
    }
   ],
   "source": [
    "sns.boxplot(average_ultimate_trafic)"
   ]
  },
  {
   "cell_type": "markdown",
   "metadata": {
    "id": "UN9zwuMP0q1N"
   },
   "source": [
    "El comportamiento va muy de la mano.\n",
    "\n",
    "Vemos tanto una media como una variaza similares en ambos planes, similitud en el gráfico de cajas. A diferencia de la gráfica de barras que los primeros meses **ultimate** tiene un mayor tráfico, que el plan **surf**"
   ]
  },
  {
   "cell_type": "markdown",
   "metadata": {},
   "source": [
    "<div class=\"alert alert-block alert-success\"> <b>Comentario del revisor</b> <a class=\"tocSkip\"></a><br> <b>Éxito</b> - Excelente análisis comparativo en los apartados de mensajes y consumo de internet. Utilizaste múltiples formas de visualización y métricas descriptivas para explorar el comportamiento de los usuarios por plan. Identificaste correctamente patrones como la alta variabilidad en el envío de mensajes y el uso de datos bastante similar entre planes. Esto demuestra una capacidad sólida para interpretar resultados en función del contexto del negocio. </div>"
   ]
  },
  {
   "cell_type": "markdown",
   "metadata": {
    "id": "tCijq3260q1N"
   },
   "source": [
    "## Ingreso"
   ]
  },
  {
   "cell_type": "code",
   "execution_count": 58,
   "metadata": {
    "id": "tz-dq_V00q1O",
    "trusted": true
   },
   "outputs": [
    {
     "data": {
      "text/plain": [
       "<AxesSubplot:title={'center':'Ingresos Promedio Por Mes'}, xlabel='Mes', ylabel='Promedio de Ingresos'>"
      ]
     },
     "execution_count": 58,
     "metadata": {},
     "output_type": "execute_result"
    },
    {
     "data": {
      "image/png": "[encoded data removed]",
      "text/plain": [
       "<Figure size 640x480 with 1 Axes>"
      ]
     },
     "metadata": {},
     "output_type": "display_data"
    }
   ],
   "source": [
    "income_plan_df = management_plans_df.groupby(['plan_name','month'])['monthly_income'].mean().unstack(level=0)\n",
    "income_plan_df.plot(kind='bar',\n",
    "                       xlabel='Mes',\n",
    "                       ylabel='Promedio de Ingresos',\n",
    "                       title='Ingresos Promedio Por Mes',\n",
    "                       rot=0)"
   ]
  },
  {
   "cell_type": "code",
   "execution_count": 59,
   "metadata": {
    "trusted": true
   },
   "outputs": [],
   "source": [
    "surf_income = management_plans_df[management_plans_df['plan_name'] == 'surf']['monthly_income']\n",
    "ultimate_income = management_plans_df[management_plans_df['plan_name'] == 'ultimate']['monthly_income']"
   ]
  },
  {
   "cell_type": "code",
   "execution_count": 60,
   "metadata": {
    "trusted": true
   },
   "outputs": [
    {
     "data": {
      "image/png": "[encoded data removed]",
      "text/plain": [
       "<Figure size 1000x600 with 1 Axes>"
      ]
     },
     "metadata": {},
     "output_type": "display_data"
    }
   ],
   "source": [
    "plt.figure(figsize=(10, 6))\n",
    "plt.hist(surf_income, alpha=0.5, label='surf')\n",
    "plt.hist(ultimate_income, alpha=0.5, label='ultimate')\n",
    "\n",
    "plt.xlabel('Ingresos')\n",
    "plt.ylabel('Frecuencia')\n",
    "plt.title('Distribución de Ingresos por Plan')\n",
    "plt.legend()\n",
    "plt.show()"
   ]
  },
  {
   "cell_type": "code",
   "execution_count": 61,
   "metadata": {
    "trusted": true
   },
   "outputs": [
    {
     "name": "stdout",
     "output_type": "stream",
     "text": [
      "Media de Ingresos para el plan surf: 57.29378406756595\n",
      "Varianza de Ingresos para el plan surf: 2887.54497103938\n",
      "Media de Ingresos para el plan ultimate: 72.11607964409723\n",
      "Varianza de Ingresos para el plan ultimate: 115.96808058212822\n"
     ]
    }
   ],
   "source": [
    "media_income_surf = management_plans_df[management_plans_df['plan_name'] == 'surf']['monthly_income'].mean()\n",
    "media_income_ultimate = management_plans_df[management_plans_df['plan_name'] == 'ultimate']['monthly_income'].mean()\n",
    "varianza_income_surf = management_plans_df[management_plans_df['plan_name'] == 'surf']['monthly_income'].var()\n",
    "varianza_income_ultimate = management_plans_df[management_plans_df['plan_name'] == 'ultimate']['monthly_income'].var()\n",
    "\n",
    "print(f\"Media de Ingresos para el plan surf: {media_income_surf}\")\n",
    "print(f\"Varianza de Ingresos para el plan surf: {varianza_income_surf}\")\n",
    "print(f\"Media de Ingresos para el plan ultimate: {media_income_ultimate}\")\n",
    "print(f\"Varianza de Ingresos para el plan ultimate: {varianza_income_ultimate}\")"
   ]
  },
  {
   "cell_type": "code",
   "execution_count": 62,
   "metadata": {
    "trusted": true
   },
   "outputs": [
    {
     "data": {
      "text/plain": [
       "<AxesSubplot:xlabel='monthly_income'>"
      ]
     },
     "execution_count": 62,
     "metadata": {},
     "output_type": "execute_result"
    },
    {
     "data": {
      "image/png": "[encoded data removed]",
      "text/plain": [
       "<Figure size 640x480 with 1 Axes>"
      ]
     },
     "metadata": {},
     "output_type": "display_data"
    }
   ],
   "source": [
    "average_surf_income = management_plans_df[management_plans_df['plan_name'] == 'surf']['monthly_income']\n",
    "average_ultimate_income = management_plans_df[management_plans_df['plan_name'] == 'ultimate']['monthly_income']\n",
    "sns.boxplot(average_surf_income)"
   ]
  },
  {
   "cell_type": "code",
   "execution_count": 63,
   "metadata": {
    "id": "0Y1v8ZUz0q1P",
    "trusted": true
   },
   "outputs": [
    {
     "data": {
      "text/plain": [
       "<AxesSubplot:xlabel='monthly_income'>"
      ]
     },
     "execution_count": 63,
     "metadata": {},
     "output_type": "execute_result"
    },
    {
     "data": {
      "image/png": "[encoded data removed]",
      "text/plain": [
       "<Figure size 640x480 with 1 Axes>"
      ]
     },
     "metadata": {},
     "output_type": "display_data"
    }
   ],
   "source": [
    "sns.boxplot(average_ultimate_income)"
   ]
  },
  {
   "cell_type": "markdown",
   "metadata": {
    "id": "bYmwxyVh0q1P"
   },
   "source": [
    "Dentro de los ingresos podemos ver un comportamiento totalmente diferente, ya que vemos que los que tiene el plan ultimate, si bien es más costoso su pago mensual, los usuarios no tienden a acudir a costos adicionales, ya que su plan por el valor que pagan cubre sus necesidades, lo que no pasa con el plan surf, ya que vemos que los costos adicionales al plan suben en los meses."
   ]
  },
  {
   "cell_type": "markdown",
   "metadata": {},
   "source": [
    "<div class=\"alert alert-block alert-success\"> <b>Comentario del revisor</b> <a class=\"tocSkip\"></a><br> <b>Éxito</b> - Muy buen análisis. Has identificado claramente la diferencia clave entre ambos planes: mientras que **Ultimate** genera ingresos más estables gracias a su tarifa fija más alta, **Surf** depende más de ingresos variables por consumo adicional. Este tipo de observación es esencial para decisiones estratégicas de negocio, y lo sustentaste correctamente con estadísticas y visualizaciones. </div>"
   ]
  },
  {
   "cell_type": "markdown",
   "metadata": {
    "id": "ajJ7VKeI0q1Q"
   },
   "source": [
    "## Prueba las hipótesis estadísticas"
   ]
  },
  {
   "cell_type": "code",
   "execution_count": 64,
   "metadata": {
    "id": "nFoPNlPq0q1R",
    "trusted": true
   },
   "outputs": [
    {
     "name": "stdout",
     "output_type": "stream",
     "text": [
      "Valor p: 3.0940054419190563e-13\n",
      "Hay suficiente evidencia para rechazar la hipótesis nula.\n"
     ]
    }
   ],
   "source": [
    "# Prueba las hipótesis\n",
    "surf_income = management_plans_df[management_plans_df['plan_name'] == 'surf']['monthly_income']\n",
    "ultimate_income = management_plans_df[management_plans_df['plan_name'] == 'ultimate']['monthly_income']\n",
    "resultado_prueba_t = st.ttest_ind(surf_income, ultimate_income)\n",
    "pvalue = resultado_prueba_t.pvalue  \n",
    "alpha = 0.05\n",
    "print(f'Valor p:', pvalue)\n",
    "\n",
    "if pvalue > alpha:\n",
    "    print('No hay suficiente evidencia para rechazar la hipótesis nula.')\n",
    "else:\n",
    "    print('Hay suficiente evidencia para rechazar la hipótesis nula.')\n"
   ]
  },
  {
   "cell_type": "code",
   "execution_count": 65,
   "metadata": {
    "trusted": true
   },
   "outputs": [
    {
     "name": "stdout",
     "output_type": "stream",
     "text": [
      "57.29378406756595\n",
      "72.11607964409723\n"
     ]
    }
   ],
   "source": [
    "print(surf_income.mean())\n",
    "print(ultimate_income.mean())"
   ]
  },
  {
   "cell_type": "markdown",
   "metadata": {},
   "source": [
    "Rechazamos la hipótesis nula de que el comportamiento de los ingresos de las 2 poblaciones sean iguales, debido a que el Pvalue es pequeña. Lo que concluimos al ser tan pequeña, es que las mismas son diferentes. Utilizamos en test de **Hipótesis sobre la igualdad de las medias con 2 poblaciones independientes, (st.ttest_ind)**"
   ]
  },
  {
   "cell_type": "code",
   "execution_count": 66,
   "metadata": {
    "trusted": true
   },
   "outputs": [
    {
     "data": {
      "text/html": [
       "<div>\n",
       "<style scoped>\n",
       "    .dataframe tbody tr th:only-of-type {\n",
       "        vertical-align: middle;\n",
       "    }\n",
       "\n",
       "    .dataframe tbody tr th {\n",
       "        vertical-align: top;\n",
       "    }\n",
       "\n",
       "    .dataframe thead th {\n",
       "        text-align: right;\n",
       "    }\n",
       "</style>\n",
       "<table border=\"1\" class=\"dataframe\">\n",
       "  <thead>\n",
       "    <tr style=\"text-align: right;\">\n",
       "      <th></th>\n",
       "      <th>user_id</th>\n",
       "      <th>month</th>\n",
       "      <th>numer_calls</th>\n",
       "      <th>minutes</th>\n",
       "      <th>number_message</th>\n",
       "      <th>gb</th>\n",
       "      <th>plan_name</th>\n",
       "      <th>messages_included</th>\n",
       "      <th>mb_per_month_included</th>\n",
       "      <th>minutes_included</th>\n",
       "      <th>...</th>\n",
       "      <th>gb_per_month_included</th>\n",
       "      <th>additional_minutes</th>\n",
       "      <th>additional_sms</th>\n",
       "      <th>additional_gb</th>\n",
       "      <th>cost_additional_minutes</th>\n",
       "      <th>cost_additional_sms</th>\n",
       "      <th>cost_additional_gb</th>\n",
       "      <th>monthly_income</th>\n",
       "      <th>average_call</th>\n",
       "      <th>city</th>\n",
       "    </tr>\n",
       "  </thead>\n",
       "  <tbody>\n",
       "    <tr>\n",
       "      <th>0</th>\n",
       "      <td>1000</td>\n",
       "      <td>12</td>\n",
       "      <td>16.0</td>\n",
       "      <td>116.83</td>\n",
       "      <td>11.0</td>\n",
       "      <td>1.856904</td>\n",
       "      <td>ultimate</td>\n",
       "      <td>1000</td>\n",
       "      <td>30720</td>\n",
       "      <td>3000</td>\n",
       "      <td>...</td>\n",
       "      <td>30.0</td>\n",
       "      <td>0.0</td>\n",
       "      <td>0.0</td>\n",
       "      <td>0.000000</td>\n",
       "      <td>0.00</td>\n",
       "      <td>0.00</td>\n",
       "      <td>0.000000</td>\n",
       "      <td>70.000000</td>\n",
       "      <td>7.301875</td>\n",
       "      <td>Atlanta-Sandy Springs-Roswell, GA MSA</td>\n",
       "    </tr>\n",
       "    <tr>\n",
       "      <th>1</th>\n",
       "      <td>1001</td>\n",
       "      <td>8</td>\n",
       "      <td>27.0</td>\n",
       "      <td>171.14</td>\n",
       "      <td>30.0</td>\n",
       "      <td>6.756982</td>\n",
       "      <td>surf</td>\n",
       "      <td>50</td>\n",
       "      <td>15360</td>\n",
       "      <td>500</td>\n",
       "      <td>...</td>\n",
       "      <td>15.0</td>\n",
       "      <td>0.0</td>\n",
       "      <td>0.0</td>\n",
       "      <td>0.000000</td>\n",
       "      <td>0.00</td>\n",
       "      <td>0.00</td>\n",
       "      <td>0.000000</td>\n",
       "      <td>20.000000</td>\n",
       "      <td>6.338519</td>\n",
       "      <td>Seattle-Tacoma-Bellevue, WA MSA</td>\n",
       "    </tr>\n",
       "    <tr>\n",
       "      <th>2</th>\n",
       "      <td>1001</td>\n",
       "      <td>9</td>\n",
       "      <td>49.0</td>\n",
       "      <td>297.69</td>\n",
       "      <td>44.0</td>\n",
       "      <td>13.002754</td>\n",
       "      <td>surf</td>\n",
       "      <td>50</td>\n",
       "      <td>15360</td>\n",
       "      <td>500</td>\n",
       "      <td>...</td>\n",
       "      <td>15.0</td>\n",
       "      <td>0.0</td>\n",
       "      <td>0.0</td>\n",
       "      <td>0.000000</td>\n",
       "      <td>0.00</td>\n",
       "      <td>0.00</td>\n",
       "      <td>0.000000</td>\n",
       "      <td>20.000000</td>\n",
       "      <td>6.075306</td>\n",
       "      <td>Seattle-Tacoma-Bellevue, WA MSA</td>\n",
       "    </tr>\n",
       "    <tr>\n",
       "      <th>3</th>\n",
       "      <td>1001</td>\n",
       "      <td>10</td>\n",
       "      <td>65.0</td>\n",
       "      <td>374.11</td>\n",
       "      <td>53.0</td>\n",
       "      <td>21.807119</td>\n",
       "      <td>surf</td>\n",
       "      <td>50</td>\n",
       "      <td>15360</td>\n",
       "      <td>500</td>\n",
       "      <td>...</td>\n",
       "      <td>15.0</td>\n",
       "      <td>0.0</td>\n",
       "      <td>3.0</td>\n",
       "      <td>6.807119</td>\n",
       "      <td>0.00</td>\n",
       "      <td>0.09</td>\n",
       "      <td>68.071191</td>\n",
       "      <td>88.161191</td>\n",
       "      <td>5.755538</td>\n",
       "      <td>Seattle-Tacoma-Bellevue, WA MSA</td>\n",
       "    </tr>\n",
       "    <tr>\n",
       "      <th>4</th>\n",
       "      <td>1001</td>\n",
       "      <td>11</td>\n",
       "      <td>64.0</td>\n",
       "      <td>404.59</td>\n",
       "      <td>36.0</td>\n",
       "      <td>18.070605</td>\n",
       "      <td>surf</td>\n",
       "      <td>50</td>\n",
       "      <td>15360</td>\n",
       "      <td>500</td>\n",
       "      <td>...</td>\n",
       "      <td>15.0</td>\n",
       "      <td>0.0</td>\n",
       "      <td>0.0</td>\n",
       "      <td>3.070605</td>\n",
       "      <td>0.00</td>\n",
       "      <td>0.00</td>\n",
       "      <td>30.706055</td>\n",
       "      <td>50.706055</td>\n",
       "      <td>6.321719</td>\n",
       "      <td>Seattle-Tacoma-Bellevue, WA MSA</td>\n",
       "    </tr>\n",
       "    <tr>\n",
       "      <th>5</th>\n",
       "      <td>1001</td>\n",
       "      <td>12</td>\n",
       "      <td>56.0</td>\n",
       "      <td>392.93</td>\n",
       "      <td>44.0</td>\n",
       "      <td>18.915215</td>\n",
       "      <td>surf</td>\n",
       "      <td>50</td>\n",
       "      <td>15360</td>\n",
       "      <td>500</td>\n",
       "      <td>...</td>\n",
       "      <td>15.0</td>\n",
       "      <td>0.0</td>\n",
       "      <td>0.0</td>\n",
       "      <td>3.915215</td>\n",
       "      <td>0.00</td>\n",
       "      <td>0.00</td>\n",
       "      <td>39.152148</td>\n",
       "      <td>59.152148</td>\n",
       "      <td>7.016607</td>\n",
       "      <td>Seattle-Tacoma-Bellevue, WA MSA</td>\n",
       "    </tr>\n",
       "    <tr>\n",
       "      <th>6</th>\n",
       "      <td>1002</td>\n",
       "      <td>10</td>\n",
       "      <td>11.0</td>\n",
       "      <td>54.13</td>\n",
       "      <td>15.0</td>\n",
       "      <td>6.398447</td>\n",
       "      <td>surf</td>\n",
       "      <td>50</td>\n",
       "      <td>15360</td>\n",
       "      <td>500</td>\n",
       "      <td>...</td>\n",
       "      <td>15.0</td>\n",
       "      <td>0.0</td>\n",
       "      <td>0.0</td>\n",
       "      <td>0.000000</td>\n",
       "      <td>0.00</td>\n",
       "      <td>0.00</td>\n",
       "      <td>0.000000</td>\n",
       "      <td>20.000000</td>\n",
       "      <td>4.920909</td>\n",
       "      <td>Las Vegas-Henderson-Paradise, NV MSA</td>\n",
       "    </tr>\n",
       "    <tr>\n",
       "      <th>7</th>\n",
       "      <td>1002</td>\n",
       "      <td>11</td>\n",
       "      <td>55.0</td>\n",
       "      <td>359.76</td>\n",
       "      <td>32.0</td>\n",
       "      <td>18.891680</td>\n",
       "      <td>surf</td>\n",
       "      <td>50</td>\n",
       "      <td>15360</td>\n",
       "      <td>500</td>\n",
       "      <td>...</td>\n",
       "      <td>15.0</td>\n",
       "      <td>0.0</td>\n",
       "      <td>0.0</td>\n",
       "      <td>3.891680</td>\n",
       "      <td>0.00</td>\n",
       "      <td>0.00</td>\n",
       "      <td>38.916797</td>\n",
       "      <td>58.916797</td>\n",
       "      <td>6.541091</td>\n",
       "      <td>Las Vegas-Henderson-Paradise, NV MSA</td>\n",
       "    </tr>\n",
       "    <tr>\n",
       "      <th>8</th>\n",
       "      <td>1002</td>\n",
       "      <td>12</td>\n",
       "      <td>47.0</td>\n",
       "      <td>363.24</td>\n",
       "      <td>41.0</td>\n",
       "      <td>14.058828</td>\n",
       "      <td>surf</td>\n",
       "      <td>50</td>\n",
       "      <td>15360</td>\n",
       "      <td>500</td>\n",
       "      <td>...</td>\n",
       "      <td>15.0</td>\n",
       "      <td>0.0</td>\n",
       "      <td>0.0</td>\n",
       "      <td>0.000000</td>\n",
       "      <td>0.00</td>\n",
       "      <td>0.00</td>\n",
       "      <td>0.000000</td>\n",
       "      <td>20.000000</td>\n",
       "      <td>7.728511</td>\n",
       "      <td>Las Vegas-Henderson-Paradise, NV MSA</td>\n",
       "    </tr>\n",
       "    <tr>\n",
       "      <th>9</th>\n",
       "      <td>1003</td>\n",
       "      <td>12</td>\n",
       "      <td>149.0</td>\n",
       "      <td>1041.00</td>\n",
       "      <td>50.0</td>\n",
       "      <td>26.410293</td>\n",
       "      <td>surf</td>\n",
       "      <td>50</td>\n",
       "      <td>15360</td>\n",
       "      <td>500</td>\n",
       "      <td>...</td>\n",
       "      <td>15.0</td>\n",
       "      <td>541.0</td>\n",
       "      <td>0.0</td>\n",
       "      <td>11.410293</td>\n",
       "      <td>16.23</td>\n",
       "      <td>0.00</td>\n",
       "      <td>114.102930</td>\n",
       "      <td>150.332930</td>\n",
       "      <td>6.986577</td>\n",
       "      <td>Tulsa, OK MSA</td>\n",
       "    </tr>\n",
       "  </tbody>\n",
       "</table>\n",
       "<p>10 rows × 24 columns</p>\n",
       "</div>"
      ],
      "text/plain": [
       "   user_id  month  numer_calls  minutes  number_message         gb plan_name  \\\n",
       "0     1000     12         16.0   116.83            11.0   1.856904  ultimate   \n",
       "1     1001      8         27.0   171.14            30.0   6.756982      surf   \n",
       "2     1001      9         49.0   297.69            44.0  13.002754      surf   \n",
       "3     1001     10         65.0   374.11            53.0  21.807119      surf   \n",
       "4     1001     11         64.0   404.59            36.0  18.070605      surf   \n",
       "5     1001     12         56.0   392.93            44.0  18.915215      surf   \n",
       "6     1002     10         11.0    54.13            15.0   6.398447      surf   \n",
       "7     1002     11         55.0   359.76            32.0  18.891680      surf   \n",
       "8     1002     12         47.0   363.24            41.0  14.058828      surf   \n",
       "9     1003     12        149.0  1041.00            50.0  26.410293      surf   \n",
       "\n",
       "   messages_included  mb_per_month_included  minutes_included  ...  \\\n",
       "0               1000                  30720              3000  ...   \n",
       "1                 50                  15360               500  ...   \n",
       "2                 50                  15360               500  ...   \n",
       "3                 50                  15360               500  ...   \n",
       "4                 50                  15360               500  ...   \n",
       "5                 50                  15360               500  ...   \n",
       "6                 50                  15360               500  ...   \n",
       "7                 50                  15360               500  ...   \n",
       "8                 50                  15360               500  ...   \n",
       "9                 50                  15360               500  ...   \n",
       "\n",
       "   gb_per_month_included  additional_minutes  additional_sms  additional_gb  \\\n",
       "0                   30.0                 0.0             0.0       0.000000   \n",
       "1                   15.0                 0.0             0.0       0.000000   \n",
       "2                   15.0                 0.0             0.0       0.000000   \n",
       "3                   15.0                 0.0             3.0       6.807119   \n",
       "4                   15.0                 0.0             0.0       3.070605   \n",
       "5                   15.0                 0.0             0.0       3.915215   \n",
       "6                   15.0                 0.0             0.0       0.000000   \n",
       "7                   15.0                 0.0             0.0       3.891680   \n",
       "8                   15.0                 0.0             0.0       0.000000   \n",
       "9                   15.0               541.0             0.0      11.410293   \n",
       "\n",
       "   cost_additional_minutes  cost_additional_sms  cost_additional_gb  \\\n",
       "0                     0.00                 0.00            0.000000   \n",
       "1                     0.00                 0.00            0.000000   \n",
       "2                     0.00                 0.00            0.000000   \n",
       "3                     0.00                 0.09           68.071191   \n",
       "4                     0.00                 0.00           30.706055   \n",
       "5                     0.00                 0.00           39.152148   \n",
       "6                     0.00                 0.00            0.000000   \n",
       "7                     0.00                 0.00           38.916797   \n",
       "8                     0.00                 0.00            0.000000   \n",
       "9                    16.23                 0.00          114.102930   \n",
       "\n",
       "   monthly_income  average_call                                   city  \n",
       "0       70.000000      7.301875  Atlanta-Sandy Springs-Roswell, GA MSA  \n",
       "1       20.000000      6.338519        Seattle-Tacoma-Bellevue, WA MSA  \n",
       "2       20.000000      6.075306        Seattle-Tacoma-Bellevue, WA MSA  \n",
       "3       88.161191      5.755538        Seattle-Tacoma-Bellevue, WA MSA  \n",
       "4       50.706055      6.321719        Seattle-Tacoma-Bellevue, WA MSA  \n",
       "5       59.152148      7.016607        Seattle-Tacoma-Bellevue, WA MSA  \n",
       "6       20.000000      4.920909   Las Vegas-Henderson-Paradise, NV MSA  \n",
       "7       58.916797      6.541091   Las Vegas-Henderson-Paradise, NV MSA  \n",
       "8       20.000000      7.728511   Las Vegas-Henderson-Paradise, NV MSA  \n",
       "9      150.332930      6.986577                          Tulsa, OK MSA  \n",
       "\n",
       "[10 rows x 24 columns]"
      ]
     },
     "execution_count": 66,
     "metadata": {},
     "output_type": "execute_result"
    }
   ],
   "source": [
    "city_plans_df = management_plans_df.merge(df_users[['user_id', 'city']], on='user_id', how='left')\n",
    "city_plans_df.head(10)"
   ]
  },
  {
   "cell_type": "code",
   "execution_count": 67,
   "metadata": {
    "trusted": true
   },
   "outputs": [
    {
     "data": {
      "text/html": [
       "<div>\n",
       "<style scoped>\n",
       "    .dataframe tbody tr th:only-of-type {\n",
       "        vertical-align: middle;\n",
       "    }\n",
       "\n",
       "    .dataframe tbody tr th {\n",
       "        vertical-align: top;\n",
       "    }\n",
       "\n",
       "    .dataframe thead th {\n",
       "        text-align: right;\n",
       "    }\n",
       "</style>\n",
       "<table border=\"1\" class=\"dataframe\">\n",
       "  <thead>\n",
       "    <tr style=\"text-align: right;\">\n",
       "      <th></th>\n",
       "      <th>city</th>\n",
       "      <th>average_income</th>\n",
       "    </tr>\n",
       "  </thead>\n",
       "  <tbody>\n",
       "    <tr>\n",
       "      <th>0</th>\n",
       "      <td>Albany-Schenectady-Troy, NY MSA</td>\n",
       "      <td>140.841102</td>\n",
       "    </tr>\n",
       "    <tr>\n",
       "      <th>1</th>\n",
       "      <td>Albuquerque, NM MSA</td>\n",
       "      <td>63.234630</td>\n",
       "    </tr>\n",
       "    <tr>\n",
       "      <th>2</th>\n",
       "      <td>Atlanta-Sandy Springs-Roswell, GA MSA</td>\n",
       "      <td>73.074401</td>\n",
       "    </tr>\n",
       "    <tr>\n",
       "      <th>3</th>\n",
       "      <td>Austin-Round Rock-Georgetown, TX MSA</td>\n",
       "      <td>53.102176</td>\n",
       "    </tr>\n",
       "    <tr>\n",
       "      <th>4</th>\n",
       "      <td>Bakersfield, CA MSA</td>\n",
       "      <td>48.214673</td>\n",
       "    </tr>\n",
       "  </tbody>\n",
       "</table>\n",
       "</div>"
      ],
      "text/plain": [
       "                                    city  average_income\n",
       "0        Albany-Schenectady-Troy, NY MSA      140.841102\n",
       "1                    Albuquerque, NM MSA       63.234630\n",
       "2  Atlanta-Sandy Springs-Roswell, GA MSA       73.074401\n",
       "3   Austin-Round Rock-Georgetown, TX MSA       53.102176\n",
       "4                    Bakersfield, CA MSA       48.214673"
      ]
     },
     "execution_count": 67,
     "metadata": {},
     "output_type": "execute_result"
    }
   ],
   "source": [
    "city_income_df = city_plans_df.groupby('city')['monthly_income'].mean().reset_index(name='average_income')\n",
    "city_income_df.head()"
   ]
  },
  {
   "cell_type": "code",
   "execution_count": 71,
   "metadata": {
    "trusted": true
   },
   "outputs": [
    {
     "name": "stdout",
     "output_type": "stream",
     "text": [
      "Valor p: nan\n",
      "Hay suficiente evidencia para rechazar la hipótesis nula.\n"
     ]
    },
    {
     "name": "stderr",
     "output_type": "stream",
     "text": [
      "/tmp/ipykernel_124/1855663518.py:3: RuntimeWarning: Precision loss occurred in moment calculation due to catastrophic cancellation. This occurs when the data are nearly identical. Results may be unreliable.\n",
      "  resultado_prueba_t = st.ttest_ind(ny_income, otras_income)\n"
     ]
    }
   ],
   "source": [
    "ny_income = city_income_df[city_income_df['city'] == 'New York-Newark-Jersey City, NY-NJ-PA MSA']['average_income']\n",
    "otras_income = city_income_df[city_income_df['city'] != 'New York-Newark-Jersey City, NY-NJ-PA MSA']['average_income']\n",
    "resultado_prueba_t = st.ttest_ind(ny_income, otras_income)\n",
    "pvalue = resultado_prueba_t.pvalue\n",
    "alpha = 0.05\n",
    "print(f\"Valor p: {pvalue}\")\n",
    "\n",
    "if pvalue > alpha:\n",
    "    print(\"No hay suficiente evidencia para rechazar la hipótesis nula.\")\n",
    "else:\n",
    "    print(\"Hay suficiente evidencia para rechazar la hipótesis nula.\")"
   ]
  },
  {
   "cell_type": "markdown",
   "metadata": {},
   "source": [
    "**IMPORTANTE \n",
    "En el caso de este código he aumentado una imagen de que el codigo si funciona y se genera de manera correcta, pero lo que me dicen es que es un problema del servidor de jupyter. Sin embargo mando evidencia que este código si corre de maner correcta. NO he tenido respuesta de soprte tecnico para solucionar el problema**"
   ]
  },
  {
   "attachments": {
    "image.png": {
     "image/png": "[encoded data removed]"
    }
   },
   "cell_type": "markdown",
   "metadata": {},
   "source": [
    "![image.png](attachment:image.png)"
   ]
  },
  {
   "cell_type": "code",
   "execution_count": 70,
   "metadata": {
    "trusted": true
   },
   "outputs": [
    {
     "name": "stdout",
     "output_type": "stream",
     "text": [
      "NY 57.19048435842171\n",
      "Otras 63.567186068416305\n"
     ]
    }
   ],
   "source": [
    "print('NY',ny_income.mean())\n",
    "print('Otras', otras_income.mean())"
   ]
  },
  {
   "cell_type": "markdown",
   "metadata": {},
   "source": [
    "Rechazamos la hipótesis nula, de que el comportamiento de los ingresos de NY versus las otras ciudades sean iguales, debido a que el Pvalue es casi cercana a 1. Lo que concluimos, es que las mismas no son iguales, sin embargo con este test no podemos decir cateogóricamente que su comportamiento es diferente. Utilizamos en test de **Hipótesis sobre la igualdad de las medias con 2 poblaciones independientes, (st.ttest_ind)**"
   ]
  },
  {
   "cell_type": "markdown",
   "metadata": {},
   "source": [
    "<div class=\"alert alert-block alert-success\"> <b>Comentario del revisor</b> <a class=\"tocSkip\"></a><br> <b>Éxito</b> - Muy bien planteadas y ejecutadas las pruebas de hipótesis. Aplicaste correctamente el test de comparación de medias (`ttest_ind`) para evaluar diferencias en ingresos entre planes y entre regiones. Además, interpretaste adecuadamente el valor p y lo contextualizaste con los resultados medios, demostrando comprensión tanto estadística como del impacto en el negocio. </div>"
   ]
  },
  {
   "cell_type": "markdown",
   "metadata": {
    "id": "bbTR8UQO0q1T"
   },
   "source": [
    "## Conclusión general"
   ]
  },
  {
   "cell_type": "markdown",
   "metadata": {},
   "source": [
    "Para iniciar el tomar la desición de utilizar el metodo **(.info)** y ver los datos de manera aleatoria con el método **(.sample)** permitió conocer como estaba la data, el tipo, si había valores ausentes, la cantidad con la que estaba conformada cada tabla, y el ver aleatoriamente en este monento permitió que pueda ver más allá de los primeros datos y conocer como estaba la calidad de los mismo. \n",
    "\n",
    "El ver todas las tablas ayudó a ir intuiyendo que debería cambiar  o arrgelar para futuroa análisis, así como, ir incluyendo campos que en los análisis se podrían necesitar. El pasar el formato de fecha de tipo **objet** a tipo **datetime** era clave, si bien a simple vista podríamos haber concluido que estaba bien el formato, el tener el tipo nos permitió reconocer la corrección que había que hacer. Así mismo, aumentar nuevas columnas con el mes o con cálculos adicionales nos permitirían tener en los siguientes pasos columnas ya construidas claves en para distintos momentos. \n",
    "\n",
    "Una vez que se tenía la data corregida, aumentada los columnas necesarias, se pudo ya ir haciendo visualizaciones de cálculos adicionales en diferentes aspectos, viendo el número de mensajes por mes, de minutos, lo GB etc., en donde su utilizó el método **(.groupby)** y al unir todas estas nuevas tablas, ya nos dió un vistaso del comportamiento de los usuarios. En esta etapa era importante poder ver los primeros datos, para lo que aquí usamos el metodo **(.head)** ya que teníamos que visualmente ir viendo al mismo usuario como se hiba haciendo su comportamiento en los distintos nuevos DataFrames.\n",
    "\n",
    " Su postrior unificación con los datos de los planes, ya nos permitió cuantificar en costo, lo que implicaba el uso de los mensajes, minutos y gigas, e importantísimo sumar su valor total de los planes mensuales, y con esta data, el elaborar los gráficos de barra, histogramas, nos permite visualmente ir councluyendo como el **Plan Ultimate** a la larga, puede ser mejor, si bien es cierto el costo mensual es sumamente alto, los usuarios no se ven atrapados en pagar más de su plan, lo que no ocurre con el **Plan Surf**, pues sus usuarios constantemente, por no decir siempre incurren a pagar costos adicionales por el plan limitado que poseen. \n",
    " \n",
    " La prueba de hipótesis que se utilizó **(test.ind)** que es para comparar poblaciones independientes, nos permitió ir concluyendo sobre el rechazo de la hipótesis nula, de que las poblaciones sean iguales, si bien es cierto el pvalue en un caso es más grande y en el otro, nos permite determinar si categoricamente se rechaza la hipótessis nula."
   ]
  },
  {
   "cell_type": "markdown",
   "metadata": {},
   "source": [
    "# Comentario general del revisor "
   ]
  },
  {
   "cell_type": "markdown",
   "metadata": {},
   "source": [
    "<div class=\"alert alert-block alert-success\"> <b>Comentario del revisor</b> <a class=\"tocSkip\"></a> \n",
    "    \n",
    "¡Felicidades María! Tu proyecto está **aprobado**. Has demostrado un dominio sólido en el análisis exploratorio, enriquecimiento de datos, visualización y validación estadística, aplicando cada técnica de forma justificada y coherente con los objetivos del análisis. El enfoque paso a paso fue riguroso y bien estructurado, con una narrativa clara que conecta la transformación de datos con los hallazgos obtenidos.  \n",
    "\n",
    "**Puntos Positivos:**\n",
    "   \n",
    "- **Procesamiento de datos:** Excelente uso de `.info()`, `.sample()` y conversiones `datetime`, mostrando atención al detalle y limpieza estructurada.  \n",
    "- **Visualización y análisis gráfico:** Buenos gráficos de barras, histogramas y diagramas de caja que complementan tu análisis con claridad.  \n",
    "- **Análisis estadístico:** Aplicaste correctamente pruebas de hipótesis (`ttest_ind`) y supiste interpretar los valores p de forma contextual.  \n",
    "- **Narrativa analítica:** Muy buena justificación en cada paso, desde la limpieza hasta las conclusiones estratégicas por tipo de plan.  \n",
    "\n",
    "**Áreas para Seguir Investigando:**\n",
    "    \n",
    "- **Segmentación avanzada de usuarios:** Clasificación por perfil de uso para entender comportamientos por grupos.  \n",
    "- **Modelos predictivos de churn o consumo:** Podrías usar estos datos para predecir abandono o recomendar cambios de plan.  \n",
    "- **Optimización de tarifas:** Aplicar modelos de simulación para proponer planes personalizados o reajustes de precios.  \n",
    "- **Visualizaciones interactivas:** Explorar librerías como `plotly` o `dash` para enriquecer la experiencia del análisis.  \n",
    "\n",
    "¡Sigue así! Este tipo de trabajo detallado y bien justificado te posiciona muy bien para proyectos más complejos y análisis estratégicos.  \n",
    "</div>"
   ]
  },
  {
   "cell_type": "code",
   "execution_count": null,
   "metadata": {
    "trusted": true
   },
   "outputs": [],
   "source": []
  }
 ],
 "metadata": {
  "ExecuteTimeLog": [
   {
    "duration": 828,
    "start_time": "2021-11-16T09:21:11.304Z"
   },
   {
    "duration": 893,
    "start_time": "2021-11-16T09:21:17.728Z"
   },
   {
    "duration": 1150,
    "start_time": "2021-11-16T09:21:29.568Z"
   },
   {
    "duration": 3,
    "start_time": "2021-11-16T09:24:14.495Z"
   },
   {
    "duration": 120,
    "start_time": "2021-11-16T09:24:46.630Z"
   },
   {
    "duration": 3,
    "start_time": "2021-11-16T09:28:27.882Z"
   },
   {
    "duration": 4,
    "start_time": "2021-11-16T09:29:54.281Z"
   },
   {
    "duration": 3,
    "start_time": "2021-11-16T09:30:45.936Z"
   },
   {
    "duration": 4,
    "start_time": "2021-11-16T09:31:06.300Z"
   },
   {
    "duration": 113,
    "start_time": "2021-11-16T09:31:37.208Z"
   },
   {
    "duration": 143,
    "start_time": "2021-11-16T09:31:48.656Z"
   },
   {
    "duration": 98,
    "start_time": "2021-11-16T09:31:55.678Z"
   },
   {
    "duration": 3,
    "start_time": "2021-11-16T09:32:08.535Z"
   },
   {
    "duration": 111,
    "start_time": "2021-11-16T09:32:10.120Z"
   },
   {
    "duration": 3,
    "start_time": "2021-11-16T09:32:15.732Z"
   },
   {
    "duration": 4,
    "start_time": "2021-11-16T09:32:29.423Z"
   },
   {
    "duration": 3,
    "start_time": "2021-11-16T10:03:03.074Z"
   },
   {
    "duration": 3,
    "start_time": "2021-11-16T10:10:01.288Z"
   },
   {
    "duration": 3,
    "start_time": "2021-11-16T10:10:46.923Z"
   },
   {
    "duration": 121,
    "start_time": "2021-11-16T10:37:46.494Z"
   },
   {
    "duration": 125,
    "start_time": "2021-11-16T10:38:20.632Z"
   },
   {
    "duration": 112,
    "start_time": "2021-11-16T10:46:53.001Z"
   },
   {
    "duration": 110,
    "start_time": "2021-11-16T10:48:25.775Z"
   },
   {
    "duration": 3,
    "start_time": "2021-11-16T10:50:18.720Z"
   },
   {
    "duration": 4,
    "start_time": "2021-11-16T10:50:37.649Z"
   },
   {
    "duration": 2,
    "start_time": "2021-11-16T10:50:51.884Z"
   },
   {
    "duration": 3,
    "start_time": "2021-11-16T10:51:56.237Z"
   },
   {
    "duration": 101,
    "start_time": "2021-11-16T10:53:13.791Z"
   },
   {
    "duration": 3,
    "start_time": "2021-11-16T10:55:59.186Z"
   },
   {
    "duration": 3,
    "start_time": "2021-11-16T10:56:10.751Z"
   },
   {
    "duration": 3,
    "start_time": "2021-11-16T10:56:49.038Z"
   },
   {
    "duration": 3,
    "start_time": "2021-11-16T10:56:49.174Z"
   },
   {
    "duration": 4,
    "start_time": "2021-11-16T10:56:49.414Z"
   },
   {
    "duration": 3,
    "start_time": "2021-11-16T10:56:49.680Z"
   },
   {
    "duration": 3,
    "start_time": "2021-11-16T10:56:50.370Z"
   },
   {
    "duration": 114,
    "start_time": "2021-11-16T10:59:34.518Z"
   },
   {
    "duration": 3,
    "start_time": "2021-11-16T11:01:41.201Z"
   },
   {
    "duration": 116,
    "start_time": "2021-11-16T11:01:48.754Z"
   },
   {
    "duration": 3,
    "start_time": "2021-11-16T11:02:16.685Z"
   },
   {
    "duration": 3,
    "start_time": "2021-11-16T11:02:19.479Z"
   },
   {
    "duration": 3,
    "start_time": "2021-11-16T11:02:47.067Z"
   },
   {
    "duration": 3,
    "start_time": "2021-11-16T11:02:49.353Z"
   },
   {
    "duration": 3,
    "start_time": "2021-11-16T11:03:07.835Z"
   },
   {
    "duration": 3,
    "start_time": "2021-11-16T11:03:07.953Z"
   },
   {
    "duration": 112,
    "start_time": "2021-11-16T11:07:52.072Z"
   },
   {
    "duration": 187,
    "start_time": "2021-11-16T11:09:23.468Z"
   },
   {
    "duration": 4,
    "start_time": "2021-11-16T11:10:01.455Z"
   },
   {
    "duration": 3,
    "start_time": "2021-11-16T11:10:05.069Z"
   },
   {
    "duration": 4,
    "start_time": "2021-11-16T11:10:13.376Z"
   },
   {
    "duration": 3,
    "start_time": "2021-11-16T11:10:14.434Z"
   },
   {
    "duration": 3,
    "start_time": "2021-11-16T11:10:22.853Z"
   },
   {
    "duration": 4,
    "start_time": "2021-11-16T11:27:29.279Z"
   },
   {
    "duration": 4,
    "start_time": "2021-11-16T11:29:08.919Z"
   },
   {
    "duration": 118,
    "start_time": "2021-11-16T11:29:46.703Z"
   },
   {
    "duration": 437,
    "start_time": "2021-11-16T11:36:02.181Z"
   },
   {
    "duration": 157,
    "start_time": "2021-11-16T11:36:14.388Z"
   },
   {
    "duration": 207,
    "start_time": "2021-11-16T11:47:15.898Z"
   },
   {
    "duration": 3,
    "start_time": "2021-11-16T11:53:52.092Z"
   },
   {
    "duration": 3,
    "start_time": "2021-11-16T11:53:52.236Z"
   },
   {
    "duration": 3,
    "start_time": "2021-11-16T11:59:12.005Z"
   },
   {
    "duration": 112,
    "start_time": "2021-11-16T12:00:33.446Z"
   },
   {
    "duration": 3,
    "start_time": "2021-11-16T12:02:14.453Z"
   },
   {
    "duration": 3,
    "start_time": "2021-11-16T12:02:39.512Z"
   },
   {
    "duration": 106,
    "start_time": "2021-11-16T12:03:03.460Z"
   },
   {
    "duration": 3,
    "start_time": "2021-11-17T20:37:21.139Z"
   },
   {
    "duration": 3,
    "start_time": "2021-11-17T20:37:22.229Z"
   },
   {
    "duration": 3,
    "start_time": "2021-11-17T20:38:38.806Z"
   },
   {
    "duration": 3,
    "start_time": "2021-11-17T20:38:41.958Z"
   },
   {
    "duration": 3,
    "start_time": "2021-11-17T20:43:46.551Z"
   },
   {
    "duration": 4,
    "start_time": "2021-11-17T20:58:21.835Z"
   },
   {
    "duration": 3,
    "start_time": "2021-11-17T20:59:21.872Z"
   },
   {
    "duration": 4,
    "start_time": "2021-11-17T20:59:45.352Z"
   },
   {
    "duration": 4,
    "start_time": "2021-11-17T20:59:49.646Z"
   },
   {
    "duration": 159,
    "start_time": "2021-11-17T21:02:26.949Z"
   },
   {
    "duration": 3,
    "start_time": "2021-11-17T21:03:53.461Z"
   },
   {
    "duration": 3,
    "start_time": "2021-11-17T21:03:53.694Z"
   },
   {
    "duration": 3,
    "start_time": "2021-11-17T21:05:28.145Z"
   },
   {
    "duration": 116,
    "start_time": "2021-11-17T21:05:57.787Z"
   },
   {
    "duration": 3,
    "start_time": "2021-11-17T21:06:37.993Z"
   },
   {
    "duration": 3,
    "start_time": "2021-11-17T21:06:38.261Z"
   },
   {
    "duration": 3,
    "start_time": "2021-11-17T21:11:54.358Z"
   },
   {
    "duration": 3,
    "start_time": "2021-11-17T21:12:43.846Z"
   },
   {
    "duration": 4,
    "start_time": "2021-11-17T21:13:08.773Z"
   },
   {
    "duration": 3,
    "start_time": "2021-11-17T21:14:44.441Z"
   },
   {
    "duration": 3,
    "start_time": "2021-11-17T21:15:42.059Z"
   },
   {
    "duration": 4,
    "start_time": "2021-11-17T21:15:51.995Z"
   },
   {
    "duration": 3,
    "start_time": "2021-11-17T21:15:53.923Z"
   },
   {
    "duration": 3,
    "start_time": "2021-11-17T21:15:55.282Z"
   },
   {
    "duration": 3,
    "start_time": "2021-11-17T21:16:28.492Z"
   },
   {
    "duration": 3,
    "start_time": "2021-11-17T21:16:32.603Z"
   },
   {
    "duration": 3,
    "start_time": "2021-11-17T21:17:06.941Z"
   },
   {
    "duration": 98,
    "start_time": "2021-11-17T21:18:05.733Z"
   },
   {
    "duration": 4,
    "start_time": "2021-11-17T21:21:35.255Z"
   },
   {
    "duration": 3,
    "start_time": "2021-11-17T21:21:37.804Z"
   },
   {
    "duration": 4,
    "start_time": "2021-11-17T21:23:06.071Z"
   },
   {
    "duration": 3,
    "start_time": "2021-11-17T21:23:24.799Z"
   },
   {
    "duration": 3,
    "start_time": "2021-11-17T21:23:32.591Z"
   },
   {
    "duration": 98,
    "start_time": "2021-11-17T21:28:31.559Z"
   },
   {
    "duration": 3,
    "start_time": "2021-11-17T21:28:45.448Z"
   },
   {
    "duration": 3,
    "start_time": "2021-11-17T21:29:17.303Z"
   },
   {
    "duration": 3,
    "start_time": "2021-11-17T21:29:29.617Z"
   },
   {
    "duration": 3,
    "start_time": "2021-11-17T21:29:32.681Z"
   },
   {
    "duration": 3,
    "start_time": "2021-11-17T21:36:11.474Z"
   },
   {
    "duration": 3,
    "start_time": "2021-11-17T21:36:14.791Z"
   },
   {
    "duration": 3,
    "start_time": "2021-11-17T21:36:53.943Z"
   },
   {
    "duration": 3,
    "start_time": "2021-11-17T21:36:56.165Z"
   },
   {
    "duration": 4,
    "start_time": "2021-11-17T21:37:16.590Z"
   },
   {
    "duration": 3,
    "start_time": "2021-11-17T21:37:22.702Z"
   },
   {
    "duration": 4,
    "start_time": "2021-11-17T21:38:03.479Z"
   },
   {
    "duration": 3,
    "start_time": "2021-11-17T21:38:08.601Z"
   },
   {
    "duration": 3,
    "start_time": "2021-11-17T21:38:12.928Z"
   },
   {
    "duration": 3,
    "start_time": "2021-11-17T21:38:48.896Z"
   },
   {
    "duration": 2,
    "start_time": "2021-11-17T21:38:49.171Z"
   },
   {
    "duration": 4,
    "start_time": "2021-11-17T21:39:57.889Z"
   },
   {
    "duration": 3,
    "start_time": "2021-11-17T21:39:58.057Z"
   },
   {
    "duration": 3,
    "start_time": "2021-11-17T21:41:20.108Z"
   },
   {
    "duration": 3,
    "start_time": "2021-11-17T21:41:20.629Z"
   },
   {
    "duration": 3,
    "start_time": "2021-11-17T21:42:49.136Z"
   },
   {
    "duration": 3,
    "start_time": "2021-11-17T21:43:15.137Z"
   },
   {
    "duration": 4,
    "start_time": "2021-11-17T21:43:16.766Z"
   },
   {
    "duration": 4,
    "start_time": "2021-11-17T21:43:31.711Z"
   },
   {
    "duration": 3,
    "start_time": "2021-11-17T21:43:36.312Z"
   },
   {
    "duration": 4,
    "start_time": "2021-11-17T21:45:08.825Z"
   },
   {
    "duration": 4,
    "start_time": "2021-11-17T21:45:10.119Z"
   },
   {
    "duration": 4,
    "start_time": "2021-11-17T21:45:13.748Z"
   },
   {
    "duration": 3,
    "start_time": "2021-11-17T21:45:22.219Z"
   },
   {
    "duration": 3,
    "start_time": "2021-11-17T21:45:33.412Z"
   },
   {
    "duration": 2,
    "start_time": "2021-11-17T21:46:01.885Z"
   },
   {
    "duration": 3,
    "start_time": "2021-11-17T21:46:03.628Z"
   },
   {
    "duration": 107,
    "start_time": "2021-11-17T21:47:32.512Z"
   },
   {
    "duration": 103,
    "start_time": "2021-11-17T21:50:36.243Z"
   },
   {
    "duration": 3,
    "start_time": "2021-11-18T06:28:31.440Z"
   },
   {
    "duration": 3,
    "start_time": "2021-11-18T06:29:00.168Z"
   },
   {
    "duration": 3,
    "start_time": "2021-11-18T06:31:27.008Z"
   },
   {
    "duration": 2,
    "start_time": "2021-11-18T06:35:34.288Z"
   },
   {
    "duration": 2,
    "start_time": "2021-11-18T06:38:04.527Z"
   },
   {
    "duration": 805,
    "start_time": "2025-04-15T13:55:07.915Z"
   },
   {
    "duration": 205,
    "start_time": "2025-04-15T13:56:22.124Z"
   },
   {
    "duration": 157,
    "start_time": "2025-04-15T13:58:21.234Z"
   },
   {
    "duration": 2242,
    "start_time": "2025-04-15T14:00:02.790Z"
   },
   {
    "duration": 3,
    "start_time": "2025-04-15T14:00:12.003Z"
   },
   {
    "duration": 160,
    "start_time": "2025-04-15T14:00:15.986Z"
   },
   {
    "duration": 156,
    "start_time": "2025-04-15T14:00:37.427Z"
   },
   {
    "duration": 2,
    "start_time": "2025-04-15T14:04:00.411Z"
   },
   {
    "duration": 3,
    "start_time": "2025-04-15T14:04:16.477Z"
   },
   {
    "duration": 151,
    "start_time": "2025-04-15T14:04:18.217Z"
   },
   {
    "duration": 43,
    "start_time": "2025-04-15T14:25:51.942Z"
   },
   {
    "duration": 15,
    "start_time": "2025-04-15T14:51:07.399Z"
   },
   {
    "duration": 9,
    "start_time": "2025-04-15T14:52:10.160Z"
   },
   {
    "duration": 8,
    "start_time": "2025-04-15T14:52:14.451Z"
   },
   {
    "duration": 8,
    "start_time": "2025-04-15T14:52:15.819Z"
   },
   {
    "duration": 9,
    "start_time": "2025-04-15T14:52:17.905Z"
   },
   {
    "duration": 9,
    "start_time": "2025-04-15T14:52:20.337Z"
   },
   {
    "duration": 10,
    "start_time": "2025-04-15T15:14:10.923Z"
   },
   {
    "duration": 9,
    "start_time": "2025-04-15T15:14:31.424Z"
   },
   {
    "duration": 8,
    "start_time": "2025-04-15T15:15:19.930Z"
   },
   {
    "duration": 8,
    "start_time": "2025-04-15T15:26:46.370Z"
   },
   {
    "duration": 8,
    "start_time": "2025-04-15T15:26:58.598Z"
   },
   {
    "duration": 36,
    "start_time": "2025-04-15T15:33:40.320Z"
   },
   {
    "duration": 9,
    "start_time": "2025-04-15T15:43:15.561Z"
   },
   {
    "duration": 8,
    "start_time": "2025-04-15T15:43:18.390Z"
   },
   {
    "duration": 8,
    "start_time": "2025-04-15T15:43:46.911Z"
   },
   {
    "duration": 9,
    "start_time": "2025-04-15T15:44:33.278Z"
   },
   {
    "duration": 8,
    "start_time": "2025-04-15T15:47:39.785Z"
   },
   {
    "duration": 3,
    "start_time": "2025-04-15T15:48:38.214Z"
   },
   {
    "duration": 152,
    "start_time": "2025-04-15T15:48:44.011Z"
   },
   {
    "duration": 9,
    "start_time": "2025-04-15T15:48:46.445Z"
   },
   {
    "duration": 8,
    "start_time": "2025-04-15T15:48:49.900Z"
   },
   {
    "duration": 9,
    "start_time": "2025-04-15T15:48:55.446Z"
   },
   {
    "duration": 9,
    "start_time": "2025-04-15T15:48:58.376Z"
   },
   {
    "duration": 9,
    "start_time": "2025-04-15T15:49:02.426Z"
   },
   {
    "duration": 12,
    "start_time": "2025-04-15T15:50:25.299Z"
   },
   {
    "duration": 9,
    "start_time": "2025-04-15T15:50:42.956Z"
   },
   {
    "duration": 8,
    "start_time": "2025-04-15T15:50:56.213Z"
   },
   {
    "duration": 16,
    "start_time": "2025-04-15T16:13:14.992Z"
   },
   {
    "duration": 12,
    "start_time": "2025-04-15T16:13:26.768Z"
   },
   {
    "duration": 12,
    "start_time": "2025-04-15T16:18:40.105Z"
   },
   {
    "duration": 9,
    "start_time": "2025-04-15T16:18:50.387Z"
   },
   {
    "duration": 14,
    "start_time": "2025-04-15T16:21:43.562Z"
   },
   {
    "duration": 12,
    "start_time": "2025-04-15T16:21:55.855Z"
   },
   {
    "duration": 7,
    "start_time": "2025-04-15T17:04:42.116Z"
   },
   {
    "duration": 15,
    "start_time": "2025-04-15T17:25:27.908Z"
   },
   {
    "duration": 19,
    "start_time": "2025-04-15T17:25:40.119Z"
   },
   {
    "duration": 16,
    "start_time": "2025-04-15T17:25:59.805Z"
   },
   {
    "duration": 40,
    "start_time": "2025-04-15T17:45:03.683Z"
   },
   {
    "duration": 32,
    "start_time": "2025-04-15T17:47:55.729Z"
   },
   {
    "duration": 31,
    "start_time": "2025-04-15T17:50:28.428Z"
   },
   {
    "duration": 28,
    "start_time": "2025-04-15T17:53:04.176Z"
   },
   {
    "duration": 42,
    "start_time": "2025-04-15T17:53:16.785Z"
   },
   {
    "duration": 3,
    "start_time": "2025-04-15T19:10:35.872Z"
   },
   {
    "duration": 158,
    "start_time": "2025-04-15T19:10:37.559Z"
   },
   {
    "duration": 8,
    "start_time": "2025-04-15T19:10:39.419Z"
   },
   {
    "duration": 7,
    "start_time": "2025-04-15T19:10:41.289Z"
   },
   {
    "duration": 8,
    "start_time": "2025-04-15T19:10:44.139Z"
   },
   {
    "duration": 9,
    "start_time": "2025-04-15T19:10:45.745Z"
   },
   {
    "duration": 10,
    "start_time": "2025-04-15T19:10:47.657Z"
   },
   {
    "duration": 10,
    "start_time": "2025-04-15T19:10:49.611Z"
   },
   {
    "duration": 8,
    "start_time": "2025-04-15T19:10:52.003Z"
   },
   {
    "duration": 15,
    "start_time": "2025-04-15T19:10:54.040Z"
   },
   {
    "duration": 9,
    "start_time": "2025-04-15T19:10:55.321Z"
   },
   {
    "duration": 24,
    "start_time": "2025-04-15T19:10:56.919Z"
   },
   {
    "duration": 15,
    "start_time": "2025-04-15T19:10:58.616Z"
   },
   {
    "duration": 13,
    "start_time": "2025-04-15T19:11:00.562Z"
   },
   {
    "duration": 7,
    "start_time": "2025-04-15T19:11:02.033Z"
   },
   {
    "duration": 14,
    "start_time": "2025-04-15T19:11:04.129Z"
   },
   {
    "duration": 10,
    "start_time": "2025-04-15T19:11:05.499Z"
   },
   {
    "duration": 9,
    "start_time": "2025-04-15T19:11:07.771Z"
   },
   {
    "duration": 31,
    "start_time": "2025-04-15T19:11:09.636Z"
   },
   {
    "duration": 27,
    "start_time": "2025-04-15T19:11:11.168Z"
   },
   {
    "duration": 10,
    "start_time": "2025-04-15T19:22:35.386Z"
   },
   {
    "duration": 10,
    "start_time": "2025-04-15T19:22:47.622Z"
   },
   {
    "duration": 12,
    "start_time": "2025-04-15T19:23:48.991Z"
   },
   {
    "duration": 24,
    "start_time": "2025-04-15T19:29:27.794Z"
   },
   {
    "duration": 13,
    "start_time": "2025-04-15T19:39:16.099Z"
   },
   {
    "duration": 11,
    "start_time": "2025-04-15T19:39:27.344Z"
   },
   {
    "duration": 13,
    "start_time": "2025-04-15T19:40:05.665Z"
   },
   {
    "duration": 22,
    "start_time": "2025-04-15T19:42:42.519Z"
   },
   {
    "duration": 16,
    "start_time": "2025-04-15T21:15:09.425Z"
   },
   {
    "duration": 12,
    "start_time": "2025-04-15T21:15:25.649Z"
   },
   {
    "duration": 18,
    "start_time": "2025-04-15T21:15:35.267Z"
   },
   {
    "duration": 31,
    "start_time": "2025-04-15T21:15:53.514Z"
   },
   {
    "duration": 23,
    "start_time": "2025-04-15T21:15:59.545Z"
   },
   {
    "duration": 23,
    "start_time": "2025-04-15T21:16:06.995Z"
   },
   {
    "duration": 23,
    "start_time": "2025-04-15T21:16:14.274Z"
   },
   {
    "duration": 2538,
    "start_time": "2025-04-16T13:19:25.738Z"
   },
   {
    "duration": 214,
    "start_time": "2025-04-16T13:19:29.856Z"
   },
   {
    "duration": 10,
    "start_time": "2025-04-16T13:19:32.362Z"
   },
   {
    "duration": 10,
    "start_time": "2025-04-16T13:19:35.148Z"
   },
   {
    "duration": 8,
    "start_time": "2025-04-16T13:19:38.003Z"
   },
   {
    "duration": 10,
    "start_time": "2025-04-16T13:19:39.769Z"
   },
   {
    "duration": 9,
    "start_time": "2025-04-16T13:19:41.851Z"
   },
   {
    "duration": 10,
    "start_time": "2025-04-16T13:19:43.560Z"
   },
   {
    "duration": 8,
    "start_time": "2025-04-16T13:19:45.085Z"
   },
   {
    "duration": 15,
    "start_time": "2025-04-16T13:19:47.232Z"
   },
   {
    "duration": 9,
    "start_time": "2025-04-16T13:19:48.816Z"
   },
   {
    "duration": 25,
    "start_time": "2025-04-16T13:19:50.836Z"
   },
   {
    "duration": 17,
    "start_time": "2025-04-16T13:19:52.552Z"
   },
   {
    "duration": 11,
    "start_time": "2025-04-16T13:19:54.983Z"
   },
   {
    "duration": 10,
    "start_time": "2025-04-16T13:19:57.569Z"
   },
   {
    "duration": 10,
    "start_time": "2025-04-16T13:19:58.693Z"
   },
   {
    "duration": 14,
    "start_time": "2025-04-16T13:20:00.380Z"
   },
   {
    "duration": 14,
    "start_time": "2025-04-16T13:20:02.262Z"
   },
   {
    "duration": 9,
    "start_time": "2025-04-16T13:20:03.934Z"
   },
   {
    "duration": 13,
    "start_time": "2025-04-16T13:20:05.645Z"
   },
   {
    "duration": 12,
    "start_time": "2025-04-16T13:20:06.676Z"
   },
   {
    "duration": 15,
    "start_time": "2025-04-16T13:20:08.480Z"
   },
   {
    "duration": 8,
    "start_time": "2025-04-16T13:20:10.788Z"
   },
   {
    "duration": 33,
    "start_time": "2025-04-16T13:20:12.376Z"
   },
   {
    "duration": 26,
    "start_time": "2025-04-16T13:20:13.955Z"
   },
   {
    "duration": 25,
    "start_time": "2025-04-16T13:20:15.590Z"
   },
   {
    "duration": 23,
    "start_time": "2025-04-16T13:20:17.191Z"
   },
   {
    "duration": 4,
    "start_time": "2025-04-16T13:45:04.838Z"
   },
   {
    "duration": 8,
    "start_time": "2025-04-16T13:45:06.808Z"
   },
   {
    "duration": 12,
    "start_time": "2025-04-16T13:51:20.254Z"
   },
   {
    "duration": 13,
    "start_time": "2025-04-16T13:52:31.471Z"
   },
   {
    "duration": 11,
    "start_time": "2025-04-16T13:52:33.378Z"
   },
   {
    "duration": 22,
    "start_time": "2025-04-16T13:52:41.099Z"
   },
   {
    "duration": 11,
    "start_time": "2025-04-16T13:56:07.385Z"
   },
   {
    "duration": 8,
    "start_time": "2025-04-16T13:56:08.950Z"
   },
   {
    "duration": 9,
    "start_time": "2025-04-16T13:57:43.707Z"
   },
   {
    "duration": 11,
    "start_time": "2025-04-16T13:57:44.674Z"
   },
   {
    "duration": 11,
    "start_time": "2025-04-16T13:57:48.124Z"
   },
   {
    "duration": 11,
    "start_time": "2025-04-16T14:00:08.073Z"
   },
   {
    "duration": 12,
    "start_time": "2025-04-16T14:00:10.821Z"
   },
   {
    "duration": 10,
    "start_time": "2025-04-16T14:00:21.415Z"
   },
   {
    "duration": 11,
    "start_time": "2025-04-16T14:00:22.341Z"
   },
   {
    "duration": 14,
    "start_time": "2025-04-16T14:00:27.233Z"
   },
   {
    "duration": 16,
    "start_time": "2025-04-16T14:02:17.658Z"
   },
   {
    "duration": 17,
    "start_time": "2025-04-16T14:02:38.488Z"
   },
   {
    "duration": 158,
    "start_time": "2025-04-16T14:04:30.794Z"
   },
   {
    "duration": 880,
    "start_time": "2025-04-16T14:04:35.039Z"
   },
   {
    "duration": 844,
    "start_time": "2025-04-16T14:04:46.821Z"
   },
   {
    "duration": 189,
    "start_time": "2025-04-16T14:04:49.619Z"
   },
   {
    "duration": 9,
    "start_time": "2025-04-16T14:04:51.768Z"
   },
   {
    "duration": 9,
    "start_time": "2025-04-16T14:04:53.844Z"
   },
   {
    "duration": 8,
    "start_time": "2025-04-16T14:04:57.519Z"
   },
   {
    "duration": 9,
    "start_time": "2025-04-16T14:04:59.356Z"
   },
   {
    "duration": 10,
    "start_time": "2025-04-16T14:05:01.844Z"
   },
   {
    "duration": 9,
    "start_time": "2025-04-16T14:05:03.654Z"
   },
   {
    "duration": 4,
    "start_time": "2025-04-16T14:05:05.384Z"
   },
   {
    "duration": 9,
    "start_time": "2025-04-16T14:05:06.757Z"
   },
   {
    "duration": 11,
    "start_time": "2025-04-16T14:05:09.384Z"
   },
   {
    "duration": 16,
    "start_time": "2025-04-16T14:05:13.105Z"
   },
   {
    "duration": 10,
    "start_time": "2025-04-16T14:05:15.626Z"
   },
   {
    "duration": 24,
    "start_time": "2025-04-16T14:05:19.567Z"
   },
   {
    "duration": 17,
    "start_time": "2025-04-16T14:05:22.192Z"
   },
   {
    "duration": 13,
    "start_time": "2025-04-16T14:05:27.712Z"
   },
   {
    "duration": 9,
    "start_time": "2025-04-16T14:05:30.200Z"
   },
   {
    "duration": 10,
    "start_time": "2025-04-16T14:05:32.338Z"
   },
   {
    "duration": 11,
    "start_time": "2025-04-16T14:05:35.109Z"
   },
   {
    "duration": 12,
    "start_time": "2025-04-16T14:05:37.301Z"
   },
   {
    "duration": 14,
    "start_time": "2025-04-16T14:05:40.661Z"
   },
   {
    "duration": 9,
    "start_time": "2025-04-16T14:05:42.447Z"
   },
   {
    "duration": 12,
    "start_time": "2025-04-16T14:05:44.990Z"
   },
   {
    "duration": 12,
    "start_time": "2025-04-16T14:05:47.321Z"
   },
   {
    "duration": 22,
    "start_time": "2025-04-16T14:05:49.415Z"
   },
   {
    "duration": 8,
    "start_time": "2025-04-16T14:06:57.855Z"
   },
   {
    "duration": 22,
    "start_time": "2025-04-16T14:07:10.949Z"
   },
   {
    "duration": 13,
    "start_time": "2025-04-16T14:07:26.617Z"
   },
   {
    "duration": 12,
    "start_time": "2025-04-16T14:07:39.265Z"
   },
   {
    "duration": 11,
    "start_time": "2025-04-16T14:08:25.463Z"
   },
   {
    "duration": 18,
    "start_time": "2025-04-16T14:09:07.485Z"
   },
   {
    "duration": 17,
    "start_time": "2025-04-16T14:09:49.593Z"
   },
   {
    "duration": 9,
    "start_time": "2025-04-16T14:40:21.510Z"
   },
   {
    "duration": 10,
    "start_time": "2025-04-16T14:41:08.895Z"
   },
   {
    "duration": 764,
    "start_time": "2025-04-16T14:43:17.494Z"
   },
   {
    "duration": 163,
    "start_time": "2025-04-16T14:43:19.115Z"
   },
   {
    "duration": 10,
    "start_time": "2025-04-16T14:43:21.748Z"
   },
   {
    "duration": 10,
    "start_time": "2025-04-16T14:43:23.258Z"
   },
   {
    "duration": 9,
    "start_time": "2025-04-16T14:43:25.020Z"
   },
   {
    "duration": 9,
    "start_time": "2025-04-16T14:43:26.695Z"
   },
   {
    "duration": 9,
    "start_time": "2025-04-16T14:43:28.234Z"
   },
   {
    "duration": 10,
    "start_time": "2025-04-16T14:43:30.035Z"
   },
   {
    "duration": 10,
    "start_time": "2025-04-16T14:43:31.661Z"
   },
   {
    "duration": 5,
    "start_time": "2025-04-16T14:43:33.094Z"
   },
   {
    "duration": 9,
    "start_time": "2025-04-16T14:43:34.526Z"
   },
   {
    "duration": 11,
    "start_time": "2025-04-16T14:43:36.281Z"
   },
   {
    "duration": 15,
    "start_time": "2025-04-16T14:43:38.501Z"
   },
   {
    "duration": 9,
    "start_time": "2025-04-16T14:43:40.078Z"
   },
   {
    "duration": 24,
    "start_time": "2025-04-16T14:43:42.643Z"
   },
   {
    "duration": 18,
    "start_time": "2025-04-16T14:43:44.953Z"
   },
   {
    "duration": 12,
    "start_time": "2025-04-16T14:43:47.021Z"
   },
   {
    "duration": 8,
    "start_time": "2025-04-16T14:43:48.778Z"
   },
   {
    "duration": 11,
    "start_time": "2025-04-16T14:43:50.625Z"
   },
   {
    "duration": 10,
    "start_time": "2025-04-16T14:43:51.429Z"
   },
   {
    "duration": 11,
    "start_time": "2025-04-16T14:43:53.245Z"
   },
   {
    "duration": 16,
    "start_time": "2025-04-16T14:43:55.806Z"
   },
   {
    "duration": 11,
    "start_time": "2025-04-16T14:43:57.346Z"
   },
   {
    "duration": 13,
    "start_time": "2025-04-16T14:43:59.334Z"
   },
   {
    "duration": 12,
    "start_time": "2025-04-16T14:44:00.661Z"
   },
   {
    "duration": 17,
    "start_time": "2025-04-16T14:44:02.189Z"
   },
   {
    "duration": 9,
    "start_time": "2025-04-16T14:44:04.891Z"
   },
   {
    "duration": 17,
    "start_time": "2025-04-16T14:44:06.902Z"
   },
   {
    "duration": 13,
    "start_time": "2025-04-16T14:44:08.796Z"
   },
   {
    "duration": 15,
    "start_time": "2025-04-16T14:44:10.299Z"
   },
   {
    "duration": 12,
    "start_time": "2025-04-16T14:44:11.922Z"
   },
   {
    "duration": 23,
    "start_time": "2025-04-16T14:44:14.318Z"
   },
   {
    "duration": 19,
    "start_time": "2025-04-16T14:44:15.749Z"
   },
   {
    "duration": 10,
    "start_time": "2025-04-16T14:46:52.371Z"
   },
   {
    "duration": 12,
    "start_time": "2025-04-16T14:46:53.337Z"
   },
   {
    "duration": 6,
    "start_time": "2025-04-16T15:28:47.986Z"
   },
   {
    "duration": 6,
    "start_time": "2025-04-16T15:29:00.672Z"
   },
   {
    "duration": 21,
    "start_time": "2025-04-16T15:29:16.515Z"
   },
   {
    "duration": 7,
    "start_time": "2025-04-16T15:29:27.760Z"
   },
   {
    "duration": 283,
    "start_time": "2025-04-16T15:29:35.380Z"
   },
   {
    "duration": 501,
    "start_time": "2025-04-16T15:29:45.939Z"
   },
   {
    "duration": 3,
    "start_time": "2025-04-16T15:29:51.158Z"
   },
   {
    "duration": 793,
    "start_time": "2025-04-16T15:30:03.578Z"
   },
   {
    "duration": 163,
    "start_time": "2025-04-16T15:30:05.921Z"
   },
   {
    "duration": 9,
    "start_time": "2025-04-16T15:30:08.845Z"
   },
   {
    "duration": 9,
    "start_time": "2025-04-16T15:30:10.889Z"
   },
   {
    "duration": 9,
    "start_time": "2025-04-16T15:30:12.786Z"
   },
   {
    "duration": 8,
    "start_time": "2025-04-16T15:30:14.444Z"
   },
   {
    "duration": 11,
    "start_time": "2025-04-16T15:30:16.061Z"
   },
   {
    "duration": 9,
    "start_time": "2025-04-16T15:30:17.779Z"
   },
   {
    "duration": 10,
    "start_time": "2025-04-16T15:30:19.351Z"
   },
   {
    "duration": 5,
    "start_time": "2025-04-16T15:30:20.893Z"
   },
   {
    "duration": 8,
    "start_time": "2025-04-16T15:30:21.870Z"
   },
   {
    "duration": 11,
    "start_time": "2025-04-16T15:30:23.492Z"
   },
   {
    "duration": 15,
    "start_time": "2025-04-16T15:30:25.821Z"
   },
   {
    "duration": 10,
    "start_time": "2025-04-16T15:30:27.291Z"
   },
   {
    "duration": 16,
    "start_time": "2025-04-16T15:30:29.776Z"
   },
   {
    "duration": 13,
    "start_time": "2025-04-16T15:30:30.690Z"
   },
   {
    "duration": 17,
    "start_time": "2025-04-16T15:30:32.364Z"
   },
   {
    "duration": 15,
    "start_time": "2025-04-16T15:30:34.304Z"
   },
   {
    "duration": 8,
    "start_time": "2025-04-16T15:30:35.788Z"
   },
   {
    "duration": 10,
    "start_time": "2025-04-16T15:30:37.376Z"
   },
   {
    "duration": 11,
    "start_time": "2025-04-16T15:30:38.566Z"
   },
   {
    "duration": 12,
    "start_time": "2025-04-16T15:30:40.428Z"
   },
   {
    "duration": 16,
    "start_time": "2025-04-16T15:30:42.200Z"
   },
   {
    "duration": 10,
    "start_time": "2025-04-16T15:30:43.361Z"
   },
   {
    "duration": 12,
    "start_time": "2025-04-16T15:30:45.222Z"
   },
   {
    "duration": 11,
    "start_time": "2025-04-16T15:30:46.059Z"
   },
   {
    "duration": 17,
    "start_time": "2025-04-16T15:30:47.437Z"
   },
   {
    "duration": 7,
    "start_time": "2025-04-16T15:30:49.135Z"
   },
   {
    "duration": 16,
    "start_time": "2025-04-16T15:30:50.898Z"
   },
   {
    "duration": 15,
    "start_time": "2025-04-16T15:30:53.121Z"
   },
   {
    "duration": 11,
    "start_time": "2025-04-16T15:30:54.747Z"
   },
   {
    "duration": 12,
    "start_time": "2025-04-16T15:30:56.005Z"
   },
   {
    "duration": 18,
    "start_time": "2025-04-16T15:30:57.792Z"
   },
   {
    "duration": 19,
    "start_time": "2025-04-16T15:30:59.377Z"
   },
   {
    "duration": 7,
    "start_time": "2025-04-16T15:31:01.304Z"
   },
   {
    "duration": 6,
    "start_time": "2025-04-16T15:31:02.853Z"
   },
   {
    "duration": 23,
    "start_time": "2025-04-16T15:31:04.510Z"
   },
   {
    "duration": 8,
    "start_time": "2025-04-16T15:31:06.284Z"
   },
   {
    "duration": 283,
    "start_time": "2025-04-16T15:31:23.681Z"
   },
   {
    "duration": 20,
    "start_time": "2025-04-16T15:31:37.830Z"
   },
   {
    "duration": 20,
    "start_time": "2025-04-16T15:33:42.806Z"
   },
   {
    "duration": 486,
    "start_time": "2025-04-16T15:33:45.265Z"
   },
   {
    "duration": 2,
    "start_time": "2025-04-16T15:33:56.203Z"
   },
   {
    "duration": 25,
    "start_time": "2025-04-16T15:34:04.204Z"
   },
   {
    "duration": 68,
    "start_time": "2025-04-16T15:34:08.977Z"
   },
   {
    "duration": 766,
    "start_time": "2025-04-16T15:34:21.566Z"
   },
   {
    "duration": 158,
    "start_time": "2025-04-16T15:34:23.729Z"
   },
   {
    "duration": 10,
    "start_time": "2025-04-16T15:34:25.636Z"
   },
   {
    "duration": 10,
    "start_time": "2025-04-16T15:34:27.037Z"
   },
   {
    "duration": 10,
    "start_time": "2025-04-16T15:34:28.599Z"
   },
   {
    "duration": 9,
    "start_time": "2025-04-16T15:34:30.036Z"
   },
   {
    "duration": 9,
    "start_time": "2025-04-16T15:34:31.478Z"
   },
   {
    "duration": 10,
    "start_time": "2025-04-16T15:34:33.155Z"
   },
   {
    "duration": 9,
    "start_time": "2025-04-16T15:34:34.740Z"
   },
   {
    "duration": 4,
    "start_time": "2025-04-16T15:34:36.248Z"
   },
   {
    "duration": 9,
    "start_time": "2025-04-16T15:34:37.714Z"
   },
   {
    "duration": 12,
    "start_time": "2025-04-16T15:34:39.228Z"
   },
   {
    "duration": 16,
    "start_time": "2025-04-16T15:34:41.754Z"
   },
   {
    "duration": 9,
    "start_time": "2025-04-16T15:34:43.740Z"
   },
   {
    "duration": 15,
    "start_time": "2025-04-16T15:34:45.188Z"
   },
   {
    "duration": 12,
    "start_time": "2025-04-16T15:34:45.986Z"
   },
   {
    "duration": 18,
    "start_time": "2025-04-16T15:34:48.104Z"
   },
   {
    "duration": 15,
    "start_time": "2025-04-16T15:34:49.705Z"
   },
   {
    "duration": 8,
    "start_time": "2025-04-16T15:34:51.297Z"
   },
   {
    "duration": 11,
    "start_time": "2025-04-16T15:34:53.783Z"
   },
   {
    "duration": 11,
    "start_time": "2025-04-16T15:34:54.495Z"
   },
   {
    "duration": 12,
    "start_time": "2025-04-16T15:34:55.971Z"
   },
   {
    "duration": 14,
    "start_time": "2025-04-16T15:34:57.659Z"
   },
   {
    "duration": 10,
    "start_time": "2025-04-16T15:34:59.036Z"
   },
   {
    "duration": 13,
    "start_time": "2025-04-16T15:35:01.333Z"
   },
   {
    "duration": 11,
    "start_time": "2025-04-16T15:35:02.409Z"
   },
   {
    "duration": 17,
    "start_time": "2025-04-16T15:35:03.927Z"
   },
   {
    "duration": 8,
    "start_time": "2025-04-16T15:35:05.697Z"
   },
   {
    "duration": 16,
    "start_time": "2025-04-16T15:35:07.119Z"
   },
   {
    "duration": 16,
    "start_time": "2025-04-16T15:35:08.471Z"
   },
   {
    "duration": 13,
    "start_time": "2025-04-16T15:35:09.901Z"
   },
   {
    "duration": 12,
    "start_time": "2025-04-16T15:35:11.425Z"
   },
   {
    "duration": 19,
    "start_time": "2025-04-16T15:35:13.019Z"
   },
   {
    "duration": 20,
    "start_time": "2025-04-16T15:35:14.772Z"
   },
   {
    "duration": 6,
    "start_time": "2025-04-16T15:35:18.401Z"
   },
   {
    "duration": 6,
    "start_time": "2025-04-16T15:35:20.298Z"
   },
   {
    "duration": 23,
    "start_time": "2025-04-16T15:35:21.377Z"
   },
   {
    "duration": 7,
    "start_time": "2025-04-16T15:35:23.319Z"
   },
   {
    "duration": 311,
    "start_time": "2025-04-16T15:35:38.088Z"
   },
   {
    "duration": 20,
    "start_time": "2025-04-16T15:35:48.076Z"
   },
   {
    "duration": 495,
    "start_time": "2025-04-16T15:37:25.967Z"
   },
   {
    "duration": 74,
    "start_time": "2025-04-16T15:37:37.354Z"
   },
   {
    "duration": 65,
    "start_time": "2025-04-16T15:37:39.647Z"
   },
   {
    "duration": 18,
    "start_time": "2025-04-16T15:37:42.929Z"
   },
   {
    "duration": 6,
    "start_time": "2025-04-16T15:37:46.080Z"
   },
   {
    "duration": 6,
    "start_time": "2025-04-16T15:37:47.981Z"
   },
   {
    "duration": 23,
    "start_time": "2025-04-16T15:37:50.320Z"
   },
   {
    "duration": 96,
    "start_time": "2025-04-16T15:37:52.345Z"
   },
   {
    "duration": 7,
    "start_time": "2025-04-16T15:38:03.249Z"
   },
   {
    "duration": 19,
    "start_time": "2025-04-16T15:45:07.617Z"
   },
   {
    "duration": 20,
    "start_time": "2025-04-16T15:45:08.771Z"
   },
   {
    "duration": 19,
    "start_time": "2025-04-16T15:45:11.451Z"
   },
   {
    "duration": 7,
    "start_time": "2025-04-16T15:45:13.005Z"
   },
   {
    "duration": 6,
    "start_time": "2025-04-16T15:45:14.229Z"
   },
   {
    "duration": 21,
    "start_time": "2025-04-16T15:45:15.419Z"
   },
   {
    "duration": 7,
    "start_time": "2025-04-16T15:45:16.968Z"
   },
   {
    "duration": 8,
    "start_time": "2025-04-16T15:45:19.285Z"
   },
   {
    "duration": 6,
    "start_time": "2025-04-16T15:45:32.290Z"
   },
   {
    "duration": 4,
    "start_time": "2025-04-16T17:00:52.267Z"
   },
   {
    "duration": 3,
    "start_time": "2025-04-16T17:00:57.033Z"
   },
   {
    "duration": 175,
    "start_time": "2025-04-16T17:01:06.732Z"
   },
   {
    "duration": 5,
    "start_time": "2025-04-16T17:01:30.628Z"
   },
   {
    "duration": 161,
    "start_time": "2025-04-16T17:01:40.962Z"
   },
   {
    "duration": 8,
    "start_time": "2025-04-16T17:20:39.239Z"
   },
   {
    "duration": 90,
    "start_time": "2025-04-16T17:30:01.464Z"
   },
   {
    "duration": 89,
    "start_time": "2025-04-16T17:30:04.397Z"
   },
   {
    "duration": 157,
    "start_time": "2025-04-16T19:28:33.079Z"
   },
   {
    "duration": 2539,
    "start_time": "2025-04-16T19:28:37.096Z"
   },
   {
    "duration": 820,
    "start_time": "2025-04-16T19:28:48.271Z"
   },
   {
    "duration": 234,
    "start_time": "2025-04-16T19:28:51.175Z"
   },
   {
    "duration": 9,
    "start_time": "2025-04-16T19:28:55.895Z"
   },
   {
    "duration": 11,
    "start_time": "2025-04-16T19:28:57.953Z"
   },
   {
    "duration": 10,
    "start_time": "2025-04-16T19:28:59.898Z"
   },
   {
    "duration": 9,
    "start_time": "2025-04-16T19:29:01.474Z"
   },
   {
    "duration": 10,
    "start_time": "2025-04-16T19:29:03.229Z"
   },
   {
    "duration": 10,
    "start_time": "2025-04-16T19:29:05.108Z"
   },
   {
    "duration": 10,
    "start_time": "2025-04-16T19:29:06.649Z"
   },
   {
    "duration": 4,
    "start_time": "2025-04-16T19:29:08.098Z"
   },
   {
    "duration": 9,
    "start_time": "2025-04-16T19:29:10.579Z"
   },
   {
    "duration": 12,
    "start_time": "2025-04-16T19:29:12.448Z"
   },
   {
    "duration": 17,
    "start_time": "2025-04-16T19:29:14.606Z"
   },
   {
    "duration": 10,
    "start_time": "2025-04-16T19:29:16.159Z"
   },
   {
    "duration": 16,
    "start_time": "2025-04-16T19:29:18.151Z"
   },
   {
    "duration": 13,
    "start_time": "2025-04-16T19:29:19.435Z"
   },
   {
    "duration": 19,
    "start_time": "2025-04-16T19:29:21.304Z"
   },
   {
    "duration": 13,
    "start_time": "2025-04-16T19:29:23.152Z"
   },
   {
    "duration": 9,
    "start_time": "2025-04-16T19:29:24.534Z"
   },
   {
    "duration": 11,
    "start_time": "2025-04-16T19:29:27.882Z"
   },
   {
    "duration": 10,
    "start_time": "2025-04-16T19:29:28.750Z"
   },
   {
    "duration": 12,
    "start_time": "2025-04-16T19:29:30.482Z"
   },
   {
    "duration": 15,
    "start_time": "2025-04-16T19:29:32.538Z"
   },
   {
    "duration": 10,
    "start_time": "2025-04-16T19:29:33.961Z"
   },
   {
    "duration": 13,
    "start_time": "2025-04-16T19:29:35.722Z"
   },
   {
    "duration": 12,
    "start_time": "2025-04-16T19:29:36.594Z"
   },
   {
    "duration": 20,
    "start_time": "2025-04-16T19:29:38.497Z"
   },
   {
    "duration": 8,
    "start_time": "2025-04-16T19:29:40.793Z"
   },
   {
    "duration": 18,
    "start_time": "2025-04-16T19:29:42.640Z"
   },
   {
    "duration": 13,
    "start_time": "2025-04-16T19:29:44.265Z"
   },
   {
    "duration": 13,
    "start_time": "2025-04-16T19:29:45.941Z"
   },
   {
    "duration": 11,
    "start_time": "2025-04-16T19:29:47.707Z"
   },
   {
    "duration": 20,
    "start_time": "2025-04-16T19:29:49.233Z"
   },
   {
    "duration": 20,
    "start_time": "2025-04-16T19:29:51.999Z"
   },
   {
    "duration": 6,
    "start_time": "2025-04-16T19:29:54.734Z"
   },
   {
    "duration": 7,
    "start_time": "2025-04-16T19:29:56.369Z"
   },
   {
    "duration": 23,
    "start_time": "2025-04-16T19:29:57.836Z"
   },
   {
    "duration": 9,
    "start_time": "2025-04-16T19:29:59.808Z"
   },
   {
    "duration": 3,
    "start_time": "2025-04-16T19:30:02.198Z"
   },
   {
    "duration": 186,
    "start_time": "2025-04-16T19:30:03.276Z"
   },
   {
    "duration": 6,
    "start_time": "2025-04-16T19:30:06.778Z"
   },
   {
    "duration": 168,
    "start_time": "2025-04-16T19:30:07.696Z"
   },
   {
    "duration": 11,
    "start_time": "2025-04-16T19:30:10.874Z"
   },
   {
    "duration": 140,
    "start_time": "2025-04-16T19:30:12.379Z"
   },
   {
    "duration": 79,
    "start_time": "2025-04-16T19:30:15.344Z"
   },
   {
    "duration": 158,
    "start_time": "2025-04-16T19:31:24.867Z"
   },
   {
    "duration": 5,
    "start_time": "2025-04-16T19:31:45.625Z"
   },
   {
    "duration": 6,
    "start_time": "2025-04-16T19:31:47.842Z"
   },
   {
    "duration": 5,
    "start_time": "2025-04-16T19:31:54.861Z"
   },
   {
    "duration": 152,
    "start_time": "2025-04-16T19:32:11.368Z"
   },
   {
    "duration": 12,
    "start_time": "2025-04-16T19:48:29.525Z"
   },
   {
    "duration": 74,
    "start_time": "2025-04-16T19:48:42.093Z"
   },
   {
    "duration": 107,
    "start_time": "2025-04-16T19:48:54.477Z"
   },
   {
    "duration": 161,
    "start_time": "2025-04-16T20:01:22.181Z"
   },
   {
    "duration": 5,
    "start_time": "2025-04-16T20:01:34.717Z"
   },
   {
    "duration": 151,
    "start_time": "2025-04-16T20:01:43.918Z"
   },
   {
    "duration": 8,
    "start_time": "2025-04-16T20:01:55.038Z"
   },
   {
    "duration": 79,
    "start_time": "2025-04-16T20:02:04.353Z"
   },
   {
    "duration": 69,
    "start_time": "2025-04-16T20:02:15.802Z"
   },
   {
    "duration": 167,
    "start_time": "2025-04-16T20:23:10.497Z"
   },
   {
    "duration": 5,
    "start_time": "2025-04-16T20:23:28.044Z"
   },
   {
    "duration": 227,
    "start_time": "2025-04-16T20:23:37.287Z"
   },
   {
    "duration": 10,
    "start_time": "2025-04-16T20:23:51.560Z"
   },
   {
    "duration": 86,
    "start_time": "2025-04-16T20:24:01.001Z"
   },
   {
    "duration": 79,
    "start_time": "2025-04-16T20:24:11.298Z"
   },
   {
    "duration": 222,
    "start_time": "2025-04-16T21:25:42.571Z"
   },
   {
    "duration": 17,
    "start_time": "2025-04-16T21:25:45.201Z"
   },
   {
    "duration": 3,
    "start_time": "2025-04-16T21:26:04.816Z"
   },
   {
    "duration": 21,
    "start_time": "2025-04-16T21:26:09.902Z"
   },
   {
    "duration": 18,
    "start_time": "2025-04-16T21:26:11.613Z"
   },
   {
    "duration": 17,
    "start_time": "2025-04-16T21:26:13.646Z"
   },
   {
    "duration": 17,
    "start_time": "2025-04-16T21:26:31.626Z"
   },
   {
    "duration": 57,
    "start_time": "2025-04-16T21:27:32.056Z"
   },
   {
    "duration": 3,
    "start_time": "2025-04-16T21:28:20.665Z"
   },
   {
    "duration": 18,
    "start_time": "2025-04-16T21:28:48.298Z"
   },
   {
    "duration": 17,
    "start_time": "2025-04-16T21:29:38.356Z"
   },
   {
    "duration": 18,
    "start_time": "2025-04-16T21:29:47.342Z"
   },
   {
    "duration": 7,
    "start_time": "2025-04-16T21:30:33.166Z"
   },
   {
    "duration": 2570,
    "start_time": "2025-04-17T12:57:51.486Z"
   },
   {
    "duration": 241,
    "start_time": "2025-04-17T12:57:55.248Z"
   },
   {
    "duration": 9,
    "start_time": "2025-04-17T12:57:57.282Z"
   },
   {
    "duration": 10,
    "start_time": "2025-04-17T12:57:58.854Z"
   },
   {
    "duration": 10,
    "start_time": "2025-04-17T12:58:00.848Z"
   },
   {
    "duration": 8,
    "start_time": "2025-04-17T12:58:02.534Z"
   },
   {
    "duration": 9,
    "start_time": "2025-04-17T12:58:04.054Z"
   },
   {
    "duration": 15,
    "start_time": "2025-04-17T12:58:06.030Z"
   },
   {
    "duration": 10,
    "start_time": "2025-04-17T12:58:07.896Z"
   },
   {
    "duration": 3,
    "start_time": "2025-04-17T12:58:09.220Z"
   },
   {
    "duration": 8,
    "start_time": "2025-04-17T12:58:11.086Z"
   },
   {
    "duration": 11,
    "start_time": "2025-04-17T12:58:14.446Z"
   },
   {
    "duration": 15,
    "start_time": "2025-04-17T12:58:16.160Z"
   },
   {
    "duration": 9,
    "start_time": "2025-04-17T12:58:17.738Z"
   },
   {
    "duration": 17,
    "start_time": "2025-04-17T12:58:19.432Z"
   },
   {
    "duration": 15,
    "start_time": "2025-04-17T12:58:20.849Z"
   },
   {
    "duration": 21,
    "start_time": "2025-04-17T12:58:22.953Z"
   },
   {
    "duration": 13,
    "start_time": "2025-04-17T12:58:24.703Z"
   },
   {
    "duration": 18,
    "start_time": "2025-04-17T12:58:26.338Z"
   },
   {
    "duration": 15,
    "start_time": "2025-04-17T12:58:28.269Z"
   },
   {
    "duration": 12,
    "start_time": "2025-04-17T12:58:29.227Z"
   },
   {
    "duration": 14,
    "start_time": "2025-04-17T12:58:31.135Z"
   },
   {
    "duration": 13,
    "start_time": "2025-04-17T12:58:33.225Z"
   },
   {
    "duration": 10,
    "start_time": "2025-04-17T12:58:35.570Z"
   },
   {
    "duration": 12,
    "start_time": "2025-04-17T12:58:37.636Z"
   },
   {
    "duration": 13,
    "start_time": "2025-04-17T12:58:38.697Z"
   },
   {
    "duration": 17,
    "start_time": "2025-04-17T12:58:40.567Z"
   },
   {
    "duration": 8,
    "start_time": "2025-04-17T12:58:42.555Z"
   },
   {
    "duration": 17,
    "start_time": "2025-04-17T12:58:44.552Z"
   },
   {
    "duration": 17,
    "start_time": "2025-04-17T12:58:47.291Z"
   },
   {
    "duration": 13,
    "start_time": "2025-04-17T12:58:49.479Z"
   },
   {
    "duration": 13,
    "start_time": "2025-04-17T12:58:50.769Z"
   },
   {
    "duration": 21,
    "start_time": "2025-04-17T12:58:52.648Z"
   },
   {
    "duration": 21,
    "start_time": "2025-04-17T12:58:54.003Z"
   },
   {
    "duration": 8,
    "start_time": "2025-04-17T12:58:55.693Z"
   },
   {
    "duration": 6,
    "start_time": "2025-04-17T12:58:56.891Z"
   },
   {
    "duration": 21,
    "start_time": "2025-04-17T12:58:58.565Z"
   },
   {
    "duration": 7,
    "start_time": "2025-04-17T12:59:00.273Z"
   },
   {
    "duration": 3,
    "start_time": "2025-04-17T12:59:03.105Z"
   },
   {
    "duration": 174,
    "start_time": "2025-04-17T12:59:04.085Z"
   },
   {
    "duration": 6,
    "start_time": "2025-04-17T12:59:06.376Z"
   },
   {
    "duration": 164,
    "start_time": "2025-04-17T12:59:07.223Z"
   },
   {
    "duration": 9,
    "start_time": "2025-04-17T12:59:09.457Z"
   },
   {
    "duration": 82,
    "start_time": "2025-04-17T12:59:11.231Z"
   },
   {
    "duration": 74,
    "start_time": "2025-04-17T12:59:13.339Z"
   },
   {
    "duration": 156,
    "start_time": "2025-04-17T12:59:15.416Z"
   },
   {
    "duration": 6,
    "start_time": "2025-04-17T12:59:18.274Z"
   },
   {
    "duration": 148,
    "start_time": "2025-04-17T12:59:19.400Z"
   },
   {
    "duration": 9,
    "start_time": "2025-04-17T12:59:21.679Z"
   },
   {
    "duration": 139,
    "start_time": "2025-04-17T12:59:23.104Z"
   },
   {
    "duration": 77,
    "start_time": "2025-04-17T12:59:25.294Z"
   },
   {
    "duration": 166,
    "start_time": "2025-04-17T12:59:27.691Z"
   },
   {
    "duration": 5,
    "start_time": "2025-04-17T12:59:29.877Z"
   },
   {
    "duration": 157,
    "start_time": "2025-04-17T12:59:31.006Z"
   },
   {
    "duration": 9,
    "start_time": "2025-04-17T12:59:33.391Z"
   },
   {
    "duration": 79,
    "start_time": "2025-04-17T12:59:35.065Z"
   },
   {
    "duration": 69,
    "start_time": "2025-04-17T12:59:37.060Z"
   },
   {
    "duration": 165,
    "start_time": "2025-04-17T12:59:39.593Z"
   },
   {
    "duration": 6,
    "start_time": "2025-04-17T12:59:41.585Z"
   },
   {
    "duration": 155,
    "start_time": "2025-04-17T12:59:42.750Z"
   },
   {
    "duration": 9,
    "start_time": "2025-04-17T12:59:44.745Z"
   },
   {
    "duration": 81,
    "start_time": "2025-04-17T12:59:46.424Z"
   },
   {
    "duration": 76,
    "start_time": "2025-04-17T12:59:48.181Z"
   },
   {
    "duration": 7,
    "start_time": "2025-04-17T12:59:50.786Z"
   },
   {
    "duration": 3,
    "start_time": "2025-04-17T13:53:33.320Z"
   },
   {
    "duration": 22,
    "start_time": "2025-04-17T13:54:45.906Z"
   },
   {
    "duration": 20,
    "start_time": "2025-04-17T13:54:53.916Z"
   },
   {
    "duration": 8,
    "start_time": "2025-04-17T13:55:20.196Z"
   },
   {
    "duration": 9,
    "start_time": "2025-04-17T13:55:49.833Z"
   },
   {
    "duration": 14,
    "start_time": "2025-04-17T13:56:05.562Z"
   },
   {
    "duration": 5,
    "start_time": "2025-04-17T13:56:07.394Z"
   },
   {
    "duration": 8,
    "start_time": "2025-04-17T13:56:24.177Z"
   },
   {
    "duration": 8,
    "start_time": "2025-04-17T13:56:26.049Z"
   },
   {
    "duration": 898,
    "start_time": "2025-04-17T13:57:04.327Z"
   },
   {
    "duration": 185,
    "start_time": "2025-04-17T13:57:06.856Z"
   },
   {
    "duration": 9,
    "start_time": "2025-04-17T13:57:09.689Z"
   },
   {
    "duration": 10,
    "start_time": "2025-04-17T13:57:11.384Z"
   },
   {
    "duration": 10,
    "start_time": "2025-04-17T13:57:13.306Z"
   },
   {
    "duration": 10,
    "start_time": "2025-04-17T13:57:15.415Z"
   },
   {
    "duration": 9,
    "start_time": "2025-04-17T13:57:17.181Z"
   },
   {
    "duration": 10,
    "start_time": "2025-04-17T13:57:19.418Z"
   },
   {
    "duration": 10,
    "start_time": "2025-04-17T13:57:21.378Z"
   },
   {
    "duration": 4,
    "start_time": "2025-04-17T13:57:23.191Z"
   },
   {
    "duration": 9,
    "start_time": "2025-04-17T13:57:38.894Z"
   },
   {
    "duration": 13,
    "start_time": "2025-04-17T13:57:40.843Z"
   },
   {
    "duration": 16,
    "start_time": "2025-04-17T13:57:42.615Z"
   },
   {
    "duration": 9,
    "start_time": "2025-04-17T13:57:44.001Z"
   },
   {
    "duration": 20,
    "start_time": "2025-04-17T13:57:46.072Z"
   },
   {
    "duration": 20,
    "start_time": "2025-04-17T13:57:46.937Z"
   },
   {
    "duration": 23,
    "start_time": "2025-04-17T13:57:48.749Z"
   },
   {
    "duration": 19,
    "start_time": "2025-04-17T13:57:50.346Z"
   },
   {
    "duration": 8,
    "start_time": "2025-04-17T13:57:52.094Z"
   },
   {
    "duration": 11,
    "start_time": "2025-04-17T13:57:53.881Z"
   },
   {
    "duration": 13,
    "start_time": "2025-04-17T13:58:10.764Z"
   },
   {
    "duration": 16,
    "start_time": "2025-04-17T13:58:12.333Z"
   },
   {
    "duration": 13,
    "start_time": "2025-04-17T13:58:14.007Z"
   },
   {
    "duration": 9,
    "start_time": "2025-04-17T13:58:15.514Z"
   },
   {
    "duration": 23,
    "start_time": "2025-04-17T13:58:17.839Z"
   },
   {
    "duration": 12,
    "start_time": "2025-04-17T13:58:18.702Z"
   },
   {
    "duration": 18,
    "start_time": "2025-04-17T13:58:20.411Z"
   },
   {
    "duration": 8,
    "start_time": "2025-04-17T13:58:22.179Z"
   },
   {
    "duration": 18,
    "start_time": "2025-04-17T13:58:23.996Z"
   },
   {
    "duration": 19,
    "start_time": "2025-04-17T13:58:25.650Z"
   },
   {
    "duration": 13,
    "start_time": "2025-04-17T13:58:42.795Z"
   },
   {
    "duration": 16,
    "start_time": "2025-04-17T13:58:44.066Z"
   },
   {
    "duration": 20,
    "start_time": "2025-04-17T13:58:45.518Z"
   },
   {
    "duration": 27,
    "start_time": "2025-04-17T13:58:47.041Z"
   },
   {
    "duration": 7,
    "start_time": "2025-04-17T13:58:48.574Z"
   },
   {
    "duration": 5,
    "start_time": "2025-04-17T13:58:50.787Z"
   },
   {
    "duration": 25,
    "start_time": "2025-04-17T13:58:52.765Z"
   },
   {
    "duration": 7,
    "start_time": "2025-04-17T13:58:54.421Z"
   },
   {
    "duration": 7,
    "start_time": "2025-04-17T13:58:56.532Z"
   },
   {
    "duration": 212,
    "start_time": "2025-04-17T13:58:57.556Z"
   },
   {
    "duration": 5,
    "start_time": "2025-04-17T13:59:14.125Z"
   },
   {
    "duration": 187,
    "start_time": "2025-04-17T13:59:15.156Z"
   },
   {
    "duration": 8,
    "start_time": "2025-04-17T13:59:17.194Z"
   },
   {
    "duration": 151,
    "start_time": "2025-04-17T13:59:18.772Z"
   },
   {
    "duration": 86,
    "start_time": "2025-04-17T13:59:20.630Z"
   },
   {
    "duration": 166,
    "start_time": "2025-04-17T13:59:22.650Z"
   },
   {
    "duration": 8,
    "start_time": "2025-04-17T13:59:24.758Z"
   },
   {
    "duration": 177,
    "start_time": "2025-04-17T13:59:25.613Z"
   },
   {
    "duration": 8,
    "start_time": "2025-04-17T13:59:27.883Z"
   },
   {
    "duration": 86,
    "start_time": "2025-04-17T13:59:29.267Z"
   },
   {
    "duration": 88,
    "start_time": "2025-04-17T14:00:21.938Z"
   },
   {
    "duration": 193,
    "start_time": "2025-04-17T14:00:24.415Z"
   },
   {
    "duration": 9,
    "start_time": "2025-04-17T14:00:28.372Z"
   },
   {
    "duration": 177,
    "start_time": "2025-04-17T14:00:29.167Z"
   },
   {
    "duration": 9,
    "start_time": "2025-04-17T14:00:31.456Z"
   },
   {
    "duration": 95,
    "start_time": "2025-04-17T14:00:33.516Z"
   },
   {
    "duration": 73,
    "start_time": "2025-04-17T14:00:35.626Z"
   },
   {
    "duration": 192,
    "start_time": "2025-04-17T14:00:39.253Z"
   },
   {
    "duration": 11,
    "start_time": "2025-04-17T14:00:41.943Z"
   },
   {
    "duration": 183,
    "start_time": "2025-04-17T14:00:43.291Z"
   },
   {
    "duration": 8,
    "start_time": "2025-04-17T14:01:03.799Z"
   },
   {
    "duration": 164,
    "start_time": "2025-04-17T14:01:05.060Z"
   },
   {
    "duration": 88,
    "start_time": "2025-04-17T14:01:07.204Z"
   },
   {
    "duration": 7,
    "start_time": "2025-04-17T14:01:09.068Z"
   },
   {
    "duration": 3,
    "start_time": "2025-04-17T14:01:10.594Z"
   },
   {
    "duration": 22,
    "start_time": "2025-04-17T14:01:12.271Z"
   },
   {
    "duration": 8,
    "start_time": "2025-04-17T14:01:16.703Z"
   },
   {
    "duration": 7,
    "start_time": "2025-04-17T14:01:18.794Z"
   },
   {
    "duration": 5,
    "start_time": "2025-04-17T14:02:31.394Z"
   },
   {
    "duration": 6,
    "start_time": "2025-04-17T14:02:34.587Z"
   },
   {
    "duration": 6,
    "start_time": "2025-04-17T14:03:09.919Z"
   },
   {
    "duration": 8,
    "start_time": "2025-04-17T14:07:09.380Z"
   },
   {
    "duration": 7,
    "start_time": "2025-04-17T14:07:12.037Z"
   },
   {
    "duration": 22,
    "start_time": "2025-04-17T14:07:56.210Z"
   },
   {
    "duration": 8,
    "start_time": "2025-04-17T14:07:58.715Z"
   },
   {
    "duration": 6,
    "start_time": "2025-04-17T14:08:00.768Z"
   },
   {
    "duration": 835,
    "start_time": "2025-04-17T14:11:36.101Z"
   },
   {
    "duration": 3,
    "start_time": "2025-04-17T14:15:08.349Z"
   },
   {
    "duration": 805,
    "start_time": "2025-04-17T14:15:25.221Z"
   },
   {
    "duration": 175,
    "start_time": "2025-04-17T14:15:27.461Z"
   },
   {
    "duration": 13,
    "start_time": "2025-04-17T14:16:35.567Z"
   },
   {
    "duration": 858,
    "start_time": "2025-04-17T14:16:52.504Z"
   },
   {
    "duration": 188,
    "start_time": "2025-04-17T14:16:54.346Z"
   },
   {
    "duration": 10,
    "start_time": "2025-04-17T14:16:56.581Z"
   },
   {
    "duration": 12,
    "start_time": "2025-04-17T14:16:58.144Z"
   },
   {
    "duration": 17,
    "start_time": "2025-04-17T14:17:00.172Z"
   },
   {
    "duration": 8,
    "start_time": "2025-04-17T14:17:01.812Z"
   },
   {
    "duration": 14,
    "start_time": "2025-04-17T14:17:03.545Z"
   },
   {
    "duration": 11,
    "start_time": "2025-04-17T14:17:05.739Z"
   },
   {
    "duration": 9,
    "start_time": "2025-04-17T14:17:07.304Z"
   },
   {
    "duration": 3,
    "start_time": "2025-04-17T14:17:09.087Z"
   },
   {
    "duration": 13,
    "start_time": "2025-04-17T14:17:10.027Z"
   },
   {
    "duration": 14,
    "start_time": "2025-04-17T14:17:11.596Z"
   },
   {
    "duration": 15,
    "start_time": "2025-04-17T14:17:13.508Z"
   },
   {
    "duration": 11,
    "start_time": "2025-04-17T14:17:14.870Z"
   },
   {
    "duration": 24,
    "start_time": "2025-04-17T14:17:16.852Z"
   },
   {
    "duration": 16,
    "start_time": "2025-04-17T14:17:17.660Z"
   },
   {
    "duration": 24,
    "start_time": "2025-04-17T14:17:20.557Z"
   },
   {
    "duration": 15,
    "start_time": "2025-04-17T14:17:22.068Z"
   },
   {
    "duration": 9,
    "start_time": "2025-04-17T14:17:24.267Z"
   },
   {
    "duration": 11,
    "start_time": "2025-04-17T14:17:26.579Z"
   },
   {
    "duration": 10,
    "start_time": "2025-04-17T14:17:27.396Z"
   },
   {
    "duration": 15,
    "start_time": "2025-04-17T14:17:28.946Z"
   },
   {
    "duration": 14,
    "start_time": "2025-04-17T14:17:30.912Z"
   },
   {
    "duration": 12,
    "start_time": "2025-04-17T14:17:32.148Z"
   },
   {
    "duration": 15,
    "start_time": "2025-04-17T14:17:35.123Z"
   },
   {
    "duration": 14,
    "start_time": "2025-04-17T14:17:36.244Z"
   },
   {
    "duration": 16,
    "start_time": "2025-04-17T14:17:38.492Z"
   },
   {
    "duration": 10,
    "start_time": "2025-04-17T14:17:39.959Z"
   },
   {
    "duration": 16,
    "start_time": "2025-04-17T14:17:41.288Z"
   },
   {
    "duration": 15,
    "start_time": "2025-04-17T14:17:43.018Z"
   },
   {
    "duration": 18,
    "start_time": "2025-04-17T14:17:44.351Z"
   },
   {
    "duration": 18,
    "start_time": "2025-04-17T14:17:46.427Z"
   },
   {
    "duration": 21,
    "start_time": "2025-04-17T14:17:48.068Z"
   },
   {
    "duration": 22,
    "start_time": "2025-04-17T14:17:49.840Z"
   },
   {
    "duration": 7,
    "start_time": "2025-04-17T14:17:51.380Z"
   },
   {
    "duration": 7,
    "start_time": "2025-04-17T14:17:53.041Z"
   },
   {
    "duration": 24,
    "start_time": "2025-04-17T14:17:54.869Z"
   },
   {
    "duration": 13,
    "start_time": "2025-04-17T14:17:56.361Z"
   },
   {
    "duration": 4,
    "start_time": "2025-04-17T14:17:58.820Z"
   },
   {
    "duration": 275,
    "start_time": "2025-04-17T14:17:59.653Z"
   },
   {
    "duration": 6,
    "start_time": "2025-04-17T14:18:02.323Z"
   },
   {
    "duration": 266,
    "start_time": "2025-04-17T14:18:03.095Z"
   },
   {
    "duration": 11,
    "start_time": "2025-04-17T14:18:05.527Z"
   },
   {
    "duration": 142,
    "start_time": "2025-04-17T14:18:07.277Z"
   },
   {
    "duration": 86,
    "start_time": "2025-04-17T14:18:08.986Z"
   },
   {
    "duration": 185,
    "start_time": "2025-04-17T14:18:11.013Z"
   },
   {
    "duration": 6,
    "start_time": "2025-04-17T14:18:13.241Z"
   },
   {
    "duration": 167,
    "start_time": "2025-04-17T14:18:14.476Z"
   },
   {
    "duration": 9,
    "start_time": "2025-04-17T14:18:16.830Z"
   },
   {
    "duration": 86,
    "start_time": "2025-04-17T14:18:18.579Z"
   },
   {
    "duration": 94,
    "start_time": "2025-04-17T14:18:21.320Z"
   },
   {
    "duration": 192,
    "start_time": "2025-04-17T14:18:23.249Z"
   },
   {
    "duration": 5,
    "start_time": "2025-04-17T14:18:24.969Z"
   },
   {
    "duration": 175,
    "start_time": "2025-04-17T14:18:25.974Z"
   },
   {
    "duration": 7,
    "start_time": "2025-04-17T14:18:28.223Z"
   },
   {
    "duration": 97,
    "start_time": "2025-04-17T14:18:29.595Z"
   },
   {
    "duration": 84,
    "start_time": "2025-04-17T14:18:31.703Z"
   },
   {
    "duration": 193,
    "start_time": "2025-04-17T14:18:33.501Z"
   },
   {
    "duration": 5,
    "start_time": "2025-04-17T14:18:35.598Z"
   },
   {
    "duration": 176,
    "start_time": "2025-04-17T14:18:36.945Z"
   },
   {
    "duration": 12,
    "start_time": "2025-04-17T14:18:39.166Z"
   },
   {
    "duration": 158,
    "start_time": "2025-04-17T14:18:40.447Z"
   },
   {
    "duration": 79,
    "start_time": "2025-04-17T14:18:42.722Z"
   },
   {
    "duration": 6,
    "start_time": "2025-04-17T14:18:44.586Z"
   },
   {
    "duration": 4,
    "start_time": "2025-04-17T14:18:45.858Z"
   },
   {
    "duration": 28,
    "start_time": "2025-04-17T14:18:47.655Z"
   },
   {
    "duration": 9,
    "start_time": "2025-04-17T14:18:51.114Z"
   },
   {
    "duration": 7,
    "start_time": "2025-04-17T14:18:53.020Z"
   },
   {
    "duration": 5,
    "start_time": "2025-04-17T14:35:49.001Z"
   },
   {
    "duration": 3,
    "start_time": "2025-04-17T14:36:42.516Z"
   },
   {
    "duration": 7,
    "start_time": "2025-04-17T14:36:54.050Z"
   }
  ],
  "colab": {
   "provenance": []
  },
  "kernelspec": {
   "display_name": "Python 3 (ipykernel)",
   "language": "python",
   "name": "python3"
  },
  "language_info": {
   "codemirror_mode": {
    "name": "ipython",
    "version": 3
   },
   "file_extension": ".py",
   "mimetype": "text/x-python",
   "name": "python",
   "nbconvert_exporter": "python",
   "pygments_lexer": "ipython3",
   "version": "3.9.19"
  },
  "toc": {
   "base_numbering": 1,
   "nav_menu": {},
   "number_sections": true,
   "sideBar": true,
   "skip_h1_title": false,
   "title_cell": "Table of Contents",
   "title_sidebar": "Contents",
   "toc_cell": false,
   "toc_position": {},
   "toc_section_display": true,
   "toc_window_display": true
  }
 },
 "nbformat": 4,
 "nbformat_minor": 1
}
